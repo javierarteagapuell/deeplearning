{
  "nbformat": 4,
  "nbformat_minor": 0,
  "metadata": {
    "colab": {
      "provenance": [],
      "collapsed_sections": [],
      "authorship_tag": "ABX9TyMwNwG1LmSdC4H6F5ktKacn",
      "include_colab_link": true
    },
    "kernelspec": {
      "name": "python3",
      "display_name": "Python 3"
    },
    "language_info": {
      "name": "python"
    },
    "accelerator": "TPU",
    "gpuClass": "standard"
  },
  "cells": [
    {
      "cell_type": "markdown",
      "metadata": {
        "id": "view-in-github",
        "colab_type": "text"
      },
      "source": [
        "<a href=\"https://colab.research.google.com/github/javierarteagapuell/deeplearning/blob/main/PRACTICA_Fashion_MNIST.ipynb\" target=\"_parent\"><img src=\"https://colab.research.google.com/assets/colab-badge.svg\" alt=\"Open In Colab\"/></a>"
      ]
    },
    {
      "cell_type": "code",
      "execution_count": 377,
      "metadata": {
        "id": "Kj0gniXK4uEd"
      },
      "outputs": [],
      "source": [
        "from tensorflow import keras\n",
        "from tensorflow.keras import layers\n",
        "import numpy as np"
      ]
    },
    {
      "cell_type": "markdown",
      "source": [
        "s"
      ],
      "metadata": {
        "id": "PtM5VECf5oDf"
      }
    },
    {
      "cell_type": "code",
      "source": [
        "from keras.datasets import fashion_mnist "
      ],
      "metadata": {
        "id": "ceq8WM5X5pe2"
      },
      "execution_count": 378,
      "outputs": []
    },
    {
      "cell_type": "markdown",
      "source": [
        "s"
      ],
      "metadata": {
        "id": "jzReK10H7AfF"
      }
    },
    {
      "cell_type": "code",
      "source": [
        "(train_data, train_labels), (test_data, test_labels) = fashion_mnist.load_data()"
      ],
      "metadata": {
        "id": "mzpV04AT7BUO"
      },
      "execution_count": 379,
      "outputs": []
    },
    {
      "cell_type": "markdown",
      "source": [],
      "metadata": {
        "id": "haPzOOrG5mR1"
      }
    },
    {
      "cell_type": "markdown",
      "source": [
        "s"
      ],
      "metadata": {
        "id": "W_I1JY-L8Jhl"
      }
    },
    {
      "cell_type": "code",
      "source": [
        "len(train_data)"
      ],
      "metadata": {
        "colab": {
          "base_uri": "https://localhost:8080/"
        },
        "id": "inZi5pdR8KeS",
        "outputId": "ed1a5cc5-8ca6-4040-a082-137627599ffd"
      },
      "execution_count": 380,
      "outputs": [
        {
          "output_type": "execute_result",
          "data": {
            "text/plain": [
              "60000"
            ]
          },
          "metadata": {},
          "execution_count": 380
        }
      ]
    },
    {
      "cell_type": "markdown",
      "source": [
        "s"
      ],
      "metadata": {
        "id": "o_iS-Nu08NdT"
      }
    },
    {
      "cell_type": "code",
      "source": [
        "len(test_data)"
      ],
      "metadata": {
        "colab": {
          "base_uri": "https://localhost:8080/"
        },
        "id": "vIthQGi08OTd",
        "outputId": "f874eaa6-4043-49cd-b9ad-55ad75120de8"
      },
      "execution_count": 381,
      "outputs": [
        {
          "output_type": "execute_result",
          "data": {
            "text/plain": [
              "10000"
            ]
          },
          "metadata": {},
          "execution_count": 381
        }
      ]
    },
    {
      "cell_type": "markdown",
      "source": [
        "s"
      ],
      "metadata": {
        "id": "3TRqQrP_9G81"
      }
    },
    {
      "cell_type": "code",
      "source": [
        "print(train_data.shape)\n",
        "print(test_data.shape)"
      ],
      "metadata": {
        "colab": {
          "base_uri": "https://localhost:8080/"
        },
        "id": "jS6NDPmSRsWx",
        "outputId": "2a2feda9-9a5e-4339-eadd-323498bfc9ff"
      },
      "execution_count": 382,
      "outputs": [
        {
          "output_type": "stream",
          "name": "stdout",
          "text": [
            "(60000, 28, 28)\n",
            "(10000, 28, 28)\n"
          ]
        }
      ]
    },
    {
      "cell_type": "markdown",
      "source": [
        "s"
      ],
      "metadata": {
        "id": "oqUS89i0Rxqp"
      }
    },
    {
      "cell_type": "code",
      "source": [
        "train_data = train_data.reshape((60000, 28 * 28))\n",
        "print(train_data)\n",
        "print(np.matrix(train_data[3000]))"
      ],
      "metadata": {
        "colab": {
          "base_uri": "https://localhost:8080/"
        },
        "id": "9FhG-daMMP5f",
        "outputId": "6e87f693-f580-4ec6-f2a5-921500e82f2d"
      },
      "execution_count": 383,
      "outputs": [
        {
          "output_type": "stream",
          "name": "stdout",
          "text": [
            "[[0 0 0 ... 0 0 0]\n",
            " [0 0 0 ... 0 0 0]\n",
            " [0 0 0 ... 0 0 0]\n",
            " ...\n",
            " [0 0 0 ... 0 0 0]\n",
            " [0 0 0 ... 0 0 0]\n",
            " [0 0 0 ... 0 0 0]]\n",
            "[[  0   0   0   0   0   0   0   0   1   1   0   0 120 131  91 147  30   0\n",
            "    0   1   1   0   0   0   0   0   0   0   0   0   0   0   0   0   1   3\n",
            "    0   0   0   0 251 199 172 195 152   0   0   0   0   3   1   0   0   0\n",
            "    0   0   0   0   0   0   0   0   0   0   0  43 124 193 166 239 255 216\n",
            "  172 228 126  61   0   0   0   0   0   0   0   0   0   0   0   0   0   0\n",
            "    0  96 167 155 159 171 178 211 215 210 196 189 158 164 159 108   0   0\n",
            "    0   0   0   0   0   0   0   0   0   0  83 157 131 117 120 148 148 145\n",
            "  178 159 174 160 123 132 142 172  38   0   0   0   0   0   0   0   0   0\n",
            "    0   0 159 128 118 120 122 112  93 124 161 109 128 128 129 146 138 167\n",
            "  122   0   0   0   0   0   0   0   0   0   0   0 171 135 120 114 118 119\n",
            "  107 125 123 117 124 124 119 145 147 166 148   0   0   0   0   0   0   0\n",
            "    0   0   0   4 171 138 126 120 117 118 102 122 145 111 120 122 120 152\n",
            "  154 155 170   0   0   0   0   0   0   0   0   0   0  31 170 129 138 125\n",
            "  113 106 103 118 137 108 135 130 158 182 138 143 186   0   0   0   0   0\n",
            "    0   0   0   0   0  58 163 114 137 143 119 103 100 109 118 109 129 134\n",
            "  172 181 131 136 190   0   0   0   0   0   0   0   0   0   0  76 160 113\n",
            "  141 148 128 111 101 116 137 111 131 142 167 183 136 120 186  12   0   0\n",
            "    0   0   0   0   0   0   0 100 148 108 147 147 134 120 105 116 131 116\n",
            "  136 137 165 192 137 113 187  30   0   0   0   0   0   0   0   0   0 114\n",
            "  143 108 158 147 130 125 106 114 122 119 129 134 160 196 136 109 182  51\n",
            "    0   0   0   0   0   0   0   0   0 120 140 117 151 148 131 124 109 120\n",
            "  143 120 130 128 159 188 111 108 178  66   0   0   0   0   0   0   0   0\n",
            "    0 125 129 128 112 145 140 122 113 118 134 117 132 128 166 157  91 120\n",
            "  170  74   0   0   0   0   0   0   0   0   0 126 123 138  74 140 143 124\n",
            "  111 112 126 120 130 129 175 120  88 128 164  91   0   0   0   0   0   0\n",
            "    0   0   0 124 123 157  45 145 143 124 113 119 148 122 131 129 183  90\n",
            "   73 137 155  99   0   0   0   0   0   0   0   0   0 118 122 167   0 143\n",
            "  149 122 112 118 137 116 132 126 183  73  50 152 147 101   0   0   0   0\n",
            "    0   0   0   0   0 111 128 164   0 142 151 122 111 117 132 120 136 125\n",
            "  182  90  18 164 145 107   0   0   0   0   0   0   0   0   0 109 132 158\n",
            "    0 146 148 120 108 125 157 120 136 131 176 111   0 164 143 118   0   0\n",
            "    0   0   0   0   0   0   0 111 141 140   0 148 149 120 114 123 137 124\n",
            "  137 131 171 135   0 157 147 125   0   0   0   0   0   0   0   0   0 111\n",
            "  154 111   0 155 148 118 116 124 143 123 131 129 167 155   0 129 157 129\n",
            "    0   0   0   0   0   0   0   0   0 109 155  87   0 157 145 119 117 126\n",
            "  154 126 130 123 161 160   0  97 163 130   0   0   0   0   0   0   0   0\n",
            "    0 124 142  54   0 149 141 119 119 124 136 129 126 120 153 175   0  76\n",
            "  145 137   0   0   0   0   0   0   0   0   0 136 151  47   0 149 137 119\n",
            "  118 126 143 132 130 123 153 172   0  66 148 154   0   0   0   0   0   0\n",
            "    0   0   0 109 174  48   0 154 138 119 117 124 138 130 129 125 159 167\n",
            "    0  58 174 128   0   0   0   0   0   0   0   0   0   0   0   0   0  85\n",
            "  182 147 136 143 158 146 148 153 199  70   0   0   0   0   0   0   0   0\n",
            "    0   0   0   0   0   0   0   0   0   0  26  54  72  83  96  85  80  61\n",
            "   14   0   0   0   0   0   0   0   0   0]]\n"
          ]
        }
      ]
    },
    {
      "cell_type": "markdown",
      "source": [
        "s"
      ],
      "metadata": {
        "id": "Hj2ys7KKMb60"
      }
    },
    {
      "cell_type": "code",
      "source": [
        "train_data = train_data.astype('float32') / 255\n",
        "train_data[3000]"
      ],
      "metadata": {
        "colab": {
          "base_uri": "https://localhost:8080/"
        },
        "id": "ntwKe2w7NUHQ",
        "outputId": "87d6bcc7-f3a8-43c4-8c5c-faed4a2deb9a"
      },
      "execution_count": 384,
      "outputs": [
        {
          "output_type": "execute_result",
          "data": {
            "text/plain": [
              "array([0.        , 0.        , 0.        , 0.        , 0.        ,\n",
              "       0.        , 0.        , 0.        , 0.00392157, 0.00392157,\n",
              "       0.        , 0.        , 0.47058824, 0.5137255 , 0.35686275,\n",
              "       0.5764706 , 0.11764706, 0.        , 0.        , 0.00392157,\n",
              "       0.00392157, 0.        , 0.        , 0.        , 0.        ,\n",
              "       0.        , 0.        , 0.        , 0.        , 0.        ,\n",
              "       0.        , 0.        , 0.        , 0.        , 0.00392157,\n",
              "       0.01176471, 0.        , 0.        , 0.        , 0.        ,\n",
              "       0.9843137 , 0.78039217, 0.6745098 , 0.7647059 , 0.59607846,\n",
              "       0.        , 0.        , 0.        , 0.        , 0.01176471,\n",
              "       0.00392157, 0.        , 0.        , 0.        , 0.        ,\n",
              "       0.        , 0.        , 0.        , 0.        , 0.        ,\n",
              "       0.        , 0.        , 0.        , 0.        , 0.        ,\n",
              "       0.16862746, 0.4862745 , 0.75686276, 0.6509804 , 0.9372549 ,\n",
              "       1.        , 0.84705883, 0.6745098 , 0.89411765, 0.49411765,\n",
              "       0.23921569, 0.        , 0.        , 0.        , 0.        ,\n",
              "       0.        , 0.        , 0.        , 0.        , 0.        ,\n",
              "       0.        , 0.        , 0.        , 0.        , 0.        ,\n",
              "       0.        , 0.3764706 , 0.654902  , 0.60784316, 0.62352943,\n",
              "       0.67058825, 0.69803923, 0.827451  , 0.84313726, 0.8235294 ,\n",
              "       0.76862746, 0.7411765 , 0.61960787, 0.6431373 , 0.62352943,\n",
              "       0.42352942, 0.        , 0.        , 0.        , 0.        ,\n",
              "       0.        , 0.        , 0.        , 0.        , 0.        ,\n",
              "       0.        , 0.        , 0.        , 0.3254902 , 0.6156863 ,\n",
              "       0.5137255 , 0.45882353, 0.47058824, 0.5803922 , 0.5803922 ,\n",
              "       0.5686275 , 0.69803923, 0.62352943, 0.68235296, 0.627451  ,\n",
              "       0.48235294, 0.5176471 , 0.5568628 , 0.6745098 , 0.14901961,\n",
              "       0.        , 0.        , 0.        , 0.        , 0.        ,\n",
              "       0.        , 0.        , 0.        , 0.        , 0.        ,\n",
              "       0.        , 0.62352943, 0.5019608 , 0.4627451 , 0.47058824,\n",
              "       0.47843137, 0.4392157 , 0.3647059 , 0.4862745 , 0.6313726 ,\n",
              "       0.42745098, 0.5019608 , 0.5019608 , 0.5058824 , 0.57254905,\n",
              "       0.5411765 , 0.654902  , 0.47843137, 0.        , 0.        ,\n",
              "       0.        , 0.        , 0.        , 0.        , 0.        ,\n",
              "       0.        , 0.        , 0.        , 0.        , 0.67058825,\n",
              "       0.5294118 , 0.47058824, 0.44705883, 0.4627451 , 0.46666667,\n",
              "       0.41960785, 0.49019608, 0.48235294, 0.45882353, 0.4862745 ,\n",
              "       0.4862745 , 0.46666667, 0.5686275 , 0.5764706 , 0.6509804 ,\n",
              "       0.5803922 , 0.        , 0.        , 0.        , 0.        ,\n",
              "       0.        , 0.        , 0.        , 0.        , 0.        ,\n",
              "       0.        , 0.01568628, 0.67058825, 0.5411765 , 0.49411765,\n",
              "       0.47058824, 0.45882353, 0.4627451 , 0.4       , 0.47843137,\n",
              "       0.5686275 , 0.43529412, 0.47058824, 0.47843137, 0.47058824,\n",
              "       0.59607846, 0.6039216 , 0.60784316, 0.6666667 , 0.        ,\n",
              "       0.        , 0.        , 0.        , 0.        , 0.        ,\n",
              "       0.        , 0.        , 0.        , 0.        , 0.12156863,\n",
              "       0.6666667 , 0.5058824 , 0.5411765 , 0.49019608, 0.44313726,\n",
              "       0.41568628, 0.40392157, 0.4627451 , 0.5372549 , 0.42352942,\n",
              "       0.5294118 , 0.50980395, 0.61960787, 0.7137255 , 0.5411765 ,\n",
              "       0.56078434, 0.7294118 , 0.        , 0.        , 0.        ,\n",
              "       0.        , 0.        , 0.        , 0.        , 0.        ,\n",
              "       0.        , 0.        , 0.22745098, 0.6392157 , 0.44705883,\n",
              "       0.5372549 , 0.56078434, 0.46666667, 0.40392157, 0.39215687,\n",
              "       0.42745098, 0.4627451 , 0.42745098, 0.5058824 , 0.5254902 ,\n",
              "       0.6745098 , 0.70980394, 0.5137255 , 0.53333336, 0.74509805,\n",
              "       0.        , 0.        , 0.        , 0.        , 0.        ,\n",
              "       0.        , 0.        , 0.        , 0.        , 0.        ,\n",
              "       0.29803923, 0.627451  , 0.44313726, 0.5529412 , 0.5803922 ,\n",
              "       0.5019608 , 0.43529412, 0.39607844, 0.45490196, 0.5372549 ,\n",
              "       0.43529412, 0.5137255 , 0.5568628 , 0.654902  , 0.7176471 ,\n",
              "       0.53333336, 0.47058824, 0.7294118 , 0.04705882, 0.        ,\n",
              "       0.        , 0.        , 0.        , 0.        , 0.        ,\n",
              "       0.        , 0.        , 0.        , 0.39215687, 0.5803922 ,\n",
              "       0.42352942, 0.5764706 , 0.5764706 , 0.5254902 , 0.47058824,\n",
              "       0.4117647 , 0.45490196, 0.5137255 , 0.45490196, 0.53333336,\n",
              "       0.5372549 , 0.64705884, 0.7529412 , 0.5372549 , 0.44313726,\n",
              "       0.73333335, 0.11764706, 0.        , 0.        , 0.        ,\n",
              "       0.        , 0.        , 0.        , 0.        , 0.        ,\n",
              "       0.        , 0.44705883, 0.56078434, 0.42352942, 0.61960787,\n",
              "       0.5764706 , 0.50980395, 0.49019608, 0.41568628, 0.44705883,\n",
              "       0.47843137, 0.46666667, 0.5058824 , 0.5254902 , 0.627451  ,\n",
              "       0.76862746, 0.53333336, 0.42745098, 0.7137255 , 0.2       ,\n",
              "       0.        , 0.        , 0.        , 0.        , 0.        ,\n",
              "       0.        , 0.        , 0.        , 0.        , 0.47058824,\n",
              "       0.54901963, 0.45882353, 0.5921569 , 0.5803922 , 0.5137255 ,\n",
              "       0.4862745 , 0.42745098, 0.47058824, 0.56078434, 0.47058824,\n",
              "       0.50980395, 0.5019608 , 0.62352943, 0.7372549 , 0.43529412,\n",
              "       0.42352942, 0.69803923, 0.25882354, 0.        , 0.        ,\n",
              "       0.        , 0.        , 0.        , 0.        , 0.        ,\n",
              "       0.        , 0.        , 0.49019608, 0.5058824 , 0.5019608 ,\n",
              "       0.4392157 , 0.5686275 , 0.54901963, 0.47843137, 0.44313726,\n",
              "       0.4627451 , 0.5254902 , 0.45882353, 0.5176471 , 0.5019608 ,\n",
              "       0.6509804 , 0.6156863 , 0.35686275, 0.47058824, 0.6666667 ,\n",
              "       0.2901961 , 0.        , 0.        , 0.        , 0.        ,\n",
              "       0.        , 0.        , 0.        , 0.        , 0.        ,\n",
              "       0.49411765, 0.48235294, 0.5411765 , 0.2901961 , 0.54901963,\n",
              "       0.56078434, 0.4862745 , 0.43529412, 0.4392157 , 0.49411765,\n",
              "       0.47058824, 0.50980395, 0.5058824 , 0.6862745 , 0.47058824,\n",
              "       0.34509805, 0.5019608 , 0.6431373 , 0.35686275, 0.        ,\n",
              "       0.        , 0.        , 0.        , 0.        , 0.        ,\n",
              "       0.        , 0.        , 0.        , 0.4862745 , 0.48235294,\n",
              "       0.6156863 , 0.1764706 , 0.5686275 , 0.56078434, 0.4862745 ,\n",
              "       0.44313726, 0.46666667, 0.5803922 , 0.47843137, 0.5137255 ,\n",
              "       0.5058824 , 0.7176471 , 0.3529412 , 0.28627452, 0.5372549 ,\n",
              "       0.60784316, 0.3882353 , 0.        , 0.        , 0.        ,\n",
              "       0.        , 0.        , 0.        , 0.        , 0.        ,\n",
              "       0.        , 0.4627451 , 0.47843137, 0.654902  , 0.        ,\n",
              "       0.56078434, 0.58431375, 0.47843137, 0.4392157 , 0.4627451 ,\n",
              "       0.5372549 , 0.45490196, 0.5176471 , 0.49411765, 0.7176471 ,\n",
              "       0.28627452, 0.19607843, 0.59607846, 0.5764706 , 0.39607844,\n",
              "       0.        , 0.        , 0.        , 0.        , 0.        ,\n",
              "       0.        , 0.        , 0.        , 0.        , 0.43529412,\n",
              "       0.5019608 , 0.6431373 , 0.        , 0.5568628 , 0.5921569 ,\n",
              "       0.47843137, 0.43529412, 0.45882353, 0.5176471 , 0.47058824,\n",
              "       0.53333336, 0.49019608, 0.7137255 , 0.3529412 , 0.07058824,\n",
              "       0.6431373 , 0.5686275 , 0.41960785, 0.        , 0.        ,\n",
              "       0.        , 0.        , 0.        , 0.        , 0.        ,\n",
              "       0.        , 0.        , 0.42745098, 0.5176471 , 0.61960787,\n",
              "       0.        , 0.57254905, 0.5803922 , 0.47058824, 0.42352942,\n",
              "       0.49019608, 0.6156863 , 0.47058824, 0.53333336, 0.5137255 ,\n",
              "       0.6901961 , 0.43529412, 0.        , 0.6431373 , 0.56078434,\n",
              "       0.4627451 , 0.        , 0.        , 0.        , 0.        ,\n",
              "       0.        , 0.        , 0.        , 0.        , 0.        ,\n",
              "       0.43529412, 0.5529412 , 0.54901963, 0.        , 0.5803922 ,\n",
              "       0.58431375, 0.47058824, 0.44705883, 0.48235294, 0.5372549 ,\n",
              "       0.4862745 , 0.5372549 , 0.5137255 , 0.67058825, 0.5294118 ,\n",
              "       0.        , 0.6156863 , 0.5764706 , 0.49019608, 0.        ,\n",
              "       0.        , 0.        , 0.        , 0.        , 0.        ,\n",
              "       0.        , 0.        , 0.        , 0.43529412, 0.6039216 ,\n",
              "       0.43529412, 0.        , 0.60784316, 0.5803922 , 0.4627451 ,\n",
              "       0.45490196, 0.4862745 , 0.56078434, 0.48235294, 0.5137255 ,\n",
              "       0.5058824 , 0.654902  , 0.60784316, 0.        , 0.5058824 ,\n",
              "       0.6156863 , 0.5058824 , 0.        , 0.        , 0.        ,\n",
              "       0.        , 0.        , 0.        , 0.        , 0.        ,\n",
              "       0.        , 0.42745098, 0.60784316, 0.34117648, 0.        ,\n",
              "       0.6156863 , 0.5686275 , 0.46666667, 0.45882353, 0.49411765,\n",
              "       0.6039216 , 0.49411765, 0.50980395, 0.48235294, 0.6313726 ,\n",
              "       0.627451  , 0.        , 0.38039216, 0.6392157 , 0.50980395,\n",
              "       0.        , 0.        , 0.        , 0.        , 0.        ,\n",
              "       0.        , 0.        , 0.        , 0.        , 0.4862745 ,\n",
              "       0.5568628 , 0.21176471, 0.        , 0.58431375, 0.5529412 ,\n",
              "       0.46666667, 0.46666667, 0.4862745 , 0.53333336, 0.5058824 ,\n",
              "       0.49411765, 0.47058824, 0.6       , 0.6862745 , 0.        ,\n",
              "       0.29803923, 0.5686275 , 0.5372549 , 0.        , 0.        ,\n",
              "       0.        , 0.        , 0.        , 0.        , 0.        ,\n",
              "       0.        , 0.        , 0.53333336, 0.5921569 , 0.18431373,\n",
              "       0.        , 0.58431375, 0.5372549 , 0.46666667, 0.4627451 ,\n",
              "       0.49411765, 0.56078434, 0.5176471 , 0.50980395, 0.48235294,\n",
              "       0.6       , 0.6745098 , 0.        , 0.25882354, 0.5803922 ,\n",
              "       0.6039216 , 0.        , 0.        , 0.        , 0.        ,\n",
              "       0.        , 0.        , 0.        , 0.        , 0.        ,\n",
              "       0.42745098, 0.68235296, 0.1882353 , 0.        , 0.6039216 ,\n",
              "       0.5411765 , 0.46666667, 0.45882353, 0.4862745 , 0.5411765 ,\n",
              "       0.50980395, 0.5058824 , 0.49019608, 0.62352943, 0.654902  ,\n",
              "       0.        , 0.22745098, 0.68235296, 0.5019608 , 0.        ,\n",
              "       0.        , 0.        , 0.        , 0.        , 0.        ,\n",
              "       0.        , 0.        , 0.        , 0.        , 0.        ,\n",
              "       0.        , 0.        , 0.33333334, 0.7137255 , 0.5764706 ,\n",
              "       0.53333336, 0.56078434, 0.61960787, 0.57254905, 0.5803922 ,\n",
              "       0.6       , 0.78039217, 0.27450982, 0.        , 0.        ,\n",
              "       0.        , 0.        , 0.        , 0.        , 0.        ,\n",
              "       0.        , 0.        , 0.        , 0.        , 0.        ,\n",
              "       0.        , 0.        , 0.        , 0.        , 0.        ,\n",
              "       0.        , 0.10196079, 0.21176471, 0.28235295, 0.3254902 ,\n",
              "       0.3764706 , 0.33333334, 0.3137255 , 0.23921569, 0.05490196,\n",
              "       0.        , 0.        , 0.        , 0.        , 0.        ,\n",
              "       0.        , 0.        , 0.        , 0.        ], dtype=float32)"
            ]
          },
          "metadata": {},
          "execution_count": 384
        }
      ]
    },
    {
      "cell_type": "markdown",
      "source": [
        "s"
      ],
      "metadata": {
        "id": "MG3ta-rqNUwo"
      }
    },
    {
      "cell_type": "code",
      "source": [
        "test_data = test_data.reshape((10000, 28 * 28))\n",
        "test_data = test_data.astype('float32') / 255"
      ],
      "metadata": {
        "id": "B5bDd3-hPeSH"
      },
      "execution_count": 385,
      "outputs": []
    },
    {
      "cell_type": "markdown",
      "source": [
        "s"
      ],
      "metadata": {
        "id": "euXfbR6SPeh6"
      }
    },
    {
      "cell_type": "code",
      "source": [
        "from keras.utils.np_utils import to_categorical\n",
        "\n",
        "train_labels = to_categorical(train_labels)\n",
        "test_labels = to_categorical(test_labels)\n",
        "train_labels[30000]"
      ],
      "metadata": {
        "colab": {
          "base_uri": "https://localhost:8080/"
        },
        "id": "GW3NxRqYQQZ6",
        "outputId": "c6625134-2f2f-4f8c-f8c4-bcd883b5e077"
      },
      "execution_count": 386,
      "outputs": [
        {
          "output_type": "execute_result",
          "data": {
            "text/plain": [
              "array([0., 0., 0., 1., 0., 0., 0., 0., 0., 0.], dtype=float32)"
            ]
          },
          "metadata": {},
          "execution_count": 386
        }
      ]
    },
    {
      "cell_type": "markdown",
      "source": [
        "s"
      ],
      "metadata": {
        "id": "yTEzceXEQs__"
      }
    },
    {
      "cell_type": "code",
      "source": [
        "from tensorflow.keras import optimizers\n",
        "from keras import losses\n",
        "from keras import metrics\n",
        "from keras import models\n",
        "from keras import layers\n",
        "\n",
        "\n",
        "model = models.Sequential()\n",
        "\n",
        "#Capa 1\n",
        "model.add(layers.Dense(10, activation='relu', name=\"Capa1\",input_shape=(28*28,)))\n",
        "\n",
        "#Capa final\n",
        "model.add(layers.Dense(10, name=\"CapaSalida\",activation='softmax'))"
      ],
      "metadata": {
        "id": "6s4rp0iWSGE_"
      },
      "execution_count": 387,
      "outputs": []
    },
    {
      "cell_type": "markdown",
      "source": [
        "s"
      ],
      "metadata": {
        "id": "O7ykuaNzMnqg"
      }
    },
    {
      "cell_type": "code",
      "source": [
        "model.summary()\n"
      ],
      "metadata": {
        "colab": {
          "base_uri": "https://localhost:8080/"
        },
        "id": "jQlpbPf-Qdiv",
        "outputId": "16830f5d-0a5a-4ac2-9e62-ec7348b04f60"
      },
      "execution_count": 388,
      "outputs": [
        {
          "output_type": "stream",
          "name": "stdout",
          "text": [
            "Model: \"sequential_22\"\n",
            "_________________________________________________________________\n",
            " Layer (type)                Output Shape              Param #   \n",
            "=================================================================\n",
            " Capa1 (Dense)               (None, 10)                7850      \n",
            "                                                                 \n",
            " CapaSalida (Dense)          (None, 10)                110       \n",
            "                                                                 \n",
            "=================================================================\n",
            "Total params: 7,960\n",
            "Trainable params: 7,960\n",
            "Non-trainable params: 0\n",
            "_________________________________________________________________\n"
          ]
        }
      ]
    },
    {
      "cell_type": "markdown",
      "source": [
        "s"
      ],
      "metadata": {
        "id": "ebTLYPcmzEc-"
      }
    },
    {
      "cell_type": "code",
      "source": [
        "model.compile(optimizer='sgd',\n",
        "              loss='categorical_crossentropy',\n",
        "              metrics=['accuracy'])"
      ],
      "metadata": {
        "id": "uwIBFxNZVD5j"
      },
      "execution_count": 389,
      "outputs": []
    },
    {
      "cell_type": "markdown",
      "source": [
        "s"
      ],
      "metadata": {
        "id": "qpSFWpAUVWiG"
      }
    },
    {
      "cell_type": "code",
      "source": [
        "one_hot_train_labels=train_labels\n",
        "\n",
        "\n",
        "x_val = train_data[:10000]\n",
        "partial_x_train = train_data[10000:]\n",
        "\n",
        "y_val = one_hot_train_labels[:10000]\n",
        "partial_y_train = one_hot_train_labels[10000:]"
      ],
      "metadata": {
        "id": "VfrSdJ--VV-A"
      },
      "execution_count": 390,
      "outputs": []
    },
    {
      "cell_type": "markdown",
      "source": [
        "s"
      ],
      "metadata": {
        "id": "2oFAQom1VEdi"
      }
    },
    {
      "cell_type": "code",
      "source": [
        "history = model.fit(train_data,\n",
        "          train_labels,\n",
        "          epochs=5,\n",
        "          batch_size=128,\n",
        "          validation_data=(x_val, y_val))"
      ],
      "metadata": {
        "colab": {
          "base_uri": "https://localhost:8080/"
        },
        "id": "MepKtlWWQrt1",
        "outputId": "505a21be-c6b0-477e-ca68-91096a61a337"
      },
      "execution_count": 391,
      "outputs": [
        {
          "output_type": "stream",
          "name": "stdout",
          "text": [
            "Epoch 1/5\n",
            "469/469 [==============================] - 2s 3ms/step - loss: 1.4883 - accuracy: 0.5088 - val_loss: 1.0106 - val_accuracy: 0.6868\n",
            "Epoch 2/5\n",
            "469/469 [==============================] - 1s 3ms/step - loss: 0.8688 - accuracy: 0.7138 - val_loss: 0.7759 - val_accuracy: 0.7367\n",
            "Epoch 3/5\n",
            "469/469 [==============================] - 1s 3ms/step - loss: 0.7287 - accuracy: 0.7470 - val_loss: 0.6919 - val_accuracy: 0.7555\n",
            "Epoch 4/5\n",
            "469/469 [==============================] - 1s 3ms/step - loss: 0.6587 - accuracy: 0.7711 - val_loss: 0.6301 - val_accuracy: 0.7838\n",
            "Epoch 5/5\n",
            "469/469 [==============================] - 1s 3ms/step - loss: 0.6104 - accuracy: 0.7910 - val_loss: 0.5894 - val_accuracy: 0.7970\n"
          ]
        }
      ]
    },
    {
      "cell_type": "markdown",
      "source": [
        "s"
      ],
      "metadata": {
        "id": "xByMAIeTPqjV"
      }
    },
    {
      "cell_type": "code",
      "source": [
        "test_loss, test_acc = model.evaluate(test_data, test_labels)"
      ],
      "metadata": {
        "colab": {
          "base_uri": "https://localhost:8080/"
        },
        "id": "zwHoOjklPmsa",
        "outputId": "86a5325e-231f-4977-ca68-9e397cf553e9"
      },
      "execution_count": 392,
      "outputs": [
        {
          "output_type": "stream",
          "name": "stdout",
          "text": [
            "313/313 [==============================] - 1s 2ms/step - loss: 0.6129 - accuracy: 0.7862\n"
          ]
        }
      ]
    },
    {
      "cell_type": "markdown",
      "source": [
        "s"
      ],
      "metadata": {
        "id": "v14WTvUKPzKW"
      }
    },
    {
      "cell_type": "code",
      "source": [
        "print('test_loss:', test_loss)\n",
        "print('test_acc:', test_acc)"
      ],
      "metadata": {
        "colab": {
          "base_uri": "https://localhost:8080/"
        },
        "id": "USBcA7onPzqS",
        "outputId": "57a85f31-f618-4a3b-c03c-7746f0679dda"
      },
      "execution_count": 393,
      "outputs": [
        {
          "output_type": "stream",
          "name": "stdout",
          "text": [
            "test_loss: 0.6129426956176758\n",
            "test_acc: 0.7861999869346619\n"
          ]
        }
      ]
    },
    {
      "cell_type": "markdown",
      "source": [
        "s"
      ],
      "metadata": {
        "id": "te2oIsq1WKnr"
      }
    },
    {
      "cell_type": "code",
      "source": [
        "# Look at confusion matrix \n",
        "# Note, this code is taken straight from the SKLEARN website, an nice way of \n",
        "# viewing confusion matrix.\n",
        "import matplotlib.pyplot as plt\n",
        "def plot_confusion_matrix(cm, classes,\n",
        "                          normalize=False,\n",
        "                          title='Confusion matrix',\n",
        "                          cmap=plt.cm.Blues):\n",
        "    \"\"\"\n",
        "    This function prints and plots the confusion matrix.\n",
        "    Normalization can be applied by setting `normalize=True`.\n",
        "    \"\"\"\n",
        "    plt.imshow(cm, interpolation='nearest', cmap=cmap)\n",
        "    plt.title(title)\n",
        "    plt.colorbar()\n",
        "    tick_marks = np.arange(len(classes))\n",
        "    plt.xticks(tick_marks, classes, rotation=45)\n",
        "    plt.yticks(tick_marks, classes)\n",
        "\n",
        "    if normalize:\n",
        "        cm = cm.astype('float') / cm.sum(axis=1)[:, np.newaxis]\n",
        "\n",
        "    thresh = cm.max() / 2.\n",
        "    for i, j in itertools.product(range(cm.shape[0]), range(cm.shape[1])):\n",
        "        plt.text(j, i, cm[i, j],\n",
        "                 horizontalalignment=\"center\",\n",
        "                 color=\"white\" if cm[i, j] > thresh else \"black\")\n",
        "\n",
        "    plt.tight_layout()\n",
        "    plt.ylabel('Observación')\n",
        "    plt.xlabel('Predicción')"
      ],
      "metadata": {
        "id": "ap-ozaX0llrR"
      },
      "execution_count": 394,
      "outputs": []
    },
    {
      "cell_type": "markdown",
      "source": [
        "s"
      ],
      "metadata": {
        "id": "wRx8hZhLQo8m"
      }
    },
    {
      "cell_type": "code",
      "source": [
        "from collections import Counter\n",
        "from sklearn.metrics import confusion_matrix\n",
        "import itertools\n",
        "import numpy as np\n",
        "\n",
        "# Predicción de valores desde el dataset de validación\n",
        "Y_pred = model.predict(test_data)\n",
        "print(\"=VALORES QUE PREDICE EL MODELO ENTRENADO CON LAS IMAGENES DE TEST======\")\n",
        "print(\"=RECORDAR QUE LA PRIMERA IMAGEN DE TEST ERA UN 7=======================\")\n",
        "print(Y_pred[0])\n",
        "print(\"=======================================================================\")\n",
        "# Convertir en predicciones de clases desde los vectores one-hot encoding \n",
        "Y_pred_classes = np.argmax(Y_pred, axis = 1) \n",
        "print(\"=CONVERSION DE PREDICCIONES EN CLASES DESDE VECTORES ONE-HOT ENCODING==\")\n",
        "print(Y_pred_classes)\n",
        "print(\"=======================================================================\")\n",
        "# Convertir en clases de observación desde los vectores one-hot encoding\n",
        "Y_true = np.argmax(test_labels, axis = 1) \n",
        "print(\"=CONVERSION DE VALORES REALES EN CLASES DESDE VECTORES ONE-HOT ENCODING\")\n",
        "print(Y_true)\n",
        "print(\"=======================================================================\")\n",
        "# Computar la matriz de confusión\n",
        "confusion_mtx = confusion_matrix(Y_true, Y_pred_classes) \n",
        "print(\"=MATRIZ DE CONFUSION CON VALORES REALES FRENTE A LOS PREDICHOS=========\")\n",
        "print(confusion_mtx)\n",
        "print(\"=======================================================================\")\n",
        "# Dibujar la matriz de confusión\n",
        "print(\"=PINTAMOS LA MATRIZ DE CONFUSION=======================================\")\n",
        "plot_confusion_matrix(confusion_mtx, classes = range(10))"
      ],
      "metadata": {
        "id": "XshGwiutVsi9",
        "colab": {
          "base_uri": "https://localhost:8080/",
          "height": 768
        },
        "outputId": "e2e2ff97-1c3f-4dd9-937b-3675700198b9"
      },
      "execution_count": 395,
      "outputs": [
        {
          "output_type": "stream",
          "name": "stdout",
          "text": [
            "313/313 [==============================] - 1s 1ms/step\n",
            "=VALORES QUE PREDICE EL MODELO ENTRENADO CON LAS IMAGENES DE TEST======\n",
            "=RECORDAR QUE LA PRIMERA IMAGEN DE TEST ERA UN 7=======================\n",
            "[2.2750141e-06 2.5181884e-05 3.9752913e-04 1.8275669e-04 1.8243524e-03\n",
            " 1.5462877e-01 1.0861495e-04 2.7296215e-01 2.1825682e-02 5.4804271e-01]\n",
            "=======================================================================\n",
            "=CONVERSION DE PREDICCIONES EN CLASES DESDE VECTORES ONE-HOT ENCODING==\n",
            "[9 2 1 ... 8 1 7]\n",
            "=======================================================================\n",
            "=CONVERSION DE VALORES REALES EN CLASES DESDE VECTORES ONE-HOT ENCODING\n",
            "[9 2 1 ... 8 1 5]\n",
            "=======================================================================\n",
            "=MATRIZ DE CONFUSION CON VALORES REALES FRENTE A LOS PREDICHOS=========\n",
            "[[763   5  10  81   7   1 112   0  21   0]\n",
            " [  1 927  18  45   5   0   1   0   3   0]\n",
            " [ 16   1 603   7 189   1 166   0  16   1]\n",
            " [ 34  13   6 822  37   0  79   0   9   0]\n",
            " [  0   1 117  41 693   0 141   0   7   0]\n",
            " [  0   0   0   1   0 822   0 105   6  66]\n",
            " [165   2 116  47 122   1 508   0  39   0]\n",
            " [  0   0   0   0   0  49   0 861   0  90]\n",
            " [  7   1  15   8   5  11  22   5 924   2]\n",
            " [  0   0   0   0   1  17   0  43   0 939]]\n",
            "=======================================================================\n",
            "=PINTAMOS LA MATRIZ DE CONFUSION=======================================\n"
          ]
        },
        {
          "output_type": "display_data",
          "data": {
            "text/plain": [
              "<Figure size 432x288 with 2 Axes>"
            ],
            "image/png": "[encoded data removed]"
          },
          "metadata": {
            "needs_background": "light"
          }
        }
      ]
    },
    {
      "cell_type": "code",
      "source": [
        "# Veamos el elemento 6 de test y pintémoslo con matplotlib\n",
        "from keras.datasets import fashion_mnist\n",
        "(train_data, train_labels), (test_data, test_labels) = fashion_mnist.load_data()\n",
        "import matplotlib.pyplot as plt\n",
        "digit = test_data[5]\n",
        "plt.imshow(digit, cmap=plt.cm.binary)\n",
        "plt.show()"
      ],
      "metadata": {
        "colab": {
          "base_uri": "https://localhost:8080/",
          "height": 265
        },
        "id": "9BbG8Tn8c07E",
        "outputId": "833eec96-7ada-43c9-b042-c2b0d6719107"
      },
      "execution_count": 396,
      "outputs": [
        {
          "output_type": "display_data",
          "data": {
            "text/plain": [
              "<Figure size 432x288 with 1 Axes>"
            ],
            "image/png": "[encoded data removed]"
          },
          "metadata": {
            "needs_background": "light"
          }
        }
      ]
    },
    {
      "cell_type": "markdown",
      "source": [
        "s"
      ],
      "metadata": {
        "id": "aXPGbda3c8AT"
      }
    },
    {
      "cell_type": "code",
      "source": [
        "train_data = train_data.reshape((60000, 28 * 28))\n",
        "test_data = test_data.reshape((10000, 28 * 28))\n",
        "\n",
        "train_data = train_data.astype('float32') / 255\n",
        "test_data = test_data.astype('float32') / 255\n",
        "\n",
        "from keras.utils.np_utils import to_categorical\n",
        "\n",
        "print(\"=VEMOS LAS ETIQUETAS DE TEST ORIGINALES================================\")\n",
        "print(test_labels)\n",
        "print(\"=======================================================================\")\n",
        "test_labels = to_categorical(test_labels)\n",
        "print(\"=VEMOS LAS ETIQUETAS DE TEST AL PASARLAS POR to_categorical============\")\n",
        "print(test_labels)\n",
        "print(\"=======================================================================\")\n",
        "\n",
        "# Hacemos las predicciones con las imágenes de Test\n",
        "predictions = model.predict(test_data)\n",
        "\n",
        "print(\"=VEMOS LA PREDICCIÓN DEL ELEMENTO 6 (QUE DEBERÍA SER UN 1)============\")\n",
        "print(predictions[5])\n",
        "print(\"=======================================================================\")\n",
        "print(\"=VEMOS LA PREDICCIÓN DEL ELEMENTO 6 (QUE DEBERÍA SER UN 1)============\")\n",
        "print(np.argmax(predictions[5]))\n",
        "print(\"=======================================================================\")\n",
        "print(\"=LA SUMA DE TODAS LAS PREDICCIONES PARA EL ELEMENTO 6 DEBERÍA SER 1===\")\n",
        "print(np.sum(predictions[5]))\n",
        "print(\"=======================================================================\")\n",
        "print(\"=PINTAMOS TODAS LAS PREDICCIONES=======================================\")\n",
        "print(predictions)"
      ],
      "metadata": {
        "colab": {
          "base_uri": "https://localhost:8080/"
        },
        "id": "FhoAWXL1c64n",
        "outputId": "823419fd-0f62-443a-8211-eee4d48f9b8f"
      },
      "execution_count": 397,
      "outputs": [
        {
          "output_type": "stream",
          "name": "stdout",
          "text": [
            "=VEMOS LAS ETIQUETAS DE TEST ORIGINALES================================\n",
            "[9 2 1 ... 8 1 5]\n",
            "=======================================================================\n",
            "=VEMOS LAS ETIQUETAS DE TEST AL PASARLAS POR to_categorical============\n",
            "[[0. 0. 0. ... 0. 0. 1.]\n",
            " [0. 0. 1. ... 0. 0. 0.]\n",
            " [0. 1. 0. ... 0. 0. 0.]\n",
            " ...\n",
            " [0. 0. 0. ... 0. 1. 0.]\n",
            " [0. 1. 0. ... 0. 0. 0.]\n",
            " [0. 0. 0. ... 0. 0. 0.]]\n",
            "=======================================================================\n",
            "313/313 [==============================] - 0s 1ms/step\n",
            "=VEMOS LA PREDICCIÓN DEL ELEMENTO 6 (QUE DEBERÍA SER UN 1)============\n",
            "[1.2976472e-02 9.4713134e-01 1.1465990e-02 1.7576868e-02 6.6342787e-03\n",
            " 5.6045735e-08 3.2162992e-03 6.2502346e-07 9.9721190e-04 9.0339955e-07]\n",
            "=======================================================================\n",
            "=VEMOS LA PREDICCIÓN DEL ELEMENTO 6 (QUE DEBERÍA SER UN 1)============\n",
            "1\n",
            "=======================================================================\n",
            "=LA SUMA DE TODAS LAS PREDICCIONES PARA EL ELEMENTO 6 DEBERÍA SER 1===\n",
            "1.0\n",
            "=======================================================================\n",
            "=PINTAMOS TODAS LAS PREDICCIONES=======================================\n",
            "[[2.2750141e-06 2.5181884e-05 3.9752913e-04 ... 2.7296215e-01\n",
            "  2.1825682e-02 5.4804271e-01]\n",
            " [3.4268072e-04 3.8035789e-05 6.9953591e-01 ... 1.6731890e-09\n",
            "  4.3060219e-05 1.4999874e-05]\n",
            " [5.2641302e-05 9.9886215e-01 3.5265475e-04 ... 6.2598126e-08\n",
            "  8.6407716e-05 3.2319146e-08]\n",
            " ...\n",
            " [2.9889163e-01 1.4557319e-03 3.3490518e-03 ... 6.5592327e-04\n",
            "  3.3979610e-01 7.0046633e-04]\n",
            " [5.2318623e-04 9.4674838e-01 7.1472353e-03 ... 4.4105589e-05\n",
            "  1.3739230e-03 1.0908610e-04]\n",
            " [3.0908923e-05 6.3856482e-04 3.4298394e-03 ... 4.5496789e-01\n",
            "  5.3324804e-02 7.0978209e-02]]\n"
          ]
        }
      ]
    },
    {
      "cell_type": "markdown",
      "source": [
        "s"
      ],
      "metadata": {
        "id": "JqKzYq9tV2Sb"
      }
    },
    {
      "cell_type": "code",
      "source": [
        "def plot_image(i, predictions_array, true_label, img):\n",
        "  predictions_array, true_label, img = predictions_array, true_label[i], img[i]\n",
        "  plt.grid(False)\n",
        "  plt.xticks([])\n",
        "  plt.yticks([])\n",
        "\n",
        "  plt.imshow(img, cmap=plt.cm.binary)    \n",
        "\n",
        "  predicted_label = np.argmax(predictions_array)\n",
        "  if predicted_label.all() == true_label.all():\n",
        "    color = 'blue'\n",
        "  else:\n",
        "    color = 'red'\n",
        "\n",
        "  plt.xlabel(\"{} {:2.0f}% ({})\".format(predicted_label,\n",
        "                                100*np.max(predictions_array),\n",
        "                                true_label),\n",
        "                                color=color)\n",
        "\n",
        "def plot_value_array(i, predictions_array, true_label):\n",
        "  predictions_array, true_label = predictions_array, true_label[i]\n",
        "  plt.grid(False)\n",
        "  plt.xticks(range(10))\n",
        "  plt.yticks([])\n",
        "  thisplot = plt.bar(range(10), predictions_array, color=\"#00FF00\")\n",
        "  plt.ylim([0, 1])\n",
        "  predicted_label = np.argmax(predictions_array)\n",
        "\n",
        "  thisplot[predicted_label].set_color('red')\n",
        "  thisplot[true_label].set_color('black')"
      ],
      "metadata": {
        "id": "QLoUnoqIdHbd"
      },
      "execution_count": 398,
      "outputs": []
    },
    {
      "cell_type": "markdown",
      "source": [
        "s"
      ],
      "metadata": {
        "id": "Bux4HyhwdRNW"
      }
    },
    {
      "cell_type": "code",
      "source": [
        "from keras.datasets import fashion_mnist\n",
        "import numpy as np\n",
        "import matplotlib.pyplot as plt\n",
        "\n",
        "(train_data, train_labels), (test_data, test_labels) = fashion_mnist.load_data()\n",
        "train_data = train_data.reshape((60000, 28 * 28))\n",
        "test_data = test_data.reshape((10000, 28 * 28))\n",
        "\n",
        "train_data = train_data.astype('float32') / 255\n",
        "test_data = test_data.astype('float32') / 255\n",
        "\n",
        "predictions = model.predict(test_data)\n",
        "\n",
        "for i in range(6):\n",
        "  if (i==5):\n",
        "    plt.figure(figsize=(6,3))\n",
        "    plt.subplot(1,2,1)\n",
        "    plot_image(i, predictions[i], test_labels, test_data.reshape(10000,28,28))\n",
        "    plt.subplot(1,2,2)\n",
        "    plot_value_array(i, predictions[i],  test_labels)\n",
        "    plt.show()\n",
        "    plt.clf()"
      ],
      "metadata": {
        "colab": {
          "base_uri": "https://localhost:8080/",
          "height": 248
        },
        "id": "89EMjtO_dQnV",
        "outputId": "6d2a394d-5b4c-4895-a42f-380574c63162"
      },
      "execution_count": 399,
      "outputs": [
        {
          "output_type": "stream",
          "name": "stdout",
          "text": [
            "313/313 [==============================] - 0s 1ms/step\n"
          ]
        },
        {
          "output_type": "display_data",
          "data": {
            "text/plain": [
              "<Figure size 432x216 with 2 Axes>"
            ],
            "image/png": "[encoded data removed]"
          },
          "metadata": {
            "needs_background": "light"
          }
        },
        {
          "output_type": "display_data",
          "data": {
            "text/plain": [
              "<Figure size 432x288 with 0 Axes>"
            ]
          },
          "metadata": {}
        }
      ]
    },
    {
      "cell_type": "markdown",
      "source": [
        "s"
      ],
      "metadata": {
        "id": "lt2nERNqdIKg"
      }
    },
    {
      "cell_type": "code",
      "source": [
        "from keras.datasets import fashion_mnist "
      ],
      "metadata": {
        "id": "XzTtwxsQpb5I"
      },
      "execution_count": 400,
      "outputs": []
    },
    {
      "cell_type": "code",
      "source": [
        "from tensorflow.keras import optimizers\n",
        "from keras import losses\n",
        "from keras import metrics\n",
        "from keras import models\n",
        "from keras import layers\n",
        "\n",
        "\n",
        "model = models.Sequential()\n",
        "\n",
        "#Capa 2\n",
        "model.add(layers.Dense(10, activation='relu', name=\"Capa2\",input_shape=(28*28,)))\n",
        "\n",
        "#Capa final\n",
        "model.add(layers.Dense(10, name=\"CapaSalida\",activation='softmax'))"
      ],
      "metadata": {
        "id": "ceWsCa0pm1yy"
      },
      "execution_count": 401,
      "outputs": []
    },
    {
      "cell_type": "markdown",
      "source": [
        "s"
      ],
      "metadata": {
        "id": "D8s7fOSgm8Go"
      }
    },
    {
      "cell_type": "code",
      "source": [
        "model.summary()"
      ],
      "metadata": {
        "colab": {
          "base_uri": "https://localhost:8080/"
        },
        "id": "Ko-JqEYYm8gd",
        "outputId": "4f7d27b3-b1c9-4728-ad38-b3034db42ff9"
      },
      "execution_count": 402,
      "outputs": [
        {
          "output_type": "stream",
          "name": "stdout",
          "text": [
            "Model: \"sequential_23\"\n",
            "_________________________________________________________________\n",
            " Layer (type)                Output Shape              Param #   \n",
            "=================================================================\n",
            " Capa2 (Dense)               (None, 10)                7850      \n",
            "                                                                 \n",
            " CapaSalida (Dense)          (None, 10)                110       \n",
            "                                                                 \n",
            "=================================================================\n",
            "Total params: 7,960\n",
            "Trainable params: 7,960\n",
            "Non-trainable params: 0\n",
            "_________________________________________________________________\n"
          ]
        }
      ]
    },
    {
      "cell_type": "code",
      "source": [
        "model.compile(optimizer='rmsprop',\n",
        "              loss='categorical_crossentropy',\n",
        "              metrics=['accuracy'])"
      ],
      "metadata": {
        "id": "EYrX2AxinBG3"
      },
      "execution_count": 403,
      "outputs": []
    },
    {
      "cell_type": "code",
      "source": [
        "from keras.utils.np_utils import to_categorical\n",
        "\n",
        "train_labels = to_categorical(train_labels)\n",
        "test_labels = to_categorical(test_labels)\n",
        "train_labels[30000]"
      ],
      "metadata": {
        "id": "hDGta3v8pzmP",
        "outputId": "e920aafa-b689-4d4b-ce4f-aa1918a3b98f",
        "colab": {
          "base_uri": "https://localhost:8080/"
        }
      },
      "execution_count": 404,
      "outputs": [
        {
          "output_type": "execute_result",
          "data": {
            "text/plain": [
              "array([0., 0., 0., 1., 0., 0., 0., 0., 0., 0.], dtype=float32)"
            ]
          },
          "metadata": {},
          "execution_count": 404
        }
      ]
    },
    {
      "cell_type": "markdown",
      "source": [
        "s"
      ],
      "metadata": {
        "id": "1Kcozok9nKQD"
      }
    },
    {
      "cell_type": "code",
      "source": [
        "one_hot_train_labels=train_labels\n",
        "\n",
        "x_val = train_data[:10000]\n",
        "partial_x_train = train_data[10000:]\n",
        "\n",
        "y_val = one_hot_train_labels[:10000]\n",
        "partial_y_train = one_hot_train_labels[10000:]"
      ],
      "metadata": {
        "id": "DMlhL62EnGSA"
      },
      "execution_count": 405,
      "outputs": []
    },
    {
      "cell_type": "markdown",
      "source": [
        "s"
      ],
      "metadata": {
        "id": "VjBWAYi7nKwy"
      }
    },
    {
      "cell_type": "code",
      "source": [
        "history = model.fit(train_data,\n",
        "          train_labels,\n",
        "          epochs=25,\n",
        "          batch_size=128)"
      ],
      "metadata": {
        "colab": {
          "base_uri": "https://localhost:8080/"
        },
        "id": "fV-B_8CNnLMa",
        "outputId": "5c7dc58a-863d-4264-cdc5-bfd1effb9d09"
      },
      "execution_count": 406,
      "outputs": [
        {
          "output_type": "stream",
          "name": "stdout",
          "text": [
            "Epoch 1/25\n",
            "469/469 [==============================] - 2s 3ms/step - loss: 0.7691 - accuracy: 0.7497\n",
            "Epoch 2/25\n",
            "469/469 [==============================] - 1s 3ms/step - loss: 0.5106 - accuracy: 0.8244\n",
            "Epoch 3/25\n",
            "469/469 [==============================] - 1s 2ms/step - loss: 0.4726 - accuracy: 0.8361\n",
            "Epoch 4/25\n",
            "469/469 [==============================] - 1s 2ms/step - loss: 0.4515 - accuracy: 0.8429\n",
            "Epoch 5/25\n",
            "469/469 [==============================] - 1s 3ms/step - loss: 0.4368 - accuracy: 0.8474\n",
            "Epoch 6/25\n",
            "469/469 [==============================] - 1s 2ms/step - loss: 0.4268 - accuracy: 0.8513\n",
            "Epoch 7/25\n",
            "469/469 [==============================] - 1s 2ms/step - loss: 0.4196 - accuracy: 0.8530\n",
            "Epoch 8/25\n",
            "469/469 [==============================] - 1s 3ms/step - loss: 0.4130 - accuracy: 0.8556\n",
            "Epoch 9/25\n",
            "469/469 [==============================] - 1s 3ms/step - loss: 0.4067 - accuracy: 0.8579\n",
            "Epoch 10/25\n",
            "469/469 [==============================] - 1s 2ms/step - loss: 0.4028 - accuracy: 0.8587\n",
            "Epoch 11/25\n",
            "469/469 [==============================] - 1s 3ms/step - loss: 0.3983 - accuracy: 0.8606\n",
            "Epoch 12/25\n",
            "469/469 [==============================] - 1s 2ms/step - loss: 0.3936 - accuracy: 0.8620\n",
            "Epoch 13/25\n",
            "469/469 [==============================] - 1s 3ms/step - loss: 0.3902 - accuracy: 0.8630\n",
            "Epoch 14/25\n",
            "469/469 [==============================] - 1s 2ms/step - loss: 0.3873 - accuracy: 0.8644\n",
            "Epoch 15/25\n",
            "469/469 [==============================] - 1s 2ms/step - loss: 0.3843 - accuracy: 0.8646\n",
            "Epoch 16/25\n",
            "469/469 [==============================] - 1s 3ms/step - loss: 0.3820 - accuracy: 0.8648\n",
            "Epoch 17/25\n",
            "469/469 [==============================] - 1s 3ms/step - loss: 0.3780 - accuracy: 0.8664\n",
            "Epoch 18/25\n",
            "469/469 [==============================] - 1s 2ms/step - loss: 0.3767 - accuracy: 0.8680\n",
            "Epoch 19/25\n",
            "469/469 [==============================] - 1s 2ms/step - loss: 0.3752 - accuracy: 0.8686\n",
            "Epoch 20/25\n",
            "469/469 [==============================] - 1s 3ms/step - loss: 0.3724 - accuracy: 0.8696\n",
            "Epoch 21/25\n",
            "469/469 [==============================] - 1s 3ms/step - loss: 0.3709 - accuracy: 0.8701\n",
            "Epoch 22/25\n",
            "469/469 [==============================] - 1s 3ms/step - loss: 0.3690 - accuracy: 0.8709\n",
            "Epoch 23/25\n",
            "469/469 [==============================] - 1s 3ms/step - loss: 0.3674 - accuracy: 0.8715\n",
            "Epoch 24/25\n",
            "469/469 [==============================] - 1s 3ms/step - loss: 0.3665 - accuracy: 0.8713\n",
            "Epoch 25/25\n",
            "469/469 [==============================] - 1s 3ms/step - loss: 0.3644 - accuracy: 0.8723\n"
          ]
        }
      ]
    },
    {
      "cell_type": "code",
      "source": [
        "test_loss, test_acc = model.evaluate(test_data, test_labels)"
      ],
      "metadata": {
        "colab": {
          "base_uri": "https://localhost:8080/"
        },
        "id": "uemJOFO5nQf8",
        "outputId": "829b7e02-fd57-4290-ff5a-14af9381d80c"
      },
      "execution_count": 407,
      "outputs": [
        {
          "output_type": "stream",
          "name": "stdout",
          "text": [
            "313/313 [==============================] - 1s 2ms/step - loss: 0.4415 - accuracy: 0.8453\n"
          ]
        }
      ]
    },
    {
      "cell_type": "code",
      "source": [
        "# Look at confusion matrix \n",
        "# Note, this code is taken straight from the SKLEARN website, an nice way of \n",
        "# viewing confusion matrix.\n",
        "import matplotlib.pyplot as plt\n",
        "def plot_confusion_matrix(cm, classes,\n",
        "                          normalize=False,\n",
        "                          title='Confusion matrix',\n",
        "                          cmap=plt.cm.Blues):\n",
        "    \"\"\"\n",
        "    This function prints and plots the confusion matrix.\n",
        "    Normalization can be applied by setting `normalize=True`.\n",
        "    \"\"\"\n",
        "    plt.imshow(cm, interpolation='nearest', cmap=cmap)\n",
        "    plt.title(title)\n",
        "    plt.colorbar()\n",
        "    tick_marks = np.arange(len(classes))\n",
        "    plt.xticks(tick_marks, classes, rotation=45)\n",
        "    plt.yticks(tick_marks, classes)\n",
        "\n",
        "    if normalize:\n",
        "        cm = cm.astype('float') / cm.sum(axis=1)[:, np.newaxis]\n",
        "\n",
        "    thresh = cm.max() / 2.\n",
        "    for i, j in itertools.product(range(cm.shape[0]), range(cm.shape[1])):\n",
        "        plt.text(j, i, cm[i, j],\n",
        "                 horizontalalignment=\"center\",\n",
        "                 color=\"white\" if cm[i, j] > thresh else \"black\")\n",
        "\n",
        "    plt.tight_layout()\n",
        "    plt.ylabel('Observación')\n",
        "    plt.xlabel('Predicción')"
      ],
      "metadata": {
        "id": "cb174tLNnY94"
      },
      "execution_count": 408,
      "outputs": []
    },
    {
      "cell_type": "code",
      "source": [
        "from collections import Counter\n",
        "from sklearn.metrics import confusion_matrix\n",
        "import itertools\n",
        "import numpy as np\n",
        "\n",
        "# Predicción de valores desde el dataset de validación\n",
        "Y_pred = model.predict(test_data)\n",
        "print(\"=VALORES QUE PREDICE EL MODELO ENTRENADO CON LAS IMAGENES DE TEST======\")\n",
        "print(\"=RECORDAR QUE LA PRIMERA IMAGEN DE TEST ERA UN 7=======================\")\n",
        "print(Y_pred[0])\n",
        "print(\"=======================================================================\")\n",
        "# Convertir en predicciones de clases desde los vectores one-hot encoding \n",
        "Y_pred_classes = np.argmax(Y_pred, axis = 1) \n",
        "print(\"=CONVERSION DE PREDICCIONES EN CLASES DESDE VECTORES ONE-HOT ENCODING==\")\n",
        "print(Y_pred_classes)\n",
        "print(\"=======================================================================\")\n",
        "# Convertir en clases de observación desde los vectores one-hot encoding\n",
        "Y_true = np.argmax(test_labels, axis = 1) \n",
        "print(\"=CONVERSION DE VALORES REALES EN CLASES DESDE VECTORES ONE-HOT ENCODING\")\n",
        "print(Y_true)\n",
        "print(\"=======================================================================\")\n",
        "# Computar la matriz de confusión\n",
        "confusion_mtx = confusion_matrix(Y_true, Y_pred_classes) \n",
        "print(\"=MATRIZ DE CONFUSION CON VALORES REALES FRENTE A LOS PREDICHOS=========\")\n",
        "print(confusion_mtx)\n",
        "print(\"=======================================================================\")\n",
        "# Dibujar la matriz de confusión\n",
        "print(\"=PINTAMOS LA MATRIZ DE CONFUSION=======================================\")\n",
        "plot_confusion_matrix(confusion_mtx, classes = range(10))"
      ],
      "metadata": {
        "colab": {
          "base_uri": "https://localhost:8080/",
          "height": 786
        },
        "id": "vWIt47QBngPc",
        "outputId": "4635e88d-37a0-4db8-a276-0d7a887e0877"
      },
      "execution_count": 409,
      "outputs": [
        {
          "output_type": "stream",
          "name": "stdout",
          "text": [
            "313/313 [==============================] - 1s 2ms/step\n",
            "=VALORES QUE PREDICE EL MODELO ENTRENADO CON LAS IMAGENES DE TEST======\n",
            "=RECORDAR QUE LA PRIMERA IMAGEN DE TEST ERA UN 7=======================\n",
            "[3.42054664e-05 5.61924368e-13 4.93243306e-06 1.42427598e-05\n",
            " 4.23457004e-06 3.58612649e-02 2.51133431e-04 3.16694789e-02\n",
            " 1.08207455e-02 9.21339631e-01]\n",
            "=======================================================================\n",
            "=CONVERSION DE PREDICCIONES EN CLASES DESDE VECTORES ONE-HOT ENCODING==\n",
            "[9 2 1 ... 8 1 5]\n",
            "=======================================================================\n",
            "=CONVERSION DE VALORES REALES EN CLASES DESDE VECTORES ONE-HOT ENCODING\n",
            "[9 2 1 ... 8 1 5]\n",
            "=======================================================================\n",
            "=MATRIZ DE CONFUSION CON VALORES REALES FRENTE A LOS PREDICHOS=========\n",
            "[[818   4  18  65   0   1  81   0  13   0]\n",
            " [  3 953   7  30   4   0   2   0   1   0]\n",
            " [ 12   5 841  26  47   0  63   0   6   0]\n",
            " [ 26  12  18 905  13   0  23   0   3   0]\n",
            " [  1   3 213  59 592   2 125   0   5   0]\n",
            " [  0   0   0   2   0 915   0  47   7  29]\n",
            " [138   1 154  57  47   0 586   0  17   0]\n",
            " [  0   0   0   0   0  28   0 934   0  38]\n",
            " [  3   0   9  12   2   2  18   6 948   0]\n",
            " [  0   0   0   0   0   7   1  31   0 961]]\n",
            "=======================================================================\n",
            "=PINTAMOS LA MATRIZ DE CONFUSION=======================================\n"
          ]
        },
        {
          "output_type": "display_data",
          "data": {
            "text/plain": [
              "<Figure size 432x288 with 2 Axes>"
            ],
            "image/png": "[encoded data removed]"
          },
          "metadata": {
            "needs_background": "light"
          }
        }
      ]
    },
    {
      "cell_type": "code",
      "source": [
        "# Veamos el elemento 6 de test y pintémoslo con matplotlib\n",
        "from keras.datasets import fashion_mnist\n",
        "(train_data, train_labels), (test_data, test_labels) = fashion_mnist.load_data()\n",
        "import matplotlib.pyplot as plt\n",
        "digit = test_data[5]\n",
        "plt.imshow(digit, cmap=plt.cm.binary)\n",
        "plt.show()"
      ],
      "metadata": {
        "colab": {
          "base_uri": "https://localhost:8080/",
          "height": 265
        },
        "id": "291R6_A_nj0S",
        "outputId": "d5adec9b-199d-4d6c-8ffb-590c60cecda1"
      },
      "execution_count": 410,
      "outputs": [
        {
          "output_type": "display_data",
          "data": {
            "text/plain": [
              "<Figure size 432x288 with 1 Axes>"
            ],
            "image/png": "[encoded data removed]"
          },
          "metadata": {
            "needs_background": "light"
          }
        }
      ]
    },
    {
      "cell_type": "code",
      "source": [
        "train_data = train_data.reshape((60000, 28 * 28))\n",
        "test_data = test_data.reshape((10000, 28 * 28))\n",
        "\n",
        "train_data = train_data.astype('float32') / 255\n",
        "test_data = test_data.astype('float32') / 255\n",
        "\n",
        "from keras.utils.np_utils import to_categorical\n",
        "\n",
        "print(\"=VEMOS LAS ETIQUETAS DE TEST ORIGINALES================================\")\n",
        "print(test_labels)\n",
        "print(\"=======================================================================\")\n",
        "test_labels = to_categorical(test_labels)\n",
        "print(\"=VEMOS LAS ETIQUETAS DE TEST AL PASARLAS POR to_categorical============\")\n",
        "print(test_labels)\n",
        "print(\"=======================================================================\")\n",
        "\n",
        "# Hacemos las predicciones con las imágenes de Test\n",
        "predictions = model.predict(test_data)\n",
        "\n",
        "print(\"=VEMOS LA PREDICCIÓN DEL ELEMENTO 6 (QUE DEBERÍA SER UN 1)============\")\n",
        "print(predictions[5])\n",
        "print(\"=======================================================================\")\n",
        "print(\"=VEMOS LA PREDICCIÓN DEL ELEMENTO 6 (QUE DEBERÍA SER UN 1)============\")\n",
        "print(np.argmax(predictions[5]))\n",
        "print(\"=======================================================================\")\n",
        "print(\"=LA SUMA DE TODAS LAS PREDICCIONES PARA EL ELEMENTO 6 DEBERÍA SER 1===\")\n",
        "print(np.sum(predictions[5]))\n",
        "print(\"=======================================================================\")\n",
        "print(\"=PINTAMOS TODAS LAS PREDICCIONES=======================================\")\n",
        "print(predictions)"
      ],
      "metadata": {
        "colab": {
          "base_uri": "https://localhost:8080/"
        },
        "id": "MD2_7AH6npru",
        "outputId": "6f1a7c9b-afb3-4b10-b34b-4e43d8389b5e"
      },
      "execution_count": 411,
      "outputs": [
        {
          "output_type": "stream",
          "name": "stdout",
          "text": [
            "=VEMOS LAS ETIQUETAS DE TEST ORIGINALES================================\n",
            "[9 2 1 ... 8 1 5]\n",
            "=======================================================================\n",
            "=VEMOS LAS ETIQUETAS DE TEST AL PASARLAS POR to_categorical============\n",
            "[[0. 0. 0. ... 0. 0. 1.]\n",
            " [0. 0. 1. ... 0. 0. 0.]\n",
            " [0. 1. 0. ... 0. 0. 0.]\n",
            " ...\n",
            " [0. 0. 0. ... 0. 1. 0.]\n",
            " [0. 1. 0. ... 0. 0. 0.]\n",
            " [0. 0. 0. ... 0. 0. 0.]]\n",
            "=======================================================================\n",
            "313/313 [==============================] - 0s 1ms/step\n",
            "=VEMOS LA PREDICCIÓN DEL ELEMENTO 6 (QUE DEBERÍA SER UN 1)============\n",
            "[1.7954194e-04 9.9920899e-01 2.5977340e-04 2.4656863e-05 2.4660991e-04\n",
            " 8.0258466e-14 8.0485792e-05 2.6033112e-10 2.5405695e-08 6.3440590e-12]\n",
            "=======================================================================\n",
            "=VEMOS LA PREDICCIÓN DEL ELEMENTO 6 (QUE DEBERÍA SER UN 1)============\n",
            "1\n",
            "=======================================================================\n",
            "=LA SUMA DE TODAS LAS PREDICCIONES PARA EL ELEMENTO 6 DEBERÍA SER 1===\n",
            "1.0\n",
            "=======================================================================\n",
            "=PINTAMOS TODAS LAS PREDICCIONES=======================================\n",
            "[[3.42054664e-05 5.61924368e-13 4.93243306e-06 ... 3.16694789e-02\n",
            "  1.08207455e-02 9.21339631e-01]\n",
            " [5.78530075e-04 1.70063789e-11 9.43891883e-01 ... 9.15569659e-18\n",
            "  9.10936615e-06 1.01465398e-17]\n",
            " [1.70731397e-07 9.99980390e-01 3.72241720e-06 ... 1.51675206e-09\n",
            "  3.10755088e-10 5.03340096e-15]\n",
            " ...\n",
            " [9.08424482e-02 3.95160029e-08 4.94618528e-03 ... 4.12594403e-09\n",
            "  6.13875866e-01 6.33074482e-10]\n",
            " [4.22426041e-08 9.99951303e-01 1.87544674e-06 ... 1.56540967e-08\n",
            "  2.21509519e-10 1.64711222e-09]\n",
            " [3.81295686e-04 7.54195753e-07 1.38048676e-03 ... 1.88539568e-02\n",
            "  1.26317646e-02 1.36373419e-04]]\n"
          ]
        }
      ]
    },
    {
      "cell_type": "code",
      "source": [
        "def plot_image(i, predictions_array, true_label, img):\n",
        "  predictions_array, true_label, img = predictions_array, true_label[i], img[i]\n",
        "  plt.grid(False)\n",
        "  plt.xticks([])\n",
        "  plt.yticks([])\n",
        "\n",
        "  plt.imshow(img, cmap=plt.cm.binary)    \n",
        "\n",
        "  predicted_label = np.argmax(predictions_array)\n",
        "  if predicted_label.all() == true_label.all():\n",
        "    color = 'blue'\n",
        "  else:\n",
        "    color = 'red'\n",
        "\n",
        "  plt.xlabel(\"{} {:2.0f}% ({})\".format(predicted_label,\n",
        "                                100*np.max(predictions_array),\n",
        "                                true_label),\n",
        "                                color=color)\n",
        "\n",
        "def plot_value_array(i, predictions_array, true_label):\n",
        "  predictions_array, true_label = predictions_array, true_label[i]\n",
        "  plt.grid(False)\n",
        "  plt.xticks(range(10))\n",
        "  plt.yticks([])\n",
        "  thisplot = plt.bar(range(10), predictions_array, color=\"#00FF00\")\n",
        "  plt.ylim([0, 1])\n",
        "  predicted_label = np.argmax(predictions_array)\n",
        "\n",
        "  thisplot[predicted_label].set_color('red')\n",
        "  thisplot[true_label].set_color('black')"
      ],
      "metadata": {
        "id": "dkRde1X-nvAr"
      },
      "execution_count": 412,
      "outputs": []
    },
    {
      "cell_type": "code",
      "source": [
        "from keras.datasets import fashion_mnist\n",
        "import numpy as np\n",
        "import matplotlib.pyplot as plt\n",
        "\n",
        "(train_data, train_labels), (test_data, test_labels) = fashion_mnist.load_data()\n",
        "train_data = train_data.reshape((60000, 28 * 28))\n",
        "test_data = test_data.reshape((10000, 28 * 28))\n",
        "\n",
        "train_data = train_data.astype('float32') / 255\n",
        "test_data = test_data.astype('float32') / 255\n",
        "\n",
        "predictions = model.predict(test_data)\n",
        "\n",
        "for i in range(6):\n",
        "  if (i==5):\n",
        "    plt.figure(figsize=(6,3))\n",
        "    plt.subplot(1,2,1)\n",
        "    plot_image(i, predictions[i], test_labels, test_data.reshape(10000,28,28))\n",
        "    plt.subplot(1,2,2)\n",
        "    plot_value_array(i, predictions[i],  test_labels)\n",
        "    plt.show()\n",
        "    plt.clf()"
      ],
      "metadata": {
        "colab": {
          "base_uri": "https://localhost:8080/",
          "height": 248
        },
        "id": "3rIBsHqlnyKr",
        "outputId": "56946a69-fa5b-4a12-a781-4d7271572ca0"
      },
      "execution_count": 413,
      "outputs": [
        {
          "output_type": "stream",
          "name": "stdout",
          "text": [
            "313/313 [==============================] - 0s 1ms/step\n"
          ]
        },
        {
          "output_type": "display_data",
          "data": {
            "text/plain": [
              "<Figure size 432x216 with 2 Axes>"
            ],
            "image/png": "[encoded data removed]"
          },
          "metadata": {
            "needs_background": "light"
          }
        },
        {
          "output_type": "display_data",
          "data": {
            "text/plain": [
              "<Figure size 432x288 with 0 Axes>"
            ]
          },
          "metadata": {}
        }
      ]
    },
    {
      "cell_type": "code",
      "source": [
        "from keras.datasets import fashion_mnist "
      ],
      "metadata": {
        "id": "Ok_B3lX7xwL2"
      },
      "execution_count": 424,
      "outputs": []
    },
    {
      "cell_type": "code",
      "source": [
        "from keras.utils.np_utils import to_categorical\n",
        "\n",
        "train_labels = to_categorical(train_labels)\n",
        "test_labels = to_categorical(test_labels)\n",
        "train_labels[30000]"
      ],
      "metadata": {
        "id": "2hJTowkWzBUy",
        "outputId": "409402f8-b9e1-4a16-9569-7fef65a26be8",
        "colab": {
          "base_uri": "https://localhost:8080/"
        }
      },
      "execution_count": 425,
      "outputs": [
        {
          "output_type": "execute_result",
          "data": {
            "text/plain": [
              "array([0., 0., 0., 1., 0., 0., 0., 0., 0., 0.], dtype=float32)"
            ]
          },
          "metadata": {},
          "execution_count": 425
        }
      ]
    },
    {
      "cell_type": "code",
      "source": [
        "from tensorflow.keras import optimizers\n",
        "from keras import losses\n",
        "from keras import metrics\n",
        "from keras import models\n",
        "from keras import layers\n",
        "\n",
        "\n",
        "model = models.Sequential()\n",
        "#Capa 3\n",
        "model.add(layers.Dense(10, activation='sigmoid', name=\"Capa3\",input_shape=(28*28,)))\n",
        "\n",
        "#Capa final\n",
        "model.add(layers.Dense(10, name=\"CapaSalida\",activation='softmax'))"
      ],
      "metadata": {
        "id": "rSwGqpYnrZhe"
      },
      "execution_count": 426,
      "outputs": []
    },
    {
      "cell_type": "code",
      "source": [
        "model.summary()\n",
        "model.compile(optimizer='sgd',\n",
        "              loss='categorical_crossentropy',\n",
        "              metrics=['accuracy'])"
      ],
      "metadata": {
        "id": "ZfGDiwbCrZ0U",
        "outputId": "64a8f0bc-494a-4a82-a95a-de8dee3f2e50",
        "colab": {
          "base_uri": "https://localhost:8080/"
        }
      },
      "execution_count": 427,
      "outputs": [
        {
          "output_type": "stream",
          "name": "stdout",
          "text": [
            "Model: \"sequential_26\"\n",
            "_________________________________________________________________\n",
            " Layer (type)                Output Shape              Param #   \n",
            "=================================================================\n",
            " Capa3 (Dense)               (None, 10)                7850      \n",
            "                                                                 \n",
            " CapaSalida (Dense)          (None, 10)                110       \n",
            "                                                                 \n",
            "=================================================================\n",
            "Total params: 7,960\n",
            "Trainable params: 7,960\n",
            "Non-trainable params: 0\n",
            "_________________________________________________________________\n"
          ]
        }
      ]
    },
    {
      "cell_type": "code",
      "source": [
        "one_hot_train_labels=train_labels\n",
        "\n",
        "\n",
        "x_val = train_data[:10000]\n",
        "partial_x_train = train_data[10000:]\n",
        "\n",
        "y_val = one_hot_train_labels[:10000]\n",
        "partial_y_train = one_hot_train_labels[10000:]"
      ],
      "metadata": {
        "id": "0dlXFrl6rZ4j"
      },
      "execution_count": 428,
      "outputs": []
    },
    {
      "cell_type": "code",
      "source": [
        "history = model.fit(train_data,\n",
        "          train_labels,\n",
        "          epochs=5,\n",
        "          batch_size=128,\n",
        "          validation_data=(x_val, y_val))"
      ],
      "metadata": {
        "id": "ucgISj6SrZ7y",
        "outputId": "df253484-a4df-43e6-8d6e-b0feeb9dc074",
        "colab": {
          "base_uri": "https://localhost:8080/"
        }
      },
      "execution_count": 429,
      "outputs": [
        {
          "output_type": "stream",
          "name": "stdout",
          "text": [
            "Epoch 1/5\n",
            "469/469 [==============================] - 2s 3ms/step - loss: 2.1044 - accuracy: 0.3163 - val_loss: 1.9283 - val_accuracy: 0.4323\n",
            "Epoch 2/5\n",
            "469/469 [==============================] - 1s 3ms/step - loss: 1.8233 - accuracy: 0.5045 - val_loss: 1.7185 - val_accuracy: 0.5568\n",
            "Epoch 3/5\n",
            "469/469 [==============================] - 1s 3ms/step - loss: 1.6432 - accuracy: 0.5882 - val_loss: 1.5633 - val_accuracy: 0.6299\n",
            "Epoch 4/5\n",
            "469/469 [==============================] - 1s 3ms/step - loss: 1.5041 - accuracy: 0.6445 - val_loss: 1.4388 - val_accuracy: 0.6575\n",
            "Epoch 5/5\n",
            "469/469 [==============================] - 1s 3ms/step - loss: 1.3896 - accuracy: 0.6653 - val_loss: 1.3337 - val_accuracy: 0.6723\n"
          ]
        }
      ]
    },
    {
      "cell_type": "code",
      "source": [
        "test_loss, test_acc = model.evaluate(test_data, test_labels)"
      ],
      "metadata": {
        "id": "YZeHjtFYrZ-M",
        "outputId": "b82c4afd-cb3b-4575-dd8e-ee164eb29589",
        "colab": {
          "base_uri": "https://localhost:8080/"
        }
      },
      "execution_count": 430,
      "outputs": [
        {
          "output_type": "stream",
          "name": "stdout",
          "text": [
            "313/313 [==============================] - 1s 2ms/step - loss: 1.3436 - accuracy: 0.6691\n"
          ]
        }
      ]
    },
    {
      "cell_type": "code",
      "source": [
        "print('test_loss:', test_loss)\n",
        "print('test_acc:', test_acc)"
      ],
      "metadata": {
        "id": "Gle5XgC4raAt",
        "outputId": "8ae1cae0-897d-4eb5-c5e8-3f53acc86aa7",
        "colab": {
          "base_uri": "https://localhost:8080/"
        }
      },
      "execution_count": 431,
      "outputs": [
        {
          "output_type": "stream",
          "name": "stdout",
          "text": [
            "test_loss: 1.3435817956924438\n",
            "test_acc: 0.6690999865531921\n"
          ]
        }
      ]
    },
    {
      "cell_type": "code",
      "source": [
        "# Look at confusion matrix \n",
        "# Note, this code is taken straight from the SKLEARN website, an nice way of \n",
        "# viewing confusion matrix.\n",
        "import matplotlib.pyplot as plt\n",
        "def plot_confusion_matrix(cm, classes,\n",
        "                          normalize=False,\n",
        "                          title='Confusion matrix',\n",
        "                          cmap=plt.cm.Blues):\n",
        "    \"\"\"\n",
        "    This function prints and plots the confusion matrix.\n",
        "    Normalization can be applied by setting `normalize=True`.\n",
        "    \"\"\"\n",
        "    plt.imshow(cm, interpolation='nearest', cmap=cmap)\n",
        "    plt.title(title)\n",
        "    plt.colorbar()\n",
        "    tick_marks = np.arange(len(classes))\n",
        "    plt.xticks(tick_marks, classes, rotation=45)\n",
        "    plt.yticks(tick_marks, classes)\n",
        "\n",
        "    if normalize:\n",
        "        cm = cm.astype('float') / cm.sum(axis=1)[:, np.newaxis]\n",
        "\n",
        "    thresh = cm.max() / 2.\n",
        "    for i, j in itertools.product(range(cm.shape[0]), range(cm.shape[1])):\n",
        "        plt.text(j, i, cm[i, j],\n",
        "                 horizontalalignment=\"center\",\n",
        "                 color=\"white\" if cm[i, j] > thresh else \"black\")\n",
        "\n",
        "    plt.tight_layout()\n",
        "    plt.ylabel('Observación')\n",
        "    plt.xlabel('Predicción')"
      ],
      "metadata": {
        "id": "_3ZHwmpUraDE"
      },
      "execution_count": 432,
      "outputs": []
    },
    {
      "cell_type": "code",
      "source": [
        "from collections import Counter\n",
        "from sklearn.metrics import confusion_matrix\n",
        "import itertools\n",
        "import numpy as np\n",
        "\n",
        "# Predicción de valores desde el dataset de validación\n",
        "Y_pred = model.predict(test_data)\n",
        "print(\"=VALORES QUE PREDICE EL MODELO ENTRENADO CON LAS IMAGENES DE TEST======\")\n",
        "print(\"=RECORDAR QUE LA PRIMERA IMAGEN DE TEST ERA UN 7=======================\")\n",
        "print(Y_pred[0])\n",
        "print(\"=======================================================================\")\n",
        "# Convertir en predicciones de clases desde los vectores one-hot encoding \n",
        "Y_pred_classes = np.argmax(Y_pred, axis = 1) \n",
        "print(\"=CONVERSION DE PREDICCIONES EN CLASES DESDE VECTORES ONE-HOT ENCODING==\")\n",
        "print(Y_pred_classes)\n",
        "print(\"=======================================================================\")\n",
        "# Convertir en clases de observación desde los vectores one-hot encoding\n",
        "Y_true = np.argmax(test_labels, axis = 1) \n",
        "print(\"=CONVERSION DE VALORES REALES EN CLASES DESDE VECTORES ONE-HOT ENCODING\")\n",
        "print(Y_true)\n",
        "print(\"=======================================================================\")\n",
        "# Computar la matriz de confusión\n",
        "confusion_mtx = confusion_matrix(Y_true, Y_pred_classes) \n",
        "print(\"=MATRIZ DE CONFUSION CON VALORES REALES FRENTE A LOS PREDICHOS=========\")\n",
        "print(confusion_mtx)\n",
        "print(\"=======================================================================\")\n",
        "# Dibujar la matriz de confusión\n",
        "print(\"=PINTAMOS LA MATRIZ DE CONFUSION=======================================\")\n",
        "plot_confusion_matrix(confusion_mtx, classes = range(10))"
      ],
      "metadata": {
        "id": "c5DoHvIXraIB",
        "outputId": "981499a7-c014-467a-9569-a4a06998c119",
        "colab": {
          "base_uri": "https://localhost:8080/",
          "height": 768
        }
      },
      "execution_count": 433,
      "outputs": [
        {
          "output_type": "stream",
          "name": "stdout",
          "text": [
            "313/313 [==============================] - 1s 1ms/step\n",
            "=VALORES QUE PREDICE EL MODELO ENTRENADO CON LAS IMAGENES DE TEST======\n",
            "=RECORDAR QUE LA PRIMERA IMAGEN DE TEST ERA UN 7=======================\n",
            "[0.0219202  0.01336341 0.0394592  0.01483423 0.03355364 0.20615977\n",
            " 0.03466529 0.20690829 0.16582058 0.26331535]\n",
            "=======================================================================\n",
            "=CONVERSION DE PREDICCIONES EN CLASES DESDE VECTORES ONE-HOT ENCODING==\n",
            "[9 2 1 ... 0 1 7]\n",
            "=======================================================================\n",
            "=CONVERSION DE VALORES REALES EN CLASES DESDE VECTORES ONE-HOT ENCODING\n",
            "[9 2 1 ... 8 1 5]\n",
            "=======================================================================\n",
            "=MATRIZ DE CONFUSION CON VALORES REALES FRENTE A LOS PREDICHOS=========\n",
            "[[844   4  19  97  10   1   6   3  16   0]\n",
            " [ 25 894  14  56   8   0   1   0   2   0]\n",
            " [ 40   5 635   4 244   1  57   0  14   0]\n",
            " [164  20   9 781   9   2  12   0   3   0]\n",
            " [ 92  17 264  42 557   0  19   0   9   0]\n",
            " [  1   1   0   3   1 292   0 442   3 257]\n",
            " [315   2 279  48 243   0  71   2  40   0]\n",
            " [  0   0   0   0   0  11   0 934   0  55]\n",
            " [ 39   2  32  19  20   8   8  55 808   9]\n",
            " [  1   1   0   0   1   5   0 115   2 875]]\n",
            "=======================================================================\n",
            "=PINTAMOS LA MATRIZ DE CONFUSION=======================================\n"
          ]
        },
        {
          "output_type": "display_data",
          "data": {
            "text/plain": [
              "<Figure size 432x288 with 2 Axes>"
            ],
            "image/png": "[encoded data removed]"
          },
          "metadata": {
            "needs_background": "light"
          }
        }
      ]
    },
    {
      "cell_type": "code",
      "source": [
        "# Veamos el elemento 6 de test y pintémoslo con matplotlib\n",
        "from keras.datasets import fashion_mnist\n",
        "(train_data, train_labels), (test_data, test_labels) = fashion_mnist.load_data()\n",
        "import matplotlib.pyplot as plt\n",
        "digit = test_data[5]\n",
        "plt.imshow(digit, cmap=plt.cm.binary)\n",
        "plt.show()"
      ],
      "metadata": {
        "id": "Hb9-4Ncira21",
        "outputId": "50c883ea-1366-4a68-bb43-f1de8962551d",
        "colab": {
          "base_uri": "https://localhost:8080/",
          "height": 265
        }
      },
      "execution_count": 447,
      "outputs": [
        {
          "output_type": "display_data",
          "data": {
            "text/plain": [
              "<Figure size 432x288 with 1 Axes>"
            ],
            "image/png": "[encoded data removed]"
          },
          "metadata": {
            "needs_background": "light"
          }
        }
      ]
    },
    {
      "cell_type": "code",
      "source": [
        "train_data = train_data.reshape((60000, 28 * 28))\n",
        "test_data = test_data.reshape((10000, 28 * 28))\n",
        "\n",
        "train_data = train_data.astype('float32') / 255\n",
        "test_data = test_data.astype('float32') / 255\n",
        "\n",
        "from keras.utils.np_utils import to_categorical\n",
        "\n",
        "print(\"=VEMOS LAS ETIQUETAS DE TEST ORIGINALES================================\")\n",
        "print(test_labels)\n",
        "print(\"=======================================================================\")\n",
        "test_labels = to_categorical(test_labels)\n",
        "print(\"=VEMOS LAS ETIQUETAS DE TEST AL PASARLAS POR to_categorical============\")\n",
        "print(test_labels)\n",
        "print(\"=======================================================================\")\n",
        "\n",
        "# Hacemos las predicciones con las imágenes de Test\n",
        "predictions = model.predict(test_data)\n",
        "\n",
        "print(\"=VEMOS LA PREDICCIÓN DEL ELEMENTO 6 (QUE DEBERÍA SER UN 1)============\")\n",
        "print(predictions[5])\n",
        "print(\"=======================================================================\")\n",
        "print(\"=VEMOS LA PREDICCIÓN DEL ELEMENTO 6 (QUE DEBERÍA SER UN 1)============\")\n",
        "print(np.argmax(predictions[5]))\n",
        "print(\"=======================================================================\")\n",
        "print(\"=LA SUMA DE TODAS LAS PREDICCIONES PARA EL ELEMENTO 6 DEBERÍA SER 1===\")\n",
        "print(np.sum(predictions[5]))\n",
        "print(\"=======================================================================\")\n",
        "print(\"=PINTAMOS TODAS LAS PREDICCIONES=======================================\")\n",
        "print(predictions)"
      ],
      "metadata": {
        "id": "eR5mjcfFra5h",
        "outputId": "4077b8f2-bc7e-4b2b-c89f-a9d17d59cc99",
        "colab": {
          "base_uri": "https://localhost:8080/"
        }
      },
      "execution_count": 448,
      "outputs": [
        {
          "output_type": "stream",
          "name": "stdout",
          "text": [
            "=VEMOS LAS ETIQUETAS DE TEST ORIGINALES================================\n",
            "[9 2 1 ... 8 1 5]\n",
            "=======================================================================\n",
            "=VEMOS LAS ETIQUETAS DE TEST AL PASARLAS POR to_categorical============\n",
            "[[0. 0. 0. ... 0. 0. 1.]\n",
            " [0. 0. 1. ... 0. 0. 0.]\n",
            " [0. 1. 0. ... 0. 0. 0.]\n",
            " ...\n",
            " [0. 0. 0. ... 0. 1. 0.]\n",
            " [0. 1. 0. ... 0. 0. 0.]\n",
            " [0. 0. 0. ... 0. 0. 0.]]\n",
            "=======================================================================\n",
            "313/313 [==============================] - 0s 1ms/step\n",
            "=VEMOS LA PREDICCIÓN DEL ELEMENTO 6 (QUE DEBERÍA SER UN 1)============\n",
            "[0.05258886 0.41045028 0.02523687 0.06972624 0.06950702 0.10562833\n",
            " 0.10902731 0.04864841 0.04981951 0.05936709]\n",
            "=======================================================================\n",
            "=VEMOS LA PREDICCIÓN DEL ELEMENTO 6 (QUE DEBERÍA SER UN 1)============\n",
            "1\n",
            "=======================================================================\n",
            "=LA SUMA DE TODAS LAS PREDICCIONES PARA EL ELEMENTO 6 DEBERÍA SER 1===\n",
            "0.9999999\n",
            "=======================================================================\n",
            "=PINTAMOS TODAS LAS PREDICCIONES=======================================\n",
            "[[0.00399995 0.01676522 0.01678208 ... 0.20925972 0.06488004 0.43939954]\n",
            " [0.06545272 0.00877455 0.5189236  ... 0.01248994 0.06215958 0.01075227]\n",
            " [0.035968   0.44484392 0.02391012 ... 0.0518669  0.03766731 0.0841149 ]\n",
            " ...\n",
            " [0.1858408  0.03308086 0.04503095 ... 0.07602969 0.32189664 0.04459982]\n",
            " [0.02861135 0.34648263 0.02625134 ... 0.04143443 0.02341323 0.04954932]\n",
            " [0.00893569 0.0164919  0.0264191  ... 0.28936797 0.09346651 0.18777093]]\n"
          ]
        }
      ]
    },
    {
      "cell_type": "code",
      "source": [
        "def plot_image(i, predictions_array, true_label, img):\n",
        "  predictions_array, true_label, img = predictions_array, true_label[i], img[i]\n",
        "  plt.grid(False)\n",
        "  plt.xticks([])\n",
        "  plt.yticks([])\n",
        "\n",
        "  plt.imshow(img, cmap=plt.cm.binary)    \n",
        "\n",
        "  predicted_label = np.argmax(predictions_array)\n",
        "  if predicted_label.all() == true_label.all():\n",
        "    color = 'blue'\n",
        "  else:\n",
        "    color = 'red'\n",
        "\n",
        "  plt.xlabel(\"{} {:2.0f}% ({})\".format(predicted_label,\n",
        "                                100*np.max(predictions_array),\n",
        "                                true_label),\n",
        "                                color=color)\n",
        "\n",
        "def plot_value_array(i, predictions_array, true_label):\n",
        "  predictions_array, true_label = predictions_array, true_label[i]\n",
        "  plt.grid(False)\n",
        "  plt.xticks(range(10))\n",
        "  plt.yticks([])\n",
        "  thisplot = plt.bar(range(10), predictions_array, color=\"#00FF00\")\n",
        "  plt.ylim([0, 1])\n",
        "  predicted_label = np.argmax(predictions_array)\n",
        "\n",
        "  thisplot[predicted_label].set_color('red')\n",
        "  thisplot[true_label].set_color('black')"
      ],
      "metadata": {
        "id": "SrOUQvxnra8H"
      },
      "execution_count": 449,
      "outputs": []
    },
    {
      "cell_type": "code",
      "source": [
        "from keras.datasets import fashion_mnist\n",
        "import numpy as np\n",
        "import matplotlib.pyplot as plt\n",
        "\n",
        "(train_data, train_labels), (test_data, test_labels) = fashion_mnist.load_data()\n",
        "train_data = train_data.reshape((60000, 28 * 28))\n",
        "test_data = test_data.reshape((10000, 28 * 28))\n",
        "\n",
        "train_data = train_data.astype('float32') / 255\n",
        "test_data = test_data.astype('float32') / 255\n",
        "\n",
        "predictions = model.predict(test_data)\n",
        "\n",
        "for i in range(6):\n",
        "  if (i==5):\n",
        "    plt.figure(figsize=(6,3))\n",
        "    plt.subplot(1,2,1)\n",
        "    plot_image(i, predictions[i], test_labels, test_data.reshape(10000,28,28))\n",
        "    plt.subplot(1,2,2)\n",
        "    plot_value_array(i, predictions[i],  test_labels)\n",
        "    plt.show()\n",
        "    plt.clf()"
      ],
      "metadata": {
        "id": "6783lI-xv0C0",
        "outputId": "3367c46a-21eb-4a44-f618-036e4eb7c7c3",
        "colab": {
          "base_uri": "https://localhost:8080/",
          "height": 248
        }
      },
      "execution_count": 450,
      "outputs": [
        {
          "output_type": "stream",
          "name": "stdout",
          "text": [
            "313/313 [==============================] - 0s 1ms/step\n"
          ]
        },
        {
          "output_type": "display_data",
          "data": {
            "text/plain": [
              "<Figure size 432x216 with 2 Axes>"
            ],
            "image/png": "[encoded data removed]"
          },
          "metadata": {
            "needs_background": "light"
          }
        },
        {
          "output_type": "display_data",
          "data": {
            "text/plain": [
              "<Figure size 432x288 with 0 Axes>"
            ]
          },
          "metadata": {}
        }
      ]
    },
    {
      "cell_type": "markdown",
      "source": [
        "sssssssssssssssssssss"
      ],
      "metadata": {
        "id": "ScRDf2JbwL7G"
      }
    },
    {
      "cell_type": "code",
      "source": [
        "from keras.datasets import fashion_mnist "
      ],
      "metadata": {
        "id": "tl62D_DdxyyF"
      },
      "execution_count": 451,
      "outputs": []
    },
    {
      "cell_type": "code",
      "source": [
        "from keras.utils.np_utils import to_categorical\n",
        "\n",
        "train_labels = to_categorical(train_labels)\n",
        "test_labels = to_categorical(test_labels)\n",
        "train_labels[30000]"
      ],
      "metadata": {
        "id": "r5inRANizZt8",
        "outputId": "d5cb22a3-fa8d-48af-d537-dd069e48948d",
        "colab": {
          "base_uri": "https://localhost:8080/"
        }
      },
      "execution_count": 452,
      "outputs": [
        {
          "output_type": "execute_result",
          "data": {
            "text/plain": [
              "array([0., 0., 0., 1., 0., 0., 0., 0., 0., 0.], dtype=float32)"
            ]
          },
          "metadata": {},
          "execution_count": 452
        }
      ]
    },
    {
      "cell_type": "code",
      "source": [
        "from tensorflow.keras import optimizers\n",
        "from keras import losses\n",
        "from keras import metrics\n",
        "from keras import models\n",
        "from keras import layers\n",
        "\n",
        "\n",
        "model = models.Sequential()\n",
        "\n",
        "#Capa 4\n",
        "model.add(layers.Dense(10, activation='sigmoid', name=\"Capa4\",input_shape=(28*28,)))\n",
        "\n",
        "#Capa final\n",
        "model.add(layers.Dense(10, name=\"CapaSalida4\",activation='softmax'))"
      ],
      "metadata": {
        "id": "pjxjqc4pra-7"
      },
      "execution_count": 453,
      "outputs": []
    },
    {
      "cell_type": "code",
      "source": [
        "model.summary()\n",
        "model.compile(optimizer='rmsprop',\n",
        "              loss='categorical_crossentropy',\n",
        "              metrics=['accuracy'])"
      ],
      "metadata": {
        "id": "7sXgUfgyrbBl",
        "outputId": "59f9c4cd-ca6b-4d60-bd69-9c8a76084954",
        "colab": {
          "base_uri": "https://localhost:8080/"
        }
      },
      "execution_count": 454,
      "outputs": [
        {
          "output_type": "stream",
          "name": "stdout",
          "text": [
            "Model: \"sequential_29\"\n",
            "_________________________________________________________________\n",
            " Layer (type)                Output Shape              Param #   \n",
            "=================================================================\n",
            " Capa4 (Dense)               (None, 10)                7850      \n",
            "                                                                 \n",
            " CapaSalida4 (Dense)         (None, 10)                110       \n",
            "                                                                 \n",
            "=================================================================\n",
            "Total params: 7,960\n",
            "Trainable params: 7,960\n",
            "Non-trainable params: 0\n",
            "_________________________________________________________________\n"
          ]
        }
      ]
    },
    {
      "cell_type": "code",
      "source": [
        "one_hot_train_labels=train_labels\n",
        "\n",
        "\n",
        "x_val = train_data[:10000]\n",
        "partial_x_train = train_data[10000:]\n",
        "\n",
        "y_val = one_hot_train_labels[:10000]\n",
        "partial_y_train = one_hot_train_labels[10000:]"
      ],
      "metadata": {
        "id": "It0MOOFLrbEJ"
      },
      "execution_count": 457,
      "outputs": []
    },
    {
      "cell_type": "code",
      "source": [
        "history = model.fit(train_data,\n",
        "          train_labels,\n",
        "          epochs=5,\n",
        "          batch_size=128,\n",
        "          validation_data=(x_val, y_val))"
      ],
      "metadata": {
        "id": "IOp1kKzIrbHG",
        "outputId": "d76cb0b2-2eae-4abf-e61b-8ed8a7f01c1f",
        "colab": {
          "base_uri": "https://localhost:8080/"
        }
      },
      "execution_count": 458,
      "outputs": [
        {
          "output_type": "stream",
          "name": "stdout",
          "text": [
            "Epoch 1/5\n",
            "469/469 [==============================] - 1s 3ms/step - loss: 0.4776 - accuracy: 0.8376 - val_loss: 0.4697 - val_accuracy: 0.8384\n",
            "Epoch 2/5\n",
            "469/469 [==============================] - 1s 3ms/step - loss: 0.4579 - accuracy: 0.8430 - val_loss: 0.4496 - val_accuracy: 0.8468\n",
            "Epoch 3/5\n",
            "469/469 [==============================] - 1s 3ms/step - loss: 0.4435 - accuracy: 0.8457 - val_loss: 0.4388 - val_accuracy: 0.8465\n",
            "Epoch 4/5\n",
            "469/469 [==============================] - 1s 3ms/step - loss: 0.4326 - accuracy: 0.8498 - val_loss: 0.4303 - val_accuracy: 0.8506\n",
            "Epoch 5/5\n",
            "469/469 [==============================] - 1s 3ms/step - loss: 0.4240 - accuracy: 0.8522 - val_loss: 0.4228 - val_accuracy: 0.8519\n"
          ]
        }
      ]
    },
    {
      "cell_type": "code",
      "source": [
        "test_loss, test_acc = model.evaluate(test_data, test_labels)"
      ],
      "metadata": {
        "id": "jSoLXJWarbJ5",
        "outputId": "84f88662-3762-43d6-d3ba-754cfb762889",
        "colab": {
          "base_uri": "https://localhost:8080/"
        }
      },
      "execution_count": 459,
      "outputs": [
        {
          "output_type": "stream",
          "name": "stdout",
          "text": [
            "313/313 [==============================] - 0s 2ms/step - loss: 0.4603 - accuracy: 0.8386\n"
          ]
        }
      ]
    },
    {
      "cell_type": "code",
      "source": [
        "print('test_loss:', test_loss)\n",
        "print('test_acc:', test_acc)"
      ],
      "metadata": {
        "id": "Ms24TxRCrbMc",
        "outputId": "20996ce8-d30b-45ac-f771-55be47db1c49",
        "colab": {
          "base_uri": "https://localhost:8080/"
        }
      },
      "execution_count": 460,
      "outputs": [
        {
          "output_type": "stream",
          "name": "stdout",
          "text": [
            "test_loss: 0.460341215133667\n",
            "test_acc: 0.8385999798774719\n"
          ]
        }
      ]
    },
    {
      "cell_type": "code",
      "source": [
        "# Look at confusion matrix \n",
        "# Note, this code is taken straight from the SKLEARN website, an nice way of \n",
        "# viewing confusion matrix.\n",
        "import matplotlib.pyplot as plt\n",
        "def plot_confusion_matrix(cm, classes,\n",
        "                          normalize=False,\n",
        "                          title='Confusion matrix',\n",
        "                          cmap=plt.cm.Blues):\n",
        "    \"\"\"\n",
        "    This function prints and plots the confusion matrix.\n",
        "    Normalization can be applied by setting `normalize=True`.\n",
        "    \"\"\"\n",
        "    plt.imshow(cm, interpolation='nearest', cmap=cmap)\n",
        "    plt.title(title)\n",
        "    plt.colorbar()\n",
        "    tick_marks = np.arange(len(classes))\n",
        "    plt.xticks(tick_marks, classes, rotation=45)\n",
        "    plt.yticks(tick_marks, classes)\n",
        "\n",
        "    if normalize:\n",
        "        cm = cm.astype('float') / cm.sum(axis=1)[:, np.newaxis]\n",
        "\n",
        "    thresh = cm.max() / 2.\n",
        "    for i, j in itertools.product(range(cm.shape[0]), range(cm.shape[1])):\n",
        "        plt.text(j, i, cm[i, j],\n",
        "                 horizontalalignment=\"center\",\n",
        "                 color=\"white\" if cm[i, j] > thresh else \"black\")\n",
        "\n",
        "    plt.tight_layout()\n",
        "    plt.ylabel('Observación')\n",
        "    plt.xlabel('Predicción')"
      ],
      "metadata": {
        "id": "cgSE5F6nrbPB"
      },
      "execution_count": 461,
      "outputs": []
    },
    {
      "cell_type": "code",
      "source": [
        "from collections import Counter\n",
        "from sklearn.metrics import confusion_matrix\n",
        "import itertools\n",
        "import numpy as np\n",
        "\n",
        "# Predicción de valores desde el dataset de validación\n",
        "Y_pred = model.predict(test_data)\n",
        "print(\"=VALORES QUE PREDICE EL MODELO ENTRENADO CON LAS IMAGENES DE TEST======\")\n",
        "print(\"=RECORDAR QUE LA PRIMERA IMAGEN DE TEST ERA UN 7=======================\")\n",
        "print(Y_pred[0])\n",
        "print(\"=======================================================================\")\n",
        "# Convertir en predicciones de clases desde los vectores one-hot encoding \n",
        "Y_pred_classes = np.argmax(Y_pred, axis = 1) \n",
        "print(\"=CONVERSION DE PREDICCIONES EN CLASES DESDE VECTORES ONE-HOT ENCODING==\")\n",
        "print(Y_pred_classes)\n",
        "print(\"=======================================================================\")\n",
        "# Convertir en clases de observación desde los vectores one-hot encoding\n",
        "Y_true = np.argmax(test_labels, axis = 1) \n",
        "print(\"=CONVERSION DE VALORES REALES EN CLASES DESDE VECTORES ONE-HOT ENCODING\")\n",
        "print(Y_true)\n",
        "print(\"=======================================================================\")\n",
        "# Computar la matriz de confusión\n",
        "confusion_mtx = confusion_matrix(Y_true, Y_pred_classes) \n",
        "print(\"=MATRIZ DE CONFUSION CON VALORES REALES FRENTE A LOS PREDICHOS=========\")\n",
        "print(confusion_mtx)\n",
        "print(\"=======================================================================\")\n",
        "# Dibujar la matriz de confusión\n",
        "print(\"=PINTAMOS LA MATRIZ DE CONFUSION=======================================\")\n",
        "plot_confusion_matrix(confusion_mtx, classes = range(10))"
      ],
      "metadata": {
        "id": "a4X_PcjIrbRw",
        "outputId": "fbba58bb-6d12-49fb-e16c-5632e51824a0",
        "colab": {
          "base_uri": "https://localhost:8080/",
          "height": 768
        }
      },
      "execution_count": 462,
      "outputs": [
        {
          "output_type": "stream",
          "name": "stdout",
          "text": [
            "313/313 [==============================] - 0s 1ms/step\n",
            "=VALORES QUE PREDICE EL MODELO ENTRENADO CON LAS IMAGENES DE TEST======\n",
            "=RECORDAR QUE LA PRIMERA IMAGEN DE TEST ERA UN 7=======================\n",
            "[9.5403241e-04 5.6808178e-05 1.0126357e-03 6.1903126e-03 5.0215854e-04\n",
            " 7.3514469e-02 2.3085792e-03 1.5479344e-01 3.4233835e-03 7.5724423e-01]\n",
            "=======================================================================\n",
            "=CONVERSION DE PREDICCIONES EN CLASES DESDE VECTORES ONE-HOT ENCODING==\n",
            "[9 2 1 ... 8 1 5]\n",
            "=======================================================================\n",
            "=CONVERSION DE VALORES REALES EN CLASES DESDE VECTORES ONE-HOT ENCODING\n",
            "[9 2 1 ... 8 1 5]\n",
            "=======================================================================\n",
            "=MATRIZ DE CONFUSION CON VALORES REALES FRENTE A LOS PREDICHOS=========\n",
            "[[773   1  15  58   5   1 134   0  13   0]\n",
            " [  0 950  10  32   5   0   1   0   2   0]\n",
            " [ 11   5 690   9 164   0 115   0   6   0]\n",
            " [ 21  10  10 854  42   0  58   0   5   0]\n",
            " [  0   2  76  24 799   0  95   0   4   0]\n",
            " [  0   0   0   1   0 907   0  55   4  33]\n",
            " [121   2 102  46 113   0 592   0  24   0]\n",
            " [  0   0   0   0   0  36   0 915   0  49]\n",
            " [  0   1   5   6   2   3  23   5 954   1]\n",
            " [  0   0   0   0   0  11   0  36   1 952]]\n",
            "=======================================================================\n",
            "=PINTAMOS LA MATRIZ DE CONFUSION=======================================\n"
          ]
        },
        {
          "output_type": "display_data",
          "data": {
            "text/plain": [
              "<Figure size 432x288 with 2 Axes>"
            ],
            "image/png": "[encoded data removed]"
          },
          "metadata": {
            "needs_background": "light"
          }
        }
      ]
    },
    {
      "cell_type": "code",
      "source": [
        "# Veamos el elemento 6 de test y pintémoslo con matplotlib\n",
        "from keras.datasets import fashion_mnist\n",
        "(train_data, train_labels), (test_data, test_labels) = fashion_mnist.load_data()\n",
        "import matplotlib.pyplot as plt\n",
        "digit = test_data[5]\n",
        "plt.imshow(digit, cmap=plt.cm.binary)\n",
        "plt.show()"
      ],
      "metadata": {
        "id": "n1ri9KQerbUX",
        "outputId": "6c94aeef-a87f-4237-eb56-6b2960f6f53c",
        "colab": {
          "base_uri": "https://localhost:8080/",
          "height": 265
        }
      },
      "execution_count": 463,
      "outputs": [
        {
          "output_type": "display_data",
          "data": {
            "text/plain": [
              "<Figure size 432x288 with 1 Axes>"
            ],
            "image/png": "[encoded data removed]"
          },
          "metadata": {
            "needs_background": "light"
          }
        }
      ]
    },
    {
      "cell_type": "code",
      "source": [
        "train_data = train_data.reshape((60000, 28 * 28))\n",
        "test_data = test_data.reshape((10000, 28 * 28))\n",
        "\n",
        "train_data = train_data.astype('float32') / 255\n",
        "test_data = test_data.astype('float32') / 255\n",
        "\n",
        "from keras.utils.np_utils import to_categorical\n",
        "\n",
        "print(\"=VEMOS LAS ETIQUETAS DE TEST ORIGINALES================================\")\n",
        "print(test_labels)\n",
        "print(\"=======================================================================\")\n",
        "test_labels = to_categorical(test_labels)\n",
        "print(\"=VEMOS LAS ETIQUETAS DE TEST AL PASARLAS POR to_categorical============\")\n",
        "print(test_labels)\n",
        "print(\"=======================================================================\")\n",
        "\n",
        "# Hacemos las predicciones con las imágenes de Test\n",
        "predictions = model.predict(test_data)\n",
        "\n",
        "print(\"=VEMOS LA PREDICCIÓN DEL ELEMENTO 6 (QUE DEBERÍA SER UN 1)============\")\n",
        "print(predictions[5])\n",
        "print(\"=======================================================================\")\n",
        "print(\"=VEMOS LA PREDICCIÓN DEL ELEMENTO 6 (QUE DEBERÍA SER UN 1)============\")\n",
        "print(np.argmax(predictions[5]))\n",
        "print(\"=======================================================================\")\n",
        "print(\"=LA SUMA DE TODAS LAS PREDICCIONES PARA EL ELEMENTO 6 DEBERÍA SER 1===\")\n",
        "print(np.sum(predictions[5]))\n",
        "print(\"=======================================================================\")\n",
        "print(\"=PINTAMOS TODAS LAS PREDICCIONES=======================================\")\n",
        "print(predictions)"
      ],
      "metadata": {
        "id": "Z4KgfCrPrbXU",
        "outputId": "bbaa6247-8ab2-49b2-a795-a17d2a18d4ca",
        "colab": {
          "base_uri": "https://localhost:8080/"
        }
      },
      "execution_count": 464,
      "outputs": [
        {
          "output_type": "stream",
          "name": "stdout",
          "text": [
            "=VEMOS LAS ETIQUETAS DE TEST ORIGINALES================================\n",
            "[9 2 1 ... 8 1 5]\n",
            "=======================================================================\n",
            "=VEMOS LAS ETIQUETAS DE TEST AL PASARLAS POR to_categorical============\n",
            "[[0. 0. 0. ... 0. 0. 1.]\n",
            " [0. 0. 1. ... 0. 0. 0.]\n",
            " [0. 1. 0. ... 0. 0. 0.]\n",
            " ...\n",
            " [0. 0. 0. ... 0. 1. 0.]\n",
            " [0. 1. 0. ... 0. 0. 0.]\n",
            " [0. 0. 0. ... 0. 0. 0.]]\n",
            "=======================================================================\n",
            "313/313 [==============================] - 0s 1ms/step\n",
            "=VEMOS LA PREDICCIÓN DEL ELEMENTO 6 (QUE DEBERÍA SER UN 1)============\n",
            "[2.6238707e-03 9.8482287e-01 1.3471841e-03 9.7316001e-03 1.1981949e-03\n",
            " 6.0108357e-07 2.5063407e-04 1.2023260e-06 2.0329906e-05 3.4489503e-06]\n",
            "=======================================================================\n",
            "=VEMOS LA PREDICCIÓN DEL ELEMENTO 6 (QUE DEBERÍA SER UN 1)============\n",
            "1\n",
            "=======================================================================\n",
            "=LA SUMA DE TODAS LAS PREDICCIONES PARA EL ELEMENTO 6 DEBERÍA SER 1===\n",
            "0.99999994\n",
            "=======================================================================\n",
            "=PINTAMOS TODAS LAS PREDICCIONES=======================================\n",
            "[[9.5403241e-04 5.6808178e-05 1.0126357e-03 ... 1.5479344e-01\n",
            "  3.4233835e-03 7.5724423e-01]\n",
            " [1.0993177e-03 4.8222984e-04 9.1437131e-01 ... 1.8019407e-04\n",
            "  3.5404337e-03 2.9094954e-06]\n",
            " [1.1933595e-03 9.9177128e-01 9.3058974e-04 ... 6.2446395e-07\n",
            "  9.1875254e-06 1.9288391e-06]\n",
            " ...\n",
            " [2.3110539e-02 3.2706550e-05 3.6556104e-03 ... 2.7706751e-03\n",
            "  7.2080070e-01 1.4047220e-03]\n",
            " [1.1587453e-03 9.8894686e-01 1.1920764e-03 ... 7.6712899e-07\n",
            "  9.5218029e-06 2.4983622e-06]\n",
            " [1.4519432e-04 1.8425268e-05 3.0260968e-03 ... 2.1900260e-01\n",
            "  3.4827080e-02 3.5328739e-03]]\n"
          ]
        }
      ]
    },
    {
      "cell_type": "code",
      "source": [
        "def plot_image(i, predictions_array, true_label, img):\n",
        "  predictions_array, true_label, img = predictions_array, true_label[i], img[i]\n",
        "  plt.grid(False)\n",
        "  plt.xticks([])\n",
        "  plt.yticks([])\n",
        "\n",
        "  plt.imshow(img, cmap=plt.cm.binary)    \n",
        "\n",
        "  predicted_label = np.argmax(predictions_array)\n",
        "  if predicted_label.all() == true_label.all():\n",
        "    color = 'blue'\n",
        "  else:\n",
        "    color = 'red'\n",
        "\n",
        "  plt.xlabel(\"{} {:2.0f}% ({})\".format(predicted_label,\n",
        "                                100*np.max(predictions_array),\n",
        "                                true_label),\n",
        "                                color=color)\n",
        "\n",
        "def plot_value_array(i, predictions_array, true_label):\n",
        "  predictions_array, true_label = predictions_array, true_label[i]\n",
        "  plt.grid(False)\n",
        "  plt.xticks(range(10))\n",
        "  plt.yticks([])\n",
        "  thisplot = plt.bar(range(10), predictions_array, color=\"#00FF00\")\n",
        "  plt.ylim([0, 1])\n",
        "  predicted_label = np.argmax(predictions_array)\n",
        "\n",
        "  thisplot[predicted_label].set_color('red')\n",
        "  thisplot[true_label].set_color('black')"
      ],
      "metadata": {
        "id": "3g3V1j9mrbZk"
      },
      "execution_count": 465,
      "outputs": []
    },
    {
      "cell_type": "code",
      "source": [
        "from keras.datasets import fashion_mnist\n",
        "import numpy as np\n",
        "import matplotlib.pyplot as plt\n",
        "\n",
        "(train_data, train_labels), (test_data, test_labels) = fashion_mnist.load_data()\n",
        "train_data = train_data.reshape((60000, 28 * 28))\n",
        "test_data = test_data.reshape((10000, 28 * 28))\n",
        "\n",
        "train_data = train_data.astype('float32') / 255\n",
        "test_data = test_data.astype('float32') / 255\n",
        "\n",
        "predictions = model.predict(test_data)\n",
        "\n",
        "for i in range(6):\n",
        "  if (i==5):\n",
        "    plt.figure(figsize=(6,3))\n",
        "    plt.subplot(1,2,1)\n",
        "    plot_image(i, predictions[i], test_labels, test_data.reshape(10000,28,28))\n",
        "    plt.subplot(1,2,2)\n",
        "    plot_value_array(i, predictions[i],  test_labels)\n",
        "    plt.show()\n",
        "    plt.clf()"
      ],
      "metadata": {
        "id": "unGCw5sNrbcD",
        "outputId": "2ec9ef30-c6c4-427f-ab83-15d97a92d55d",
        "colab": {
          "base_uri": "https://localhost:8080/",
          "height": 248
        }
      },
      "execution_count": 466,
      "outputs": [
        {
          "output_type": "stream",
          "name": "stdout",
          "text": [
            "313/313 [==============================] - 0s 1ms/step\n"
          ]
        },
        {
          "output_type": "display_data",
          "data": {
            "text/plain": [
              "<Figure size 432x216 with 2 Axes>"
            ],
            "image/png": "[encoded data removed]"
          },
          "metadata": {
            "needs_background": "light"
          }
        },
        {
          "output_type": "display_data",
          "data": {
            "text/plain": [
              "<Figure size 432x288 with 0 Axes>"
            ]
          },
          "metadata": {}
        }
      ]
    },
    {
      "cell_type": "code",
      "source": [
        "sssssssssssssssssssssssss"
      ],
      "metadata": {
        "id": "wEbdrmqcrbfJ"
      },
      "execution_count": null,
      "outputs": []
    },
    {
      "cell_type": "code",
      "source": [
        "from keras.datasets import fashion_mnist "
      ],
      "metadata": {
        "id": "jmNykoZZz-rg"
      },
      "execution_count": 467,
      "outputs": []
    },
    {
      "cell_type": "code",
      "source": [
        "from keras.utils.np_utils import to_categorical\n",
        "\n",
        "train_labels = to_categorical(train_labels)\n",
        "test_labels = to_categorical(test_labels)\n",
        "train_labels[30000]"
      ],
      "metadata": {
        "id": "iq63Cw_lz9av",
        "outputId": "52baf558-fd34-44bd-8f6c-4fa95dcf3f33",
        "colab": {
          "base_uri": "https://localhost:8080/"
        }
      },
      "execution_count": 468,
      "outputs": [
        {
          "output_type": "execute_result",
          "data": {
            "text/plain": [
              "array([0., 0., 0., 1., 0., 0., 0., 0., 0., 0.], dtype=float32)"
            ]
          },
          "metadata": {},
          "execution_count": 468
        }
      ]
    },
    {
      "cell_type": "code",
      "source": [
        "from tensorflow.keras import optimizers\n",
        "from keras import losses\n",
        "from keras import metrics\n",
        "from keras import models\n",
        "from keras import layers\n",
        "\n",
        "\n",
        "model = models.Sequential()\n",
        "#Capa 5\n",
        "model.add(layers.Dense(512, activation='relu', name=\"Capa5\",input_shape=(28*28,)))\n",
        "\n",
        "#Capa final\n",
        "model.add(layers.Dense(10, name=\"CapaSalida\",activation='softmax'))"
      ],
      "metadata": {
        "id": "mewxLQ3Trbp8"
      },
      "execution_count": 469,
      "outputs": []
    },
    {
      "cell_type": "code",
      "source": [
        "model.summary()\n",
        "model.compile(optimizer='sgd',\n",
        "              loss='categorical_crossentropy',\n",
        "              metrics=['accuracy'])"
      ],
      "metadata": {
        "id": "9KNsi4o9rbsq",
        "outputId": "7e048b9b-c963-45f2-cad5-424a6d857220",
        "colab": {
          "base_uri": "https://localhost:8080/"
        }
      },
      "execution_count": 470,
      "outputs": [
        {
          "output_type": "stream",
          "name": "stdout",
          "text": [
            "Model: \"sequential_30\"\n",
            "_________________________________________________________________\n",
            " Layer (type)                Output Shape              Param #   \n",
            "=================================================================\n",
            " Capa5 (Dense)               (None, 512)               401920    \n",
            "                                                                 \n",
            " CapaSalida (Dense)          (None, 10)                5130      \n",
            "                                                                 \n",
            "=================================================================\n",
            "Total params: 407,050\n",
            "Trainable params: 407,050\n",
            "Non-trainable params: 0\n",
            "_________________________________________________________________\n"
          ]
        }
      ]
    },
    {
      "cell_type": "code",
      "source": [
        "one_hot_train_labels=train_labels\n",
        "\n",
        "\n",
        "x_val = train_data[:10000]\n",
        "partial_x_train = train_data[10000:]\n",
        "\n",
        "y_val = one_hot_train_labels[:10000]\n",
        "partial_y_train = one_hot_train_labels[10000:]"
      ],
      "metadata": {
        "id": "k6SdjxfbrbvJ"
      },
      "execution_count": 471,
      "outputs": []
    },
    {
      "cell_type": "code",
      "source": [
        "history = model.fit(train_data,\n",
        "          train_labels,\n",
        "          epochs=5,\n",
        "          batch_size=128,\n",
        "          validation_data=(x_val, y_val))"
      ],
      "metadata": {
        "id": "o-42gFJMrbys",
        "outputId": "e4ea1f13-d289-47ee-c3d0-3d049ce74f5b",
        "colab": {
          "base_uri": "https://localhost:8080/"
        }
      },
      "execution_count": 472,
      "outputs": [
        {
          "output_type": "stream",
          "name": "stdout",
          "text": [
            "Epoch 1/5\n",
            "469/469 [==============================] - 5s 10ms/step - loss: 0.9982 - accuracy: 0.6975 - val_loss: 0.7226 - val_accuracy: 0.7725\n",
            "Epoch 2/5\n",
            "469/469 [==============================] - 4s 9ms/step - loss: 0.6556 - accuracy: 0.7903 - val_loss: 0.6092 - val_accuracy: 0.8042\n",
            "Epoch 3/5\n",
            "469/469 [==============================] - 5s 10ms/step - loss: 0.5807 - accuracy: 0.8115 - val_loss: 0.5553 - val_accuracy: 0.8224\n",
            "Epoch 4/5\n",
            "469/469 [==============================] - 4s 9ms/step - loss: 0.5402 - accuracy: 0.8218 - val_loss: 0.5259 - val_accuracy: 0.8288\n",
            "Epoch 5/5\n",
            "469/469 [==============================] - 4s 9ms/step - loss: 0.5144 - accuracy: 0.8285 - val_loss: 0.5024 - val_accuracy: 0.8322\n"
          ]
        }
      ]
    },
    {
      "cell_type": "code",
      "source": [
        "test_loss, test_acc = model.evaluate(test_data, test_labels)"
      ],
      "metadata": {
        "id": "WOyxLKtdrb09",
        "outputId": "1d0c62a2-0bf7-4671-8a47-083929e3b184",
        "colab": {
          "base_uri": "https://localhost:8080/"
        }
      },
      "execution_count": 474,
      "outputs": [
        {
          "output_type": "stream",
          "name": "stdout",
          "text": [
            "313/313 [==============================] - 1s 3ms/step - loss: 0.5275 - accuracy: 0.8191\n"
          ]
        }
      ]
    },
    {
      "cell_type": "code",
      "source": [
        "print('test_loss:', test_loss)\n",
        "print('test_acc:', test_acc)"
      ],
      "metadata": {
        "id": "IvA9C9GRrb3u",
        "outputId": "caa1af7b-e2cb-4630-ac16-6582b969ae53",
        "colab": {
          "base_uri": "https://localhost:8080/"
        }
      },
      "execution_count": 475,
      "outputs": [
        {
          "output_type": "stream",
          "name": "stdout",
          "text": [
            "test_loss: 0.5275247693061829\n",
            "test_acc: 0.819100022315979\n"
          ]
        }
      ]
    },
    {
      "cell_type": "code",
      "source": [
        "# Look at confusion matrix \n",
        "# Note, this code is taken straight from the SKLEARN website, an nice way of \n",
        "# viewing confusion matrix.\n",
        "import matplotlib.pyplot as plt\n",
        "def plot_confusion_matrix(cm, classes,\n",
        "                          normalize=False,\n",
        "                          title='Confusion matrix',\n",
        "                          cmap=plt.cm.Blues):\n",
        "    \"\"\"\n",
        "    This function prints and plots the confusion matrix.\n",
        "    Normalization can be applied by setting `normalize=True`.\n",
        "    \"\"\"\n",
        "    plt.imshow(cm, interpolation='nearest', cmap=cmap)\n",
        "    plt.title(title)\n",
        "    plt.colorbar()\n",
        "    tick_marks = np.arange(len(classes))\n",
        "    plt.xticks(tick_marks, classes, rotation=45)\n",
        "    plt.yticks(tick_marks, classes)\n",
        "\n",
        "    if normalize:\n",
        "        cm = cm.astype('float') / cm.sum(axis=1)[:, np.newaxis]\n",
        "\n",
        "    thresh = cm.max() / 2.\n",
        "    for i, j in itertools.product(range(cm.shape[0]), range(cm.shape[1])):\n",
        "        plt.text(j, i, cm[i, j],\n",
        "                 horizontalalignment=\"center\",\n",
        "                 color=\"white\" if cm[i, j] > thresh else \"black\")\n",
        "\n",
        "    plt.tight_layout()\n",
        "    plt.ylabel('Observación')\n",
        "    plt.xlabel('Predicción')"
      ],
      "metadata": {
        "id": "zzYSck9Yrb6A"
      },
      "execution_count": 476,
      "outputs": []
    },
    {
      "cell_type": "code",
      "source": [
        "from collections import Counter\n",
        "from sklearn.metrics import confusion_matrix\n",
        "import itertools\n",
        "import numpy as np\n",
        "\n",
        "# Predicción de valores desde el dataset de validación\n",
        "Y_pred = model.predict(test_data)\n",
        "print(\"=VALORES QUE PREDICE EL MODELO ENTRENADO CON LAS IMAGENES DE TEST======\")\n",
        "print(\"=RECORDAR QUE LA PRIMERA IMAGEN DE TEST ERA UN 7=======================\")\n",
        "print(Y_pred[0])\n",
        "print(\"=======================================================================\")\n",
        "# Convertir en predicciones de clases desde los vectores one-hot encoding \n",
        "Y_pred_classes = np.argmax(Y_pred, axis = 1) \n",
        "print(\"=CONVERSION DE PREDICCIONES EN CLASES DESDE VECTORES ONE-HOT ENCODING==\")\n",
        "print(Y_pred_classes)\n",
        "print(\"=======================================================================\")\n",
        "# Convertir en clases de observación desde los vectores one-hot encoding\n",
        "Y_true = np.argmax(test_labels, axis = 1) \n",
        "print(\"=CONVERSION DE VALORES REALES EN CLASES DESDE VECTORES ONE-HOT ENCODING\")\n",
        "print(Y_true)\n",
        "print(\"=======================================================================\")\n",
        "# Computar la matriz de confusión\n",
        "confusion_mtx = confusion_matrix(Y_true, Y_pred_classes) \n",
        "print(\"=MATRIZ DE CONFUSION CON VALORES REALES FRENTE A LOS PREDICHOS=========\")\n",
        "print(confusion_mtx)\n",
        "print(\"=======================================================================\")\n",
        "# Dibujar la matriz de confusión\n",
        "print(\"=PINTAMOS LA MATRIZ DE CONFUSION=======================================\")\n",
        "plot_confusion_matrix(confusion_mtx, classes = range(10))"
      ],
      "metadata": {
        "id": "ZNjPPeN6rb8R",
        "outputId": "e7fb0f17-1195-4ac9-aaed-6c7b4f58cbc8",
        "colab": {
          "base_uri": "https://localhost:8080/",
          "height": 768
        }
      },
      "execution_count": 477,
      "outputs": [
        {
          "output_type": "stream",
          "name": "stdout",
          "text": [
            "313/313 [==============================] - 1s 3ms/step\n",
            "=VALORES QUE PREDICE EL MODELO ENTRENADO CON LAS IMAGENES DE TEST======\n",
            "=RECORDAR QUE LA PRIMERA IMAGEN DE TEST ERA UN 7=======================\n",
            "[4.9093986e-05 5.7186444e-05 1.6255703e-04 1.2499210e-04 2.2032372e-04\n",
            " 1.5562998e-01 1.8808112e-04 2.3031944e-01 1.1275896e-02 6.0197240e-01]\n",
            "=======================================================================\n",
            "=CONVERSION DE PREDICCIONES EN CLASES DESDE VECTORES ONE-HOT ENCODING==\n",
            "[9 2 1 ... 8 1 5]\n",
            "=======================================================================\n",
            "=CONVERSION DE VALORES REALES EN CLASES DESDE VECTORES ONE-HOT ENCODING\n",
            "[9 2 1 ... 8 1 5]\n",
            "=======================================================================\n",
            "=MATRIZ DE CONFUSION CON VALORES REALES FRENTE A LOS PREDICHOS=========\n",
            "[[814   5  13  54   5   1  90   0  18   0]\n",
            " [  9 933  14  34   7   0   1   0   2   0]\n",
            " [ 26   2 700   9 149   1  99   0  14   0]\n",
            " [ 31  15   9 856  38   1  46   0   4   0]\n",
            " [  0   2 115  33 730   1 114   0   5   0]\n",
            " [  0   0   0   2   0 891   0  58   4  45]\n",
            " [188   5 128  39  92   3 512   0  33   0]\n",
            " [  0   0   0   0   0  36   0 883   0  81]\n",
            " [  3   1  12  11   3   5  26   6 932   1]\n",
            " [  0   0   0   0   0  13   0  45   2 940]]\n",
            "=======================================================================\n",
            "=PINTAMOS LA MATRIZ DE CONFUSION=======================================\n"
          ]
        },
        {
          "output_type": "display_data",
          "data": {
            "text/plain": [
              "<Figure size 432x288 with 2 Axes>"
            ],
            "image/png": "[encoded data removed]"
          },
          "metadata": {
            "needs_background": "light"
          }
        }
      ]
    },
    {
      "cell_type": "code",
      "source": [
        "# Veamos el elemento 6 de test y pintémoslo con matplotlib\n",
        "from keras.datasets import fashion_mnist\n",
        "(train_data, train_labels), (test_data, test_labels) = fashion_mnist.load_data()\n",
        "import matplotlib.pyplot as plt\n",
        "digit = test_data[5]\n",
        "plt.imshow(digit, cmap=plt.cm.binary)\n",
        "plt.show()"
      ],
      "metadata": {
        "id": "eJ71-j4erb-9",
        "outputId": "8355940f-196b-4138-8fc7-6bdd5f76d17d",
        "colab": {
          "base_uri": "https://localhost:8080/",
          "height": 265
        }
      },
      "execution_count": 478,
      "outputs": [
        {
          "output_type": "display_data",
          "data": {
            "text/plain": [
              "<Figure size 432x288 with 1 Axes>"
            ],
            "image/png": "[encoded data removed]"
          },
          "metadata": {
            "needs_background": "light"
          }
        }
      ]
    },
    {
      "cell_type": "code",
      "source": [
        "train_data = train_data.reshape((60000, 28 * 28))\n",
        "test_data = test_data.reshape((10000, 28 * 28))\n",
        "\n",
        "train_data = train_data.astype('float32') / 255\n",
        "test_data = test_data.astype('float32') / 255\n",
        "\n",
        "from keras.utils.np_utils import to_categorical\n",
        "\n",
        "print(\"=VEMOS LAS ETIQUETAS DE TEST ORIGINALES================================\")\n",
        "print(test_labels)\n",
        "print(\"=======================================================================\")\n",
        "test_labels = to_categorical(test_labels)\n",
        "print(\"=VEMOS LAS ETIQUETAS DE TEST AL PASARLAS POR to_categorical============\")\n",
        "print(test_labels)\n",
        "print(\"=======================================================================\")\n",
        "\n",
        "# Hacemos las predicciones con las imágenes de Test\n",
        "predictions = model.predict(test_data)\n",
        "\n",
        "print(\"=VEMOS LA PREDICCIÓN DEL ELEMENTO 6 (QUE DEBERÍA SER UN 1)============\")\n",
        "print(predictions[5])\n",
        "print(\"=======================================================================\")\n",
        "print(\"=VEMOS LA PREDICCIÓN DEL ELEMENTO 6 (QUE DEBERÍA SER UN 1)============\")\n",
        "print(np.argmax(predictions[5]))\n",
        "print(\"=======================================================================\")\n",
        "print(\"=LA SUMA DE TODAS LAS PREDICCIONES PARA EL ELEMENTO 6 DEBERÍA SER 1===\")\n",
        "print(np.sum(predictions[5]))\n",
        "print(\"=======================================================================\")\n",
        "print(\"=PINTAMOS TODAS LAS PREDICCIONES=======================================\")\n",
        "print(predictions)"
      ],
      "metadata": {
        "id": "Tr3S5ziCrcCS",
        "outputId": "30bd4126-a490-47a6-9e0c-29bd6f4266bb",
        "colab": {
          "base_uri": "https://localhost:8080/"
        }
      },
      "execution_count": 479,
      "outputs": [
        {
          "output_type": "stream",
          "name": "stdout",
          "text": [
            "=VEMOS LAS ETIQUETAS DE TEST ORIGINALES================================\n",
            "[9 2 1 ... 8 1 5]\n",
            "=======================================================================\n",
            "=VEMOS LAS ETIQUETAS DE TEST AL PASARLAS POR to_categorical============\n",
            "[[0. 0. 0. ... 0. 0. 1.]\n",
            " [0. 0. 1. ... 0. 0. 0.]\n",
            " [0. 1. 0. ... 0. 0. 0.]\n",
            " ...\n",
            " [0. 0. 0. ... 0. 1. 0.]\n",
            " [0. 1. 0. ... 0. 0. 0.]\n",
            " [0. 0. 0. ... 0. 0. 0.]]\n",
            "=======================================================================\n",
            "313/313 [==============================] - 1s 3ms/step\n",
            "=VEMOS LA PREDICCIÓN DEL ELEMENTO 6 (QUE DEBERÍA SER UN 1)============\n",
            "[3.8083030e-03 9.8285365e-01 8.5019186e-04 1.7974591e-03 9.7751506e-03\n",
            " 5.4864718e-06 8.8252319e-04 6.5730510e-06 1.7564917e-05 3.0193200e-06]\n",
            "=======================================================================\n",
            "=VEMOS LA PREDICCIÓN DEL ELEMENTO 6 (QUE DEBERÍA SER UN 1)============\n",
            "1\n",
            "=======================================================================\n",
            "=LA SUMA DE TODAS LAS PREDICCIONES PARA EL ELEMENTO 6 DEBERÍA SER 1===\n",
            "0.99999994\n",
            "=======================================================================\n",
            "=PINTAMOS TODAS LAS PREDICCIONES=======================================\n",
            "[[4.9093986e-05 5.7186444e-05 1.6255703e-04 ... 2.3031944e-01\n",
            "  1.1275896e-02 6.0197240e-01]\n",
            " [7.7372807e-04 3.8280388e-05 9.0130031e-01 ... 4.0704222e-08\n",
            "  2.1306783e-04 1.8210150e-06]\n",
            " [5.5130644e-05 9.9970090e-01 3.7484595e-05 ... 2.9590521e-07\n",
            "  4.0230250e-07 1.5803043e-07]\n",
            " ...\n",
            " [8.4460050e-02 5.4185680e-04 5.6998818e-03 ... 6.0008431e-04\n",
            "  7.4074596e-01 1.4729574e-03]\n",
            " [1.1962890e-03 9.7566831e-01 5.5965007e-04 ... 6.2295490e-05\n",
            "  1.9901305e-05 7.8765181e-05]\n",
            " [1.7539877e-03 1.9738732e-03 5.1428867e-03 ... 2.7526060e-01\n",
            "  5.7188302e-02 7.5192764e-02]]\n"
          ]
        }
      ]
    },
    {
      "cell_type": "code",
      "source": [
        "def plot_image(i, predictions_array, true_label, img):\n",
        "  predictions_array, true_label, img = predictions_array, true_label[i], img[i]\n",
        "  plt.grid(False)\n",
        "  plt.xticks([])\n",
        "  plt.yticks([])\n",
        "\n",
        "  plt.imshow(img, cmap=plt.cm.binary)    \n",
        "\n",
        "  predicted_label = np.argmax(predictions_array)\n",
        "  if predicted_label.all() == true_label.all():\n",
        "    color = 'blue'\n",
        "  else:\n",
        "    color = 'red'\n",
        "\n",
        "  plt.xlabel(\"{} {:2.0f}% ({})\".format(predicted_label,\n",
        "                                100*np.max(predictions_array),\n",
        "                                true_label),\n",
        "                                color=color)\n",
        "\n",
        "def plot_value_array(i, predictions_array, true_label):\n",
        "  predictions_array, true_label = predictions_array, true_label[i]\n",
        "  plt.grid(False)\n",
        "  plt.xticks(range(10))\n",
        "  plt.yticks([])\n",
        "  thisplot = plt.bar(range(10), predictions_array, color=\"#00FF00\")\n",
        "  plt.ylim([0, 1])\n",
        "  predicted_label = np.argmax(predictions_array)\n",
        "\n",
        "  thisplot[predicted_label].set_color('red')\n",
        "  thisplot[true_label].set_color('black')"
      ],
      "metadata": {
        "id": "q98EE15ev28L"
      },
      "execution_count": 480,
      "outputs": []
    },
    {
      "cell_type": "code",
      "source": [
        "from keras.datasets import fashion_mnist\n",
        "import numpy as np\n",
        "import matplotlib.pyplot as plt\n",
        "\n",
        "(train_data, train_labels), (test_data, test_labels) = fashion_mnist.load_data()\n",
        "train_data = train_data.reshape((60000, 28 * 28))\n",
        "test_data = test_data.reshape((10000, 28 * 28))\n",
        "\n",
        "train_data = train_data.astype('float32') / 255\n",
        "test_data = test_data.astype('float32') / 255\n",
        "\n",
        "predictions = model.predict(test_data)\n",
        "\n",
        "for i in range(6):\n",
        "  if (i==5):\n",
        "    plt.figure(figsize=(6,3))\n",
        "    plt.subplot(1,2,1)\n",
        "    plot_image(i, predictions[i], test_labels, test_data.reshape(10000,28,28))\n",
        "    plt.subplot(1,2,2)\n",
        "    plot_value_array(i, predictions[i],  test_labels)\n",
        "    plt.show()\n",
        "    plt.clf()"
      ],
      "metadata": {
        "id": "B-O7hrZ6rcFJ",
        "outputId": "d5b3f138-2914-432c-c58f-c2c17d6f9c46",
        "colab": {
          "base_uri": "https://localhost:8080/",
          "height": 248
        }
      },
      "execution_count": 481,
      "outputs": [
        {
          "output_type": "stream",
          "name": "stdout",
          "text": [
            "313/313 [==============================] - 1s 3ms/step\n"
          ]
        },
        {
          "output_type": "display_data",
          "data": {
            "text/plain": [
              "<Figure size 432x216 with 2 Axes>"
            ],
            "image/png": "[encoded data removed]"
          },
          "metadata": {
            "needs_background": "light"
          }
        },
        {
          "output_type": "display_data",
          "data": {
            "text/plain": [
              "<Figure size 432x288 with 0 Axes>"
            ]
          },
          "metadata": {}
        }
      ]
    },
    {
      "cell_type": "markdown",
      "source": [
        "ssssssssssssssssssssss"
      ],
      "metadata": {
        "id": "X_SNBP_vwSGD"
      }
    },
    {
      "cell_type": "code",
      "source": [
        "from keras.datasets import fashion_mnist "
      ],
      "metadata": {
        "id": "laeLWHhUx2zh"
      },
      "execution_count": 482,
      "outputs": []
    },
    {
      "cell_type": "code",
      "source": [
        "from keras.utils.np_utils import to_categorical\n",
        "\n",
        "train_labels = to_categorical(train_labels)\n",
        "test_labels = to_categorical(test_labels)\n",
        "train_labels[30000]"
      ],
      "metadata": {
        "id": "FXfLaVEm0HWe",
        "outputId": "44985279-1211-4060-87d8-b90900f54016",
        "colab": {
          "base_uri": "https://localhost:8080/"
        }
      },
      "execution_count": 483,
      "outputs": [
        {
          "output_type": "execute_result",
          "data": {
            "text/plain": [
              "array([0., 0., 0., 1., 0., 0., 0., 0., 0., 0.], dtype=float32)"
            ]
          },
          "metadata": {},
          "execution_count": 483
        }
      ]
    },
    {
      "cell_type": "code",
      "source": [
        "from tensorflow.keras import optimizers\n",
        "from keras import losses\n",
        "from keras import metrics\n",
        "from keras import models\n",
        "from keras import layers\n",
        "\n",
        "\n",
        "model = models.Sequential()\n",
        "#Capa 6\n",
        "model.add(layers.Dense(512, activation='relu', name=\"Capa6\",input_shape=(28*28,)))\n",
        "\n",
        "#Capa final\n",
        "model.add(layers.Dense(10, name=\"CapaSalida\",activation='softmax'))"
      ],
      "metadata": {
        "id": "S97htQ3frcIP"
      },
      "execution_count": 484,
      "outputs": []
    },
    {
      "cell_type": "code",
      "source": [
        "model.summary()\n",
        "model.compile(optimizer='rmsprop',\n",
        "              loss='categorical_crossentropy',\n",
        "              metrics=['accuracy'])\n"
      ],
      "metadata": {
        "id": "ROYr8n3wrcLS",
        "outputId": "a7064df8-12b7-4594-b6ba-ab1860a6931a",
        "colab": {
          "base_uri": "https://localhost:8080/"
        }
      },
      "execution_count": 485,
      "outputs": [
        {
          "output_type": "stream",
          "name": "stdout",
          "text": [
            "Model: \"sequential_31\"\n",
            "_________________________________________________________________\n",
            " Layer (type)                Output Shape              Param #   \n",
            "=================================================================\n",
            " Capa6 (Dense)               (None, 512)               401920    \n",
            "                                                                 \n",
            " CapaSalida (Dense)          (None, 10)                5130      \n",
            "                                                                 \n",
            "=================================================================\n",
            "Total params: 407,050\n",
            "Trainable params: 407,050\n",
            "Non-trainable params: 0\n",
            "_________________________________________________________________\n"
          ]
        }
      ]
    },
    {
      "cell_type": "code",
      "source": [
        "one_hot_train_labels=train_labels\n",
        "\n",
        "\n",
        "x_val = train_data[:10000]\n",
        "partial_x_train = train_data[10000:]\n",
        "\n",
        "y_val = one_hot_train_labels[:10000]\n",
        "partial_y_train = one_hot_train_labels[10000:]"
      ],
      "metadata": {
        "id": "momgCST1rciX"
      },
      "execution_count": 486,
      "outputs": []
    },
    {
      "cell_type": "code",
      "source": [
        "history = model.fit(train_data,\n",
        "          train_labels,\n",
        "          epochs=5,\n",
        "          batch_size=128,\n",
        "          validation_data=(x_val, y_val))"
      ],
      "metadata": {
        "id": "-0tdcT-qrck4",
        "outputId": "7a463579-4be1-49fc-8534-560ac333f70f",
        "colab": {
          "base_uri": "https://localhost:8080/"
        }
      },
      "execution_count": 487,
      "outputs": [
        {
          "output_type": "stream",
          "name": "stdout",
          "text": [
            "Epoch 1/5\n",
            "469/469 [==============================] - 7s 13ms/step - loss: 0.5571 - accuracy: 0.8016 - val_loss: 0.4323 - val_accuracy: 0.8396\n",
            "Epoch 2/5\n",
            "469/469 [==============================] - 6s 13ms/step - loss: 0.3801 - accuracy: 0.8595 - val_loss: 0.3502 - val_accuracy: 0.8718\n",
            "Epoch 3/5\n",
            "469/469 [==============================] - 6s 13ms/step - loss: 0.3364 - accuracy: 0.8761 - val_loss: 0.2855 - val_accuracy: 0.8941\n",
            "Epoch 4/5\n",
            "469/469 [==============================] - 6s 13ms/step - loss: 0.3114 - accuracy: 0.8849 - val_loss: 0.2791 - val_accuracy: 0.8961\n",
            "Epoch 5/5\n",
            "469/469 [==============================] - 6s 13ms/step - loss: 0.2935 - accuracy: 0.8925 - val_loss: 0.2529 - val_accuracy: 0.9088\n"
          ]
        }
      ]
    },
    {
      "cell_type": "code",
      "source": [
        "test_loss, test_acc = model.evaluate(test_data, test_labels)"
      ],
      "metadata": {
        "id": "oTCsWGSlrcnu",
        "outputId": "24f15fe2-1559-4721-c057-d92a45e8c64d",
        "colab": {
          "base_uri": "https://localhost:8080/"
        }
      },
      "execution_count": 488,
      "outputs": [
        {
          "output_type": "stream",
          "name": "stdout",
          "text": [
            "313/313 [==============================] - 1s 3ms/step - loss: 0.3417 - accuracy: 0.8796\n"
          ]
        }
      ]
    },
    {
      "cell_type": "code",
      "source": [
        "print('test_loss:', test_loss)\n",
        "print('test_acc:', test_acc)"
      ],
      "metadata": {
        "id": "N4KywpZArcqj",
        "outputId": "ea6ae9be-d812-4181-912b-4f9d3cdea165",
        "colab": {
          "base_uri": "https://localhost:8080/"
        }
      },
      "execution_count": 489,
      "outputs": [
        {
          "output_type": "stream",
          "name": "stdout",
          "text": [
            "test_loss: 0.34167540073394775\n",
            "test_acc: 0.8795999884605408\n"
          ]
        }
      ]
    },
    {
      "cell_type": "code",
      "source": [
        "# Look at confusion matrix \n",
        "# Note, this code is taken straight from the SKLEARN website, an nice way of \n",
        "# viewing confusion matrix.\n",
        "import matplotlib.pyplot as plt\n",
        "def plot_confusion_matrix(cm, classes,\n",
        "                          normalize=False,\n",
        "                          title='Confusion matrix',\n",
        "                          cmap=plt.cm.Blues):\n",
        "    \"\"\"\n",
        "    This function prints and plots the confusion matrix.\n",
        "    Normalization can be applied by setting `normalize=True`.\n",
        "    \"\"\"\n",
        "    plt.imshow(cm, interpolation='nearest', cmap=cmap)\n",
        "    plt.title(title)\n",
        "    plt.colorbar()\n",
        "    tick_marks = np.arange(len(classes))\n",
        "    plt.xticks(tick_marks, classes, rotation=45)\n",
        "    plt.yticks(tick_marks, classes)\n",
        "\n",
        "    if normalize:\n",
        "        cm = cm.astype('float') / cm.sum(axis=1)[:, np.newaxis]\n",
        "\n",
        "    thresh = cm.max() / 2.\n",
        "    for i, j in itertools.product(range(cm.shape[0]), range(cm.shape[1])):\n",
        "        plt.text(j, i, cm[i, j],\n",
        "                 horizontalalignment=\"center\",\n",
        "                 color=\"white\" if cm[i, j] > thresh else \"black\")\n",
        "\n",
        "    plt.tight_layout()\n",
        "    plt.ylabel('Observación')\n",
        "    plt.xlabel('Predicción')"
      ],
      "metadata": {
        "id": "3VBsRnhXrctb"
      },
      "execution_count": 490,
      "outputs": []
    },
    {
      "cell_type": "code",
      "source": [
        "from collections import Counter\n",
        "from sklearn.metrics import confusion_matrix\n",
        "import itertools\n",
        "import numpy as np\n",
        "\n",
        "# Predicción de valores desde el dataset de validación\n",
        "Y_pred = model.predict(test_data)\n",
        "print(\"=VALORES QUE PREDICE EL MODELO ENTRENADO CON LAS IMAGENES DE TEST======\")\n",
        "print(\"=RECORDAR QUE LA PRIMERA IMAGEN DE TEST ERA UN 7=======================\")\n",
        "print(Y_pred[0])\n",
        "print(\"=======================================================================\")\n",
        "# Convertir en predicciones de clases desde los vectores one-hot encoding \n",
        "Y_pred_classes = np.argmax(Y_pred, axis = 1) \n",
        "print(\"=CONVERSION DE PREDICCIONES EN CLASES DESDE VECTORES ONE-HOT ENCODING==\")\n",
        "print(Y_pred_classes)\n",
        "print(\"=======================================================================\")\n",
        "# Convertir en clases de observación desde los vectores one-hot encoding\n",
        "Y_true = np.argmax(test_labels, axis = 1) \n",
        "print(\"=CONVERSION DE VALORES REALES EN CLASES DESDE VECTORES ONE-HOT ENCODING\")\n",
        "print(Y_true)\n",
        "print(\"=======================================================================\")\n",
        "# Computar la matriz de confusión\n",
        "confusion_mtx = confusion_matrix(Y_true, Y_pred_classes) \n",
        "print(\"=MATRIZ DE CONFUSION CON VALORES REALES FRENTE A LOS PREDICHOS=========\")\n",
        "print(confusion_mtx)\n",
        "print(\"=======================================================================\")\n",
        "# Dibujar la matriz de confusión\n",
        "print(\"=PINTAMOS LA MATRIZ DE CONFUSION=======================================\")\n",
        "plot_confusion_matrix(confusion_mtx, classes = range(10))"
      ],
      "metadata": {
        "id": "_8Tli2QJrcwb",
        "outputId": "2d32b3d2-2571-47aa-ff12-22f627d53b04",
        "colab": {
          "base_uri": "https://localhost:8080/",
          "height": 768
        }
      },
      "execution_count": 491,
      "outputs": [
        {
          "output_type": "stream",
          "name": "stdout",
          "text": [
            "313/313 [==============================] - 1s 3ms/step\n",
            "=VALORES QUE PREDICE EL MODELO ENTRENADO CON LAS IMAGENES DE TEST======\n",
            "=RECORDAR QUE LA PRIMERA IMAGEN DE TEST ERA UN 7=======================\n",
            "[3.3837429e-07 1.3465459e-10 6.2334891e-08 1.2994203e-08 1.7604242e-08\n",
            " 1.7969522e-01 6.4082894e-07 1.7621647e-01 7.2627872e-06 6.4407998e-01]\n",
            "=======================================================================\n",
            "=CONVERSION DE PREDICCIONES EN CLASES DESDE VECTORES ONE-HOT ENCODING==\n",
            "[9 2 1 ... 8 1 5]\n",
            "=======================================================================\n",
            "=CONVERSION DE VALORES REALES EN CLASES DESDE VECTORES ONE-HOT ENCODING\n",
            "[9 2 1 ... 8 1 5]\n",
            "=======================================================================\n",
            "=MATRIZ DE CONFUSION CON VALORES REALES FRENTE A LOS PREDICHOS=========\n",
            "[[856   1  31  17   5   3  81   0   6   0]\n",
            " [  3 965   0  24   4   0   3   0   1   0]\n",
            " [ 15   0 815   5 105   0  60   0   0   0]\n",
            " [ 23   4  17 873  54   0  26   0   3   0]\n",
            " [  0   1  99  19 832   0  49   0   0   0]\n",
            " [  0   0   0   0   0 983   0  13   1   3]\n",
            " [143   1 105  23  76   0 637   0  15   0]\n",
            " [  0   0   0   0   0  31   0 961   0   8]\n",
            " [  4   0   7   3   5   5   2   4 970   0]\n",
            " [  0   0   0   0   0  22   1  73   0 904]]\n",
            "=======================================================================\n",
            "=PINTAMOS LA MATRIZ DE CONFUSION=======================================\n"
          ]
        },
        {
          "output_type": "display_data",
          "data": {
            "text/plain": [
              "<Figure size 432x288 with 2 Axes>"
            ],
            "image/png": "[encoded data removed]"
          },
          "metadata": {
            "needs_background": "light"
          }
        }
      ]
    },
    {
      "cell_type": "code",
      "source": [
        "# Veamos el elemento 6 de test y pintémoslo con matplotlib\n",
        "from keras.datasets import fashion_mnist\n",
        "(train_data, train_labels), (test_data, test_labels) = fashion_mnist.load_data()\n",
        "import matplotlib.pyplot as plt\n",
        "digit = test_data[5]\n",
        "plt.imshow(digit, cmap=plt.cm.binary)\n",
        "plt.show()"
      ],
      "metadata": {
        "id": "Vw7bKWoArczI",
        "outputId": "4e805b24-a844-458c-c403-a4b967f33d4f",
        "colab": {
          "base_uri": "https://localhost:8080/",
          "height": 265
        }
      },
      "execution_count": 492,
      "outputs": [
        {
          "output_type": "display_data",
          "data": {
            "text/plain": [
              "<Figure size 432x288 with 1 Axes>"
            ],
            "image/png": "[encoded data removed]"
          },
          "metadata": {
            "needs_background": "light"
          }
        }
      ]
    },
    {
      "cell_type": "code",
      "source": [
        "train_data = train_data.reshape((60000, 28 * 28))\n",
        "test_data = test_data.reshape((10000, 28 * 28))\n",
        "\n",
        "train_data = train_data.astype('float32') / 255\n",
        "test_data = test_data.astype('float32') / 255\n",
        "\n",
        "from keras.utils.np_utils import to_categorical\n",
        "\n",
        "print(\"=VEMOS LAS ETIQUETAS DE TEST ORIGINALES================================\")\n",
        "print(test_labels)\n",
        "print(\"=======================================================================\")\n",
        "test_labels = to_categorical(test_labels)\n",
        "print(\"=VEMOS LAS ETIQUETAS DE TEST AL PASARLAS POR to_categorical============\")\n",
        "print(test_labels)\n",
        "print(\"=======================================================================\")\n",
        "\n",
        "# Hacemos las predicciones con las imágenes de Test\n",
        "predictions = model.predict(test_data)\n",
        "\n",
        "print(\"=VEMOS LA PREDICCIÓN DEL ELEMENTO 6 (QUE DEBERÍA SER UN 1)============\")\n",
        "print(predictions[5])\n",
        "print(\"=======================================================================\")\n",
        "print(\"=VEMOS LA PREDICCIÓN DEL ELEMENTO 6 (QUE DEBERÍA SER UN 1)============\")\n",
        "print(np.argmax(predictions[5]))\n",
        "print(\"=======================================================================\")\n",
        "print(\"=LA SUMA DE TODAS LAS PREDICCIONES PARA EL ELEMENTO 6 DEBERÍA SER 1===\")\n",
        "print(np.sum(predictions[5]))\n",
        "print(\"=======================================================================\")\n",
        "print(\"=PINTAMOS TODAS LAS PREDICCIONES=======================================\")\n",
        "print(predictions)"
      ],
      "metadata": {
        "id": "m8AZwLahvhfl",
        "outputId": "ea0b407b-a507-40de-c2fe-495f4dc3e4fa",
        "colab": {
          "base_uri": "https://localhost:8080/"
        }
      },
      "execution_count": 493,
      "outputs": [
        {
          "output_type": "stream",
          "name": "stdout",
          "text": [
            "=VEMOS LAS ETIQUETAS DE TEST ORIGINALES================================\n",
            "[9 2 1 ... 8 1 5]\n",
            "=======================================================================\n",
            "=VEMOS LAS ETIQUETAS DE TEST AL PASARLAS POR to_categorical============\n",
            "[[0. 0. 0. ... 0. 0. 1.]\n",
            " [0. 0. 1. ... 0. 0. 0.]\n",
            " [0. 1. 0. ... 0. 0. 0.]\n",
            " ...\n",
            " [0. 0. 0. ... 0. 1. 0.]\n",
            " [0. 1. 0. ... 0. 0. 0.]\n",
            " [0. 0. 0. ... 0. 0. 0.]]\n",
            "=======================================================================\n",
            "313/313 [==============================] - 1s 3ms/step\n",
            "=VEMOS LA PREDICCIÓN DEL ELEMENTO 6 (QUE DEBERÍA SER UN 1)============\n",
            "[1.1271056e-04 9.9987918e-01 8.0736253e-09 6.5700206e-06 6.8325716e-07\n",
            " 1.1337888e-13 7.5746021e-07 2.2874969e-16 1.6731715e-10 1.2807151e-15]\n",
            "=======================================================================\n",
            "=VEMOS LA PREDICCIÓN DEL ELEMENTO 6 (QUE DEBERÍA SER UN 1)============\n",
            "1\n",
            "=======================================================================\n",
            "=LA SUMA DE TODAS LAS PREDICCIONES PARA EL ELEMENTO 6 DEBERÍA SER 1===\n",
            "0.9999999\n",
            "=======================================================================\n",
            "=PINTAMOS TODAS LAS PREDICCIONES=======================================\n",
            "[[3.38374292e-07 1.34654593e-10 6.23348910e-08 ... 1.76216468e-01\n",
            "  7.26278722e-06 6.44079983e-01]\n",
            " [3.40751649e-05 6.00036785e-14 9.99339998e-01 ... 4.02579640e-15\n",
            "  3.19695714e-10 1.37998057e-14]\n",
            " [1.03492005e-06 9.99998629e-01 1.04398955e-11 ... 1.12275830e-18\n",
            "  6.93925906e-12 1.65306183e-18]\n",
            " ...\n",
            " [7.92924606e-04 7.78099044e-11 1.19638556e-04 ... 1.07219421e-05\n",
            "  9.98305798e-01 3.53429330e-09]\n",
            " [1.07039864e-06 9.99835014e-01 3.64242769e-09 ... 4.56248147e-12\n",
            "  2.84150303e-08 2.34541848e-11]\n",
            " [1.55157591e-06 1.79997617e-08 5.72808131e-06 ... 6.08734880e-03\n",
            "  9.34027019e-04 2.41622329e-05]]\n"
          ]
        }
      ]
    },
    {
      "cell_type": "code",
      "source": [
        "def plot_image(i, predictions_array, true_label, img):\n",
        "  predictions_array, true_label, img = predictions_array, true_label[i], img[i]\n",
        "  plt.grid(False)\n",
        "  plt.xticks([])\n",
        "  plt.yticks([])\n",
        "\n",
        "  plt.imshow(img, cmap=plt.cm.binary)    \n",
        "\n",
        "  predicted_label = np.argmax(predictions_array)\n",
        "  if predicted_label.all() == true_label.all():\n",
        "    color = 'blue'\n",
        "  else:\n",
        "    color = 'red'\n",
        "\n",
        "  plt.xlabel(\"{} {:2.0f}% ({})\".format(predicted_label,\n",
        "                                100*np.max(predictions_array),\n",
        "                                true_label),\n",
        "                                color=color)\n",
        "\n",
        "def plot_value_array(i, predictions_array, true_label):\n",
        "  predictions_array, true_label = predictions_array, true_label[i]\n",
        "  plt.grid(False)\n",
        "  plt.xticks(range(10))\n",
        "  plt.yticks([])\n",
        "  thisplot = plt.bar(range(10), predictions_array, color=\"#00FF00\")\n",
        "  plt.ylim([0, 1])\n",
        "  predicted_label = np.argmax(predictions_array)\n",
        "\n",
        "  thisplot[predicted_label].set_color('red')\n",
        "  thisplot[true_label].set_color('black')"
      ],
      "metadata": {
        "id": "xOQ8RunNvhkw"
      },
      "execution_count": 494,
      "outputs": []
    },
    {
      "cell_type": "code",
      "source": [
        "from keras.datasets import fashion_mnist\n",
        "import numpy as np\n",
        "import matplotlib.pyplot as plt\n",
        "\n",
        "(train_data, train_labels), (test_data, test_labels) = fashion_mnist.load_data()\n",
        "train_data = train_data.reshape((60000, 28 * 28))\n",
        "test_data = test_data.reshape((10000, 28 * 28))\n",
        "\n",
        "train_data = train_data.astype('float32') / 255\n",
        "test_data = test_data.astype('float32') / 255\n",
        "\n",
        "predictions = model.predict(test_data)\n",
        "\n",
        "for i in range(6):\n",
        "  if (i==5):\n",
        "    plt.figure(figsize=(6,3))\n",
        "    plt.subplot(1,2,1)\n",
        "    plot_image(i, predictions[i], test_labels, test_data.reshape(10000,28,28))\n",
        "    plt.subplot(1,2,2)\n",
        "    plot_value_array(i, predictions[i],  test_labels)\n",
        "    plt.show()\n",
        "    plt.clf()"
      ],
      "metadata": {
        "id": "SPBPTW3qwUyZ",
        "outputId": "9f472d6a-7e6a-45ef-c033-26d71f5e7467",
        "colab": {
          "base_uri": "https://localhost:8080/",
          "height": 248
        }
      },
      "execution_count": 495,
      "outputs": [
        {
          "output_type": "stream",
          "name": "stdout",
          "text": [
            "313/313 [==============================] - 1s 3ms/step\n"
          ]
        },
        {
          "output_type": "display_data",
          "data": {
            "text/plain": [
              "<Figure size 432x216 with 2 Axes>"
            ],
            "image/png": "[encoded data removed]"
          },
          "metadata": {
            "needs_background": "light"
          }
        },
        {
          "output_type": "display_data",
          "data": {
            "text/plain": [
              "<Figure size 432x288 with 0 Axes>"
            ]
          },
          "metadata": {}
        }
      ]
    },
    {
      "cell_type": "markdown",
      "source": [
        "sssssssssssss"
      ],
      "metadata": {
        "id": "ec1AbWgmwUDO"
      }
    },
    {
      "cell_type": "code",
      "source": [
        "from keras.datasets import fashion_mnist "
      ],
      "metadata": {
        "id": "VnZODVkkx41d"
      },
      "execution_count": 496,
      "outputs": []
    },
    {
      "cell_type": "code",
      "source": [
        "from keras.utils.np_utils import to_categorical\n",
        "\n",
        "train_labels = to_categorical(train_labels)\n",
        "test_labels = to_categorical(test_labels)\n",
        "train_labels[30000]"
      ],
      "metadata": {
        "id": "D3FfrIF-0MPi",
        "outputId": "c9e8a748-6eba-409c-93b6-36f50842a9ac",
        "colab": {
          "base_uri": "https://localhost:8080/"
        }
      },
      "execution_count": 497,
      "outputs": [
        {
          "output_type": "execute_result",
          "data": {
            "text/plain": [
              "array([0., 0., 0., 1., 0., 0., 0., 0., 0., 0.], dtype=float32)"
            ]
          },
          "metadata": {},
          "execution_count": 497
        }
      ]
    },
    {
      "cell_type": "code",
      "source": [
        "from tensorflow.keras import optimizers\n",
        "from keras import losses\n",
        "from keras import metrics\n",
        "from keras import models\n",
        "from keras import layers\n",
        "\n",
        "\n",
        "model = models.Sequential()\n",
        "#Capa 7\n",
        "model.add(layers.Dense(512, activation='sigmoid', name=\"Capa7\",input_shape=(28*28,)))\n",
        "\n",
        "#Capa final\n",
        "model.add(layers.Dense(10, name=\"CapaSalida\",activation='softmax'))"
      ],
      "metadata": {
        "id": "UNpqrWU9rc1R"
      },
      "execution_count": 498,
      "outputs": []
    },
    {
      "cell_type": "code",
      "source": [
        "model.summary()\n",
        "model.compile(optimizer='sgd',\n",
        "              loss='categorical_crossentropy',\n",
        "              metrics=['accuracy'])"
      ],
      "metadata": {
        "id": "jlflObV7uqSE",
        "outputId": "134c063d-ca3e-4504-a4a0-45147cf76c3a",
        "colab": {
          "base_uri": "https://localhost:8080/"
        }
      },
      "execution_count": 499,
      "outputs": [
        {
          "output_type": "stream",
          "name": "stdout",
          "text": [
            "Model: \"sequential_32\"\n",
            "_________________________________________________________________\n",
            " Layer (type)                Output Shape              Param #   \n",
            "=================================================================\n",
            " Capa7 (Dense)               (None, 512)               401920    \n",
            "                                                                 \n",
            " CapaSalida (Dense)          (None, 10)                5130      \n",
            "                                                                 \n",
            "=================================================================\n",
            "Total params: 407,050\n",
            "Trainable params: 407,050\n",
            "Non-trainable params: 0\n",
            "_________________________________________________________________\n"
          ]
        }
      ]
    },
    {
      "cell_type": "code",
      "source": [
        "one_hot_train_labels=train_labels\n",
        "\n",
        "\n",
        "x_val = train_data[:10000]\n",
        "partial_x_train = train_data[10000:]\n",
        "\n",
        "y_val = one_hot_train_labels[:10000]\n",
        "partial_y_train = one_hot_train_labels[10000:]"
      ],
      "metadata": {
        "id": "6OF2RHepsgqQ"
      },
      "execution_count": 500,
      "outputs": []
    },
    {
      "cell_type": "code",
      "source": [
        "history = model.fit(train_data,\n",
        "          train_labels,\n",
        "          epochs=5,\n",
        "          batch_size=128,\n",
        "          validation_data=(x_val, y_val))"
      ],
      "metadata": {
        "id": "z2X7acKrsgsy",
        "outputId": "a6d61a24-0557-4dbe-e12d-12500d716a0e",
        "colab": {
          "base_uri": "https://localhost:8080/"
        }
      },
      "execution_count": 501,
      "outputs": [
        {
          "output_type": "stream",
          "name": "stdout",
          "text": [
            "Epoch 1/5\n",
            "469/469 [==============================] - 5s 10ms/step - loss: 1.7117 - accuracy: 0.5842 - val_loss: 1.3021 - val_accuracy: 0.6975\n",
            "Epoch 2/5\n",
            "469/469 [==============================] - 7s 15ms/step - loss: 1.1295 - accuracy: 0.7098 - val_loss: 0.9954 - val_accuracy: 0.7214\n",
            "Epoch 3/5\n",
            "469/469 [==============================] - 5s 10ms/step - loss: 0.9252 - accuracy: 0.7290 - val_loss: 0.8620 - val_accuracy: 0.7385\n",
            "Epoch 4/5\n",
            "469/469 [==============================] - 5s 10ms/step - loss: 0.8241 - accuracy: 0.7418 - val_loss: 0.7862 - val_accuracy: 0.7472\n",
            "Epoch 5/5\n",
            "469/469 [==============================] - 5s 10ms/step - loss: 0.7627 - accuracy: 0.7515 - val_loss: 0.7393 - val_accuracy: 0.7557\n"
          ]
        }
      ]
    },
    {
      "cell_type": "code",
      "source": [
        "test_loss, test_acc = model.evaluate(test_data, test_labels)"
      ],
      "metadata": {
        "id": "K9KlfdZ8sgvX",
        "outputId": "aa10db14-0c18-41c7-827d-de840ea5c2b3",
        "colab": {
          "base_uri": "https://localhost:8080/"
        }
      },
      "execution_count": 502,
      "outputs": [
        {
          "output_type": "stream",
          "name": "stdout",
          "text": [
            "313/313 [==============================] - 1s 4ms/step - loss: 0.7517 - accuracy: 0.7495\n"
          ]
        }
      ]
    },
    {
      "cell_type": "code",
      "source": [
        "print('test_loss:', test_loss)\n",
        "print('test_acc:', test_acc)"
      ],
      "metadata": {
        "id": "jSmFW4bVsgx3",
        "outputId": "c068433a-cb28-449e-edc3-7829cca8d4b9",
        "colab": {
          "base_uri": "https://localhost:8080/"
        }
      },
      "execution_count": 503,
      "outputs": [
        {
          "output_type": "stream",
          "name": "stdout",
          "text": [
            "test_loss: 0.7517446875572205\n",
            "test_acc: 0.7494999766349792\n"
          ]
        }
      ]
    },
    {
      "cell_type": "code",
      "source": [
        "# Look at confusion matrix \n",
        "# Note, this code is taken straight from the SKLEARN website, an nice way of \n",
        "# viewing confusion matrix.\n",
        "import matplotlib.pyplot as plt\n",
        "def plot_confusion_matrix(cm, classes,\n",
        "                          normalize=False,\n",
        "                          title='Confusion matrix',\n",
        "                          cmap=plt.cm.Blues):\n",
        "    \"\"\"\n",
        "    This function prints and plots the confusion matrix.\n",
        "    Normalization can be applied by setting `normalize=True`.\n",
        "    \"\"\"\n",
        "    plt.imshow(cm, interpolation='nearest', cmap=cmap)\n",
        "    plt.title(title)\n",
        "    plt.colorbar()\n",
        "    tick_marks = np.arange(len(classes))\n",
        "    plt.xticks(tick_marks, classes, rotation=45)\n",
        "    plt.yticks(tick_marks, classes)\n",
        "\n",
        "    if normalize:\n",
        "        cm = cm.astype('float') / cm.sum(axis=1)[:, np.newaxis]\n",
        "\n",
        "    thresh = cm.max() / 2.\n",
        "    for i, j in itertools.product(range(cm.shape[0]), range(cm.shape[1])):\n",
        "        plt.text(j, i, cm[i, j],\n",
        "                 horizontalalignment=\"center\",\n",
        "                 color=\"white\" if cm[i, j] > thresh else \"black\")\n",
        "\n",
        "    plt.tight_layout()\n",
        "    plt.ylabel('Observación')\n",
        "    plt.xlabel('Predicción')"
      ],
      "metadata": {
        "id": "2gRUF7XTsg0K"
      },
      "execution_count": 504,
      "outputs": []
    },
    {
      "cell_type": "code",
      "source": [
        "from collections import Counter\n",
        "from sklearn.metrics import confusion_matrix\n",
        "import itertools\n",
        "import numpy as np\n",
        "\n",
        "# Predicción de valores desde el dataset de validación\n",
        "Y_pred = model.predict(test_data)\n",
        "print(\"=VALORES QUE PREDICE EL MODELO ENTRENADO CON LAS IMAGENES DE TEST======\")\n",
        "print(\"=RECORDAR QUE LA PRIMERA IMAGEN DE TEST ERA UN 7=======================\")\n",
        "print(Y_pred[0])\n",
        "print(\"=======================================================================\")\n",
        "# Convertir en predicciones de clases desde los vectores one-hot encoding \n",
        "Y_pred_classes = np.argmax(Y_pred, axis = 1) \n",
        "print(\"=CONVERSION DE PREDICCIONES EN CLASES DESDE VECTORES ONE-HOT ENCODING==\")\n",
        "print(Y_pred_classes)\n",
        "print(\"=======================================================================\")\n",
        "# Convertir en clases de observación desde los vectores one-hot encoding\n",
        "Y_true = np.argmax(test_labels, axis = 1) \n",
        "print(\"=CONVERSION DE VALORES REALES EN CLASES DESDE VECTORES ONE-HOT ENCODING\")\n",
        "print(Y_true)\n",
        "print(\"=======================================================================\")\n",
        "# Computar la matriz de confusión\n",
        "confusion_mtx = confusion_matrix(Y_true, Y_pred_classes) \n",
        "print(\"=MATRIZ DE CONFUSION CON VALORES REALES FRENTE A LOS PREDICHOS=========\")\n",
        "print(confusion_mtx)\n",
        "print(\"=======================================================================\")\n",
        "# Dibujar la matriz de confusión\n",
        "print(\"=PINTAMOS LA MATRIZ DE CONFUSION=======================================\")\n",
        "plot_confusion_matrix(confusion_mtx, classes = range(10))"
      ],
      "metadata": {
        "id": "P7Q-vxAdsg2s",
        "outputId": "9b6f8785-ca9c-43be-9ef9-4684889f7f30",
        "colab": {
          "base_uri": "https://localhost:8080/",
          "height": 768
        }
      },
      "execution_count": 505,
      "outputs": [
        {
          "output_type": "stream",
          "name": "stdout",
          "text": [
            "313/313 [==============================] - 1s 3ms/step\n",
            "=VALORES QUE PREDICE EL MODELO ENTRENADO CON LAS IMAGENES DE TEST======\n",
            "=RECORDAR QUE LA PRIMERA IMAGEN DE TEST ERA UN 7=======================\n",
            "[0.00096595 0.00056947 0.0027387  0.00174667 0.00232427 0.3860219\n",
            " 0.00391041 0.1977205  0.06316341 0.3408388 ]\n",
            "=======================================================================\n",
            "=CONVERSION DE PREDICCIONES EN CLASES DESDE VECTORES ONE-HOT ENCODING==\n",
            "[5 2 1 ... 3 1 5]\n",
            "=======================================================================\n",
            "=CONVERSION DE VALORES REALES EN CLASES DESDE VECTORES ONE-HOT ENCODING\n",
            "[9 2 1 ... 8 1 5]\n",
            "=======================================================================\n",
            "=MATRIZ DE CONFUSION CON VALORES REALES FRENTE A LOS PREDICHOS=========\n",
            "[[791   4   6  96  10  24  53   1  15   0]\n",
            " [ 19 900  14  52  11   1   2   0   1   0]\n",
            " [ 21   1 581  12 226  14 128   0  17   0]\n",
            " [ 59  10   0 830  30   6  62   0   3   0]\n",
            " [  0   4 168  64 676  10  68   0  10   0]\n",
            " [  0   0   0   4   0 814   0 116   7  59]\n",
            " [243   2 115  65 213  41 282   0  39   0]\n",
            " [  0   0   0   0   0  95   0 828   0  77]\n",
            " [  3   2  18  24   4  33  12  13 890   1]\n",
            " [  0   0   0   2   0  40   0  54   1 903]]\n",
            "=======================================================================\n",
            "=PINTAMOS LA MATRIZ DE CONFUSION=======================================\n"
          ]
        },
        {
          "output_type": "display_data",
          "data": {
            "text/plain": [
              "<Figure size 432x288 with 2 Axes>"
            ],
            "image/png": "[encoded data removed]"
          },
          "metadata": {
            "needs_background": "light"
          }
        }
      ]
    },
    {
      "cell_type": "code",
      "source": [
        "from keras.datasets import fashion_mnist "
      ],
      "metadata": {
        "id": "QKPiTV9lx7j6"
      },
      "execution_count": 506,
      "outputs": []
    },
    {
      "cell_type": "code",
      "source": [
        "# Veamos el elemento 6 de test y pintémoslo con matplotlib\n",
        "from keras.datasets import fashion_mnist\n",
        "(train_data, train_labels), (test_data, test_labels) = fashion_mnist.load_data()\n",
        "import matplotlib.pyplot as plt\n",
        "digit = test_data[5]\n",
        "plt.imshow(digit, cmap=plt.cm.binary)\n",
        "plt.show()"
      ],
      "metadata": {
        "id": "VIWGE1AFsg4_",
        "outputId": "a6083bad-d567-484e-ecaa-6ba3892272de",
        "colab": {
          "base_uri": "https://localhost:8080/",
          "height": 265
        }
      },
      "execution_count": 507,
      "outputs": [
        {
          "output_type": "display_data",
          "data": {
            "text/plain": [
              "<Figure size 432x288 with 1 Axes>"
            ],
            "image/png": "[encoded data removed]"
          },
          "metadata": {
            "needs_background": "light"
          }
        }
      ]
    },
    {
      "cell_type": "code",
      "source": [
        "train_data = train_data.reshape((60000, 28 * 28))\n",
        "test_data = test_data.reshape((10000, 28 * 28))\n",
        "\n",
        "train_data = train_data.astype('float32') / 255\n",
        "test_data = test_data.astype('float32') / 255\n",
        "\n",
        "from keras.utils.np_utils import to_categorical\n",
        "\n",
        "print(\"=VEMOS LAS ETIQUETAS DE TEST ORIGINALES================================\")\n",
        "print(test_labels)\n",
        "print(\"=======================================================================\")\n",
        "test_labels = to_categorical(test_labels)\n",
        "print(\"=VEMOS LAS ETIQUETAS DE TEST AL PASARLAS POR to_categorical============\")\n",
        "print(test_labels)\n",
        "print(\"=======================================================================\")\n",
        "\n",
        "# Hacemos las predicciones con las imágenes de Test\n",
        "predictions = model.predict(test_data)\n",
        "\n",
        "print(\"=VEMOS LA PREDICCIÓN DEL ELEMENTO 6 (QUE DEBERÍA SER UN 1)============\")\n",
        "print(predictions[5])\n",
        "print(\"=======================================================================\")\n",
        "print(\"=VEMOS LA PREDICCIÓN DEL ELEMENTO 6 (QUE DEBERÍA SER UN 1)============\")\n",
        "print(np.argmax(predictions[5]))\n",
        "print(\"=======================================================================\")\n",
        "print(\"=LA SUMA DE TODAS LAS PREDICCIONES PARA EL ELEMENTO 6 DEBERÍA SER 1===\")\n",
        "print(np.sum(predictions[5]))\n",
        "print(\"=======================================================================\")\n",
        "print(\"=PINTAMOS TODAS LAS PREDICCIONES=======================================\")\n",
        "print(predictions)"
      ],
      "metadata": {
        "id": "ZTweDxjrsg7V",
        "outputId": "14a337c8-ed5d-430b-82a7-d0bf8625ae6a",
        "colab": {
          "base_uri": "https://localhost:8080/"
        }
      },
      "execution_count": 508,
      "outputs": [
        {
          "output_type": "stream",
          "name": "stdout",
          "text": [
            "=VEMOS LAS ETIQUETAS DE TEST ORIGINALES================================\n",
            "[9 2 1 ... 8 1 5]\n",
            "=======================================================================\n",
            "=VEMOS LAS ETIQUETAS DE TEST AL PASARLAS POR to_categorical============\n",
            "[[0. 0. 0. ... 0. 0. 1.]\n",
            " [0. 0. 1. ... 0. 0. 0.]\n",
            " [0. 1. 0. ... 0. 0. 0.]\n",
            " ...\n",
            " [0. 0. 0. ... 0. 1. 0.]\n",
            " [0. 1. 0. ... 0. 0. 0.]\n",
            " [0. 0. 0. ... 0. 0. 0.]]\n",
            "=======================================================================\n",
            "313/313 [==============================] - 1s 3ms/step\n",
            "=VEMOS LA PREDICCIÓN DEL ELEMENTO 6 (QUE DEBERÍA SER UN 1)============\n",
            "[5.0331831e-02 8.1968170e-01 1.1171173e-02 6.4255647e-02 2.6090128e-02\n",
            " 8.6656911e-04 2.6370188e-02 3.3739346e-04 7.2878791e-04 1.6657902e-04]\n",
            "=======================================================================\n",
            "=VEMOS LA PREDICCIÓN DEL ELEMENTO 6 (QUE DEBERÍA SER UN 1)============\n",
            "1\n",
            "=======================================================================\n",
            "=LA SUMA DE TODAS LAS PREDICCIONES PARA EL ELEMENTO 6 DEBERÍA SER 1===\n",
            "1.0\n",
            "=======================================================================\n",
            "=PINTAMOS TODAS LAS PREDICCIONES=======================================\n",
            "[[9.65948799e-04 5.69465919e-04 2.73870467e-03 ... 1.97720498e-01\n",
            "  6.31634146e-02 3.40838790e-01]\n",
            " [1.01595409e-02 2.53207487e-04 6.66172266e-01 ... 6.45902910e-05\n",
            "  1.17898211e-02 8.62770714e-04]\n",
            " [4.23716707e-03 9.69039321e-01 1.05980213e-03 ... 7.47609593e-05\n",
            "  1.07440595e-04 3.10705145e-05]\n",
            " ...\n",
            " [2.24993601e-01 1.19966390e-02 1.29744308e-02 ... 5.69095323e-03\n",
            "  2.14279816e-01 1.07152276e-02]\n",
            " [1.43157262e-02 7.20115840e-01 3.22537031e-03 ... 8.68663134e-04\n",
            "  5.97500766e-04 5.59527252e-04]\n",
            " [5.30074118e-03 4.35131462e-03 1.28452145e-02 ... 2.93268651e-01\n",
            "  7.39379302e-02 5.23357093e-02]]\n"
          ]
        }
      ]
    },
    {
      "cell_type": "code",
      "source": [
        "def plot_image(i, predictions_array, true_label, img):\n",
        "  predictions_array, true_label, img = predictions_array, true_label[i], img[i]\n",
        "  plt.grid(False)\n",
        "  plt.xticks([])\n",
        "  plt.yticks([])\n",
        "\n",
        "  plt.imshow(img, cmap=plt.cm.binary)    \n",
        "\n",
        "  predicted_label = np.argmax(predictions_array)\n",
        "  if predicted_label.all() == true_label.all():\n",
        "    color = 'blue'\n",
        "  else:\n",
        "    color = 'red'\n",
        "\n",
        "  plt.xlabel(\"{} {:2.0f}% ({})\".format(predicted_label,\n",
        "                                100*np.max(predictions_array),\n",
        "                                true_label),\n",
        "                                color=color)\n",
        "\n",
        "def plot_value_array(i, predictions_array, true_label):\n",
        "  predictions_array, true_label = predictions_array, true_label[i]\n",
        "  plt.grid(False)\n",
        "  plt.xticks(range(10))\n",
        "  plt.yticks([])\n",
        "  thisplot = plt.bar(range(10), predictions_array, color=\"#00FF00\")\n",
        "  plt.ylim([0, 1])\n",
        "  predicted_label = np.argmax(predictions_array)\n",
        "\n",
        "  thisplot[predicted_label].set_color('red')\n",
        "  thisplot[true_label].set_color('black')"
      ],
      "metadata": {
        "id": "aUaQou83sg94"
      },
      "execution_count": 509,
      "outputs": []
    },
    {
      "cell_type": "code",
      "source": [
        "from keras.datasets import fashion_mnist\n",
        "import numpy as np\n",
        "import matplotlib.pyplot as plt\n",
        "\n",
        "(train_data, train_labels), (test_data, test_labels) = fashion_mnist.load_data()\n",
        "train_data = train_data.reshape((60000, 28 * 28))\n",
        "test_data = test_data.reshape((10000, 28 * 28))\n",
        "\n",
        "train_data = train_data.astype('float32') / 255\n",
        "test_data = test_data.astype('float32') / 255\n",
        "\n",
        "predictions = model.predict(test_data)\n",
        "\n",
        "for i in range(6):\n",
        "  if (i==5):\n",
        "    plt.figure(figsize=(6,3))\n",
        "    plt.subplot(1,2,1)\n",
        "    plot_image(i, predictions[i], test_labels, test_data.reshape(10000,28,28))\n",
        "    plt.subplot(1,2,2)\n",
        "    plot_value_array(i, predictions[i],  test_labels)\n",
        "    plt.show()\n",
        "    plt.clf()"
      ],
      "metadata": {
        "id": "yU5H8i3-shAB",
        "outputId": "3ed3d423-f51b-477e-e0f4-2a1aae02a6d9",
        "colab": {
          "base_uri": "https://localhost:8080/",
          "height": 248
        }
      },
      "execution_count": 510,
      "outputs": [
        {
          "output_type": "stream",
          "name": "stdout",
          "text": [
            "313/313 [==============================] - 1s 3ms/step\n"
          ]
        },
        {
          "output_type": "display_data",
          "data": {
            "text/plain": [
              "<Figure size 432x216 with 2 Axes>"
            ],
            "image/png": "[encoded data removed]"
          },
          "metadata": {
            "needs_background": "light"
          }
        },
        {
          "output_type": "display_data",
          "data": {
            "text/plain": [
              "<Figure size 432x288 with 0 Axes>"
            ]
          },
          "metadata": {}
        }
      ]
    },
    {
      "cell_type": "markdown",
      "source": [
        "ssssssssssssssssssss"
      ],
      "metadata": {
        "id": "OIX6YpJSwW_T"
      }
    },
    {
      "cell_type": "code",
      "source": [
        "from keras.datasets import fashion_mnist "
      ],
      "metadata": {
        "id": "Qf2dMGyYx85Q"
      },
      "execution_count": 511,
      "outputs": []
    },
    {
      "cell_type": "code",
      "source": [
        "from keras.utils.np_utils import to_categorical\n",
        "\n",
        "train_labels = to_categorical(train_labels)\n",
        "test_labels = to_categorical(test_labels)\n",
        "train_labels[30000]"
      ],
      "metadata": {
        "id": "0dfYy-fq0OBW",
        "outputId": "09ec3b6d-4c02-4de0-eb98-ec5f55abeecd",
        "colab": {
          "base_uri": "https://localhost:8080/"
        }
      },
      "execution_count": 512,
      "outputs": [
        {
          "output_type": "execute_result",
          "data": {
            "text/plain": [
              "array([0., 0., 0., 1., 0., 0., 0., 0., 0., 0.], dtype=float32)"
            ]
          },
          "metadata": {},
          "execution_count": 512
        }
      ]
    },
    {
      "cell_type": "code",
      "source": [
        "from tensorflow.keras import optimizers\n",
        "from keras import losses\n",
        "from keras import metrics\n",
        "from keras import models\n",
        "from keras import layers\n",
        "\n",
        "\n",
        "model = models.Sequential()\n",
        "#Capa 8\n",
        "model.add(layers.Dense(512, activation='sigmoid', name=\"Capa8\",input_shape=(28*28,)))\n",
        "\n",
        "#Capa final\n",
        "model.add(layers.Dense(10, name=\"CapaSalida\",activation='softmax'))"
      ],
      "metadata": {
        "id": "BUzpkq3ishCT"
      },
      "execution_count": 513,
      "outputs": []
    },
    {
      "cell_type": "code",
      "source": [
        "model.summary()\n",
        "model.compile(optimizer='rmsprop',\n",
        "              loss='categorical_crossentropy',\n",
        "              metrics=['accuracy'])"
      ],
      "metadata": {
        "id": "9g9WiyyktOlM",
        "outputId": "4cce7c4a-f2c8-4ef0-899b-17eee6a1c6c1",
        "colab": {
          "base_uri": "https://localhost:8080/"
        }
      },
      "execution_count": 514,
      "outputs": [
        {
          "output_type": "stream",
          "name": "stdout",
          "text": [
            "Model: \"sequential_33\"\n",
            "_________________________________________________________________\n",
            " Layer (type)                Output Shape              Param #   \n",
            "=================================================================\n",
            " Capa8 (Dense)               (None, 512)               401920    \n",
            "                                                                 \n",
            " CapaSalida (Dense)          (None, 10)                5130      \n",
            "                                                                 \n",
            "=================================================================\n",
            "Total params: 407,050\n",
            "Trainable params: 407,050\n",
            "Non-trainable params: 0\n",
            "_________________________________________________________________\n"
          ]
        }
      ]
    },
    {
      "cell_type": "code",
      "source": [
        "one_hot_train_labels=train_labels\n",
        "\n",
        "\n",
        "x_val = train_data[:10000]\n",
        "partial_x_train = train_data[10000:]\n",
        "\n",
        "y_val = one_hot_train_labels[:10000]\n",
        "partial_y_train = one_hot_train_labels[10000:]"
      ],
      "metadata": {
        "id": "xy2P6mLHtOh1"
      },
      "execution_count": 515,
      "outputs": []
    },
    {
      "cell_type": "code",
      "source": [
        "history = model.fit(train_data,\n",
        "          train_labels,\n",
        "          epochs=5,\n",
        "          batch_size=128,\n",
        "          validation_data=(x_val, y_val))"
      ],
      "metadata": {
        "id": "MkLF63XLtOfX",
        "outputId": "a18be6e0-5084-4474-c048-92f136978ec7",
        "colab": {
          "base_uri": "https://localhost:8080/"
        }
      },
      "execution_count": 516,
      "outputs": [
        {
          "output_type": "stream",
          "name": "stdout",
          "text": [
            "Epoch 1/5\n",
            "469/469 [==============================] - 7s 15ms/step - loss: 0.5922 - accuracy: 0.7902 - val_loss: 0.4613 - val_accuracy: 0.8310\n",
            "Epoch 2/5\n",
            "469/469 [==============================] - 6s 13ms/step - loss: 0.4289 - accuracy: 0.8453 - val_loss: 0.3964 - val_accuracy: 0.8525\n",
            "Epoch 3/5\n",
            "469/469 [==============================] - 6s 13ms/step - loss: 0.3869 - accuracy: 0.8601 - val_loss: 0.3594 - val_accuracy: 0.8699\n",
            "Epoch 4/5\n",
            "469/469 [==============================] - 6s 13ms/step - loss: 0.3599 - accuracy: 0.8689 - val_loss: 0.3491 - val_accuracy: 0.8720\n",
            "Epoch 5/5\n",
            "469/469 [==============================] - 6s 13ms/step - loss: 0.3389 - accuracy: 0.8763 - val_loss: 0.3449 - val_accuracy: 0.8696\n"
          ]
        }
      ]
    },
    {
      "cell_type": "code",
      "source": [
        "test_loss, test_acc = model.evaluate(test_data, test_labels)"
      ],
      "metadata": {
        "id": "xmRaOHRvtOce",
        "outputId": "1c701d9e-9997-4154-fda5-185335451730",
        "colab": {
          "base_uri": "https://localhost:8080/"
        }
      },
      "execution_count": 517,
      "outputs": [
        {
          "output_type": "stream",
          "name": "stdout",
          "text": [
            "313/313 [==============================] - 1s 3ms/step - loss: 0.4038 - accuracy: 0.8536\n"
          ]
        }
      ]
    },
    {
      "cell_type": "code",
      "source": [
        "print('test_loss:', test_loss)\n",
        "print('test_acc:', test_acc)"
      ],
      "metadata": {
        "id": "s_bzw5C9tOKF",
        "outputId": "08fb6c9c-888f-47f4-b159-692cebea604e",
        "colab": {
          "base_uri": "https://localhost:8080/"
        }
      },
      "execution_count": 518,
      "outputs": [
        {
          "output_type": "stream",
          "name": "stdout",
          "text": [
            "test_loss: 0.4038163721561432\n",
            "test_acc: 0.853600025177002\n"
          ]
        }
      ]
    },
    {
      "cell_type": "code",
      "source": [
        "# Look at confusion matrix \n",
        "# Note, this code is taken straight from the SKLEARN website, an nice way of \n",
        "# viewing confusion matrix.\n",
        "import matplotlib.pyplot as plt\n",
        "def plot_confusion_matrix(cm, classes,\n",
        "                          normalize=False,\n",
        "                          title='Confusion matrix',\n",
        "                          cmap=plt.cm.Blues):\n",
        "    \"\"\"\n",
        "    This function prints and plots the confusion matrix.\n",
        "    Normalization can be applied by setting `normalize=True`.\n",
        "    \"\"\"\n",
        "    plt.imshow(cm, interpolation='nearest', cmap=cmap)\n",
        "    plt.title(title)\n",
        "    plt.colorbar()\n",
        "    tick_marks = np.arange(len(classes))\n",
        "    plt.xticks(tick_marks, classes, rotation=45)\n",
        "    plt.yticks(tick_marks, classes)\n",
        "\n",
        "    if normalize:\n",
        "        cm = cm.astype('float') / cm.sum(axis=1)[:, np.newaxis]\n",
        "\n",
        "    thresh = cm.max() / 2.\n",
        "    for i, j in itertools.product(range(cm.shape[0]), range(cm.shape[1])):\n",
        "        plt.text(j, i, cm[i, j],\n",
        "                 horizontalalignment=\"center\",\n",
        "                 color=\"white\" if cm[i, j] > thresh else \"black\")\n",
        "\n",
        "    plt.tight_layout()\n",
        "    plt.ylabel('Observación')\n",
        "    plt.xlabel('Predicción')"
      ],
      "metadata": {
        "id": "7PrQxXzRuHH0"
      },
      "execution_count": 519,
      "outputs": []
    },
    {
      "cell_type": "code",
      "source": [
        "from collections import Counter\n",
        "from sklearn.metrics import confusion_matrix\n",
        "import itertools\n",
        "import numpy as np\n",
        "\n",
        "# Predicción de valores desde el dataset de validación\n",
        "Y_pred = model.predict(test_data)\n",
        "print(\"=VALORES QUE PREDICE EL MODELO ENTRENADO CON LAS IMAGENES DE TEST======\")\n",
        "print(\"=RECORDAR QUE LA PRIMERA IMAGEN DE TEST ERA UN 7=======================\")\n",
        "print(Y_pred[0])\n",
        "print(\"=======================================================================\")\n",
        "# Convertir en predicciones de clases desde los vectores one-hot encoding \n",
        "Y_pred_classes = np.argmax(Y_pred, axis = 1) \n",
        "print(\"=CONVERSION DE PREDICCIONES EN CLASES DESDE VECTORES ONE-HOT ENCODING==\")\n",
        "print(Y_pred_classes)\n",
        "print(\"=======================================================================\")\n",
        "# Convertir en clases de observación desde los vectores one-hot encoding\n",
        "Y_true = np.argmax(test_labels, axis = 1) \n",
        "print(\"=CONVERSION DE VALORES REALES EN CLASES DESDE VECTORES ONE-HOT ENCODING\")\n",
        "print(Y_true)\n",
        "print(\"=======================================================================\")\n",
        "# Computar la matriz de confusión\n",
        "confusion_mtx = confusion_matrix(Y_true, Y_pred_classes) \n",
        "print(\"=MATRIZ DE CONFUSION CON VALORES REALES FRENTE A LOS PREDICHOS=========\")\n",
        "print(confusion_mtx)\n",
        "print(\"=======================================================================\")\n",
        "# Dibujar la matriz de confusión\n",
        "print(\"=PINTAMOS LA MATRIZ DE CONFUSION=======================================\")\n",
        "plot_confusion_matrix(confusion_mtx, classes = range(10))"
      ],
      "metadata": {
        "id": "YZOoRH9quHM1",
        "outputId": "a47661d8-8fa8-4e38-ac52-676a3c357ebe",
        "colab": {
          "base_uri": "https://localhost:8080/",
          "height": 768
        }
      },
      "execution_count": 520,
      "outputs": [
        {
          "output_type": "stream",
          "name": "stdout",
          "text": [
            "313/313 [==============================] - 1s 3ms/step\n",
            "=VALORES QUE PREDICE EL MODELO ENTRENADO CON LAS IMAGENES DE TEST======\n",
            "=RECORDAR QUE LA PRIMERA IMAGEN DE TEST ERA UN 7=======================\n",
            "[6.4445635e-06 7.7419770e-08 9.6572812e-06 2.5880468e-06 1.7413122e-05\n",
            " 7.3405765e-02 4.1359650e-05 8.2822710e-02 1.6660510e-03 8.4202796e-01]\n",
            "=======================================================================\n",
            "=CONVERSION DE PREDICCIONES EN CLASES DESDE VECTORES ONE-HOT ENCODING==\n",
            "[9 2 1 ... 8 1 5]\n",
            "=======================================================================\n",
            "=CONVERSION DE VALORES REALES EN CLASES DESDE VECTORES ONE-HOT ENCODING\n",
            "[9 2 1 ... 8 1 5]\n",
            "=======================================================================\n",
            "=MATRIZ DE CONFUSION CON VALORES REALES FRENTE A LOS PREDICHOS=========\n",
            "[[912   0  26   9   3   1  42   0   7   0]\n",
            " [ 10 956   8  18   3   0   3   0   2   0]\n",
            " [ 20   0 884   6  60   0  27   0   3   0]\n",
            " [113  10  20 778  52   0  24   0   3   0]\n",
            " [  2   0 220  15 715   0  46   0   2   0]\n",
            " [  0   0   0   1   0 911   0  66   3  19]\n",
            " [238   1 174   9  63   0 497   0  18   0]\n",
            " [  0   0   0   0   0  14   0 967   0  19]\n",
            " [  2   1   4   3   5   2   4   4 975   0]\n",
            " [  0   0   0   0   0   8   1  50   0 941]]\n",
            "=======================================================================\n",
            "=PINTAMOS LA MATRIZ DE CONFUSION=======================================\n"
          ]
        },
        {
          "output_type": "display_data",
          "data": {
            "text/plain": [
              "<Figure size 432x288 with 2 Axes>"
            ],
            "image/png": "[encoded data removed]"
          },
          "metadata": {
            "needs_background": "light"
          }
        }
      ]
    },
    {
      "cell_type": "code",
      "source": [
        "# Veamos el elemento 6 de test y pintémoslo con matplotlib\n",
        "from keras.datasets import fashion_mnist\n",
        "(train_data, train_labels), (test_data, test_labels) = fashion_mnist.load_data()\n",
        "import matplotlib.pyplot as plt\n",
        "digit = test_data[5]\n",
        "plt.imshow(digit, cmap=plt.cm.binary)\n",
        "plt.show()"
      ],
      "metadata": {
        "id": "Q8RMM_6YuHT9",
        "outputId": "f4dce69d-3680-4bae-8de3-4203e6d47f9e",
        "colab": {
          "base_uri": "https://localhost:8080/",
          "height": 265
        }
      },
      "execution_count": 521,
      "outputs": [
        {
          "output_type": "display_data",
          "data": {
            "text/plain": [
              "<Figure size 432x288 with 1 Axes>"
            ],
            "image/png": "[encoded data removed]"
          },
          "metadata": {
            "needs_background": "light"
          }
        }
      ]
    },
    {
      "cell_type": "code",
      "source": [
        "train_data = train_data.reshape((60000, 28 * 28))\n",
        "test_data = test_data.reshape((10000, 28 * 28))\n",
        "\n",
        "train_data = train_data.astype('float32') / 255\n",
        "test_data = test_data.astype('float32') / 255\n",
        "\n",
        "from keras.utils.np_utils import to_categorical\n",
        "\n",
        "print(\"=VEMOS LAS ETIQUETAS DE TEST ORIGINALES================================\")\n",
        "print(test_labels)\n",
        "print(\"=======================================================================\")\n",
        "test_labels = to_categorical(test_labels)\n",
        "print(\"=VEMOS LAS ETIQUETAS DE TEST AL PASARLAS POR to_categorical============\")\n",
        "print(test_labels)\n",
        "print(\"=======================================================================\")\n",
        "\n",
        "# Hacemos las predicciones con las imágenes de Test\n",
        "predictions = model.predict(test_data)\n",
        "\n",
        "print(\"=VEMOS LA PREDICCIÓN DEL ELEMENTO 6 (QUE DEBERÍA SER UN 1)============\")\n",
        "print(predictions[5])\n",
        "print(\"=======================================================================\")\n",
        "print(\"=VEMOS LA PREDICCIÓN DEL ELEMENTO 6 (QUE DEBERÍA SER UN 1)============\")\n",
        "print(np.argmax(predictions[5]))\n",
        "print(\"=======================================================================\")\n",
        "print(\"=LA SUMA DE TODAS LAS PREDICCIONES PARA EL ELEMENTO 6 DEBERÍA SER 1===\")\n",
        "print(np.sum(predictions[5]))\n",
        "print(\"=======================================================================\")\n",
        "print(\"=PINTAMOS TODAS LAS PREDICCIONES=======================================\")\n",
        "print(predictions)"
      ],
      "metadata": {
        "id": "xBPJ5uotvkA-",
        "outputId": "35fbd8b4-0056-468d-900e-a644797119e9",
        "colab": {
          "base_uri": "https://localhost:8080/"
        }
      },
      "execution_count": 522,
      "outputs": [
        {
          "output_type": "stream",
          "name": "stdout",
          "text": [
            "=VEMOS LAS ETIQUETAS DE TEST ORIGINALES================================\n",
            "[9 2 1 ... 8 1 5]\n",
            "=======================================================================\n",
            "=VEMOS LAS ETIQUETAS DE TEST AL PASARLAS POR to_categorical============\n",
            "[[0. 0. 0. ... 0. 0. 1.]\n",
            " [0. 0. 1. ... 0. 0. 0.]\n",
            " [0. 1. 0. ... 0. 0. 0.]\n",
            " ...\n",
            " [0. 0. 0. ... 0. 1. 0.]\n",
            " [0. 1. 0. ... 0. 0. 0.]\n",
            " [0. 0. 0. ... 0. 0. 0.]]\n",
            "=======================================================================\n",
            "313/313 [==============================] - 1s 3ms/step\n",
            "=VEMOS LA PREDICCIÓN DEL ELEMENTO 6 (QUE DEBERÍA SER UN 1)============\n",
            "[1.2399122e-02 9.8688972e-01 1.6363790e-04 1.4324009e-04 3.0198906e-04\n",
            " 5.0976205e-09 9.8362078e-05 2.5564557e-07 3.5974062e-06 4.4702717e-09]\n",
            "=======================================================================\n",
            "=VEMOS LA PREDICCIÓN DEL ELEMENTO 6 (QUE DEBERÍA SER UN 1)============\n",
            "1\n",
            "=======================================================================\n",
            "=LA SUMA DE TODAS LAS PREDICCIONES PARA EL ELEMENTO 6 DEBERÍA SER 1===\n",
            "0.99999994\n",
            "=======================================================================\n",
            "=PINTAMOS TODAS LAS PREDICCIONES=======================================\n",
            "[[6.4445635e-06 7.7419770e-08 9.6572812e-06 ... 8.2822710e-02\n",
            "  1.6660510e-03 8.4202796e-01]\n",
            " [6.6661875e-04 1.9545161e-07 9.9255979e-01 ... 1.4851085e-08\n",
            "  1.5473312e-05 1.6624591e-08]\n",
            " [2.0495216e-04 9.9976826e-01 6.7363753e-06 ... 7.3934601e-08\n",
            "  2.2037203e-07 2.7866526e-10]\n",
            " ...\n",
            " [4.1999713e-02 1.2869761e-07 1.4434785e-03 ... 4.2451872e-04\n",
            "  8.7556541e-01 4.1553326e-07]\n",
            " [8.2091701e-06 9.9989492e-01 2.4230510e-06 ... 4.9332306e-07\n",
            "  1.4423338e-07 2.3374109e-07]\n",
            " [1.8574050e-05 4.4898709e-07 2.1053170e-04 ... 1.9072074e-02\n",
            "  2.7783387e-03 5.7338770e-05]]\n"
          ]
        }
      ]
    },
    {
      "cell_type": "code",
      "source": [
        "def plot_image(i, predictions_array, true_label, img):\n",
        "  predictions_array, true_label, img = predictions_array, true_label[i], img[i]\n",
        "  plt.grid(False)\n",
        "  plt.xticks([])\n",
        "  plt.yticks([])\n",
        "\n",
        "  plt.imshow(img, cmap=plt.cm.binary)    \n",
        "\n",
        "  predicted_label = np.argmax(predictions_array)\n",
        "  if predicted_label.all() == true_label.all():\n",
        "    color = 'blue'\n",
        "  else:\n",
        "    color = 'red'\n",
        "\n",
        "  plt.xlabel(\"{} {:2.0f}% ({})\".format(predicted_label,\n",
        "                                100*np.max(predictions_array),\n",
        "                                true_label),\n",
        "                                color=color)\n",
        "\n",
        "def plot_value_array(i, predictions_array, true_label):\n",
        "  predictions_array, true_label = predictions_array, true_label[i]\n",
        "  plt.grid(False)\n",
        "  plt.xticks(range(10))\n",
        "  plt.yticks([])\n",
        "  thisplot = plt.bar(range(10), predictions_array, color=\"#00FF00\")\n",
        "  plt.ylim([0, 1])\n",
        "  predicted_label = np.argmax(predictions_array)\n",
        "\n",
        "  thisplot[predicted_label].set_color('red')\n",
        "  thisplot[true_label].set_color('black')"
      ],
      "metadata": {
        "id": "Y4InDwXrvkDM"
      },
      "execution_count": 523,
      "outputs": []
    },
    {
      "cell_type": "code",
      "source": [
        "from keras.datasets import fashion_mnist\n",
        "import numpy as np\n",
        "import matplotlib.pyplot as plt\n",
        "\n",
        "(train_data, train_labels), (test_data, test_labels) = fashion_mnist.load_data()\n",
        "train_data = train_data.reshape((60000, 28 * 28))\n",
        "test_data = test_data.reshape((10000, 28 * 28))\n",
        "\n",
        "train_data = train_data.astype('float32') / 255\n",
        "test_data = test_data.astype('float32') / 255\n",
        "\n",
        "predictions = model.predict(test_data)\n",
        "\n",
        "for i in range(6):\n",
        "  if (i==5):\n",
        "    plt.figure(figsize=(6,3))\n",
        "    plt.subplot(1,2,1)\n",
        "    plot_image(i, predictions[i], test_labels, test_data.reshape(10000,28,28))\n",
        "    plt.subplot(1,2,2)\n",
        "    plot_value_array(i, predictions[i],  test_labels)\n",
        "    plt.show()\n",
        "    plt.clf()"
      ],
      "metadata": {
        "id": "2uhlV1TGwZMb",
        "outputId": "0d5a26c1-1e45-4d4c-e253-0a064521357b",
        "colab": {
          "base_uri": "https://localhost:8080/",
          "height": 248
        }
      },
      "execution_count": 524,
      "outputs": [
        {
          "output_type": "stream",
          "name": "stdout",
          "text": [
            "313/313 [==============================] - 1s 3ms/step\n"
          ]
        },
        {
          "output_type": "display_data",
          "data": {
            "text/plain": [
              "<Figure size 432x216 with 2 Axes>"
            ],
            "image/png": "[encoded data removed]"
          },
          "metadata": {
            "needs_background": "light"
          }
        },
        {
          "output_type": "display_data",
          "data": {
            "text/plain": [
              "<Figure size 432x288 with 0 Axes>"
            ]
          },
          "metadata": {}
        }
      ]
    },
    {
      "cell_type": "markdown",
      "source": [
        "fin"
      ],
      "metadata": {
        "id": "nLVJCavVwZiA"
      }
    }
  ]
}