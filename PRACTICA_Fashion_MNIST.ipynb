{
  "nbformat": 4,
  "nbformat_minor": 0,
  "metadata": {
    "colab": {
      "provenance": [],
      "collapsed_sections": [],
      "authorship_tag": "ABX9TyPnDxHLDAw4LcMuRBy/qggL",
      "include_colab_link": true
    },
    "kernelspec": {
      "name": "python3",
      "display_name": "Python 3"
    },
    "language_info": {
      "name": "python"
    },
    "accelerator": "TPU",
    "gpuClass": "standard"
  },
  "cells": [
    {
      "cell_type": "markdown",
      "metadata": {
        "id": "view-in-github",
        "colab_type": "text"
      },
      "source": [
        "<a href=\"https://colab.research.google.com/github/javierarteagapuell/deeplearning/blob/main/PRACTICA_Fashion_MNIST.ipynb\" target=\"_parent\"><img src=\"https://colab.research.google.com/assets/colab-badge.svg\" alt=\"Open In Colab\"/></a>"
      ]
    },
    {
      "cell_type": "code",
      "execution_count": 165,
      "metadata": {
        "id": "Kj0gniXK4uEd"
      },
      "outputs": [],
      "source": [
        "from tensorflow import keras\n",
        "from tensorflow.keras import layers\n",
        "import numpy as np"
      ]
    },
    {
      "cell_type": "markdown",
      "source": [
        "s"
      ],
      "metadata": {
        "id": "PtM5VECf5oDf"
      }
    },
    {
      "cell_type": "code",
      "source": [
        "from keras.datasets import fashion_mnist "
      ],
      "metadata": {
        "id": "ceq8WM5X5pe2"
      },
      "execution_count": 166,
      "outputs": []
    },
    {
      "cell_type": "markdown",
      "source": [
        "s"
      ],
      "metadata": {
        "id": "jzReK10H7AfF"
      }
    },
    {
      "cell_type": "code",
      "source": [
        "(train_data, train_labels), (test_data, test_labels) = fashion_mnist.load_data()"
      ],
      "metadata": {
        "id": "mzpV04AT7BUO"
      },
      "execution_count": 167,
      "outputs": []
    },
    {
      "cell_type": "markdown",
      "source": [],
      "metadata": {
        "id": "haPzOOrG5mR1"
      }
    },
    {
      "cell_type": "markdown",
      "source": [
        "s"
      ],
      "metadata": {
        "id": "W_I1JY-L8Jhl"
      }
    },
    {
      "cell_type": "code",
      "source": [
        "len(train_data)"
      ],
      "metadata": {
        "colab": {
          "base_uri": "https://localhost:8080/"
        },
        "id": "inZi5pdR8KeS",
        "outputId": "6537de14-94a1-4606-b5e1-4246e93e9e0a"
      },
      "execution_count": 168,
      "outputs": [
        {
          "output_type": "execute_result",
          "data": {
            "text/plain": [
              "60000"
            ]
          },
          "metadata": {},
          "execution_count": 168
        }
      ]
    },
    {
      "cell_type": "markdown",
      "source": [
        "s"
      ],
      "metadata": {
        "id": "o_iS-Nu08NdT"
      }
    },
    {
      "cell_type": "code",
      "source": [
        "len(test_data)"
      ],
      "metadata": {
        "colab": {
          "base_uri": "https://localhost:8080/"
        },
        "id": "vIthQGi08OTd",
        "outputId": "07970140-7f22-4a9b-a33d-23fb9b179fa0"
      },
      "execution_count": 169,
      "outputs": [
        {
          "output_type": "execute_result",
          "data": {
            "text/plain": [
              "10000"
            ]
          },
          "metadata": {},
          "execution_count": 169
        }
      ]
    },
    {
      "cell_type": "markdown",
      "source": [
        "s"
      ],
      "metadata": {
        "id": "3TRqQrP_9G81"
      }
    },
    {
      "cell_type": "code",
      "source": [
        "print(train_data.shape)\n",
        "print(test_data.shape)"
      ],
      "metadata": {
        "colab": {
          "base_uri": "https://localhost:8080/"
        },
        "id": "jS6NDPmSRsWx",
        "outputId": "4024f203-a7e9-4d2a-c348-6c24415908c2"
      },
      "execution_count": 170,
      "outputs": [
        {
          "output_type": "stream",
          "name": "stdout",
          "text": [
            "(60000, 28, 28)\n",
            "(10000, 28, 28)\n"
          ]
        }
      ]
    },
    {
      "cell_type": "markdown",
      "source": [
        "s"
      ],
      "metadata": {
        "id": "oqUS89i0Rxqp"
      }
    },
    {
      "cell_type": "code",
      "source": [
        "train_data = train_data.reshape((60000, 28 * 28))\n",
        "print(train_data)\n",
        "print(np.matrix(train_data[3000]))"
      ],
      "metadata": {
        "colab": {
          "base_uri": "https://localhost:8080/"
        },
        "id": "9FhG-daMMP5f",
        "outputId": "366dea9b-3300-407a-e805-6412b27e3963"
      },
      "execution_count": 171,
      "outputs": [
        {
          "output_type": "stream",
          "name": "stdout",
          "text": [
            "[[0 0 0 ... 0 0 0]\n",
            " [0 0 0 ... 0 0 0]\n",
            " [0 0 0 ... 0 0 0]\n",
            " ...\n",
            " [0 0 0 ... 0 0 0]\n",
            " [0 0 0 ... 0 0 0]\n",
            " [0 0 0 ... 0 0 0]]\n",
            "[[  0   0   0   0   0   0   0   0   1   1   0   0 120 131  91 147  30   0\n",
            "    0   1   1   0   0   0   0   0   0   0   0   0   0   0   0   0   1   3\n",
            "    0   0   0   0 251 199 172 195 152   0   0   0   0   3   1   0   0   0\n",
            "    0   0   0   0   0   0   0   0   0   0   0  43 124 193 166 239 255 216\n",
            "  172 228 126  61   0   0   0   0   0   0   0   0   0   0   0   0   0   0\n",
            "    0  96 167 155 159 171 178 211 215 210 196 189 158 164 159 108   0   0\n",
            "    0   0   0   0   0   0   0   0   0   0  83 157 131 117 120 148 148 145\n",
            "  178 159 174 160 123 132 142 172  38   0   0   0   0   0   0   0   0   0\n",
            "    0   0 159 128 118 120 122 112  93 124 161 109 128 128 129 146 138 167\n",
            "  122   0   0   0   0   0   0   0   0   0   0   0 171 135 120 114 118 119\n",
            "  107 125 123 117 124 124 119 145 147 166 148   0   0   0   0   0   0   0\n",
            "    0   0   0   4 171 138 126 120 117 118 102 122 145 111 120 122 120 152\n",
            "  154 155 170   0   0   0   0   0   0   0   0   0   0  31 170 129 138 125\n",
            "  113 106 103 118 137 108 135 130 158 182 138 143 186   0   0   0   0   0\n",
            "    0   0   0   0   0  58 163 114 137 143 119 103 100 109 118 109 129 134\n",
            "  172 181 131 136 190   0   0   0   0   0   0   0   0   0   0  76 160 113\n",
            "  141 148 128 111 101 116 137 111 131 142 167 183 136 120 186  12   0   0\n",
            "    0   0   0   0   0   0   0 100 148 108 147 147 134 120 105 116 131 116\n",
            "  136 137 165 192 137 113 187  30   0   0   0   0   0   0   0   0   0 114\n",
            "  143 108 158 147 130 125 106 114 122 119 129 134 160 196 136 109 182  51\n",
            "    0   0   0   0   0   0   0   0   0 120 140 117 151 148 131 124 109 120\n",
            "  143 120 130 128 159 188 111 108 178  66   0   0   0   0   0   0   0   0\n",
            "    0 125 129 128 112 145 140 122 113 118 134 117 132 128 166 157  91 120\n",
            "  170  74   0   0   0   0   0   0   0   0   0 126 123 138  74 140 143 124\n",
            "  111 112 126 120 130 129 175 120  88 128 164  91   0   0   0   0   0   0\n",
            "    0   0   0 124 123 157  45 145 143 124 113 119 148 122 131 129 183  90\n",
            "   73 137 155  99   0   0   0   0   0   0   0   0   0 118 122 167   0 143\n",
            "  149 122 112 118 137 116 132 126 183  73  50 152 147 101   0   0   0   0\n",
            "    0   0   0   0   0 111 128 164   0 142 151 122 111 117 132 120 136 125\n",
            "  182  90  18 164 145 107   0   0   0   0   0   0   0   0   0 109 132 158\n",
            "    0 146 148 120 108 125 157 120 136 131 176 111   0 164 143 118   0   0\n",
            "    0   0   0   0   0   0   0 111 141 140   0 148 149 120 114 123 137 124\n",
            "  137 131 171 135   0 157 147 125   0   0   0   0   0   0   0   0   0 111\n",
            "  154 111   0 155 148 118 116 124 143 123 131 129 167 155   0 129 157 129\n",
            "    0   0   0   0   0   0   0   0   0 109 155  87   0 157 145 119 117 126\n",
            "  154 126 130 123 161 160   0  97 163 130   0   0   0   0   0   0   0   0\n",
            "    0 124 142  54   0 149 141 119 119 124 136 129 126 120 153 175   0  76\n",
            "  145 137   0   0   0   0   0   0   0   0   0 136 151  47   0 149 137 119\n",
            "  118 126 143 132 130 123 153 172   0  66 148 154   0   0   0   0   0   0\n",
            "    0   0   0 109 174  48   0 154 138 119 117 124 138 130 129 125 159 167\n",
            "    0  58 174 128   0   0   0   0   0   0   0   0   0   0   0   0   0  85\n",
            "  182 147 136 143 158 146 148 153 199  70   0   0   0   0   0   0   0   0\n",
            "    0   0   0   0   0   0   0   0   0   0  26  54  72  83  96  85  80  61\n",
            "   14   0   0   0   0   0   0   0   0   0]]\n"
          ]
        }
      ]
    },
    {
      "cell_type": "markdown",
      "source": [
        "s"
      ],
      "metadata": {
        "id": "Hj2ys7KKMb60"
      }
    },
    {
      "cell_type": "code",
      "source": [
        "train_data = train_data.astype('float32') / 255\n",
        "train_data[3000]"
      ],
      "metadata": {
        "colab": {
          "base_uri": "https://localhost:8080/"
        },
        "id": "ntwKe2w7NUHQ",
        "outputId": "c2ae18a5-4688-43bb-ceea-5c41bb2c3846"
      },
      "execution_count": 172,
      "outputs": [
        {
          "output_type": "execute_result",
          "data": {
            "text/plain": [
              "array([0.        , 0.        , 0.        , 0.        , 0.        ,\n",
              "       0.        , 0.        , 0.        , 0.00392157, 0.00392157,\n",
              "       0.        , 0.        , 0.47058824, 0.5137255 , 0.35686275,\n",
              "       0.5764706 , 0.11764706, 0.        , 0.        , 0.00392157,\n",
              "       0.00392157, 0.        , 0.        , 0.        , 0.        ,\n",
              "       0.        , 0.        , 0.        , 0.        , 0.        ,\n",
              "       0.        , 0.        , 0.        , 0.        , 0.00392157,\n",
              "       0.01176471, 0.        , 0.        , 0.        , 0.        ,\n",
              "       0.9843137 , 0.78039217, 0.6745098 , 0.7647059 , 0.59607846,\n",
              "       0.        , 0.        , 0.        , 0.        , 0.01176471,\n",
              "       0.00392157, 0.        , 0.        , 0.        , 0.        ,\n",
              "       0.        , 0.        , 0.        , 0.        , 0.        ,\n",
              "       0.        , 0.        , 0.        , 0.        , 0.        ,\n",
              "       0.16862746, 0.4862745 , 0.75686276, 0.6509804 , 0.9372549 ,\n",
              "       1.        , 0.84705883, 0.6745098 , 0.89411765, 0.49411765,\n",
              "       0.23921569, 0.        , 0.        , 0.        , 0.        ,\n",
              "       0.        , 0.        , 0.        , 0.        , 0.        ,\n",
              "       0.        , 0.        , 0.        , 0.        , 0.        ,\n",
              "       0.        , 0.3764706 , 0.654902  , 0.60784316, 0.62352943,\n",
              "       0.67058825, 0.69803923, 0.827451  , 0.84313726, 0.8235294 ,\n",
              "       0.76862746, 0.7411765 , 0.61960787, 0.6431373 , 0.62352943,\n",
              "       0.42352942, 0.        , 0.        , 0.        , 0.        ,\n",
              "       0.        , 0.        , 0.        , 0.        , 0.        ,\n",
              "       0.        , 0.        , 0.        , 0.3254902 , 0.6156863 ,\n",
              "       0.5137255 , 0.45882353, 0.47058824, 0.5803922 , 0.5803922 ,\n",
              "       0.5686275 , 0.69803923, 0.62352943, 0.68235296, 0.627451  ,\n",
              "       0.48235294, 0.5176471 , 0.5568628 , 0.6745098 , 0.14901961,\n",
              "       0.        , 0.        , 0.        , 0.        , 0.        ,\n",
              "       0.        , 0.        , 0.        , 0.        , 0.        ,\n",
              "       0.        , 0.62352943, 0.5019608 , 0.4627451 , 0.47058824,\n",
              "       0.47843137, 0.4392157 , 0.3647059 , 0.4862745 , 0.6313726 ,\n",
              "       0.42745098, 0.5019608 , 0.5019608 , 0.5058824 , 0.57254905,\n",
              "       0.5411765 , 0.654902  , 0.47843137, 0.        , 0.        ,\n",
              "       0.        , 0.        , 0.        , 0.        , 0.        ,\n",
              "       0.        , 0.        , 0.        , 0.        , 0.67058825,\n",
              "       0.5294118 , 0.47058824, 0.44705883, 0.4627451 , 0.46666667,\n",
              "       0.41960785, 0.49019608, 0.48235294, 0.45882353, 0.4862745 ,\n",
              "       0.4862745 , 0.46666667, 0.5686275 , 0.5764706 , 0.6509804 ,\n",
              "       0.5803922 , 0.        , 0.        , 0.        , 0.        ,\n",
              "       0.        , 0.        , 0.        , 0.        , 0.        ,\n",
              "       0.        , 0.01568628, 0.67058825, 0.5411765 , 0.49411765,\n",
              "       0.47058824, 0.45882353, 0.4627451 , 0.4       , 0.47843137,\n",
              "       0.5686275 , 0.43529412, 0.47058824, 0.47843137, 0.47058824,\n",
              "       0.59607846, 0.6039216 , 0.60784316, 0.6666667 , 0.        ,\n",
              "       0.        , 0.        , 0.        , 0.        , 0.        ,\n",
              "       0.        , 0.        , 0.        , 0.        , 0.12156863,\n",
              "       0.6666667 , 0.5058824 , 0.5411765 , 0.49019608, 0.44313726,\n",
              "       0.41568628, 0.40392157, 0.4627451 , 0.5372549 , 0.42352942,\n",
              "       0.5294118 , 0.50980395, 0.61960787, 0.7137255 , 0.5411765 ,\n",
              "       0.56078434, 0.7294118 , 0.        , 0.        , 0.        ,\n",
              "       0.        , 0.        , 0.        , 0.        , 0.        ,\n",
              "       0.        , 0.        , 0.22745098, 0.6392157 , 0.44705883,\n",
              "       0.5372549 , 0.56078434, 0.46666667, 0.40392157, 0.39215687,\n",
              "       0.42745098, 0.4627451 , 0.42745098, 0.5058824 , 0.5254902 ,\n",
              "       0.6745098 , 0.70980394, 0.5137255 , 0.53333336, 0.74509805,\n",
              "       0.        , 0.        , 0.        , 0.        , 0.        ,\n",
              "       0.        , 0.        , 0.        , 0.        , 0.        ,\n",
              "       0.29803923, 0.627451  , 0.44313726, 0.5529412 , 0.5803922 ,\n",
              "       0.5019608 , 0.43529412, 0.39607844, 0.45490196, 0.5372549 ,\n",
              "       0.43529412, 0.5137255 , 0.5568628 , 0.654902  , 0.7176471 ,\n",
              "       0.53333336, 0.47058824, 0.7294118 , 0.04705882, 0.        ,\n",
              "       0.        , 0.        , 0.        , 0.        , 0.        ,\n",
              "       0.        , 0.        , 0.        , 0.39215687, 0.5803922 ,\n",
              "       0.42352942, 0.5764706 , 0.5764706 , 0.5254902 , 0.47058824,\n",
              "       0.4117647 , 0.45490196, 0.5137255 , 0.45490196, 0.53333336,\n",
              "       0.5372549 , 0.64705884, 0.7529412 , 0.5372549 , 0.44313726,\n",
              "       0.73333335, 0.11764706, 0.        , 0.        , 0.        ,\n",
              "       0.        , 0.        , 0.        , 0.        , 0.        ,\n",
              "       0.        , 0.44705883, 0.56078434, 0.42352942, 0.61960787,\n",
              "       0.5764706 , 0.50980395, 0.49019608, 0.41568628, 0.44705883,\n",
              "       0.47843137, 0.46666667, 0.5058824 , 0.5254902 , 0.627451  ,\n",
              "       0.76862746, 0.53333336, 0.42745098, 0.7137255 , 0.2       ,\n",
              "       0.        , 0.        , 0.        , 0.        , 0.        ,\n",
              "       0.        , 0.        , 0.        , 0.        , 0.47058824,\n",
              "       0.54901963, 0.45882353, 0.5921569 , 0.5803922 , 0.5137255 ,\n",
              "       0.4862745 , 0.42745098, 0.47058824, 0.56078434, 0.47058824,\n",
              "       0.50980395, 0.5019608 , 0.62352943, 0.7372549 , 0.43529412,\n",
              "       0.42352942, 0.69803923, 0.25882354, 0.        , 0.        ,\n",
              "       0.        , 0.        , 0.        , 0.        , 0.        ,\n",
              "       0.        , 0.        , 0.49019608, 0.5058824 , 0.5019608 ,\n",
              "       0.4392157 , 0.5686275 , 0.54901963, 0.47843137, 0.44313726,\n",
              "       0.4627451 , 0.5254902 , 0.45882353, 0.5176471 , 0.5019608 ,\n",
              "       0.6509804 , 0.6156863 , 0.35686275, 0.47058824, 0.6666667 ,\n",
              "       0.2901961 , 0.        , 0.        , 0.        , 0.        ,\n",
              "       0.        , 0.        , 0.        , 0.        , 0.        ,\n",
              "       0.49411765, 0.48235294, 0.5411765 , 0.2901961 , 0.54901963,\n",
              "       0.56078434, 0.4862745 , 0.43529412, 0.4392157 , 0.49411765,\n",
              "       0.47058824, 0.50980395, 0.5058824 , 0.6862745 , 0.47058824,\n",
              "       0.34509805, 0.5019608 , 0.6431373 , 0.35686275, 0.        ,\n",
              "       0.        , 0.        , 0.        , 0.        , 0.        ,\n",
              "       0.        , 0.        , 0.        , 0.4862745 , 0.48235294,\n",
              "       0.6156863 , 0.1764706 , 0.5686275 , 0.56078434, 0.4862745 ,\n",
              "       0.44313726, 0.46666667, 0.5803922 , 0.47843137, 0.5137255 ,\n",
              "       0.5058824 , 0.7176471 , 0.3529412 , 0.28627452, 0.5372549 ,\n",
              "       0.60784316, 0.3882353 , 0.        , 0.        , 0.        ,\n",
              "       0.        , 0.        , 0.        , 0.        , 0.        ,\n",
              "       0.        , 0.4627451 , 0.47843137, 0.654902  , 0.        ,\n",
              "       0.56078434, 0.58431375, 0.47843137, 0.4392157 , 0.4627451 ,\n",
              "       0.5372549 , 0.45490196, 0.5176471 , 0.49411765, 0.7176471 ,\n",
              "       0.28627452, 0.19607843, 0.59607846, 0.5764706 , 0.39607844,\n",
              "       0.        , 0.        , 0.        , 0.        , 0.        ,\n",
              "       0.        , 0.        , 0.        , 0.        , 0.43529412,\n",
              "       0.5019608 , 0.6431373 , 0.        , 0.5568628 , 0.5921569 ,\n",
              "       0.47843137, 0.43529412, 0.45882353, 0.5176471 , 0.47058824,\n",
              "       0.53333336, 0.49019608, 0.7137255 , 0.3529412 , 0.07058824,\n",
              "       0.6431373 , 0.5686275 , 0.41960785, 0.        , 0.        ,\n",
              "       0.        , 0.        , 0.        , 0.        , 0.        ,\n",
              "       0.        , 0.        , 0.42745098, 0.5176471 , 0.61960787,\n",
              "       0.        , 0.57254905, 0.5803922 , 0.47058824, 0.42352942,\n",
              "       0.49019608, 0.6156863 , 0.47058824, 0.53333336, 0.5137255 ,\n",
              "       0.6901961 , 0.43529412, 0.        , 0.6431373 , 0.56078434,\n",
              "       0.4627451 , 0.        , 0.        , 0.        , 0.        ,\n",
              "       0.        , 0.        , 0.        , 0.        , 0.        ,\n",
              "       0.43529412, 0.5529412 , 0.54901963, 0.        , 0.5803922 ,\n",
              "       0.58431375, 0.47058824, 0.44705883, 0.48235294, 0.5372549 ,\n",
              "       0.4862745 , 0.5372549 , 0.5137255 , 0.67058825, 0.5294118 ,\n",
              "       0.        , 0.6156863 , 0.5764706 , 0.49019608, 0.        ,\n",
              "       0.        , 0.        , 0.        , 0.        , 0.        ,\n",
              "       0.        , 0.        , 0.        , 0.43529412, 0.6039216 ,\n",
              "       0.43529412, 0.        , 0.60784316, 0.5803922 , 0.4627451 ,\n",
              "       0.45490196, 0.4862745 , 0.56078434, 0.48235294, 0.5137255 ,\n",
              "       0.5058824 , 0.654902  , 0.60784316, 0.        , 0.5058824 ,\n",
              "       0.6156863 , 0.5058824 , 0.        , 0.        , 0.        ,\n",
              "       0.        , 0.        , 0.        , 0.        , 0.        ,\n",
              "       0.        , 0.42745098, 0.60784316, 0.34117648, 0.        ,\n",
              "       0.6156863 , 0.5686275 , 0.46666667, 0.45882353, 0.49411765,\n",
              "       0.6039216 , 0.49411765, 0.50980395, 0.48235294, 0.6313726 ,\n",
              "       0.627451  , 0.        , 0.38039216, 0.6392157 , 0.50980395,\n",
              "       0.        , 0.        , 0.        , 0.        , 0.        ,\n",
              "       0.        , 0.        , 0.        , 0.        , 0.4862745 ,\n",
              "       0.5568628 , 0.21176471, 0.        , 0.58431375, 0.5529412 ,\n",
              "       0.46666667, 0.46666667, 0.4862745 , 0.53333336, 0.5058824 ,\n",
              "       0.49411765, 0.47058824, 0.6       , 0.6862745 , 0.        ,\n",
              "       0.29803923, 0.5686275 , 0.5372549 , 0.        , 0.        ,\n",
              "       0.        , 0.        , 0.        , 0.        , 0.        ,\n",
              "       0.        , 0.        , 0.53333336, 0.5921569 , 0.18431373,\n",
              "       0.        , 0.58431375, 0.5372549 , 0.46666667, 0.4627451 ,\n",
              "       0.49411765, 0.56078434, 0.5176471 , 0.50980395, 0.48235294,\n",
              "       0.6       , 0.6745098 , 0.        , 0.25882354, 0.5803922 ,\n",
              "       0.6039216 , 0.        , 0.        , 0.        , 0.        ,\n",
              "       0.        , 0.        , 0.        , 0.        , 0.        ,\n",
              "       0.42745098, 0.68235296, 0.1882353 , 0.        , 0.6039216 ,\n",
              "       0.5411765 , 0.46666667, 0.45882353, 0.4862745 , 0.5411765 ,\n",
              "       0.50980395, 0.5058824 , 0.49019608, 0.62352943, 0.654902  ,\n",
              "       0.        , 0.22745098, 0.68235296, 0.5019608 , 0.        ,\n",
              "       0.        , 0.        , 0.        , 0.        , 0.        ,\n",
              "       0.        , 0.        , 0.        , 0.        , 0.        ,\n",
              "       0.        , 0.        , 0.33333334, 0.7137255 , 0.5764706 ,\n",
              "       0.53333336, 0.56078434, 0.61960787, 0.57254905, 0.5803922 ,\n",
              "       0.6       , 0.78039217, 0.27450982, 0.        , 0.        ,\n",
              "       0.        , 0.        , 0.        , 0.        , 0.        ,\n",
              "       0.        , 0.        , 0.        , 0.        , 0.        ,\n",
              "       0.        , 0.        , 0.        , 0.        , 0.        ,\n",
              "       0.        , 0.10196079, 0.21176471, 0.28235295, 0.3254902 ,\n",
              "       0.3764706 , 0.33333334, 0.3137255 , 0.23921569, 0.05490196,\n",
              "       0.        , 0.        , 0.        , 0.        , 0.        ,\n",
              "       0.        , 0.        , 0.        , 0.        ], dtype=float32)"
            ]
          },
          "metadata": {},
          "execution_count": 172
        }
      ]
    },
    {
      "cell_type": "markdown",
      "source": [
        "s"
      ],
      "metadata": {
        "id": "MG3ta-rqNUwo"
      }
    },
    {
      "cell_type": "code",
      "source": [
        "test_data = test_data.reshape((10000, 28 * 28))\n",
        "test_data = test_data.astype('float32') / 255"
      ],
      "metadata": {
        "id": "B5bDd3-hPeSH"
      },
      "execution_count": 173,
      "outputs": []
    },
    {
      "cell_type": "markdown",
      "source": [
        "s"
      ],
      "metadata": {
        "id": "euXfbR6SPeh6"
      }
    },
    {
      "cell_type": "code",
      "source": [
        "from keras.utils.np_utils import to_categorical\n",
        "\n",
        "train_labels = to_categorical(train_labels)\n",
        "test_labels = to_categorical(test_labels)\n",
        "train_labels[30000]"
      ],
      "metadata": {
        "colab": {
          "base_uri": "https://localhost:8080/"
        },
        "id": "GW3NxRqYQQZ6",
        "outputId": "0667a370-dd90-4033-ff28-3804d3184f9b"
      },
      "execution_count": 174,
      "outputs": [
        {
          "output_type": "execute_result",
          "data": {
            "text/plain": [
              "array([0., 0., 0., 1., 0., 0., 0., 0., 0., 0.], dtype=float32)"
            ]
          },
          "metadata": {},
          "execution_count": 174
        }
      ]
    },
    {
      "cell_type": "markdown",
      "source": [
        "s"
      ],
      "metadata": {
        "id": "yTEzceXEQs__"
      }
    },
    {
      "cell_type": "code",
      "source": [
        "from tensorflow.keras import optimizers\n",
        "from keras import losses\n",
        "from keras import metrics\n",
        "from keras import models\n",
        "from keras import layers\n",
        "\n",
        "\n",
        "model = models.Sequential()\n",
        "\n",
        "#Capa 1\n",
        "model.add(layers.Dense(10, activation='relu', name=\"Capa1\",input_shape=(28*28,)))\n",
        "\n",
        "#Capa final\n",
        "model.add(layers.Dense(10, name=\"CapaSalida\",activation='softmax'))"
      ],
      "metadata": {
        "id": "6s4rp0iWSGE_"
      },
      "execution_count": 175,
      "outputs": []
    },
    {
      "cell_type": "markdown",
      "source": [
        "s"
      ],
      "metadata": {
        "id": "O7ykuaNzMnqg"
      }
    },
    {
      "cell_type": "code",
      "source": [
        "model.summary()\n"
      ],
      "metadata": {
        "colab": {
          "base_uri": "https://localhost:8080/"
        },
        "id": "jQlpbPf-Qdiv",
        "outputId": "46b49e88-64cf-452d-e05e-be067ee08489"
      },
      "execution_count": 176,
      "outputs": [
        {
          "output_type": "stream",
          "name": "stdout",
          "text": [
            "Model: \"sequential_10\"\n",
            "_________________________________________________________________\n",
            " Layer (type)                Output Shape              Param #   \n",
            "=================================================================\n",
            " Capa1 (Dense)               (None, 10)                7850      \n",
            "                                                                 \n",
            " CapaSalida (Dense)          (None, 10)                110       \n",
            "                                                                 \n",
            "=================================================================\n",
            "Total params: 7,960\n",
            "Trainable params: 7,960\n",
            "Non-trainable params: 0\n",
            "_________________________________________________________________\n"
          ]
        }
      ]
    },
    {
      "cell_type": "markdown",
      "source": [
        "s"
      ],
      "metadata": {
        "id": "ebTLYPcmzEc-"
      }
    },
    {
      "cell_type": "code",
      "source": [
        "model.compile(optimizer='sgd',\n",
        "              loss='categorical_crossentropy',\n",
        "              metrics=['accuracy'])"
      ],
      "metadata": {
        "id": "uwIBFxNZVD5j"
      },
      "execution_count": 177,
      "outputs": []
    },
    {
      "cell_type": "markdown",
      "source": [
        "s"
      ],
      "metadata": {
        "id": "qpSFWpAUVWiG"
      }
    },
    {
      "cell_type": "code",
      "source": [
        "one_hot_train_labels=train_labels\n",
        "\n",
        "\n",
        "x_val = train_data[:10000]\n",
        "partial_x_train = train_data[10000:]\n",
        "\n",
        "y_val = one_hot_train_labels[:10000]\n",
        "partial_y_train = one_hot_train_labels[10000:]"
      ],
      "metadata": {
        "id": "VfrSdJ--VV-A"
      },
      "execution_count": 181,
      "outputs": []
    },
    {
      "cell_type": "markdown",
      "source": [
        "s"
      ],
      "metadata": {
        "id": "2oFAQom1VEdi"
      }
    },
    {
      "cell_type": "code",
      "source": [
        "history = model.fit(train_data,\n",
        "          train_labels,\n",
        "          epochs=5,\n",
        "          batch_size=128,\n",
        "          validation_data=(x_val, y_val))"
      ],
      "metadata": {
        "colab": {
          "base_uri": "https://localhost:8080/"
        },
        "id": "MepKtlWWQrt1",
        "outputId": "67d54959-c456-4271-e1d2-585a923d9c3e"
      },
      "execution_count": 182,
      "outputs": [
        {
          "output_type": "stream",
          "name": "stdout",
          "text": [
            "Epoch 1/5\n",
            "469/469 [==============================] - 2s 3ms/step - loss: 1.3839 - accuracy: 0.5379 - val_loss: 0.9832 - val_accuracy: 0.6773\n",
            "Epoch 2/5\n",
            "469/469 [==============================] - 1s 2ms/step - loss: 0.8687 - accuracy: 0.7059 - val_loss: 0.7827 - val_accuracy: 0.7332\n",
            "Epoch 3/5\n",
            "469/469 [==============================] - 1s 3ms/step - loss: 0.7371 - accuracy: 0.7475 - val_loss: 0.6984 - val_accuracy: 0.7611\n",
            "Epoch 4/5\n",
            "469/469 [==============================] - 1s 2ms/step - loss: 0.6699 - accuracy: 0.7702 - val_loss: 0.6430 - val_accuracy: 0.7820\n",
            "Epoch 5/5\n",
            "469/469 [==============================] - 1s 3ms/step - loss: 0.6274 - accuracy: 0.7850 - val_loss: 0.6069 - val_accuracy: 0.7936\n"
          ]
        }
      ]
    },
    {
      "cell_type": "markdown",
      "source": [
        "s"
      ],
      "metadata": {
        "id": "xByMAIeTPqjV"
      }
    },
    {
      "cell_type": "code",
      "source": [
        "test_loss, test_acc = model.evaluate(test_data, test_labels)"
      ],
      "metadata": {
        "colab": {
          "base_uri": "https://localhost:8080/"
        },
        "id": "zwHoOjklPmsa",
        "outputId": "a7c2e027-115e-44db-ea35-559ac4ebb081"
      },
      "execution_count": 183,
      "outputs": [
        {
          "output_type": "stream",
          "name": "stdout",
          "text": [
            "313/313 [==============================] - 1s 2ms/step - loss: 0.6346 - accuracy: 0.7781\n"
          ]
        }
      ]
    },
    {
      "cell_type": "markdown",
      "source": [
        "s"
      ],
      "metadata": {
        "id": "v14WTvUKPzKW"
      }
    },
    {
      "cell_type": "code",
      "source": [
        "print('test_loss:', test_loss)\n",
        "print('test_acc:', test_acc)"
      ],
      "metadata": {
        "colab": {
          "base_uri": "https://localhost:8080/"
        },
        "id": "USBcA7onPzqS",
        "outputId": "7d64709a-07ce-4d9f-e45d-2acee2ee44bc"
      },
      "execution_count": 184,
      "outputs": [
        {
          "output_type": "stream",
          "name": "stdout",
          "text": [
            "test_loss: 0.6345927715301514\n",
            "test_acc: 0.7781000137329102\n"
          ]
        }
      ]
    },
    {
      "cell_type": "markdown",
      "source": [
        "s"
      ],
      "metadata": {
        "id": "te2oIsq1WKnr"
      }
    },
    {
      "cell_type": "code",
      "source": [
        "# Look at confusion matrix \n",
        "# Note, this code is taken straight from the SKLEARN website, an nice way of \n",
        "# viewing confusion matrix.\n",
        "import matplotlib.pyplot as plt\n",
        "def plot_confusion_matrix(cm, classes,\n",
        "                          normalize=False,\n",
        "                          title='Confusion matrix',\n",
        "                          cmap=plt.cm.Blues):\n",
        "    \"\"\"\n",
        "    This function prints and plots the confusion matrix.\n",
        "    Normalization can be applied by setting `normalize=True`.\n",
        "    \"\"\"\n",
        "    plt.imshow(cm, interpolation='nearest', cmap=cmap)\n",
        "    plt.title(title)\n",
        "    plt.colorbar()\n",
        "    tick_marks = np.arange(len(classes))\n",
        "    plt.xticks(tick_marks, classes, rotation=45)\n",
        "    plt.yticks(tick_marks, classes)\n",
        "\n",
        "    if normalize:\n",
        "        cm = cm.astype('float') / cm.sum(axis=1)[:, np.newaxis]\n",
        "\n",
        "    thresh = cm.max() / 2.\n",
        "    for i, j in itertools.product(range(cm.shape[0]), range(cm.shape[1])):\n",
        "        plt.text(j, i, cm[i, j],\n",
        "                 horizontalalignment=\"center\",\n",
        "                 color=\"white\" if cm[i, j] > thresh else \"black\")\n",
        "\n",
        "    plt.tight_layout()\n",
        "    plt.ylabel('Observación')\n",
        "    plt.xlabel('Predicción')"
      ],
      "metadata": {
        "id": "ap-ozaX0llrR"
      },
      "execution_count": 185,
      "outputs": []
    },
    {
      "cell_type": "markdown",
      "source": [
        "s"
      ],
      "metadata": {
        "id": "wRx8hZhLQo8m"
      }
    },
    {
      "cell_type": "code",
      "source": [
        "from collections import Counter\n",
        "from sklearn.metrics import confusion_matrix\n",
        "import itertools\n",
        "import numpy as np\n",
        "\n",
        "# Predicción de valores desde el dataset de validación\n",
        "Y_pred = model.predict(test_data)\n",
        "print(\"=VALORES QUE PREDICE EL MODELO ENTRENADO CON LAS IMAGENES DE TEST======\")\n",
        "print(\"=RECORDAR QUE LA PRIMERA IMAGEN DE TEST ERA UN 7=======================\")\n",
        "print(Y_pred[0])\n",
        "print(\"=======================================================================\")\n",
        "# Convertir en predicciones de clases desde los vectores one-hot encoding \n",
        "Y_pred_classes = np.argmax(Y_pred, axis = 1) \n",
        "print(\"=CONVERSION DE PREDICCIONES EN CLASES DESDE VECTORES ONE-HOT ENCODING==\")\n",
        "print(Y_pred_classes)\n",
        "print(\"=======================================================================\")\n",
        "# Convertir en clases de observación desde los vectores one-hot encoding\n",
        "Y_true = np.argmax(test_labels, axis = 1) \n",
        "print(\"=CONVERSION DE VALORES REALES EN CLASES DESDE VECTORES ONE-HOT ENCODING\")\n",
        "print(Y_true)\n",
        "print(\"=======================================================================\")\n",
        "# Computar la matriz de confusión\n",
        "confusion_mtx = confusion_matrix(Y_true, Y_pred_classes) \n",
        "print(\"=MATRIZ DE CONFUSION CON VALORES REALES FRENTE A LOS PREDICHOS=========\")\n",
        "print(confusion_mtx)\n",
        "print(\"=======================================================================\")\n",
        "# Dibujar la matriz de confusión\n",
        "print(\"=PINTAMOS LA MATRIZ DE CONFUSION=======================================\")\n",
        "plot_confusion_matrix(confusion_mtx, classes = range(10))"
      ],
      "metadata": {
        "id": "XshGwiutVsi9",
        "colab": {
          "base_uri": "https://localhost:8080/",
          "height": 745
        },
        "outputId": "c6eac062-fe3f-4424-cf3c-09485f22753e"
      },
      "execution_count": 186,
      "outputs": [
        {
          "output_type": "stream",
          "name": "stdout",
          "text": [
            "313/313 [==============================] - 0s 1ms/step\n",
            "=VALORES QUE PREDICE EL MODELO ENTRENADO CON LAS IMAGENES DE TEST======\n",
            "=RECORDAR QUE LA PRIMERA IMAGEN DE TEST ERA UN 7=======================\n",
            "[9.3113493e-07 1.2273666e-05 1.1578679e-05 3.2449218e-05 2.6946511e-05\n",
            " 1.8039426e-01 3.1908519e-06 2.7631122e-01 2.8317587e-02 5.1488954e-01]\n",
            "=======================================================================\n",
            "=CONVERSION DE PREDICCIONES EN CLASES DESDE VECTORES ONE-HOT ENCODING==\n",
            "[9 2 1 ... 8 1 5]\n",
            "=======================================================================\n",
            "=CONVERSION DE VALORES REALES EN CLASES DESDE VECTORES ONE-HOT ENCODING\n",
            "[9 2 1 ... 8 1 5]\n",
            "=======================================================================\n",
            "=MATRIZ DE CONFUSION CON VALORES REALES FRENTE A LOS PREDICHOS=========\n",
            "[[756   9  11  89  11   2 106   0  16   0]\n",
            " [  6 922  18  44   4   0   3   0   3   0]\n",
            " [ 11   1 620   9 214   1 135   0   9   0]\n",
            " [ 38  13   5 829  52   1  56   0   6   0]\n",
            " [  0   2 154  47 706   0  83   0   8   0]\n",
            " [  1   1   0   0   0 820   0 100   9  69]\n",
            " [180   3 170  54 158   1 401   0  33   0]\n",
            " [  0   0   0   0   0  37   0 876   0  87]\n",
            " [  0   1  13  14   3   9  32   7 919   2]\n",
            " [  0   0   0   0   0  12   0  49   7 932]]\n",
            "=======================================================================\n",
            "=PINTAMOS LA MATRIZ DE CONFUSION=======================================\n"
          ]
        },
        {
          "output_type": "display_data",
          "data": {
            "text/plain": [
              "<Figure size 432x288 with 2 Axes>"
            ],
            "image/png": "[encoded data removed]"
          },
          "metadata": {
            "needs_background": "light"
          }
        }
      ]
    },
    {
      "cell_type": "code",
      "source": [
        "# Veamos el elemento 6 de test y pintémoslo con matplotlib\n",
        "from keras.datasets import fashion_mnist\n",
        "(train_data, train_labels), (test_data, test_labels) = fashion_mnist.load_data()\n",
        "import matplotlib.pyplot as plt\n",
        "digit = test_data[5]\n",
        "plt.imshow(digit, cmap=plt.cm.binary)\n",
        "plt.show()"
      ],
      "metadata": {
        "colab": {
          "base_uri": "https://localhost:8080/",
          "height": 265
        },
        "id": "9BbG8Tn8c07E",
        "outputId": "028792f3-c8a2-4764-d739-0e2b3ee7c1c3"
      },
      "execution_count": 187,
      "outputs": [
        {
          "output_type": "display_data",
          "data": {
            "text/plain": [
              "<Figure size 432x288 with 1 Axes>"
            ],
            "image/png": "[encoded data removed]"
          },
          "metadata": {
            "needs_background": "light"
          }
        }
      ]
    },
    {
      "cell_type": "markdown",
      "source": [
        "s"
      ],
      "metadata": {
        "id": "aXPGbda3c8AT"
      }
    },
    {
      "cell_type": "code",
      "source": [
        "train_data = train_data.reshape((60000, 28 * 28))\n",
        "test_data = test_data.reshape((10000, 28 * 28))\n",
        "\n",
        "train_data = train_data.astype('float32') / 255\n",
        "test_data = test_data.astype('float32') / 255\n",
        "\n",
        "from keras.utils.np_utils import to_categorical\n",
        "\n",
        "print(\"=VEMOS LAS ETIQUETAS DE TEST ORIGINALES================================\")\n",
        "print(test_labels)\n",
        "print(\"=======================================================================\")\n",
        "test_labels = to_categorical(test_labels)\n",
        "print(\"=VEMOS LAS ETIQUETAS DE TEST AL PASARLAS POR to_categorical============\")\n",
        "print(test_labels)\n",
        "print(\"=======================================================================\")\n",
        "\n",
        "# Hacemos las predicciones con las imágenes de Test\n",
        "predictions = model.predict(test_data)\n",
        "\n",
        "print(\"=VEMOS LA PREDICCIÓN DEL ELEMENTO 6 (QUE DEBERÍA SER UN 1)============\")\n",
        "print(predictions[5])\n",
        "print(\"=======================================================================\")\n",
        "print(\"=VEMOS LA PREDICCIÓN DEL ELEMENTO 6 (QUE DEBERÍA SER UN 1)============\")\n",
        "print(np.argmax(predictions[5]))\n",
        "print(\"=======================================================================\")\n",
        "print(\"=LA SUMA DE TODAS LAS PREDICCIONES PARA EL ELEMENTO 6 DEBERÍA SER 1===\")\n",
        "print(np.sum(predictions[5]))\n",
        "print(\"=======================================================================\")\n",
        "print(\"=PINTAMOS TODAS LAS PREDICCIONES=======================================\")\n",
        "print(predictions)"
      ],
      "metadata": {
        "colab": {
          "base_uri": "https://localhost:8080/"
        },
        "id": "FhoAWXL1c64n",
        "outputId": "195360b6-0ec0-4988-bd16-7d8f08614b8e"
      },
      "execution_count": 188,
      "outputs": [
        {
          "output_type": "stream",
          "name": "stdout",
          "text": [
            "=VEMOS LAS ETIQUETAS DE TEST ORIGINALES================================\n",
            "[9 2 1 ... 8 1 5]\n",
            "=======================================================================\n",
            "=VEMOS LAS ETIQUETAS DE TEST AL PASARLAS POR to_categorical============\n",
            "[[0. 0. 0. ... 0. 0. 1.]\n",
            " [0. 0. 1. ... 0. 0. 0.]\n",
            " [0. 1. 0. ... 0. 0. 0.]\n",
            " ...\n",
            " [0. 0. 0. ... 0. 1. 0.]\n",
            " [0. 1. 0. ... 0. 0. 0.]\n",
            " [0. 0. 0. ... 0. 0. 0.]]\n",
            "=======================================================================\n",
            "313/313 [==============================] - 0s 1ms/step\n",
            "=VEMOS LA PREDICCIÓN DEL ELEMENTO 6 (QUE DEBERÍA SER UN 1)============\n",
            "[1.9838002e-02 9.5685506e-01 2.3197047e-03 1.8343328e-02 8.8916882e-04\n",
            " 2.4332378e-05 1.6581045e-03 7.3692750e-06 6.3653053e-05 1.2578688e-06]\n",
            "=======================================================================\n",
            "=VEMOS LA PREDICCIÓN DEL ELEMENTO 6 (QUE DEBERÍA SER UN 1)============\n",
            "1\n",
            "=======================================================================\n",
            "=LA SUMA DE TODAS LAS PREDICCIONES PARA EL ELEMENTO 6 DEBERÍA SER 1===\n",
            "0.99999994\n",
            "=======================================================================\n",
            "=PINTAMOS TODAS LAS PREDICCIONES=======================================\n",
            "[[9.3113493e-07 1.2273666e-05 1.1578679e-05 ... 2.7631122e-01\n",
            "  2.8317587e-02 5.1488954e-01]\n",
            " [2.6371591e-03 3.2763214e-06 7.4425507e-01 ... 3.0843079e-09\n",
            "  1.0684723e-03 6.8638033e-09]\n",
            " [4.1643644e-04 9.9857056e-01 1.9911673e-05 ... 4.0332770e-07\n",
            "  5.1947484e-07 2.6613561e-08]\n",
            " ...\n",
            " [9.5861293e-02 2.6904122e-04 1.1157497e-02 ... 2.1191055e-04\n",
            "  4.8526222e-01 5.8182667e-04]\n",
            " [1.9725235e-03 9.3266684e-01 1.2151850e-04 ... 3.6622392e-04\n",
            "  1.4540642e-04 1.8734345e-05]\n",
            " [9.6051976e-05 4.3740214e-04 1.6245362e-03 ... 2.8920954e-01\n",
            "  2.3706101e-02 5.5938210e-02]]\n"
          ]
        }
      ]
    },
    {
      "cell_type": "markdown",
      "source": [
        "s"
      ],
      "metadata": {
        "id": "JqKzYq9tV2Sb"
      }
    },
    {
      "cell_type": "code",
      "source": [
        "def plot_image(i, predictions_array, true_label, img):\n",
        "  predictions_array, true_label, img = predictions_array, true_label[i], img[i]\n",
        "  plt.grid(False)\n",
        "  plt.xticks([])\n",
        "  plt.yticks([])\n",
        "\n",
        "  plt.imshow(img, cmap=plt.cm.binary)    \n",
        "\n",
        "  predicted_label = np.argmax(predictions_array)\n",
        "  if predicted_label.all() == true_label.all():\n",
        "    color = 'blue'\n",
        "  else:\n",
        "    color = 'red'\n",
        "\n",
        "  plt.xlabel(\"{} {:2.0f}% ({})\".format(predicted_label,\n",
        "                                100*np.max(predictions_array),\n",
        "                                true_label),\n",
        "                                color=color)\n",
        "\n",
        "def plot_value_array(i, predictions_array, true_label):\n",
        "  predictions_array, true_label = predictions_array, true_label[i]\n",
        "  plt.grid(False)\n",
        "  plt.xticks(range(10))\n",
        "  plt.yticks([])\n",
        "  thisplot = plt.bar(range(10), predictions_array, color=\"#00FF00\")\n",
        "  plt.ylim([0, 1])\n",
        "  predicted_label = np.argmax(predictions_array)\n",
        "\n",
        "  thisplot[predicted_label].set_color('red')\n",
        "  thisplot[true_label].set_color('black')"
      ],
      "metadata": {
        "id": "QLoUnoqIdHbd"
      },
      "execution_count": 189,
      "outputs": []
    },
    {
      "cell_type": "markdown",
      "source": [
        "s"
      ],
      "metadata": {
        "id": "Bux4HyhwdRNW"
      }
    },
    {
      "cell_type": "code",
      "source": [
        "from keras.datasets import fashion_mnist\n",
        "import numpy as np\n",
        "import matplotlib.pyplot as plt\n",
        "\n",
        "(train_data, train_labels), (test_data, test_labels) = fashion_mnist.load_data()\n",
        "train_data = train_data.reshape((60000, 28 * 28))\n",
        "test_data = test_data.reshape((10000, 28 * 28))\n",
        "\n",
        "train_data = train_data.astype('float32') / 255\n",
        "test_data = test_data.astype('float32') / 255\n",
        "\n",
        "predictions = model.predict(test_data)\n",
        "\n",
        "for i in range(6):\n",
        "  if (i==5):\n",
        "    plt.figure(figsize=(6,3))\n",
        "    plt.subplot(1,2,1)\n",
        "    plot_image(i, predictions[i], test_labels, test_data.reshape(10000,28,28))\n",
        "    plt.subplot(1,2,2)\n",
        "    plot_value_array(i, predictions[i],  test_labels)\n",
        "    plt.show()\n",
        "    plt.clf()"
      ],
      "metadata": {
        "colab": {
          "base_uri": "https://localhost:8080/",
          "height": 246
        },
        "id": "89EMjtO_dQnV",
        "outputId": "cd2aa678-dc89-4be2-cb5e-3d2ba0075463"
      },
      "execution_count": 190,
      "outputs": [
        {
          "output_type": "stream",
          "name": "stdout",
          "text": [
            "313/313 [==============================] - 0s 1ms/step\n"
          ]
        },
        {
          "output_type": "display_data",
          "data": {
            "text/plain": [
              "<Figure size 432x216 with 2 Axes>"
            ],
            "image/png": "[encoded data removed]"
          },
          "metadata": {
            "needs_background": "light"
          }
        },
        {
          "output_type": "display_data",
          "data": {
            "text/plain": [
              "<Figure size 432x288 with 0 Axes>"
            ]
          },
          "metadata": {}
        }
      ]
    },
    {
      "cell_type": "markdown",
      "source": [
        "s"
      ],
      "metadata": {
        "id": "lt2nERNqdIKg"
      }
    },
    {
      "cell_type": "code",
      "source": [
        "from tensorflow.keras import optimizers\n",
        "from keras import losses\n",
        "from keras import metrics\n",
        "from keras import models\n",
        "from keras import layers\n",
        "\n",
        "\n",
        "model = models.Sequential()\n",
        "\n",
        "#Capa 2\n",
        "model.add(layers.Dense(10, activation='relu', name=\"Capa2\",input_shape=(28*28,)))\n",
        "\n",
        "#Capa final\n",
        "model.add(layers.Dense(10, name=\"CapaSalida\",activation='softmax'))"
      ],
      "metadata": {
        "id": "ceWsCa0pm1yy"
      },
      "execution_count": 203,
      "outputs": []
    },
    {
      "cell_type": "markdown",
      "source": [
        "s"
      ],
      "metadata": {
        "id": "D8s7fOSgm8Go"
      }
    },
    {
      "cell_type": "code",
      "source": [
        "model.summary()"
      ],
      "metadata": {
        "id": "Ko-JqEYYm8gd",
        "outputId": "22ec2c5b-70c9-4cf2-c917-514f0ae038a1",
        "colab": {
          "base_uri": "https://localhost:8080/"
        }
      },
      "execution_count": 204,
      "outputs": [
        {
          "output_type": "stream",
          "name": "stdout",
          "text": [
            "Model: \"sequential_12\"\n",
            "_________________________________________________________________\n",
            " Layer (type)                Output Shape              Param #   \n",
            "=================================================================\n",
            " Capa2 (Dense)               (None, 10)                7850      \n",
            "                                                                 \n",
            " CapaSalida (Dense)          (None, 10)                110       \n",
            "                                                                 \n",
            "=================================================================\n",
            "Total params: 7,960\n",
            "Trainable params: 7,960\n",
            "Non-trainable params: 0\n",
            "_________________________________________________________________\n"
          ]
        }
      ]
    },
    {
      "cell_type": "markdown",
      "source": [],
      "metadata": {
        "id": "wQ8j9x3um2XI"
      }
    },
    {
      "cell_type": "markdown",
      "source": [],
      "metadata": {
        "id": "JFjyikBSnA-W"
      }
    },
    {
      "cell_type": "code",
      "source": [
        "model.compile(optimizer='rmsprop',\n",
        "              loss='categorical_crossentropy',\n",
        "              metrics=['accuracy'])"
      ],
      "metadata": {
        "id": "EYrX2AxinBG3"
      },
      "execution_count": 205,
      "outputs": []
    },
    {
      "cell_type": "markdown",
      "source": [
        "s"
      ],
      "metadata": {
        "id": "1Kcozok9nKQD"
      }
    },
    {
      "cell_type": "code",
      "source": [
        "one_hot_train_labels=train_labels\n",
        "\n",
        "x_val = train_data[:10000]\n",
        "partial_x_train = train_data[10000:]\n",
        "\n",
        "y_val = one_hot_train_labels[:10000]\n",
        "partial_y_train = one_hot_train_labels[10000:]"
      ],
      "metadata": {
        "id": "DMlhL62EnGSA"
      },
      "execution_count": 206,
      "outputs": []
    },
    {
      "cell_type": "markdown",
      "source": [
        "s"
      ],
      "metadata": {
        "id": "VjBWAYi7nKwy"
      }
    },
    {
      "cell_type": "code",
      "source": [
        "history = model.fit(train_data,\n",
        "          train_labels,\n",
        "          epochs=5,\n",
        "          batch_size=128)"
      ],
      "metadata": {
        "id": "fV-B_8CNnLMa",
        "outputId": "845b7e47-fbce-4805-a51f-df8e73cf1508",
        "colab": {
          "base_uri": "https://localhost:8080/",
          "height": 762
        }
      },
      "execution_count": 207,
      "outputs": [
        {
          "output_type": "stream",
          "name": "stdout",
          "text": [
            "Epoch 1/5\n"
          ]
        },
        {
          "output_type": "error",
          "ename": "ValueError",
          "evalue": "ignored",
          "traceback": [
            "\u001b[0;31m---------------------------------------------------------------------------\u001b[0m",
            "\u001b[0;31mValueError\u001b[0m                                Traceback (most recent call last)",
            "\u001b[0;32m<ipython-input-207-f5edffe97c82>\u001b[0m in \u001b[0;36m<module>\u001b[0;34m\u001b[0m\n\u001b[1;32m      2\u001b[0m           \u001b[0mtrain_labels\u001b[0m\u001b[0;34m,\u001b[0m\u001b[0;34m\u001b[0m\u001b[0;34m\u001b[0m\u001b[0m\n\u001b[1;32m      3\u001b[0m           \u001b[0mepochs\u001b[0m\u001b[0;34m=\u001b[0m\u001b[0;36m5\u001b[0m\u001b[0;34m,\u001b[0m\u001b[0;34m\u001b[0m\u001b[0;34m\u001b[0m\u001b[0m\n\u001b[0;32m----> 4\u001b[0;31m           batch_size=128)\n\u001b[0m",
            "\u001b[0;32m/usr/local/lib/python3.7/dist-packages/keras/utils/traceback_utils.py\u001b[0m in \u001b[0;36merror_handler\u001b[0;34m(*args, **kwargs)\u001b[0m\n\u001b[1;32m     65\u001b[0m     \u001b[0;32mexcept\u001b[0m \u001b[0mException\u001b[0m \u001b[0;32mas\u001b[0m \u001b[0me\u001b[0m\u001b[0;34m:\u001b[0m  \u001b[0;31m# pylint: disable=broad-except\u001b[0m\u001b[0;34m\u001b[0m\u001b[0;34m\u001b[0m\u001b[0m\n\u001b[1;32m     66\u001b[0m       \u001b[0mfiltered_tb\u001b[0m \u001b[0;34m=\u001b[0m \u001b[0m_process_traceback_frames\u001b[0m\u001b[0;34m(\u001b[0m\u001b[0me\u001b[0m\u001b[0;34m.\u001b[0m\u001b[0m__traceback__\u001b[0m\u001b[0;34m)\u001b[0m\u001b[0;34m\u001b[0m\u001b[0;34m\u001b[0m\u001b[0m\n\u001b[0;32m---> 67\u001b[0;31m       \u001b[0;32mraise\u001b[0m \u001b[0me\u001b[0m\u001b[0;34m.\u001b[0m\u001b[0mwith_traceback\u001b[0m\u001b[0;34m(\u001b[0m\u001b[0mfiltered_tb\u001b[0m\u001b[0;34m)\u001b[0m \u001b[0;32mfrom\u001b[0m \u001b[0;32mNone\u001b[0m\u001b[0;34m\u001b[0m\u001b[0;34m\u001b[0m\u001b[0m\n\u001b[0m\u001b[1;32m     68\u001b[0m     \u001b[0;32mfinally\u001b[0m\u001b[0;34m:\u001b[0m\u001b[0;34m\u001b[0m\u001b[0;34m\u001b[0m\u001b[0m\n\u001b[1;32m     69\u001b[0m       \u001b[0;32mdel\u001b[0m \u001b[0mfiltered_tb\u001b[0m\u001b[0;34m\u001b[0m\u001b[0;34m\u001b[0m\u001b[0m\n",
            "\u001b[0;32m/usr/local/lib/python3.7/dist-packages/keras/engine/training.py\u001b[0m in \u001b[0;36mtf__train_function\u001b[0;34m(iterator)\u001b[0m\n\u001b[1;32m     13\u001b[0m                 \u001b[0;32mtry\u001b[0m\u001b[0;34m:\u001b[0m\u001b[0;34m\u001b[0m\u001b[0;34m\u001b[0m\u001b[0m\n\u001b[1;32m     14\u001b[0m                     \u001b[0mdo_return\u001b[0m \u001b[0;34m=\u001b[0m \u001b[0;32mTrue\u001b[0m\u001b[0;34m\u001b[0m\u001b[0;34m\u001b[0m\u001b[0m\n\u001b[0;32m---> 15\u001b[0;31m                     \u001b[0mretval_\u001b[0m \u001b[0;34m=\u001b[0m \u001b[0mag__\u001b[0m\u001b[0;34m.\u001b[0m\u001b[0mconverted_call\u001b[0m\u001b[0;34m(\u001b[0m\u001b[0mag__\u001b[0m\u001b[0;34m.\u001b[0m\u001b[0mld\u001b[0m\u001b[0;34m(\u001b[0m\u001b[0mstep_function\u001b[0m\u001b[0;34m)\u001b[0m\u001b[0;34m,\u001b[0m \u001b[0;34m(\u001b[0m\u001b[0mag__\u001b[0m\u001b[0;34m.\u001b[0m\u001b[0mld\u001b[0m\u001b[0;34m(\u001b[0m\u001b[0mself\u001b[0m\u001b[0;34m)\u001b[0m\u001b[0;34m,\u001b[0m \u001b[0mag__\u001b[0m\u001b[0;34m.\u001b[0m\u001b[0mld\u001b[0m\u001b[0;34m(\u001b[0m\u001b[0miterator\u001b[0m\u001b[0;34m)\u001b[0m\u001b[0;34m)\u001b[0m\u001b[0;34m,\u001b[0m \u001b[0;32mNone\u001b[0m\u001b[0;34m,\u001b[0m \u001b[0mfscope\u001b[0m\u001b[0;34m)\u001b[0m\u001b[0;34m\u001b[0m\u001b[0;34m\u001b[0m\u001b[0m\n\u001b[0m\u001b[1;32m     16\u001b[0m                 \u001b[0;32mexcept\u001b[0m\u001b[0;34m:\u001b[0m\u001b[0;34m\u001b[0m\u001b[0;34m\u001b[0m\u001b[0m\n\u001b[1;32m     17\u001b[0m                     \u001b[0mdo_return\u001b[0m \u001b[0;34m=\u001b[0m \u001b[0;32mFalse\u001b[0m\u001b[0;34m\u001b[0m\u001b[0;34m\u001b[0m\u001b[0m\n",
            "\u001b[0;31mValueError\u001b[0m: in user code:\n\n    File \"/usr/local/lib/python3.7/dist-packages/keras/engine/training.py\", line 1051, in train_function  *\n        return step_function(self, iterator)\n    File \"/usr/local/lib/python3.7/dist-packages/keras/engine/training.py\", line 1040, in step_function  **\n        outputs = model.distribute_strategy.run(run_step, args=(data,))\n    File \"/usr/local/lib/python3.7/dist-packages/keras/engine/training.py\", line 1030, in run_step  **\n        outputs = model.train_step(data)\n    File \"/usr/local/lib/python3.7/dist-packages/keras/engine/training.py\", line 890, in train_step\n        loss = self.compute_loss(x, y, y_pred, sample_weight)\n    File \"/usr/local/lib/python3.7/dist-packages/keras/engine/training.py\", line 949, in compute_loss\n        y, y_pred, sample_weight, regularization_losses=self.losses)\n    File \"/usr/local/lib/python3.7/dist-packages/keras/engine/compile_utils.py\", line 201, in __call__\n        loss_value = loss_obj(y_t, y_p, sample_weight=sw)\n    File \"/usr/local/lib/python3.7/dist-packages/keras/losses.py\", line 139, in __call__\n        losses = call_fn(y_true, y_pred)\n    File \"/usr/local/lib/python3.7/dist-packages/keras/losses.py\", line 243, in call  **\n        return ag_fn(y_true, y_pred, **self._fn_kwargs)\n    File \"/usr/local/lib/python3.7/dist-packages/keras/losses.py\", line 1788, in categorical_crossentropy\n        y_true, y_pred, from_logits=from_logits, axis=axis)\n    File \"/usr/local/lib/python3.7/dist-packages/keras/backend.py\", line 5119, in categorical_crossentropy\n        target.shape.assert_is_compatible_with(output.shape)\n\n    ValueError: Shapes (None, 1) and (None, 10) are incompatible\n"
          ]
        }
      ]
    },
    {
      "cell_type": "code",
      "source": [],
      "metadata": {
        "id": "95E5k8m0pG-8"
      },
      "execution_count": null,
      "outputs": []
    },
    {
      "cell_type": "markdown",
      "source": [],
      "metadata": {
        "id": "C5VhTp-FnQBR"
      }
    },
    {
      "cell_type": "code",
      "source": [
        "test_loss, test_acc = model.evaluate(test_data, test_labels)"
      ],
      "metadata": {
        "id": "uemJOFO5nQf8",
        "outputId": "3103826e-acd0-428b-accd-57c92c0a7939",
        "colab": {
          "base_uri": "https://localhost:8080/",
          "height": 710
        }
      },
      "execution_count": 195,
      "outputs": [
        {
          "output_type": "error",
          "ename": "ValueError",
          "evalue": "ignored",
          "traceback": [
            "\u001b[0;31m---------------------------------------------------------------------------\u001b[0m",
            "\u001b[0;31mValueError\u001b[0m                                Traceback (most recent call last)",
            "\u001b[0;32m<ipython-input-195-c7553e997648>\u001b[0m in \u001b[0;36m<module>\u001b[0;34m\u001b[0m\n\u001b[0;32m----> 1\u001b[0;31m \u001b[0mtest_loss\u001b[0m\u001b[0;34m,\u001b[0m \u001b[0mtest_acc\u001b[0m \u001b[0;34m=\u001b[0m \u001b[0mmodel\u001b[0m\u001b[0;34m.\u001b[0m\u001b[0mevaluate\u001b[0m\u001b[0;34m(\u001b[0m\u001b[0mtest_data\u001b[0m\u001b[0;34m,\u001b[0m \u001b[0mtest_labels\u001b[0m\u001b[0;34m)\u001b[0m\u001b[0;34m\u001b[0m\u001b[0;34m\u001b[0m\u001b[0m\n\u001b[0m",
            "\u001b[0;32m/usr/local/lib/python3.7/dist-packages/keras/utils/traceback_utils.py\u001b[0m in \u001b[0;36merror_handler\u001b[0;34m(*args, **kwargs)\u001b[0m\n\u001b[1;32m     65\u001b[0m     \u001b[0;32mexcept\u001b[0m \u001b[0mException\u001b[0m \u001b[0;32mas\u001b[0m \u001b[0me\u001b[0m\u001b[0;34m:\u001b[0m  \u001b[0;31m# pylint: disable=broad-except\u001b[0m\u001b[0;34m\u001b[0m\u001b[0;34m\u001b[0m\u001b[0m\n\u001b[1;32m     66\u001b[0m       \u001b[0mfiltered_tb\u001b[0m \u001b[0;34m=\u001b[0m \u001b[0m_process_traceback_frames\u001b[0m\u001b[0;34m(\u001b[0m\u001b[0me\u001b[0m\u001b[0;34m.\u001b[0m\u001b[0m__traceback__\u001b[0m\u001b[0;34m)\u001b[0m\u001b[0;34m\u001b[0m\u001b[0;34m\u001b[0m\u001b[0m\n\u001b[0;32m---> 67\u001b[0;31m       \u001b[0;32mraise\u001b[0m \u001b[0me\u001b[0m\u001b[0;34m.\u001b[0m\u001b[0mwith_traceback\u001b[0m\u001b[0;34m(\u001b[0m\u001b[0mfiltered_tb\u001b[0m\u001b[0;34m)\u001b[0m \u001b[0;32mfrom\u001b[0m \u001b[0;32mNone\u001b[0m\u001b[0;34m\u001b[0m\u001b[0;34m\u001b[0m\u001b[0m\n\u001b[0m\u001b[1;32m     68\u001b[0m     \u001b[0;32mfinally\u001b[0m\u001b[0;34m:\u001b[0m\u001b[0;34m\u001b[0m\u001b[0;34m\u001b[0m\u001b[0m\n\u001b[1;32m     69\u001b[0m       \u001b[0;32mdel\u001b[0m \u001b[0mfiltered_tb\u001b[0m\u001b[0;34m\u001b[0m\u001b[0;34m\u001b[0m\u001b[0m\n",
            "\u001b[0;32m/usr/local/lib/python3.7/dist-packages/keras/engine/training.py\u001b[0m in \u001b[0;36mtf__test_function\u001b[0;34m(iterator)\u001b[0m\n\u001b[1;32m     13\u001b[0m                 \u001b[0;32mtry\u001b[0m\u001b[0;34m:\u001b[0m\u001b[0;34m\u001b[0m\u001b[0;34m\u001b[0m\u001b[0m\n\u001b[1;32m     14\u001b[0m                     \u001b[0mdo_return\u001b[0m \u001b[0;34m=\u001b[0m \u001b[0;32mTrue\u001b[0m\u001b[0;34m\u001b[0m\u001b[0;34m\u001b[0m\u001b[0m\n\u001b[0;32m---> 15\u001b[0;31m                     \u001b[0mretval_\u001b[0m \u001b[0;34m=\u001b[0m \u001b[0mag__\u001b[0m\u001b[0;34m.\u001b[0m\u001b[0mconverted_call\u001b[0m\u001b[0;34m(\u001b[0m\u001b[0mag__\u001b[0m\u001b[0;34m.\u001b[0m\u001b[0mld\u001b[0m\u001b[0;34m(\u001b[0m\u001b[0mstep_function\u001b[0m\u001b[0;34m)\u001b[0m\u001b[0;34m,\u001b[0m \u001b[0;34m(\u001b[0m\u001b[0mag__\u001b[0m\u001b[0;34m.\u001b[0m\u001b[0mld\u001b[0m\u001b[0;34m(\u001b[0m\u001b[0mself\u001b[0m\u001b[0;34m)\u001b[0m\u001b[0;34m,\u001b[0m \u001b[0mag__\u001b[0m\u001b[0;34m.\u001b[0m\u001b[0mld\u001b[0m\u001b[0;34m(\u001b[0m\u001b[0miterator\u001b[0m\u001b[0;34m)\u001b[0m\u001b[0;34m)\u001b[0m\u001b[0;34m,\u001b[0m \u001b[0;32mNone\u001b[0m\u001b[0;34m,\u001b[0m \u001b[0mfscope\u001b[0m\u001b[0;34m)\u001b[0m\u001b[0;34m\u001b[0m\u001b[0;34m\u001b[0m\u001b[0m\n\u001b[0m\u001b[1;32m     16\u001b[0m                 \u001b[0;32mexcept\u001b[0m\u001b[0;34m:\u001b[0m\u001b[0;34m\u001b[0m\u001b[0;34m\u001b[0m\u001b[0m\n\u001b[1;32m     17\u001b[0m                     \u001b[0mdo_return\u001b[0m \u001b[0;34m=\u001b[0m \u001b[0;32mFalse\u001b[0m\u001b[0;34m\u001b[0m\u001b[0;34m\u001b[0m\u001b[0m\n",
            "\u001b[0;31mValueError\u001b[0m: in user code:\n\n    File \"/usr/local/lib/python3.7/dist-packages/keras/engine/training.py\", line 1557, in test_function  *\n        return step_function(self, iterator)\n    File \"/usr/local/lib/python3.7/dist-packages/keras/engine/training.py\", line 1546, in step_function  **\n        outputs = model.distribute_strategy.run(run_step, args=(data,))\n    File \"/usr/local/lib/python3.7/dist-packages/keras/engine/training.py\", line 1535, in run_step  **\n        outputs = model.test_step(data)\n    File \"/usr/local/lib/python3.7/dist-packages/keras/engine/training.py\", line 1501, in test_step\n        self.compute_loss(x, y, y_pred, sample_weight)\n    File \"/usr/local/lib/python3.7/dist-packages/keras/engine/training.py\", line 949, in compute_loss\n        y, y_pred, sample_weight, regularization_losses=self.losses)\n    File \"/usr/local/lib/python3.7/dist-packages/keras/engine/compile_utils.py\", line 201, in __call__\n        loss_value = loss_obj(y_t, y_p, sample_weight=sw)\n    File \"/usr/local/lib/python3.7/dist-packages/keras/losses.py\", line 139, in __call__\n        losses = call_fn(y_true, y_pred)\n    File \"/usr/local/lib/python3.7/dist-packages/keras/losses.py\", line 243, in call  **\n        return ag_fn(y_true, y_pred, **self._fn_kwargs)\n    File \"/usr/local/lib/python3.7/dist-packages/keras/losses.py\", line 1788, in categorical_crossentropy\n        y_true, y_pred, from_logits=from_logits, axis=axis)\n    File \"/usr/local/lib/python3.7/dist-packages/keras/backend.py\", line 5119, in categorical_crossentropy\n        target.shape.assert_is_compatible_with(output.shape)\n\n    ValueError: Shapes (None, 1) and (None, 10) are incompatible\n"
          ]
        }
      ]
    },
    {
      "cell_type": "code",
      "source": [
        "# Look at confusion matrix \n",
        "# Note, this code is taken straight from the SKLEARN website, an nice way of \n",
        "# viewing confusion matrix.\n",
        "import matplotlib.pyplot as plt\n",
        "def plot_confusion_matrix(cm, classes,\n",
        "                          normalize=False,\n",
        "                          title='Confusion matrix',\n",
        "                          cmap=plt.cm.Blues):\n",
        "    \"\"\"\n",
        "    This function prints and plots the confusion matrix.\n",
        "    Normalization can be applied by setting `normalize=True`.\n",
        "    \"\"\"\n",
        "    plt.imshow(cm, interpolation='nearest', cmap=cmap)\n",
        "    plt.title(title)\n",
        "    plt.colorbar()\n",
        "    tick_marks = np.arange(len(classes))\n",
        "    plt.xticks(tick_marks, classes, rotation=45)\n",
        "    plt.yticks(tick_marks, classes)\n",
        "\n",
        "    if normalize:\n",
        "        cm = cm.astype('float') / cm.sum(axis=1)[:, np.newaxis]\n",
        "\n",
        "    thresh = cm.max() / 2.\n",
        "    for i, j in itertools.product(range(cm.shape[0]), range(cm.shape[1])):\n",
        "        plt.text(j, i, cm[i, j],\n",
        "                 horizontalalignment=\"center\",\n",
        "                 color=\"white\" if cm[i, j] > thresh else \"black\")\n",
        "\n",
        "    plt.tight_layout()\n",
        "    plt.ylabel('Observación')\n",
        "    plt.xlabel('Predicción')"
      ],
      "metadata": {
        "id": "cb174tLNnY94"
      },
      "execution_count": 196,
      "outputs": []
    },
    {
      "cell_type": "code",
      "source": [
        "from collections import Counter\n",
        "from sklearn.metrics import confusion_matrix\n",
        "import itertools\n",
        "import numpy as np\n",
        "\n",
        "# Predicción de valores desde el dataset de validación\n",
        "Y_pred = model.predict(test_data)\n",
        "print(\"=VALORES QUE PREDICE EL MODELO ENTRENADO CON LAS IMAGENES DE TEST======\")\n",
        "print(\"=RECORDAR QUE LA PRIMERA IMAGEN DE TEST ERA UN 7=======================\")\n",
        "print(Y_pred[0])\n",
        "print(\"=======================================================================\")\n",
        "# Convertir en predicciones de clases desde los vectores one-hot encoding \n",
        "Y_pred_classes = np.argmax(Y_pred, axis = 1) \n",
        "print(\"=CONVERSION DE PREDICCIONES EN CLASES DESDE VECTORES ONE-HOT ENCODING==\")\n",
        "print(Y_pred_classes)\n",
        "print(\"=======================================================================\")\n",
        "# Convertir en clases de observación desde los vectores one-hot encoding\n",
        "Y_true = np.argmax(test_labels, axis = 1) \n",
        "print(\"=CONVERSION DE VALORES REALES EN CLASES DESDE VECTORES ONE-HOT ENCODING\")\n",
        "print(Y_true)\n",
        "print(\"=======================================================================\")\n",
        "# Computar la matriz de confusión\n",
        "confusion_mtx = confusion_matrix(Y_true, Y_pred_classes) \n",
        "print(\"=MATRIZ DE CONFUSION CON VALORES REALES FRENTE A LOS PREDICHOS=========\")\n",
        "print(confusion_mtx)\n",
        "print(\"=======================================================================\")\n",
        "# Dibujar la matriz de confusión\n",
        "print(\"=PINTAMOS LA MATRIZ DE CONFUSION=======================================\")\n",
        "plot_confusion_matrix(confusion_mtx, classes = range(10))"
      ],
      "metadata": {
        "id": "vWIt47QBngPc",
        "outputId": "75ed3eb2-963f-4013-d302-edd1aa4b3f9b",
        "colab": {
          "base_uri": "https://localhost:8080/",
          "height": 571
        }
      },
      "execution_count": 197,
      "outputs": [
        {
          "output_type": "stream",
          "name": "stdout",
          "text": [
            "313/313 [==============================] - 0s 1ms/step\n",
            "=VALORES QUE PREDICE EL MODELO ENTRENADO CON LAS IMAGENES DE TEST======\n",
            "=RECORDAR QUE LA PRIMERA IMAGEN DE TEST ERA UN 7=======================\n",
            "[0.14526549 0.07800703 0.06267726 0.08427159 0.18540604 0.05978778\n",
            " 0.11297855 0.08146738 0.04501997 0.14511874]\n",
            "=======================================================================\n",
            "=CONVERSION DE PREDICCIONES EN CLASES DESDE VECTORES ONE-HOT ENCODING==\n",
            "[4 9 4 ... 4 4 4]\n",
            "=======================================================================\n"
          ]
        },
        {
          "output_type": "error",
          "ename": "AxisError",
          "evalue": "ignored",
          "traceback": [
            "\u001b[0;31m---------------------------------------------------------------------------\u001b[0m",
            "\u001b[0;31mAxisError\u001b[0m                                 Traceback (most recent call last)",
            "\u001b[0;32m<ipython-input-197-cc97de0d3763>\u001b[0m in \u001b[0;36m<module>\u001b[0;34m\u001b[0m\n\u001b[1;32m     16\u001b[0m \u001b[0mprint\u001b[0m\u001b[0;34m(\u001b[0m\u001b[0;34m\"=======================================================================\"\u001b[0m\u001b[0;34m)\u001b[0m\u001b[0;34m\u001b[0m\u001b[0;34m\u001b[0m\u001b[0m\n\u001b[1;32m     17\u001b[0m \u001b[0;31m# Convertir en clases de observación desde los vectores one-hot encoding\u001b[0m\u001b[0;34m\u001b[0m\u001b[0;34m\u001b[0m\u001b[0;34m\u001b[0m\u001b[0m\n\u001b[0;32m---> 18\u001b[0;31m \u001b[0mY_true\u001b[0m \u001b[0;34m=\u001b[0m \u001b[0mnp\u001b[0m\u001b[0;34m.\u001b[0m\u001b[0margmax\u001b[0m\u001b[0;34m(\u001b[0m\u001b[0mtest_labels\u001b[0m\u001b[0;34m,\u001b[0m \u001b[0maxis\u001b[0m \u001b[0;34m=\u001b[0m \u001b[0;36m1\u001b[0m\u001b[0;34m)\u001b[0m\u001b[0;34m\u001b[0m\u001b[0;34m\u001b[0m\u001b[0m\n\u001b[0m\u001b[1;32m     19\u001b[0m \u001b[0mprint\u001b[0m\u001b[0;34m(\u001b[0m\u001b[0;34m\"=CONVERSION DE VALORES REALES EN CLASES DESDE VECTORES ONE-HOT ENCODING\"\u001b[0m\u001b[0;34m)\u001b[0m\u001b[0;34m\u001b[0m\u001b[0;34m\u001b[0m\u001b[0m\n\u001b[1;32m     20\u001b[0m \u001b[0mprint\u001b[0m\u001b[0;34m(\u001b[0m\u001b[0mY_true\u001b[0m\u001b[0;34m)\u001b[0m\u001b[0;34m\u001b[0m\u001b[0;34m\u001b[0m\u001b[0m\n",
            "\u001b[0;32m<__array_function__ internals>\u001b[0m in \u001b[0;36margmax\u001b[0;34m(*args, **kwargs)\u001b[0m\n",
            "\u001b[0;32m/usr/local/lib/python3.7/dist-packages/numpy/core/fromnumeric.py\u001b[0m in \u001b[0;36margmax\u001b[0;34m(a, axis, out)\u001b[0m\n\u001b[1;32m   1193\u001b[0m \u001b[0;34m\u001b[0m\u001b[0m\n\u001b[1;32m   1194\u001b[0m     \"\"\"\n\u001b[0;32m-> 1195\u001b[0;31m     \u001b[0;32mreturn\u001b[0m \u001b[0m_wrapfunc\u001b[0m\u001b[0;34m(\u001b[0m\u001b[0ma\u001b[0m\u001b[0;34m,\u001b[0m \u001b[0;34m'argmax'\u001b[0m\u001b[0;34m,\u001b[0m \u001b[0maxis\u001b[0m\u001b[0;34m=\u001b[0m\u001b[0maxis\u001b[0m\u001b[0;34m,\u001b[0m \u001b[0mout\u001b[0m\u001b[0;34m=\u001b[0m\u001b[0mout\u001b[0m\u001b[0;34m)\u001b[0m\u001b[0;34m\u001b[0m\u001b[0;34m\u001b[0m\u001b[0m\n\u001b[0m\u001b[1;32m   1196\u001b[0m \u001b[0;34m\u001b[0m\u001b[0m\n\u001b[1;32m   1197\u001b[0m \u001b[0;34m\u001b[0m\u001b[0m\n",
            "\u001b[0;32m/usr/local/lib/python3.7/dist-packages/numpy/core/fromnumeric.py\u001b[0m in \u001b[0;36m_wrapfunc\u001b[0;34m(obj, method, *args, **kwds)\u001b[0m\n\u001b[1;32m     55\u001b[0m \u001b[0;34m\u001b[0m\u001b[0m\n\u001b[1;32m     56\u001b[0m     \u001b[0;32mtry\u001b[0m\u001b[0;34m:\u001b[0m\u001b[0;34m\u001b[0m\u001b[0;34m\u001b[0m\u001b[0m\n\u001b[0;32m---> 57\u001b[0;31m         \u001b[0;32mreturn\u001b[0m \u001b[0mbound\u001b[0m\u001b[0;34m(\u001b[0m\u001b[0;34m*\u001b[0m\u001b[0margs\u001b[0m\u001b[0;34m,\u001b[0m \u001b[0;34m**\u001b[0m\u001b[0mkwds\u001b[0m\u001b[0;34m)\u001b[0m\u001b[0;34m\u001b[0m\u001b[0;34m\u001b[0m\u001b[0m\n\u001b[0m\u001b[1;32m     58\u001b[0m     \u001b[0;32mexcept\u001b[0m \u001b[0mTypeError\u001b[0m\u001b[0;34m:\u001b[0m\u001b[0;34m\u001b[0m\u001b[0;34m\u001b[0m\u001b[0m\n\u001b[1;32m     59\u001b[0m         \u001b[0;31m# A TypeError occurs if the object does have such a method in its\u001b[0m\u001b[0;34m\u001b[0m\u001b[0;34m\u001b[0m\u001b[0;34m\u001b[0m\u001b[0m\n",
            "\u001b[0;31mAxisError\u001b[0m: axis 1 is out of bounds for array of dimension 1"
          ]
        }
      ]
    },
    {
      "cell_type": "code",
      "source": [
        "# Veamos el elemento 6 de test y pintémoslo con matplotlib\n",
        "from keras.datasets import fashion_mnist\n",
        "(train_data, train_labels), (test_data, test_labels) = fashion_mnist.load_data()\n",
        "import matplotlib.pyplot as plt\n",
        "digit = test_data[5]\n",
        "plt.imshow(digit, cmap=plt.cm.binary)\n",
        "plt.show()"
      ],
      "metadata": {
        "id": "291R6_A_nj0S"
      },
      "execution_count": null,
      "outputs": []
    },
    {
      "cell_type": "code",
      "source": [
        "train_data = train_data.reshape((60000, 28 * 28))\n",
        "test_data = test_data.reshape((10000, 28 * 28))\n",
        "\n",
        "train_data = train_data.astype('float32') / 255\n",
        "test_data = test_data.astype('float32') / 255\n",
        "\n",
        "from keras.utils.np_utils import to_categorical\n",
        "\n",
        "print(\"=VEMOS LAS ETIQUETAS DE TEST ORIGINALES================================\")\n",
        "print(test_labels)\n",
        "print(\"=======================================================================\")\n",
        "test_labels = to_categorical(test_labels)\n",
        "print(\"=VEMOS LAS ETIQUETAS DE TEST AL PASARLAS POR to_categorical============\")\n",
        "print(test_labels)\n",
        "print(\"=======================================================================\")\n",
        "\n",
        "# Hacemos las predicciones con las imágenes de Test\n",
        "predictions = model.predict(test_data)\n",
        "\n",
        "print(\"=VEMOS LA PREDICCIÓN DEL ELEMENTO 6 (QUE DEBERÍA SER UN 1)============\")\n",
        "print(predictions[5])\n",
        "print(\"=======================================================================\")\n",
        "print(\"=VEMOS LA PREDICCIÓN DEL ELEMENTO 6 (QUE DEBERÍA SER UN 1)============\")\n",
        "print(np.argmax(predictions[5]))\n",
        "print(\"=======================================================================\")\n",
        "print(\"=LA SUMA DE TODAS LAS PREDICCIONES PARA EL ELEMENTO 6 DEBERÍA SER 1===\")\n",
        "print(np.sum(predictions[5]))\n",
        "print(\"=======================================================================\")\n",
        "print(\"=PINTAMOS TODAS LAS PREDICCIONES=======================================\")\n",
        "print(predictions)"
      ],
      "metadata": {
        "id": "MD2_7AH6npru"
      },
      "execution_count": null,
      "outputs": []
    },
    {
      "cell_type": "code",
      "source": [
        "def plot_image(i, predictions_array, true_label, img):\n",
        "  predictions_array, true_label, img = predictions_array, true_label[i], img[i]\n",
        "  plt.grid(False)\n",
        "  plt.xticks([])\n",
        "  plt.yticks([])\n",
        "\n",
        "  plt.imshow(img, cmap=plt.cm.binary)    \n",
        "\n",
        "  predicted_label = np.argmax(predictions_array)\n",
        "  if predicted_label.all() == true_label.all():\n",
        "    color = 'blue'\n",
        "  else:\n",
        "    color = 'red'\n",
        "\n",
        "  plt.xlabel(\"{} {:2.0f}% ({})\".format(predicted_label,\n",
        "                                100*np.max(predictions_array),\n",
        "                                true_label),\n",
        "                                color=color)\n",
        "\n",
        "def plot_value_array(i, predictions_array, true_label):\n",
        "  predictions_array, true_label = predictions_array, true_label[i]\n",
        "  plt.grid(False)\n",
        "  plt.xticks(range(10))\n",
        "  plt.yticks([])\n",
        "  thisplot = plt.bar(range(10), predictions_array, color=\"#00FF00\")\n",
        "  plt.ylim([0, 1])\n",
        "  predicted_label = np.argmax(predictions_array)\n",
        "\n",
        "  thisplot[predicted_label].set_color('red')\n",
        "  thisplot[true_label].set_color('black')"
      ],
      "metadata": {
        "id": "dkRde1X-nvAr"
      },
      "execution_count": null,
      "outputs": []
    },
    {
      "cell_type": "code",
      "source": [
        "from keras.datasets import fashion_mnist\n",
        "import numpy as np\n",
        "import matplotlib.pyplot as plt\n",
        "\n",
        "(train_data, train_labels), (test_data, test_labels) = fashion_mnist.load_data()\n",
        "train_data = train_data.reshape((60000, 28 * 28))\n",
        "test_data = test_data.reshape((10000, 28 * 28))\n",
        "\n",
        "train_data = train_data.astype('float32') / 255\n",
        "test_data = test_data.astype('float32') / 255\n",
        "\n",
        "predictions = model.predict(test_data)\n",
        "\n",
        "for i in range(6):\n",
        "  if (i==5):\n",
        "    plt.figure(figsize=(6,3))\n",
        "    plt.subplot(1,2,1)\n",
        "    plot_image(i, predictions[i], test_labels, test_data.reshape(10000,28,28))\n",
        "    plt.subplot(1,2,2)\n",
        "    plot_value_array(i, predictions[i],  test_labels)\n",
        "    plt.show()\n",
        "    plt.clf()"
      ],
      "metadata": {
        "id": "3rIBsHqlnyKr"
      },
      "execution_count": null,
      "outputs": []
    }
  ]
}