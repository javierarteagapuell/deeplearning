{
  "nbformat": 4,
  "nbformat_minor": 0,
  "metadata": {
    "colab": {
      "provenance": [],
      "collapsed_sections": [],
      "authorship_tag": "ABX9TyM1D9Hmow/yubVrROzYUa5V",
      "include_colab_link": true
    },
    "kernelspec": {
      "name": "python3",
      "display_name": "Python 3"
    },
    "language_info": {
      "name": "python"
    },
    "accelerator": "TPU",
    "gpuClass": "standard"
  },
  "cells": [
    {
      "cell_type": "markdown",
      "metadata": {
        "id": "view-in-github",
        "colab_type": "text"
      },
      "source": [
        "<a href=\"https://colab.research.google.com/github/javierarteagapuell/deeplearning/blob/main/PRACTICA_Fashion_MNIST.ipynb\" target=\"_parent\"><img src=\"https://colab.research.google.com/assets/colab-badge.svg\" alt=\"Open In Colab\"/></a>"
      ]
    },
    {
      "cell_type": "code",
      "execution_count": 138,
      "metadata": {
        "id": "Kj0gniXK4uEd"
      },
      "outputs": [],
      "source": [
        "from tensorflow import keras\n",
        "from tensorflow.keras import layers\n",
        "import numpy as np"
      ]
    },
    {
      "cell_type": "markdown",
      "source": [
        "s"
      ],
      "metadata": {
        "id": "PtM5VECf5oDf"
      }
    },
    {
      "cell_type": "code",
      "source": [
        "from keras.datasets import fashion_mnist "
      ],
      "metadata": {
        "id": "ceq8WM5X5pe2"
      },
      "execution_count": 139,
      "outputs": []
    },
    {
      "cell_type": "markdown",
      "source": [
        "s"
      ],
      "metadata": {
        "id": "jzReK10H7AfF"
      }
    },
    {
      "cell_type": "code",
      "source": [
        "(train_data, train_labels), (test_data, test_labels) = fashion_mnist.load_data()"
      ],
      "metadata": {
        "id": "mzpV04AT7BUO"
      },
      "execution_count": 140,
      "outputs": []
    },
    {
      "cell_type": "markdown",
      "source": [],
      "metadata": {
        "id": "haPzOOrG5mR1"
      }
    },
    {
      "cell_type": "markdown",
      "source": [
        "s"
      ],
      "metadata": {
        "id": "W_I1JY-L8Jhl"
      }
    },
    {
      "cell_type": "code",
      "source": [
        "len(train_data)"
      ],
      "metadata": {
        "colab": {
          "base_uri": "https://localhost:8080/"
        },
        "id": "inZi5pdR8KeS",
        "outputId": "08e9038b-ccc7-4ead-8053-44b0a0f3f9eb"
      },
      "execution_count": 141,
      "outputs": [
        {
          "output_type": "execute_result",
          "data": {
            "text/plain": [
              "60000"
            ]
          },
          "metadata": {},
          "execution_count": 141
        }
      ]
    },
    {
      "cell_type": "markdown",
      "source": [
        "s"
      ],
      "metadata": {
        "id": "o_iS-Nu08NdT"
      }
    },
    {
      "cell_type": "code",
      "source": [
        "len(test_data)"
      ],
      "metadata": {
        "colab": {
          "base_uri": "https://localhost:8080/"
        },
        "id": "vIthQGi08OTd",
        "outputId": "89079752-7ced-4ad1-aec8-7bda3e598bc7"
      },
      "execution_count": 142,
      "outputs": [
        {
          "output_type": "execute_result",
          "data": {
            "text/plain": [
              "10000"
            ]
          },
          "metadata": {},
          "execution_count": 142
        }
      ]
    },
    {
      "cell_type": "markdown",
      "source": [
        "s"
      ],
      "metadata": {
        "id": "3TRqQrP_9G81"
      }
    },
    {
      "cell_type": "code",
      "source": [
        "print(train_data.shape)\n",
        "print(test_data.shape)"
      ],
      "metadata": {
        "colab": {
          "base_uri": "https://localhost:8080/"
        },
        "id": "jS6NDPmSRsWx",
        "outputId": "d5921325-5e3e-4998-ea4a-977d339293c5"
      },
      "execution_count": 143,
      "outputs": [
        {
          "output_type": "stream",
          "name": "stdout",
          "text": [
            "(60000, 28, 28)\n",
            "(10000, 28, 28)\n"
          ]
        }
      ]
    },
    {
      "cell_type": "markdown",
      "source": [
        "s"
      ],
      "metadata": {
        "id": "oqUS89i0Rxqp"
      }
    },
    {
      "cell_type": "code",
      "source": [
        "train_data = train_data.reshape((60000, 28 * 28))\n",
        "print(train_data)\n",
        "print(np.matrix(train_data[3000]))"
      ],
      "metadata": {
        "colab": {
          "base_uri": "https://localhost:8080/"
        },
        "id": "9FhG-daMMP5f",
        "outputId": "0aedcd13-5d27-48aa-a85d-31ba6aaa1842"
      },
      "execution_count": 144,
      "outputs": [
        {
          "output_type": "stream",
          "name": "stdout",
          "text": [
            "[[0 0 0 ... 0 0 0]\n",
            " [0 0 0 ... 0 0 0]\n",
            " [0 0 0 ... 0 0 0]\n",
            " ...\n",
            " [0 0 0 ... 0 0 0]\n",
            " [0 0 0 ... 0 0 0]\n",
            " [0 0 0 ... 0 0 0]]\n",
            "[[  0   0   0   0   0   0   0   0   1   1   0   0 120 131  91 147  30   0\n",
            "    0   1   1   0   0   0   0   0   0   0   0   0   0   0   0   0   1   3\n",
            "    0   0   0   0 251 199 172 195 152   0   0   0   0   3   1   0   0   0\n",
            "    0   0   0   0   0   0   0   0   0   0   0  43 124 193 166 239 255 216\n",
            "  172 228 126  61   0   0   0   0   0   0   0   0   0   0   0   0   0   0\n",
            "    0  96 167 155 159 171 178 211 215 210 196 189 158 164 159 108   0   0\n",
            "    0   0   0   0   0   0   0   0   0   0  83 157 131 117 120 148 148 145\n",
            "  178 159 174 160 123 132 142 172  38   0   0   0   0   0   0   0   0   0\n",
            "    0   0 159 128 118 120 122 112  93 124 161 109 128 128 129 146 138 167\n",
            "  122   0   0   0   0   0   0   0   0   0   0   0 171 135 120 114 118 119\n",
            "  107 125 123 117 124 124 119 145 147 166 148   0   0   0   0   0   0   0\n",
            "    0   0   0   4 171 138 126 120 117 118 102 122 145 111 120 122 120 152\n",
            "  154 155 170   0   0   0   0   0   0   0   0   0   0  31 170 129 138 125\n",
            "  113 106 103 118 137 108 135 130 158 182 138 143 186   0   0   0   0   0\n",
            "    0   0   0   0   0  58 163 114 137 143 119 103 100 109 118 109 129 134\n",
            "  172 181 131 136 190   0   0   0   0   0   0   0   0   0   0  76 160 113\n",
            "  141 148 128 111 101 116 137 111 131 142 167 183 136 120 186  12   0   0\n",
            "    0   0   0   0   0   0   0 100 148 108 147 147 134 120 105 116 131 116\n",
            "  136 137 165 192 137 113 187  30   0   0   0   0   0   0   0   0   0 114\n",
            "  143 108 158 147 130 125 106 114 122 119 129 134 160 196 136 109 182  51\n",
            "    0   0   0   0   0   0   0   0   0 120 140 117 151 148 131 124 109 120\n",
            "  143 120 130 128 159 188 111 108 178  66   0   0   0   0   0   0   0   0\n",
            "    0 125 129 128 112 145 140 122 113 118 134 117 132 128 166 157  91 120\n",
            "  170  74   0   0   0   0   0   0   0   0   0 126 123 138  74 140 143 124\n",
            "  111 112 126 120 130 129 175 120  88 128 164  91   0   0   0   0   0   0\n",
            "    0   0   0 124 123 157  45 145 143 124 113 119 148 122 131 129 183  90\n",
            "   73 137 155  99   0   0   0   0   0   0   0   0   0 118 122 167   0 143\n",
            "  149 122 112 118 137 116 132 126 183  73  50 152 147 101   0   0   0   0\n",
            "    0   0   0   0   0 111 128 164   0 142 151 122 111 117 132 120 136 125\n",
            "  182  90  18 164 145 107   0   0   0   0   0   0   0   0   0 109 132 158\n",
            "    0 146 148 120 108 125 157 120 136 131 176 111   0 164 143 118   0   0\n",
            "    0   0   0   0   0   0   0 111 141 140   0 148 149 120 114 123 137 124\n",
            "  137 131 171 135   0 157 147 125   0   0   0   0   0   0   0   0   0 111\n",
            "  154 111   0 155 148 118 116 124 143 123 131 129 167 155   0 129 157 129\n",
            "    0   0   0   0   0   0   0   0   0 109 155  87   0 157 145 119 117 126\n",
            "  154 126 130 123 161 160   0  97 163 130   0   0   0   0   0   0   0   0\n",
            "    0 124 142  54   0 149 141 119 119 124 136 129 126 120 153 175   0  76\n",
            "  145 137   0   0   0   0   0   0   0   0   0 136 151  47   0 149 137 119\n",
            "  118 126 143 132 130 123 153 172   0  66 148 154   0   0   0   0   0   0\n",
            "    0   0   0 109 174  48   0 154 138 119 117 124 138 130 129 125 159 167\n",
            "    0  58 174 128   0   0   0   0   0   0   0   0   0   0   0   0   0  85\n",
            "  182 147 136 143 158 146 148 153 199  70   0   0   0   0   0   0   0   0\n",
            "    0   0   0   0   0   0   0   0   0   0  26  54  72  83  96  85  80  61\n",
            "   14   0   0   0   0   0   0   0   0   0]]\n"
          ]
        }
      ]
    },
    {
      "cell_type": "markdown",
      "source": [
        "s"
      ],
      "metadata": {
        "id": "Hj2ys7KKMb60"
      }
    },
    {
      "cell_type": "code",
      "source": [
        "train_data = train_data.astype('float32') / 255\n",
        "train_data[3000]"
      ],
      "metadata": {
        "colab": {
          "base_uri": "https://localhost:8080/"
        },
        "id": "ntwKe2w7NUHQ",
        "outputId": "b6558872-f547-42db-a9e4-93e7b407913a"
      },
      "execution_count": 145,
      "outputs": [
        {
          "output_type": "execute_result",
          "data": {
            "text/plain": [
              "array([0.        , 0.        , 0.        , 0.        , 0.        ,\n",
              "       0.        , 0.        , 0.        , 0.00392157, 0.00392157,\n",
              "       0.        , 0.        , 0.47058824, 0.5137255 , 0.35686275,\n",
              "       0.5764706 , 0.11764706, 0.        , 0.        , 0.00392157,\n",
              "       0.00392157, 0.        , 0.        , 0.        , 0.        ,\n",
              "       0.        , 0.        , 0.        , 0.        , 0.        ,\n",
              "       0.        , 0.        , 0.        , 0.        , 0.00392157,\n",
              "       0.01176471, 0.        , 0.        , 0.        , 0.        ,\n",
              "       0.9843137 , 0.78039217, 0.6745098 , 0.7647059 , 0.59607846,\n",
              "       0.        , 0.        , 0.        , 0.        , 0.01176471,\n",
              "       0.00392157, 0.        , 0.        , 0.        , 0.        ,\n",
              "       0.        , 0.        , 0.        , 0.        , 0.        ,\n",
              "       0.        , 0.        , 0.        , 0.        , 0.        ,\n",
              "       0.16862746, 0.4862745 , 0.75686276, 0.6509804 , 0.9372549 ,\n",
              "       1.        , 0.84705883, 0.6745098 , 0.89411765, 0.49411765,\n",
              "       0.23921569, 0.        , 0.        , 0.        , 0.        ,\n",
              "       0.        , 0.        , 0.        , 0.        , 0.        ,\n",
              "       0.        , 0.        , 0.        , 0.        , 0.        ,\n",
              "       0.        , 0.3764706 , 0.654902  , 0.60784316, 0.62352943,\n",
              "       0.67058825, 0.69803923, 0.827451  , 0.84313726, 0.8235294 ,\n",
              "       0.76862746, 0.7411765 , 0.61960787, 0.6431373 , 0.62352943,\n",
              "       0.42352942, 0.        , 0.        , 0.        , 0.        ,\n",
              "       0.        , 0.        , 0.        , 0.        , 0.        ,\n",
              "       0.        , 0.        , 0.        , 0.3254902 , 0.6156863 ,\n",
              "       0.5137255 , 0.45882353, 0.47058824, 0.5803922 , 0.5803922 ,\n",
              "       0.5686275 , 0.69803923, 0.62352943, 0.68235296, 0.627451  ,\n",
              "       0.48235294, 0.5176471 , 0.5568628 , 0.6745098 , 0.14901961,\n",
              "       0.        , 0.        , 0.        , 0.        , 0.        ,\n",
              "       0.        , 0.        , 0.        , 0.        , 0.        ,\n",
              "       0.        , 0.62352943, 0.5019608 , 0.4627451 , 0.47058824,\n",
              "       0.47843137, 0.4392157 , 0.3647059 , 0.4862745 , 0.6313726 ,\n",
              "       0.42745098, 0.5019608 , 0.5019608 , 0.5058824 , 0.57254905,\n",
              "       0.5411765 , 0.654902  , 0.47843137, 0.        , 0.        ,\n",
              "       0.        , 0.        , 0.        , 0.        , 0.        ,\n",
              "       0.        , 0.        , 0.        , 0.        , 0.67058825,\n",
              "       0.5294118 , 0.47058824, 0.44705883, 0.4627451 , 0.46666667,\n",
              "       0.41960785, 0.49019608, 0.48235294, 0.45882353, 0.4862745 ,\n",
              "       0.4862745 , 0.46666667, 0.5686275 , 0.5764706 , 0.6509804 ,\n",
              "       0.5803922 , 0.        , 0.        , 0.        , 0.        ,\n",
              "       0.        , 0.        , 0.        , 0.        , 0.        ,\n",
              "       0.        , 0.01568628, 0.67058825, 0.5411765 , 0.49411765,\n",
              "       0.47058824, 0.45882353, 0.4627451 , 0.4       , 0.47843137,\n",
              "       0.5686275 , 0.43529412, 0.47058824, 0.47843137, 0.47058824,\n",
              "       0.59607846, 0.6039216 , 0.60784316, 0.6666667 , 0.        ,\n",
              "       0.        , 0.        , 0.        , 0.        , 0.        ,\n",
              "       0.        , 0.        , 0.        , 0.        , 0.12156863,\n",
              "       0.6666667 , 0.5058824 , 0.5411765 , 0.49019608, 0.44313726,\n",
              "       0.41568628, 0.40392157, 0.4627451 , 0.5372549 , 0.42352942,\n",
              "       0.5294118 , 0.50980395, 0.61960787, 0.7137255 , 0.5411765 ,\n",
              "       0.56078434, 0.7294118 , 0.        , 0.        , 0.        ,\n",
              "       0.        , 0.        , 0.        , 0.        , 0.        ,\n",
              "       0.        , 0.        , 0.22745098, 0.6392157 , 0.44705883,\n",
              "       0.5372549 , 0.56078434, 0.46666667, 0.40392157, 0.39215687,\n",
              "       0.42745098, 0.4627451 , 0.42745098, 0.5058824 , 0.5254902 ,\n",
              "       0.6745098 , 0.70980394, 0.5137255 , 0.53333336, 0.74509805,\n",
              "       0.        , 0.        , 0.        , 0.        , 0.        ,\n",
              "       0.        , 0.        , 0.        , 0.        , 0.        ,\n",
              "       0.29803923, 0.627451  , 0.44313726, 0.5529412 , 0.5803922 ,\n",
              "       0.5019608 , 0.43529412, 0.39607844, 0.45490196, 0.5372549 ,\n",
              "       0.43529412, 0.5137255 , 0.5568628 , 0.654902  , 0.7176471 ,\n",
              "       0.53333336, 0.47058824, 0.7294118 , 0.04705882, 0.        ,\n",
              "       0.        , 0.        , 0.        , 0.        , 0.        ,\n",
              "       0.        , 0.        , 0.        , 0.39215687, 0.5803922 ,\n",
              "       0.42352942, 0.5764706 , 0.5764706 , 0.5254902 , 0.47058824,\n",
              "       0.4117647 , 0.45490196, 0.5137255 , 0.45490196, 0.53333336,\n",
              "       0.5372549 , 0.64705884, 0.7529412 , 0.5372549 , 0.44313726,\n",
              "       0.73333335, 0.11764706, 0.        , 0.        , 0.        ,\n",
              "       0.        , 0.        , 0.        , 0.        , 0.        ,\n",
              "       0.        , 0.44705883, 0.56078434, 0.42352942, 0.61960787,\n",
              "       0.5764706 , 0.50980395, 0.49019608, 0.41568628, 0.44705883,\n",
              "       0.47843137, 0.46666667, 0.5058824 , 0.5254902 , 0.627451  ,\n",
              "       0.76862746, 0.53333336, 0.42745098, 0.7137255 , 0.2       ,\n",
              "       0.        , 0.        , 0.        , 0.        , 0.        ,\n",
              "       0.        , 0.        , 0.        , 0.        , 0.47058824,\n",
              "       0.54901963, 0.45882353, 0.5921569 , 0.5803922 , 0.5137255 ,\n",
              "       0.4862745 , 0.42745098, 0.47058824, 0.56078434, 0.47058824,\n",
              "       0.50980395, 0.5019608 , 0.62352943, 0.7372549 , 0.43529412,\n",
              "       0.42352942, 0.69803923, 0.25882354, 0.        , 0.        ,\n",
              "       0.        , 0.        , 0.        , 0.        , 0.        ,\n",
              "       0.        , 0.        , 0.49019608, 0.5058824 , 0.5019608 ,\n",
              "       0.4392157 , 0.5686275 , 0.54901963, 0.47843137, 0.44313726,\n",
              "       0.4627451 , 0.5254902 , 0.45882353, 0.5176471 , 0.5019608 ,\n",
              "       0.6509804 , 0.6156863 , 0.35686275, 0.47058824, 0.6666667 ,\n",
              "       0.2901961 , 0.        , 0.        , 0.        , 0.        ,\n",
              "       0.        , 0.        , 0.        , 0.        , 0.        ,\n",
              "       0.49411765, 0.48235294, 0.5411765 , 0.2901961 , 0.54901963,\n",
              "       0.56078434, 0.4862745 , 0.43529412, 0.4392157 , 0.49411765,\n",
              "       0.47058824, 0.50980395, 0.5058824 , 0.6862745 , 0.47058824,\n",
              "       0.34509805, 0.5019608 , 0.6431373 , 0.35686275, 0.        ,\n",
              "       0.        , 0.        , 0.        , 0.        , 0.        ,\n",
              "       0.        , 0.        , 0.        , 0.4862745 , 0.48235294,\n",
              "       0.6156863 , 0.1764706 , 0.5686275 , 0.56078434, 0.4862745 ,\n",
              "       0.44313726, 0.46666667, 0.5803922 , 0.47843137, 0.5137255 ,\n",
              "       0.5058824 , 0.7176471 , 0.3529412 , 0.28627452, 0.5372549 ,\n",
              "       0.60784316, 0.3882353 , 0.        , 0.        , 0.        ,\n",
              "       0.        , 0.        , 0.        , 0.        , 0.        ,\n",
              "       0.        , 0.4627451 , 0.47843137, 0.654902  , 0.        ,\n",
              "       0.56078434, 0.58431375, 0.47843137, 0.4392157 , 0.4627451 ,\n",
              "       0.5372549 , 0.45490196, 0.5176471 , 0.49411765, 0.7176471 ,\n",
              "       0.28627452, 0.19607843, 0.59607846, 0.5764706 , 0.39607844,\n",
              "       0.        , 0.        , 0.        , 0.        , 0.        ,\n",
              "       0.        , 0.        , 0.        , 0.        , 0.43529412,\n",
              "       0.5019608 , 0.6431373 , 0.        , 0.5568628 , 0.5921569 ,\n",
              "       0.47843137, 0.43529412, 0.45882353, 0.5176471 , 0.47058824,\n",
              "       0.53333336, 0.49019608, 0.7137255 , 0.3529412 , 0.07058824,\n",
              "       0.6431373 , 0.5686275 , 0.41960785, 0.        , 0.        ,\n",
              "       0.        , 0.        , 0.        , 0.        , 0.        ,\n",
              "       0.        , 0.        , 0.42745098, 0.5176471 , 0.61960787,\n",
              "       0.        , 0.57254905, 0.5803922 , 0.47058824, 0.42352942,\n",
              "       0.49019608, 0.6156863 , 0.47058824, 0.53333336, 0.5137255 ,\n",
              "       0.6901961 , 0.43529412, 0.        , 0.6431373 , 0.56078434,\n",
              "       0.4627451 , 0.        , 0.        , 0.        , 0.        ,\n",
              "       0.        , 0.        , 0.        , 0.        , 0.        ,\n",
              "       0.43529412, 0.5529412 , 0.54901963, 0.        , 0.5803922 ,\n",
              "       0.58431375, 0.47058824, 0.44705883, 0.48235294, 0.5372549 ,\n",
              "       0.4862745 , 0.5372549 , 0.5137255 , 0.67058825, 0.5294118 ,\n",
              "       0.        , 0.6156863 , 0.5764706 , 0.49019608, 0.        ,\n",
              "       0.        , 0.        , 0.        , 0.        , 0.        ,\n",
              "       0.        , 0.        , 0.        , 0.43529412, 0.6039216 ,\n",
              "       0.43529412, 0.        , 0.60784316, 0.5803922 , 0.4627451 ,\n",
              "       0.45490196, 0.4862745 , 0.56078434, 0.48235294, 0.5137255 ,\n",
              "       0.5058824 , 0.654902  , 0.60784316, 0.        , 0.5058824 ,\n",
              "       0.6156863 , 0.5058824 , 0.        , 0.        , 0.        ,\n",
              "       0.        , 0.        , 0.        , 0.        , 0.        ,\n",
              "       0.        , 0.42745098, 0.60784316, 0.34117648, 0.        ,\n",
              "       0.6156863 , 0.5686275 , 0.46666667, 0.45882353, 0.49411765,\n",
              "       0.6039216 , 0.49411765, 0.50980395, 0.48235294, 0.6313726 ,\n",
              "       0.627451  , 0.        , 0.38039216, 0.6392157 , 0.50980395,\n",
              "       0.        , 0.        , 0.        , 0.        , 0.        ,\n",
              "       0.        , 0.        , 0.        , 0.        , 0.4862745 ,\n",
              "       0.5568628 , 0.21176471, 0.        , 0.58431375, 0.5529412 ,\n",
              "       0.46666667, 0.46666667, 0.4862745 , 0.53333336, 0.5058824 ,\n",
              "       0.49411765, 0.47058824, 0.6       , 0.6862745 , 0.        ,\n",
              "       0.29803923, 0.5686275 , 0.5372549 , 0.        , 0.        ,\n",
              "       0.        , 0.        , 0.        , 0.        , 0.        ,\n",
              "       0.        , 0.        , 0.53333336, 0.5921569 , 0.18431373,\n",
              "       0.        , 0.58431375, 0.5372549 , 0.46666667, 0.4627451 ,\n",
              "       0.49411765, 0.56078434, 0.5176471 , 0.50980395, 0.48235294,\n",
              "       0.6       , 0.6745098 , 0.        , 0.25882354, 0.5803922 ,\n",
              "       0.6039216 , 0.        , 0.        , 0.        , 0.        ,\n",
              "       0.        , 0.        , 0.        , 0.        , 0.        ,\n",
              "       0.42745098, 0.68235296, 0.1882353 , 0.        , 0.6039216 ,\n",
              "       0.5411765 , 0.46666667, 0.45882353, 0.4862745 , 0.5411765 ,\n",
              "       0.50980395, 0.5058824 , 0.49019608, 0.62352943, 0.654902  ,\n",
              "       0.        , 0.22745098, 0.68235296, 0.5019608 , 0.        ,\n",
              "       0.        , 0.        , 0.        , 0.        , 0.        ,\n",
              "       0.        , 0.        , 0.        , 0.        , 0.        ,\n",
              "       0.        , 0.        , 0.33333334, 0.7137255 , 0.5764706 ,\n",
              "       0.53333336, 0.56078434, 0.61960787, 0.57254905, 0.5803922 ,\n",
              "       0.6       , 0.78039217, 0.27450982, 0.        , 0.        ,\n",
              "       0.        , 0.        , 0.        , 0.        , 0.        ,\n",
              "       0.        , 0.        , 0.        , 0.        , 0.        ,\n",
              "       0.        , 0.        , 0.        , 0.        , 0.        ,\n",
              "       0.        , 0.10196079, 0.21176471, 0.28235295, 0.3254902 ,\n",
              "       0.3764706 , 0.33333334, 0.3137255 , 0.23921569, 0.05490196,\n",
              "       0.        , 0.        , 0.        , 0.        , 0.        ,\n",
              "       0.        , 0.        , 0.        , 0.        ], dtype=float32)"
            ]
          },
          "metadata": {},
          "execution_count": 145
        }
      ]
    },
    {
      "cell_type": "markdown",
      "source": [
        "s"
      ],
      "metadata": {
        "id": "MG3ta-rqNUwo"
      }
    },
    {
      "cell_type": "code",
      "source": [
        "test_data = train_data.astype('float32') / 255"
      ],
      "metadata": {
        "id": "B5bDd3-hPeSH"
      },
      "execution_count": 146,
      "outputs": []
    },
    {
      "cell_type": "markdown",
      "source": [
        "s"
      ],
      "metadata": {
        "id": "euXfbR6SPeh6"
      }
    },
    {
      "cell_type": "code",
      "source": [
        "from keras.utils.np_utils import to_categorical\n",
        "\n",
        "one_hot_train_labels = to_categorical(train_labels)\n",
        "one_hot_test_labels = to_categorical(test_labels)\n",
        "one_hot_train_labels[30000]"
      ],
      "metadata": {
        "colab": {
          "base_uri": "https://localhost:8080/"
        },
        "id": "GW3NxRqYQQZ6",
        "outputId": "7f5494af-e7ee-4c47-df34-a4c7bbdaac19"
      },
      "execution_count": 147,
      "outputs": [
        {
          "output_type": "execute_result",
          "data": {
            "text/plain": [
              "array([0., 0., 0., 1., 0., 0., 0., 0., 0., 0.], dtype=float32)"
            ]
          },
          "metadata": {},
          "execution_count": 147
        }
      ]
    },
    {
      "cell_type": "markdown",
      "source": [
        "s"
      ],
      "metadata": {
        "id": "yTEzceXEQs__"
      }
    },
    {
      "cell_type": "code",
      "source": [
        "from tensorflow.keras import optimizers\n",
        "from keras import losses\n",
        "from keras import metrics\n",
        "from keras import models\n",
        "from keras import layers\n",
        "\n",
        "\n",
        "model = models.Sequential()\n",
        "\n",
        "#Capa 1\n",
        "model.add(layers.Dense(10, activation='relu', name=\"Capa1\",input_shape=(28*28,)))\n",
        "model.compile(optimizer='sgd',\n",
        "              loss='categorical_crossentropy',\n",
        "              metrics=['accuracy'])\n",
        "#Capa 2\n",
        "model.add(layers.Dense(10, name=\"Capa2\",activation='relu'))\n",
        "model.compile(optimizer='rmsprop',\n",
        "              loss='categorical_crossentropy',\n",
        "              metrics=['accuracy'])\n",
        "#Capa 3\n",
        "model.add(layers.Dense(10, name=\"Capa3\",activation='sigmoid'))\n",
        "model.compile(optimizer='sgd',\n",
        "              loss='categorical_crossentropy',\n",
        "              metrics=['accuracy'])\n",
        "#Capa 4\n",
        "model.add(layers.Dense(10, name=\"Capa4\",activation='sigmoid'))\n",
        "model.compile(optimizer='rmsprop',\n",
        "              loss='categorical_crossentropy',\n",
        "              metrics=['accuracy'])\n",
        "#Capa 5\n",
        "model.add(layers.Dense(512, name=\"Capa5\",activation='relu'))\n",
        "model.compile(optimizer='sgd',\n",
        "              loss='categorical_crossentropy',\n",
        "              metrics=['accuracy'])\n",
        "#Capa 6\n",
        "model.add(layers.Dense(512, name=\"Capa6\",activation='relu'))\n",
        "model.compile(optimizer='rmsprop',\n",
        "              loss='categorical_crossentropy',\n",
        "              metrics=['accuracy'])\n",
        "#Capa 7\n",
        "model.add(layers.Dense(512, name=\"Capa7\",activation='sigmoid'))\n",
        "model.compile(optimizer='sgd',\n",
        "              loss='categorical_crossentropy',\n",
        "              metrics=['accuracy'])\n",
        "#Capa 8\n",
        "model.add(layers.Dense(512, name=\"Capa8\",activation='sigmoid'))\n",
        "model.compile(optimizer='rmsprop',\n",
        "              loss='categorical_crossentropy',\n",
        "              metrics=['accuracy'])\n",
        "#Capa final\n",
        "model.add(layers.Dense(10, name=\"CapaSalida\",activation='softmax'))\n"
      ],
      "metadata": {
        "id": "JsOqWzLPKiTj"
      },
      "execution_count": 148,
      "outputs": []
    },
    {
      "cell_type": "markdown",
      "source": [
        "s"
      ],
      "metadata": {
        "id": "O7ykuaNzMnqg"
      }
    },
    {
      "cell_type": "code",
      "source": [
        "model.summary()\n"
      ],
      "metadata": {
        "colab": {
          "base_uri": "https://localhost:8080/"
        },
        "id": "jQlpbPf-Qdiv",
        "outputId": "1b43b2a5-871b-4188-bccc-851df77eac21"
      },
      "execution_count": 149,
      "outputs": [
        {
          "output_type": "stream",
          "name": "stdout",
          "text": [
            "Model: \"sequential_9\"\n",
            "_________________________________________________________________\n",
            " Layer (type)                Output Shape              Param #   \n",
            "=================================================================\n",
            " Capa1 (Dense)               (None, 10)                7850      \n",
            "                                                                 \n",
            " Capa2 (Dense)               (None, 10)                110       \n",
            "                                                                 \n",
            " Capa3 (Dense)               (None, 10)                110       \n",
            "                                                                 \n",
            " Capa4 (Dense)               (None, 10)                110       \n",
            "                                                                 \n",
            " Capa5 (Dense)               (None, 512)               5632      \n",
            "                                                                 \n",
            " Capa6 (Dense)               (None, 512)               262656    \n",
            "                                                                 \n",
            " Capa7 (Dense)               (None, 512)               262656    \n",
            "                                                                 \n",
            " Capa8 (Dense)               (None, 512)               262656    \n",
            "                                                                 \n",
            " CapaSalida (Dense)          (None, 10)                5130      \n",
            "                                                                 \n",
            "=================================================================\n",
            "Total params: 806,910\n",
            "Trainable params: 806,910\n",
            "Non-trainable params: 0\n",
            "_________________________________________________________________\n"
          ]
        }
      ]
    },
    {
      "cell_type": "code",
      "source": [
        "x_val = train_data[:10000]\n",
        "partial_x_train = train_data[10000:]\n",
        "\n",
        "y_val = one_hot_train_labels[:10000]\n",
        "partial_y_train = one_hot_train_labels[10000:]"
      ],
      "metadata": {
        "id": "aleixj7_zDp9"
      },
      "execution_count": 157,
      "outputs": []
    },
    {
      "cell_type": "markdown",
      "source": [
        "s"
      ],
      "metadata": {
        "id": "ebTLYPcmzEc-"
      }
    },
    {
      "cell_type": "code",
      "source": [
        "history = model.fit(train_data,\n",
        "          train_labels,\n",
        "          epochs=5,\n",
        "          batch_size=128,\n",
        "          validation_data=(x_val, y_val))"
      ],
      "metadata": {
        "colab": {
          "base_uri": "https://localhost:8080/",
          "height": 762
        },
        "id": "MepKtlWWQrt1",
        "outputId": "8f7fe514-0dc6-41a8-a554-981f31bbe36c"
      },
      "execution_count": 158,
      "outputs": [
        {
          "output_type": "stream",
          "name": "stdout",
          "text": [
            "Epoch 1/5\n"
          ]
        },
        {
          "output_type": "error",
          "ename": "ValueError",
          "evalue": "ignored",
          "traceback": [
            "\u001b[0;31m---------------------------------------------------------------------------\u001b[0m",
            "\u001b[0;31mValueError\u001b[0m                                Traceback (most recent call last)",
            "\u001b[0;32m<ipython-input-158-4a14b754e2c9>\u001b[0m in \u001b[0;36m<module>\u001b[0;34m\u001b[0m\n\u001b[1;32m      3\u001b[0m           \u001b[0mepochs\u001b[0m\u001b[0;34m=\u001b[0m\u001b[0;36m5\u001b[0m\u001b[0;34m,\u001b[0m\u001b[0;34m\u001b[0m\u001b[0;34m\u001b[0m\u001b[0m\n\u001b[1;32m      4\u001b[0m           \u001b[0mbatch_size\u001b[0m\u001b[0;34m=\u001b[0m\u001b[0;36m128\u001b[0m\u001b[0;34m,\u001b[0m\u001b[0;34m\u001b[0m\u001b[0;34m\u001b[0m\u001b[0m\n\u001b[0;32m----> 5\u001b[0;31m           validation_data=(x_val, y_val))\n\u001b[0m",
            "\u001b[0;32m/usr/local/lib/python3.7/dist-packages/keras/utils/traceback_utils.py\u001b[0m in \u001b[0;36merror_handler\u001b[0;34m(*args, **kwargs)\u001b[0m\n\u001b[1;32m     65\u001b[0m     \u001b[0;32mexcept\u001b[0m \u001b[0mException\u001b[0m \u001b[0;32mas\u001b[0m \u001b[0me\u001b[0m\u001b[0;34m:\u001b[0m  \u001b[0;31m# pylint: disable=broad-except\u001b[0m\u001b[0;34m\u001b[0m\u001b[0;34m\u001b[0m\u001b[0m\n\u001b[1;32m     66\u001b[0m       \u001b[0mfiltered_tb\u001b[0m \u001b[0;34m=\u001b[0m \u001b[0m_process_traceback_frames\u001b[0m\u001b[0;34m(\u001b[0m\u001b[0me\u001b[0m\u001b[0;34m.\u001b[0m\u001b[0m__traceback__\u001b[0m\u001b[0;34m)\u001b[0m\u001b[0;34m\u001b[0m\u001b[0;34m\u001b[0m\u001b[0m\n\u001b[0;32m---> 67\u001b[0;31m       \u001b[0;32mraise\u001b[0m \u001b[0me\u001b[0m\u001b[0;34m.\u001b[0m\u001b[0mwith_traceback\u001b[0m\u001b[0;34m(\u001b[0m\u001b[0mfiltered_tb\u001b[0m\u001b[0;34m)\u001b[0m \u001b[0;32mfrom\u001b[0m \u001b[0;32mNone\u001b[0m\u001b[0;34m\u001b[0m\u001b[0;34m\u001b[0m\u001b[0m\n\u001b[0m\u001b[1;32m     68\u001b[0m     \u001b[0;32mfinally\u001b[0m\u001b[0;34m:\u001b[0m\u001b[0;34m\u001b[0m\u001b[0;34m\u001b[0m\u001b[0m\n\u001b[1;32m     69\u001b[0m       \u001b[0;32mdel\u001b[0m \u001b[0mfiltered_tb\u001b[0m\u001b[0;34m\u001b[0m\u001b[0;34m\u001b[0m\u001b[0m\n",
            "\u001b[0;32m/usr/local/lib/python3.7/dist-packages/keras/engine/training.py\u001b[0m in \u001b[0;36mtf__train_function\u001b[0;34m(iterator)\u001b[0m\n\u001b[1;32m     13\u001b[0m                 \u001b[0;32mtry\u001b[0m\u001b[0;34m:\u001b[0m\u001b[0;34m\u001b[0m\u001b[0;34m\u001b[0m\u001b[0m\n\u001b[1;32m     14\u001b[0m                     \u001b[0mdo_return\u001b[0m \u001b[0;34m=\u001b[0m \u001b[0;32mTrue\u001b[0m\u001b[0;34m\u001b[0m\u001b[0;34m\u001b[0m\u001b[0m\n\u001b[0;32m---> 15\u001b[0;31m                     \u001b[0mretval_\u001b[0m \u001b[0;34m=\u001b[0m \u001b[0mag__\u001b[0m\u001b[0;34m.\u001b[0m\u001b[0mconverted_call\u001b[0m\u001b[0;34m(\u001b[0m\u001b[0mag__\u001b[0m\u001b[0;34m.\u001b[0m\u001b[0mld\u001b[0m\u001b[0;34m(\u001b[0m\u001b[0mstep_function\u001b[0m\u001b[0;34m)\u001b[0m\u001b[0;34m,\u001b[0m \u001b[0;34m(\u001b[0m\u001b[0mag__\u001b[0m\u001b[0;34m.\u001b[0m\u001b[0mld\u001b[0m\u001b[0;34m(\u001b[0m\u001b[0mself\u001b[0m\u001b[0;34m)\u001b[0m\u001b[0;34m,\u001b[0m \u001b[0mag__\u001b[0m\u001b[0;34m.\u001b[0m\u001b[0mld\u001b[0m\u001b[0;34m(\u001b[0m\u001b[0miterator\u001b[0m\u001b[0;34m)\u001b[0m\u001b[0;34m)\u001b[0m\u001b[0;34m,\u001b[0m \u001b[0;32mNone\u001b[0m\u001b[0;34m,\u001b[0m \u001b[0mfscope\u001b[0m\u001b[0;34m)\u001b[0m\u001b[0;34m\u001b[0m\u001b[0;34m\u001b[0m\u001b[0m\n\u001b[0m\u001b[1;32m     16\u001b[0m                 \u001b[0;32mexcept\u001b[0m\u001b[0;34m:\u001b[0m\u001b[0;34m\u001b[0m\u001b[0;34m\u001b[0m\u001b[0m\n\u001b[1;32m     17\u001b[0m                     \u001b[0mdo_return\u001b[0m \u001b[0;34m=\u001b[0m \u001b[0;32mFalse\u001b[0m\u001b[0;34m\u001b[0m\u001b[0;34m\u001b[0m\u001b[0m\n",
            "\u001b[0;31mValueError\u001b[0m: in user code:\n\n    File \"/usr/local/lib/python3.7/dist-packages/keras/engine/training.py\", line 1051, in train_function  *\n        return step_function(self, iterator)\n    File \"/usr/local/lib/python3.7/dist-packages/keras/engine/training.py\", line 1040, in step_function  **\n        outputs = model.distribute_strategy.run(run_step, args=(data,))\n    File \"/usr/local/lib/python3.7/dist-packages/keras/engine/training.py\", line 1030, in run_step  **\n        outputs = model.train_step(data)\n    File \"/usr/local/lib/python3.7/dist-packages/keras/engine/training.py\", line 890, in train_step\n        loss = self.compute_loss(x, y, y_pred, sample_weight)\n    File \"/usr/local/lib/python3.7/dist-packages/keras/engine/training.py\", line 949, in compute_loss\n        y, y_pred, sample_weight, regularization_losses=self.losses)\n    File \"/usr/local/lib/python3.7/dist-packages/keras/engine/compile_utils.py\", line 201, in __call__\n        loss_value = loss_obj(y_t, y_p, sample_weight=sw)\n    File \"/usr/local/lib/python3.7/dist-packages/keras/losses.py\", line 139, in __call__\n        losses = call_fn(y_true, y_pred)\n    File \"/usr/local/lib/python3.7/dist-packages/keras/losses.py\", line 243, in call  **\n        return ag_fn(y_true, y_pred, **self._fn_kwargs)\n    File \"/usr/local/lib/python3.7/dist-packages/keras/losses.py\", line 1788, in categorical_crossentropy\n        y_true, y_pred, from_logits=from_logits, axis=axis)\n    File \"/usr/local/lib/python3.7/dist-packages/keras/backend.py\", line 5119, in categorical_crossentropy\n        target.shape.assert_is_compatible_with(output.shape)\n\n    ValueError: Shapes (None, 1) and (None, 10) are incompatible\n"
          ]
        }
      ]
    },
    {
      "cell_type": "markdown",
      "source": [
        "FALLA A PARTIR DE AQUI MIRAR!!!"
      ],
      "metadata": {
        "id": "F_Oshdn3lk9P"
      }
    },
    {
      "cell_type": "code",
      "source": [
        "import matplotlib.pyplot as plt\n",
        "\n",
        "loss = history.history['loss']\n",
        "\n",
        "epochs = range(1, len(loss) + 1)\n",
        "\n",
        "plt.plot(epochs, loss, 'bo', label='Pérdida del entreno')\n",
        "plt.title('Perdidas del entreno y la validación')\n",
        "plt.plot(epochs, val_acc, 'b', label='Precisión de validación')\n",
        "plt.title('Perdidas del entreno y la validación')\n",
        "plt.xlabel('Épocas')\n",
        "plt.ylabel('Pérdida')\n",
        "plt.legend()\n",
        "\n",
        "plt.show()"
      ],
      "metadata": {
        "id": "ap-ozaX0llrR"
      },
      "execution_count": null,
      "outputs": []
    },
    {
      "cell_type": "markdown",
      "source": [
        "s"
      ],
      "metadata": {
        "id": "wRx8hZhLQo8m"
      }
    },
    {
      "cell_type": "code",
      "source": [
        "test_images[5]"
      ],
      "metadata": {
        "id": "XshGwiutVsi9"
      },
      "execution_count": null,
      "outputs": []
    },
    {
      "cell_type": "markdown",
      "source": [
        "s"
      ],
      "metadata": {
        "id": "JqKzYq9tV2Sb"
      }
    },
    {
      "cell_type": "code",
      "source": [],
      "metadata": {
        "id": "xIhbpR8xV2pd"
      },
      "execution_count": null,
      "outputs": []
    }
  ]
}