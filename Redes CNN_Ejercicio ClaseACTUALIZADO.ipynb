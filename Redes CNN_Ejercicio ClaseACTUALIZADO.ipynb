{
  "nbformat": 4,
  "nbformat_minor": 0,
  "metadata": {
    "colab": {
      "provenance": [],
      "include_colab_link": true
    },
    "kernelspec": {
      "name": "python3",
      "display_name": "Python 3"
    },
    "language_info": {
      "name": "python"
    },
    "accelerator": "GPU",
    "gpuClass": "standard"
  },
  "cells": [
    {
      "cell_type": "markdown",
      "metadata": {
        "id": "view-in-github",
        "colab_type": "text"
      },
      "source": [
        "<a href=\"https://colab.research.google.com/github/javierarteagapuell/deeplearning/blob/main/Redes%20CNN_Ejercicio%20ClaseACTUALIZADO.ipynb\" target=\"_parent\"><img src=\"https://colab.research.google.com/assets/colab-badge.svg\" alt=\"Open In Colab\"/></a>"
      ]
    },
    {
      "cell_type": "code",
      "execution_count": 1,
      "metadata": {
        "id": "XpNGzfU8ACaQ",
        "colab": {
          "base_uri": "https://localhost:8080/"
        },
        "outputId": "8b4ceebe-f635-442a-ee12-5da066ddcb4c"
      },
      "outputs": [
        {
          "output_type": "stream",
          "name": "stdout",
          "text": [
            "Colab only includes TensorFlow 2.x; %tensorflow_version has no effect.\n",
            "2.9.2\n"
          ]
        }
      ],
      "source": [
        "%tensorflow_version 2.x\n",
        "import tensorflow as tf\n",
        "from tensorflow import keras\n",
        "\n",
        "import numpy as np\n",
        "import matplotlib.pyplot as plt\n",
        "\n",
        "print(tf.__version__)#\n",
        "\n",
        "from tensorflow.keras.models import Sequential\n",
        "from tensorflow.keras.layers import Dense, Flatten, Conv2D, MaxPooling2D\n",
        "from tensorflow.keras.losses import sparse_categorical_crossentropy\n",
        "from tensorflow.keras.optimizers import Adam\n",
        "import matplotlib.pyplot as plt"
      ]
    },
    {
      "cell_type": "code",
      "source": [
        "# Configuración del modelo\n",
        "batch_size = 50\n",
        "img_width, img_height, img_num_channels =  60000, 32, 32  # Forma de la imagen\n",
        "loss_function = sparse_categorical_crossentropy\n",
        "no_classes = 100\n",
        "no_epochs = 100\n",
        "optimizer = Adam()\n",
        "validation_split = 0.2\n",
        "verbosity = 1\n",
        "input_shape = (60000, 32, 32) #img_width, img_height, img_num_channels"
      ],
      "metadata": {
        "id": "cvrXA-JaAF8h"
      },
      "execution_count": 2,
      "outputs": []
    },
    {
      "cell_type": "code",
      "source": [
        "(train_images, train_labels), (test_images, test_labels) = tf.keras.datasets.cifar100.load_data(label_mode=\"fine\")\n",
        "# CIFAR: https://www.cs.toronto.edu/~kriz/cifar.html\n",
        "assert train_images.shape == (50000, 32, 32, 3)  # Forma tensor juego imagenes de entrenamiento\n",
        "assert test_images.shape == (10000, 32, 32, 3)  # Forma tensor juego imagenes de test\n",
        "assert train_labels.shape == (50000,1)  # Forma tensor etiquetas de entrenamiento\n",
        "assert test_labels.shape == (10000,1)  # Forma tensor etiquetas de test"
      ],
      "metadata": {
        "id": "RYgWQWuZAPaH",
        "colab": {
          "base_uri": "https://localhost:8080/"
        },
        "outputId": "99671bef-0e97-451f-9da2-f75af6b69e86"
      },
      "execution_count": 3,
      "outputs": [
        {
          "output_type": "stream",
          "name": "stdout",
          "text": [
            "Downloading data from https://www.cs.toronto.edu/~kriz/cifar-100-python.tar.gz\n",
            "169001437/169001437 [==============================] - 14s 0us/step\n"
          ]
        }
      ]
    },
    {
      "cell_type": "code",
      "source": [
        "# Pintamos la tercera imagen de entrenamiento (la número 2 en el array)\n",
        "import matplotlib.pyplot as plt\n",
        "digit = train_images[2]\n",
        "plt.imshow(digit, cmap=plt.cm.binary)\n",
        "plt.show()"
      ],
      "metadata": {
        "id": "YOIWl3BhAvoH",
        "colab": {
          "base_uri": "https://localhost:8080/",
          "height": 266
        },
        "outputId": "688f71e5-2a75-4b3d-c1c2-48b897cf3485"
      },
      "execution_count": 4,
      "outputs": [
        {
          "output_type": "display_data",
          "data": {
            "text/plain": [
              "<Figure size 432x288 with 1 Axes>"
            ],
            "image/png": "[encoded data removed]"
          },
          "metadata": {
            "needs_background": "light"
          }
        }
      ]
    },
    {
      "cell_type": "code",
      "source": [
        "print (train_images.shape)\n",
        "print (train_labels.shape)\n",
        "\n",
        "print(train_images[2].shape)\n",
        "train_images[2]"
      ],
      "metadata": {
        "id": "CYxj_8S2AwiK",
        "colab": {
          "base_uri": "https://localhost:8080/"
        },
        "outputId": "e0976e68-22cb-4a22-d0c8-ddf7d02edf01"
      },
      "execution_count": 5,
      "outputs": [
        {
          "output_type": "stream",
          "name": "stdout",
          "text": [
            "(50000, 32, 32, 3)\n",
            "(50000, 1)\n",
            "(32, 32, 3)\n"
          ]
        },
        {
          "output_type": "execute_result",
          "data": {
            "text/plain": [
              "array([[[250, 250, 248],\n",
              "        [248, 249, 243],\n",
              "        [247, 248, 239],\n",
              "        ...,\n",
              "        [250, 250, 246],\n",
              "        [250, 250, 246],\n",
              "        [249, 250, 246]],\n",
              "\n",
              "       [[250, 251, 245],\n",
              "        [248, 249, 238],\n",
              "        [247, 247, 234],\n",
              "        ...,\n",
              "        [251, 251, 242],\n",
              "        [251, 252, 243],\n",
              "        [250, 251, 243]],\n",
              "\n",
              "       [[251, 251, 244],\n",
              "        [250, 248, 237],\n",
              "        [250, 245, 233],\n",
              "        ...,\n",
              "        [250, 249, 238],\n",
              "        [250, 249, 240],\n",
              "        [250, 249, 242]],\n",
              "\n",
              "       ...,\n",
              "\n",
              "       [[221, 213, 191],\n",
              "        [221, 206, 176],\n",
              "        [225, 207, 181],\n",
              "        ...,\n",
              "        [199, 176, 134],\n",
              "        [207, 193, 165],\n",
              "        [233, 229, 226]],\n",
              "\n",
              "       [[225, 223, 204],\n",
              "        [227, 219, 196],\n",
              "        [229, 216, 200],\n",
              "        ...,\n",
              "        [204, 185, 151],\n",
              "        [212, 201, 180],\n",
              "        [234, 232, 228]],\n",
              "\n",
              "       [[233, 233, 226],\n",
              "        [234, 232, 224],\n",
              "        [235, 230, 225],\n",
              "        ...,\n",
              "        [219, 209, 194],\n",
              "        [223, 216, 207],\n",
              "        [232, 230, 228]]], dtype=uint8)"
            ]
          },
          "metadata": {},
          "execution_count": 5
        }
      ]
    },
    {
      "cell_type": "code",
      "source": [
        "# Normalizar imágenes de entrenamiento y de test\n"
      ],
      "metadata": {
        "id": "K0teESsKA8N7"
      },
      "execution_count": 6,
      "outputs": []
    },
    {
      "cell_type": "code",
      "source": [
        "print (train_images.shape)\n",
        "print (train_labels.shape)\n",
        "\n",
        "train_images = train_images.astype('float32') / 255\n",
        "test_images = test_images.astype('float32') / 255\n",
        "\n",
        "print (train_images.shape)\n",
        "print (train_labels.shape)"
      ],
      "metadata": {
        "id": "jHxaQNAdBDTQ",
        "colab": {
          "base_uri": "https://localhost:8080/"
        },
        "outputId": "39ed8fca-ed55-4aff-aa87-6c810d7a1ed8"
      },
      "execution_count": 7,
      "outputs": [
        {
          "output_type": "stream",
          "name": "stdout",
          "text": [
            "(50000, 32, 32, 3)\n",
            "(50000, 1)\n",
            "(50000, 32, 32, 3)\n",
            "(50000, 1)\n"
          ]
        }
      ]
    },
    {
      "cell_type": "code",
      "source": [
        "# Crear el Modelo de red neuronal CNN con:\n",
        "# stride = 1\n",
        "# ventanas convolucionales de 3x3 HECHO\n",
        "# ventanas de pooling de 2x2 HECHO\n",
        "# funciones de activación 'relu' HECHO\n",
        "# 3 capas convolucionales con 32, 64 y 128 filtros respectivamente HECHO\n",
        "# Aplanamos la última salida y añadimos dos capas densas con función activación \n",
        "# 'relu' de 256 y 128 neuronas cada una. Se aplana con Flatten HECHO\n",
        "\n",
        "\n",
        "model = Sequential()\n",
        "model.add(Conv2D(32, (3, 3), strides=(1,1), activation='relu', input_shape=(32, 32, 3)))\n",
        "model.add(MaxPooling2D((2, 2)))\n",
        "\n",
        "model.add(Conv2D(64, (3, 3), strides=(1,1), activation='relu', input_shape=(32, 32, 3)))\n",
        "model.add(MaxPooling2D((2, 2)))\n",
        "\n",
        "model.add(Conv2D(128, (3, 3), strides=(1,1), activation='relu', input_shape=(32, 32, 3)))\n",
        "model.add(MaxPooling2D((2, 2)))\n",
        "\n",
        "#from tensorflow.keras.layers import Flatten\n",
        "\n",
        "model.add(Flatten())\n",
        "model.add(Dense(256,activation='relu'))\n",
        "model.add(Dense(128,activation='relu'))\n",
        "model.add(Dense(100,activation='softmax'))\n",
        "\n",
        "# Tenemos en cuenta el número de clases a clasificar para poner la capa final\n",
        "model.summary() #272372"
      ],
      "metadata": {
        "id": "AQhtNiJlBGfx",
        "colab": {
          "base_uri": "https://localhost:8080/"
        },
        "outputId": "fb70fc73-1b6b-4fc1-bd8d-04502d1642fc"
      },
      "execution_count": 8,
      "outputs": [
        {
          "output_type": "stream",
          "name": "stdout",
          "text": [
            "Model: \"sequential\"\n",
            "_________________________________________________________________\n",
            " Layer (type)                Output Shape              Param #   \n",
            "=================================================================\n",
            " conv2d (Conv2D)             (None, 30, 30, 32)        896       \n",
            "                                                                 \n",
            " max_pooling2d (MaxPooling2D  (None, 15, 15, 32)       0         \n",
            " )                                                               \n",
            "                                                                 \n",
            " conv2d_1 (Conv2D)           (None, 13, 13, 64)        18496     \n",
            "                                                                 \n",
            " max_pooling2d_1 (MaxPooling  (None, 6, 6, 64)         0         \n",
            " 2D)                                                             \n",
            "                                                                 \n",
            " conv2d_2 (Conv2D)           (None, 4, 4, 128)         73856     \n",
            "                                                                 \n",
            " max_pooling2d_2 (MaxPooling  (None, 2, 2, 128)        0         \n",
            " 2D)                                                             \n",
            "                                                                 \n",
            " flatten (Flatten)           (None, 512)               0         \n",
            "                                                                 \n",
            " dense (Dense)               (None, 256)               131328    \n",
            "                                                                 \n",
            " dense_1 (Dense)             (None, 128)               32896     \n",
            "                                                                 \n",
            " dense_2 (Dense)             (None, 100)               12900     \n",
            "                                                                 \n",
            "=================================================================\n",
            "Total params: 270,372\n",
            "Trainable params: 270,372\n",
            "Non-trainable params: 0\n",
            "_________________________________________________________________\n"
          ]
        }
      ]
    },
    {
      "cell_type": "code",
      "source": [
        "# Compilamos el modelo con métrica preción\n",
        "\n",
        "model.compile(loss='sparse_categorical_crossentropy',\n",
        "              optimizer='adam',\n",
        "              metrics=['accuracy'])\n",
        "\n",
        "history = model.fit(train_images, train_labels,\n",
        "          batch_size= batch_size,\n",
        "          epochs= no_epochs,\n",
        "          verbose= verbosity,\n",
        "          validation_split = validation_split)\n",
        "\n",
        "test_loss, test_acc = model.evaluate(test_images, test_labels)\n",
        "\n",
        "print('Test accuracy:', test_acc)"
      ],
      "metadata": {
        "id": "t631tbjkCFRr",
        "colab": {
          "base_uri": "https://localhost:8080/"
        },
        "outputId": "127394a3-b389-444e-c7ed-64de07195ead"
      },
      "execution_count": 9,
      "outputs": [
        {
          "output_type": "stream",
          "name": "stdout",
          "text": [
            "Epoch 1/100\n",
            "800/800 [==============================] - 13s 6ms/step - loss: 4.1412 - accuracy: 0.0567 - val_loss: 3.7859 - val_accuracy: 0.1144\n",
            "Epoch 2/100\n",
            "800/800 [==============================] - 4s 5ms/step - loss: 3.5283 - accuracy: 0.1539 - val_loss: 3.3674 - val_accuracy: 0.1856\n",
            "Epoch 3/100\n",
            "800/800 [==============================] - 4s 5ms/step - loss: 3.1618 - accuracy: 0.2224 - val_loss: 3.1415 - val_accuracy: 0.2313\n",
            "Epoch 4/100\n",
            "800/800 [==============================] - 3s 4ms/step - loss: 2.9179 - accuracy: 0.2690 - val_loss: 2.9519 - val_accuracy: 0.2634\n",
            "Epoch 5/100\n",
            "800/800 [==============================] - 4s 5ms/step - loss: 2.7224 - accuracy: 0.3073 - val_loss: 2.8223 - val_accuracy: 0.3010\n",
            "Epoch 6/100\n",
            "800/800 [==============================] - 4s 4ms/step - loss: 2.5623 - accuracy: 0.3413 - val_loss: 2.7302 - val_accuracy: 0.3135\n",
            "Epoch 7/100\n",
            "800/800 [==============================] - 3s 4ms/step - loss: 2.4254 - accuracy: 0.3679 - val_loss: 2.7129 - val_accuracy: 0.3272\n",
            "Epoch 8/100\n",
            "800/800 [==============================] - 4s 5ms/step - loss: 2.3029 - accuracy: 0.3948 - val_loss: 2.6802 - val_accuracy: 0.3309\n",
            "Epoch 9/100\n",
            "800/800 [==============================] - 4s 5ms/step - loss: 2.1893 - accuracy: 0.4196 - val_loss: 2.6789 - val_accuracy: 0.3386\n",
            "Epoch 10/100\n",
            "800/800 [==============================] - 4s 5ms/step - loss: 2.0843 - accuracy: 0.4429 - val_loss: 2.6543 - val_accuracy: 0.3499\n",
            "Epoch 11/100\n",
            "800/800 [==============================] - 3s 4ms/step - loss: 1.9819 - accuracy: 0.4638 - val_loss: 2.6412 - val_accuracy: 0.3527\n",
            "Epoch 12/100\n",
            "800/800 [==============================] - 4s 5ms/step - loss: 1.8854 - accuracy: 0.4877 - val_loss: 2.6768 - val_accuracy: 0.3523\n",
            "Epoch 13/100\n",
            "800/800 [==============================] - 4s 5ms/step - loss: 1.7870 - accuracy: 0.5095 - val_loss: 2.6885 - val_accuracy: 0.3504\n",
            "Epoch 14/100\n",
            "800/800 [==============================] - 4s 5ms/step - loss: 1.6995 - accuracy: 0.5262 - val_loss: 2.7614 - val_accuracy: 0.3508\n",
            "Epoch 15/100\n",
            "800/800 [==============================] - 4s 4ms/step - loss: 1.6154 - accuracy: 0.5470 - val_loss: 2.8399 - val_accuracy: 0.3477\n",
            "Epoch 16/100\n",
            "800/800 [==============================] - 4s 5ms/step - loss: 1.5340 - accuracy: 0.5690 - val_loss: 2.8909 - val_accuracy: 0.3491\n",
            "Epoch 17/100\n",
            "800/800 [==============================] - 4s 4ms/step - loss: 1.4531 - accuracy: 0.5865 - val_loss: 2.9524 - val_accuracy: 0.3409\n",
            "Epoch 18/100\n",
            "800/800 [==============================] - 4s 5ms/step - loss: 1.3728 - accuracy: 0.6072 - val_loss: 3.0568 - val_accuracy: 0.3491\n",
            "Epoch 19/100\n",
            "800/800 [==============================] - 3s 4ms/step - loss: 1.2948 - accuracy: 0.6246 - val_loss: 3.1118 - val_accuracy: 0.3472\n",
            "Epoch 20/100\n",
            "800/800 [==============================] - 3s 4ms/step - loss: 1.2262 - accuracy: 0.6428 - val_loss: 3.2063 - val_accuracy: 0.3419\n",
            "Epoch 21/100\n",
            "800/800 [==============================] - 4s 5ms/step - loss: 1.1645 - accuracy: 0.6585 - val_loss: 3.3343 - val_accuracy: 0.3369\n",
            "Epoch 22/100\n",
            "800/800 [==============================] - 4s 4ms/step - loss: 1.0838 - accuracy: 0.6797 - val_loss: 3.5363 - val_accuracy: 0.3377\n",
            "Epoch 23/100\n",
            "800/800 [==============================] - 4s 5ms/step - loss: 1.0294 - accuracy: 0.6926 - val_loss: 3.5377 - val_accuracy: 0.3356\n",
            "Epoch 24/100\n",
            "800/800 [==============================] - 3s 4ms/step - loss: 0.9639 - accuracy: 0.7117 - val_loss: 3.7152 - val_accuracy: 0.3294\n",
            "Epoch 25/100\n",
            "800/800 [==============================] - 3s 4ms/step - loss: 0.9219 - accuracy: 0.7212 - val_loss: 3.8931 - val_accuracy: 0.3257\n",
            "Epoch 26/100\n",
            "800/800 [==============================] - 4s 5ms/step - loss: 0.8566 - accuracy: 0.7417 - val_loss: 4.0551 - val_accuracy: 0.3254\n",
            "Epoch 27/100\n",
            "800/800 [==============================] - 4s 4ms/step - loss: 0.8145 - accuracy: 0.7480 - val_loss: 4.2620 - val_accuracy: 0.3270\n",
            "Epoch 28/100\n",
            "800/800 [==============================] - 4s 5ms/step - loss: 0.7691 - accuracy: 0.7621 - val_loss: 4.4412 - val_accuracy: 0.3271\n",
            "Epoch 29/100\n",
            "800/800 [==============================] - 3s 4ms/step - loss: 0.7337 - accuracy: 0.7701 - val_loss: 4.6413 - val_accuracy: 0.3251\n",
            "Epoch 30/100\n",
            "800/800 [==============================] - 3s 4ms/step - loss: 0.6939 - accuracy: 0.7836 - val_loss: 4.7588 - val_accuracy: 0.3176\n",
            "Epoch 31/100\n",
            "800/800 [==============================] - 4s 4ms/step - loss: 0.6606 - accuracy: 0.7915 - val_loss: 4.8148 - val_accuracy: 0.3185\n",
            "Epoch 32/100\n",
            "800/800 [==============================] - 3s 4ms/step - loss: 0.6196 - accuracy: 0.8033 - val_loss: 5.1082 - val_accuracy: 0.3119\n",
            "Epoch 33/100\n",
            "800/800 [==============================] - 3s 4ms/step - loss: 0.5984 - accuracy: 0.8101 - val_loss: 5.1957 - val_accuracy: 0.3156\n",
            "Epoch 34/100\n",
            "800/800 [==============================] - 3s 4ms/step - loss: 0.5731 - accuracy: 0.8172 - val_loss: 5.3144 - val_accuracy: 0.3178\n",
            "Epoch 35/100\n",
            "800/800 [==============================] - 3s 4ms/step - loss: 0.5444 - accuracy: 0.8264 - val_loss: 5.6158 - val_accuracy: 0.3217\n",
            "Epoch 36/100\n",
            "800/800 [==============================] - 3s 4ms/step - loss: 0.5243 - accuracy: 0.8302 - val_loss: 5.6570 - val_accuracy: 0.3168\n",
            "Epoch 37/100\n",
            "800/800 [==============================] - 4s 4ms/step - loss: 0.5172 - accuracy: 0.8343 - val_loss: 5.9077 - val_accuracy: 0.3106\n",
            "Epoch 38/100\n",
            "800/800 [==============================] - 4s 5ms/step - loss: 0.4811 - accuracy: 0.8429 - val_loss: 6.1464 - val_accuracy: 0.3127\n",
            "Epoch 39/100\n",
            "800/800 [==============================] - 4s 5ms/step - loss: 0.4783 - accuracy: 0.8437 - val_loss: 6.2786 - val_accuracy: 0.3098\n",
            "Epoch 40/100\n",
            "800/800 [==============================] - 3s 4ms/step - loss: 0.4595 - accuracy: 0.8515 - val_loss: 6.3844 - val_accuracy: 0.3097\n",
            "Epoch 41/100\n",
            "800/800 [==============================] - 4s 5ms/step - loss: 0.4430 - accuracy: 0.8550 - val_loss: 6.5950 - val_accuracy: 0.3115\n",
            "Epoch 42/100\n",
            "800/800 [==============================] - 3s 4ms/step - loss: 0.4545 - accuracy: 0.8535 - val_loss: 6.6427 - val_accuracy: 0.3086\n",
            "Epoch 43/100\n",
            "800/800 [==============================] - 4s 5ms/step - loss: 0.4089 - accuracy: 0.8654 - val_loss: 6.9105 - val_accuracy: 0.3103\n",
            "Epoch 44/100\n",
            "800/800 [==============================] - 4s 5ms/step - loss: 0.4131 - accuracy: 0.8646 - val_loss: 6.9741 - val_accuracy: 0.3124\n",
            "Epoch 45/100\n",
            "800/800 [==============================] - 3s 4ms/step - loss: 0.4141 - accuracy: 0.8649 - val_loss: 7.0102 - val_accuracy: 0.3114\n",
            "Epoch 46/100\n",
            "800/800 [==============================] - 4s 4ms/step - loss: 0.3952 - accuracy: 0.8692 - val_loss: 7.1968 - val_accuracy: 0.3117\n",
            "Epoch 47/100\n",
            "800/800 [==============================] - 4s 5ms/step - loss: 0.3747 - accuracy: 0.8765 - val_loss: 7.5186 - val_accuracy: 0.3134\n",
            "Epoch 48/100\n",
            "800/800 [==============================] - 4s 4ms/step - loss: 0.3847 - accuracy: 0.8732 - val_loss: 7.3439 - val_accuracy: 0.3044\n",
            "Epoch 49/100\n",
            "800/800 [==============================] - 4s 4ms/step - loss: 0.3783 - accuracy: 0.8771 - val_loss: 7.5900 - val_accuracy: 0.3112\n",
            "Epoch 50/100\n",
            "800/800 [==============================] - 3s 4ms/step - loss: 0.3726 - accuracy: 0.8793 - val_loss: 7.7421 - val_accuracy: 0.3110\n",
            "Epoch 51/100\n",
            "800/800 [==============================] - 3s 4ms/step - loss: 0.3621 - accuracy: 0.8809 - val_loss: 7.8228 - val_accuracy: 0.3065\n",
            "Epoch 52/100\n",
            "800/800 [==============================] - 3s 4ms/step - loss: 0.3713 - accuracy: 0.8791 - val_loss: 8.0863 - val_accuracy: 0.3099\n",
            "Epoch 53/100\n",
            "800/800 [==============================] - 3s 4ms/step - loss: 0.3440 - accuracy: 0.8882 - val_loss: 8.2099 - val_accuracy: 0.3085\n",
            "Epoch 54/100\n",
            "800/800 [==============================] - 4s 5ms/step - loss: 0.3530 - accuracy: 0.8846 - val_loss: 8.3613 - val_accuracy: 0.3107\n",
            "Epoch 55/100\n",
            "800/800 [==============================] - 3s 4ms/step - loss: 0.3359 - accuracy: 0.8916 - val_loss: 8.2845 - val_accuracy: 0.2987\n",
            "Epoch 56/100\n",
            "800/800 [==============================] - 3s 4ms/step - loss: 0.3463 - accuracy: 0.8902 - val_loss: 8.3165 - val_accuracy: 0.3059\n",
            "Epoch 57/100\n",
            "800/800 [==============================] - 3s 4ms/step - loss: 0.3340 - accuracy: 0.8916 - val_loss: 8.4509 - val_accuracy: 0.3090\n",
            "Epoch 58/100\n",
            "800/800 [==============================] - 3s 4ms/step - loss: 0.3300 - accuracy: 0.8955 - val_loss: 8.5965 - val_accuracy: 0.3054\n",
            "Epoch 59/100\n",
            "800/800 [==============================] - 3s 4ms/step - loss: 0.3579 - accuracy: 0.8880 - val_loss: 8.7224 - val_accuracy: 0.2977\n",
            "Epoch 60/100\n",
            "800/800 [==============================] - 3s 4ms/step - loss: 0.3290 - accuracy: 0.8938 - val_loss: 8.9531 - val_accuracy: 0.3039\n",
            "Epoch 61/100\n",
            "800/800 [==============================] - 3s 4ms/step - loss: 0.3328 - accuracy: 0.8953 - val_loss: 8.8287 - val_accuracy: 0.3025\n",
            "Epoch 62/100\n",
            "800/800 [==============================] - 4s 4ms/step - loss: 0.3183 - accuracy: 0.8994 - val_loss: 9.0994 - val_accuracy: 0.3116\n",
            "Epoch 63/100\n",
            "800/800 [==============================] - 4s 4ms/step - loss: 0.3161 - accuracy: 0.9007 - val_loss: 9.0463 - val_accuracy: 0.3058\n",
            "Epoch 64/100\n",
            "800/800 [==============================] - 4s 5ms/step - loss: 0.3235 - accuracy: 0.8977 - val_loss: 9.0135 - val_accuracy: 0.3095\n",
            "Epoch 65/100\n",
            "800/800 [==============================] - 3s 4ms/step - loss: 0.3093 - accuracy: 0.9013 - val_loss: 9.4231 - val_accuracy: 0.2990\n",
            "Epoch 66/100\n",
            "800/800 [==============================] - 3s 4ms/step - loss: 0.3321 - accuracy: 0.8942 - val_loss: 9.2576 - val_accuracy: 0.3091\n",
            "Epoch 67/100\n",
            "800/800 [==============================] - 3s 4ms/step - loss: 0.3153 - accuracy: 0.9020 - val_loss: 9.2779 - val_accuracy: 0.3056\n",
            "Epoch 68/100\n",
            "800/800 [==============================] - 3s 4ms/step - loss: 0.2821 - accuracy: 0.9103 - val_loss: 9.6791 - val_accuracy: 0.2961\n",
            "Epoch 69/100\n",
            "800/800 [==============================] - 4s 5ms/step - loss: 0.3075 - accuracy: 0.9032 - val_loss: 9.7057 - val_accuracy: 0.3058\n",
            "Epoch 70/100\n",
            "800/800 [==============================] - 4s 5ms/step - loss: 0.3026 - accuracy: 0.9061 - val_loss: 9.7693 - val_accuracy: 0.3037\n",
            "Epoch 71/100\n",
            "800/800 [==============================] - 4s 5ms/step - loss: 0.3016 - accuracy: 0.9064 - val_loss: 9.8079 - val_accuracy: 0.3022\n",
            "Epoch 72/100\n",
            "800/800 [==============================] - 3s 4ms/step - loss: 0.3151 - accuracy: 0.9032 - val_loss: 9.9460 - val_accuracy: 0.3018\n",
            "Epoch 73/100\n",
            "800/800 [==============================] - 4s 5ms/step - loss: 0.3070 - accuracy: 0.9051 - val_loss: 9.8002 - val_accuracy: 0.2984\n",
            "Epoch 74/100\n",
            "800/800 [==============================] - 3s 4ms/step - loss: 0.2840 - accuracy: 0.9107 - val_loss: 10.0853 - val_accuracy: 0.3039\n",
            "Epoch 75/100\n",
            "800/800 [==============================] - 3s 4ms/step - loss: 0.3060 - accuracy: 0.9068 - val_loss: 9.8928 - val_accuracy: 0.3002\n",
            "Epoch 76/100\n",
            "800/800 [==============================] - 4s 5ms/step - loss: 0.3203 - accuracy: 0.9040 - val_loss: 10.2965 - val_accuracy: 0.3018\n",
            "Epoch 77/100\n",
            "800/800 [==============================] - 3s 4ms/step - loss: 0.2903 - accuracy: 0.9108 - val_loss: 10.0621 - val_accuracy: 0.2990\n",
            "Epoch 78/100\n",
            "800/800 [==============================] - 4s 4ms/step - loss: 0.2834 - accuracy: 0.9144 - val_loss: 10.2846 - val_accuracy: 0.2941\n",
            "Epoch 79/100\n",
            "800/800 [==============================] - 4s 5ms/step - loss: 0.3146 - accuracy: 0.9061 - val_loss: 10.2823 - val_accuracy: 0.3035\n",
            "Epoch 80/100\n",
            "800/800 [==============================] - 3s 4ms/step - loss: 0.2773 - accuracy: 0.9139 - val_loss: 10.6207 - val_accuracy: 0.2998\n",
            "Epoch 81/100\n",
            "800/800 [==============================] - 4s 5ms/step - loss: 0.2971 - accuracy: 0.9101 - val_loss: 10.4437 - val_accuracy: 0.2991\n",
            "Epoch 82/100\n",
            "800/800 [==============================] - 3s 4ms/step - loss: 0.2994 - accuracy: 0.9100 - val_loss: 10.4779 - val_accuracy: 0.3049\n",
            "Epoch 83/100\n",
            "800/800 [==============================] - 3s 4ms/step - loss: 0.2953 - accuracy: 0.9124 - val_loss: 10.6941 - val_accuracy: 0.2972\n",
            "Epoch 84/100\n",
            "800/800 [==============================] - 3s 4ms/step - loss: 0.2935 - accuracy: 0.9105 - val_loss: 10.8822 - val_accuracy: 0.3032\n",
            "Epoch 85/100\n",
            "800/800 [==============================] - 3s 4ms/step - loss: 0.2924 - accuracy: 0.9136 - val_loss: 10.6323 - val_accuracy: 0.3006\n",
            "Epoch 86/100\n",
            "800/800 [==============================] - 4s 5ms/step - loss: 0.2850 - accuracy: 0.9144 - val_loss: 10.8200 - val_accuracy: 0.2967\n",
            "Epoch 87/100\n",
            "800/800 [==============================] - 4s 5ms/step - loss: 0.2714 - accuracy: 0.9180 - val_loss: 11.2558 - val_accuracy: 0.3015\n",
            "Epoch 88/100\n",
            "800/800 [==============================] - 3s 4ms/step - loss: 0.2743 - accuracy: 0.9165 - val_loss: 10.8870 - val_accuracy: 0.3054\n",
            "Epoch 89/100\n",
            "800/800 [==============================] - 4s 5ms/step - loss: 0.2955 - accuracy: 0.9129 - val_loss: 11.2053 - val_accuracy: 0.3038\n",
            "Epoch 90/100\n",
            "800/800 [==============================] - 3s 4ms/step - loss: 0.2613 - accuracy: 0.9219 - val_loss: 11.1760 - val_accuracy: 0.3028\n",
            "Epoch 91/100\n",
            "800/800 [==============================] - 3s 4ms/step - loss: 0.2853 - accuracy: 0.9165 - val_loss: 11.1694 - val_accuracy: 0.3034\n",
            "Epoch 92/100\n",
            "800/800 [==============================] - 4s 5ms/step - loss: 0.2990 - accuracy: 0.9132 - val_loss: 11.4517 - val_accuracy: 0.2985\n",
            "Epoch 93/100\n",
            "800/800 [==============================] - 3s 4ms/step - loss: 0.2922 - accuracy: 0.9148 - val_loss: 11.1390 - val_accuracy: 0.2982\n",
            "Epoch 94/100\n",
            "800/800 [==============================] - 4s 5ms/step - loss: 0.2714 - accuracy: 0.9189 - val_loss: 11.3496 - val_accuracy: 0.3040\n",
            "Epoch 95/100\n",
            "800/800 [==============================] - 3s 4ms/step - loss: 0.2647 - accuracy: 0.9233 - val_loss: 11.5358 - val_accuracy: 0.2943\n",
            "Epoch 96/100\n",
            "800/800 [==============================] - 3s 4ms/step - loss: 0.3219 - accuracy: 0.9073 - val_loss: 11.3736 - val_accuracy: 0.3000\n",
            "Epoch 97/100\n",
            "800/800 [==============================] - 4s 5ms/step - loss: 0.2744 - accuracy: 0.9204 - val_loss: 11.4617 - val_accuracy: 0.3011\n",
            "Epoch 98/100\n",
            "800/800 [==============================] - 4s 5ms/step - loss: 0.2535 - accuracy: 0.9248 - val_loss: 11.4754 - val_accuracy: 0.2934\n",
            "Epoch 99/100\n",
            "800/800 [==============================] - 3s 4ms/step - loss: 0.2914 - accuracy: 0.9151 - val_loss: 11.6896 - val_accuracy: 0.3009\n",
            "Epoch 100/100\n",
            "800/800 [==============================] - 3s 4ms/step - loss: 0.3021 - accuracy: 0.9149 - val_loss: 11.7094 - val_accuracy: 0.2994\n",
            "313/313 [==============================] - 1s 3ms/step - loss: 11.5094 - accuracy: 0.3014\n",
            "Test accuracy: 0.30140000581741333\n"
          ]
        }
      ]
    },
    {
      "cell_type": "code",
      "source": [
        "# Ejecutamos el entrenamiento con el validation_split explicitado anteriormente\n",
        "\n"
      ],
      "metadata": {
        "id": "SQMB2DMRCkcw"
      },
      "execution_count": 10,
      "outputs": []
    },
    {
      "cell_type": "code",
      "source": [
        "# Generamos las métricas de generalización\n",
        "score = model.evaluate(train_images, train_labels, verbose=0)\n",
        "print(f'Test loss: {score[0]} / Test accuracy: {score[1]}')\n",
        "\n",
        "# Visualizamos history\n",
        "# Pintamos history: Pérdida\n",
        "plt.plot(history.history['val_loss'])\n",
        "plt.title('Validation loss history')\n",
        "plt.ylabel('Loss value')\n",
        "plt.xlabel('No. epoch')\n",
        "plt.show()\n",
        "\n",
        "# Pintamos history: Precisión\n",
        "plt.plot(history.history['val_accuracy'])\n",
        "plt.title('Validation accuracy history')\n",
        "plt.ylabel('Accuracy value (%)')\n",
        "plt.xlabel('No. epoch')\n",
        "plt.show()"
      ],
      "metadata": {
        "id": "Ib6jlUAllODh",
        "colab": {
          "base_uri": "https://localhost:8080/",
          "height": 591
        },
        "outputId": "dd845802-0c06-4abf-d7e4-6b3e333fa9f9"
      },
      "execution_count": 11,
      "outputs": [
        {
          "output_type": "stream",
          "name": "stdout",
          "text": [
            "Test loss: 2.4945602416992188 / Test accuracy: 0.8137400150299072\n"
          ]
        },
        {
          "output_type": "display_data",
          "data": {
            "text/plain": [
              "<Figure size 432x288 with 1 Axes>"
            ],
            "image/png": "[encoded data removed]"
          },
          "metadata": {
            "needs_background": "light"
          }
        },
        {
          "output_type": "display_data",
          "data": {
            "text/plain": [
              "<Figure size 432x288 with 1 Axes>"
            ],
            "image/png": "[encoded data removed]"
          },
          "metadata": {
            "needs_background": "light"
          }
        }
      ]
    }
  ]
}