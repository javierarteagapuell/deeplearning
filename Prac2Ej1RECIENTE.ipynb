{
  "nbformat": 4,
  "nbformat_minor": 0,
  "metadata": {
    "colab": {
      "provenance": [],
      "include_colab_link": true
    },
    "kernelspec": {
      "name": "python3",
      "display_name": "Python 3"
    },
    "language_info": {
      "name": "python"
    }
  },
  "cells": [
    {
      "cell_type": "markdown",
      "metadata": {
        "id": "view-in-github",
        "colab_type": "text"
      },
      "source": [
        "<a href=\"https://colab.research.google.com/github/javierarteagapuell/deeplearning/blob/main/Prac2Ej1RECIENTE.ipynb\" target=\"_parent\"><img src=\"https://colab.research.google.com/assets/colab-badge.svg\" alt=\"Open In Colab\"/></a>"
      ]
    },
    {
      "cell_type": "markdown",
      "source": [
        "# Funcionamiento de las LIBRERIAS mlxtend o apyori"
      ],
      "metadata": {
        "id": "5LlBpXd2yhHC"
      }
    },
    {
      "cell_type": "code",
      "source": [
        "import numpy as np\n",
        "import pandas as pd\n",
        "import matplotlib.pyplot as plt\n",
        "from sklearn import datasets\n",
        "\n",
        "from mlxtend.frequent_patterns import apriori, association_rules\n",
        "\n",
        "#pip install mlxtend  "
      ],
      "metadata": {
        "id": "Rt81YtPQyGrH"
      },
      "execution_count": 1,
      "outputs": []
    },
    {
      "cell_type": "code",
      "source": [
        "data = pd.read_csv('BlackFriday.csv', encoding='UTF-8')\n",
        "data.head()\n"
      ],
      "metadata": {
        "colab": {
          "base_uri": "https://localhost:8080/",
          "height": 360
        },
        "id": "ZMwQHeXs3wI8",
        "outputId": "2fe56062-1300-4ed2-a33c-d401f581b230"
      },
      "execution_count": 2,
      "outputs": [
        {
          "output_type": "error",
          "ename": "FileNotFoundError",
          "evalue": "ignored",
          "traceback": [
            "\u001b[0;31m---------------------------------------------------------------------------\u001b[0m",
            "\u001b[0;31mFileNotFoundError\u001b[0m                         Traceback (most recent call last)",
            "\u001b[0;32m<ipython-input-2-749d049699ac>\u001b[0m in \u001b[0;36m<module>\u001b[0;34m\u001b[0m\n\u001b[0;32m----> 1\u001b[0;31m \u001b[0mdata\u001b[0m \u001b[0;34m=\u001b[0m \u001b[0mpd\u001b[0m\u001b[0;34m.\u001b[0m\u001b[0mread_csv\u001b[0m\u001b[0;34m(\u001b[0m\u001b[0;34m'BlackFriday.csv'\u001b[0m\u001b[0;34m,\u001b[0m \u001b[0mencoding\u001b[0m\u001b[0;34m=\u001b[0m\u001b[0;34m'UTF-8'\u001b[0m\u001b[0;34m)\u001b[0m\u001b[0;34m\u001b[0m\u001b[0;34m\u001b[0m\u001b[0m\n\u001b[0m\u001b[1;32m      2\u001b[0m \u001b[0mdata\u001b[0m\u001b[0;34m.\u001b[0m\u001b[0mhead\u001b[0m\u001b[0;34m(\u001b[0m\u001b[0;34m)\u001b[0m\u001b[0;34m\u001b[0m\u001b[0;34m\u001b[0m\u001b[0m\n",
            "\u001b[0;32m/usr/local/lib/python3.9/dist-packages/pandas/util/_decorators.py\u001b[0m in \u001b[0;36mwrapper\u001b[0;34m(*args, **kwargs)\u001b[0m\n\u001b[1;32m    309\u001b[0m                     \u001b[0mstacklevel\u001b[0m\u001b[0;34m=\u001b[0m\u001b[0mstacklevel\u001b[0m\u001b[0;34m,\u001b[0m\u001b[0;34m\u001b[0m\u001b[0;34m\u001b[0m\u001b[0m\n\u001b[1;32m    310\u001b[0m                 )\n\u001b[0;32m--> 311\u001b[0;31m             \u001b[0;32mreturn\u001b[0m \u001b[0mfunc\u001b[0m\u001b[0;34m(\u001b[0m\u001b[0;34m*\u001b[0m\u001b[0margs\u001b[0m\u001b[0;34m,\u001b[0m \u001b[0;34m**\u001b[0m\u001b[0mkwargs\u001b[0m\u001b[0;34m)\u001b[0m\u001b[0;34m\u001b[0m\u001b[0;34m\u001b[0m\u001b[0m\n\u001b[0m\u001b[1;32m    312\u001b[0m \u001b[0;34m\u001b[0m\u001b[0m\n\u001b[1;32m    313\u001b[0m         \u001b[0;32mreturn\u001b[0m \u001b[0mwrapper\u001b[0m\u001b[0;34m\u001b[0m\u001b[0;34m\u001b[0m\u001b[0m\n",
            "\u001b[0;32m/usr/local/lib/python3.9/dist-packages/pandas/io/parsers/readers.py\u001b[0m in \u001b[0;36mread_csv\u001b[0;34m(filepath_or_buffer, sep, delimiter, header, names, index_col, usecols, squeeze, prefix, mangle_dupe_cols, dtype, engine, converters, true_values, false_values, skipinitialspace, skiprows, skipfooter, nrows, na_values, keep_default_na, na_filter, verbose, skip_blank_lines, parse_dates, infer_datetime_format, keep_date_col, date_parser, dayfirst, cache_dates, iterator, chunksize, compression, thousands, decimal, lineterminator, quotechar, quoting, doublequote, escapechar, comment, encoding, encoding_errors, dialect, error_bad_lines, warn_bad_lines, on_bad_lines, delim_whitespace, low_memory, memory_map, float_precision, storage_options)\u001b[0m\n\u001b[1;32m    676\u001b[0m     \u001b[0mkwds\u001b[0m\u001b[0;34m.\u001b[0m\u001b[0mupdate\u001b[0m\u001b[0;34m(\u001b[0m\u001b[0mkwds_defaults\u001b[0m\u001b[0;34m)\u001b[0m\u001b[0;34m\u001b[0m\u001b[0;34m\u001b[0m\u001b[0m\n\u001b[1;32m    677\u001b[0m \u001b[0;34m\u001b[0m\u001b[0m\n\u001b[0;32m--> 678\u001b[0;31m     \u001b[0;32mreturn\u001b[0m \u001b[0m_read\u001b[0m\u001b[0;34m(\u001b[0m\u001b[0mfilepath_or_buffer\u001b[0m\u001b[0;34m,\u001b[0m \u001b[0mkwds\u001b[0m\u001b[0;34m)\u001b[0m\u001b[0;34m\u001b[0m\u001b[0;34m\u001b[0m\u001b[0m\n\u001b[0m\u001b[1;32m    679\u001b[0m \u001b[0;34m\u001b[0m\u001b[0m\n\u001b[1;32m    680\u001b[0m \u001b[0;34m\u001b[0m\u001b[0m\n",
            "\u001b[0;32m/usr/local/lib/python3.9/dist-packages/pandas/io/parsers/readers.py\u001b[0m in \u001b[0;36m_read\u001b[0;34m(filepath_or_buffer, kwds)\u001b[0m\n\u001b[1;32m    573\u001b[0m \u001b[0;34m\u001b[0m\u001b[0m\n\u001b[1;32m    574\u001b[0m     \u001b[0;31m# Create the parser.\u001b[0m\u001b[0;34m\u001b[0m\u001b[0;34m\u001b[0m\u001b[0m\n\u001b[0;32m--> 575\u001b[0;31m     \u001b[0mparser\u001b[0m \u001b[0;34m=\u001b[0m \u001b[0mTextFileReader\u001b[0m\u001b[0;34m(\u001b[0m\u001b[0mfilepath_or_buffer\u001b[0m\u001b[0;34m,\u001b[0m \u001b[0;34m**\u001b[0m\u001b[0mkwds\u001b[0m\u001b[0;34m)\u001b[0m\u001b[0;34m\u001b[0m\u001b[0;34m\u001b[0m\u001b[0m\n\u001b[0m\u001b[1;32m    576\u001b[0m \u001b[0;34m\u001b[0m\u001b[0m\n\u001b[1;32m    577\u001b[0m     \u001b[0;32mif\u001b[0m \u001b[0mchunksize\u001b[0m \u001b[0;32mor\u001b[0m \u001b[0miterator\u001b[0m\u001b[0;34m:\u001b[0m\u001b[0;34m\u001b[0m\u001b[0;34m\u001b[0m\u001b[0m\n",
            "\u001b[0;32m/usr/local/lib/python3.9/dist-packages/pandas/io/parsers/readers.py\u001b[0m in \u001b[0;36m__init__\u001b[0;34m(self, f, engine, **kwds)\u001b[0m\n\u001b[1;32m    930\u001b[0m \u001b[0;34m\u001b[0m\u001b[0m\n\u001b[1;32m    931\u001b[0m         \u001b[0mself\u001b[0m\u001b[0;34m.\u001b[0m\u001b[0mhandles\u001b[0m\u001b[0;34m:\u001b[0m \u001b[0mIOHandles\u001b[0m \u001b[0;34m|\u001b[0m \u001b[0;32mNone\u001b[0m \u001b[0;34m=\u001b[0m \u001b[0;32mNone\u001b[0m\u001b[0;34m\u001b[0m\u001b[0;34m\u001b[0m\u001b[0m\n\u001b[0;32m--> 932\u001b[0;31m         \u001b[0mself\u001b[0m\u001b[0;34m.\u001b[0m\u001b[0m_engine\u001b[0m \u001b[0;34m=\u001b[0m \u001b[0mself\u001b[0m\u001b[0;34m.\u001b[0m\u001b[0m_make_engine\u001b[0m\u001b[0;34m(\u001b[0m\u001b[0mf\u001b[0m\u001b[0;34m,\u001b[0m \u001b[0mself\u001b[0m\u001b[0;34m.\u001b[0m\u001b[0mengine\u001b[0m\u001b[0;34m)\u001b[0m\u001b[0;34m\u001b[0m\u001b[0;34m\u001b[0m\u001b[0m\n\u001b[0m\u001b[1;32m    933\u001b[0m \u001b[0;34m\u001b[0m\u001b[0m\n\u001b[1;32m    934\u001b[0m     \u001b[0;32mdef\u001b[0m \u001b[0mclose\u001b[0m\u001b[0;34m(\u001b[0m\u001b[0mself\u001b[0m\u001b[0;34m)\u001b[0m\u001b[0;34m:\u001b[0m\u001b[0;34m\u001b[0m\u001b[0;34m\u001b[0m\u001b[0m\n",
            "\u001b[0;32m/usr/local/lib/python3.9/dist-packages/pandas/io/parsers/readers.py\u001b[0m in \u001b[0;36m_make_engine\u001b[0;34m(self, f, engine)\u001b[0m\n\u001b[1;32m   1214\u001b[0m             \u001b[0;31m# \"Union[str, PathLike[str], ReadCsvBuffer[bytes], ReadCsvBuffer[str]]\"\u001b[0m\u001b[0;34m\u001b[0m\u001b[0;34m\u001b[0m\u001b[0m\n\u001b[1;32m   1215\u001b[0m             \u001b[0;31m# , \"str\", \"bool\", \"Any\", \"Any\", \"Any\", \"Any\", \"Any\"\u001b[0m\u001b[0;34m\u001b[0m\u001b[0;34m\u001b[0m\u001b[0m\n\u001b[0;32m-> 1216\u001b[0;31m             self.handles = get_handle(  # type: ignore[call-overload]\n\u001b[0m\u001b[1;32m   1217\u001b[0m                 \u001b[0mf\u001b[0m\u001b[0;34m,\u001b[0m\u001b[0;34m\u001b[0m\u001b[0;34m\u001b[0m\u001b[0m\n\u001b[1;32m   1218\u001b[0m                 \u001b[0mmode\u001b[0m\u001b[0;34m,\u001b[0m\u001b[0;34m\u001b[0m\u001b[0;34m\u001b[0m\u001b[0m\n",
            "\u001b[0;32m/usr/local/lib/python3.9/dist-packages/pandas/io/common.py\u001b[0m in \u001b[0;36mget_handle\u001b[0;34m(path_or_buf, mode, encoding, compression, memory_map, is_text, errors, storage_options)\u001b[0m\n\u001b[1;32m    784\u001b[0m         \u001b[0;32mif\u001b[0m \u001b[0mioargs\u001b[0m\u001b[0;34m.\u001b[0m\u001b[0mencoding\u001b[0m \u001b[0;32mand\u001b[0m \u001b[0;34m\"b\"\u001b[0m \u001b[0;32mnot\u001b[0m \u001b[0;32min\u001b[0m \u001b[0mioargs\u001b[0m\u001b[0;34m.\u001b[0m\u001b[0mmode\u001b[0m\u001b[0;34m:\u001b[0m\u001b[0;34m\u001b[0m\u001b[0;34m\u001b[0m\u001b[0m\n\u001b[1;32m    785\u001b[0m             \u001b[0;31m# Encoding\u001b[0m\u001b[0;34m\u001b[0m\u001b[0;34m\u001b[0m\u001b[0m\n\u001b[0;32m--> 786\u001b[0;31m             handle = open(\n\u001b[0m\u001b[1;32m    787\u001b[0m                 \u001b[0mhandle\u001b[0m\u001b[0;34m,\u001b[0m\u001b[0;34m\u001b[0m\u001b[0;34m\u001b[0m\u001b[0m\n\u001b[1;32m    788\u001b[0m                 \u001b[0mioargs\u001b[0m\u001b[0;34m.\u001b[0m\u001b[0mmode\u001b[0m\u001b[0;34m,\u001b[0m\u001b[0;34m\u001b[0m\u001b[0;34m\u001b[0m\u001b[0m\n",
            "\u001b[0;31mFileNotFoundError\u001b[0m: [Errno 2] No such file or directory: 'BlackFriday.csv'"
          ]
        }
      ]
    },
    {
      "cell_type": "code",
      "source": [
        "data.columns"
      ],
      "metadata": {
        "id": "fNBThuo14kbd"
      },
      "execution_count": null,
      "outputs": []
    },
    {
      "cell_type": "markdown",
      "source": [
        "Vamos a ver las ocurrencias de datos en las columnas de nuestro dataframe. Obviaremos product ID y user ID ya que los dos son unicos o hay muchos registros distintos de cada valor.\n"
      ],
      "metadata": {
        "id": "QQ5PPYqx3mVH"
      }
    },
    {
      "cell_type": "code",
      "source": [
        "cols_interes= data.columns[2:]\n",
        "for col in cols_interes:\n",
        "    print(f'Valores de la columa {col}: {data[col].unique()}')"
      ],
      "metadata": {
        "id": "8Vezukm73lnr"
      },
      "execution_count": null,
      "outputs": []
    },
    {
      "cell_type": "markdown",
      "source": [
        "Vemos que las columas de Gender y Maritial Status son binarias. Las demas de pueden pasar a categoricas usando la fucnion .get_dummies. Esto lo haremos mas alanete ya que primero hay que comprobar si hay valores repetidos o nulos."
      ],
      "metadata": {
        "id": "qJ8c6vc55DAy"
      }
    },
    {
      "cell_type": "code",
      "source": [
        "data.isnull().values.any() "
      ],
      "metadata": {
        "id": "b24Boari4iUE"
      },
      "execution_count": null,
      "outputs": []
    },
    {
      "cell_type": "markdown",
      "source": [
        "Vemos en que columnas hay NA's"
      ],
      "metadata": {
        "id": "zH2WdB3mN-lr"
      }
    },
    {
      "cell_type": "code",
      "source": [
        "data.isna().sum()  "
      ],
      "metadata": {
        "id": "kXA6d1dBNkgH"
      },
      "execution_count": null,
      "outputs": []
    },
    {
      "cell_type": "markdown",
      "source": [
        "Los valores de NaN aparecen en Product Category. Vamos a comprobar el rango de valores para estas dos categorias."
      ],
      "metadata": {
        "id": "KifAX0FySITb"
      }
    },
    {
      "cell_type": "code",
      "source": [
        "print(data['Product_Category_1'].min(), data['Product_Category_1'].max(), data['Product_Category_1'].mean())"
      ],
      "metadata": {
        "id": "kNF3BI2qQIFB"
      },
      "execution_count": null,
      "outputs": []
    },
    {
      "cell_type": "code",
      "source": [
        "print(data['Product_Category_2'].min(), data['Product_Category_2'].max(), data['Product_Category_2'].mean())\n"
      ],
      "metadata": {
        "id": "ZC-dd7r_RjWk"
      },
      "execution_count": null,
      "outputs": []
    },
    {
      "cell_type": "code",
      "source": [
        "print(data['Product_Category_3'].min(), data['Product_Category_3'].max(), data['Product_Category_3'].mean())"
      ],
      "metadata": {
        "id": "bj1yUTAAR3XV"
      },
      "execution_count": null,
      "outputs": []
    },
    {
      "cell_type": "markdown",
      "source": [
        "Observamos que las dos columnas tienen valores minimos de 2 y 3 respectivamente. Por tanto los valores NaN se pueden igualar a 0 para que asi se contemplen en el analisis de los datos pero no influyan al estudio. "
      ],
      "metadata": {
        "id": "D5xJB1FrSYCb"
      }
    },
    {
      "cell_type": "code",
      "source": [
        "data.fillna(0, inplace=True)"
      ],
      "metadata": {
        "id": "8DOQZ6VxOh6C"
      },
      "execution_count": null,
      "outputs": []
    },
    {
      "cell_type": "markdown",
      "source": [
        "Vemos si hay algún dato duplicado"
      ],
      "metadata": {
        "id": "K6y1V4vGSSSL"
      }
    },
    {
      "cell_type": "code",
      "source": [
        "if any(data.duplicated()):\n",
        "  print(\"Hay datos duplicados\")\n",
        "else:\n",
        "  print(\"No hay datos duplicados\")"
      ],
      "metadata": {
        "id": "4M4fwdekzzD7"
      },
      "execution_count": null,
      "outputs": []
    },
    {
      "cell_type": "markdown",
      "source": [
        "- Prueba al menos tres configuraciones de soporte y frecuencia para cada género, edad y tipo de producto."
      ],
      "metadata": {
        "id": "oPtk1pVpHjde"
      }
    },
    {
      "cell_type": "code",
      "source": [
        "# Variables categoricas a dummy \n",
        "dummy_df = pd.get_dummies(data,columns=['Product_ID','Gender','Age','Occupation','City_Category','Stay_In_Current_City_Years','Marital_Status','Product_Category_1','Product_Category_2','Product_Category_3'])\n",
        "\n",
        "# Concatenamos las variables dummy con el DataFrame original\n",
        "data4 = pd.concat([data, dummy_df], axis=1)\n",
        "\n",
        "# Drop las columnas originales. Ademas Drop de User_ID ya que es unico para cada cliente\n",
        "data4.drop(['User_ID','Product_ID','Gender','Age','Occupation','City_Category','Stay_In_Current_City_Years','Marital_Status','Product_Category_1','Product_Category_2','Product_Category_3'], axis=1, inplace=True)\n",
        "\n",
        "data4\n",
        "\n"
      ],
      "metadata": {
        "id": "qfz6zFwz2wzA"
      },
      "execution_count": null,
      "outputs": []
    },
    {
      "cell_type": "code",
      "source": [
        "print(data4.columns)"
      ],
      "metadata": {
        "id": "LVKX_6msaKoV"
      },
      "execution_count": null,
      "outputs": []
    },
    {
      "cell_type": "markdown",
      "source": [
        "Colocamos los datos de la forma indicada para poder calcular las frecuencias de estos más adelante"
      ],
      "metadata": {
        "id": "1yTwMGy-Sf6I"
      }
    },
    {
      "cell_type": "markdown",
      "source": [
        "# 1) Itemsets frecuentes para k=1"
      ],
      "metadata": {
        "id": "JzW5LCNebLOx"
      }
    },
    {
      "cell_type": "markdown",
      "source": [
        "Para hallar esto necesitamos calcular el soporte y las frecuencias de estos itemsets"
      ],
      "metadata": {
        "id": "HMaRpY_mhweb"
      }
    },
    {
      "cell_type": "markdown",
      "source": [
        "IR VARIANDO EL MIN_SUPPORT HASTA QUE SALE UN NÚMERO DE REGLAS RAZONABLE"
      ],
      "metadata": {
        "id": "zmSCb6P4z0NR"
      }
    },
    {
      "cell_type": "code",
      "source": [
        "from mlxtend.frequent_patterns import apriori, association_rules\n",
        "\n",
        "frequent_itemsets = apriori(data4, min_support=0.2, use_colnames=True)\n",
        "frequent_itemsets_k1 =frequent_itemsets[frequent_itemsets['itemsets'].apply(lambda x: len(x) == 1)]\n",
        "frequent_itemsets_k1_sort = frequent_itemsets_k1.sort_values(by=['support'], ascending=False)\n",
        "\n",
        "frequent=frequent_itemsets_k1_sort.support*len(data4)\n",
        "frequent_itemsets_k1_sort['frecuencia'] =frequent\n",
        "frequent_itemsets_k1_sort"
      ],
      "metadata": {
        "id": "k3-bJvTBw4le"
      },
      "execution_count": null,
      "outputs": []
    },
    {
      "cell_type": "markdown",
      "source": [
        "COMPRUEBAMOS QUE LOS VALORES SON LOS CORRESTOS\n",
        "\n",
        "SupportMale=len(Gender)/Male\n",
        "\n"
      ],
      "metadata": {
        "id": "RqbAGAxiZiz5"
      }
    },
    {
      "cell_type": "code",
      "source": [
        "SupportMale=sum(data4.Gender_M==True)/len(data4.Gender_M+data4.Gender_F)\n",
        "print(SupportMale)"
      ],
      "metadata": {
        "id": "day_BbcWZUYb"
      },
      "execution_count": null,
      "outputs": []
    },
    {
      "cell_type": "markdown",
      "source": [
        "Vamos que es correcto"
      ],
      "metadata": {
        "id": "B4MO_sVuJ594"
      }
    },
    {
      "cell_type": "markdown",
      "source": [
        "# 2) Itemsets frecuentes para k≥2."
      ],
      "metadata": {
        "id": "yFmoHTL6atkl"
      }
    },
    {
      "cell_type": "markdown",
      "source": [
        "## a. Mostrar los itemset frecuentes candidatos y su soporte."
      ],
      "metadata": {
        "id": "v_FGqWznirUq"
      }
    },
    {
      "cell_type": "code",
      "source": [
        "frequent_itemsets_k2 =frequent_itemsets[frequent_itemsets['itemsets'].apply(lambda x: len(x) == 2)]\n",
        "frequent_itemsets_k2_sort = frequent_itemsets_k2.sort_values(by=['support'], ascending=False)\n",
        "frequent=frequent_itemsets_k2_sort.support*len(data4)\n",
        "frequent_itemsets_k2_sort['frecuenciak2'] =frequent\n",
        "frequent_itemsets_k2_sort"
      ],
      "metadata": {
        "id": "_aW5alB8zedh"
      },
      "execution_count": null,
      "outputs": []
    },
    {
      "cell_type": "markdown",
      "source": [
        "# 3) Repetir el proceso 2 hasta que no se generen nuevos itemsets frecuentes."
      ],
      "metadata": {
        "id": "4MrgtzBYai2K"
      }
    },
    {
      "cell_type": "code",
      "source": [
        "frequent_itemsets_k3 = frequent_itemsets[frequent_itemsets['itemsets'].apply(lambda x: len(x) == 3)]\n",
        "frequent_itemsets_k3_sort = frequent_itemsets_k3.sort_values(by=['support'], ascending=False)\n",
        "\n",
        "frequent=frequent_itemsets_k3_sort.support*len(data4)\n",
        "frequent_itemsets_k3_sort['frecuenciak3'] =frequent\n",
        "\n",
        "frequent_itemsets_k3_sort"
      ],
      "metadata": {
        "id": "eTgXS013eVFq"
      },
      "execution_count": null,
      "outputs": []
    },
    {
      "cell_type": "code",
      "source": [
        "frequent_itemsets_k4 = frequent_itemsets[frequent_itemsets['itemsets'].apply(lambda x: len(x) == 4)]\n",
        "frequent_itemsets_k4_sort = frequent_itemsets_k4.sort_values(by=['support'], ascending=False)\n",
        "\n",
        "frequent=frequent_itemsets_k4_sort.support*len(data4)\n",
        "frequent_itemsets_k4_sort['frecuenciak3'] =frequent\n",
        "\n",
        "frequent_itemsets_k4_sort.head()"
      ],
      "metadata": {
        "id": "wKwgjR0HXNCX"
      },
      "execution_count": null,
      "outputs": []
    },
    {
      "cell_type": "markdown",
      "source": [
        "Observamos que para K=4 no hay mas itemsets que cumplan el requisito de tener un soporte minimo del 20%. "
      ],
      "metadata": {
        "id": "VYx37-eGu7vS"
      }
    },
    {
      "cell_type": "markdown",
      "source": [
        "# 4) Mostrar todas las posibles reglas con la confianza de cada una de ellas."
      ],
      "metadata": {
        "id": "DtDT0ePvRMG9"
      }
    },
    {
      "cell_type": "code",
      "source": [
        "rules = association_rules(frequent_itemsets, metric='confidence',  min_threshold=0)\n",
        "rules"
      ],
      "metadata": {
        "id": "7lRmQhLZgKfc"
      },
      "execution_count": null,
      "outputs": []
    },
    {
      "cell_type": "markdown",
      "source": [
        "# 5) Listar todas las reglas que sean de alta confianza."
      ],
      "metadata": {
        "id": "UTttHoU-RYgW"
      }
    },
    {
      "cell_type": "code",
      "source": [
        "rules = association_rules(frequent_itemsets, metric='confidence',  min_threshold=0.90)\n",
        "rules"
      ],
      "metadata": {
        "id": "LrQtwdolqDNa"
      },
      "execution_count": null,
      "outputs": []
    },
    {
      "cell_type": "markdown",
      "source": [
        "1- SEGÚN SU CONFIANZA"
      ],
      "metadata": {
        "id": "CVSaVhDjc_cg"
      }
    },
    {
      "cell_type": "code",
      "source": [
        "rules_sort = rules.sort_values(by=['confidence'], ascending=False)\n",
        "rules_sort"
      ],
      "metadata": {
        "id": "w7sG75iqxjNk"
      },
      "execution_count": null,
      "outputs": []
    },
    {
      "cell_type": "markdown",
      "source": [
        "# 6) Dado un antecesor, devolver todas las reglas que contengan a dicho antecesor. \n"
      ],
      "metadata": {
        "id": "yEfhKS7AaAPc"
      }
    },
    {
      "cell_type": "code",
      "source": [
        "antereg=rules_sort[rules_sort['antecedents'].apply(lambda x: 'Age_26-35' in x)]\n",
        "antereg"
      ],
      "metadata": {
        "id": "mhu2sSDAtEwu"
      },
      "execution_count": null,
      "outputs": []
    },
    {
      "cell_type": "markdown",
      "source": [
        "ESTO PORQUE LO HACES?"
      ],
      "metadata": {
        "id": "ih0_mp9Uh5aN"
      }
    },
    {
      "cell_type": "code",
      "source": [
        "if any(rules_sort['antecedents']=={'Medio'})>0:\n",
        "  apariciones_antecedente= sum(rules_sort['antecedents'] =={'Medio'})\n",
        "  print(\"Número de veces que está: \", apariciones_antecedente)\n",
        "else:\n",
        "  print(\"NO esta\")"
      ],
      "metadata": {
        "id": "hRZl7qWgtTwk"
      },
      "execution_count": null,
      "outputs": []
    },
    {
      "cell_type": "code",
      "source": [
        "for i in range(len(rules_sort)):\n",
        "  if rules_sort['antecedents'][i] == {'Medio'}:\n",
        "    print(rules_sort.iloc[i])"
      ],
      "metadata": {
        "id": "zViAuTVUwMOd"
      },
      "execution_count": null,
      "outputs": []
    },
    {
      "cell_type": "markdown",
      "source": [
        "## 6.2) Dado un umbral mínimo devolver todas las reglas que cumplan con dicha confianza."
      ],
      "metadata": {
        "id": "YAZe0oECcI8V"
      }
    },
    {
      "cell_type": "code",
      "source": [
        "rules = association_rules(frequent_itemsets, metric='confidence', min_threshold=0.6)\n",
        "rules"
      ],
      "metadata": {
        "id": "C9RRCW_ydzRC"
      },
      "execution_count": null,
      "outputs": []
    },
    {
      "cell_type": "markdown",
      "source": [
        "# 7) Representar gráficamente las reglas obtenidas\n"
      ],
      "metadata": {
        "id": "tTEjhbREcSWZ"
      }
    },
    {
      "cell_type": "markdown",
      "source": [
        "Es interesante analizar las siguientes graficas:\n",
        "\n",
        "Soporte vs. Cantidad de elementos: Con esta grafica podemos representar el soporte de cada conjunto de elementos de diferentes tamaños. Puede ayudar a identificar los conjuntos de elementos más frecuentes y sus tamaños.\n",
        "\n",
        "Confianza vs. soporte: Este gráfico muestra la confianza de las reglas de asociación frente a su soporte. Puede ayudar a identificar las reglas que son de alta calidad y tienen un alto soporte.\n",
        "\n",
        "Lift vs. soporte: Este puede ayudar a identificar las reglas que tienen mayor impacto significativo en la venta de los elementos.\n"
      ],
      "metadata": {
        "id": "UcPECgd-SC-_"
      }
    },
    {
      "cell_type": "code",
      "source": [
        "plt.scatter(frequent_itemsets.support, frequent_itemsets.itemsets.apply(lambda x: len(x)))\n",
        "plt.xlabel('Soporte')\n",
        "plt.ylabel('Cantidad de elementos')\n",
        "plt.show()\n"
      ],
      "metadata": {
        "id": "5TmDLrZH0ZM1"
      },
      "execution_count": null,
      "outputs": []
    },
    {
      "cell_type": "markdown",
      "source": [
        "Con esta grafica de Soporte vs Cantidad de elementos vemos la cantidad de reglas para cada uno de los k de los itemsets y sus respectivos valores de soporte. Se ve que el mejor soporte lo da los k=1."
      ],
      "metadata": {
        "id": "P5k1Q0GO1Oce"
      }
    },
    {
      "cell_type": "code",
      "source": [
        "plt.xlabel('rules.support')\n",
        "plt.ylabel('rules.condidence')\n",
        "plt.scatter(rules.support, rules.confidence)  "
      ],
      "metadata": {
        "id": "JouNKaTQYjCV"
      },
      "execution_count": null,
      "outputs": []
    },
    {
      "cell_type": "code",
      "source": [
        "plt.xlabel('rules.support')\n",
        "plt.ylabel('rules.condidence')\n",
        "plt.plot(rules['lift'],rules['support'], '*')  \n",
        "plt.plot(rules.lift,rules.support,'*')"
      ],
      "metadata": {
        "id": "x-PqBWTJ3lVf"
      },
      "execution_count": null,
      "outputs": []
    },
    {
      "cell_type": "markdown",
      "source": [
        "## 7.1) Obtener conclusiones a partir de estas"
      ],
      "metadata": {
        "id": "mtqmFmXKcrW8"
      }
    },
    {
      "cell_type": "markdown",
      "source": [
        "- Prueba al menos tres configuraciones de soporte y frecuencia para cada género, edad y tipo de producto."
      ],
      "metadata": {
        "id": "u46w4640ZZ5n"
      }
    },
    {
      "cell_type": "code",
      "source": [
        "# lista de variables dummy \n",
        "dummy_vars = list(data4.columns)\n",
        "#Filtramos para genero, edad y tipo de producto\n",
        "age_vars = [var for var in dummy_vars if var.startswith('Age')]\n",
        "age_data = data4[age_vars]\n",
        "gender_vars = [var for var in dummy_vars if var.startswith('Gender')]\n",
        "gender_data = data4[gender_vars]\n",
        "pc1_vars = [var for var in dummy_vars if var.startswith('Product_Category_1')]\n",
        "pc1_data = data4[pc1_vars]\n",
        "pc2_vars = [var for var in dummy_vars if var.startswith('Product_Category_2')]\n",
        "pc2_data = data4[pc2_vars]\n",
        "pc3_vars = [var for var in dummy_vars if var.startswith('Product_Category_3')]\n",
        "pc3_data = data4[pc3_vars]"
      ],
      "metadata": {
        "id": "--VTITrtgE20"
      },
      "execution_count": null,
      "outputs": []
    },
    {
      "cell_type": "code",
      "source": [
        "dataq1 = pd.concat([age_data, gender_data, pc1_data, pc2_data, pc3_data], axis = 1)\n",
        "frq_items_q1 = apriori(dataq1, min_support = 0.3, use_colnames = True)\n"
      ],
      "metadata": {
        "id": "1WHlIik3ZaGm"
      },
      "execution_count": null,
      "outputs": []
    },
    {
      "cell_type": "code",
      "source": [
        "frq_items_q1_25 = frq_items_q1[frq_items_q1[\"support\"].apply(lambda x: 0.25 <= x)]\n",
        "frq_items_q1_50 = frq_items_q1[frq_items_q1[\"support\"].apply(lambda x: 0.50 <= x)]\n",
        "frq_items_q1_75 = frq_items_q1[frq_items_q1[\"support\"].apply(lambda x: 0.75 <= x)]"
      ],
      "metadata": {
        "id": "ODHFLkyef8fT"
      },
      "execution_count": null,
      "outputs": []
    },
    {
      "cell_type": "code",
      "source": [
        "frq_items_q1_25"
      ],
      "metadata": {
        "id": "D379FSV8tOja"
      },
      "execution_count": null,
      "outputs": []
    },
    {
      "cell_type": "code",
      "source": [
        "frq_items_q1_50"
      ],
      "metadata": {
        "id": "kbhaSvOFtPo3"
      },
      "execution_count": null,
      "outputs": []
    },
    {
      "cell_type": "code",
      "source": [
        "frq_items_q1_75"
      ],
      "metadata": {
        "id": "YI0YIg_7tPsS"
      },
      "execution_count": null,
      "outputs": []
    },
    {
      "cell_type": "markdown",
      "source": [
        "¿Qué tipo reglas desaparecen según la configuración y categorías (género, edad y tipo de producto)\n",
        "consideradas? ¿Por qué?"
      ],
      "metadata": {
        "id": "L_x9meTy4s6T"
      }
    },
    {
      "cell_type": "code",
      "source": [
        "rules_25 = association_rules(frq_items_q1_25, metric = 'confidence', min_threshold=0.51)\n",
        "rules_25"
      ],
      "metadata": {
        "id": "JmebiAFg4vKO"
      },
      "execution_count": null,
      "outputs": []
    },
    {
      "cell_type": "code",
      "source": [
        "rules_50 = association_rules(frq_items_q1_50, metric = 'confidence', min_threshold=0.51)\n",
        "rules_50"
      ],
      "metadata": {
        "id": "THjZwoSM45m5"
      },
      "execution_count": null,
      "outputs": []
    },
    {
      "cell_type": "code",
      "source": [
        "rules_75 = association_rules(frq_items_q1_75, metric = 'confidence', min_threshold=0.51)\n",
        "rules_75"
      ],
      "metadata": {
        "id": "f39t2xq249rv"
      },
      "execution_count": null,
      "outputs": []
    },
    {
      "cell_type": "markdown",
      "source": [
        "Para una de las configuraciones, interpreta algunas de las reglas que te hayan resultado interesantes\n",
        "obtenidas usando la clase association_rules y un par de configuraciones cambiando la variable metric y\n",
        "min_threshold. Justifica los resultados"
      ],
      "metadata": {
        "id": "gYILDGgd5VPv"
      }
    },
    {
      "cell_type": "code",
      "source": [
        "rules_25_lift = association_rules(frq_items_q1_25, metric = 'lift', min_threshold=0.51)\n",
        "rules_25_lift"
      ],
      "metadata": {
        "id": "bha3W0fZ5VZc"
      },
      "execution_count": null,
      "outputs": []
    },
    {
      "cell_type": "code",
      "source": [
        "rules_25_conviction = association_rules(frq_items_q1_25, metric = 'conviction', min_threshold=0.51)\n",
        "rules_25_conviction"
      ],
      "metadata": {
        "id": "dRUrdGo25r3l"
      },
      "execution_count": null,
      "outputs": []
    },
    {
      "cell_type": "code",
      "source": [
        "rules_maximales = rules [max(rules)]\n",
        "rules_maximales.head()"
      ],
      "metadata": {
        "id": "7qgYpf6w4x_9"
      },
      "execution_count": null,
      "outputs": []
    },
    {
      "cell_type": "markdown",
      "source": [
        "2- SEGÚN SU LIFT"
      ],
      "metadata": {
        "id": "ROJKcdIXxzFL"
      }
    },
    {
      "cell_type": "code",
      "source": [
        "rules = association_rules(frequent_itemsets, metric='lift', min_threshold=0.8)\n",
        "rules_sort = rules.sort_values(by=['lift'], ascending=False)\n",
        "rules_sort.head()"
      ],
      "metadata": {
        "id": "DWnzDfagmYVj"
      },
      "execution_count": null,
      "outputs": []
    },
    {
      "cell_type": "code",
      "source": [
        "rules_maximales = rules [max(rules)]\n",
        "rules_maximales.head()"
      ],
      "metadata": {
        "id": "-qHV_s1Y1ndR"
      },
      "execution_count": null,
      "outputs": []
    },
    {
      "cell_type": "markdown",
      "source": [
        "DECIR QUE REGLAS DESAPARECEN DEPENDIENDO DE LAS COMBINACIONES DE CONFIGURACIÓN Y CATEGORÍAS QUE TOMAMOS\n",
        "\n",
        "EJ 1: HOMBRE POSTUNI TIPO PRODUCTO 2 + LIFT \n",
        "\n",
        "EJ 2: MUJER JUBI TIPO PRODUCTO 1 + CONFIANCE"
      ],
      "metadata": {
        "id": "ADMQ8yqLl-uH"
      }
    },
    {
      "cell_type": "markdown",
      "source": [
        "-   Para   una   de   las   configuraciones,   interpreta   algunas   de   las   reglas\n",
        "  que   \n",
        "  te   hayan   resultado   interesantes\n",
        "obtenidas   usando   la   clase  association_rules  y   \n",
        "un   par   de   configuraciones   cambiando   la   variable  metric  y\n",
        "min_threshold.  \n",
        "Justifica los resultados. (1 punto)"
      ],
      "metadata": {
        "id": "Ber1eSlG4g3F"
      }
    },
    {
      "cell_type": "code",
      "source": [
        "rules = association_rules(frequent_itemsets, metric='lift', min_threshold=0.4)\n",
        "rules_sort = rules.sort_values(by=['lift'], ascending=False)\n",
        "rules_sort.head()"
      ],
      "metadata": {
        "id": "4NHpj703-y4t"
      },
      "execution_count": null,
      "outputs": []
    },
    {
      "cell_type": "code",
      "source": [
        "any(rules.duplicated())"
      ],
      "metadata": {
        "id": "EgpkvpwP338z"
      },
      "execution_count": null,
      "outputs": []
    },
    {
      "cell_type": "markdown",
      "source": [
        "- Dadas las mejores configuraciones. ¿Existen reglas o patrones que se repitan? ¿Podemos generalizar  de\n",
        "alguna manera como se comportan los clientes? Expón las conclusiones respaldadas con datos (1 punto)"
      ],
      "metadata": {
        "id": "V7L_pEXRR8Yv"
      }
    },
    {
      "cell_type": "code",
      "source": [
        "plt.xlabel('rules.support')\n",
        "plt.ylabel('rules.condidence')\n",
        "plt.plot(rules.support, rules.confidence, '*')  "
      ],
      "metadata": {
        "id": "pG1_vU163jC2"
      },
      "execution_count": null,
      "outputs": []
    },
    {
      "cell_type": "markdown",
      "source": [
        "#Se Pide:"
      ],
      "metadata": {
        "id": "zjD1XxHYgwXh"
      }
    },
    {
      "cell_type": "markdown",
      "source": [
        "A partir de lo anterior se pide:"
      ],
      "metadata": {
        "id": "JPkUyBrlTfWE"
      }
    },
    {
      "cell_type": "markdown",
      "source": [
        "- Prueba al menos tres configuraciones de soporte y frecuencia para cada género, edad y tipo de producto.\n",
        "(1 punto)"
      ],
      "metadata": {
        "id": "ZfTZJOw6An9D"
      }
    },
    {
      "cell_type": "markdown",
      "source": [
        "- ¿Qué diferencias hay entre usar soporte y frecuencia? Respalda la respuesta con datos"
      ],
      "metadata": {
        "id": "kYqd7ljv09xV"
      }
    },
    {
      "cell_type": "markdown",
      "source": [
        "-   ¿Qué   tipo   reglas   desaparecen   según   la   configuración   y   categorías   ( género,   edad   y   tipo   de   producto)\n",
        "consideradas? ¿Por qué? (1 punto)"
      ],
      "metadata": {
        "id": "0UuqR9ggxuoB"
      }
    },
    {
      "cell_type": "markdown",
      "source": [
        "2 TIPOS DE CLASIFICAR REGLAS SEGÚN SU CONFIGURACIÓN:\n",
        "\n",
        "1- SEGÚN SU CONFIANZA\n",
        "\n",
        "CONFIZANZA= SOPORTE(1) / SOPORTE(1,2)\n",
        "\n",
        "2- SEGÚN SU LIFT\n",
        "\n",
        "LIFT = CONFIANZA / SOPORTE\n",
        "\n",
        "3 TIPOS DE CLASIFICAR REGLAS SEGÚN SU CATEGORÍA:\n",
        "\n",
        "1- GÉNERO 2- EDAD 3- TIPO DE PRODUCTO"
      ],
      "metadata": {
        "id": "WOlpGerBiZEs"
      }
    },
    {
      "cell_type": "markdown",
      "source": [
        "-   Para   una   de   las   configuraciones,   interpreta   algunas   de   las   reglas   que   te   hayan   resultado   interesantes\n",
        "obtenidas   usando   la   clase  association_rules  y   un   par   de   configuraciones   cambiando   la   variable  metric  y\n",
        "min_threshold. Justifica los resultados. (1 punto)"
      ],
      "metadata": {
        "id": "eZWC4cwShgrO"
      }
    },
    {
      "cell_type": "markdown",
      "source": [
        "- Dadas las mejores configuraciones. ¿Existen reglas o patrones que se repitan? ¿Podemos generalizar  de\n",
        "alguna manera como se comportan los clientes? Expón las conclusiones respaldadas con datos (1 punto)"
      ],
      "metadata": {
        "id": "CTBLBt6-hepk"
      }
    }
  ]
}