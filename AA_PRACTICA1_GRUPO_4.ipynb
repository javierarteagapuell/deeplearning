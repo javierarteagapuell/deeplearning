{
  "nbformat": 4,
  "nbformat_minor": 0,
  "metadata": {
    "colab": {
      "provenance": [],
      "collapsed_sections": [
        "pzs-25Bvw50W",
        "IiqUjYKEl4G0",
        "l5GNinIhnd2a"
      ],
      "toc_visible": true,
      "include_colab_link": true
    },
    "kernelspec": {
      "name": "python3",
      "display_name": "Python 3"
    },
    "language_info": {
      "name": "python"
    },
    "accelerator": "TPU",
    "gpuClass": "standard"
  },
  "cells": [
    {
      "cell_type": "markdown",
      "metadata": {
        "id": "view-in-github",
        "colab_type": "text"
      },
      "source": [
        "<a href=\"https://colab.research.google.com/github/javierarteagapuell/deeplearning/blob/main/AA_PRACTICA1_GRUPO_4.ipynb\" target=\"_parent\"><img src=\"https://colab.research.google.com/assets/colab-badge.svg\" alt=\"Open In Colab\"/></a>"
      ]
    },
    {
      "cell_type": "markdown",
      "source": [
        "# AA_PRACTICA1_GRUPO_4\n",
        "\n",
        "Daniel Alonso\n",
        "\n",
        "Javier Arteaga\n",
        "\n",
        "Marina Garrido\n",
        "\n",
        "Elena González"
      ],
      "metadata": {
        "id": "E5GHvTYcZxIJ"
      }
    },
    {
      "cell_type": "markdown",
      "source": [
        "### Importar librerías"
      ],
      "metadata": {
        "id": "qHJD9Fh5qcuW"
      }
    },
    {
      "cell_type": "code",
      "execution_count": null,
      "metadata": {
        "id": "Kj0gniXK4uEd",
        "colab": {
          "base_uri": "https://localhost:8080/"
        },
        "outputId": "4fa37a9e-ece3-40c3-9cbd-de35d7657cf6"
      },
      "outputs": [
        {
          "output_type": "stream",
          "name": "stdout",
          "text": [
            "Colab only includes TensorFlow 2.x; %tensorflow_version has no effect.\n",
            "2.9.0\n",
            "GPU Available: []\n",
            "2.9.2\n"
          ]
        }
      ],
      "source": [
        "%tensorflow_version 2.x\n",
        "import tensorflow\n",
        "from tensorflow import keras\n",
        "from tensorflow.keras import layers\n",
        "import numpy as np\n",
        "print(tensorflow.keras.__version__)\n",
        "print('GPU Available:', tensorflow.config.list_physical_devices('GPU'))\n",
        "print(tensorflow.__version__)"
      ]
    },
    {
      "cell_type": "code",
      "source": [
        "from keras.datasets import fashion_mnist \n",
        "from keras.utils.np_utils import to_categorical\n",
        "from keras import models\n",
        "from keras import layers\n",
        "from keras import optimizers\n",
        "from keras import losses\n",
        "from keras.layers.core import Flatten\n",
        "from keras import metrics\n",
        "import matplotlib.pyplot as plt\n",
        "from collections import Counter\n",
        "from sklearn.metrics import confusion_matrix\n",
        "import itertools\n",
        "import numpy as np"
      ],
      "metadata": {
        "id": "yCls260ob3Xo"
      },
      "execution_count": null,
      "outputs": []
    },
    {
      "cell_type": "markdown",
      "source": [
        "## Cargar los datos"
      ],
      "metadata": {
        "id": "AB--zOzNbD_i"
      }
    },
    {
      "cell_type": "markdown",
      "source": [
        "Cargar los datos de Fashion MNIST en Keras. \n",
        "\n",
        "Hay 60K imágenes para entrenar la red y 10K para evaluar la precisión de clasificación.\n"
      ],
      "metadata": {
        "id": "PtM5VECf5oDf"
      }
    },
    {
      "cell_type": "code",
      "source": [
        "(train_data, train_labels), (test_data, test_labels) = fashion_mnist.load_data()\n",
        "print('Imágenes de entrenamiento:', train_data.shape)\n",
        "print('Imágenes de test:', test_data.shape)"
      ],
      "metadata": {
        "id": "ceq8WM5X5pe2",
        "colab": {
          "base_uri": "https://localhost:8080/"
        },
        "outputId": "a159ac9f-aff5-4ef9-c58f-351e31e4abcb"
      },
      "execution_count": null,
      "outputs": [
        {
          "output_type": "stream",
          "name": "stdout",
          "text": [
            "Imágenes de entrenamiento: (60000, 28, 28)\n",
            "Imágenes de test: (10000, 28, 28)\n"
          ]
        }
      ]
    },
    {
      "cell_type": "markdown",
      "source": [
        "Los datos tienen forma de 60K y 10K matrices (imágenes), respectivamente, de 28 filas x 28 columnas = 784 (píxeles).\n",
        "\n",
        "Se modifica la forma de los datos a 60K y 10K matrices, respectivamente, de matrices 28x28. Además, se normalizan los datos para facilitar que converja el entrenamiento, ya que el resultado se obtiene en porcentaje de probabilidad (valores entre 0 y 1)."
      ],
      "metadata": {
        "id": "oqUS89i0Rxqp"
      }
    },
    {
      "cell_type": "code",
      "source": [
        "train_data = train_data.reshape((60000, 28 * 28))\n",
        "train_data = train_data.astype('float32') / 255\n",
        "test_data = test_data.reshape((10000, 28 * 28))\n",
        "test_data = test_data.astype('float32') / 255\n",
        "print('Imágenes de entrenamiento:', train_data.shape)\n",
        "print('Imágenes de test:', test_data.shape)"
      ],
      "metadata": {
        "id": "9FhG-daMMP5f",
        "colab": {
          "base_uri": "https://localhost:8080/"
        },
        "outputId": "a4cba419-b12d-4989-a1d9-71d52c1a821b"
      },
      "execution_count": null,
      "outputs": [
        {
          "output_type": "stream",
          "name": "stdout",
          "text": [
            "Imágenes de entrenamiento: (60000, 784)\n",
            "Imágenes de test: (10000, 784)\n"
          ]
        }
      ]
    },
    {
      "cell_type": "markdown",
      "source": [
        "Se codifican las etiquetas de las imágenes de forma que lo pueda procesar la red. Cada etiqueta se convierte en un vector de 10 elementos (número de categorías) en el que el único valor distinto de ```0``` es un ```1``` en la posición de la categoría a la que corresponde."
      ],
      "metadata": {
        "id": "7vPtSQP3MtM4"
      }
    },
    {
      "cell_type": "code",
      "source": [
        "train_labels = to_categorical(train_labels)\n",
        "test_labels = to_categorical(test_labels)"
      ],
      "metadata": {
        "id": "GW3NxRqYQQZ6"
      },
      "execution_count": null,
      "outputs": []
    },
    {
      "cell_type": "markdown",
      "source": [
        "Se seleccionan 10K imágenes de entrenamiento como datos de validación para poder estudiar la precisión de la red frente a nuevos datos."
      ],
      "metadata": {
        "id": "DJSeRVrjVPMa"
      }
    },
    {
      "cell_type": "code",
      "source": [
        "# Datos de validación\n",
        "val_data = train_data[:10000]\n",
        "val_labels = train_labels[:10000]\n",
        "\n",
        "# Datos de entrenamiento\n",
        "train_val_data = train_data[10000:]\n",
        "train_val_labels = train_labels[10000:]\n"
      ],
      "metadata": {
        "id": "VfrSdJ--VV-A"
      },
      "execution_count": null,
      "outputs": []
    },
    {
      "cell_type": "markdown",
      "source": [
        "## Caso 1"
      ],
      "metadata": {
        "id": "2xL3znkukYG3"
      }
    },
    {
      "cell_type": "markdown",
      "source": [
        "### Crear la red de neuronas"
      ],
      "metadata": {
        "id": "pfXNIXfvkYG3"
      }
    },
    {
      "cell_type": "markdown",
      "source": [
        "Se crea la red neuronal con una capa de entrada con 10 neuronas y función de activación ```relu```, y una capa de salida con función de activación ```softmax```."
      ],
      "metadata": {
        "id": "hd2FYxcMkYG3"
      }
    },
    {
      "cell_type": "code",
      "source": [
        "model = models.Sequential()\n",
        "model.add(layers.Dense(10, activation ='relu', name = 'Capa1', input_shape = (28*28,)))\n",
        "model.add(layers.Dense(10, name = 'CapaSalida1', activation = 'softmax'))\n",
        "\n",
        "model.add(Flatten())\n",
        "model.output_shape\n"
      ],
      "metadata": {
        "id": "E2kugFRNkYG3",
        "colab": {
          "base_uri": "https://localhost:8080/"
        },
        "outputId": "450039e1-58b8-4aa4-f69f-490d2a69244f"
      },
      "execution_count": null,
      "outputs": [
        {
          "output_type": "execute_result",
          "data": {
            "text/plain": [
              "(None, 10)"
            ]
          },
          "metadata": {},
          "execution_count": 72
        }
      ]
    },
    {
      "cell_type": "markdown",
      "source": [
        "### Explicar model.summary()\n"
      ],
      "metadata": {
        "id": "V12EvOyAkYG3"
      }
    },
    {
      "cell_type": "markdown",
      "source": [
        "El resumen del modelo indica el número de parámetros de salida de cada capa. Este número es igual al tamaño de los datos de entrada multiplicado por el número de neuronas, y sumando el número de umbrales de activación de la capa.\n",
        "\n",
        "\n",
        "En el caso de la primera capa: 7850 = 784 (tamaño de los datos) x 10 (número de neuronas) + 10 (número de umbrales de activación).\n",
        "\n",
        "En el caso de la segunda capa: 110 = 10 (tamaño de los datos) x 10 (número de neuronas) + 10 (número de umbrales de activación)."
      ],
      "metadata": {
        "id": "fTquOce_kYG3"
      }
    },
    {
      "cell_type": "code",
      "source": [
        "model.summary()\n"
      ],
      "metadata": {
        "colab": {
          "base_uri": "https://localhost:8080/"
        },
        "outputId": "3b5b180a-ac6a-44d0-d120-53a01096cc89",
        "id": "oKDb1F1ukYG4"
      },
      "execution_count": null,
      "outputs": [
        {
          "output_type": "stream",
          "name": "stdout",
          "text": [
            "Model: \"sequential_6\"\n",
            "_________________________________________________________________\n",
            " Layer (type)                Output Shape              Param #   \n",
            "=================================================================\n",
            " Capa1 (Dense)               (None, 10)                7850      \n",
            "                                                                 \n",
            " CapaSalida1 (Dense)         (None, 10)                110       \n",
            "                                                                 \n",
            " flatten_2 (Flatten)         (None, 10)                0         \n",
            "                                                                 \n",
            "=================================================================\n",
            "Total params: 7,960\n",
            "Trainable params: 7,960\n",
            "Non-trainable params: 0\n",
            "_________________________________________________________________\n"
          ]
        }
      ]
    },
    {
      "cell_type": "markdown",
      "source": [
        "Se definen las funciones del optimizador, la pérdida y la métrica."
      ],
      "metadata": {
        "id": "l_mwrJn4kYG4"
      }
    },
    {
      "cell_type": "code",
      "source": [
        "model.compile(optimizer = 'sgd',\n",
        "              loss = 'categorical_crossentropy',\n",
        "              metrics = ['accuracy'])"
      ],
      "metadata": {
        "id": "tLaGWZxgkYG4"
      },
      "execution_count": null,
      "outputs": []
    },
    {
      "cell_type": "markdown",
      "source": [
        "### Entrenar la red"
      ],
      "metadata": {
        "id": "WnhOIJIskYG4"
      }
    },
    {
      "cell_type": "markdown",
      "source": [
        "Para entrenar la red se realizan ```5``` ciclos con lotes de ```128``` imágenes. Se compara con los datos de validación para controlar el sobreentrenamiento. "
      ],
      "metadata": {
        "id": "e2T7D3_JkYG4"
      }
    },
    {
      "cell_type": "code",
      "source": [
        "history = model.fit(train_val_data, train_val_labels,\n",
        "                    epochs = 5,\n",
        "                    batch_size = 128,\n",
        "                    validation_data = (val_data, val_labels))"
      ],
      "metadata": {
        "colab": {
          "base_uri": "https://localhost:8080/"
        },
        "outputId": "fb02c07b-a8b5-4df9-a492-56967fb42bb1",
        "id": "NRSZiSZIkYG4"
      },
      "execution_count": null,
      "outputs": [
        {
          "output_type": "stream",
          "name": "stdout",
          "text": [
            "Epoch 1/5\n",
            "391/391 [==============================] - 2s 3ms/step - loss: 1.8724 - accuracy: 0.3568 - val_loss: 1.4650 - val_accuracy: 0.5438\n",
            "Epoch 2/5\n",
            "391/391 [==============================] - 1s 3ms/step - loss: 1.1055 - accuracy: 0.6639 - val_loss: 0.8869 - val_accuracy: 0.7317\n",
            "Epoch 3/5\n",
            "391/391 [==============================] - 1s 3ms/step - loss: 0.8020 - accuracy: 0.7444 - val_loss: 0.7354 - val_accuracy: 0.7601\n",
            "Epoch 4/5\n",
            "391/391 [==============================] - 1s 3ms/step - loss: 0.7022 - accuracy: 0.7692 - val_loss: 0.6692 - val_accuracy: 0.7790\n",
            "Epoch 5/5\n",
            "391/391 [==============================] - 1s 3ms/step - loss: 0.6475 - accuracy: 0.7883 - val_loss: 0.6291 - val_accuracy: 0.7926\n"
          ]
        }
      ]
    },
    {
      "cell_type": "markdown",
      "source": [
        "La pérdida indica el porcentaje de errores entre las etiquetas y las predicciones del modelo.\n",
        "\n",
        "La precisión indica el porcentaje de aciertos entre las predicciones y las etiquetas."
      ],
      "metadata": {
        "id": "zJ9bW9YKkYG4"
      }
    },
    {
      "cell_type": "code",
      "source": [
        "test_loss, test_acc = model.evaluate(test_data, test_labels)"
      ],
      "metadata": {
        "colab": {
          "base_uri": "https://localhost:8080/"
        },
        "outputId": "5cac9e00-635e-4dc0-f5a8-65ac45447ef7",
        "id": "KFffdFRxkYG4"
      },
      "execution_count": null,
      "outputs": [
        {
          "output_type": "stream",
          "name": "stdout",
          "text": [
            "313/313 [==============================] - 1s 2ms/step - loss: 0.6463 - accuracy: 0.7808\n"
          ]
        }
      ]
    },
    {
      "cell_type": "code",
      "source": [
        "import matplotlib.pyplot as plt\n",
        "\n",
        "acc = history.history['accuracy']\n",
        "val_acc = history.history['val_accuracy']\n",
        "loss = history.history['loss']\n",
        "val_loss = history.history['val_loss']\n",
        "\n",
        "epochs = range(1, len(acc) + 1)\n",
        "\n",
        "# \"bo\" es para \"punto azun\"\n",
        "plt.plot(epochs, loss, 'bo', label='Pérdida de Entrenamiento')\n",
        "# \"b\" es para \"linea continua azul\"\n",
        "plt.plot(epochs, val_loss, 'b', label='Pérdida de Validación')\n",
        "plt.title('Pérdida de Entrenamiento y Validación')\n",
        "plt.xlabel('Epochs')\n",
        "plt.ylabel('Loss')\n",
        "plt.legend()\n",
        "\n",
        "plt.show()"
      ],
      "metadata": {
        "id": "MdWqzr6vxoFh",
        "outputId": "6b28bdef-6764-4a50-90ac-37daabcc5ea8",
        "colab": {
          "base_uri": "https://localhost:8080/",
          "height": 295
        }
      },
      "execution_count": null,
      "outputs": [
        {
          "output_type": "display_data",
          "data": {
            "text/plain": [
              "<Figure size 432x288 with 1 Axes>"
            ],
            "image/png": "[encoded data removed]"
          },
          "metadata": {
            "needs_background": "light"
          }
        }
      ]
    },
    {
      "cell_type": "markdown",
      "source": [
        "### Predecir valores"
      ],
      "metadata": {
        "id": "r0wt2CTDkYG4"
      }
    },
    {
      "cell_type": "markdown",
      "source": [
        "Imprimir la matriz de confusión, que muestra los valores predichos frente a los reales."
      ],
      "metadata": {
        "id": "4MzquXO2kYG5"
      }
    },
    {
      "cell_type": "code",
      "source": [
        "# Note, this code is taken straight from the SKLEARN website, an nice way of \n",
        "# viewing confusion matrix.\n",
        "def plot_confusion_matrix(cm, classes,\n",
        "                          normalize = False,\n",
        "                          title = 'Confusion matrix',\n",
        "                          cmap = plt.cm.Blues):\n",
        "    '''\n",
        "    This function prints and plots the confusion matrix.\n",
        "    Normalization can be applied by setting `normalize = True`.\n",
        "    '''\n",
        "    plt.imshow(cm, interpolation = 'nearest', cmap = cmap)\n",
        "    plt.title(title)\n",
        "    plt.colorbar()\n",
        "    tick_marks = np.arange(len(classes))\n",
        "    plt.xticks(tick_marks, classes, rotation = 45)\n",
        "    plt.yticks(tick_marks, classes)\n",
        "\n",
        "    if normalize:\n",
        "        cm = cm.astype('float') / cm.sum(axis = 1)[:, np.newaxis]\n",
        "\n",
        "    thresh = cm.max() / 2.\n",
        "    for i, j in itertools.product(range(cm.shape[0]), range(cm.shape[1])):\n",
        "        plt.text(j, i, cm[i, j],\n",
        "                 horizontalalignment = 'center',\n",
        "                 color = 'white' if cm[i, j] > thresh else 'black')\n",
        "\n",
        "    plt.tight_layout()\n",
        "    plt.ylabel('Observación')\n",
        "    plt.xlabel('Predicción')"
      ],
      "metadata": {
        "id": "76b0Ovx5kYG5"
      },
      "execution_count": null,
      "outputs": []
    },
    {
      "cell_type": "code",
      "source": [
        "Y_pred = model.predict(test_data)\n",
        "print('Valores de predicción del modelo')\n",
        "# Convertir en predicciones de clases desde los vectores one-hot encoding \n",
        "Y_pred_classes = np.argmax(Y_pred, axis = 1) \n",
        "# Convertir en clases de observación desde los vectores one-hot encoding\n",
        "Y_true = np.argmax(test_labels, axis = 1) \n",
        "# Computar la matriz de confusión\n",
        "confusion_mtx = confusion_matrix(Y_true, Y_pred_classes) \n",
        "# Dibujar la matriz de confusión\n",
        "print('Matriz de confusión')\n",
        "plot_confusion_matrix(confusion_mtx, classes = range(10))"
      ],
      "metadata": {
        "colab": {
          "base_uri": "https://localhost:8080/",
          "height": 366
        },
        "outputId": "92ebdb3a-8fce-4fb3-ede5-6c47d27a765e",
        "id": "feFxDVJVkYG5"
      },
      "execution_count": null,
      "outputs": [
        {
          "output_type": "stream",
          "name": "stdout",
          "text": [
            "313/313 [==============================] - 0s 1ms/step\n",
            "Valores de predicción del modelo\n",
            "Matriz de confusión\n"
          ]
        },
        {
          "output_type": "display_data",
          "data": {
            "text/plain": [
              "<Figure size 432x288 with 2 Axes>"
            ],
            "image/png": "[encoded data removed]"
          },
          "metadata": {
            "needs_background": "light"
          }
        }
      ]
    },
    {
      "cell_type": "markdown",
      "source": [
        "Se grafica el elemento 6 (```test_data[5]```) para comprobar las soluciones. "
      ],
      "metadata": {
        "id": "h5LFpB6vkYG5"
      }
    },
    {
      "cell_type": "code",
      "source": [
        "digit = test_data.reshape(10000,28, 28)[5]\n",
        "plt.imshow(digit, cmap = plt.cm.binary)\n",
        "plt.show()\n",
        "print(test_labels[5])"
      ],
      "metadata": {
        "colab": {
          "base_uri": "https://localhost:8080/",
          "height": 283
        },
        "outputId": "df6f63e5-12f6-434c-e930-d6f92ed14eb6",
        "id": "uwx9R-zAkYG5"
      },
      "execution_count": null,
      "outputs": [
        {
          "output_type": "display_data",
          "data": {
            "text/plain": [
              "<Figure size 432x288 with 1 Axes>"
            ],
            "image/png": "[encoded data removed]"
          },
          "metadata": {
            "needs_background": "light"
          }
        },
        {
          "output_type": "stream",
          "name": "stdout",
          "text": [
            "[0. 1. 0. 0. 0. 0. 0. 0. 0. 0.]\n"
          ]
        }
      ]
    },
    {
      "cell_type": "markdown",
      "source": [
        "La clase del elemento 6 es la clase 1 (pantalones)."
      ],
      "metadata": {
        "id": "rJWwgRTokYG5"
      }
    },
    {
      "cell_type": "code",
      "source": [
        "predictions = model.predict(test_data)\n",
        "print('Predicción del elemento 6: clase', np.argmax(predictions[5]))\n",
        "print(predictions[5])\n",
        "print('Suma de las predicciones del elemento 6:', np.sum(predictions[5]))"
      ],
      "metadata": {
        "colab": {
          "base_uri": "https://localhost:8080/"
        },
        "outputId": "57dcaa7a-986b-4732-b499-64825de87e82",
        "id": "uQqd3SDkkYG5"
      },
      "execution_count": null,
      "outputs": [
        {
          "output_type": "stream",
          "name": "stdout",
          "text": [
            "313/313 [==============================] - 0s 1ms/step\n",
            "Predicción del elemento 6: clase 1\n",
            "[1.5701486e-03 9.6329826e-01 3.6851829e-04 1.0837999e-02 1.9751115e-02\n",
            " 1.7835138e-05 4.0504690e-03 8.1603874e-05 2.3705077e-06 2.1786480e-05]\n",
            "Suma de las predicciones del elemento 6: 1.0000001\n"
          ]
        }
      ]
    },
    {
      "cell_type": "code",
      "source": [
        "def plot_image(i, predictions_array, true_label, img):\n",
        "  predictions_array, true_label, img = predictions_array, true_label[i], img[i]\n",
        "  plt.grid(False)\n",
        "  plt.xticks([])\n",
        "  plt.yticks([])\n",
        "\n",
        "  plt.imshow(img, cmap = plt.cm.binary)    \n",
        "\n",
        "  predicted_label = np.argmax(predictions_array)\n",
        "  if predicted_label.all() == true_label.all():\n",
        "    color = 'blue'\n",
        "  else:\n",
        "    color = 'red'\n",
        "\n",
        "  plt.xlabel('{} {:2.0f}% ({})'.format(predicted_label,\n",
        "                                100*np.max(predictions_array),\n",
        "                                true_label),\n",
        "                                color = color)\n",
        "\n",
        "def plot_value_array(i, predictions_array, true_label):\n",
        "  predictions_array, true_label = predictions_array, true_label[i]\n",
        "  plt.grid(False)\n",
        "  plt.xticks(range(10))\n",
        "  plt.yticks([])\n",
        "  thisplot = plt.bar(range(10), predictions_array, color = '#00FF00')\n",
        "  plt.ylim([0, 1])\n",
        "  predicted_label = np.argmax(predictions_array)\n",
        "\n",
        "  thisplot[predicted_label].set_color('red')\n",
        "  thisplot[np.argmax(true_label)].set_color('black')"
      ],
      "metadata": {
        "id": "w5Rev9XZkYG6"
      },
      "execution_count": null,
      "outputs": []
    },
    {
      "cell_type": "code",
      "source": [
        "plt.figure(figsize = (6,3))\n",
        "plt.subplot(1,2,1)\n",
        "plot_image(5, predictions[5], test_labels, test_data.reshape(10000,28,28))\n",
        "plt.subplot(1,2,2)\n",
        "plot_value_array(5, predictions[5],  test_labels)\n",
        "plt.show()"
      ],
      "metadata": {
        "colab": {
          "base_uri": "https://localhost:8080/",
          "height": 211
        },
        "outputId": "a5eba9c7-ed14-48c1-e82e-1fc6be5683bc",
        "id": "ywXOTTUUkYG6"
      },
      "execution_count": null,
      "outputs": [
        {
          "output_type": "display_data",
          "data": {
            "text/plain": [
              "<Figure size 432x216 with 2 Axes>"
            ],
            "image/png": "[encoded data removed]"
          },
          "metadata": {
            "needs_background": "light"
          }
        }
      ]
    },
    {
      "cell_type": "markdown",
      "source": [
        "## Caso 2"
      ],
      "metadata": {
        "id": "pzs-25Bvw50W"
      }
    },
    {
      "cell_type": "markdown",
      "source": [
        "### Crear la red de neuronas"
      ],
      "metadata": {
        "id": "LUwP7hgxLwg7"
      }
    },
    {
      "cell_type": "markdown",
      "source": [
        "Se crea la red neuronal con una capa de entrada con 10 neuronas y función de activación ```relu```, y una capa de salida con función de activación ```softmax```."
      ],
      "metadata": {
        "id": "yTEzceXEQs__"
      }
    },
    {
      "cell_type": "code",
      "source": [
        "model2 = models.Sequential()\n",
        "model2.add(layers.Dense(10, activation ='relu', name = 'Capa2', input_shape = (28*28,)))\n",
        "model2.add(layers.Dense(10, name = 'CapaSalida2', activation = 'softmax'))"
      ],
      "metadata": {
        "id": "6s4rp0iWSGE_"
      },
      "execution_count": null,
      "outputs": []
    },
    {
      "cell_type": "markdown",
      "source": [
        "### Explicar model.summary()\n"
      ],
      "metadata": {
        "id": "O7ykuaNzMnqg"
      }
    },
    {
      "cell_type": "markdown",
      "source": [
        "El resumen del modelo indica el número de parámetros de salida de cada capa. Este número es igual al tamaño de los datos de entrada multiplicado por el número de neuronas, y sumando el número de umbrales de activación de la capa.\n",
        "\n",
        "\n",
        "En el caso de la primera capa: 7850 = 784 (tamaño de los datos) x 10 (número de neuronas) + 10 (número de umbrales de activación).\n",
        "\n",
        "En el caso de la segunda capa: 110 = 10 (tamaño de los datos) x 10 (número de neuronas) + 10 (número de umbrales de activación)."
      ],
      "metadata": {
        "id": "UAxZHzXQTk9Y"
      }
    },
    {
      "cell_type": "code",
      "source": [
        "model2.summary()"
      ],
      "metadata": {
        "colab": {
          "base_uri": "https://localhost:8080/"
        },
        "id": "jQlpbPf-Qdiv",
        "outputId": "e3ccef84-e596-4efa-a4c1-a5de3494b203"
      },
      "execution_count": null,
      "outputs": [
        {
          "output_type": "stream",
          "name": "stdout",
          "text": [
            "Model: \"sequential_7\"\n",
            "_________________________________________________________________\n",
            " Layer (type)                Output Shape              Param #   \n",
            "=================================================================\n",
            " Capa2 (Dense)               (None, 10)                7850      \n",
            "                                                                 \n",
            " CapaSalida2 (Dense)         (None, 10)                110       \n",
            "                                                                 \n",
            "=================================================================\n",
            "Total params: 7,960\n",
            "Trainable params: 7,960\n",
            "Non-trainable params: 0\n",
            "_________________________________________________________________\n"
          ]
        }
      ]
    },
    {
      "cell_type": "markdown",
      "source": [
        "Se definen las funciones del optimizador, la pérdida y la métrica."
      ],
      "metadata": {
        "id": "3y2UTZhbwCor"
      }
    },
    {
      "cell_type": "code",
      "source": [
        "model2.compile(optimizer = 'rmsprop',\n",
        "              loss = 'categorical_crossentropy',\n",
        "              metrics = ['accuracy'])"
      ],
      "metadata": {
        "id": "uwIBFxNZVD5j"
      },
      "execution_count": null,
      "outputs": []
    },
    {
      "cell_type": "markdown",
      "source": [
        "### Entrenar la red"
      ],
      "metadata": {
        "id": "2oFAQom1VEdi"
      }
    },
    {
      "cell_type": "markdown",
      "source": [
        "Para entrenar la red se realizan ```5``` ciclos con lotes de ```128``` imágenes. Se compara con los datos de validación para controlar el sobreentrenamiento. "
      ],
      "metadata": {
        "id": "D2YuIwa0yGsR"
      }
    },
    {
      "cell_type": "code",
      "source": [
        "history = model2.fit(train_val_data, train_val_labels,\n",
        "                    epochs = 5,\n",
        "                    batch_size = 128,\n",
        "                    validation_data = (val_data, val_labels))"
      ],
      "metadata": {
        "colab": {
          "base_uri": "https://localhost:8080/"
        },
        "id": "MepKtlWWQrt1",
        "outputId": "128d36ea-b450-4734-b883-7a5f9212258d"
      },
      "execution_count": null,
      "outputs": [
        {
          "output_type": "stream",
          "name": "stdout",
          "text": [
            "Epoch 1/5\n",
            "391/391 [==============================] - 2s 3ms/step - loss: 1.0597 - accuracy: 0.6798 - val_loss: 0.6837 - val_accuracy: 0.7774\n",
            "Epoch 2/5\n",
            "391/391 [==============================] - 1s 3ms/step - loss: 0.5852 - accuracy: 0.8014 - val_loss: 0.5436 - val_accuracy: 0.8184\n",
            "Epoch 3/5\n",
            "391/391 [==============================] - 1s 3ms/step - loss: 0.5170 - accuracy: 0.8251 - val_loss: 0.4980 - val_accuracy: 0.8317\n",
            "Epoch 4/5\n",
            "391/391 [==============================] - 1s 3ms/step - loss: 0.4833 - accuracy: 0.8366 - val_loss: 0.4880 - val_accuracy: 0.8338\n",
            "Epoch 5/5\n",
            "391/391 [==============================] - 1s 3ms/step - loss: 0.4629 - accuracy: 0.8413 - val_loss: 0.4710 - val_accuracy: 0.8388\n"
          ]
        }
      ]
    },
    {
      "cell_type": "markdown",
      "source": [
        "La pérdida indica el porcentaje de errores entre las etiquetas y las predicciones del modelo.\n",
        "\n",
        "La precisión indica el porcentaje de aciertos entre las predicciones y las etiquetas."
      ],
      "metadata": {
        "id": "xByMAIeTPqjV"
      }
    },
    {
      "cell_type": "code",
      "source": [
        "test_loss, test_acc = model2.evaluate(test_data, test_labels)"
      ],
      "metadata": {
        "colab": {
          "base_uri": "https://localhost:8080/"
        },
        "id": "zwHoOjklPmsa",
        "outputId": "47359e38-2ba4-497c-b60d-46a2372b2818"
      },
      "execution_count": null,
      "outputs": [
        {
          "output_type": "stream",
          "name": "stdout",
          "text": [
            "313/313 [==============================] - 1s 2ms/step - loss: 0.5016 - accuracy: 0.8279\n"
          ]
        }
      ]
    },
    {
      "cell_type": "code",
      "source": [
        "import matplotlib.pyplot as plt\n",
        "\n",
        "acc = history.history['accuracy']\n",
        "val_acc = history.history['val_accuracy']\n",
        "loss = history.history['loss']\n",
        "val_loss = history.history['val_loss']\n",
        "\n",
        "epochs = range(1, len(acc) + 1)\n",
        "\n",
        "# \"bo\" es para \"punto azun\"\n",
        "plt.plot(epochs, loss, 'bo', label='Pérdida de Entrenamiento')\n",
        "# \"b\" es para \"linea continua azul\"\n",
        "plt.plot(epochs, val_loss, 'b', label='Pérdida de Validación')\n",
        "plt.title('Pérdida de Entrenamiento y Validación')\n",
        "plt.xlabel('Epochs')\n",
        "plt.ylabel('Loss')\n",
        "plt.legend()\n",
        "\n",
        "plt.show()"
      ],
      "metadata": {
        "id": "mSXFknhfyQlJ",
        "outputId": "518febad-bfe6-4a6f-c18b-c7d560aa1b26",
        "colab": {
          "base_uri": "https://localhost:8080/",
          "height": 295
        }
      },
      "execution_count": null,
      "outputs": [
        {
          "output_type": "display_data",
          "data": {
            "text/plain": [
              "<Figure size 432x288 with 1 Axes>"
            ],
            "image/png": "[encoded data removed]"
          },
          "metadata": {
            "needs_background": "light"
          }
        }
      ]
    },
    {
      "cell_type": "markdown",
      "source": [
        "### Predecir valores"
      ],
      "metadata": {
        "id": "wRx8hZhLQo8m"
      }
    },
    {
      "cell_type": "markdown",
      "source": [
        "Imprimir la matriz de confusión, que muestra los valores predichos frente a los reales."
      ],
      "metadata": {
        "id": "jeSpdtd88cuS"
      }
    },
    {
      "cell_type": "code",
      "source": [
        "# Note, this code is taken straight from the SKLEARN website, an nice way of \n",
        "# viewing confusion matrix.\n",
        "def plot_confusion_matrix(cm, classes,\n",
        "                          normalize = False,\n",
        "                          title = 'Confusion matrix',\n",
        "                          cmap = plt.cm.Blues):\n",
        "    '''\n",
        "    This function prints and plots the confusion matrix.\n",
        "    Normalization can be applied by setting `normalize = True`.\n",
        "    '''\n",
        "    plt.imshow(cm, interpolation = 'nearest', cmap = cmap)\n",
        "    plt.title(title)\n",
        "    plt.colorbar()\n",
        "    tick_marks = np.arange(len(classes))\n",
        "    plt.xticks(tick_marks, classes, rotation = 45)\n",
        "    plt.yticks(tick_marks, classes)\n",
        "\n",
        "    if normalize:\n",
        "        cm = cm.astype('float') / cm.sum(axis = 1)[:, np.newaxis]\n",
        "\n",
        "    thresh = cm.max() / 2.\n",
        "    for i, j in itertools.product(range(cm.shape[0]), range(cm.shape[1])):\n",
        "        plt.text(j, i, cm[i, j],\n",
        "                 horizontalalignment = 'center',\n",
        "                 color = 'white' if cm[i, j] > thresh else 'black')\n",
        "\n",
        "    plt.tight_layout()\n",
        "    plt.ylabel('Observación')\n",
        "    plt.xlabel('Predicción')"
      ],
      "metadata": {
        "id": "ap-ozaX0llrR"
      },
      "execution_count": null,
      "outputs": []
    },
    {
      "cell_type": "code",
      "source": [
        "Y_pred = model2.predict(test_data)\n",
        "print('Valores de predicción del modelo')\n",
        "# Convertir en predicciones de clases desde los vectores one-hot encoding \n",
        "Y_pred_classes = np.argmax(Y_pred, axis = 1) \n",
        "# Convertir en clases de observación desde los vectores one-hot encoding\n",
        "Y_true = np.argmax(test_labels, axis = 1) \n",
        "# Computar la matriz de confusión\n",
        "confusion_mtx = confusion_matrix(Y_true, Y_pred_classes) \n",
        "# Dibujar la matriz de confusión\n",
        "print('Matriz de confusión')\n",
        "plot_confusion_matrix(confusion_mtx, classes = range(10))"
      ],
      "metadata": {
        "id": "XshGwiutVsi9",
        "colab": {
          "base_uri": "https://localhost:8080/",
          "height": 366
        },
        "outputId": "9ba691fe-a00c-4c11-e956-6e8a661c6b92"
      },
      "execution_count": null,
      "outputs": [
        {
          "output_type": "stream",
          "name": "stdout",
          "text": [
            "313/313 [==============================] - 0s 1ms/step\n",
            "Valores de predicción del modelo\n",
            "Matriz de confusión\n"
          ]
        },
        {
          "output_type": "display_data",
          "data": {
            "text/plain": [
              "<Figure size 432x288 with 2 Axes>"
            ],
            "image/png": "[encoded data removed]"
          },
          "metadata": {
            "needs_background": "light"
          }
        }
      ]
    },
    {
      "cell_type": "markdown",
      "source": [
        "Se grafica el elemento 6 (```test_data[5]```) para comprobar las soluciones. "
      ],
      "metadata": {
        "id": "04i0fC4H8buV"
      }
    },
    {
      "cell_type": "code",
      "source": [
        "digit = test_data.reshape(10000,28, 28)[5]\n",
        "plt.imshow(digit, cmap = plt.cm.binary)\n",
        "plt.show()\n",
        "print(test_labels[5])"
      ],
      "metadata": {
        "id": "9BbG8Tn8c07E",
        "colab": {
          "base_uri": "https://localhost:8080/",
          "height": 283
        },
        "outputId": "c8727897-afa8-41df-922b-08ec07dee688"
      },
      "execution_count": null,
      "outputs": [
        {
          "output_type": "display_data",
          "data": {
            "text/plain": [
              "<Figure size 432x288 with 1 Axes>"
            ],
            "image/png": "[encoded data removed]"
          },
          "metadata": {
            "needs_background": "light"
          }
        },
        {
          "output_type": "stream",
          "name": "stdout",
          "text": [
            "[0. 1. 0. 0. 0. 0. 0. 0. 0. 0.]\n"
          ]
        }
      ]
    },
    {
      "cell_type": "markdown",
      "source": [
        "La clase del elemento 6 es la clase 1 (pantalones)."
      ],
      "metadata": {
        "id": "QAMvqbA3ZOlT"
      }
    },
    {
      "cell_type": "code",
      "source": [
        "predictions = model2.predict(test_data)\n",
        "print('Predicción del elemento 6: clase', np.argmax(predictions[5]))\n",
        "print(predictions[5])\n",
        "print('Suma de las predicciones del elemento 6:', np.sum(predictions[5]))"
      ],
      "metadata": {
        "id": "FhoAWXL1c64n",
        "colab": {
          "base_uri": "https://localhost:8080/"
        },
        "outputId": "a01d0d1e-621f-4639-ef7e-a5acf948b648"
      },
      "execution_count": null,
      "outputs": [
        {
          "output_type": "stream",
          "name": "stdout",
          "text": [
            "313/313 [==============================] - 0s 1ms/step\n",
            "Predicción del elemento 6: clase 1\n",
            "[4.6655824e-04 9.9097687e-01 4.4463715e-04 1.8717691e-04 7.8032305e-03\n",
            " 1.4819129e-10 1.2012521e-04 4.3562089e-13 1.4784405e-06 1.4691415e-10]\n",
            "Suma de las predicciones del elemento 6: 1.0000001\n"
          ]
        }
      ]
    },
    {
      "cell_type": "code",
      "source": [
        "def plot_image(i, predictions_array, true_label, img):\n",
        "  predictions_array, true_label, img = predictions_array, true_label[i], img[i]\n",
        "  plt.grid(False)\n",
        "  plt.xticks([])\n",
        "  plt.yticks([])\n",
        "\n",
        "  plt.imshow(img, cmap = plt.cm.binary)    \n",
        "\n",
        "  predicted_label = np.argmax(predictions_array)\n",
        "  if predicted_label.all() == true_label.all():\n",
        "    color = 'blue'\n",
        "  else:\n",
        "    color = 'red'\n",
        "\n",
        "  plt.xlabel('{} {:2.0f}% ({})'.format(predicted_label,\n",
        "                                100*np.max(predictions_array),\n",
        "                                true_label),\n",
        "                                color = color)\n",
        "\n",
        "def plot_value_array(i, predictions_array, true_label):\n",
        "  predictions_array, true_label = predictions_array, true_label[i]\n",
        "  plt.grid(False)\n",
        "  plt.xticks(range(10))\n",
        "  plt.yticks([])\n",
        "  thisplot = plt.bar(range(10), predictions_array, color = '#00FF00')\n",
        "  plt.ylim([0, 1])\n",
        "  predicted_label = np.argmax(predictions_array)\n",
        "\n",
        "  thisplot[predicted_label].set_color('red')\n",
        "  thisplot[np.argmax(true_label)].set_color('black')"
      ],
      "metadata": {
        "id": "QLoUnoqIdHbd"
      },
      "execution_count": null,
      "outputs": []
    },
    {
      "cell_type": "code",
      "source": [
        "plt.figure(figsize = (6,3))\n",
        "plt.subplot(1,2,1)\n",
        "plot_image(5, predictions[5], test_labels, test_data.reshape(10000,28,28))\n",
        "plt.subplot(1,2,2)\n",
        "plot_value_array(5, predictions[5],  test_labels)\n",
        "plt.show()"
      ],
      "metadata": {
        "id": "82gJvLq1_et8",
        "colab": {
          "base_uri": "https://localhost:8080/",
          "height": 211
        },
        "outputId": "e20ffebe-44fb-4ae9-f090-5753d581d2c5"
      },
      "execution_count": null,
      "outputs": [
        {
          "output_type": "display_data",
          "data": {
            "text/plain": [
              "<Figure size 432x216 with 2 Axes>"
            ],
            "image/png": "[encoded data removed]"
          },
          "metadata": {
            "needs_background": "light"
          }
        }
      ]
    },
    {
      "cell_type": "markdown",
      "source": [
        "## Caso 2.5"
      ],
      "metadata": {
        "id": "mYLCqAC3rKbZ"
      }
    },
    {
      "cell_type": "markdown",
      "source": [
        "### Crear la red de neuronas"
      ],
      "metadata": {
        "id": "MZlfbltzrKba"
      }
    },
    {
      "cell_type": "markdown",
      "source": [
        "Se crea la red neuronal con una capa de entrada con 10 neuronas y función de activación ```relu```, y una capa de salida con función de activación ```softmax```."
      ],
      "metadata": {
        "id": "m3rEuHQSrKbb"
      }
    },
    {
      "cell_type": "code",
      "source": [
        "model2b = models.Sequential()\n",
        "model2b.add(layers.Dense(10, activation ='relu', name = 'Capa2', input_shape = (28*28,)))\n",
        "model2b.add(layers.Dense(10, name = 'CapaSalida2', activation = 'softmax'))"
      ],
      "metadata": {
        "id": "pgakvJbnrKbb"
      },
      "execution_count": null,
      "outputs": []
    },
    {
      "cell_type": "markdown",
      "source": [
        "### Explicar model.summary()\n"
      ],
      "metadata": {
        "id": "myOSwUnWrKbc"
      }
    },
    {
      "cell_type": "markdown",
      "source": [
        "El resumen del modelo indica el número de parámetros de salida de cada capa. Este número es igual al tamaño de los datos de entrada multiplicado por el número de neuronas, y sumando el número de umbrales de activación de la capa.\n",
        "\n",
        "\n",
        "En el caso de la primera capa: 7850 = 784 (tamaño de los datos) x 10 (número de neuronas) + 10 (número de umbrales de activación).\n",
        "\n",
        "En el caso de la segunda capa: 110 = 10 (tamaño de los datos) x 10 (número de neuronas) + 10 (número de umbrales de activación)."
      ],
      "metadata": {
        "id": "UVmfqP4orKbc"
      }
    },
    {
      "cell_type": "code",
      "source": [
        "model2b.summary()"
      ],
      "metadata": {
        "colab": {
          "base_uri": "https://localhost:8080/"
        },
        "outputId": "35368eb5-214e-46b4-9b76-0c276c3e2b40",
        "id": "yZpkC9OvrKbc"
      },
      "execution_count": null,
      "outputs": [
        {
          "output_type": "stream",
          "name": "stdout",
          "text": [
            "Model: \"sequential_8\"\n",
            "_________________________________________________________________\n",
            " Layer (type)                Output Shape              Param #   \n",
            "=================================================================\n",
            " Capa2 (Dense)               (None, 10)                7850      \n",
            "                                                                 \n",
            " CapaSalida2 (Dense)         (None, 10)                110       \n",
            "                                                                 \n",
            "=================================================================\n",
            "Total params: 7,960\n",
            "Trainable params: 7,960\n",
            "Non-trainable params: 0\n",
            "_________________________________________________________________\n"
          ]
        }
      ]
    },
    {
      "cell_type": "markdown",
      "source": [
        "Se definen las funciones del optimizador, la pérdida y la métrica."
      ],
      "metadata": {
        "id": "h37sm_XVrKbd"
      }
    },
    {
      "cell_type": "code",
      "source": [
        "model2b.compile(optimizer = 'rmsprop',\n",
        "              loss = 'categorical_crossentropy',\n",
        "              metrics = ['accuracy'])"
      ],
      "metadata": {
        "id": "KENFu-InrKbd"
      },
      "execution_count": null,
      "outputs": []
    },
    {
      "cell_type": "markdown",
      "source": [
        "### Entrenar la red"
      ],
      "metadata": {
        "id": "WExv33SlrKbd"
      }
    },
    {
      "cell_type": "markdown",
      "source": [
        "Para entrenar la red se realizan ```5``` ciclos con lotes de ```128``` imágenes. Se compara con los datos de validación para controlar el sobreentrenamiento. "
      ],
      "metadata": {
        "id": "izEo9-gQrKbe"
      }
    },
    {
      "cell_type": "code",
      "source": [
        "history = model2b.fit(train_val_data, train_val_labels,\n",
        "                    epochs = 25,\n",
        "                    batch_size = 128,\n",
        "                    validation_data = (val_data, val_labels))"
      ],
      "metadata": {
        "colab": {
          "base_uri": "https://localhost:8080/"
        },
        "outputId": "f6f1ebb7-bc4c-40f8-d986-c1c753892a5e",
        "id": "8pH8i2xJrKbe"
      },
      "execution_count": null,
      "outputs": [
        {
          "output_type": "stream",
          "name": "stdout",
          "text": [
            "Epoch 1/25\n",
            "391/391 [==============================] - 2s 3ms/step - loss: 0.8909 - accuracy: 0.7082 - val_loss: 0.6161 - val_accuracy: 0.7985\n",
            "Epoch 2/25\n",
            "391/391 [==============================] - 1s 3ms/step - loss: 0.5596 - accuracy: 0.8126 - val_loss: 0.5445 - val_accuracy: 0.8117\n",
            "Epoch 3/25\n",
            "391/391 [==============================] - 1s 3ms/step - loss: 0.5051 - accuracy: 0.8276 - val_loss: 0.5113 - val_accuracy: 0.8241\n",
            "Epoch 4/25\n",
            "391/391 [==============================] - 1s 3ms/step - loss: 0.4766 - accuracy: 0.8367 - val_loss: 0.4706 - val_accuracy: 0.8387\n",
            "Epoch 5/25\n",
            "391/391 [==============================] - 1s 3ms/step - loss: 0.4581 - accuracy: 0.8423 - val_loss: 0.4681 - val_accuracy: 0.8340\n",
            "Epoch 6/25\n",
            "391/391 [==============================] - 1s 3ms/step - loss: 0.4454 - accuracy: 0.8484 - val_loss: 0.4478 - val_accuracy: 0.8478\n",
            "Epoch 7/25\n",
            "391/391 [==============================] - 1s 3ms/step - loss: 0.4354 - accuracy: 0.8503 - val_loss: 0.4498 - val_accuracy: 0.8458\n",
            "Epoch 8/25\n",
            "391/391 [==============================] - 1s 3ms/step - loss: 0.4285 - accuracy: 0.8527 - val_loss: 0.4394 - val_accuracy: 0.8492\n",
            "Epoch 9/25\n",
            "391/391 [==============================] - 1s 3ms/step - loss: 0.4217 - accuracy: 0.8547 - val_loss: 0.4458 - val_accuracy: 0.8452\n",
            "Epoch 10/25\n",
            "391/391 [==============================] - 1s 3ms/step - loss: 0.4180 - accuracy: 0.8569 - val_loss: 0.4269 - val_accuracy: 0.8502\n",
            "Epoch 11/25\n",
            "391/391 [==============================] - 1s 3ms/step - loss: 0.4122 - accuracy: 0.8592 - val_loss: 0.4247 - val_accuracy: 0.8566\n",
            "Epoch 12/25\n",
            "391/391 [==============================] - 1s 3ms/step - loss: 0.4083 - accuracy: 0.8590 - val_loss: 0.4299 - val_accuracy: 0.8521\n",
            "Epoch 13/25\n",
            "391/391 [==============================] - 1s 3ms/step - loss: 0.4054 - accuracy: 0.8598 - val_loss: 0.4237 - val_accuracy: 0.8553\n",
            "Epoch 14/25\n",
            "391/391 [==============================] - 1s 3ms/step - loss: 0.4016 - accuracy: 0.8613 - val_loss: 0.4197 - val_accuracy: 0.8567\n",
            "Epoch 15/25\n",
            "391/391 [==============================] - 1s 3ms/step - loss: 0.3987 - accuracy: 0.8604 - val_loss: 0.4687 - val_accuracy: 0.8435\n",
            "Epoch 16/25\n",
            "391/391 [==============================] - 1s 3ms/step - loss: 0.3954 - accuracy: 0.8638 - val_loss: 0.4259 - val_accuracy: 0.8511\n",
            "Epoch 17/25\n",
            "391/391 [==============================] - 1s 3ms/step - loss: 0.3932 - accuracy: 0.8641 - val_loss: 0.4121 - val_accuracy: 0.8565\n",
            "Epoch 18/25\n",
            "391/391 [==============================] - 1s 3ms/step - loss: 0.3911 - accuracy: 0.8641 - val_loss: 0.4130 - val_accuracy: 0.8585\n",
            "Epoch 19/25\n",
            "391/391 [==============================] - 1s 3ms/step - loss: 0.3893 - accuracy: 0.8650 - val_loss: 0.4160 - val_accuracy: 0.8546\n",
            "Epoch 20/25\n",
            "391/391 [==============================] - 1s 3ms/step - loss: 0.3870 - accuracy: 0.8654 - val_loss: 0.4120 - val_accuracy: 0.8550\n",
            "Epoch 21/25\n",
            "391/391 [==============================] - 1s 3ms/step - loss: 0.3839 - accuracy: 0.8668 - val_loss: 0.4384 - val_accuracy: 0.8435\n",
            "Epoch 22/25\n",
            "391/391 [==============================] - 1s 3ms/step - loss: 0.3829 - accuracy: 0.8660 - val_loss: 0.4125 - val_accuracy: 0.8566\n",
            "Epoch 23/25\n",
            "391/391 [==============================] - 1s 3ms/step - loss: 0.3805 - accuracy: 0.8670 - val_loss: 0.4086 - val_accuracy: 0.8583\n",
            "Epoch 24/25\n",
            "391/391 [==============================] - 1s 3ms/step - loss: 0.3793 - accuracy: 0.8673 - val_loss: 0.4068 - val_accuracy: 0.8596\n",
            "Epoch 25/25\n",
            "391/391 [==============================] - 1s 3ms/step - loss: 0.3772 - accuracy: 0.8686 - val_loss: 0.4106 - val_accuracy: 0.8569\n"
          ]
        }
      ]
    },
    {
      "cell_type": "markdown",
      "source": [
        "La pérdida indica el porcentaje de errores entre las etiquetas y las predicciones del modelo.\n",
        "\n",
        "La precisión indica el porcentaje de aciertos entre las predicciones y las etiquetas."
      ],
      "metadata": {
        "id": "CNaK1etArKbf"
      }
    },
    {
      "cell_type": "code",
      "source": [
        "test_loss, test_acc = model2b.evaluate(test_data, test_labels)"
      ],
      "metadata": {
        "colab": {
          "base_uri": "https://localhost:8080/"
        },
        "outputId": "4896a22e-9b24-4c5e-f550-6ca5a453c424",
        "id": "AEKJDE1ArKbf"
      },
      "execution_count": null,
      "outputs": [
        {
          "output_type": "stream",
          "name": "stdout",
          "text": [
            "313/313 [==============================] - 1s 2ms/step - loss: 0.4402 - accuracy: 0.8456\n"
          ]
        }
      ]
    },
    {
      "cell_type": "code",
      "source": [
        "acc = history.history['accuracy']\n",
        "val_acc = history.history['val_accuracy']\n",
        "loss = history.history['loss']\n",
        "val_loss = history.history['val_loss']\n",
        "\n",
        "epochs = range(1, len(acc) + 1)\n",
        "\n",
        "# \"bo\" es para \"punto azun\"\n",
        "plt.plot(epochs, loss, 'bo', label='Pérdida de Entrenamiento')\n",
        "# \"b\" es para \"linea continua azul\"\n",
        "plt.plot(epochs, val_loss, 'b', label='Pérdida de Validación')\n",
        "plt.title('Pérdida de Entrenamiento y Validación')\n",
        "plt.xlabel('Epochs')\n",
        "plt.ylabel('Loss')\n",
        "plt.legend()\n",
        "\n",
        "plt.show()"
      ],
      "metadata": {
        "id": "tcCW6qXuyXcQ",
        "outputId": "98ee4fe1-43cc-4723-963c-a74d0a3e28e3",
        "colab": {
          "base_uri": "https://localhost:8080/",
          "height": 295
        }
      },
      "execution_count": null,
      "outputs": [
        {
          "output_type": "display_data",
          "data": {
            "text/plain": [
              "<Figure size 432x288 with 1 Axes>"
            ],
            "image/png": "[encoded data removed]"
          },
          "metadata": {
            "needs_background": "light"
          }
        }
      ]
    },
    {
      "cell_type": "markdown",
      "source": [
        "### Predecir valores"
      ],
      "metadata": {
        "id": "qSQtDu3HrKbf"
      }
    },
    {
      "cell_type": "markdown",
      "source": [
        "Imprimir la matriz de confusión, que muestra los valores predichos frente a los reales."
      ],
      "metadata": {
        "id": "syJQS7rnrKbg"
      }
    },
    {
      "cell_type": "code",
      "source": [
        "# Note, this code is taken straight from the SKLEARN website, an nice way of \n",
        "# viewing confusion matrix.\n",
        "def plot_confusion_matrix(cm, classes,\n",
        "                          normalize = False,\n",
        "                          title = 'Confusion matrix',\n",
        "                          cmap = plt.cm.Blues):\n",
        "    '''\n",
        "    This function prints and plots the confusion matrix.\n",
        "    Normalization can be applied by setting `normalize = True`.\n",
        "    '''\n",
        "    plt.imshow(cm, interpolation = 'nearest', cmap = cmap)\n",
        "    plt.title(title)\n",
        "    plt.colorbar()\n",
        "    tick_marks = np.arange(len(classes))\n",
        "    plt.xticks(tick_marks, classes, rotation = 45)\n",
        "    plt.yticks(tick_marks, classes)\n",
        "\n",
        "    if normalize:\n",
        "        cm = cm.astype('float') / cm.sum(axis = 1)[:, np.newaxis]\n",
        "\n",
        "    thresh = cm.max() / 2.\n",
        "    for i, j in itertools.product(range(cm.shape[0]), range(cm.shape[1])):\n",
        "        plt.text(j, i, cm[i, j],\n",
        "                 horizontalalignment = 'center',\n",
        "                 color = 'white' if cm[i, j] > thresh else 'black')\n",
        "\n",
        "    plt.tight_layout()\n",
        "    plt.ylabel('Observación')\n",
        "    plt.xlabel('Predicción')"
      ],
      "metadata": {
        "id": "1JtGWUtNrKbg"
      },
      "execution_count": null,
      "outputs": []
    },
    {
      "cell_type": "code",
      "source": [
        "Y_pred = model2b.predict(test_data)\n",
        "print('Valores de predicción del modelo')\n",
        "# Convertir en predicciones de clases desde los vectores one-hot encoding \n",
        "Y_pred_classes = np.argmax(Y_pred, axis = 1) \n",
        "# Convertir en clases de observación desde los vectores one-hot encoding\n",
        "Y_true = np.argmax(test_labels, axis = 1) \n",
        "# Computar la matriz de confusión\n",
        "confusion_mtx = confusion_matrix(Y_true, Y_pred_classes) \n",
        "# Dibujar la matriz de confusión\n",
        "print('Matriz de confusión')\n",
        "plot_confusion_matrix(confusion_mtx, classes = range(10))"
      ],
      "metadata": {
        "colab": {
          "base_uri": "https://localhost:8080/",
          "height": 366
        },
        "outputId": "1b621b16-7f72-41ba-dd30-6330babdc72e",
        "id": "gkSvMpqZrKbg"
      },
      "execution_count": null,
      "outputs": [
        {
          "output_type": "stream",
          "name": "stdout",
          "text": [
            "313/313 [==============================] - 0s 1ms/step\n",
            "Valores de predicción del modelo\n",
            "Matriz de confusión\n"
          ]
        },
        {
          "output_type": "display_data",
          "data": {
            "text/plain": [
              "<Figure size 432x288 with 2 Axes>"
            ],
            "image/png": "[encoded data removed]"
          },
          "metadata": {
            "needs_background": "light"
          }
        }
      ]
    },
    {
      "cell_type": "markdown",
      "source": [
        "Se grafica el elemento 6 (```test_data[5]```) para comprobar las soluciones. "
      ],
      "metadata": {
        "id": "wyVJoZlwrKbh"
      }
    },
    {
      "cell_type": "code",
      "source": [
        "digit = test_data.reshape(10000,28, 28)[5]\n",
        "plt.imshow(digit, cmap = plt.cm.binary)\n",
        "plt.show()\n",
        "print(test_labels[5])"
      ],
      "metadata": {
        "colab": {
          "base_uri": "https://localhost:8080/",
          "height": 283
        },
        "outputId": "d7c6bafb-21ea-4e5e-926f-1e3817f39a71",
        "id": "kib4BvBXrKbh"
      },
      "execution_count": null,
      "outputs": [
        {
          "output_type": "display_data",
          "data": {
            "text/plain": [
              "<Figure size 432x288 with 1 Axes>"
            ],
            "image/png": "[encoded data removed]"
          },
          "metadata": {
            "needs_background": "light"
          }
        },
        {
          "output_type": "stream",
          "name": "stdout",
          "text": [
            "[0. 1. 0. 0. 0. 0. 0. 0. 0. 0.]\n"
          ]
        }
      ]
    },
    {
      "cell_type": "markdown",
      "source": [
        "La clase del elemento 6 es la clase 1 (pantalones)."
      ],
      "metadata": {
        "id": "XAQ1AWWHrKbi"
      }
    },
    {
      "cell_type": "code",
      "source": [
        "predictions = model2b.predict(test_data)\n",
        "print('Predicción del elemento 6: clase', np.argmax(predictions[5]))\n",
        "print(predictions[5])\n",
        "print('Suma de las predicciones del elemento 6:', np.sum(predictions[5]))"
      ],
      "metadata": {
        "colab": {
          "base_uri": "https://localhost:8080/"
        },
        "outputId": "459e2e0e-b08f-4111-b856-cd9dafc37466",
        "id": "FBIVo56OrKbi"
      },
      "execution_count": null,
      "outputs": [
        {
          "output_type": "stream",
          "name": "stdout",
          "text": [
            "313/313 [==============================] - 0s 1ms/step\n",
            "Predicción del elemento 6: clase 1\n",
            "[3.9456324e-03 9.9470371e-01 2.0176769e-04 3.5539505e-04 7.7885954e-04\n",
            " 4.2394350e-17 1.4595930e-05 3.5434653e-09 1.0422614e-08 3.9521919e-09]\n",
            "Suma de las predicciones del elemento 6: 1.0\n"
          ]
        }
      ]
    },
    {
      "cell_type": "code",
      "source": [
        "def plot_image(i, predictions_array, true_label, img):\n",
        "  predictions_array, true_label, img = predictions_array, true_label[i], img[i]\n",
        "  plt.grid(False)\n",
        "  plt.xticks([])\n",
        "  plt.yticks([])\n",
        "\n",
        "  plt.imshow(img, cmap = plt.cm.binary)    \n",
        "\n",
        "  predicted_label = np.argmax(predictions_array)\n",
        "  if predicted_label.all() == true_label.all():\n",
        "    color = 'blue'\n",
        "  else:\n",
        "    color = 'red'\n",
        "\n",
        "  plt.xlabel('{} {:2.0f}% ({})'.format(predicted_label,\n",
        "                                100*np.max(predictions_array),\n",
        "                                true_label),\n",
        "                                color = color)\n",
        "\n",
        "def plot_value_array(i, predictions_array, true_label):\n",
        "  predictions_array, true_label = predictions_array, true_label[i]\n",
        "  plt.grid(False)\n",
        "  plt.xticks(range(10))\n",
        "  plt.yticks([])\n",
        "  thisplot = plt.bar(range(10), predictions_array, color = '#00FF00')\n",
        "  plt.ylim([0, 1])\n",
        "  predicted_label = np.argmax(predictions_array)\n",
        "\n",
        "  thisplot[predicted_label].set_color('red')\n",
        "  thisplot[np.argmax(true_label)].set_color('black')"
      ],
      "metadata": {
        "id": "3B0qQ9WxrKbi"
      },
      "execution_count": null,
      "outputs": []
    },
    {
      "cell_type": "code",
      "source": [
        "plt.figure(figsize = (6,3))\n",
        "plt.subplot(1,2,1)\n",
        "plot_image(5, predictions[5], test_labels, test_data.reshape(10000,28,28))\n",
        "plt.subplot(1,2,2)\n",
        "plot_value_array(5, predictions[5],  test_labels)\n",
        "plt.show()"
      ],
      "metadata": {
        "colab": {
          "base_uri": "https://localhost:8080/",
          "height": 211
        },
        "outputId": "7bb7bd27-11cd-4f6d-8d03-6912cc1e04b9",
        "id": "3d4DxyPQrKbj"
      },
      "execution_count": null,
      "outputs": [
        {
          "output_type": "display_data",
          "data": {
            "text/plain": [
              "<Figure size 432x216 with 2 Axes>"
            ],
            "image/png": "[encoded data removed]"
          },
          "metadata": {
            "needs_background": "light"
          }
        }
      ]
    },
    {
      "cell_type": "markdown",
      "source": [
        "## Caso 3"
      ],
      "metadata": {
        "id": "IiqUjYKEl4G0"
      }
    },
    {
      "cell_type": "markdown",
      "source": [
        "### Crear la red de neuronas"
      ],
      "metadata": {
        "id": "g2tAAPrHl4G1"
      }
    },
    {
      "cell_type": "markdown",
      "source": [
        "Se crea la red neuronal con una capa de entrada con 10 neuronas y función de activación ```sigmoid```, y una capa de salida con función de activación ```softmax```."
      ],
      "metadata": {
        "id": "EdX8meU-l4G1"
      }
    },
    {
      "cell_type": "code",
      "source": [
        "model3 = models.Sequential()\n",
        "model3.add(layers.Dense(10, activation ='sigmoid', name = 'Capa3', input_shape = (28*28,)))\n",
        "model3.add(layers.Dense(10, name = 'CapaSalida3', activation = 'softmax'))"
      ],
      "metadata": {
        "id": "-bPneutFl4G1"
      },
      "execution_count": null,
      "outputs": []
    },
    {
      "cell_type": "markdown",
      "source": [
        "### Explicar model.summary()\n"
      ],
      "metadata": {
        "id": "0NmJbS4fl4G1"
      }
    },
    {
      "cell_type": "markdown",
      "source": [
        "El resumen del modelo indica el número de parámetros de salida de cada capa. Este número es igual al tamaño de los datos de entrada multiplicado por el número de neuronas, y sumando el número de umbrales de activación de la capa.\n",
        "\n",
        "\n",
        "En el caso de la primera capa: 7850 = 784 (tamaño de los datos) x 10 (número de neuronas) + 10 (número de umbrales de activación).\n",
        "\n",
        "En el caso de la segunda capa: 110 = 10 (tamaño de los datos) x 10 (número de neuronas) + 10 (número de umbrales de activación)."
      ],
      "metadata": {
        "id": "-FTX4egil4G1"
      }
    },
    {
      "cell_type": "code",
      "source": [
        "model3.summary()"
      ],
      "metadata": {
        "colab": {
          "base_uri": "https://localhost:8080/"
        },
        "outputId": "f6d70845-9783-40f5-d0f2-bcff31e8aaf4",
        "id": "6_qB0a08l4G1"
      },
      "execution_count": null,
      "outputs": [
        {
          "output_type": "stream",
          "name": "stdout",
          "text": [
            "Model: \"sequential_9\"\n",
            "_________________________________________________________________\n",
            " Layer (type)                Output Shape              Param #   \n",
            "=================================================================\n",
            " Capa3 (Dense)               (None, 10)                7850      \n",
            "                                                                 \n",
            " CapaSalida3 (Dense)         (None, 10)                110       \n",
            "                                                                 \n",
            "=================================================================\n",
            "Total params: 7,960\n",
            "Trainable params: 7,960\n",
            "Non-trainable params: 0\n",
            "_________________________________________________________________\n"
          ]
        }
      ]
    },
    {
      "cell_type": "markdown",
      "source": [
        "Se definen las funciones del optimizador, la pérdida y la métrica."
      ],
      "metadata": {
        "id": "CEThyLqdl4G1"
      }
    },
    {
      "cell_type": "code",
      "source": [
        "model3.compile(optimizer = 'sgd',\n",
        "              loss = 'categorical_crossentropy',\n",
        "              metrics = ['accuracy'])"
      ],
      "metadata": {
        "id": "NlWa9sPel4G1"
      },
      "execution_count": null,
      "outputs": []
    },
    {
      "cell_type": "markdown",
      "source": [
        "### Entrenar la red"
      ],
      "metadata": {
        "id": "thul5Sspl4G1"
      }
    },
    {
      "cell_type": "markdown",
      "source": [
        "Para entrenar la red se realizan ```5``` ciclos con lotes de ```128``` imágenes. Se compara con los datos de validación para controlar el sobreentrenamiento. "
      ],
      "metadata": {
        "id": "idPqmt4Wl4G1"
      }
    },
    {
      "cell_type": "code",
      "source": [
        "history = model3.fit(train_val_data, train_val_labels,\n",
        "                    epochs = 5,\n",
        "                    batch_size = 128,\n",
        "                    validation_data = (val_data, val_labels))"
      ],
      "metadata": {
        "colab": {
          "base_uri": "https://localhost:8080/"
        },
        "outputId": "e955d2b7-9749-4cca-f52f-e445995c5cfd",
        "id": "9Pd1VScol4G2"
      },
      "execution_count": null,
      "outputs": [
        {
          "output_type": "stream",
          "name": "stdout",
          "text": [
            "Epoch 1/5\n",
            "391/391 [==============================] - 2s 4ms/step - loss: 2.2132 - accuracy: 0.2310 - val_loss: 2.0616 - val_accuracy: 0.3602\n",
            "Epoch 2/5\n",
            "391/391 [==============================] - 1s 4ms/step - loss: 1.9545 - accuracy: 0.4360 - val_loss: 1.8392 - val_accuracy: 0.4891\n",
            "Epoch 3/5\n",
            "391/391 [==============================] - 1s 3ms/step - loss: 1.7462 - accuracy: 0.5353 - val_loss: 1.6525 - val_accuracy: 0.5731\n",
            "Epoch 4/5\n",
            "391/391 [==============================] - 1s 3ms/step - loss: 1.5757 - accuracy: 0.5902 - val_loss: 1.5012 - val_accuracy: 0.6101\n",
            "Epoch 5/5\n",
            "391/391 [==============================] - 1s 3ms/step - loss: 1.4387 - accuracy: 0.6156 - val_loss: 1.3802 - val_accuracy: 0.6311\n"
          ]
        }
      ]
    },
    {
      "cell_type": "markdown",
      "source": [
        "La pérdida indica el porcentaje de errores entre las etiquetas y las predicciones del modelo.\n",
        "\n",
        "La precisión indica el porcentaje de aciertos entre las predicciones y las etiquetas."
      ],
      "metadata": {
        "id": "AmvMmmwal4G2"
      }
    },
    {
      "cell_type": "code",
      "source": [
        "test_loss, test_acc = model3.evaluate(test_data, test_labels)"
      ],
      "metadata": {
        "colab": {
          "base_uri": "https://localhost:8080/"
        },
        "outputId": "db408258-8319-4dee-ed36-7816fda0c27a",
        "id": "57kpkxnKl4G2"
      },
      "execution_count": null,
      "outputs": [
        {
          "output_type": "stream",
          "name": "stdout",
          "text": [
            "313/313 [==============================] - 1s 2ms/step - loss: 1.3849 - accuracy: 0.6245\n"
          ]
        }
      ]
    },
    {
      "cell_type": "code",
      "source": [
        "acc = history.history['accuracy']\n",
        "val_acc = history.history['val_accuracy']\n",
        "loss = history.history['loss']\n",
        "val_loss = history.history['val_loss']\n",
        "\n",
        "epochs = range(1, len(acc) + 1)\n",
        "\n",
        "# \"bo\" es para \"punto azun\"\n",
        "plt.plot(epochs, loss, 'bo', label='Pérdida de Entrenamiento')\n",
        "# \"b\" es para \"linea continua azul\"\n",
        "plt.plot(epochs, val_loss, 'b', label='Pérdida de Validación')\n",
        "plt.title('Pérdida de Entrenamiento y Validación')\n",
        "plt.xlabel('Epochs')\n",
        "plt.ylabel('Loss')\n",
        "plt.legend()\n",
        "\n",
        "plt.show()"
      ],
      "metadata": {
        "id": "IRszGBtPy_iJ",
        "outputId": "6054f02c-b0bb-44d3-f4bd-3755bb12a0be",
        "colab": {
          "base_uri": "https://localhost:8080/",
          "height": 295
        }
      },
      "execution_count": null,
      "outputs": [
        {
          "output_type": "display_data",
          "data": {
            "text/plain": [
              "<Figure size 432x288 with 1 Axes>"
            ],
            "image/png": "[encoded data removed]"
          },
          "metadata": {
            "needs_background": "light"
          }
        }
      ]
    },
    {
      "cell_type": "markdown",
      "source": [
        "### Predecir valores"
      ],
      "metadata": {
        "id": "URWllf3ll4G2"
      }
    },
    {
      "cell_type": "markdown",
      "source": [
        "Imprimir la matriz de confusión, que muestra los valores predichos frente a los reales."
      ],
      "metadata": {
        "id": "_OBRybhrl4G2"
      }
    },
    {
      "cell_type": "code",
      "source": [
        "# Note, this code is taken straight from the SKLEARN website, an nice way of \n",
        "# viewing confusion matrix.\n",
        "def plot_confusion_matrix(cm, classes,\n",
        "                          normalize = False,\n",
        "                          title = 'Confusion matrix',\n",
        "                          cmap = plt.cm.Blues):\n",
        "    '''\n",
        "    This function prints and plots the confusion matrix.\n",
        "    Normalization can be applied by setting `normalize = True`.\n",
        "    '''\n",
        "    plt.imshow(cm, interpolation = 'nearest', cmap = cmap)\n",
        "    plt.title(title)\n",
        "    plt.colorbar()\n",
        "    tick_marks = np.arange(len(classes))\n",
        "    plt.xticks(tick_marks, classes, rotation = 45)\n",
        "    plt.yticks(tick_marks, classes)\n",
        "\n",
        "    if normalize:\n",
        "        cm = cm.astype('float') / cm.sum(axis = 1)[:, np.newaxis]\n",
        "\n",
        "    thresh = cm.max() / 2.\n",
        "    for i, j in itertools.product(range(cm.shape[0]), range(cm.shape[1])):\n",
        "        plt.text(j, i, cm[i, j],\n",
        "                 horizontalalignment = 'center',\n",
        "                 color = 'white' if cm[i, j] > thresh else 'black')\n",
        "\n",
        "    plt.tight_layout()\n",
        "    plt.ylabel('Observación')\n",
        "    plt.xlabel('Predicción')"
      ],
      "metadata": {
        "id": "Iowk6cHEl4G2"
      },
      "execution_count": null,
      "outputs": []
    },
    {
      "cell_type": "code",
      "source": [
        "Y_pred = model.predict(test_data)\n",
        "print('Valores de predicción del modelo')\n",
        "# Convertir en predicciones de clases desde los vectores one-hot encoding \n",
        "Y_pred_classes = np.argmax(Y_pred, axis = 1) \n",
        "# Convertir en clases de observación desde los vectores one-hot encoding\n",
        "Y_true = np.argmax(test_labels, axis = 1) \n",
        "# Computar la matriz de confusión\n",
        "confusion_mtx = confusion_matrix(Y_true, Y_pred_classes) \n",
        "# Dibujar la matriz de confusión\n",
        "print('Matriz de confusión')\n",
        "plot_confusion_matrix(confusion_mtx, classes = range(10))"
      ],
      "metadata": {
        "colab": {
          "base_uri": "https://localhost:8080/",
          "height": 366
        },
        "outputId": "c0e03d09-be1c-4578-8f55-3ee0f64653f0",
        "id": "smiumUGxl4G2"
      },
      "execution_count": null,
      "outputs": [
        {
          "output_type": "stream",
          "name": "stdout",
          "text": [
            "313/313 [==============================] - 0s 1ms/step\n",
            "Valores de predicción del modelo\n",
            "Matriz de confusión\n"
          ]
        },
        {
          "output_type": "display_data",
          "data": {
            "text/plain": [
              "<Figure size 432x288 with 2 Axes>"
            ],
            "image/png": "[encoded data removed]"
          },
          "metadata": {
            "needs_background": "light"
          }
        }
      ]
    },
    {
      "cell_type": "markdown",
      "source": [
        "Se grafica el elemento 6 (```test_data[5]```) para comprobar las soluciones. "
      ],
      "metadata": {
        "id": "ytD9o7lnl4G2"
      }
    },
    {
      "cell_type": "code",
      "source": [
        "digit = test_data.reshape(10000,28, 28)[5]\n",
        "plt.imshow(digit, cmap = plt.cm.binary)\n",
        "plt.show()\n",
        "print(test_labels[5])"
      ],
      "metadata": {
        "colab": {
          "base_uri": "https://localhost:8080/",
          "height": 283
        },
        "outputId": "13866096-9429-4670-ce52-3180ba60330f",
        "id": "68xLwYf2l4G2"
      },
      "execution_count": null,
      "outputs": [
        {
          "output_type": "display_data",
          "data": {
            "text/plain": [
              "<Figure size 432x288 with 1 Axes>"
            ],
            "image/png": "[encoded data removed]"
          },
          "metadata": {
            "needs_background": "light"
          }
        },
        {
          "output_type": "stream",
          "name": "stdout",
          "text": [
            "[0. 1. 0. 0. 0. 0. 0. 0. 0. 0.]\n"
          ]
        }
      ]
    },
    {
      "cell_type": "markdown",
      "source": [
        "La clase del elemento 6 es la clase 1 (pantalones)."
      ],
      "metadata": {
        "id": "VHJVmjX5l4G2"
      }
    },
    {
      "cell_type": "code",
      "source": [
        "predictions = model.predict(test_data)\n",
        "print('Predicción del elemento 6: clase', np.argmax(predictions[5]))\n",
        "print(predictions[5])\n",
        "print('Suma de las predicciones del elemento 6:', np.sum(predictions[5]))"
      ],
      "metadata": {
        "colab": {
          "base_uri": "https://localhost:8080/"
        },
        "outputId": "2034d342-7db5-4616-978a-7feca3a30b6d",
        "id": "q8E7EoEsl4G2"
      },
      "execution_count": null,
      "outputs": [
        {
          "output_type": "stream",
          "name": "stdout",
          "text": [
            "313/313 [==============================] - 0s 1ms/step\n",
            "Predicción del elemento 6: clase 1\n",
            "[1.5701486e-03 9.6329826e-01 3.6851829e-04 1.0837999e-02 1.9751115e-02\n",
            " 1.7835138e-05 4.0504690e-03 8.1603874e-05 2.3705077e-06 2.1786480e-05]\n",
            "Suma de las predicciones del elemento 6: 1.0000001\n"
          ]
        }
      ]
    },
    {
      "cell_type": "code",
      "source": [
        "def plot_image(i, predictions_array, true_label, img):\n",
        "  predictions_array, true_label, img = predictions_array, true_label[i], img[i]\n",
        "  plt.grid(False)\n",
        "  plt.xticks([])\n",
        "  plt.yticks([])\n",
        "\n",
        "  plt.imshow(img, cmap = plt.cm.binary)    \n",
        "\n",
        "  predicted_label = np.argmax(predictions_array)\n",
        "  if predicted_label.all() == true_label.all():\n",
        "    color = 'blue'\n",
        "  else:\n",
        "    color = 'red'\n",
        "\n",
        "  plt.xlabel('{} {:2.0f}% ({})'.format(predicted_label,\n",
        "                                100*np.max(predictions_array),\n",
        "                                true_label),\n",
        "                                color = color)\n",
        "\n",
        "def plot_value_array(i, predictions_array, true_label):\n",
        "  predictions_array, true_label = predictions_array, true_label[i]\n",
        "  plt.grid(False)\n",
        "  plt.xticks(range(10))\n",
        "  plt.yticks([])\n",
        "  thisplot = plt.bar(range(10), predictions_array, color = '#00FF00')\n",
        "  plt.ylim([0, 1])\n",
        "  predicted_label = np.argmax(predictions_array)\n",
        "\n",
        "  thisplot[predicted_label].set_color('red')\n",
        "  thisplot[np.argmax(true_label)].set_color('black')"
      ],
      "metadata": {
        "id": "donQW3jdl4G3"
      },
      "execution_count": null,
      "outputs": []
    },
    {
      "cell_type": "code",
      "source": [
        "plt.figure(figsize = (6,3))\n",
        "plt.subplot(1,2,1)\n",
        "plot_image(5, predictions[5], test_labels, test_data.reshape(10000,28,28))\n",
        "plt.subplot(1,2,2)\n",
        "plot_value_array(5, predictions[5],  test_labels)\n",
        "plt.show()"
      ],
      "metadata": {
        "colab": {
          "base_uri": "https://localhost:8080/",
          "height": 211
        },
        "outputId": "fe902807-aaa2-4568-f6e2-366aa5b7c5ac",
        "id": "PriRLEtYl4G3"
      },
      "execution_count": null,
      "outputs": [
        {
          "output_type": "display_data",
          "data": {
            "text/plain": [
              "<Figure size 432x216 with 2 Axes>"
            ],
            "image/png": "[encoded data removed]"
          },
          "metadata": {
            "needs_background": "light"
          }
        }
      ]
    },
    {
      "cell_type": "markdown",
      "source": [
        "## Caso 3.5"
      ],
      "metadata": {
        "id": "N7JYgzp1rd3G"
      }
    },
    {
      "cell_type": "markdown",
      "source": [
        "### Crear la red de neuronas"
      ],
      "metadata": {
        "id": "QK-V2H0Rrd3G"
      }
    },
    {
      "cell_type": "markdown",
      "source": [
        "Se crea la red neuronal con una capa de entrada con 10 neuronas y función de activación ```sigmoid```, y una capa de salida con función de activación ```softmax```."
      ],
      "metadata": {
        "id": "8dqCjBo5rd3H"
      }
    },
    {
      "cell_type": "code",
      "source": [
        "\n",
        "model3b = models.Sequential()\n",
        "#Capa 3b (sparse_categorical_crossentropy)\n",
        "model3b.add(layers.Dense(10, activation='sigmoid', name=\"Capa3b\",input_shape=(28*28,)))\n",
        "#Capa final\n",
        "model3b.add(layers.Dense(10, name=\"CapaSalida\",activation='softmax'))\n",
        "model3b.add(layers.Flatten())\n",
        "model3b.output_shape"
      ],
      "metadata": {
        "id": "C6cDwHcurd3H",
        "colab": {
          "base_uri": "https://localhost:8080/"
        },
        "outputId": "768b518e-b59b-49a9-e615-38d4a0ac0f80"
      },
      "execution_count": null,
      "outputs": [
        {
          "output_type": "execute_result",
          "data": {
            "text/plain": [
              "(None, 10)"
            ]
          },
          "metadata": {},
          "execution_count": 120
        }
      ]
    },
    {
      "cell_type": "markdown",
      "source": [
        "### Explicar model.summary()\n"
      ],
      "metadata": {
        "id": "NFLzryB3rd3I"
      }
    },
    {
      "cell_type": "markdown",
      "source": [
        "El resumen del modelo indica el número de parámetros de salida de cada capa. Este número es igual al tamaño de los datos de entrada multiplicado por el número de neuronas, y sumando el número de umbrales de activación de la capa.\n",
        "\n",
        "\n",
        "En el caso de la primera capa: 7850 = 784 (tamaño de los datos) x 10 (número de neuronas) + 10 (número de umbrales de activación).\n",
        "\n",
        "En el caso de la segunda capa: 110 = 10 (tamaño de los datos) x 10 (número de neuronas) + 10 (número de umbrales de activación)."
      ],
      "metadata": {
        "id": "WFxnmnlgrd3I"
      }
    },
    {
      "cell_type": "code",
      "source": [
        "model3b.summary()\n"
      ],
      "metadata": {
        "colab": {
          "base_uri": "https://localhost:8080/"
        },
        "outputId": "c0713fbf-1093-466f-f263-8b51587e1f35",
        "id": "eEkK-CgVrd3I"
      },
      "execution_count": null,
      "outputs": [
        {
          "output_type": "stream",
          "name": "stdout",
          "text": [
            "Model: \"sequential_10\"\n",
            "_________________________________________________________________\n",
            " Layer (type)                Output Shape              Param #   \n",
            "=================================================================\n",
            " Capa3b (Dense)              (None, 10)                7850      \n",
            "                                                                 \n",
            " CapaSalida (Dense)          (None, 10)                110       \n",
            "                                                                 \n",
            " flatten_3 (Flatten)         (None, 10)                0         \n",
            "                                                                 \n",
            "=================================================================\n",
            "Total params: 7,960\n",
            "Trainable params: 7,960\n",
            "Non-trainable params: 0\n",
            "_________________________________________________________________\n"
          ]
        }
      ]
    },
    {
      "cell_type": "markdown",
      "source": [
        "Se definen las funciones del optimizador, la pérdida y la métrica."
      ],
      "metadata": {
        "id": "TE6uPAGdrd3J"
      }
    },
    {
      "cell_type": "markdown",
      "source": [
        "Probamos que pasaría si cambiamos el optimizador por 'adam' y la funcion de perdida por 'sparse_categorical_crossentropy'. El optimizador adam es una combinacion de AdaGrad y RMSProp ya que además de RMSProp, cada factor de entrenamiento también se ve afectado por el momentum del gradiente. (https://respuestasrapidas.com.mx/que-es-optimizador-adam/) La función de pérdida sparse_categorical_crossentropy, es una medida de distancia entre probabilidades al igual que categorical_crossentropy pero este caso es usado unicamente para numeros enteros.(https://ignaciogavilan.com/catalogo-de-componentes-de-redes-neuronales-iii-funciones-de-perdida/)"
      ],
      "metadata": {
        "id": "ahlaSxFDxfF4"
      }
    },
    {
      "cell_type": "code",
      "source": [
        "model3b.compile(optimizer='adam',\n",
        "              loss='sparse_categorical_crossentropy',\n",
        "              metrics=['accuracy'])"
      ],
      "metadata": {
        "id": "0x7r1BtUrd3J"
      },
      "execution_count": null,
      "outputs": []
    },
    {
      "cell_type": "markdown",
      "source": [
        "### Entrenar la red"
      ],
      "metadata": {
        "id": "r29ixCBzrd3J"
      }
    },
    {
      "cell_type": "markdown",
      "source": [
        "Para entrenar la red se realizan ```5``` ciclos con lotes de ```128``` imágenes. Se compara con los datos de validación para controlar el sobreentrenamiento. "
      ],
      "metadata": {
        "id": "LWuLgQZWrd3K"
      }
    },
    {
      "cell_type": "code",
      "source": [
        "model3b.fit(train_data, train_labels, epochs=5, batch_size=128)"
      ],
      "metadata": {
        "colab": {
          "base_uri": "https://localhost:8080/",
          "height": 1000
        },
        "outputId": "5c7d6ed8-5ef5-4682-b2e7-d288a3c31520",
        "id": "2otyXG0Prd3K"
      },
      "execution_count": null,
      "outputs": [
        {
          "output_type": "stream",
          "name": "stdout",
          "text": [
            "Epoch 1/5\n"
          ]
        },
        {
          "output_type": "error",
          "ename": "InvalidArgumentError",
          "evalue": "ignored",
          "traceback": [
            "\u001b[0;31m---------------------------------------------------------------------------\u001b[0m",
            "\u001b[0;31mInvalidArgumentError\u001b[0m                      Traceback (most recent call last)",
            "\u001b[0;32m<ipython-input-201-9f09bdbb5632>\u001b[0m in \u001b[0;36m<module>\u001b[0;34m\u001b[0m\n\u001b[0;32m----> 1\u001b[0;31m \u001b[0mmodel3b\u001b[0m\u001b[0;34m.\u001b[0m\u001b[0mfit\u001b[0m\u001b[0;34m(\u001b[0m\u001b[0mtrain_data\u001b[0m\u001b[0;34m,\u001b[0m \u001b[0mtrain_labels\u001b[0m\u001b[0;34m,\u001b[0m \u001b[0mepochs\u001b[0m\u001b[0;34m=\u001b[0m\u001b[0;36m5\u001b[0m\u001b[0;34m,\u001b[0m \u001b[0mbatch_size\u001b[0m\u001b[0;34m=\u001b[0m\u001b[0;36m128\u001b[0m\u001b[0;34m,\u001b[0m\u001b[0mvalidation_data\u001b[0m \u001b[0;34m=\u001b[0m \u001b[0;34m(\u001b[0m\u001b[0mval_data\u001b[0m\u001b[0;34m,\u001b[0m \u001b[0mval_labels\u001b[0m\u001b[0;34m)\u001b[0m\u001b[0;34m)\u001b[0m\u001b[0;34m\u001b[0m\u001b[0;34m\u001b[0m\u001b[0m\n\u001b[0m",
            "\u001b[0;32m/usr/local/lib/python3.7/dist-packages/keras/utils/traceback_utils.py\u001b[0m in \u001b[0;36merror_handler\u001b[0;34m(*args, **kwargs)\u001b[0m\n\u001b[1;32m     65\u001b[0m     \u001b[0;32mexcept\u001b[0m \u001b[0mException\u001b[0m \u001b[0;32mas\u001b[0m \u001b[0me\u001b[0m\u001b[0;34m:\u001b[0m  \u001b[0;31m# pylint: disable=broad-except\u001b[0m\u001b[0;34m\u001b[0m\u001b[0;34m\u001b[0m\u001b[0m\n\u001b[1;32m     66\u001b[0m       \u001b[0mfiltered_tb\u001b[0m \u001b[0;34m=\u001b[0m \u001b[0m_process_traceback_frames\u001b[0m\u001b[0;34m(\u001b[0m\u001b[0me\u001b[0m\u001b[0;34m.\u001b[0m\u001b[0m__traceback__\u001b[0m\u001b[0;34m)\u001b[0m\u001b[0;34m\u001b[0m\u001b[0;34m\u001b[0m\u001b[0m\n\u001b[0;32m---> 67\u001b[0;31m       \u001b[0;32mraise\u001b[0m \u001b[0me\u001b[0m\u001b[0;34m.\u001b[0m\u001b[0mwith_traceback\u001b[0m\u001b[0;34m(\u001b[0m\u001b[0mfiltered_tb\u001b[0m\u001b[0;34m)\u001b[0m \u001b[0;32mfrom\u001b[0m \u001b[0;32mNone\u001b[0m\u001b[0;34m\u001b[0m\u001b[0;34m\u001b[0m\u001b[0m\n\u001b[0m\u001b[1;32m     68\u001b[0m     \u001b[0;32mfinally\u001b[0m\u001b[0;34m:\u001b[0m\u001b[0;34m\u001b[0m\u001b[0;34m\u001b[0m\u001b[0m\n\u001b[1;32m     69\u001b[0m       \u001b[0;32mdel\u001b[0m \u001b[0mfiltered_tb\u001b[0m\u001b[0;34m\u001b[0m\u001b[0;34m\u001b[0m\u001b[0m\n",
            "\u001b[0;32m/usr/local/lib/python3.7/dist-packages/tensorflow/python/eager/execute.py\u001b[0m in \u001b[0;36mquick_execute\u001b[0;34m(op_name, num_outputs, inputs, attrs, ctx, name)\u001b[0m\n\u001b[1;32m     53\u001b[0m     \u001b[0mctx\u001b[0m\u001b[0;34m.\u001b[0m\u001b[0mensure_initialized\u001b[0m\u001b[0;34m(\u001b[0m\u001b[0;34m)\u001b[0m\u001b[0;34m\u001b[0m\u001b[0;34m\u001b[0m\u001b[0m\n\u001b[1;32m     54\u001b[0m     tensors = pywrap_tfe.TFE_Py_Execute(ctx._handle, device_name, op_name,\n\u001b[0;32m---> 55\u001b[0;31m                                         inputs, attrs, num_outputs)\n\u001b[0m\u001b[1;32m     56\u001b[0m   \u001b[0;32mexcept\u001b[0m \u001b[0mcore\u001b[0m\u001b[0;34m.\u001b[0m\u001b[0m_NotOkStatusException\u001b[0m \u001b[0;32mas\u001b[0m \u001b[0me\u001b[0m\u001b[0;34m:\u001b[0m\u001b[0;34m\u001b[0m\u001b[0;34m\u001b[0m\u001b[0m\n\u001b[1;32m     57\u001b[0m     \u001b[0;32mif\u001b[0m \u001b[0mname\u001b[0m \u001b[0;32mis\u001b[0m \u001b[0;32mnot\u001b[0m \u001b[0;32mNone\u001b[0m\u001b[0;34m:\u001b[0m\u001b[0;34m\u001b[0m\u001b[0;34m\u001b[0m\u001b[0m\n",
            "\u001b[0;31mInvalidArgumentError\u001b[0m: Graph execution error:\n\nDetected at node 'sparse_categorical_crossentropy/SparseSoftmaxCrossEntropyWithLogits/SparseSoftmaxCrossEntropyWithLogits' defined at (most recent call last):\n    File \"/usr/lib/python3.7/runpy.py\", line 193, in _run_module_as_main\n      \"__main__\", mod_spec)\n    File \"/usr/lib/python3.7/runpy.py\", line 85, in _run_code\n      exec(code, run_globals)\n    File \"/usr/local/lib/python3.7/dist-packages/ipykernel_launcher.py\", line 16, in <module>\n      app.launch_new_instance()\n    File \"/usr/local/lib/python3.7/dist-packages/traitlets/config/application.py\", line 846, in launch_instance\n      app.start()\n    File \"/usr/local/lib/python3.7/dist-packages/ipykernel/kernelapp.py\", line 612, in start\n      self.io_loop.start()\n    File \"/usr/local/lib/python3.7/dist-packages/tornado/platform/asyncio.py\", line 132, in start\n      self.asyncio_loop.run_forever()\n    File \"/usr/lib/python3.7/asyncio/base_events.py\", line 541, in run_forever\n      self._run_once()\n    File \"/usr/lib/python3.7/asyncio/base_events.py\", line 1786, in _run_once\n      handle._run()\n    File \"/usr/lib/python3.7/asyncio/events.py\", line 88, in _run\n      self._context.run(self._callback, *self._args)\n    File \"/usr/local/lib/python3.7/dist-packages/tornado/ioloop.py\", line 758, in _run_callback\n      ret = callback()\n    File \"/usr/local/lib/python3.7/dist-packages/tornado/stack_context.py\", line 300, in null_wrapper\n      return fn(*args, **kwargs)\n    File \"/usr/local/lib/python3.7/dist-packages/tornado/gen.py\", line 1233, in inner\n      self.run()\n    File \"/usr/local/lib/python3.7/dist-packages/tornado/gen.py\", line 1147, in run\n      yielded = self.gen.send(value)\n    File \"/usr/local/lib/python3.7/dist-packages/ipykernel/kernelbase.py\", line 381, in dispatch_queue\n      yield self.process_one()\n    File \"/usr/local/lib/python3.7/dist-packages/tornado/gen.py\", line 346, in wrapper\n      runner = Runner(result, future, yielded)\n    File \"/usr/local/lib/python3.7/dist-packages/tornado/gen.py\", line 1080, in __init__\n      self.run()\n    File \"/usr/local/lib/python3.7/dist-packages/tornado/gen.py\", line 1147, in run\n      yielded = self.gen.send(value)\n    File \"/usr/local/lib/python3.7/dist-packages/ipykernel/kernelbase.py\", line 365, in process_one\n      yield gen.maybe_future(dispatch(*args))\n    File \"/usr/local/lib/python3.7/dist-packages/tornado/gen.py\", line 326, in wrapper\n      yielded = next(result)\n    File \"/usr/local/lib/python3.7/dist-packages/ipykernel/kernelbase.py\", line 268, in dispatch_shell\n      yield gen.maybe_future(handler(stream, idents, msg))\n    File \"/usr/local/lib/python3.7/dist-packages/tornado/gen.py\", line 326, in wrapper\n      yielded = next(result)\n    File \"/usr/local/lib/python3.7/dist-packages/ipykernel/kernelbase.py\", line 545, in execute_request\n      user_expressions, allow_stdin,\n    File \"/usr/local/lib/python3.7/dist-packages/tornado/gen.py\", line 326, in wrapper\n      yielded = next(result)\n    File \"/usr/local/lib/python3.7/dist-packages/ipykernel/ipkernel.py\", line 306, in do_execute\n      res = shell.run_cell(code, store_history=store_history, silent=silent)\n    File \"/usr/local/lib/python3.7/dist-packages/ipykernel/zmqshell.py\", line 536, in run_cell\n      return super(ZMQInteractiveShell, self).run_cell(*args, **kwargs)\n    File \"/usr/local/lib/python3.7/dist-packages/IPython/core/interactiveshell.py\", line 2855, in run_cell\n      raw_cell, store_history, silent, shell_futures)\n    File \"/usr/local/lib/python3.7/dist-packages/IPython/core/interactiveshell.py\", line 2881, in _run_cell\n      return runner(coro)\n    File \"/usr/local/lib/python3.7/dist-packages/IPython/core/async_helpers.py\", line 68, in _pseudo_sync_runner\n      coro.send(None)\n    File \"/usr/local/lib/python3.7/dist-packages/IPython/core/interactiveshell.py\", line 3058, in run_cell_async\n      interactivity=interactivity, compiler=compiler, result=result)\n    File \"/usr/local/lib/python3.7/dist-packages/IPython/core/interactiveshell.py\", line 3249, in run_ast_nodes\n      if (await self.run_code(code, result,  async_=asy)):\n    File \"/usr/local/lib/python3.7/dist-packages/IPython/core/interactiveshell.py\", line 3326, in run_code\n      exec(code_obj, self.user_global_ns, self.user_ns)\n    File \"<ipython-input-123-23c07e59ef1a>\", line 1, in <module>\n      model3b.fit(train_data, train_labels, epochs=5, batch_size=128)\n    File \"/usr/local/lib/python3.7/dist-packages/keras/utils/traceback_utils.py\", line 64, in error_handler\n      return fn(*args, **kwargs)\n    File \"/usr/local/lib/python3.7/dist-packages/keras/engine/training.py\", line 1409, in fit\n      tmp_logs = self.train_function(iterator)\n    File \"/usr/local/lib/python3.7/dist-packages/keras/engine/training.py\", line 1051, in train_function\n      return step_function(self, iterator)\n    File \"/usr/local/lib/python3.7/dist-packages/keras/engine/training.py\", line 1040, in step_function\n      outputs = model.distribute_strategy.run(run_step, args=(data,))\n    File \"/usr/local/lib/python3.7/dist-packages/keras/engine/training.py\", line 1030, in run_step\n      outputs = model.train_step(data)\n    File \"/usr/local/lib/python3.7/dist-packages/keras/engine/training.py\", line 890, in train_step\n      loss = self.compute_loss(x, y, y_pred, sample_weight)\n    File \"/usr/local/lib/python3.7/dist-packages/keras/engine/training.py\", line 949, in compute_loss\n      y, y_pred, sample_weight, regularization_losses=self.losses)\n    File \"/usr/local/lib/python3.7/dist-packages/keras/engine/compile_utils.py\", line 201, in __call__\n      loss_value = loss_obj(y_t, y_p, sample_weight=sw)\n    File \"/usr/local/lib/python3.7/dist-packages/keras/losses.py\", line 139, in __call__\n      losses = call_fn(y_true, y_pred)\n    File \"/usr/local/lib/python3.7/dist-packages/keras/losses.py\", line 243, in call\n      return ag_fn(y_true, y_pred, **self._fn_kwargs)\n    File \"/usr/local/lib/python3.7/dist-packages/keras/losses.py\", line 1861, in sparse_categorical_crossentropy\n      y_true, y_pred, from_logits=from_logits, axis=axis)\n    File \"/usr/local/lib/python3.7/dist-packages/keras/backend.py\", line 5239, in sparse_categorical_crossentropy\n      labels=target, logits=output)\nNode: 'sparse_categorical_crossentropy/SparseSoftmaxCrossEntropyWithLogits/SparseSoftmaxCrossEntropyWithLogits'\nlogits and labels must have the same first dimension, got logits shape [128,10] and labels shape [1280]\n\t [[{{node sparse_categorical_crossentropy/SparseSoftmaxCrossEntropyWithLogits/SparseSoftmaxCrossEntropyWithLogits}}]] [Op:__inference_train_function_210707]"
          ]
        }
      ]
    },
    {
      "cell_type": "markdown",
      "source": [
        "La pérdida indica el porcentaje de errores entre las etiquetas y las predicciones del modelo.\n",
        "\n",
        "La precisión indica el porcentaje de aciertos entre las predicciones y las etiquetas."
      ],
      "metadata": {
        "id": "DW-cUg6trd3K"
      }
    },
    {
      "cell_type": "code",
      "source": [
        "test_loss, test_acc = model3b.evaluate(test_data, test_labels)"
      ],
      "metadata": {
        "id": "rsUBHHr5rd3L"
      },
      "execution_count": null,
      "outputs": []
    },
    {
      "cell_type": "code",
      "source": [
        "print('test_loss:', test_loss)\n",
        "print('test_acc:', test_acc)"
      ],
      "metadata": {
        "id": "H7jGAGCYvQqD"
      },
      "execution_count": null,
      "outputs": []
    },
    {
      "cell_type": "code",
      "source": [
        "acc = history.history['accuracy']\n",
        "val_acc = history.history['val_accuracy']\n",
        "loss = history.history['loss']\n",
        "val_loss = history.history['val_loss']\n",
        "\n",
        "epochs = range(1, len(acc) + 1)\n",
        "\n",
        "# \"bo\" es para \"punto azun\"\n",
        "plt.plot(epochs, loss, 'bo', label='Pérdida de Entrenamiento')\n",
        "# \"b\" es para \"linea continua azul\"\n",
        "plt.plot(epochs, val_loss, 'b', label='Pérdida de Validación')\n",
        "plt.title('Pérdida de Entrenamiento y Validación')\n",
        "plt.xlabel('Epochs')\n",
        "plt.ylabel('Loss')\n",
        "plt.legend()\n",
        "\n",
        "plt.show()"
      ],
      "metadata": {
        "id": "lvQrKDE7zDco"
      },
      "execution_count": null,
      "outputs": []
    },
    {
      "cell_type": "markdown",
      "source": [
        "### Predecir valores"
      ],
      "metadata": {
        "id": "bFdZ-N49rd3L"
      }
    },
    {
      "cell_type": "markdown",
      "source": [
        "Imprimir la matriz de confusión, que muestra los valores predichos frente a los reales."
      ],
      "metadata": {
        "id": "DSbIO9vLrd3L"
      }
    },
    {
      "cell_type": "code",
      "source": [
        "# Note, this code is taken straight from the SKLEARN website, an nice way of \n",
        "# viewing confusion matrix.\n",
        "def plot_confusion_matrix(cm, classes,\n",
        "                          normalize = False,\n",
        "                          title = 'Confusion matrix',\n",
        "                          cmap = plt.cm.Blues):\n",
        "    '''\n",
        "    This function prints and plots the confusion matrix.\n",
        "    Normalization can be applied by setting `normalize = True`.\n",
        "    '''\n",
        "    plt.imshow(cm, interpolation = 'nearest', cmap = cmap)\n",
        "    plt.title(title)\n",
        "    plt.colorbar()\n",
        "    tick_marks = np.arange(len(classes))\n",
        "    plt.xticks(tick_marks, classes, rotation = 45)\n",
        "    plt.yticks(tick_marks, classes)\n",
        "\n",
        "    if normalize:\n",
        "        cm = cm.astype('float') / cm.sum(axis = 1)[:, np.newaxis]\n",
        "\n",
        "    thresh = cm.max() / 2.\n",
        "    for i, j in itertools.product(range(cm.shape[0]), range(cm.shape[1])):\n",
        "        plt.text(j, i, cm[i, j],\n",
        "                 horizontalalignment = 'center',\n",
        "                 color = 'white' if cm[i, j] > thresh else 'black')\n",
        "\n",
        "    plt.tight_layout()\n",
        "    plt.ylabel('Observación')\n",
        "    plt.xlabel('Predicción')"
      ],
      "metadata": {
        "id": "Uha1SB_Frd3L"
      },
      "execution_count": null,
      "outputs": []
    },
    {
      "cell_type": "code",
      "source": [
        "Y_pred = model3b.predict(test_data)\n",
        "print('Valores de predicción del modelo')\n",
        "# Convertir en predicciones de clases desde los vectores one-hot encoding \n",
        "Y_pred_classes = np.argmax(Y_pred, axis = 1) \n",
        "# Convertir en clases de observación desde los vectores one-hot encoding\n",
        "Y_true = np.argmax(test_labels, axis = 1) \n",
        "# Computar la matriz de confusión\n",
        "confusion_mtx = confusion_matrix(Y_true, Y_pred_classes) \n",
        "# Dibujar la matriz de confusión\n",
        "print('Matriz de confusión')\n",
        "plot_confusion_matrix(confusion_mtx, classes = range(10))"
      ],
      "metadata": {
        "id": "Dvz0RQ4mrd3M"
      },
      "execution_count": null,
      "outputs": []
    },
    {
      "cell_type": "markdown",
      "source": [
        "Se grafica el elemento 6 (```test_data[5]```) para comprobar las soluciones. "
      ],
      "metadata": {
        "id": "bwAm3z1trd3M"
      }
    },
    {
      "cell_type": "code",
      "source": [
        "digit = test_data.reshape(10000,28, 28)[5]\n",
        "plt.imshow(digit, cmap = plt.cm.binary)\n",
        "plt.show()\n",
        "print(test_labels[5])"
      ],
      "metadata": {
        "id": "uA4P_aigrd3N"
      },
      "execution_count": null,
      "outputs": []
    },
    {
      "cell_type": "markdown",
      "source": [
        "La clase del elemento 6 es la clase 1 (pantalones)."
      ],
      "metadata": {
        "id": "lEv3tdyMrd3N"
      }
    },
    {
      "cell_type": "code",
      "source": [
        "predictions = model3b.predict(test_data)\n",
        "print('Predicción del elemento 6: clase', np.argmax(predictions[5]))\n",
        "print(predictions[5])\n",
        "print('Suma de las predicciones del elemento 6:', np.sum(predictions[5]))"
      ],
      "metadata": {
        "id": "MHflWlgOrd3N"
      },
      "execution_count": null,
      "outputs": []
    },
    {
      "cell_type": "code",
      "source": [
        "def plot_image(i, predictions_array, true_label, img):\n",
        "  predictions_array, true_label, img = predictions_array, true_label[i], img[i]\n",
        "  plt.grid(False)\n",
        "  plt.xticks([])\n",
        "  plt.yticks([])\n",
        "\n",
        "  plt.imshow(img, cmap = plt.cm.binary)    \n",
        "\n",
        "  predicted_label = np.argmax(predictions_array)\n",
        "  if predicted_label.all() == true_label.all():\n",
        "    color = 'blue'\n",
        "  else:\n",
        "    color = 'red'\n",
        "\n",
        "  plt.xlabel('{} {:2.0f}% ({})'.format(predicted_label,\n",
        "                                100*np.max(predictions_array),\n",
        "                                true_label),\n",
        "                                color = color)\n",
        "\n",
        "def plot_value_array(i, predictions_array, true_label):\n",
        "  predictions_array, true_label = predictions_array, true_label[i]\n",
        "  plt.grid(False)\n",
        "  plt.xticks(range(10))\n",
        "  plt.yticks([])\n",
        "  thisplot = plt.bar(range(10), predictions_array, color = '#00FF00')\n",
        "  plt.ylim([0, 1])\n",
        "  predicted_label = np.argmax(predictions_array)\n",
        "\n",
        "  thisplot[predicted_label].set_color('red')\n",
        "  thisplot[np.argmax(true_label)].set_color('black')"
      ],
      "metadata": {
        "id": "RbqtOApSrd3O"
      },
      "execution_count": null,
      "outputs": []
    },
    {
      "cell_type": "code",
      "source": [
        "plt.figure(figsize = (6,3))\n",
        "plt.subplot(1,2,1)\n",
        "plot_image(5, predictions[5], test_labels, test_data.reshape(10000,28,28))\n",
        "plt.subplot(1,2,2)\n",
        "plot_value_array(5, predictions[5],  test_labels)\n",
        "plt.show()"
      ],
      "metadata": {
        "id": "vAaiHM5ard3O"
      },
      "execution_count": null,
      "outputs": []
    },
    {
      "cell_type": "markdown",
      "source": [
        "## Caso 4"
      ],
      "metadata": {
        "id": "pG0RpOcQnL_Y"
      }
    },
    {
      "cell_type": "markdown",
      "source": [
        "### Crear la red de neuronas"
      ],
      "metadata": {
        "id": "qzKPBAMxnL_Y"
      }
    },
    {
      "cell_type": "markdown",
      "source": [
        "Se crea la red neuronal con una capa de entrada con 10 neuronas y función de activación ```sigmoid```, y una capa de salida con función de activación ```softmax```."
      ],
      "metadata": {
        "id": "pAroJtSYnL_Y"
      }
    },
    {
      "cell_type": "code",
      "source": [
        "model4 = models.Sequential()\n",
        "model4.add(layers.Dense(10, activation ='sigmoid', name = 'Capa4', input_shape = (28*28,)))\n",
        "model4.add(layers.Dense(10, name = 'CapaSalida4', activation = 'softmax'))"
      ],
      "metadata": {
        "id": "4LBCts9cnL_Y"
      },
      "execution_count": null,
      "outputs": []
    },
    {
      "cell_type": "markdown",
      "source": [
        "### Explicar model.summary()\n"
      ],
      "metadata": {
        "id": "bJGnvIcWnL_Y"
      }
    },
    {
      "cell_type": "markdown",
      "source": [
        "El resumen del modelo indica el número de parámetros de salida de cada capa. Este número es igual al tamaño de los datos de entrada multiplicado por el número de neuronas, y sumando el número de umbrales de activación de la capa.\n",
        "\n",
        "\n",
        "En el caso de la primera capa: 7850 = 784 (tamaño de los datos) x 10 (número de neuronas) + 10 (número de umbrales de activación).\n",
        "\n",
        "En el caso de la segunda capa: 110 = 10 (tamaño de los datos) x 10 (número de neuronas) + 10 (número de umbrales de activación)."
      ],
      "metadata": {
        "id": "_YaXFlUcnL_Z"
      }
    },
    {
      "cell_type": "code",
      "source": [
        "model4.summary()"
      ],
      "metadata": {
        "id": "V3uzK2MmnL_Z",
        "outputId": "4753fab8-523a-4329-fb49-9f3d38efbfbd",
        "colab": {
          "base_uri": "https://localhost:8080/"
        }
      },
      "execution_count": null,
      "outputs": [
        {
          "output_type": "stream",
          "name": "stdout",
          "text": [
            "Model: \"sequential_11\"\n",
            "_________________________________________________________________\n",
            " Layer (type)                Output Shape              Param #   \n",
            "=================================================================\n",
            " Capa4 (Dense)               (None, 10)                7850      \n",
            "                                                                 \n",
            " CapaSalida4 (Dense)         (None, 10)                110       \n",
            "                                                                 \n",
            "=================================================================\n",
            "Total params: 7,960\n",
            "Trainable params: 7,960\n",
            "Non-trainable params: 0\n",
            "_________________________________________________________________\n"
          ]
        }
      ]
    },
    {
      "cell_type": "markdown",
      "source": [
        "Se definen las funciones del optimizador, la pérdida y la métrica."
      ],
      "metadata": {
        "id": "OnCHy0j4nL_Z"
      }
    },
    {
      "cell_type": "code",
      "source": [
        "model4.compile(optimizer = 'rmsprop',\n",
        "              loss = 'categorical_crossentropy',\n",
        "              metrics = ['accuracy'])"
      ],
      "metadata": {
        "id": "8eC24vkgnL_a"
      },
      "execution_count": null,
      "outputs": []
    },
    {
      "cell_type": "markdown",
      "source": [
        "### Entrenar la red"
      ],
      "metadata": {
        "id": "V2ncKrWKnL_a"
      }
    },
    {
      "cell_type": "markdown",
      "source": [
        "Para entrenar la red se realizan ```5``` ciclos con lotes de ```128``` imágenes. Se compara con los datos de validación para controlar el sobreentrenamiento. "
      ],
      "metadata": {
        "id": "JhSrEon5nL_a"
      }
    },
    {
      "cell_type": "code",
      "source": [
        "history = model4.fit(train_val_data, train_val_labels,\n",
        "                    epochs = 5,\n",
        "                    batch_size = 128,\n",
        "                    validation_data = (val_data, val_labels))"
      ],
      "metadata": {
        "id": "h9d66JO7nL_a",
        "outputId": "9343bb10-e99a-49c7-c872-858477d51a3d",
        "colab": {
          "base_uri": "https://localhost:8080/"
        }
      },
      "execution_count": null,
      "outputs": [
        {
          "output_type": "stream",
          "name": "stdout",
          "text": [
            "Epoch 1/5\n",
            "391/391 [==============================] - 2s 3ms/step - loss: 1.5296 - accuracy: 0.6506 - val_loss: 1.1364 - val_accuracy: 0.7660\n",
            "Epoch 2/5\n",
            "391/391 [==============================] - 1s 3ms/step - loss: 0.9143 - accuracy: 0.7847 - val_loss: 0.7672 - val_accuracy: 0.7916\n",
            "Epoch 3/5\n",
            "391/391 [==============================] - 1s 3ms/step - loss: 0.6740 - accuracy: 0.8089 - val_loss: 0.6201 - val_accuracy: 0.8086\n",
            "Epoch 4/5\n",
            "391/391 [==============================] - 1s 3ms/step - loss: 0.5695 - accuracy: 0.8235 - val_loss: 0.5505 - val_accuracy: 0.8206\n",
            "Epoch 5/5\n",
            "391/391 [==============================] - 1s 3ms/step - loss: 0.5160 - accuracy: 0.8321 - val_loss: 0.5105 - val_accuracy: 0.8281\n"
          ]
        }
      ]
    },
    {
      "cell_type": "markdown",
      "source": [
        "La pérdida indica el porcentaje de errores entre las etiquetas y las predicciones del modelo.\n",
        "\n",
        "La precisión indica el porcentaje de aciertos entre las predicciones y las etiquetas."
      ],
      "metadata": {
        "id": "QdKSZ3jonL_a"
      }
    },
    {
      "cell_type": "code",
      "source": [
        "test_loss, test_acc = model4.evaluate(test_data, test_labels)"
      ],
      "metadata": {
        "id": "FaoTK6dbnL_b",
        "outputId": "066a929c-d8fe-4a52-edd4-70f8da781a42",
        "colab": {
          "base_uri": "https://localhost:8080/"
        }
      },
      "execution_count": null,
      "outputs": [
        {
          "output_type": "stream",
          "name": "stdout",
          "text": [
            "313/313 [==============================] - 1s 2ms/step - loss: 0.5245 - accuracy: 0.8212\n"
          ]
        }
      ]
    },
    {
      "cell_type": "code",
      "source": [
        "acc = history.history['accuracy']\n",
        "val_acc = history.history['val_accuracy']\n",
        "loss = history.history['loss']\n",
        "val_loss = history.history['val_loss']\n",
        "\n",
        "epochs = range(1, len(acc) + 1)\n",
        "\n",
        "# \"bo\" es para \"punto azun\"\n",
        "plt.plot(epochs, loss, 'bo', label='Pérdida de Entrenamiento')\n",
        "# \"b\" es para \"linea continua azul\"\n",
        "plt.plot(epochs, val_loss, 'b', label='Pérdida de Validación')\n",
        "plt.title('Pérdida de Entrenamiento y Validación')\n",
        "plt.xlabel('Epochs')\n",
        "plt.ylabel('Loss')\n",
        "plt.legend()\n",
        "\n",
        "plt.show()"
      ],
      "metadata": {
        "id": "3upJJNL3zGfw",
        "outputId": "b7528312-1c2c-4066-8ef5-2ccd434c633e",
        "colab": {
          "base_uri": "https://localhost:8080/",
          "height": 295
        }
      },
      "execution_count": null,
      "outputs": [
        {
          "output_type": "display_data",
          "data": {
            "text/plain": [
              "<Figure size 432x288 with 1 Axes>"
            ],
            "image/png": "[encoded data removed]"
          },
          "metadata": {
            "needs_background": "light"
          }
        }
      ]
    },
    {
      "cell_type": "markdown",
      "source": [
        "### Predecir valores"
      ],
      "metadata": {
        "id": "sp6gTseInL_b"
      }
    },
    {
      "cell_type": "markdown",
      "source": [
        "Imprimir la matriz de confusión, que muestra los valores predichos frente a los reales."
      ],
      "metadata": {
        "id": "0Ngih3f_nL_b"
      }
    },
    {
      "cell_type": "code",
      "source": [
        "# Note, this code is taken straight from the SKLEARN website, an nice way of \n",
        "# viewing confusion matrix.\n",
        "def plot_confusion_matrix(cm, classes,\n",
        "                          normalize = False,\n",
        "                          title = 'Confusion matrix',\n",
        "                          cmap = plt.cm.Blues):\n",
        "    '''\n",
        "    This function prints and plots the confusion matrix.\n",
        "    Normalization can be applied by setting `normalize = True`.\n",
        "    '''\n",
        "    plt.imshow(cm, interpolation = 'nearest', cmap = cmap)\n",
        "    plt.title(title)\n",
        "    plt.colorbar()\n",
        "    tick_marks = np.arange(len(classes))\n",
        "    plt.xticks(tick_marks, classes, rotation = 45)\n",
        "    plt.yticks(tick_marks, classes)\n",
        "\n",
        "    if normalize:\n",
        "        cm = cm.astype('float') / cm.sum(axis = 1)[:, np.newaxis]\n",
        "\n",
        "    thresh = cm.max() / 2.\n",
        "    for i, j in itertools.product(range(cm.shape[0]), range(cm.shape[1])):\n",
        "        plt.text(j, i, cm[i, j],\n",
        "                 horizontalalignment = 'center',\n",
        "                 color = 'white' if cm[i, j] > thresh else 'black')\n",
        "\n",
        "    plt.tight_layout()\n",
        "    plt.ylabel('Observación')\n",
        "    plt.xlabel('Predicción')"
      ],
      "metadata": {
        "id": "F8HLRrwtnL_b"
      },
      "execution_count": null,
      "outputs": []
    },
    {
      "cell_type": "code",
      "source": [
        "Y_pred = model4.predict(test_data)\n",
        "print('Valores de predicción del modelo')\n",
        "# Convertir en predicciones de clases desde los vectores one-hot encoding \n",
        "Y_pred_classes = np.argmax(Y_pred, axis = 1) \n",
        "# Convertir en clases de observación desde los vectores one-hot encoding\n",
        "Y_true = np.argmax(test_labels, axis = 1) \n",
        "# Computar la matriz de confusión\n",
        "confusion_mtx = confusion_matrix(Y_true, Y_pred_classes) \n",
        "# Dibujar la matriz de confusión\n",
        "print('Matriz de confusión')\n",
        "plot_confusion_matrix(confusion_mtx, classes = range(10))"
      ],
      "metadata": {
        "id": "EGygLIdsnL_b",
        "outputId": "0c3c1d92-ca87-4d43-9565-936895e7aca8",
        "colab": {
          "base_uri": "https://localhost:8080/",
          "height": 366
        }
      },
      "execution_count": null,
      "outputs": [
        {
          "output_type": "stream",
          "name": "stdout",
          "text": [
            "313/313 [==============================] - 0s 1ms/step\n",
            "Valores de predicción del modelo\n",
            "Matriz de confusión\n"
          ]
        },
        {
          "output_type": "display_data",
          "data": {
            "text/plain": [
              "<Figure size 432x288 with 2 Axes>"
            ],
            "image/png": "[encoded data removed]"
          },
          "metadata": {
            "needs_background": "light"
          }
        }
      ]
    },
    {
      "cell_type": "markdown",
      "source": [
        "Se grafica el elemento 6 (```test_data[5]```) para comprobar las soluciones. "
      ],
      "metadata": {
        "id": "HU9RhG_xnL_b"
      }
    },
    {
      "cell_type": "code",
      "source": [
        "digit = test_data.reshape(10000,28, 28)[5]\n",
        "plt.imshow(digit, cmap = plt.cm.binary)\n",
        "plt.show()\n",
        "print(test_labels[5])"
      ],
      "metadata": {
        "id": "vOyRw8bXnL_b",
        "outputId": "2848e487-c4f9-4c0e-a956-e994b07d2f4c",
        "colab": {
          "base_uri": "https://localhost:8080/",
          "height": 283
        }
      },
      "execution_count": null,
      "outputs": [
        {
          "output_type": "display_data",
          "data": {
            "text/plain": [
              "<Figure size 432x288 with 1 Axes>"
            ],
            "image/png": "[encoded data removed]"
          },
          "metadata": {
            "needs_background": "light"
          }
        },
        {
          "output_type": "stream",
          "name": "stdout",
          "text": [
            "[0. 1. 0. 0. 0. 0. 0. 0. 0. 0.]\n"
          ]
        }
      ]
    },
    {
      "cell_type": "markdown",
      "source": [
        "La clase del elemento 6 es la clase 1 (pantalones)."
      ],
      "metadata": {
        "id": "CvCPSI9bnL_b"
      }
    },
    {
      "cell_type": "code",
      "source": [
        "predictions = model4.predict(test_data)\n",
        "print('Predicción del elemento 6: clase', np.argmax(predictions[5]))\n",
        "print(predictions[5])\n",
        "print('Suma de las predicciones del elemento 6:', np.sum(predictions[5]))"
      ],
      "metadata": {
        "id": "-9-stjJwnL_c",
        "outputId": "7848bf9f-b47d-4760-e765-50f19421c85d",
        "colab": {
          "base_uri": "https://localhost:8080/"
        }
      },
      "execution_count": null,
      "outputs": [
        {
          "output_type": "stream",
          "name": "stdout",
          "text": [
            "313/313 [==============================] - 0s 1ms/step\n",
            "Predicción del elemento 6: clase 1\n",
            "[6.2962039e-03 9.7851682e-01 8.9907710e-04 5.4108649e-03 5.5254996e-03\n",
            " 6.8562977e-06 2.4881342e-03 2.3528957e-04 1.6495606e-04 4.5615988e-04]\n",
            "Suma de las predicciones del elemento 6: 0.9999999\n"
          ]
        }
      ]
    },
    {
      "cell_type": "code",
      "source": [
        "def plot_image(i, predictions_array, true_label, img):\n",
        "  predictions_array, true_label, img = predictions_array, true_label[i], img[i]\n",
        "  plt.grid(False)\n",
        "  plt.xticks([])\n",
        "  plt.yticks([])\n",
        "\n",
        "  plt.imshow(img, cmap = plt.cm.binary)    \n",
        "\n",
        "  predicted_label = np.argmax(predictions_array)\n",
        "  if predicted_label.all() == true_label.all():\n",
        "    color = 'blue'\n",
        "  else:\n",
        "    color = 'red'\n",
        "\n",
        "  plt.xlabel('{} {:2.0f}% ({})'.format(predicted_label,\n",
        "                                100*np.max(predictions_array),\n",
        "                                true_label),\n",
        "                                color = color)\n",
        "\n",
        "def plot_value_array(i, predictions_array, true_label):\n",
        "  predictions_array, true_label = predictions_array, true_label[i]\n",
        "  plt.grid(False)\n",
        "  plt.xticks(range(10))\n",
        "  plt.yticks([])\n",
        "  thisplot = plt.bar(range(10), predictions_array, color = '#00FF00')\n",
        "  plt.ylim([0, 1])\n",
        "  predicted_label = np.argmax(predictions_array)\n",
        "\n",
        "  thisplot[predicted_label].set_color('red')\n",
        "  thisplot[np.argmax(true_label)].set_color('black')"
      ],
      "metadata": {
        "id": "46vLUQeEnL_c"
      },
      "execution_count": null,
      "outputs": []
    },
    {
      "cell_type": "code",
      "source": [
        "plt.figure(figsize = (6,3))\n",
        "plt.subplot(1,2,1)\n",
        "plot_image(5, predictions[5], test_labels, test_data.reshape(10000,28,28))\n",
        "plt.subplot(1,2,2)\n",
        "plot_value_array(5, predictions[5],  test_labels)\n",
        "plt.show()"
      ],
      "metadata": {
        "id": "hf_E71v6nL_c",
        "colab": {
          "base_uri": "https://localhost:8080/",
          "height": 211
        },
        "outputId": "3815fedf-753a-408c-aa1c-8d0abd4d9d1a"
      },
      "execution_count": null,
      "outputs": [
        {
          "output_type": "display_data",
          "data": {
            "text/plain": [
              "<Figure size 432x216 with 2 Axes>"
            ],
            "image/png": "[encoded data removed]"
          },
          "metadata": {
            "needs_background": "light"
          }
        }
      ]
    },
    {
      "cell_type": "markdown",
      "source": [
        "## Caso 5"
      ],
      "metadata": {
        "id": "Fby8RmBGnd2V"
      }
    },
    {
      "cell_type": "markdown",
      "source": [
        "### Crear la red de neuronas"
      ],
      "metadata": {
        "id": "CHNZmMSPnd2V"
      }
    },
    {
      "cell_type": "markdown",
      "source": [
        "Se crea la red neuronal con una capa de entrada con 512 neuronas y función de activación ```relu```, y una capa de salida con función de activación ```softmax```."
      ],
      "metadata": {
        "id": "l38MSK_mnd2W"
      }
    },
    {
      "cell_type": "code",
      "source": [
        "model5 = models.Sequential()\n",
        "model5.add(layers.Dense(512, activation ='relu', name = 'Capa5', input_shape = (28*28,)))\n",
        "model5.add(layers.Dense(10, name = 'CapaSalida5', activation = 'softmax'))"
      ],
      "metadata": {
        "id": "h1P-qXZRnd2W"
      },
      "execution_count": null,
      "outputs": []
    },
    {
      "cell_type": "markdown",
      "source": [
        "### Explicar model.summary()\n"
      ],
      "metadata": {
        "id": "yp-jURqhnd2W"
      }
    },
    {
      "cell_type": "markdown",
      "source": [
        "El resumen del modelo indica el número de parámetros de salida de cada capa. Este número es igual al tamaño de los datos de entrada multiplicado por el número de neuronas, y sumando el número de umbrales de activación de la capa.\n",
        "\n",
        "\n",
        "En el caso de la primera capa: 401920 = 784 (tamaño de los datos) x 512 (número de neuronas) + 512 (número de umbrales de activación).\n",
        "\n",
        "En el caso de la segunda capa: 262656 = 512 (tamaño de los datos) x 512 (número de neuronas) + 512 (número de umbrales de activación)."
      ],
      "metadata": {
        "id": "MviPbsMknd2W"
      }
    },
    {
      "cell_type": "code",
      "source": [
        "model5.summary()"
      ],
      "metadata": {
        "id": "alncmfXPnd2W",
        "outputId": "ab6c4900-32da-4ed8-c05f-cc163dfcd460",
        "colab": {
          "base_uri": "https://localhost:8080/"
        }
      },
      "execution_count": null,
      "outputs": [
        {
          "output_type": "stream",
          "name": "stdout",
          "text": [
            "Model: \"sequential_12\"\n",
            "_________________________________________________________________\n",
            " Layer (type)                Output Shape              Param #   \n",
            "=================================================================\n",
            " Capa5 (Dense)               (None, 512)               401920    \n",
            "                                                                 \n",
            " CapaSalida5 (Dense)         (None, 10)                5130      \n",
            "                                                                 \n",
            "=================================================================\n",
            "Total params: 407,050\n",
            "Trainable params: 407,050\n",
            "Non-trainable params: 0\n",
            "_________________________________________________________________\n"
          ]
        }
      ]
    },
    {
      "cell_type": "markdown",
      "source": [
        "Se definen las funciones del optimizador, la pérdida y la métrica."
      ],
      "metadata": {
        "id": "pqPw06uRnd2W"
      }
    },
    {
      "cell_type": "code",
      "source": [
        "model5.compile(optimizer = 'sgd',\n",
        "              loss = 'categorical_crossentropy',\n",
        "              metrics = ['accuracy'])"
      ],
      "metadata": {
        "id": "Rz-hhHlVnd2W"
      },
      "execution_count": null,
      "outputs": []
    },
    {
      "cell_type": "markdown",
      "source": [
        "### Entrenar la red"
      ],
      "metadata": {
        "id": "EqVks6j0nd2W"
      }
    },
    {
      "cell_type": "markdown",
      "source": [
        "Para entrenar la red se realizan ```5``` ciclos con lotes de ```128``` imágenes. Se compara con los datos de validación para controlar el sobreentrenamiento. "
      ],
      "metadata": {
        "id": "5CwoD-17nd2W"
      }
    },
    {
      "cell_type": "code",
      "source": [
        "history = model5.fit(train_val_data, train_val_labels,\n",
        "                    epochs = 5,\n",
        "                    batch_size = 128,\n",
        "                    validation_data = (val_data, val_labels))"
      ],
      "metadata": {
        "id": "BSfT9_8Qnd2W",
        "outputId": "d12ded03-7cf0-41c0-c7e5-d0c6d97e7030",
        "colab": {
          "base_uri": "https://localhost:8080/"
        }
      },
      "execution_count": null,
      "outputs": [
        {
          "output_type": "stream",
          "name": "stdout",
          "text": [
            "Epoch 1/5\n",
            "391/391 [==============================] - 4s 10ms/step - loss: 1.0667 - accuracy: 0.6788 - val_loss: 0.7629 - val_accuracy: 0.7648\n",
            "Epoch 2/5\n",
            "391/391 [==============================] - 5s 12ms/step - loss: 0.6890 - accuracy: 0.7806 - val_loss: 0.6399 - val_accuracy: 0.7928\n",
            "Epoch 3/5\n",
            "391/391 [==============================] - 3s 9ms/step - loss: 0.6047 - accuracy: 0.8048 - val_loss: 0.5862 - val_accuracy: 0.8089\n",
            "Epoch 4/5\n",
            "391/391 [==============================] - 6s 15ms/step - loss: 0.5597 - accuracy: 0.8158 - val_loss: 0.5470 - val_accuracy: 0.8220\n",
            "Epoch 5/5\n",
            "391/391 [==============================] - 4s 11ms/step - loss: 0.5306 - accuracy: 0.8242 - val_loss: 0.5245 - val_accuracy: 0.8273\n"
          ]
        }
      ]
    },
    {
      "cell_type": "markdown",
      "source": [
        "La pérdida indica el porcentaje de errores entre las etiquetas y las predicciones del modelo.\n",
        "\n",
        "La precisión indica el porcentaje de aciertos entre las predicciones y las etiquetas."
      ],
      "metadata": {
        "id": "n9KBvCkgnd2X"
      }
    },
    {
      "cell_type": "code",
      "source": [
        "test_loss, test_acc = model.evaluate(test_data, test_labels)"
      ],
      "metadata": {
        "id": "mE2Kwm4gnd2X",
        "outputId": "b3e13ee4-1983-4786-b4cc-9a4d27939b8f",
        "colab": {
          "base_uri": "https://localhost:8080/"
        }
      },
      "execution_count": null,
      "outputs": [
        {
          "output_type": "stream",
          "name": "stdout",
          "text": [
            "313/313 [==============================] - 1s 2ms/step - loss: 0.6463 - accuracy: 0.7808\n"
          ]
        }
      ]
    },
    {
      "cell_type": "code",
      "source": [
        "acc = history.history['accuracy']\n",
        "val_acc = history.history['val_accuracy']\n",
        "loss = history.history['loss']\n",
        "val_loss = history.history['val_loss']\n",
        "\n",
        "epochs = range(1, len(acc) + 1)\n",
        "\n",
        "# \"bo\" es para \"punto azun\"\n",
        "plt.plot(epochs, loss, 'bo', label='Pérdida de Entrenamiento')\n",
        "# \"b\" es para \"linea continua azul\"\n",
        "plt.plot(epochs, val_loss, 'b', label='Pérdida de Validación')\n",
        "plt.title('Pérdida de Entrenamiento y Validación')\n",
        "plt.xlabel('Epochs')\n",
        "plt.ylabel('Loss')\n",
        "plt.legend()\n",
        "\n",
        "plt.show()"
      ],
      "metadata": {
        "id": "_Kt_FiwkzJDQ",
        "outputId": "08d4a13c-8ee9-493d-8c2d-d72d232112ae",
        "colab": {
          "base_uri": "https://localhost:8080/",
          "height": 295
        }
      },
      "execution_count": null,
      "outputs": [
        {
          "output_type": "display_data",
          "data": {
            "text/plain": [
              "<Figure size 432x288 with 1 Axes>"
            ],
            "image/png": "[encoded data removed]"
          },
          "metadata": {
            "needs_background": "light"
          }
        }
      ]
    },
    {
      "cell_type": "markdown",
      "source": [
        "### Predecir valores"
      ],
      "metadata": {
        "id": "7ygO_7Uqnd2X"
      }
    },
    {
      "cell_type": "markdown",
      "source": [
        "Imprimir la matriz de confusión, que muestra los valores predichos frente a los reales."
      ],
      "metadata": {
        "id": "3NjWdk3Tnd2X"
      }
    },
    {
      "cell_type": "code",
      "source": [
        "# Note, this code is taken straight from the SKLEARN website, an nice way of \n",
        "# viewing confusion matrix.\n",
        "def plot_confusion_matrix(cm, classes,\n",
        "                          normalize = False,\n",
        "                          title = 'Confusion matrix',\n",
        "                          cmap = plt.cm.Blues):\n",
        "    '''\n",
        "    This function prints and plots the confusion matrix.\n",
        "    Normalization can be applied by setting `normalize = True`.\n",
        "    '''\n",
        "    plt.imshow(cm, interpolation = 'nearest', cmap = cmap)\n",
        "    plt.title(title)\n",
        "    plt.colorbar()\n",
        "    tick_marks = np.arange(len(classes))\n",
        "    plt.xticks(tick_marks, classes, rotation = 45)\n",
        "    plt.yticks(tick_marks, classes)\n",
        "\n",
        "    if normalize:\n",
        "        cm = cm.astype('float') / cm.sum(axis = 1)[:, np.newaxis]\n",
        "\n",
        "    thresh = cm.max() / 2.\n",
        "    for i, j in itertools.product(range(cm.shape[0]), range(cm.shape[1])):\n",
        "        plt.text(j, i, cm[i, j],\n",
        "                 horizontalalignment = 'center',\n",
        "                 color = 'white' if cm[i, j] > thresh else 'black')\n",
        "\n",
        "    plt.tight_layout()\n",
        "    plt.ylabel('Observación')\n",
        "    plt.xlabel('Predicción')"
      ],
      "metadata": {
        "id": "h_jCBg67nd2X"
      },
      "execution_count": null,
      "outputs": []
    },
    {
      "cell_type": "code",
      "source": [
        "Y_pred = model.predict(test_data)\n",
        "print('Valores de predicción del modelo')\n",
        "# Convertir en predicciones de clases desde los vectores one-hot encoding \n",
        "Y_pred_classes = np.argmax(Y_pred, axis = 1) \n",
        "# Convertir en clases de observación desde los vectores one-hot encoding\n",
        "Y_true = np.argmax(test_labels, axis = 1) \n",
        "# Computar la matriz de confusión\n",
        "confusion_mtx = confusion_matrix(Y_true, Y_pred_classes) \n",
        "# Dibujar la matriz de confusión\n",
        "print('Matriz de confusión')\n",
        "plot_confusion_matrix(confusion_mtx, classes = range(10))"
      ],
      "metadata": {
        "id": "IbG_zahlnd2X",
        "colab": {
          "base_uri": "https://localhost:8080/",
          "height": 366
        },
        "outputId": "db93236a-97bc-489d-9ffe-ebc5add7c4f2"
      },
      "execution_count": null,
      "outputs": [
        {
          "output_type": "stream",
          "name": "stdout",
          "text": [
            "313/313 [==============================] - 0s 1ms/step\n",
            "Valores de predicción del modelo\n",
            "Matriz de confusión\n"
          ]
        },
        {
          "output_type": "display_data",
          "data": {
            "text/plain": [
              "<Figure size 432x288 with 2 Axes>"
            ],
            "image/png": "[encoded data removed]"
          },
          "metadata": {
            "needs_background": "light"
          }
        }
      ]
    },
    {
      "cell_type": "markdown",
      "source": [
        "Se grafica el elemento 6 (```test_data[5]```) para comprobar las soluciones. "
      ],
      "metadata": {
        "id": "mhMLH4j0nd2X"
      }
    },
    {
      "cell_type": "code",
      "source": [
        "digit = test_data.reshape(10000,28, 28)[5]\n",
        "plt.imshow(digit, cmap = plt.cm.binary)\n",
        "plt.show()\n",
        "print(test_labels[5])"
      ],
      "metadata": {
        "id": "fpRo7Yvznd2X",
        "colab": {
          "base_uri": "https://localhost:8080/",
          "height": 283
        },
        "outputId": "3860d98f-1eb2-41ff-fb32-11d53cee299d"
      },
      "execution_count": null,
      "outputs": [
        {
          "output_type": "display_data",
          "data": {
            "text/plain": [
              "<Figure size 432x288 with 1 Axes>"
            ],
            "image/png": "[encoded data removed]"
          },
          "metadata": {
            "needs_background": "light"
          }
        },
        {
          "output_type": "stream",
          "name": "stdout",
          "text": [
            "[0. 1. 0. 0. 0. 0. 0. 0. 0. 0.]\n"
          ]
        }
      ]
    },
    {
      "cell_type": "markdown",
      "source": [
        "La clase del elemento 6 es la clase 1 (pantalones)."
      ],
      "metadata": {
        "id": "OZyW--iOnd2X"
      }
    },
    {
      "cell_type": "code",
      "source": [
        "predictions = model5.predict(test_data)\n",
        "print('Predicción del elemento 6: clase', np.argmax(predictions[5]))\n",
        "print(predictions[5])\n",
        "print('Suma de las predicciones del elemento 6:', np.sum(predictions[5]))"
      ],
      "metadata": {
        "id": "RhNMXTtfnd2X",
        "colab": {
          "base_uri": "https://localhost:8080/"
        },
        "outputId": "df7ef9dc-ae50-4d8d-ad60-64fecc49d549"
      },
      "execution_count": null,
      "outputs": [
        {
          "output_type": "stream",
          "name": "stdout",
          "text": [
            "313/313 [==============================] - 1s 3ms/step\n",
            "Predicción del elemento 6: clase 1\n",
            "[3.3270619e-03 9.8760003e-01 5.5881060e-04 1.3451112e-03 6.2468946e-03\n",
            " 7.4574364e-06 8.8897435e-04 5.3125800e-06 1.6993836e-05 3.4966970e-06]\n",
            "Suma de las predicciones del elemento 6: 1.0000001\n"
          ]
        }
      ]
    },
    {
      "cell_type": "code",
      "source": [
        "def plot_image(i, predictions_array, true_label, img):\n",
        "  predictions_array, true_label, img = predictions_array, true_label[i], img[i]\n",
        "  plt.grid(False)\n",
        "  plt.xticks([])\n",
        "  plt.yticks([])\n",
        "\n",
        "  plt.imshow(img, cmap = plt.cm.binary)    \n",
        "\n",
        "  predicted_label = np.argmax(predictions_array)\n",
        "  if predicted_label.all() == true_label.all():\n",
        "    color = 'blue'\n",
        "  else:\n",
        "    color = 'red'\n",
        "\n",
        "  plt.xlabel('{} {:2.0f}% ({})'.format(predicted_label,\n",
        "                                100*np.max(predictions_array),\n",
        "                                true_label),\n",
        "                                color = color)\n",
        "\n",
        "def plot_value_array(i, predictions_array, true_label):\n",
        "  predictions_array, true_label = predictions_array, true_label[i]\n",
        "  plt.grid(False)\n",
        "  plt.xticks(range(10))\n",
        "  plt.yticks([])\n",
        "  thisplot = plt.bar(range(10), predictions_array, color = '#00FF00')\n",
        "  plt.ylim([0, 1])\n",
        "  predicted_label = np.argmax(predictions_array)\n",
        "\n",
        "  thisplot[predicted_label].set_color('red')\n",
        "  thisplot[np.argmax(true_label)].set_color('black')"
      ],
      "metadata": {
        "id": "Fvnolvvwnd2Y"
      },
      "execution_count": null,
      "outputs": []
    },
    {
      "cell_type": "code",
      "source": [
        "plt.figure(figsize = (6,3))\n",
        "plt.subplot(1,2,1)\n",
        "plot_image(5, predictions[5], test_labels, test_data.reshape(10000,28,28))\n",
        "plt.subplot(1,2,2)\n",
        "plot_value_array(5, predictions[5],  test_labels)\n",
        "plt.show()"
      ],
      "metadata": {
        "id": "Zxy4UEWUnd2Y",
        "colab": {
          "base_uri": "https://localhost:8080/",
          "height": 211
        },
        "outputId": "a394a718-adf0-4aa2-96f7-c802587f490f"
      },
      "execution_count": null,
      "outputs": [
        {
          "output_type": "display_data",
          "data": {
            "text/plain": [
              "<Figure size 432x216 with 2 Axes>"
            ],
            "image/png": "[encoded data removed]"
          },
          "metadata": {
            "needs_background": "light"
          }
        }
      ]
    },
    {
      "cell_type": "markdown",
      "source": [
        "## Caso 6"
      ],
      "metadata": {
        "id": "G3lUo6NFnd2Y"
      }
    },
    {
      "cell_type": "markdown",
      "source": [
        "### Crear la red de neuronas"
      ],
      "metadata": {
        "id": "X7dn455mnd2Y"
      }
    },
    {
      "cell_type": "markdown",
      "source": [
        "Se crea la red neuronal con una capa de entrada con 512 neuronas y función de activación ```relu```, y una capa de salida con función de activación ```softmax```."
      ],
      "metadata": {
        "id": "oyopFsfYnd2Y"
      }
    },
    {
      "cell_type": "code",
      "source": [
        "model6 = models.Sequential()\n",
        "model6.add(layers.Dense(512, activation ='relu', name = 'Capa6', input_shape = (28*28,)))\n",
        "model6.add(layers.Dense(10, name = 'CapaSalida6', activation = 'softmax'))"
      ],
      "metadata": {
        "id": "U6YXw4NOnd2Y"
      },
      "execution_count": null,
      "outputs": []
    },
    {
      "cell_type": "markdown",
      "source": [
        "### Explicar model.summary()\n"
      ],
      "metadata": {
        "id": "YQhduq72nd2Y"
      }
    },
    {
      "cell_type": "markdown",
      "source": [
        "El resumen del modelo indica el número de parámetros de salida de cada capa. Este número es igual al tamaño de los datos de entrada multiplicado por el número de neuronas, y sumando el número de umbrales de activación de la capa.\n",
        "\n",
        "\n",
        "En el caso de la primera capa: 401920 = 784 (tamaño de los datos) x 512 (número de neuronas) + 512 (número de umbrales de activación).\n",
        "\n",
        "En el caso de la segunda capa: 262656 = 512 (tamaño de los datos) x 512 (número de neuronas) + 512 (número de umbrales de activación)."
      ],
      "metadata": {
        "id": "-rLIUvZ6nd2Y"
      }
    },
    {
      "cell_type": "code",
      "source": [
        "model6.summary()"
      ],
      "metadata": {
        "id": "-s1c9nGOnd2Y",
        "outputId": "d9c2b901-243f-4264-e184-c2c423148e5d",
        "colab": {
          "base_uri": "https://localhost:8080/"
        }
      },
      "execution_count": null,
      "outputs": [
        {
          "output_type": "stream",
          "name": "stdout",
          "text": [
            "Model: \"sequential_13\"\n",
            "_________________________________________________________________\n",
            " Layer (type)                Output Shape              Param #   \n",
            "=================================================================\n",
            " Capa6 (Dense)               (None, 512)               401920    \n",
            "                                                                 \n",
            " CapaSalida6 (Dense)         (None, 10)                5130      \n",
            "                                                                 \n",
            "=================================================================\n",
            "Total params: 407,050\n",
            "Trainable params: 407,050\n",
            "Non-trainable params: 0\n",
            "_________________________________________________________________\n"
          ]
        }
      ]
    },
    {
      "cell_type": "markdown",
      "source": [
        "Se definen las funciones del optimizador, la pérdida y la métrica."
      ],
      "metadata": {
        "id": "IDS9n7w_nd2Y"
      }
    },
    {
      "cell_type": "code",
      "source": [
        "model6.compile(optimizer = 'rmsprop',\n",
        "              loss = 'categorical_crossentropy',\n",
        "              metrics = ['accuracy'])"
      ],
      "metadata": {
        "id": "JNLHIygJnd2Y"
      },
      "execution_count": null,
      "outputs": []
    },
    {
      "cell_type": "markdown",
      "source": [
        "### Entrenar la red"
      ],
      "metadata": {
        "id": "lKWZ7mPDnd2Z"
      }
    },
    {
      "cell_type": "markdown",
      "source": [
        "Para entrenar la red se realizan ```5``` ciclos con lotes de ```128``` imágenes. Se compara con los datos de validación para controlar el sobreentrenamiento. "
      ],
      "metadata": {
        "id": "VmZbiPShnd2Z"
      }
    },
    {
      "cell_type": "code",
      "source": [
        "history = model6.fit(train_val_data, train_val_labels,\n",
        "                    epochs = 5,\n",
        "                    batch_size = 128,\n",
        "                    validation_data = (val_data, val_labels))"
      ],
      "metadata": {
        "id": "LVVfhCk6nd2Z",
        "outputId": "44f9d97c-be79-4a2c-a73f-9d4e6a574352",
        "colab": {
          "base_uri": "https://localhost:8080/"
        }
      },
      "execution_count": null,
      "outputs": [
        {
          "output_type": "stream",
          "name": "stdout",
          "text": [
            "Epoch 1/5\n",
            "391/391 [==============================] - 5s 12ms/step - loss: 0.5745 - accuracy: 0.7952 - val_loss: 0.5298 - val_accuracy: 0.7944\n",
            "Epoch 2/5\n",
            "391/391 [==============================] - 4s 11ms/step - loss: 0.3947 - accuracy: 0.8552 - val_loss: 0.3720 - val_accuracy: 0.8655\n",
            "Epoch 3/5\n",
            "391/391 [==============================] - 5s 13ms/step - loss: 0.3480 - accuracy: 0.8718 - val_loss: 0.3439 - val_accuracy: 0.8761\n",
            "Epoch 4/5\n",
            "391/391 [==============================] - 4s 11ms/step - loss: 0.3184 - accuracy: 0.8826 - val_loss: 0.3449 - val_accuracy: 0.8745\n",
            "Epoch 5/5\n",
            "391/391 [==============================] - 4s 11ms/step - loss: 0.2979 - accuracy: 0.8912 - val_loss: 0.3384 - val_accuracy: 0.8749\n"
          ]
        }
      ]
    },
    {
      "cell_type": "markdown",
      "source": [
        "La pérdida indica el porcentaje de errores entre las etiquetas y las predicciones del modelo.\n",
        "\n",
        "La precisión indica el porcentaje de aciertos entre las predicciones y las etiquetas."
      ],
      "metadata": {
        "id": "itleesJ3nd2Z"
      }
    },
    {
      "cell_type": "code",
      "source": [
        "test_loss, test_acc = model.evaluate(test_data, test_labels)"
      ],
      "metadata": {
        "id": "beA62uXBnd2Z",
        "outputId": "4e38525f-0a73-41d9-d693-817b792f2547",
        "colab": {
          "base_uri": "https://localhost:8080/"
        }
      },
      "execution_count": null,
      "outputs": [
        {
          "output_type": "stream",
          "name": "stdout",
          "text": [
            "313/313 [==============================] - 1s 2ms/step - loss: 0.6463 - accuracy: 0.7808\n"
          ]
        }
      ]
    },
    {
      "cell_type": "code",
      "source": [
        "acc = history.history['accuracy']\n",
        "val_acc = history.history['val_accuracy']\n",
        "loss = history.history['loss']\n",
        "val_loss = history.history['val_loss']\n",
        "\n",
        "epochs = range(1, len(acc) + 1)\n",
        "\n",
        "# \"bo\" es para \"punto azun\"\n",
        "plt.plot(epochs, loss, 'bo', label='Pérdida de Entrenamiento')\n",
        "# \"b\" es para \"linea continua azul\"\n",
        "plt.plot(epochs, val_loss, 'b', label='Pérdida de Validación')\n",
        "plt.title('Pérdida de Entrenamiento y Validación')\n",
        "plt.xlabel('Epochs')\n",
        "plt.ylabel('Loss')\n",
        "plt.legend()\n",
        "\n",
        "plt.show()"
      ],
      "metadata": {
        "id": "rewJQlO1zLYo",
        "outputId": "77feaa7e-6789-4c91-d41c-6129b0d8c230",
        "colab": {
          "base_uri": "https://localhost:8080/",
          "height": 295
        }
      },
      "execution_count": null,
      "outputs": [
        {
          "output_type": "display_data",
          "data": {
            "text/plain": [
              "<Figure size 432x288 with 1 Axes>"
            ],
            "image/png": "[encoded data removed]"
          },
          "metadata": {
            "needs_background": "light"
          }
        }
      ]
    },
    {
      "cell_type": "markdown",
      "source": [
        "### Predecir valores"
      ],
      "metadata": {
        "id": "jNEZyTwand2Z"
      }
    },
    {
      "cell_type": "markdown",
      "source": [
        "Imprimir la matriz de confusión, que muestra los valores predichos frente a los reales."
      ],
      "metadata": {
        "id": "55HJcQ9Xnd2Z"
      }
    },
    {
      "cell_type": "code",
      "source": [
        "# Note, this code is taken straight from the SKLEARN website, an nice way of \n",
        "# viewing confusion matrix.\n",
        "def plot_confusion_matrix(cm, classes,\n",
        "                          normalize = False,\n",
        "                          title = 'Confusion matrix',\n",
        "                          cmap = plt.cm.Blues):\n",
        "    '''\n",
        "    This function prints and plots the confusion matrix.\n",
        "    Normalization can be applied by setting `normalize = True`.\n",
        "    '''\n",
        "    plt.imshow(cm, interpolation = 'nearest', cmap = cmap)\n",
        "    plt.title(title)\n",
        "    plt.colorbar()\n",
        "    tick_marks = np.arange(len(classes))\n",
        "    plt.xticks(tick_marks, classes, rotation = 45)\n",
        "    plt.yticks(tick_marks, classes)\n",
        "\n",
        "    if normalize:\n",
        "        cm = cm.astype('float') / cm.sum(axis = 1)[:, np.newaxis]\n",
        "\n",
        "    thresh = cm.max() / 2.\n",
        "    for i, j in itertools.product(range(cm.shape[0]), range(cm.shape[1])):\n",
        "        plt.text(j, i, cm[i, j],\n",
        "                 horizontalalignment = 'center',\n",
        "                 color = 'white' if cm[i, j] > thresh else 'black')\n",
        "\n",
        "    plt.tight_layout()\n",
        "    plt.ylabel('Observación')\n",
        "    plt.xlabel('Predicción')"
      ],
      "metadata": {
        "id": "CR-kxR90nd2Z"
      },
      "execution_count": null,
      "outputs": []
    },
    {
      "cell_type": "code",
      "source": [
        "Y_pred = model6.predict(test_data)\n",
        "print('Valores de predicción del modelo')\n",
        "# Convertir en predicciones de clases desde los vectores one-hot encoding \n",
        "Y_pred_classes = np.argmax(Y_pred, axis = 1) \n",
        "# Convertir en clases de observación desde los vectores one-hot encoding\n",
        "Y_true = np.argmax(test_labels, axis = 1) \n",
        "# Computar la matriz de confusión\n",
        "confusion_mtx = confusion_matrix(Y_true, Y_pred_classes) \n",
        "# Dibujar la matriz de confusión\n",
        "print('Matriz de confusión')\n",
        "plot_confusion_matrix(confusion_mtx, classes = range(10))"
      ],
      "metadata": {
        "id": "b2kN3V_Xnd2Z",
        "colab": {
          "base_uri": "https://localhost:8080/",
          "height": 366
        },
        "outputId": "46e3cb45-d78a-4f01-dfdf-37b03044556d"
      },
      "execution_count": null,
      "outputs": [
        {
          "output_type": "stream",
          "name": "stdout",
          "text": [
            "313/313 [==============================] - 1s 3ms/step\n",
            "Valores de predicción del modelo\n",
            "Matriz de confusión\n"
          ]
        },
        {
          "output_type": "display_data",
          "data": {
            "text/plain": [
              "<Figure size 432x288 with 2 Axes>"
            ],
            "image/png": "[encoded data removed]"
          },
          "metadata": {
            "needs_background": "light"
          }
        }
      ]
    },
    {
      "cell_type": "markdown",
      "source": [
        "Se grafica el elemento 6 (```test_data[5]```) para comprobar las soluciones. "
      ],
      "metadata": {
        "id": "a_ab78Ycnd2Z"
      }
    },
    {
      "cell_type": "code",
      "source": [
        "digit = test_data.reshape(10000,28, 28)[5]\n",
        "plt.imshow(digit, cmap = plt.cm.binary)\n",
        "plt.show()\n",
        "print(test_labels[5])"
      ],
      "metadata": {
        "id": "y-piBt2fnd2Z",
        "colab": {
          "base_uri": "https://localhost:8080/",
          "height": 283
        },
        "outputId": "1d0abaa2-a31b-4cbd-d5d7-28599813f235"
      },
      "execution_count": null,
      "outputs": [
        {
          "output_type": "display_data",
          "data": {
            "text/plain": [
              "<Figure size 432x288 with 1 Axes>"
            ],
            "image/png": "[encoded data removed]"
          },
          "metadata": {
            "needs_background": "light"
          }
        },
        {
          "output_type": "stream",
          "name": "stdout",
          "text": [
            "[0. 1. 0. 0. 0. 0. 0. 0. 0. 0.]\n"
          ]
        }
      ]
    },
    {
      "cell_type": "markdown",
      "source": [
        "La clase del elemento 6 es la clase 1 (pantalones)."
      ],
      "metadata": {
        "id": "_iWtFzYZnd2a"
      }
    },
    {
      "cell_type": "code",
      "source": [
        "predictions = model6.predict(test_data)\n",
        "print('Predicción del elemento 6: clase', np.argmax(predictions[5]))\n",
        "print(predictions[5])\n",
        "print('Suma de las predicciones del elemento 6:', np.sum(predictions[5]))"
      ],
      "metadata": {
        "id": "c9qSVRIand2a",
        "colab": {
          "base_uri": "https://localhost:8080/"
        },
        "outputId": "bf1ea17a-4bd1-4678-c9b3-d121cb42e28f"
      },
      "execution_count": null,
      "outputs": [
        {
          "output_type": "stream",
          "name": "stdout",
          "text": [
            "313/313 [==============================] - 1s 3ms/step\n",
            "Predicción del elemento 6: clase 1\n",
            "[6.6349116e-06 9.9999148e-01 2.2898629e-08 5.2170105e-07 1.0920622e-06\n",
            " 9.3871785e-11 2.2505630e-07 4.8676564e-14 8.1048432e-11 7.0573301e-14]\n",
            "Suma de las predicciones del elemento 6: 0.99999994\n"
          ]
        }
      ]
    },
    {
      "cell_type": "code",
      "source": [
        "def plot_image(i, predictions_array, true_label, img):\n",
        "  predictions_array, true_label, img = predictions_array, true_label[i], img[i]\n",
        "  plt.grid(False)\n",
        "  plt.xticks([])\n",
        "  plt.yticks([])\n",
        "\n",
        "  plt.imshow(img, cmap = plt.cm.binary)    \n",
        "\n",
        "  predicted_label = np.argmax(predictions_array)\n",
        "  if predicted_label.all() == true_label.all():\n",
        "    color = 'blue'\n",
        "  else:\n",
        "    color = 'red'\n",
        "\n",
        "  plt.xlabel('{} {:2.0f}% ({})'.format(predicted_label,\n",
        "                                100*np.max(predictions_array),\n",
        "                                true_label),\n",
        "                                color = color)\n",
        "\n",
        "def plot_value_array(i, predictions_array, true_label):\n",
        "  predictions_array, true_label = predictions_array, true_label[i]\n",
        "  plt.grid(False)\n",
        "  plt.xticks(range(10))\n",
        "  plt.yticks([])\n",
        "  thisplot = plt.bar(range(10), predictions_array, color = '#00FF00')\n",
        "  plt.ylim([0, 1])\n",
        "  predicted_label = np.argmax(predictions_array)\n",
        "\n",
        "  thisplot[predicted_label].set_color('red')\n",
        "  thisplot[np.argmax(true_label)].set_color('black')"
      ],
      "metadata": {
        "id": "IFpr2G1Mnd2a"
      },
      "execution_count": null,
      "outputs": []
    },
    {
      "cell_type": "code",
      "source": [
        "plt.figure(figsize = (6,3))\n",
        "plt.subplot(1,2,1)\n",
        "plot_image(5, predictions[5], test_labels, test_data.reshape(10000,28,28))\n",
        "plt.subplot(1,2,2)\n",
        "plot_value_array(5, predictions[5],  test_labels)\n",
        "plt.show()"
      ],
      "metadata": {
        "id": "sHzHKQ3Lnd2a",
        "colab": {
          "base_uri": "https://localhost:8080/",
          "height": 211
        },
        "outputId": "1d0555a1-1608-47d3-b351-9588d3cde4b4"
      },
      "execution_count": null,
      "outputs": [
        {
          "output_type": "display_data",
          "data": {
            "text/plain": [
              "<Figure size 432x216 with 2 Axes>"
            ],
            "image/png": "[encoded data removed]"
          },
          "metadata": {
            "needs_background": "light"
          }
        }
      ]
    },
    {
      "cell_type": "markdown",
      "source": [
        "## Caso 7"
      ],
      "metadata": {
        "id": "l5GNinIhnd2a"
      }
    },
    {
      "cell_type": "markdown",
      "source": [
        "### Crear la red de neuronas"
      ],
      "metadata": {
        "id": "_dZ1tr-3nd2a"
      }
    },
    {
      "cell_type": "markdown",
      "source": [
        "Se crea la red neuronal con una capa de \n",
        "entrada con 512 neuronas y función de activación ```sigmoid```, y una capa de salida con función de activación ```softmax```."
      ],
      "metadata": {
        "id": "Kd8mMW02nd2a"
      }
    },
    {
      "cell_type": "code",
      "source": [
        "model7 = models.Sequential()\n",
        "model7.add(layers.Dense(512, activation ='sigmoid', name = 'Capa7', input_shape = (28*28,)))\n",
        "model7.add(layers.Dense(10, name = 'CapaSalida7', activation = 'softmax'))"
      ],
      "metadata": {
        "id": "M6A4OIP6nd2a"
      },
      "execution_count": null,
      "outputs": []
    },
    {
      "cell_type": "markdown",
      "source": [
        "### Explicar model.summary()\n"
      ],
      "metadata": {
        "id": "UbGycgtInd2a"
      }
    },
    {
      "cell_type": "markdown",
      "source": [
        "El resumen del modelo indica el número de parámetros de salida de cada capa. Este número es igual al tamaño de los datos de entrada multiplicado por el número de neuronas, y sumando el número de umbrales de activación de la capa.\n",
        "\n",
        "\n",
        "En el caso de la primera capa: 401920 = 784 (tamaño de los datos) x 512 (número de neuronas) + 512 (número de umbrales de activación).\n",
        "\n",
        "En el caso de la segunda capa: 262656 = 512 (tamaño de los datos) x 512 (número de neuronas) + 512 (número de umbrales de activación)."
      ],
      "metadata": {
        "id": "RDhQ1Hq6nd2a"
      }
    },
    {
      "cell_type": "code",
      "source": [
        "model7.summary()"
      ],
      "metadata": {
        "id": "u3jY7Bbend2a",
        "colab": {
          "base_uri": "https://localhost:8080/"
        },
        "outputId": "497d948d-3498-442b-a2d4-1829423c4d35"
      },
      "execution_count": null,
      "outputs": [
        {
          "output_type": "stream",
          "name": "stdout",
          "text": [
            "Model: \"sequential_14\"\n",
            "_________________________________________________________________\n",
            " Layer (type)                Output Shape              Param #   \n",
            "=================================================================\n",
            " Capa7 (Dense)               (None, 512)               401920    \n",
            "                                                                 \n",
            " CapaSalida7 (Dense)         (None, 10)                5130      \n",
            "                                                                 \n",
            "=================================================================\n",
            "Total params: 407,050\n",
            "Trainable params: 407,050\n",
            "Non-trainable params: 0\n",
            "_________________________________________________________________\n"
          ]
        }
      ]
    },
    {
      "cell_type": "markdown",
      "source": [
        "Se definen las funciones del optimizador, la pérdida y la métrica."
      ],
      "metadata": {
        "id": "br4bFCCend2b"
      }
    },
    {
      "cell_type": "code",
      "source": [
        "model7.compile(optimizer = 'sgd',\n",
        "              loss = 'categorical_crossentropy',\n",
        "              metrics = ['accuracy'])"
      ],
      "metadata": {
        "id": "qtp5sWA4nd2b"
      },
      "execution_count": null,
      "outputs": []
    },
    {
      "cell_type": "markdown",
      "source": [
        "### Entrenar la red"
      ],
      "metadata": {
        "id": "SLOrD3Mvnd2d"
      }
    },
    {
      "cell_type": "markdown",
      "source": [
        "Para entrenar la red se realizan ```5``` ciclos con lotes de ```128``` imágenes. Se compara con los datos de validación para controlar el sobreentrenamiento. "
      ],
      "metadata": {
        "id": "mr9jTFmInd2d"
      }
    },
    {
      "cell_type": "code",
      "source": [
        "history = model7.fit(train_val_data, train_val_labels,\n",
        "                    epochs = 5,\n",
        "                    batch_size = 128,\n",
        "                    validation_data = (val_data, val_labels))"
      ],
      "metadata": {
        "id": "9Y_giitWnd2d",
        "colab": {
          "base_uri": "https://localhost:8080/"
        },
        "outputId": "d0479e68-25be-4c3d-df3f-a5a4c954b9a9"
      },
      "execution_count": null,
      "outputs": [
        {
          "output_type": "stream",
          "name": "stdout",
          "text": [
            "Epoch 1/5\n",
            "391/391 [==============================] - 4s 10ms/step - loss: 1.7737 - accuracy: 0.5759 - val_loss: 1.3986 - val_accuracy: 0.6587\n",
            "Epoch 2/5\n",
            "391/391 [==============================] - 4s 10ms/step - loss: 1.2171 - accuracy: 0.7069 - val_loss: 1.0712 - val_accuracy: 0.7200\n",
            "Epoch 3/5\n",
            "391/391 [==============================] - 4s 9ms/step - loss: 0.9915 - accuracy: 0.7269 - val_loss: 0.9199 - val_accuracy: 0.7362\n",
            "Epoch 4/5\n",
            "391/391 [==============================] - 4s 9ms/step - loss: 0.8755 - accuracy: 0.7388 - val_loss: 0.8334 - val_accuracy: 0.7425\n",
            "Epoch 5/5\n",
            "391/391 [==============================] - 3s 9ms/step - loss: 0.8047 - accuracy: 0.7490 - val_loss: 0.7760 - val_accuracy: 0.7546\n"
          ]
        }
      ]
    },
    {
      "cell_type": "markdown",
      "source": [
        "La pérdida indica el porcentaje de errores entre las etiquetas y las predicciones del modelo.\n",
        "\n",
        "La precisión indica el porcentaje de aciertos entre las predicciones y las etiquetas."
      ],
      "metadata": {
        "id": "w8KEH-sund2d"
      }
    },
    {
      "cell_type": "code",
      "source": [
        "test_loss, test_acc = model7.evaluate(test_data, test_labels)"
      ],
      "metadata": {
        "id": "LvSfrIgTnd2d",
        "colab": {
          "base_uri": "https://localhost:8080/"
        },
        "outputId": "8b220dd0-6246-4c3b-ce00-104f9a1489d0"
      },
      "execution_count": null,
      "outputs": [
        {
          "output_type": "stream",
          "name": "stdout",
          "text": [
            "313/313 [==============================] - 1s 3ms/step - loss: 0.7901 - accuracy: 0.7477\n"
          ]
        }
      ]
    },
    {
      "cell_type": "code",
      "source": [
        "acc = history.history['accuracy']\n",
        "val_acc = history.history['val_accuracy']\n",
        "loss = history.history['loss']\n",
        "val_loss = history.history['val_loss']\n",
        "\n",
        "epochs = range(1, len(acc) + 1)\n",
        "\n",
        "# \"bo\" es para \"punto azun\"\n",
        "plt.plot(epochs, loss, 'bo', label='Pérdida de Entrenamiento')\n",
        "# \"b\" es para \"linea continua azul\"\n",
        "plt.plot(epochs, val_loss, 'b', label='Pérdida de Validación')\n",
        "plt.title('Pérdida de Entrenamiento y Validación')\n",
        "plt.xlabel('Epochs')\n",
        "plt.ylabel('Loss')\n",
        "plt.legend()\n",
        "\n",
        "plt.show()"
      ],
      "metadata": {
        "id": "LoiIq3MrzOQ4",
        "colab": {
          "base_uri": "https://localhost:8080/",
          "height": 295
        },
        "outputId": "08e1905c-fa5e-488d-d2a3-9cb61e8b0eef"
      },
      "execution_count": null,
      "outputs": [
        {
          "output_type": "display_data",
          "data": {
            "text/plain": [
              "<Figure size 432x288 with 1 Axes>"
            ],
            "image/png": "[encoded data removed]"
          },
          "metadata": {
            "needs_background": "light"
          }
        }
      ]
    },
    {
      "cell_type": "markdown",
      "source": [
        "### Predecir valores"
      ],
      "metadata": {
        "id": "JSrgwZEhnd2d"
      }
    },
    {
      "cell_type": "markdown",
      "source": [
        "Imprimir la matriz de confusión, que muestra los valores predichos frente a los reales."
      ],
      "metadata": {
        "id": "eLLLCUggnd2d"
      }
    },
    {
      "cell_type": "code",
      "source": [
        "# Note, this code is taken straight from the SKLEARN website, an nice way of \n",
        "# viewing confusion matrix.\n",
        "def plot_confusion_matrix(cm, classes,\n",
        "                          normalize = False,\n",
        "                          title = 'Confusion matrix',\n",
        "                          cmap = plt.cm.Blues):\n",
        "    '''\n",
        "    This function prints and plots the confusion matrix.\n",
        "    Normalization can be applied by setting `normalize = True`.\n",
        "    '''\n",
        "    plt.imshow(cm, interpolation = 'nearest', cmap = cmap)\n",
        "    plt.title(title)\n",
        "    plt.colorbar()\n",
        "    tick_marks = np.arange(len(classes))\n",
        "    plt.xticks(tick_marks, classes, rotation = 45)\n",
        "    plt.yticks(tick_marks, classes)\n",
        "\n",
        "    if normalize:\n",
        "        cm = cm.astype('float') / cm.sum(axis = 1)[:, np.newaxis]\n",
        "\n",
        "    thresh = cm.max() / 2.\n",
        "    for i, j in itertools.product(range(cm.shape[0]), range(cm.shape[1])):\n",
        "        plt.text(j, i, cm[i, j],\n",
        "                 horizontalalignment = 'center',\n",
        "                 color = 'white' if cm[i, j] > thresh else 'black')\n",
        "\n",
        "    plt.tight_layout()\n",
        "    plt.ylabel('Observación')\n",
        "    plt.xlabel('Predicción')"
      ],
      "metadata": {
        "id": "zUF16kY_nd2d"
      },
      "execution_count": null,
      "outputs": []
    },
    {
      "cell_type": "code",
      "source": [
        "Y_pred = model7.predict(test_data)\n",
        "print('Valores de predicción del modelo')\n",
        "# Convertir en predicciones de clases desde los vectores one-hot encoding \n",
        "Y_pred_classes = np.argmax(Y_pred, axis = 1) \n",
        "# Convertir en clases de observación desde los vectores one-hot encoding\n",
        "Y_true = np.argmax(test_labels, axis = 1) \n",
        "# Computar la matriz de confusión\n",
        "confusion_mtx = confusion_matrix(Y_true, Y_pred_classes) \n",
        "# Dibujar la matriz de confusión\n",
        "print('Matriz de confusión')\n",
        "plot_confusion_matrix(confusion_mtx, classes = range(10))"
      ],
      "metadata": {
        "id": "6D3SCoqind2d",
        "colab": {
          "base_uri": "https://localhost:8080/",
          "height": 366
        },
        "outputId": "65200fda-efc6-4085-979e-3925c419b8f2"
      },
      "execution_count": null,
      "outputs": [
        {
          "output_type": "stream",
          "name": "stdout",
          "text": [
            "313/313 [==============================] - 1s 3ms/step\n",
            "Valores de predicción del modelo\n",
            "Matriz de confusión\n"
          ]
        },
        {
          "output_type": "display_data",
          "data": {
            "text/plain": [
              "<Figure size 432x288 with 2 Axes>"
            ],
            "image/png": "[encoded data removed]"
          },
          "metadata": {
            "needs_background": "light"
          }
        }
      ]
    },
    {
      "cell_type": "markdown",
      "source": [
        "Se grafica el elemento 6 (```test_data[5]```) para comprobar las soluciones. "
      ],
      "metadata": {
        "id": "wsZUHAEOnd2e"
      }
    },
    {
      "cell_type": "code",
      "source": [
        "digit = test_data.reshape(10000,28, 28)[5]\n",
        "plt.imshow(digit, cmap = plt.cm.binary)\n",
        "plt.show()\n",
        "print(test_labels[5])"
      ],
      "metadata": {
        "id": "vduaIFHxnd2e",
        "colab": {
          "base_uri": "https://localhost:8080/",
          "height": 283
        },
        "outputId": "44b7af7f-8640-4a80-bfec-7faed8fe2b71"
      },
      "execution_count": null,
      "outputs": [
        {
          "output_type": "display_data",
          "data": {
            "text/plain": [
              "<Figure size 432x288 with 1 Axes>"
            ],
            "image/png": "[encoded data removed]"
          },
          "metadata": {
            "needs_background": "light"
          }
        },
        {
          "output_type": "stream",
          "name": "stdout",
          "text": [
            "[0. 1. 0. 0. 0. 0. 0. 0. 0. 0.]\n"
          ]
        }
      ]
    },
    {
      "cell_type": "markdown",
      "source": [
        "La clase del elemento 6 es la clase 1 (pantalones)."
      ],
      "metadata": {
        "id": "TxjXrHj3nd2e"
      }
    },
    {
      "cell_type": "code",
      "source": [
        "predictions = model7.predict(test_data)\n",
        "print('Predicción del elemento 6: clase', np.argmax(predictions[5]))\n",
        "print(predictions[5])\n",
        "print('Suma de las predicciones del elemento 6:', np.sum(predictions[5]))"
      ],
      "metadata": {
        "id": "xRRBr0kmnd2e",
        "colab": {
          "base_uri": "https://localhost:8080/"
        },
        "outputId": "37478890-a2c8-41c9-850e-dac942004abe"
      },
      "execution_count": null,
      "outputs": [
        {
          "output_type": "stream",
          "name": "stdout",
          "text": [
            "313/313 [==============================] - 1s 3ms/step\n",
            "Predicción del elemento 6: clase 1\n",
            "[6.3703999e-02 7.4151599e-01 1.9667026e-02 9.5675565e-02 4.3927837e-02\n",
            " 9.6384028e-04 3.2216404e-02 7.6084677e-04 1.1589121e-03 4.0958388e-04]\n",
            "Suma de las predicciones del elemento 6: 1.0\n"
          ]
        }
      ]
    },
    {
      "cell_type": "code",
      "source": [
        "def plot_image(i, predictions_array, true_label, img):\n",
        "  predictions_array, true_label, img = predictions_array, true_label[i], img[i]\n",
        "  plt.grid(False)\n",
        "  plt.xticks([])\n",
        "  plt.yticks([])\n",
        "\n",
        "  plt.imshow(img, cmap = plt.cm.binary)    \n",
        "\n",
        "  predicted_label = np.argmax(predictions_array)\n",
        "  if predicted_label.all() == true_label.all():\n",
        "    color = 'blue'\n",
        "  else:\n",
        "    color = 'red'\n",
        "\n",
        "  plt.xlabel('{} {:2.0f}% ({})'.format(predicted_label,\n",
        "                                100*np.max(predictions_array),\n",
        "                                true_label),\n",
        "                                color = color)\n",
        "\n",
        "def plot_value_array(i, predictions_array, true_label):\n",
        "  predictions_array, true_label = predictions_array, true_label[i]\n",
        "  plt.grid(False)\n",
        "  plt.xticks(range(10))\n",
        "  plt.yticks([])\n",
        "  thisplot = plt.bar(range(10), predictions_array, color = '#00FF00')\n",
        "  plt.ylim([0, 1])\n",
        "  predicted_label = np.argmax(predictions_array)\n",
        "\n",
        "  thisplot[predicted_label].set_color('red')\n",
        "  thisplot[np.argmax(true_label)].set_color('black')"
      ],
      "metadata": {
        "id": "GZpRjWQhnd2e"
      },
      "execution_count": null,
      "outputs": []
    },
    {
      "cell_type": "code",
      "source": [
        "plt.figure(figsize = (6,3))\n",
        "plt.subplot(1,2,1)\n",
        "plot_image(5, predictions[5], test_labels, test_data.reshape(10000,28,28))\n",
        "plt.subplot(1,2,2)\n",
        "plot_value_array(5, predictions[5],  test_labels)\n",
        "plt.show()"
      ],
      "metadata": {
        "id": "CHDP1XAvnd2e",
        "colab": {
          "base_uri": "https://localhost:8080/",
          "height": 211
        },
        "outputId": "6d9c85fe-805b-4d03-d9fa-9697bf866c41"
      },
      "execution_count": null,
      "outputs": [
        {
          "output_type": "display_data",
          "data": {
            "text/plain": [
              "<Figure size 432x216 with 2 Axes>"
            ],
            "image/png": "[encoded data removed]"
          },
          "metadata": {
            "needs_background": "light"
          }
        }
      ]
    },
    {
      "cell_type": "markdown",
      "source": [
        "## Caso 7.5"
      ],
      "metadata": {
        "id": "aySiC2fyrSZw"
      }
    },
    {
      "cell_type": "markdown",
      "source": [
        "### Crear la red de neuronas"
      ],
      "metadata": {
        "id": "XrPy96d5rSZx"
      }
    },
    {
      "cell_type": "markdown",
      "source": [
        "Se crea la red neuronal con una capa de \n",
        "entrada con 512 neuronas y función de activación ```sigmoid```, y una capa de salida con función de activación ```softmax```."
      ],
      "metadata": {
        "id": "N3PbHHwQrSZx"
      }
    },
    {
      "cell_type": "code",
      "source": [
        "model7b = models.Sequential()\n",
        "model7b.add(layers.Dense(512, activation ='sigmoid', name = 'Capa7', input_shape = (28*28,)))\n",
        "model7b.add(layers.Dense(10, name = 'CapaSalida7', activation = 'softmax'))"
      ],
      "metadata": {
        "id": "Op6OP_2QrSZx"
      },
      "execution_count": null,
      "outputs": []
    },
    {
      "cell_type": "markdown",
      "source": [
        "### Explicar model.summary()\n"
      ],
      "metadata": {
        "id": "qHjUm1LyrSZx"
      }
    },
    {
      "cell_type": "markdown",
      "source": [
        "El resumen del modelo indica el número de parámetros de salida de cada capa. Este número es igual al tamaño de los datos de entrada multiplicado por el número de neuronas, y sumando el número de umbrales de activación de la capa.\n",
        "\n",
        "\n",
        "En el caso de la primera capa: 401920 = 784 (tamaño de los datos) x 512 (número de neuronas) + 512 (número de umbrales de activación).\n",
        "\n",
        "En el caso de la segunda capa: 262656 = 512 (tamaño de los datos) x 512 (número de neuronas) + 512 (número de umbrales de activación)."
      ],
      "metadata": {
        "id": "i2fzTOHmrSZx"
      }
    },
    {
      "cell_type": "code",
      "source": [
        "model7b.summary()"
      ],
      "metadata": {
        "id": "LkL7pseyrSZy",
        "colab": {
          "base_uri": "https://localhost:8080/"
        },
        "outputId": "44a7a35b-e1b7-438e-e216-39c08e3e8674"
      },
      "execution_count": null,
      "outputs": [
        {
          "output_type": "stream",
          "name": "stdout",
          "text": [
            "Model: \"sequential_15\"\n",
            "_________________________________________________________________\n",
            " Layer (type)                Output Shape              Param #   \n",
            "=================================================================\n",
            " Capa7 (Dense)               (None, 512)               401920    \n",
            "                                                                 \n",
            " CapaSalida7 (Dense)         (None, 10)                5130      \n",
            "                                                                 \n",
            "=================================================================\n",
            "Total params: 407,050\n",
            "Trainable params: 407,050\n",
            "Non-trainable params: 0\n",
            "_________________________________________________________________\n"
          ]
        }
      ]
    },
    {
      "cell_type": "markdown",
      "source": [
        "Se definen las funciones del optimizador, la pérdida y la métrica."
      ],
      "metadata": {
        "id": "aNFO8YwZrSZy"
      }
    },
    {
      "cell_type": "code",
      "source": [
        "model7b.compile(optimizer = 'sgd',\n",
        "              loss = 'categorical_crossentropy',\n",
        "              metrics = ['accuracy'])"
      ],
      "metadata": {
        "id": "HlHwlExZrSZy"
      },
      "execution_count": null,
      "outputs": []
    },
    {
      "cell_type": "markdown",
      "source": [
        "### Entrenar la red"
      ],
      "metadata": {
        "id": "8QNafZwhrSZy"
      }
    },
    {
      "cell_type": "markdown",
      "source": [
        "Para entrenar la red se realizan ```5``` ciclos con lotes de ```128``` imágenes. Se compara con los datos de validación para controlar el sobreentrenamiento. "
      ],
      "metadata": {
        "id": "qxca_mFtrSZy"
      }
    },
    {
      "cell_type": "code",
      "source": [
        "history = model7b.fit(train_val_data, train_val_labels,\n",
        "                    epochs = 25,\n",
        "                    batch_size = 128,\n",
        "                    validation_data = (val_data, val_labels))"
      ],
      "metadata": {
        "id": "gCgTPpHPrSZy",
        "colab": {
          "base_uri": "https://localhost:8080/"
        },
        "outputId": "0a83208e-3bc7-43b8-f032-9379ae68eb35"
      },
      "execution_count": null,
      "outputs": [
        {
          "output_type": "stream",
          "name": "stdout",
          "text": [
            "Epoch 1/25\n",
            "391/391 [==============================] - 4s 10ms/step - loss: 1.7895 - accuracy: 0.5524 - val_loss: 1.4010 - val_accuracy: 0.6814\n",
            "Epoch 2/25\n",
            "391/391 [==============================] - 4s 9ms/step - loss: 1.2182 - accuracy: 0.6993 - val_loss: 1.0709 - val_accuracy: 0.7228\n",
            "Epoch 3/25\n",
            "391/391 [==============================] - 3s 9ms/step - loss: 0.9917 - accuracy: 0.7235 - val_loss: 0.9192 - val_accuracy: 0.7334\n",
            "Epoch 4/25\n",
            "391/391 [==============================] - 3s 9ms/step - loss: 0.8758 - accuracy: 0.7369 - val_loss: 0.8326 - val_accuracy: 0.7460\n",
            "Epoch 5/25\n",
            "391/391 [==============================] - 3s 9ms/step - loss: 0.8055 - accuracy: 0.7467 - val_loss: 0.7760 - val_accuracy: 0.7542\n",
            "Epoch 6/25\n",
            "391/391 [==============================] - 3s 9ms/step - loss: 0.7575 - accuracy: 0.7530 - val_loss: 0.7410 - val_accuracy: 0.7573\n",
            "Epoch 7/25\n",
            "391/391 [==============================] - 3s 9ms/step - loss: 0.7224 - accuracy: 0.7598 - val_loss: 0.7076 - val_accuracy: 0.7658\n",
            "Epoch 8/25\n",
            "391/391 [==============================] - 4s 9ms/step - loss: 0.6954 - accuracy: 0.7669 - val_loss: 0.6860 - val_accuracy: 0.7670\n",
            "Epoch 9/25\n",
            "391/391 [==============================] - 4s 9ms/step - loss: 0.6734 - accuracy: 0.7726 - val_loss: 0.6650 - val_accuracy: 0.7759\n",
            "Epoch 10/25\n",
            "391/391 [==============================] - 4s 10ms/step - loss: 0.6547 - accuracy: 0.7762 - val_loss: 0.6471 - val_accuracy: 0.7830\n",
            "Epoch 11/25\n",
            "391/391 [==============================] - 4s 9ms/step - loss: 0.6392 - accuracy: 0.7805 - val_loss: 0.6318 - val_accuracy: 0.7878\n",
            "Epoch 12/25\n",
            "391/391 [==============================] - 4s 9ms/step - loss: 0.6254 - accuracy: 0.7845 - val_loss: 0.6198 - val_accuracy: 0.7905\n",
            "Epoch 13/25\n",
            "391/391 [==============================] - 4s 9ms/step - loss: 0.6129 - accuracy: 0.7889 - val_loss: 0.6086 - val_accuracy: 0.7941\n",
            "Epoch 14/25\n",
            "391/391 [==============================] - 4s 9ms/step - loss: 0.6019 - accuracy: 0.7913 - val_loss: 0.5979 - val_accuracy: 0.7996\n",
            "Epoch 15/25\n",
            "391/391 [==============================] - 3s 9ms/step - loss: 0.5923 - accuracy: 0.7960 - val_loss: 0.5890 - val_accuracy: 0.8007\n",
            "Epoch 16/25\n",
            "391/391 [==============================] - 4s 9ms/step - loss: 0.5835 - accuracy: 0.7980 - val_loss: 0.5803 - val_accuracy: 0.8014\n",
            "Epoch 17/25\n",
            "391/391 [==============================] - 3s 9ms/step - loss: 0.5753 - accuracy: 0.8013 - val_loss: 0.5749 - val_accuracy: 0.8053\n",
            "Epoch 18/25\n",
            "391/391 [==============================] - 4s 10ms/step - loss: 0.5677 - accuracy: 0.8032 - val_loss: 0.5667 - val_accuracy: 0.8055\n",
            "Epoch 19/25\n",
            "391/391 [==============================] - 4s 9ms/step - loss: 0.5608 - accuracy: 0.8063 - val_loss: 0.5585 - val_accuracy: 0.8102\n",
            "Epoch 20/25\n",
            "391/391 [==============================] - 3s 9ms/step - loss: 0.5546 - accuracy: 0.8081 - val_loss: 0.5538 - val_accuracy: 0.8104\n",
            "Epoch 21/25\n",
            "391/391 [==============================] - 4s 9ms/step - loss: 0.5488 - accuracy: 0.8105 - val_loss: 0.5495 - val_accuracy: 0.8104\n",
            "Epoch 22/25\n",
            "391/391 [==============================] - 3s 9ms/step - loss: 0.5434 - accuracy: 0.8127 - val_loss: 0.5440 - val_accuracy: 0.8148\n",
            "Epoch 23/25\n",
            "391/391 [==============================] - 4s 9ms/step - loss: 0.5382 - accuracy: 0.8137 - val_loss: 0.5382 - val_accuracy: 0.8151\n",
            "Epoch 24/25\n",
            "391/391 [==============================] - 4s 9ms/step - loss: 0.5334 - accuracy: 0.8168 - val_loss: 0.5319 - val_accuracy: 0.8167\n",
            "Epoch 25/25\n",
            "391/391 [==============================] - 4s 9ms/step - loss: 0.5290 - accuracy: 0.8171 - val_loss: 0.5280 - val_accuracy: 0.8192\n"
          ]
        }
      ]
    },
    {
      "cell_type": "markdown",
      "source": [
        "La pérdida indica el porcentaje de errores entre las etiquetas y las predicciones del modelo.\n",
        "\n",
        "La precisión indica el porcentaje de aciertos entre las predicciones y las etiquetas."
      ],
      "metadata": {
        "id": "epQ6PWfirSZy"
      }
    },
    {
      "cell_type": "code",
      "source": [
        "test_loss, test_acc = model7b.evaluate(test_data, test_labels)"
      ],
      "metadata": {
        "id": "dpY3zvZwrSZz",
        "colab": {
          "base_uri": "https://localhost:8080/"
        },
        "outputId": "7ced56ff-da62-4dfc-9739-dc6990a64f2e"
      },
      "execution_count": null,
      "outputs": [
        {
          "output_type": "stream",
          "name": "stdout",
          "text": [
            "313/313 [==============================] - 1s 3ms/step - loss: 0.5496 - accuracy: 0.8060\n"
          ]
        }
      ]
    },
    {
      "cell_type": "code",
      "source": [
        "acc = history.history['accuracy']\n",
        "val_acc = history.history['val_accuracy']\n",
        "loss = history.history['loss']\n",
        "val_loss = history.history['val_loss']\n",
        "\n",
        "epochs = range(1, len(acc) + 1)\n",
        "\n",
        "# \"bo\" es para \"punto azun\"\n",
        "plt.plot(epochs, loss, 'bo', label='Pérdida de Entrenamiento')\n",
        "# \"b\" es para \"linea continua azul\"\n",
        "plt.plot(epochs, val_loss, 'b', label='Pérdida de Validación')\n",
        "plt.title('Pérdida de Entrenamiento y Validación')\n",
        "plt.xlabel('Epochs')\n",
        "plt.ylabel('Loss')\n",
        "plt.legend()\n",
        "\n",
        "plt.show()"
      ],
      "metadata": {
        "id": "wiO20x5XzQcX",
        "colab": {
          "base_uri": "https://localhost:8080/",
          "height": 295
        },
        "outputId": "6d691c61-7949-47e2-9283-e1635eea76cf"
      },
      "execution_count": null,
      "outputs": [
        {
          "output_type": "display_data",
          "data": {
            "text/plain": [
              "<Figure size 432x288 with 1 Axes>"
            ],
            "image/png": "[encoded data removed]"
          },
          "metadata": {
            "needs_background": "light"
          }
        }
      ]
    },
    {
      "cell_type": "markdown",
      "source": [
        "### Predecir valores"
      ],
      "metadata": {
        "id": "1ZARjkoqrSZz"
      }
    },
    {
      "cell_type": "markdown",
      "source": [
        "Imprimir la matriz de confusión, que muestra los valores predichos frente a los reales."
      ],
      "metadata": {
        "id": "BvcHg4ErrSZz"
      }
    },
    {
      "cell_type": "code",
      "source": [
        "# Note, this code is taken straight from the SKLEARN website, an nice way of \n",
        "# viewing confusion matrix.\n",
        "def plot_confusion_matrix(cm, classes,\n",
        "                          normalize = False,\n",
        "                          title = 'Confusion matrix',\n",
        "                          cmap = plt.cm.Blues):\n",
        "    '''\n",
        "    This function prints and plots the confusion matrix.\n",
        "    Normalization can be applied by setting `normalize = True`.\n",
        "    '''\n",
        "    plt.imshow(cm, interpolation = 'nearest', cmap = cmap)\n",
        "    plt.title(title)\n",
        "    plt.colorbar()\n",
        "    tick_marks = np.arange(len(classes))\n",
        "    plt.xticks(tick_marks, classes, rotation = 45)\n",
        "    plt.yticks(tick_marks, classes)\n",
        "\n",
        "    if normalize:\n",
        "        cm = cm.astype('float') / cm.sum(axis = 1)[:, np.newaxis]\n",
        "\n",
        "    thresh = cm.max() / 2.\n",
        "    for i, j in itertools.product(range(cm.shape[0]), range(cm.shape[1])):\n",
        "        plt.text(j, i, cm[i, j],\n",
        "                 horizontalalignment = 'center',\n",
        "                 color = 'white' if cm[i, j] > thresh else 'black')\n",
        "\n",
        "    plt.tight_layout()\n",
        "    plt.ylabel('Observación')\n",
        "    plt.xlabel('Predicción')"
      ],
      "metadata": {
        "id": "vu9XYDdurSZz"
      },
      "execution_count": null,
      "outputs": []
    },
    {
      "cell_type": "code",
      "source": [
        "Y_pred = model7b.predict(test_data)\n",
        "print('Valores de predicción del modelo')\n",
        "# Convertir en predicciones de clases desde los vectores one-hot encoding \n",
        "Y_pred_classes = np.argmax(Y_pred, axis = 1) \n",
        "# Convertir en clases de observación desde los vectores one-hot encoding\n",
        "Y_true = np.argmax(test_labels, axis = 1) \n",
        "# Computar la matriz de confusión\n",
        "confusion_mtx = confusion_matrix(Y_true, Y_pred_classes) \n",
        "# Dibujar la matriz de confusión\n",
        "print('Matriz de confusión')\n",
        "plot_confusion_matrix(confusion_mtx, classes = range(10))"
      ],
      "metadata": {
        "id": "6SXfWWibrSZz",
        "colab": {
          "base_uri": "https://localhost:8080/",
          "height": 366
        },
        "outputId": "324e60f6-479d-456d-e4dd-fa02ae19f5e2"
      },
      "execution_count": null,
      "outputs": [
        {
          "output_type": "stream",
          "name": "stdout",
          "text": [
            "313/313 [==============================] - 1s 3ms/step\n",
            "Valores de predicción del modelo\n",
            "Matriz de confusión\n"
          ]
        },
        {
          "output_type": "display_data",
          "data": {
            "text/plain": [
              "<Figure size 432x288 with 2 Axes>"
            ],
            "image/png": "[encoded data removed]"
          },
          "metadata": {
            "needs_background": "light"
          }
        }
      ]
    },
    {
      "cell_type": "markdown",
      "source": [
        "Se grafica el elemento 6 (```test_data[5]```) para comprobar las soluciones. "
      ],
      "metadata": {
        "id": "OlCm0q0KrSZz"
      }
    },
    {
      "cell_type": "code",
      "source": [
        "digit = test_data.reshape(10000,28, 28)[5]\n",
        "plt.imshow(digit, cmap = plt.cm.binary)\n",
        "plt.show()\n",
        "print(test_labels[5])"
      ],
      "metadata": {
        "id": "ds7qBYgBrSZz",
        "colab": {
          "base_uri": "https://localhost:8080/",
          "height": 283
        },
        "outputId": "54fa7a13-1492-4d6e-8789-cf76a18d92a3"
      },
      "execution_count": null,
      "outputs": [
        {
          "output_type": "display_data",
          "data": {
            "text/plain": [
              "<Figure size 432x288 with 1 Axes>"
            ],
            "image/png": "[encoded data removed]"
          },
          "metadata": {
            "needs_background": "light"
          }
        },
        {
          "output_type": "stream",
          "name": "stdout",
          "text": [
            "[0. 1. 0. 0. 0. 0. 0. 0. 0. 0.]\n"
          ]
        }
      ]
    },
    {
      "cell_type": "markdown",
      "source": [
        "La clase del elemento 6 es la clase 1 (pantalones)."
      ],
      "metadata": {
        "id": "MBy-CwhVrSZ0"
      }
    },
    {
      "cell_type": "code",
      "source": [
        "predictions = model7b.predict(test_data)\n",
        "print('Predicción del elemento 6: clase', np.argmax(predictions[5]))\n",
        "print(predictions[5])\n",
        "print('Suma de las predicciones del elemento 6:', np.sum(predictions[5]))"
      ],
      "metadata": {
        "id": "zINTkEmCrSZ0",
        "colab": {
          "base_uri": "https://localhost:8080/"
        },
        "outputId": "9b3e8085-dda7-49e4-a077-c2e0cfcb8f01"
      },
      "execution_count": null,
      "outputs": [
        {
          "output_type": "stream",
          "name": "stdout",
          "text": [
            "313/313 [==============================] - 1s 3ms/step\n",
            "Predicción del elemento 6: clase 1\n",
            "[6.2911315e-03 9.7520256e-01 1.3679471e-03 4.5774151e-03 1.1252260e-02\n",
            " 3.1324223e-06 1.2764327e-03 8.0710261e-06 1.9323830e-05 1.6630870e-06]\n",
            "Suma de las predicciones del elemento 6: 1.0\n"
          ]
        }
      ]
    },
    {
      "cell_type": "code",
      "source": [
        "def plot_image(i, predictions_array, true_label, img):\n",
        "  predictions_array, true_label, img = predictions_array, true_label[i], img[i]\n",
        "  plt.grid(False)\n",
        "  plt.xticks([])\n",
        "  plt.yticks([])\n",
        "\n",
        "  plt.imshow(img, cmap = plt.cm.binary)    \n",
        "\n",
        "  predicted_label = np.argmax(predictions_array)\n",
        "  if predicted_label.all() == true_label.all():\n",
        "    color = 'blue'\n",
        "  else:\n",
        "    color = 'red'\n",
        "\n",
        "  plt.xlabel('{} {:2.0f}% ({})'.format(predicted_label,\n",
        "                                100*np.max(predictions_array),\n",
        "                                true_label),\n",
        "                                color = color)\n",
        "\n",
        "def plot_value_array(i, predictions_array, true_label):\n",
        "  predictions_array, true_label = predictions_array, true_label[i]\n",
        "  plt.grid(False)\n",
        "  plt.xticks(range(10))\n",
        "  plt.yticks([])\n",
        "  thisplot = plt.bar(range(10), predictions_array, color = '#00FF00')\n",
        "  plt.ylim([0, 1])\n",
        "  predicted_label = np.argmax(predictions_array)\n",
        "\n",
        "  thisplot[predicted_label].set_color('red')\n",
        "  thisplot[np.argmax(true_label)].set_color('black')"
      ],
      "metadata": {
        "id": "KqT4u7_jrSZ0"
      },
      "execution_count": null,
      "outputs": []
    },
    {
      "cell_type": "code",
      "source": [
        "plt.figure(figsize = (6,3))\n",
        "plt.subplot(1,2,1)\n",
        "plot_image(5, predictions[5], test_labels, test_data.reshape(10000,28,28))\n",
        "plt.subplot(1,2,2)\n",
        "plot_value_array(5, predictions[5],  test_labels)\n",
        "plt.show()"
      ],
      "metadata": {
        "id": "ReDfVSMrrSZ0",
        "colab": {
          "base_uri": "https://localhost:8080/",
          "height": 211
        },
        "outputId": "44e49c3b-54c7-4d83-bfaf-6de003c89036"
      },
      "execution_count": null,
      "outputs": [
        {
          "output_type": "display_data",
          "data": {
            "text/plain": [
              "<Figure size 432x216 with 2 Axes>"
            ],
            "image/png": "[encoded data removed]"
          },
          "metadata": {
            "needs_background": "light"
          }
        }
      ]
    },
    {
      "cell_type": "markdown",
      "source": [
        "## Caso 8"
      ],
      "metadata": {
        "id": "Bhw1lF8And2e"
      }
    },
    {
      "cell_type": "markdown",
      "source": [
        "### Crear la red de neuronas"
      ],
      "metadata": {
        "id": "5e-tHDPHnd2e"
      }
    },
    {
      "cell_type": "markdown",
      "source": [
        "Se crea la red neuronal con una capa de entrada con 512 neuronas y función de activación ```sigmoid```, y una capa de salida con función de activación ```softmax```."
      ],
      "metadata": {
        "id": "Tz5qH7g-nd2e"
      }
    },
    {
      "cell_type": "code",
      "source": [
        "model8 = models.Sequential()\n",
        "model8.add(layers.Dense(512, activation ='sigmoid', name = 'Capa8', input_shape = (28*28,)))\n",
        "model8.add(layers.Dense(10, name = 'CapaSalida8', activation = 'softmax'))"
      ],
      "metadata": {
        "id": "sHE5QeQEnd2f"
      },
      "execution_count": null,
      "outputs": []
    },
    {
      "cell_type": "markdown",
      "source": [
        "### Explicar model.summary()\n"
      ],
      "metadata": {
        "id": "zPOSVYtNnd2f"
      }
    },
    {
      "cell_type": "markdown",
      "source": [
        "El resumen del modelo indica el número de parámetros de salida de cada capa. Este número es igual al tamaño de los datos de entrada multiplicado por el número de neuronas, y sumando el número de umbrales de activación de la capa.\n",
        "\n",
        "\n",
        "En el caso de la primera capa: 401920 = 784 (tamaño de los datos) x 512 (número de neuronas) + 512 (número de umbrales de activación).\n",
        "\n",
        "En el caso de la segunda capa: 262656 = 512 (tamaño de los datos) x 512 (número de neuronas) + 512 (número de umbrales de activación)."
      ],
      "metadata": {
        "id": "wYb5bK-Lnd2f"
      }
    },
    {
      "cell_type": "code",
      "source": [
        "model8.summary()"
      ],
      "metadata": {
        "id": "SOyBZTzvnd2f",
        "outputId": "76d41e98-3d4c-4892-b97d-f085440e5fa4",
        "colab": {
          "base_uri": "https://localhost:8080/"
        }
      },
      "execution_count": null,
      "outputs": [
        {
          "output_type": "stream",
          "name": "stdout",
          "text": [
            "Model: \"sequential_16\"\n",
            "_________________________________________________________________\n",
            " Layer (type)                Output Shape              Param #   \n",
            "=================================================================\n",
            " Capa8 (Dense)               (None, 512)               401920    \n",
            "                                                                 \n",
            " CapaSalida8 (Dense)         (None, 10)                5130      \n",
            "                                                                 \n",
            "=================================================================\n",
            "Total params: 407,050\n",
            "Trainable params: 407,050\n",
            "Non-trainable params: 0\n",
            "_________________________________________________________________\n"
          ]
        }
      ]
    },
    {
      "cell_type": "markdown",
      "source": [
        "Se definen las funciones del optimizador, la pérdida y la métrica."
      ],
      "metadata": {
        "id": "8aOOKQMsnd2f"
      }
    },
    {
      "cell_type": "code",
      "source": [
        "model8.compile(optimizer = 'rmsprop',\n",
        "              loss = 'categorical_crossentropy',\n",
        "              metrics = ['accuracy'])"
      ],
      "metadata": {
        "id": "RmNUdhy4nd2f"
      },
      "execution_count": null,
      "outputs": []
    },
    {
      "cell_type": "markdown",
      "source": [
        "### Entrenar la red"
      ],
      "metadata": {
        "id": "OhPvgbLCnd2f"
      }
    },
    {
      "cell_type": "markdown",
      "source": [
        "Para entrenar la red se realizan ```5``` ciclos con lotes de ```128``` imágenes. Se compara con los datos de validación para controlar el sobreentrenamiento. "
      ],
      "metadata": {
        "id": "AgIMPiOdnd2f"
      }
    },
    {
      "cell_type": "code",
      "source": [
        "history = model8.fit(train_val_data, train_val_labels,\n",
        "                    epochs = 5,\n",
        "                    batch_size = 524,\n",
        "                    validation_data = (val_data, val_labels))"
      ],
      "metadata": {
        "id": "JWlfDykcnd2f",
        "outputId": "8cd2cffb-27e0-47f2-ed8e-ede5f7da6e3b",
        "colab": {
          "base_uri": "https://localhost:8080/"
        }
      },
      "execution_count": null,
      "outputs": [
        {
          "output_type": "stream",
          "name": "stdout",
          "text": [
            "Epoch 1/5\n",
            "96/96 [==============================] - 4s 39ms/step - loss: 0.3244 - accuracy: 0.8827 - val_loss: 0.3717 - val_accuracy: 0.8616\n",
            "Epoch 2/5\n",
            "96/96 [==============================] - 3s 29ms/step - loss: 0.3196 - accuracy: 0.8827 - val_loss: 0.3639 - val_accuracy: 0.8667\n",
            "Epoch 3/5\n",
            "96/96 [==============================] - 3s 32ms/step - loss: 0.3141 - accuracy: 0.8848 - val_loss: 0.3401 - val_accuracy: 0.8751\n",
            "Epoch 4/5\n",
            "96/96 [==============================] - 3s 28ms/step - loss: 0.3070 - accuracy: 0.8878 - val_loss: 0.3303 - val_accuracy: 0.8783\n",
            "Epoch 5/5\n",
            "96/96 [==============================] - 3s 28ms/step - loss: 0.3012 - accuracy: 0.8891 - val_loss: 0.3281 - val_accuracy: 0.8819\n"
          ]
        }
      ]
    },
    {
      "cell_type": "markdown",
      "source": [
        "Al aumentar el batch_size a 524 la precisión del modelo aumenta.\n",
        "\n",
        "La pérdida indica el porcentaje de errores entre las etiquetas y las predicciones del modelo.\n",
        "\n",
        "La precisión indica el porcentaje de aciertos entre las predicciones y las etiquetas."
      ],
      "metadata": {
        "id": "-AkE1HWxnd2f"
      }
    },
    {
      "cell_type": "code",
      "source": [
        "test_loss, test_acc = model8.evaluate(test_data, test_labels)"
      ],
      "metadata": {
        "id": "-92kjkjwnd2f",
        "outputId": "b36ff26d-d9b3-4435-80a0-184f823bdebe",
        "colab": {
          "base_uri": "https://localhost:8080/"
        }
      },
      "execution_count": null,
      "outputs": [
        {
          "output_type": "stream",
          "name": "stdout",
          "text": [
            "313/313 [==============================] - 1s 3ms/step - loss: 0.3565 - accuracy: 0.8704\n"
          ]
        }
      ]
    },
    {
      "cell_type": "code",
      "source": [
        "acc = history.history['accuracy']\n",
        "val_acc = history.history['val_accuracy']\n",
        "loss = history.history['loss']\n",
        "val_loss = history.history['val_loss']\n",
        "\n",
        "epochs = range(1, len(acc) + 1)\n",
        "\n",
        "# \"bo\" es para \"punto azun\"\n",
        "plt.plot(epochs, loss, 'bo', label='Pérdida de Entrenamiento')\n",
        "# \"b\" es para \"linea continua azul\"\n",
        "plt.plot(epochs, val_loss, 'b', label='Pérdida de Validación')\n",
        "plt.title('Pérdida de Entrenamiento y Validación')\n",
        "plt.xlabel('Epochs')\n",
        "plt.ylabel('Loss')\n",
        "plt.legend()\n",
        "\n",
        "plt.show()"
      ],
      "metadata": {
        "id": "9gK6wy94zStn",
        "outputId": "b2bf09f2-8f20-4225-d3ec-4097720a3f44",
        "colab": {
          "base_uri": "https://localhost:8080/",
          "height": 295
        }
      },
      "execution_count": null,
      "outputs": [
        {
          "output_type": "display_data",
          "data": {
            "text/plain": [
              "<Figure size 432x288 with 1 Axes>"
            ],
            "image/png": "[encoded data removed]"
          },
          "metadata": {
            "needs_background": "light"
          }
        }
      ]
    },
    {
      "cell_type": "markdown",
      "source": [
        "### Predecir valores"
      ],
      "metadata": {
        "id": "iwUEfXINnd2g"
      }
    },
    {
      "cell_type": "markdown",
      "source": [
        "Imprimir la matriz de confusión, que muestra los valores predichos frente a los reales."
      ],
      "metadata": {
        "id": "DZSsk0eOnd2g"
      }
    },
    {
      "cell_type": "code",
      "source": [
        "# Note, this code is taken straight from the SKLEARN website, an nice way of \n",
        "# viewing confusion matrix.\n",
        "def plot_confusion_matrix(cm, classes,\n",
        "                          normalize = False,\n",
        "                          title = 'Confusion matrix',\n",
        "                          cmap = plt.cm.Blues):\n",
        "    '''\n",
        "    This function prints and plots the confusion matrix.\n",
        "    Normalization can be applied by setting `normalize = True`.\n",
        "    '''\n",
        "    plt.imshow(cm, interpolation = 'nearest', cmap = cmap)\n",
        "    plt.title(title)\n",
        "    plt.colorbar()\n",
        "    tick_marks = np.arange(len(classes))\n",
        "    plt.xticks(tick_marks, classes, rotation = 45)\n",
        "    plt.yticks(tick_marks, classes)\n",
        "\n",
        "    if normalize:\n",
        "        cm = cm.astype('float') / cm.sum(axis = 1)[:, np.newaxis]\n",
        "\n",
        "    thresh = cm.max() / 2.\n",
        "    for i, j in itertools.product(range(cm.shape[0]), range(cm.shape[1])):\n",
        "        plt.text(j, i, cm[i, j],\n",
        "                 horizontalalignment = 'center',\n",
        "                 color = 'white' if cm[i, j] > thresh else 'black')\n",
        "\n",
        "    plt.tight_layout()\n",
        "    plt.ylabel('Observación')\n",
        "    plt.xlabel('Predicción')"
      ],
      "metadata": {
        "id": "gSHAF0dsnd2g"
      },
      "execution_count": null,
      "outputs": []
    },
    {
      "cell_type": "code",
      "source": [
        "Y_pred = model8.predict(test_data)\n",
        "print('Valores de predicción del modelo')\n",
        "# Convertir en predicciones de clases desde los vectores one-hot encoding \n",
        "Y_pred_classes = np.argmax(Y_pred, axis = 1) \n",
        "# Convertir en clases de observación desde los vectores one-hot encoding\n",
        "Y_true = np.argmax(test_labels, axis = 1) \n",
        "# Computar la matriz de confusión\n",
        "confusion_mtx = confusion_matrix(Y_true, Y_pred_classes) \n",
        "# Dibujar la matriz de confusión\n",
        "print('Matriz de confusión')\n",
        "plot_confusion_matrix(confusion_mtx, classes = range(10))"
      ],
      "metadata": {
        "id": "bO6Ll8gNnd2g",
        "outputId": "1f1d0860-e89e-4abf-88d6-37e4e2daed83",
        "colab": {
          "base_uri": "https://localhost:8080/",
          "height": 366
        }
      },
      "execution_count": null,
      "outputs": [
        {
          "output_type": "stream",
          "name": "stdout",
          "text": [
            "313/313 [==============================] - 1s 3ms/step\n",
            "Valores de predicción del modelo\n",
            "Matriz de confusión\n"
          ]
        },
        {
          "output_type": "display_data",
          "data": {
            "text/plain": [
              "<Figure size 432x288 with 2 Axes>"
            ],
            "image/png": "[encoded data removed]"
          },
          "metadata": {
            "needs_background": "light"
          }
        }
      ]
    },
    {
      "cell_type": "markdown",
      "source": [
        "Se grafica el elemento 6 (```test_data[5]```) para comprobar las soluciones. "
      ],
      "metadata": {
        "id": "2BxXnxM3nd2g"
      }
    },
    {
      "cell_type": "code",
      "source": [
        "digit = test_data.reshape(10000,28, 28)[5]\n",
        "plt.imshow(digit, cmap = plt.cm.binary)\n",
        "plt.show()\n",
        "print(test_labels[5])"
      ],
      "metadata": {
        "id": "VqJasvFind2g",
        "outputId": "459504d7-51c3-4b98-f7e1-5bdea40875ba",
        "colab": {
          "base_uri": "https://localhost:8080/",
          "height": 283
        }
      },
      "execution_count": null,
      "outputs": [
        {
          "output_type": "display_data",
          "data": {
            "text/plain": [
              "<Figure size 432x288 with 1 Axes>"
            ],
            "image/png": "[encoded data removed]"
          },
          "metadata": {
            "needs_background": "light"
          }
        },
        {
          "output_type": "stream",
          "name": "stdout",
          "text": [
            "[0. 1. 0. 0. 0. 0. 0. 0. 0. 0.]\n"
          ]
        }
      ]
    },
    {
      "cell_type": "markdown",
      "source": [
        "La clase del elemento 6 es la clase 1 (pantalones)."
      ],
      "metadata": {
        "id": "xf5zMsPsnd2g"
      }
    },
    {
      "cell_type": "code",
      "source": [
        "predictions = model8.predict(test_data)\n",
        "print('Predicción del elemento 6: clase', np.argmax(predictions[5]))\n",
        "print(predictions[5])\n",
        "print('Suma de las predicciones del elemento 6:', np.sum(predictions[5]))"
      ],
      "metadata": {
        "id": "SR6O7nUZnd2g",
        "outputId": "4833bee1-b87a-4825-dae3-5f02b3c7c95d",
        "colab": {
          "base_uri": "https://localhost:8080/"
        }
      },
      "execution_count": null,
      "outputs": [
        {
          "output_type": "stream",
          "name": "stdout",
          "text": [
            "313/313 [==============================] - 1s 3ms/step\n",
            "Predicción del elemento 6: clase 1\n",
            "[9.5273199e-04 9.9876368e-01 8.8163273e-05 6.8759327e-05 1.0342503e-04\n",
            " 3.9242907e-09 2.2170978e-05 2.6210438e-07 7.8846108e-07 3.1833867e-09]\n",
            "Suma de las predicciones del elemento 6: 1.0\n"
          ]
        }
      ]
    },
    {
      "cell_type": "code",
      "source": [
        "def plot_image(i, predictions_array, true_label, img):\n",
        "  predictions_array, true_label, img = predictions_array, true_label[i], img[i]\n",
        "  plt.grid(False)\n",
        "  plt.xticks([])\n",
        "  plt.yticks([])\n",
        "\n",
        "  plt.imshow(img, cmap = plt.cm.binary)    \n",
        "\n",
        "  predicted_label = np.argmax(predictions_array)\n",
        "  if predicted_label.all() == true_label.all():\n",
        "    color = 'blue'\n",
        "  else:\n",
        "    color = 'red'\n",
        "\n",
        "  plt.xlabel('{} {:2.0f}% ({})'.format(predicted_label,\n",
        "                                100*np.max(predictions_array),\n",
        "                                true_label),\n",
        "                                color = color)\n",
        "\n",
        "def plot_value_array(i, predictions_array, true_label):\n",
        "  predictions_array, true_label = predictions_array, true_label[i]\n",
        "  plt.grid(False)\n",
        "  plt.xticks(range(10))\n",
        "  plt.yticks([])\n",
        "  thisplot = plt.bar(range(10), predictions_array, color = '#00FF00')\n",
        "  plt.ylim([0, 1])\n",
        "  predicted_label = np.argmax(predictions_array)\n",
        "\n",
        "  thisplot[predicted_label].set_color('red')\n",
        "  thisplot[np.argmax(true_label)].set_color('black')"
      ],
      "metadata": {
        "id": "V-WgItlYnd2g"
      },
      "execution_count": null,
      "outputs": []
    },
    {
      "cell_type": "code",
      "source": [
        "plt.figure(figsize = (6,3))\n",
        "plt.subplot(1,2,1)\n",
        "plot_image(5, predictions[5], test_labels, test_data.reshape(10000,28,28))\n",
        "plt.subplot(1,2,2)\n",
        "plot_value_array(5, predictions[5],  test_labels)\n",
        "plt.show()"
      ],
      "metadata": {
        "id": "_hU9WOQfnd2g",
        "outputId": "967903cb-781b-4fc7-af1a-1881c8aecea9",
        "colab": {
          "base_uri": "https://localhost:8080/",
          "height": 211
        }
      },
      "execution_count": null,
      "outputs": [
        {
          "output_type": "display_data",
          "data": {
            "text/plain": [
              "<Figure size 432x216 with 2 Axes>"
            ],
            "image/png": "[encoded data removed]"
          },
          "metadata": {
            "needs_background": "light"
          }
        }
      ]
    },
    {
      "cell_type": "markdown",
      "source": [
        "# Conclusiones\n"
      ],
      "metadata": {
        "id": "x15DhcxgTvb8"
      }
    },
    {
      "cell_type": "markdown",
      "source": [
        "En la siguiente tabla observamos los distintos casos con su valor de pérdida y su precisión. \n",
        "\n",
        "> ![MicrosoftTeams-image (1).png](data:image/png;base64,iVBORw0KGgoAAAANSUhEUgAAAXcAAAFcCAYAAAAzq/4LAAAAAXNSR0IArs4c6QAAAARnQU1BAACxjwv8YQUAAAAJcEhZcwAAEnQAABJ0Ad5mH3gAADkCSURBVHhe7Z0/byJNu+Zvn08Bkh30LtrklRMigzQJ0uzZjY4M8iMNRCOHk/llNxkeBzxMhpw5tHwSGGkscHCi1UgkI8FEJH7fzNoObAl/iNXprbu6GvovNG7KdLevn9TmTzdNc1N1VdVdZa6Df/zjHxYBAADIFQeWgO/885//pL/97W/ySbA9iF8yEL9kIH7JyGP8/kXdAgAAyBEQdwAAyCEQdwAAyCEQdwAAyCEQdwAAyCEQdwAAyCEQdwAAyCEQdwAAyCEQdwAAyCEQdwAAyCEQdwAAyCEQdwAAyCEQdwAAyCEQdwAAyCEQdwAAyCEQdwAAyCEQdwAAyCEQdwAAyCEQdwAAyCEQdwAAyCEQdwAAyCEQdwAAyCEQdwAAyCEH//jHPyx1HwAAQE44sAR855///Cf97W9/k0+C7UH8koH4JQPxS0Ye44e0DAAA5BCIOwAA5BCIOwAA5BCIOwAA5BCIOwAA5BCIOwAA5BCIOwAA5BCIO0gpM/p2cECN7y/qMXg1v7/RgYjlwR9DQjTfDxB3AHLNCw2vOlTv9qh+N6LJs3oa5B6IOwB55nlCo7s6NT6fU+NsTKNf6Lu/FyDuIMPYqRuZclDbt99ql4OTkpBbg4bunuvzkBrrXpsDXn6NaHzWoNphgWqndRo3b0TUgrx8b7jiFIzF7K/VPk8cVQy9x4vRwh/iuL9c7yS/h280c8XceY3/vT2vU4Rfn3qfQLop5P3fIRB3kE2kSFRpPlwQ/zyS3GY96lRceXo+ptKh3kztt9pkXjhCIBqGoxbR8vULMq6E+Mh9eeGFJvdjqp/WqCAeFT40qE4dmviEm4Wz2CQaPDlxmhJVVrFgYa9e9mjqxPmpQaNlHLehQ9WjETXU+3w9Ue/92Fbvy+ceUP2y6plrib6+AjUvekT+dNPvG2qJ0crgc0U98U4RwZLwr0OC14P4JSMYv6klqq1VHy7UYy/TLll0NrD8ez3PPw2sujiHEPcQ1p8/a4SWv1nPIqpbQhQVC2twJuLTFTK9ZEMc1sZQELo/5H3ktaw5zxL/azd9T8H9UWVjHXmsv+i5gwzyQuaDuDk2ZI/UjVESUnNnkskPDpvU7or+oujNy5SAPMKhQudDTlMUxT5fuiYnzH52iGRKRj0hosWpGbqcrGLxbNJc3JQNfyQVYr/o+5OxPEcSws/jTbkURa9b7WA2XZ/4HmviOx7fT5YjssmleCc1WnnPQNxBrqn8ycP4BQ3OOlRl8XDlZwufRnKYP+2OqXUU1gBkGVvk6K5FxaVwHlCxORZPdqifkiWmnPIpNsurlI/8rtTOmFQ+D6guPucNp5t+T8Snq1Pjw3uXdog7yCQFMo7FzYMZyPuaj0K8zgwy1GObAjV/COGYiQF8yHJA2QBwrjckH51ZlMit8tTOZovnsqd7aFBZ3MzNCLEX+8X4hkwtIxs1AuvWRP87gk3XxxzWqCE+U+fnzB6tdNvU3MlII9tA3EEmqXxkoW7RF3cP9Pc3qoreau+iKYfkcrjvWjHxYsoBvp0a4NUb7lUWO00/7Bt7bbs3JeOgUjPLRk6lNZpfXKkpXoWkRjGOcLomWOVEtRM7l7Da8EoVX2olEtVIu9JEL9+/+F674fokTrqpan//H9/5RKqDaM0lmBBMBuKXjKgJVS6ins09UaYm81b73ZOHjJqci9gvJ95cr9882ZdePPFTcdk0SRqYhIyMxfo4+r8Hfq08X2BC1f/9ML7vWbwm8FrB5u/KOU9P3NuePNZf2OztCMQvGYhfMhA/7s1XqdOdkvXn9j132OwBAEAaceYY3vvadhcQdwBAxlk3x/B+gbgDADKOWg31w55IBzYQdwAAyCEHPEus7gMAAMgJWC2zIxC/ZCB+yUD8koHVMgAAADIBxB0AAHIIxB0AAHIIxB0AAHIIxB0AAHIIxB0AAHIIxB2kHo85c8AMOSnKTHlpaLHOsGObY9PDruPnNcv2buuNtb2b/1iwWyDu2gk69KfKld1xo0+pUzz/Jnu/5DLBvjCpuKtrlY78RTIvHCML3r6GG0dsc2yK0BW/3tJ0fLVNu2qnj22OBbsD4q4T5dAvf4bUXbDJ6+6+L2Sv6qhFbLyWSkT8vjy2afTJ9YshJ19pUZok9zzl7+bKoIX4PtiFfy3bHJsmNMWPnauCcWBbv6DZyTbHgt0CcdeG6LGzcIb8vjQXeE+F2wPco6uKCjZ42t6z8s14Nqkc4qpTMIhGv5I1jrNbk9oxf2hqm2NThcb4BeCf3I37q4zbHAteDcRdF/L3peNZfnnd30NSJHIEsNofzFUGUz+b8pm2OfQo1V6Tti1eOONHU917DaLn+MA+q94cevhoaptj04W++AVh79L6aS1eY7nFseD1QNw1YVesHtU2DONZ2Iti6LxM27BR86U7bWOPAGjo5E0XZFz5/CwPqjRf7hfbrEedSjYEaBNrjZETMvmrSKPTVdzaj8XImG1zbJrQGb8Vdpql8SGWtG9xLEgCxF0T0oU/BrIH7U7bKMPh6J4V/3b1aiJvdtui8dmArn15VZ6wWjrcAy/PJs3vWtSiqSc9xumy9uPNquFktjn2vYKUTCqBuKcAb1rG7xxfofNhncbNotjX8E2EvZD5IG6OjcAQ1yjVie5M2u3gOz3US4a69woODSqHWrKpeLrZ5tgMkSh+PpCSSScQd01UPvbE3zmZG1Yl8IqVYrNMUzXc57SLf4LTzo/z8rExtY64AcjG+uqkFD40iEJGH7Of84TD+grVRCxDJxVFQ+mVvW2OTRf64ucGKZm0AnHXxUmNeiTE+HadDKveX7cWa700pwJkTp46NJETpgUyjsXNgxmowDItdJZu8dnIYZOuT0d0454c/v2NqtSOngiW69G5AfSPcrxU/pxSufnFc8yM8+qlYK9ym2NThcb4LUFKJrVA3LVhp1PoshpY/SLTMPI5Jc6Xk2VP/OX7F29ahiub+78Kn03RZKzWCMsRwl2Lvrgn97gCXxL1LrLvKVn4dE3GlZOyEhuvN/ctLX0dFfpqtcmUIyF743/2CV+ius2x6UJf/GyQkkkxYrgvYbs98Hoi4/c0sITEs9vVautO1U5magl59uybdr3HyMeuY3oztcMh8B51a/Ck9kWwGNZdx2/3Wh2g/CUD8UtGHuMHm70dgfglA/FLBuKXDNjsAQAAyAQQdwAAyCEQdwAAyCEQdwAAyCEHPEus7gMAAMgJWC2zIxC/ZCB+yUD8koHVMgAAADIBxB0AAHIIxB0AAHIIxB0AAHIIxB0AAHIIxB0AAHIIxB2kHjY0Wf5krfvnj3eEff44v1/uNcnOimmKnvj5TNn9pu4efMdq+A5BEIi7dnwFm7e1FeGtCF7XN7epQ0rg377n307nf8eQ24VJxV3Gj3/7/qFHPZ/7VQBpYlEk88JxzOJt5WWbVvTEj8tOn4ynVSwWpX54uZZx8x17OqIiBF47EHedPA+pcVClTne6LNi8Tam6d+f82V9V8cd1TV2iTiVlAi/i9+Wx7TXFOPkqhGQSzyVoI0KkKnMaXJ2vd6zi75FNLkScvp6o57KArvj9ntB8eO1xc2JTkMFDP3he8X6WNfIdO6Lp8YgmO/kOQRQQd20I4Thq0ZiF3ed8w3Z5+3bx4WtwC1XlM9v3CYH/mYZRheLZpPLHYN+4IJQ41NN0S16+90XDu8ZyTjG7Nan9I4OuVprjB9INxF0X7BcpbnohlcuPtN1zp0j8w1s5AliXPslGimVbXsy5uhdk/Giqe6+Ee7VsTL7Rcm5Gkwf2ovXm2/c98oqDtvidnFPj/kZExsXzhMxTb28+EpkKg5eqbiDumrArVo9qG4bxLOxFMXRepm3YAPvSnbaxRwA0dPKmCzKuXBN5UvirYpjsyqvOejLFspUASW/WeI3RWzI3dYioEOqLFpVn8XPmEzbEPl3FuP1YzITA64lfgZpXBvVdnYmDI5Nqa0ejrg4Ip7iyOBLKGBB3TZiPLJWb4fyjJ21zWKPG2bqelahYP1aiNLtt0fhsQNe+vCrn0Mf3k5iTVkLsrsQ4Q5znPEs55dfy+4ZaFPOzikZvftcSx089qTROa7Uffb3X9wJ3KISYt53OBG9PQuzXTpKyybg6lid1M7LSKMtA3FOANy1TpNad2iGp0PmwTuNmUezzL9d7IfNB3BwbgV6QUaoT3ZkUZ/A9E73S1l2dBlfZ6U3VS2unQNciR1VCsIuemI+pdRSyHPLQoDKJ2Hz29/FV7DNKovj9GomR5Ll31HPYpHbcSVKeZBXK3s/AyCfLQNw1UfnYE3/nZG4o7LwGuci532UvaEED37I82bsX+6ZdFiAWo931evj9q5dEvZl3RUMaKHxoEIWMPmY/59T48PpmyInnauOYCwF/CotBhWoi7qETkKJRfb1E6kdX/JiyEXy9USqre/FIPG8C1gJx18VJjXokxPh2nQyr3l+35u0FRcCpAJmTpw5N5IRpgYxjcfNgBiqwTAudrRcfHjHYwp7SJX6iN3h9OqIb9+QwT8bRmhUucl01N4Bx/ikpHpU/p1RufvGcj0c7o1It3SMdTfErfGoTXflSMDxBfW8EJknlP1D5Fwjwe/AS1MBoCOwU0XORsCMTeD1h8VsM62yEYlFX9MtdyOfVc9Ou2E89yzki8JpZz6KzgbWwH9mPqW4NntyPyaoPl0csnxOiHYnzPuuOeUuiy9/CEiMZOya8uWMRhvrsnhitwY6/s617zdQSY7HlsZ54p4A3j9/yOGdblWE/yzId49h9kUf9g7jviMj4PQ2suqdgi80j9l7R4H1ScFzHeAUoRJAD77FJ2Hzv6dniieKuQflLBuKXjDzG74D/iEoNm66EIH7JQPySgfglAzZ7AAAAMgHEHQAAcgjEHQAAcgjEHQAAcsgBzxKr+wAAAHICVsvsCMQvGYhfMhC/ZGC1DAAAgEwAcQcAgBwCcQcAgBwCcQcAgBwCcQcAgBwCcQcAgBwCcQepR/4muOOatNbKbRt8puKxzus1yd6laYpO3iR+/t9sV3je27flwcQ9zUDcteOrBLxFVIS3JXhdcSqb1xJwu9e+Bn6/fsll/s3+m0njJw0p+mQ8qXOKbXE6ouI64ZOvKZJ5sXqNZcU32N4XWuIny44vfqV+ZLlmM5jl+6uNPX6BXiDuOmEj4YMqdbpTb8Gm6t6d82d/VcUfb2XrVOKKdM9lC2hvWpyc2N3nse0xpmb/zUVpksxliT08La+lHlvvTaM8QPl7ZMd+XZ9TF7ri93tC8+G1L37XNHjoB87L7mHBmM1oclknI8oNCuwEiLs2RO/mqEVjFvY/vf07LvCeCrcH/JWu8pnt+4TA/0zDqELxbFL5Y7BvXDAo3NNUE7Nbk9o/smMeviQl8QsgGofOWSNgyQd2C8RdF1yAxU0vpHL5CaQ6/MNbOQJYlwJ5XYol7byYc3UvyM7Nldlb9CFMcEQv84G9aL359n2PvOKgLX4n59S4vxGRcfE8IfPU25uPYvazQ/XTlPvP5gCIuybsitWj2oZhPAt7UQydlykONsC+dKdt7BEADZ286YKMK9dEnkr9zJf7xTbryRTLVgIkenljcROnMRL9e6q6GhKdQjc3dYqoq1HktMua3vmEDbFPVzFuPxYzIfB64legpohX31UGDo5MqsUajdopmcYHSLtuIO6aMB9ZKjfDuV5P2uawRo2zdT0rUbF+rCbyZrctGp8N6NqXV+Uc+vh+EnNlhOiVXolxhjjP+YbGSF6v04iohmTcLKZkknhbKvTV+Rw80Ri2+kU0evO7FrVo6kmlcVqr/ejrvb4XuEMhxLztLgdPQuzjrMRBSubNgLinAG9apkitO7VDUqHzYd0W0IOGb8LqhcwHcXNsBHqcRqlOdGdSnMH3TPRKW3d1Gly9Iq+sGhK6nLyp0NVLhrq3I3iSVXyAvr83fmhQmURsPvtHNCr2GSVJ/F5+jcRI8ty7UuiwSe2oCWkXSMm8HRB3TVQ+9sTfOZmbCvtfB1Rsll2rTxY0ED13N05vedodU+uIG4Ddra/m969e8nI17+qRbZANiQYKHxpEIaOP2c+5tmF9cMRUoZqIe+gEpGhUd9zE7BSd8SsbwdcbpbK6FwVSMm8JxF0XJzXqkRDj23UyrHp/3Zq3FxQBpwJkTp46NJETpgUyjsXNgxmowDItdLZefHjEYAt7siV+cd7rVYje4PXpiG7ck8M88Unt6IZIrkfnBtA/ylkh/7HGn0bi11XmIT10jvuUys0vnvPxaGdUSnkPVFP8Cp/aRFe+FAwvu7w31qdbkJJ5W0SPUMKOTOD1hMVvMayzEYpFXdEvdyGfV89Nu2I/9SzniMBrZj2LzgbWwn5kP6a6NXhyPyarPlwesXxOiHYkzvusOyZw7qeBVXddKxPrPDGILn8LS4xk5HvIzR2LMNQ1e2IUwjLOy837uYJMLTEWWx7viXcKeOv4rY5ztk3xs8t62uLmkEf9g7jviMj4SUF0VwKxecTeKxq8Twq+6xi7AVhtASENvMeGiul/T8+2vuHwX8vm94oHyl8yEL9k5DF+B/xHVFLYdCUE8UsG4pcMxC8ZsNkDAACQCSDuAACQQyDuAACQQyDuAACQQw54lljdBwAAkBOwWmZHIH7JQPySgfglA6tlAAAAZAKIOwAA5BCIOwAA5BCIOwAA5BCIOwAA5BCIOwAA5BCIO0g/yiBcl2ep/H33Nb9fLtF8DTqxP5/a4ljhbYXXOHyTkUysWIOdAHHXjsuE2dlS4TcavK60CdfSfpD9OmfsbKUBNq946FHP537l8CbXoBG+/n7JZZ7OXrG7Kn/S2KNI5oU6t9xW/r4BNsQa7BaIu05kb69Kne7UVfgtmlJ170I6+6sq/qyuaaF8Wr+5XXv2zMqMe41gJEI0cOy+dHUe6SKl/xo0wu5Ij22PsTd7xS5Kk+Q9Zy7bVwYtRGziuXhtjjXYLRB3bYjCfNSiMQv7n15ZYLs8T4XbA3wN7krJ1mncL52b2Us7vJaX733R8K6xnMs6zyaVPwabpIJQ11BP2C2Y3YqRzI/4huq5j3UKgbjrgv0ixU0vpHL5WQ79nc0/bFb5Xmd/sHcdTLFs3QMXQjBXd98F3KtlY3Jfw5snXszobzRoBL4NM5o8sGeuN98eORp9B7FOIxB3TdgVq0e1DUNWFvaiGDo76RFpgH3pTtvYIwAaOnnTBRlXrkkrKfxVmi/3i23Wo05lmxy6qKQXYpQhrre95xHF22B/3vIsg6mWLdE5EpuwSfjpqty1H4shZe79xDptQNw1YT6O1b31yJyuu0dzWKPG2bqeVYGaP1YVZXYrRPlsQNe+vOq0K85xPxFVKwp3r6tIrbseTbOYV34Nv2+oRQM6j5UrBgF4lHfXEjGcetKLnOprP96sOh4MYr03IO4pwJuWYaFVOyQVOleTncElZC9kPoibYyOQ+zRKdaI7k6IH39xIqJ6+2BbDOVX5/VOxkkcvclQlxKnoifmYWkfvZ4levZRgWvPQoDLVafDZ3xVQ5dEFYr0/IO6aqHyU05NkbijAvO63yPlIJbKcdhn4loo5KzamXa4UXEHWryV+Dfwe3Nuny8nOz502Vitg3DEXYvU0ytWEX+FDgyhk9Db7OafGhyTptwrVRFkMnZQVHQ13s/FeYp1GIO66OKlRj4QY366TStXT6dZipUN42Ctz8tShiZwwLZBxLG4ezEAFlmmhM29FexfItdfcAKJnSIdNuj4d0Y17cp3XmtOaVSsx41f5c0rl5hfPMTPOwZdqsVfQAM2I1lTCjkzg9YTFbzGssxGKRV3RL3chn1fPid6yOKZnOUcEXjPrWXQ2sBb2I/sx1a3Bk/sxWfXh8ojlc72ZehxgavXc52DUa/zX+lasjV/YFnWdzufwf74I7Pg7W/A1r7qGPRBdfxeWGAmurtldlsLYKn5cjlbn9pTBEDbFep/kUf8g7jsiMn5PA6vuqgBy84iCt4LwPlkJXMd4K0WIaAfeY3PFCROtTZVTJyh/yUD8kpHH+MFmb0cgfslA/JKB+CUjj/FDzh0AAHIIxB0AAHIIxB0AAHIIxB0AAHLIAc8Sq/sAAAByAlbL7AjELxmIXzIQv2RgtQwAAIBMAHEHAIAcAnEHAIAcAnEHAIAcAnEHAIAcAnEHAIAcAnEH6UcZhMf3hI2Dz1T8j2HgN/GDeA2hdZim6IANYbb7nNuwXUzsa8Fv7b8FEHft+ESEt1RY2QWvK454ei0BV9s3tyHEjli+15FJ7Rk7W+0IaUjRJ+Np5RC0OB1RcZ3wydcUybxYvcbKgOcsx7BfcpmnX5hU3FX52zYmbBTy0KOez2kM6AHirhPZ46xSpzt1FX6LplTdcS90e2Z/VcWf1TUtlE9rPJFmM+3Va3n7qsEAeWXRtmMRPfkqzum1eZM2g8cjmoT1KPl7vDJooelzakNc95fHtsfEmj/7ojRJ3nPeOiaiM1GZ0+Dq/P25g+0JiLs2RGE+atGYhf1PrzSxXZ6nwu0BvgZ3pSx8agvJJpqb+2100sjsVowcfjSzZx/3bFL5Y7BZLAh1DfU/3YJtY/LyvS86OWvs/cDOgbjr4veEOuKmF1K5/ARSHf5hs8o5O/uDvetgimXrNIkQgrm6+y6RKYMG1QLiM6PJA3vRenPL+x55xeHFjP5Gx4+muvcatowJjyDYBN7XyQF6gbhrwq5YPaptGLKysBfF0HmZ4mAD7Et32sYeAdDQyZsuyLhyTVpJ4a/SfLlfbLMedSrbCJCopBdilCGutx1rRNGhqqrQWRG6cFyNIqcY1vREJ2z+fLqKcfuxmInPrXMkFi8mdtkqz9I/P5E3IO6aMB/H6t56ZF7Z3aM5rFHjbF3PqkDNH6uKMrsVonw2oGtfXnXaFee4n0RPEHp6XUVq3XEefXMFXOXBVw0J5+rTMUm8LRX66nwOnmgMW+nBI5q7FrVo6kmlcVqr/XgTPP49sE1Mft+I4wZ0nqW5ipwAcU8B3rQMC63aIanQuZrsDC4heyHzQdwcG4Eep1GqE92ZFD345kZiJdKL4dzujW8r0qohoctJtoWOJ1nFB+j7e56HBpWpToPP/mZPxT6j1EsJpjW3iIkcwYqGoOgp32NqHWE5pG4g7pqofJTTk2RuKMC87rfI+UinB2ktaOBbKub0lqddrhRcQXa/vlquFnmlSMuGJCcER0wVqom4h05AikY1zSs/Ch8aRCGjt9nPOTU+RCWg4hA/JoGRnizfomF48q5WArsH4q6Lkxr1SIjx7TqpVD2dbm1jOoThYa/MyVOHJnLCtEDGsbh5MAMVWKaFzt5GfN7yvTYi115zAxjdM5T/SOMfofDreKleoDfKcZ9SufnFc74Z55tLtcgcfSo4bNL16Yhu3JPrPHFMa1atxIgfk9mYvCdEayphRybwesLitxjW2QjFoq7ol7uQz6vnRG9ZHNOznCMCr5n1LDobWAv7kf2Y6tbgyf2YrPpwecTyud5MPQ4wtXruczDqNZ5r9Z/7aWDVXdfKONcb/V7xWBu/sM0X0yXO5/B/Ph/Bc3s/VxCO2ep4T7xTQHT9XVhiJLj6nO6yFEbM+NlsFxO7rDtbnPO/HXnUP4j7joiMnxREd6EWm0eYvBWE98lK4DrGWylChDTwHpsrTphwBiqnX9wF/mvZVSVF+UsG4peMPMYPNns7AvFLBuKXDMQvGXmMH3LuAACQQyDuAACQQyDuAACQQyDuAACQQw54lljdBwAAkBOwWmZHIH7JQPySgfglA6tlAAAAZAKIOwAA5BCIOwAA5BCIOwAA5BCIOwAA5BCIOwAA5BCIO0g98vfXHSefP4aB367fHq+x82pbY4KiTMqz6Be7+/gxPlP2tQ5evmN3dg1gHRB37fgKNm8p8xtd2fzt3uEpKXxt/ZLL/Ju9TncSP3YDUudcbkEP2WVsjkxqz9hdK1voiR+X6T4ZrvgtSv3wci3NP3zHno6oCIHXDsRdJ7K3V6VOd7os2LxNqZqiHuCMbppjqp+l0CpPxO/LY9tjwsxep4vS5M38N1c2cRl079cVv98Tmg+vPW5OhU/XNHjoB8/L3rSW11JPWjoej2jyRt/hewXirg3Ruzlq0ZiF/U+vLLBdnqfC7ZHZX3bjc32qnkgTzyaVPwYltWBQuH8n8IL4vWsg7roQvZuOuOmFVC4/q7RIRNpG5Xud/d/cnpiSYOoneEwI7Kd52aOpr/FJC9I5P4KgkfW2OGbjW8YsQ2iL38k5Ne5vvCm85wmZp97efCRc7h4aVINBtlYg7pqwK1aPaif24yhY2Iti6LxM27AB9qU7bWOPAGjo5E0XZFy5cuMq9TNf7hfbrEedyqbJP3HeSod6s3SnG+amjh5mgZo/VKyWG8c1fwKvLX5XBvVdDSPPSdTWjkZdHRDx2sWPJoy0NQNx14T5OFb31iNzuu6e82GNGmfrelYsTCtBnt22aHw2oGtfXnXaFee4n0ROWsl0jHjd+YbG5/0g4nohGsWfSScb3wHcoeAJZnfj+CTEfu0kaYW+OsfypG4KJ+/zBsQ9BXjTMkVq3akdkgqdD+s0bhbFvoZvwuqFzAdxc2wEekFGqU50Z1JoEyHTMXUaXGW391QvGereDjk0KIXTylpIEr+XXyMxkjz3jvgOm9SOO0nKk6xC2fsZXFaaJSDumqh85GVzczI3FHZeg1xslmm67AUtaCB67m6cFRvTrpMnTtbrsVNG3pxzsckjjQ5V+XFKlmoWPjSIQkYfs59zanzYfbMkRUtHo7EndMavbARfb5TK6l48ks+bgHVA3HVxUqMeC+jtOqFUPe9uLVbem1fZyJy8EOGJzA0XyDgWNw9moALLtNCZQWFStVret9oWYnTAcwSykUnLBKvoDV6fjujGnQfnUQe1oyfu5LpqbrD8o5wV8p96/CkE8TpuZNspWcW0EzTFr/CpTXTlix8vu7w3ApOkMtb+zgK/R2VOg88pKWc5BeKuDTudQpfVQOGWaRj5nBLny8myJ/7y/Ys3LcMVwS1Ez6ZoMupkqEokRwh3LfriHuJyBb4UUn2R/UkrXj/NE53OCENOxiVsfGQjKfO+rvOKU07X/ROTPKaj0mPqcUpGOOvQET8u21/98eMcfMgkKcda/oOT+1gZa+/ad6AB0WuTsN0eeD2R8XsaWELi2e1qtXVF/3jJ1BLy7Nk37XqPkY9dx/RmaodD4D3q1uBJ7YuJ6LmL1/XE1ewHlL9kIH7JyGP8DviPEATYdCUE8UsG4pcMxC8ZsNkDAACQCSDuAACQQyDuAACQQyDuAACQQw54lljdBwAAkBOwWmZHIH7JQPySgfglA6tlAAAAZAKIOwAA5BCIOwAA5BCIOwAA5BCIOwAA5BCIOwAA5BCIO0g98jfBnZ+LXWvlFpcXGv7hOudyizJB8RmQ7+Qa3o7dx4/xxWTtzx9vcyzYFRB37fgKdkoKt9fab7WlzSCar7Nfcpl/8++I7yR+dRo8qXMutxCzcGle0SfDdezidETFjAi8nvhxmfbFhH+zPey80sA95NiMNZBZBOKuE1mwq9TpTpcFm7cpVamRCv9I5bzk2r6myTCb3X0e2zTymX8vSpNIl6Cdw36fPmMJdrKaxvUL3Se64vd7QvPhtS8m1zR46AfOywbu5VlG45dxIO7aEL2boxaNWdh9zjfsTuOpcCCcZ5PKH4OuQQWDaPQL/b6NpCB+XNbDOwzjjf7CIBkQd12I3k1H3PRCKpefQIrEP7yVI4B1qZNg6idt6ZXXYBt5h5PcXNlrEL5VzNjG8KER8AtNG9rid3JOjfsbUepcPE/IPPX25iMR5bn/MKDzNI0ScwjEXRN2xepRbUMBZmEviqHzMjXCBtiX7rSNPQKgoZM3XZBx5Zr4U6mf+XK/2GY96lQOYqR+OlR1iVs6UkVe5qaOaypQ84eK1XLjuK4TeFcDyj6kIX6haURb/EQM+q6ywx6qtTijUS6vEX6rYLdA3DVhPo7VvfVw/tGTtjmsUeNsXc+KhWk18cc5zfHZgK59edVpV5zjfhI5aSXf1y1uokGQ5s8pmOzdDyKuF6JR/Bn1+Sv01YmVNIeOWlnzDnAE2l1+noTYb5ok5clp+bqQiWuwcyDuKcCblilS607tkFTofFhXrvsN34TVC5kP4ubYCPSCjFKd6M6k2INv1SDQ5SQTolUvGereDjk0SERtMzzJKoLUT+FIJy5J4vfyayRGkudegT5sUnvNJKks4zzigbC/GRB3TVQ+9sTf+cZJI16DXGyWXatWFjQQPXc3Ti972nXyxHp6jbJBSBGFDw2ikNHH7OecGh92P6iXorWF6CXP++tFZ/zKRvD1Rqms7nmRZZxTj0jFvCkQd12c1KjHk3a362RY9by7tVi9GV55IHPy1KGJzA0XyDgWNw9moALLtNCZQdv0z17zGq2I3uD16Yhu3HlwnsykdvTEnVyXzg2gf5SzQv5Tjz+FIF7HjWzblzeWx/pTVfwelTkNPqe8D6opfoVPbaIrX/yeh/Tl3vBNMtv/LCbX2ftWjHFc8zDpn2pEj1DCjkzg9YTFbzGssxGKRV3RL3chn1fPTbtiP/Us54jAa2Y9i84G1sJ+ZD+mujV4cj8mqz5cHrF8rjdTj/08Day66z0Z530jX6OZ6PK3sMRIxo4Jb+5YhKE+uydGYSyPczZvPNwsv5MYx+6LdMZvaonxq++41bavshZGHvUP4r4jIuMnhdRXsD1i76sAYp8UfNcxdgOw2gKVIvAeGyqmwH/OOK/RCcpfMhC/ZOQxfgf8R1Ru2HQlBPFLBuKXDMQvGbDZAwAAkAkg7gAAkEMg7gAAkEMg7gAAkEMOeJZY3QcAAJATsFpmRyB+yUD8koH4JQOrZQAAAGQCiDsAAOQQiDsAAOQQiDsAAOQQiDsAAOQQiDsAAOQQiDtIPfI31R2nqk1WbrHxmYqvtRe0f5d899fwNiB+7xOIu3Z8lYC3FPmUeio+bymreGzPJs0e7J+ntv1Lk8ZPmor3yXhS5xTbotSP/Oyzv4rUOp56ryEjAqUlfrJMh8Qv4rxZjl+WgbjrRIpIlTpdV8EW25Sq1Ni7/6bdm6o+DGjhurZUWaGxu89jm0Y+8+9FaRLpEhQHNhUvz0YeNyK2MpyGeYCKa+hzjNxOQuyhKgTK43CURjTFj35PaD689sXvmgYP/eB5sxy/jANx14bo3Ry1aMzC7rMYY7s8T4XbAy/fv1DrrkfTNPtaPptU/hi0sisYRKNfr28cOf5fT9QDD+Nwz9sQA3I2057/TM8ILBRN8duarMYv40DcdSF6Nx1x0wupXH6kM7w7NeIf3soRwGp/0HsymPpZ70/5QpP7cWzv1n3xYs7VvSA7N6dWPczzMNEP8aiVRD2fErTF7+ScGvc3otS5eJ6QeertzS/JaPyyDsRdE3bF6lEttIe4goVdOsM7aRE2wL50p23sEQANnbzpgoyrb6uKJYW/KobJrrzqrEedysGa1I9J5h1RnSaeRmOdKfK+mJtvUP05hkcmtcNGMYdNah+3PHlq2RjzqEw9TjN64leg5pVBfXfZEfGrhY1GMx6/LANx14T5GK/ocq7Xk7Y5rFHjbF3PSlSsH1+XPW7OH4/PBnTty6tOu+Ic95O1PaPxJVHbaRDENu2OqXWUPoHXCrv9s7Bbq5j64TQOz5M4QmY3xlPRdL9TnMbQVXasJyH2EZOkiN9+gLinAG9apkgt0ateUaHzYZ3GzaLY5xfeFzIfxE1ITtMo1YnuRA9dPQ6jPjz3CFrlsxg1ROWdU0a9ZKh7r0fGXfRAF2uE3YEFailk3Bhz2i0sl5wRksTv5ddIjCS9ZcfuoYdMSCvyFr8sAHHXROUj90vmG4WSlyIWm2WaOgXfWtBA9NzdyN692Gf3rLkBcKVlNPAmqZAYFD40iEJGH7Ofc2p8SCYLMu7cg3zVhPILDa/mNPi8qUnYLzrjVzaCrzdKZXVvE9mIX9aBuOvipCaGnUKMb9fJsOp5x5zYlL0fzslThyZywrRAxrG4CZmYkmmhM4PC+2fieU79+Cv+synzoGEVdy+I3uD16ci7ZO73NzHAb4dP3DGcZpEjoKj0kr0EVK799q1iYsFfPxHN8OuLZF54l1KmEi3x485Gm+jKl4J5HtKXe4NqG2OSofhlHdEjlLAjE3g9YfFbDOtshGJRV/TLXcjn1XPTrthPPcs5IvCaWc+is4G1sB/Zj6luDZ7cj8mqD5dHLJ/rzdTjMALHTC0x1vC+1xsSXf4WlhjJ2DGJc33qc3li5EF9zogtGLPg8WvjuifeLn6K5XHOtirDXrIev+wCcd8RkfF7Glh1X+H2ir2v8It9UvBdx9gNwGoLVI7Ae2yomIplQ+Jsnut6W1D+koH4JSOP8YPN3o5A/JKB+CUD8UsGbPYAAABkAog7AADkEIg7AADkEIg7AADkkAOeJVb3AQAA5ASsltkRiF8yEL9kIH7JwGoZAAAAmQDiDgAAOQTiDgAAOQTiDgAAOQTiDgAAOQTiDgAAOQTiDlIP/8760qkqwspte3ym4n5T8hyx6/h5zufbNv0evv3ad2bluCcg7trxiQhv+xYSaartuybXttmw4u1gKzxprGH/PDVZF6bHbPl18HfSJ+NJnVNsi1I/lwKvJ35Evdkqds7Gvr1rYaOQhx71fE5jQA8Qd51IEa1Spzv1VgKqUuP7bvqfr+KwSSPX9TjbYlgXO3tUO7EP2zvs7vPYppHP/HtRmiTr+f2e0Hx47XECKny6psFDP189Sk3xY0ewr4EyMqPJZZ2MSHcl0aBW5jS4Oo9wBwO7BuKuDVGYj1o0ZmH32blx5fBUuFQwo5vmOLbl35vwbFL5Y/BqCkIdRr/22DhmhbeMHxtenzUibfZevvdFJ2eNvR/YORB3XXBhFze9kMrlR7rwu1Mj/mGzL40STJsEUz/bplZk5aN6qkyLX8y5uhdk/Giqe6/g5Jwa9zciai6eJ2SeenvzWUdb/EKY/RSl57QWbjbOIwg2gfd1coBeIO6asCvW5hQHC7t04XfSI2yAfelO29gjABo6edMFGVffVsKkUj/z5X6xzXrUqRxskfp5ock999rT17Oamzp66AVqXhnUdzeIRybVUjeaSo6e+PmxUzKND2Hxe6HhRYvKs6/pGRG+EyDumjAfhVjGoPBp5E3bHNaocbauZyWE6ceqosxuWzQ+G9C1L6/Kk1vj+0m8lRG/b6h1F2+UkQu4QRRi3nYaQ96ehNjvbCXOO2NdSobLFg3oPC3zOO8IiHsK8KZlilJoV1TofFincbMo9vmXkL2Q+SBujo3AcNgo1YnuTNo8+BY9q6sOkWggslQB66XXT8u9/BqJkdC5tyd52KT28Ygm72SJXpL4+VmXkpEj2LsWFT3le0ytIyyH1A3EXROVjz3xd07mhgLM636LnI9c9iIXNPAtFZO9e7Fv2uVKwRXElZZJitNrv2iG50v3SOFDgyhk9DH7OY9IAcSnbARfb5TK6l4+0Bm/FetSMquyu9q4fNdp8DTC5KpmIO66OKlRj4QY366TYdXzjrlChVfZyJw8dWgiJ0wLZByLmwczUIFlWujM2LjsjHtdqVr+6Eb0pq9PR3TjnhzmtdK0Zm5A7Ld7iNE9w8KnNtGVLwXDk373RuRqj0yiKX4eNqySAfsD4q4NO51Cl9XA6heZhpHPKXG+nCx74i/fv3jTMlzZ3LngZ1M0Gav1xHKEIIa9X9yTp1yBL2P0xoWg9cVxdX+KIkXw+nPjyhnSi+3KoEXiVRcV+sr/zOOckzfOwf9I3+glKXrit2LtKhkf9n+nIi3zZoihkoTt9sDriYzf08ASEs9uV6utO1U7makl5Nmzb9r1HiMfu47pzdQOh8B71K3Bk9q3Bvu8PXEF+wflLxmIXzLyGD/Y7O0IxC8ZiF8yEL9kwGYPAABAJoC4AwBADoG4AwBADoG4AwBADjngWWJ1HwAAQE7AapkdgfglA/FLBuKXDKyWAQAAkAkg7gAAkEMg7gAAkEMg7gAAkEMg7gAAkEMg7gAAkEMg7iD12D8Vq7adWOG90PAP1zmXW5QJis+APGN2fLuPH+OLid/U3Y/0+t3G1xckBeKuHV8liFMRdKMqmueaXNs3t7mDD68lYLzXJIHfr19ymX/z77DvJH7sBuS4AzlbiImzNK/ok+E6dnE6omJGBF5P/LhM+2JS6oeW62V54d/Ln7E7GXgrIO46kSJapU53uqpcYptSdb89mMMmjVzX42wLNheJ5crUc9kC2ttXHU5O7I702KaRz/x7UZq8ndGDeD/L8lrCsXXcNAt+q7ri93tC8+G1LybXNHjoB867stkLaTiBViDu2hC9m6MWjVnYfc43bJfnqXCpYEY3zXFsy7834dmk8sfg1RQMotEvDO83gvi9ayDuumBvSXHTC6lcfgKpDv/w1pdGCaZAgqmfbdMkL9/74nrrNPicGmm3nfMjGD+a6t5rcczGXxEztjF8SL9vqLb4nZxT4/5GlDoXzxMyT729ebBfIO6asCvW5hQHC3tRDJ2XKQ42wL50p23sEQANnbzpgowr18SfSv3Ml/vFNutRp7LN5NULTe65177GONlDh6ouUdSZYpqbOs5doOYPFavlxnFdJ/CuBpR9SDPit6otfiIGfVcZ4Jx6LXWj0fcNxF0T5qMQyxjInKQ7bXNYo8bZup4VC9Mqfzm7bdH4bEDXvrzqtCvOcT+JN+n3+0aacscZZaxyqGoTDcm4Wdz/JHFiRFwvRKP4M+pzVOir85mluXbUypp3AHcoeILUXQ6ehNhnbBVR3oG4pwBvWobd4dUOSYXOh3VbQA/8jvEvZD6Im2Mj0Is0SnWiO5M2D75faHjVIRINxPlrJkVVQ0KXkzcVu3rJUPd2yKFBPKW8EZ5kFR+2n+FlfUni9/JrJEaS5965mcMmtbMwyfyOgLhrovKRl33NydxQ2HkNcrFZdq0+WdBA9NzdOL3ladfJE++w1+j02i9en2aQDYkGCh8aRCGjj9nPOTU+7D4FIEVrC9FLnvfXi874lY3g641SWd0DaQDirouTGvV40u52nQyrnnfMFSq8ykbm5KlDE5kbLpBxLG4ezEAFlmmhM4M2SdXsp5z2jbH8MZq477U1ojd4fTqiG3cenCczac3cgFyXzg2gf5SzQv5Tjz+FIF7HjWzblzeWx/pTTvwelXmqJp9D0RS/wqc20ZUvfrzs8t5I/STzu0L0CCXsyAReT1j8FsM6G6FY1BX9chfyefXctCv2U89yjgi8Ztaz6GxgLexH9mOqW4Mn92Oy6sPlEcvnejP1OIqngSX63N7XuvGfWx6/ulbGud6N77WB6PK3sMRIRr6H3NyxCENdsydGYSyPczbv53Kz/E5iHLsv0hq/YOxcm69e7JM86h/EfUdExk8JaHShnlo93z4p+K5j7AZgtQWENPAeGyqmwt+wBPCLu8B/LXHfaxMof8lA/JKRx/gd8B9RSWHTlRDELxmIXzIQv2TAZg8AAEAmgLgDAEAOQVpmRyB+yUD8Xs9/af+rugd2wf/t/x91L9ug5w5Ahin9r/+h7gHg5YBnidV9AEDG+Ld//zv9pz34zk2Pc184I6D/+Hwlb7MO0jI7AvFLBuL3Ov7b//6f9P/+8z/lfYh7MhxxR1oGAABAaoG4AwBADoG4A5BD+PdhwPsG4g5AhnEmUwHwA3EHAIAcAnEHAIAcAnEHqUf+prrjVLUzKzefqXjkeV9o+IfruOWWIZu95W+08xb9O+3b4vleouLheW/flnlrxnQDcdeOT0RSVKi99n68pU+w+Br7JZf5N/uXJo2fFJw+GU/qnGJbnI6oGCnwdRq4jrW3lY9tqmG/Uzb0Xl53m8yj5N8zC7vne2EP1ajy052ujnO2GTuVAZ1A3HXCFeugSh1f4Z5SlRp79t/kyhm09+tQNU0mx+zu89imkc/8e1GaJOt9sgeqNfK4EbGV4TR3HqBi1CEaw/YPt4Vihb4KIZ4kKn8zmjz4TNnZ9Wk4D/rKcqzdBvAKdgDT4oMLlkDctSF67EctGrOw+wo32+V5BOvNCbP3K1DttB7TVPuNeDap/DEoDAWhCaNfqWmCUoz4Lo9DLBwPRQBDvFXfDtE4XNa1+OCCFRB3XfyekHQnDREnP4H0iD/tIEcAq/3f3J6YkmDqJ3iMG+W9ejnxDKO1eaG+khdzru4F2bk5NXuLPjQiPEAdY/K48U0JonGMjGCiRrxC535vVtFUTB4b3t58FFw3zqJiDXYFxF0TtjBtNp5mYS8+tpcpG2mAfelO29gjABo6+c0FGVeu3KZK/cyX+8U261GncrA29VP5cyqurkNVKVT2pGH1skdTzxB+/8xNnf1LV6PIeenQz16g5g8V1+XG30FGBD7EPH0XFD5dyxisGrwimR/jlR2Zkjmtpaqc5RGIuyZkLzgGnOv1pG0Oa9Q4W9czZbFZTebNbls0PvPlP0++0rQrzrF26F2hrzLPTqIhKFLrTjRFs4xMEu4MjoESbJ6ojT2hLL6DC9E0/ox3dP7gzoAQ8wt/gxdnJQ5SMm8FxD0FeNMyttCuEEPgYZ3GzaLY5688Knd+bAR6QUZpff7cfs8ijU5Vj1/19ne31FAvO5+M44k/odWBCcEoDg0SEc4uSdJvzxMa0YDOPaNSbvDKm+dCkJJ5MyDumqh85KVeczI39GTCV62onQrZuxf7pl0n95twKRuvQmmOqT5crCZ2pbiJa75r+XKp+6PwoRE68Tf7OdfW84uby3/5NSJK+2oPHgUKGQ6sABICO0+aFgnpUHCDV1Z3o0BK5u2AuOvipEY9noi7XSfDYatWouFVNjInTx2aSAFWE6MhedU4k6Nlw1fF0tYb5eV1/ok7nviktmcZo4flP81EpwjkP9/4J635dZU5DT57vwl5rH80I47lBrm91xVPcRC96Ssh754yOKNv4iNGX/tqHiJyzkZ8L23qB0aRw4sRGWsbXaRk3hKIuzbsdApdVgNCIlMi8rngqpWX71+8aRkWHbe4PJuiyaiTocRNjhBEb/uLuyKyAF4S9S4iJrhUD6tz5RUtmb+PMQn8lgQm7njiM2Td9DZwI7ko9Vfn5E2ccupb+87IBlXm4/3HZmR+ghtIz2flf95Kfu2VP/mfoVwx4QlVIe6RjS6DlMzbIob7ErbbA68nMn5PA0tIPP9032rrTtVOZmoJefbsm3a9x8jHrmN6M7XDIfAedWvwpPZF4ntfufXEs/sB5e91/Nf2v1rG3/+73Nzw9wm2IyyOWeaA/4iCAJuzhCB+yUD8XgcbZId5qHJvWlVtEBPY7AEAUsO/CBEHIAyIOwAA5BCIOwAA5BCIOwAA5JADXqWg7gMAMsa//fvf4aO6Y/7j85W6l22wWmZHIH7JQPxeh3u1DNgNeVktA3HfEYhfMhC/ZCB+ychj/JBzBwCAHAJxBwCAHAJxBwCAHAJxBwCAHAJxBwCAHAJxBwCAHAJxBwCAHAJxBwCAHAJxBwCAHAJxBwCAHAJxBwCAHAJxBwCAHAJxBwCAHAJxBwCAHAJxBwCAHAJxBwCAHAJxBwCAHAJxBwCAHAJxBwCAHAJxBwCA3EH0/wE5ddY9vwHLqwAAAABJRU5ErkJggg==)\n",
        "\n",
        "\n",
        "\n",
        "*   En los casos 1 y 2 ambos tienen capas de 10 neuronas y función de activación \n",
        "'relu' , lo que cambia es el optimizador. En el caso 1, el optimizador es el 'sgd' y observamos que tiene una precisión de 0.77 y el del caso 2, el 'rmsprop' con una precisión de 0.83. Por tanto podemos concluir que es más preciso el 'sgd'.\n",
        "*   En los casos 3 y 4 ambos tienen capas de 10 neuronas y función de activación 'sigmoid' , lo que cambia es el optimizador. En el caso 3, el optimizador es el 'sgd' y observamos que tiene una precisión de 0.64 y el del caso 4, el 'rmsprop' con una precisión de 0.83. Por tanto podemos concluir que es más preciso el optimizador 'sgd'.\n",
        "*  Comparando la función de activación'relu' y 'sigmoid' de los casos 1, 2, 3 y 4. La función de activación 'relu'(acc 0.77) tiene mayor precisión que 'sigmoid' (acc 0.64)\n",
        "\n",
        "\n",
        "*   En los casos 5 y 6 ambos tienen capas de 512 neuronas y función de activación 'relu' , lo que cambia es el optimizador. En el caso 5, el optimizador es el 'sgd' y observamos que tiene una precisión de 0.82 y el del caso 6, el 'rmsprop' con una precisión 0.89. Por tanto podemos concluir que es más preciso el optimizador 'rmsprop'.\n",
        "*   En los casos 7 y 8 ambos tienen capas de 512 neuronas y función de activación 'sigmoid' , lo que cambia es el optimizador. En el caso 7, el optimizador es el 'sgd' y observamos que tiene una precisión de 0.74 y el del caso 8, el 'rmsprop' con una precisión 0.81. Por tanto podemos concluir que es más preciso el optimizador 'rmsprop'.\n",
        "\n",
        "*   Comparando la función de activación'relu' y 'sigmoid' de los casos 5, 6, 7 y 8. La función de activación 'relu' tiene mayor precisión que 'sigmoid'.\n",
        "\n",
        "*  En los casos 2.5, 7.5 añadimos 25 épocas lo que nos lleva al sobreentrenamiento de nuestro modelo.\n",
        "\n",
        "*   Por último, observamos que los modelos con 10 neuronas son menos precisas que los modelos con 512 neuronas.\n",
        "\n",
        "\n",
        "\n",
        "\n",
        "\n",
        "\n",
        "\n"
      ],
      "metadata": {
        "id": "GH0mlY6AT_lW"
      }
    }
  ]
}