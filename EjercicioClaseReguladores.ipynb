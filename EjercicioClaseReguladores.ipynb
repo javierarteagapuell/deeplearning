{
  "nbformat": 4,
  "nbformat_minor": 0,
  "metadata": {
    "kernelspec": {
      "display_name": "Python 3",
      "language": "python",
      "name": "python3"
    },
    "language_info": {
      "codemirror_mode": {
        "name": "ipython",
        "version": 3
      },
      "file_extension": ".py",
      "mimetype": "text/x-python",
      "name": "python",
      "nbconvert_exporter": "python",
      "pygments_lexer": "ipython3",
      "version": "3.8.5"
    },
    "colab": {
      "provenance": [],
      "include_colab_link": true
    },
    "accelerator": "GPU",
    "gpuClass": "standard"
  },
  "cells": [
    {
      "cell_type": "markdown",
      "metadata": {
        "id": "view-in-github",
        "colab_type": "text"
      },
      "source": [
        "<a href=\"https://colab.research.google.com/github/javierarteagapuell/deeplearning/blob/main/EjercicioClaseReguladores.ipynb\" target=\"_parent\"><img src=\"https://colab.research.google.com/assets/colab-badge.svg\" alt=\"Open In Colab\"/></a>"
      ]
    },
    {
      "cell_type": "markdown",
      "metadata": {
        "id": "Ejg7Msp7rbkk"
      },
      "source": [
        "# Ejercicio con regularizadores"
      ]
    },
    {
      "cell_type": "code",
      "source": [
        "%tensorflow_version 2.x\n",
        "from keras.datasets import mnist \n",
        "import tensorflow as tf\n",
        "from tensorflow import keras\n",
        "print(tf.keras.__version__)\n",
        "print(\"GPU Available:\", tf.config.list_physical_devices('GPU'))\n",
        "print(tf.__version__)\n",
        "from keras.datasets import mnist\n",
        "from keras import models\n",
        "from keras import layers\n",
        "import numpy as np\n",
        "import matplotlib.pyplot as plt\n",
        "from keras import regularizers\n",
        "#from keras import optimazers\n",
        "#from keras.losses import sparse_categorical_crossentropy"
      ],
      "metadata": {
        "id": "BSivef1i532C",
        "colab": {
          "base_uri": "https://localhost:8080/"
        },
        "outputId": "12d354ae-21ab-4365-cfe7-c7151be047b0"
      },
      "execution_count": 13,
      "outputs": [
        {
          "output_type": "stream",
          "name": "stdout",
          "text": [
            "Colab only includes TensorFlow 2.x; %tensorflow_version has no effect.\n",
            "2.9.0\n",
            "GPU Available: [PhysicalDevice(name='/physical_device:GPU:0', device_type='GPU')]\n",
            "2.9.2\n"
          ]
        }
      ]
    },
    {
      "cell_type": "code",
      "source": [
        "(train_images, train_labels), (test_images, test_labels) = mnist.load_data() # Descarga los datos de MNIST"
      ],
      "metadata": {
        "id": "3t3R6gU9-wUy"
      },
      "execution_count": 14,
      "outputs": []
    },
    {
      "cell_type": "code",
      "source": [
        "# Prepara con reshape y normaliza las imágenes tanto de entrenamiento como de test\n",
        "train_images = train_images.reshape(60000, 28*28)\n",
        "train_images = train_images.astype('float32') / 255\n",
        "test_images = test_images.reshape(10000, 28*28)\n",
        "test_images = test_images.astype('float32') / 255\n",
        "print('Imágenes de entrenamiento:', train_images.shape)\n",
        "print('Imágenes de test:', test_images.shape)"
      ],
      "metadata": {
        "id": "H6n5NeSz0U1d",
        "colab": {
          "base_uri": "https://localhost:8080/"
        },
        "outputId": "1bb8102b-25c5-4078-d54d-75db218e9b9a"
      },
      "execution_count": 15,
      "outputs": [
        {
          "output_type": "stream",
          "name": "stdout",
          "text": [
            "Imágenes de entrenamiento: (60000, 784)\n",
            "Imágenes de test: (10000, 784)\n"
          ]
        }
      ]
    },
    {
      "cell_type": "code",
      "source": [
        "# Crear un subconjunto de imágenes de entrenamiento que llamaré\n",
        "# validation_images, para hacer las validaciones, con las 10000 últimas imágenes \n",
        "# del set de datos de entrenamiento (train_images) (obviamente, lo mismo con las\n",
        "# etiquetas correspondientes -> validation_labels). Deja preparadas las 50K \n",
        "# primeras imágenes y etiquetas para entrenamiento (train_images y train_labels)\n",
        "\n",
        "validation_images=train_images[50000:]\n",
        "validation_labels=train_labels[50000:]\n",
        "train_images=train_images[:49999]\n",
        "train_labels=train_labels[:49999]\n",
        "print('Comprobación:', validation_images.shape)\n",
        "print('Comprobación:', validation_labels.shape)\n"
      ],
      "metadata": {
        "id": "NKoZGyap0XAj",
        "colab": {
          "base_uri": "https://localhost:8080/"
        },
        "outputId": "254adeb5-02d6-472c-8ceb-dcdab97dec97"
      },
      "execution_count": 16,
      "outputs": [
        {
          "output_type": "stream",
          "name": "stdout",
          "text": [
            "Comprobación: (10000, 784)\n",
            "Comprobación: (10000,)\n"
          ]
        }
      ]
    },
    {
      "cell_type": "code",
      "source": [
        "def crea_modelo(regularizador):\n",
        "  # Define una función que recibe un número del 0 al 4 que creará:\n",
        "  # un modelo secuencial con una capa de entrada densa de 512 neuronas\n",
        "  # con activación relu y la capa de salida que le corresponda según el problema\n",
        "  # Ahora, en función del número del regularizador:\n",
        "\n",
        "  modelo = models.Sequential()\n",
        "  if regularizador==0:\n",
        "    modelo.add(layers.Dense(512, activation ='relu', input_shape=(28*28,)))\n",
        "    modelo.add(layers.Dense(10,  activation = 'softmax'))\n",
        "  elif regularizador==1:\n",
        "    modelo.add(layers.Dense(512, kernel_regularizer=regularizers.l1(0.001), activation ='relu', input_shape=(28*28,)))\n",
        "    modelo.add(layers.Dense(10,  activation = 'softmax'))\n",
        "  elif regularizador==2:\n",
        "    modelo.add(layers.Dense(512, kernel_regularizer=regularizers.l2(0.001), activation ='relu', input_shape=(28*28,)))\n",
        "    modelo.add(layers.Dense(10,  activation = 'softmax'))\n",
        "  elif regularizador==3:\n",
        "    modelo.add(layers.Dense(512, kernel_regularizer=regularizers.l1_l2(l1=0.001, l2=0.001), activation ='relu', input_shape=(28*28,)))\n",
        "    modelo.add(layers.Dense(10,  activation = 'softmax'))\n",
        "  elif regularizador==4:\n",
        "    modelo.add(layers.Dense(512, activation ='relu', input_shape=(28*28,)))\n",
        "    modelo.add(layers.Dropout(0.5))\n",
        "    modelo.add(layers.Dense(10,  activation = 'softmax', input_shape=(28*28,)))\n",
        "  else:\n",
        "    print(\"Error\")\n",
        "  modelo.summary()\n",
        "  return modelo\n",
        "  \n",
        "  # Si es 0, no mete ningún regularizador\n",
        "  # Si es 1, mete un regularizador de tipo l1 y valor 0.001\n",
        "  # Si es 2, mete un regularizador de tipo l2 y valor 0.001\n",
        "  # Si es 3, mete un regularizador de tipo l1_l2 y valor 0.001 para ambos\n",
        "  # Si es 4, mete un Dropout del 50% después de la primera capa densa\n",
        "  # Si es distinto que estos valores, escribe el error y retorna\n",
        "  # Al final, esta función pinta el summary del modelo y retorna el modelo creado"
      ],
      "metadata": {
        "id": "6JnVLVfsAfkh"
      },
      "execution_count": 17,
      "outputs": []
    },
    {
      "cell_type": "code",
      "source": [
        "def compila_modelo(modelo): \n",
        "  # Define una función que recibe un modelo, lo compila con un optimizador\n",
        "  # 'rmsprop', con una función de pérdida 'sparse_categorical_crossentropy' y\n",
        "  # una métrica de precisión. La función retorna el modelo\n",
        "\n",
        "  modelo.compile(optimizer = 'rmsprop',\n",
        "              loss = 'sparse_categorical_crossentropy',\n",
        "              metrics = ['accuracy'])\n",
        "  return modelo"
      ],
      "metadata": {
        "id": "qKyJ8KOT0aFt"
      },
      "execution_count": 18,
      "outputs": []
    },
    {
      "cell_type": "code",
      "source": [
        "def entrena_modelo(modelo):\n",
        "  # Define una función que entrena el modelo que se le pasa por parámetro,\n",
        "  # con las imágenes y etiquetas de entrenamiento, con 30 iteraciones y 128\n",
        "  # de tamaño de minilote y con el validation_data creado más arriba.\n",
        "  # Esta función devuelve un history\n",
        "\n",
        "  historia = modelo.fit(train_images, train_labels,\n",
        "                    batch_size = 128,\n",
        "                    epochs = 30,\n",
        "                    validation_data=(validation_images, validation_labels))\n",
        "  return historia"
      ],
      "metadata": {
        "id": "_yQ7SpOt0cBp"
      },
      "execution_count": 19,
      "outputs": []
    },
    {
      "cell_type": "code",
      "source": [
        "def pinta_perdida_entrenamiento_validacion(historia):\n",
        "  history_dict = historia.history\n",
        "  acc = historia.history['accuracy']\n",
        "  val_acc = historia.history['val_accuracy']\n",
        "  loss = historia.history['loss']\n",
        "  val_loss = historia.history['val_loss']\n",
        "  epochs = range(1, len(acc) + 1)\n",
        "  # \"bo\" es para \"punto azun\"\n",
        "  plt.plot(epochs, loss, 'bo', label='Pérdida de Entrenamiento')\n",
        "  # \"b\" es para \"linea continua azul\"\n",
        "  plt.plot(epochs, val_loss, 'b', label='Pérdida de Validación')\n",
        "  plt.title('Pérdida de Entrenamiento y Validación')\n",
        "  plt.xlabel('Epochs')\n",
        "  plt.ylabel('Loss')\n",
        "  plt.legend()\n",
        "  plt.show()"
      ],
      "metadata": {
        "id": "bJrRNc4WwPN2"
      },
      "execution_count": 20,
      "outputs": []
    },
    {
      "cell_type": "code",
      "source": [
        "def pinta_precision_entrenamiento_validacion(historia):\n",
        "  history_dict = historia.history\n",
        "  acc = historia.history['accuracy']\n",
        "  val_acc = historia.history['val_accuracy']\n",
        "  loss = historia.history['loss']\n",
        "  val_loss = historia.history['val_loss']\n",
        "  plt.clf()   # Limpia la figura\n",
        "  acc_values = history_dict['accuracy']\n",
        "  val_acc_values = history_dict['val_accuracy']\n",
        "  epochs = range(1, len(acc) + 1)\n",
        "  plt.plot(epochs, acc, 'bo', label='Precisión de Entrenamiento')\n",
        "  plt.plot(epochs, val_acc, 'b', label='Precisión de Validación')\n",
        "  plt.title('Precisión de Entrenamiento y Valización')\n",
        "  plt.xlabel('Epochs')\n",
        "  plt.ylabel('Loss')\n",
        "  plt.legend()\n",
        "  plt.show()"
      ],
      "metadata": {
        "id": "Mafxp6D3wYQx"
      },
      "execution_count": 21,
      "outputs": []
    },
    {
      "cell_type": "markdown",
      "source": [
        "## Una vez definidas todas las funciones anteriores, ejecuta las siguientes llamadas a dichas funciones y deduce que está pasando y, para este contexto, que es lo que mejor está funcionando"
      ],
      "metadata": {
        "id": "6nnQYysYA3_T"
      }
    },
    {
      "cell_type": "markdown",
      "source": [
        "### Caso 0, sin regularizadores"
      ],
      "metadata": {
        "id": "OrGwDgaFBax4"
      }
    },
    {
      "cell_type": "code",
      "source": [
        "network0 = crea_modelo(0)"
      ],
      "metadata": {
        "id": "uXvhlXg79Zi9",
        "colab": {
          "base_uri": "https://localhost:8080/"
        },
        "outputId": "c70bbe93-fb3b-4081-b215-6e0ca7996841"
      },
      "execution_count": 22,
      "outputs": [
        {
          "output_type": "stream",
          "name": "stdout",
          "text": [
            "Model: \"sequential_1\"\n",
            "_________________________________________________________________\n",
            " Layer (type)                Output Shape              Param #   \n",
            "=================================================================\n",
            " dense_2 (Dense)             (None, 512)               401920    \n",
            "                                                                 \n",
            " dense_3 (Dense)             (None, 10)                5130      \n",
            "                                                                 \n",
            "=================================================================\n",
            "Total params: 407,050\n",
            "Trainable params: 407,050\n",
            "Non-trainable params: 0\n",
            "_________________________________________________________________\n"
          ]
        }
      ]
    },
    {
      "cell_type": "code",
      "source": [
        "network0 = compila_modelo(network0)"
      ],
      "metadata": {
        "id": "Ff0HC3NR9ez8"
      },
      "execution_count": 23,
      "outputs": []
    },
    {
      "cell_type": "code",
      "source": [
        "historia0 = entrena_modelo(network0)"
      ],
      "metadata": {
        "id": "x9zQDOlw9g6V",
        "colab": {
          "base_uri": "https://localhost:8080/"
        },
        "outputId": "8c404d45-a1ba-4a4b-c40b-0ade1aad1ff9"
      },
      "execution_count": 24,
      "outputs": [
        {
          "output_type": "stream",
          "name": "stdout",
          "text": [
            "Epoch 1/30\n",
            "391/391 [==============================] - 2s 4ms/step - loss: 0.2776 - accuracy: 0.9195 - val_loss: 0.1399 - val_accuracy: 0.9589\n",
            "Epoch 2/30\n",
            "391/391 [==============================] - 2s 4ms/step - loss: 0.1159 - accuracy: 0.9658 - val_loss: 0.1105 - val_accuracy: 0.9696\n",
            "Epoch 3/30\n",
            "391/391 [==============================] - 2s 4ms/step - loss: 0.0757 - accuracy: 0.9774 - val_loss: 0.0844 - val_accuracy: 0.9754\n",
            "Epoch 4/30\n",
            "391/391 [==============================] - 1s 4ms/step - loss: 0.0545 - accuracy: 0.9838 - val_loss: 0.0831 - val_accuracy: 0.9742\n",
            "Epoch 5/30\n",
            "391/391 [==============================] - 2s 4ms/step - loss: 0.0407 - accuracy: 0.9878 - val_loss: 0.0716 - val_accuracy: 0.9796\n",
            "Epoch 6/30\n",
            "391/391 [==============================] - 1s 3ms/step - loss: 0.0307 - accuracy: 0.9909 - val_loss: 0.0741 - val_accuracy: 0.9791\n",
            "Epoch 7/30\n",
            "391/391 [==============================] - 1s 4ms/step - loss: 0.0227 - accuracy: 0.9933 - val_loss: 0.0805 - val_accuracy: 0.9794\n",
            "Epoch 8/30\n",
            "391/391 [==============================] - 1s 4ms/step - loss: 0.0176 - accuracy: 0.9952 - val_loss: 0.0802 - val_accuracy: 0.9798\n",
            "Epoch 9/30\n",
            "391/391 [==============================] - 1s 4ms/step - loss: 0.0130 - accuracy: 0.9964 - val_loss: 0.0805 - val_accuracy: 0.9809\n",
            "Epoch 10/30\n",
            "391/391 [==============================] - 2s 4ms/step - loss: 0.0108 - accuracy: 0.9971 - val_loss: 0.0801 - val_accuracy: 0.9811\n",
            "Epoch 11/30\n",
            "391/391 [==============================] - 1s 3ms/step - loss: 0.0076 - accuracy: 0.9980 - val_loss: 0.0805 - val_accuracy: 0.9809\n",
            "Epoch 12/30\n",
            "391/391 [==============================] - 1s 3ms/step - loss: 0.0063 - accuracy: 0.9984 - val_loss: 0.0825 - val_accuracy: 0.9822\n",
            "Epoch 13/30\n",
            "391/391 [==============================] - 2s 4ms/step - loss: 0.0045 - accuracy: 0.9987 - val_loss: 0.0968 - val_accuracy: 0.9810\n",
            "Epoch 14/30\n",
            "391/391 [==============================] - 1s 3ms/step - loss: 0.0033 - accuracy: 0.9992 - val_loss: 0.0912 - val_accuracy: 0.9815\n",
            "Epoch 15/30\n",
            "391/391 [==============================] - 1s 3ms/step - loss: 0.0027 - accuracy: 0.9992 - val_loss: 0.1052 - val_accuracy: 0.9787\n",
            "Epoch 16/30\n",
            "391/391 [==============================] - 1s 3ms/step - loss: 0.0023 - accuracy: 0.9994 - val_loss: 0.1022 - val_accuracy: 0.9815\n",
            "Epoch 17/30\n",
            "391/391 [==============================] - 1s 4ms/step - loss: 0.0018 - accuracy: 0.9996 - val_loss: 0.1130 - val_accuracy: 0.9798\n",
            "Epoch 18/30\n",
            "391/391 [==============================] - 2s 4ms/step - loss: 0.0011 - accuracy: 0.9998 - val_loss: 0.1045 - val_accuracy: 0.9816\n",
            "Epoch 19/30\n",
            "391/391 [==============================] - 1s 3ms/step - loss: 0.0011 - accuracy: 0.9996 - val_loss: 0.1085 - val_accuracy: 0.9811\n",
            "Epoch 20/30\n",
            "391/391 [==============================] - 1s 3ms/step - loss: 8.1505e-04 - accuracy: 0.9998 - val_loss: 0.1173 - val_accuracy: 0.9813\n",
            "Epoch 21/30\n",
            "391/391 [==============================] - 1s 3ms/step - loss: 5.8820e-04 - accuracy: 0.9999 - val_loss: 0.1101 - val_accuracy: 0.9820\n",
            "Epoch 22/30\n",
            "391/391 [==============================] - 1s 4ms/step - loss: 4.4221e-04 - accuracy: 0.9999 - val_loss: 0.1209 - val_accuracy: 0.9806\n",
            "Epoch 23/30\n",
            "391/391 [==============================] - 2s 4ms/step - loss: 6.4872e-04 - accuracy: 0.9998 - val_loss: 0.1251 - val_accuracy: 0.9807\n",
            "Epoch 24/30\n",
            "391/391 [==============================] - 2s 4ms/step - loss: 4.5254e-04 - accuracy: 0.9999 - val_loss: 0.1348 - val_accuracy: 0.9809\n",
            "Epoch 25/30\n",
            "391/391 [==============================] - 1s 4ms/step - loss: 1.6476e-04 - accuracy: 1.0000 - val_loss: 0.1280 - val_accuracy: 0.9801\n",
            "Epoch 26/30\n",
            "391/391 [==============================] - 1s 4ms/step - loss: 2.2851e-04 - accuracy: 0.9999 - val_loss: 0.1293 - val_accuracy: 0.9816\n",
            "Epoch 27/30\n",
            "391/391 [==============================] - 2s 4ms/step - loss: 1.2377e-04 - accuracy: 1.0000 - val_loss: 0.1403 - val_accuracy: 0.9806\n",
            "Epoch 28/30\n",
            "391/391 [==============================] - 2s 4ms/step - loss: 1.8898e-04 - accuracy: 0.9999 - val_loss: 0.1353 - val_accuracy: 0.9812\n",
            "Epoch 29/30\n",
            "391/391 [==============================] - 1s 4ms/step - loss: 1.7744e-04 - accuracy: 0.9999 - val_loss: 0.1408 - val_accuracy: 0.9823\n",
            "Epoch 30/30\n",
            "391/391 [==============================] - 1s 4ms/step - loss: 1.2562e-04 - accuracy: 1.0000 - val_loss: 0.1451 - val_accuracy: 0.9811\n"
          ]
        }
      ]
    },
    {
      "cell_type": "code",
      "source": [
        "pinta_perdida_entrenamiento_validacion(historia0)"
      ],
      "metadata": {
        "id": "OvhDZvS8-0mG",
        "colab": {
          "base_uri": "https://localhost:8080/",
          "height": 295
        },
        "outputId": "b98e8984-3e1a-4a3e-ca18-5345517b209a"
      },
      "execution_count": 25,
      "outputs": [
        {
          "output_type": "display_data",
          "data": {
            "text/plain": [
              "<Figure size 432x288 with 1 Axes>"
            ],
            "image/png": "[encoded data removed]"
          },
          "metadata": {
            "needs_background": "light"
          }
        }
      ]
    },
    {
      "cell_type": "code",
      "source": [
        "pinta_precision_entrenamiento_validacion(historia0)"
      ],
      "metadata": {
        "id": "UuiL2CCH_fGN",
        "colab": {
          "base_uri": "https://localhost:8080/",
          "height": 295
        },
        "outputId": "6708ad91-3b71-488f-953f-f7c1908064cf"
      },
      "execution_count": 26,
      "outputs": [
        {
          "output_type": "display_data",
          "data": {
            "text/plain": [
              "<Figure size 432x288 with 1 Axes>"
            ],
            "image/png": "[encoded data removed]"
          },
          "metadata": {
            "needs_background": "light"
          }
        }
      ]
    },
    {
      "cell_type": "markdown",
      "source": [
        "### Caso 1: Con regularizador l1"
      ],
      "metadata": {
        "id": "pw6iBGO5Bg8J"
      }
    },
    {
      "cell_type": "code",
      "source": [
        "network1 = crea_modelo(1)"
      ],
      "metadata": {
        "id": "D6JPtw5zCz-1",
        "colab": {
          "base_uri": "https://localhost:8080/"
        },
        "outputId": "367d9816-3547-49fe-ce50-1210e37d5bbd"
      },
      "execution_count": 27,
      "outputs": [
        {
          "output_type": "stream",
          "name": "stdout",
          "text": [
            "Model: \"sequential_2\"\n",
            "_________________________________________________________________\n",
            " Layer (type)                Output Shape              Param #   \n",
            "=================================================================\n",
            " dense_4 (Dense)             (None, 512)               401920    \n",
            "                                                                 \n",
            " dense_5 (Dense)             (None, 10)                5130      \n",
            "                                                                 \n",
            "=================================================================\n",
            "Total params: 407,050\n",
            "Trainable params: 407,050\n",
            "Non-trainable params: 0\n",
            "_________________________________________________________________\n"
          ]
        }
      ]
    },
    {
      "cell_type": "code",
      "source": [
        "network1 = compila_modelo(network1)"
      ],
      "metadata": {
        "id": "zL3Gp7wvFRq3"
      },
      "execution_count": 28,
      "outputs": []
    },
    {
      "cell_type": "code",
      "source": [
        "historia1 = entrena_modelo(network1)"
      ],
      "metadata": {
        "id": "G2FG1Z4xFW72",
        "colab": {
          "base_uri": "https://localhost:8080/"
        },
        "outputId": "6e279c42-9b8d-4f25-98bb-2195db29d1dc"
      },
      "execution_count": 29,
      "outputs": [
        {
          "output_type": "stream",
          "name": "stdout",
          "text": [
            "Epoch 1/30\n",
            "391/391 [==============================] - 2s 4ms/step - loss: 2.1503 - accuracy: 0.8425 - val_loss: 1.0102 - val_accuracy: 0.8792\n",
            "Epoch 2/30\n",
            "391/391 [==============================] - 1s 4ms/step - loss: 0.9745 - accuracy: 0.8746 - val_loss: 0.9644 - val_accuracy: 0.8757\n",
            "Epoch 3/30\n",
            "391/391 [==============================] - 1s 4ms/step - loss: 0.8539 - accuracy: 0.8974 - val_loss: 0.7687 - val_accuracy: 0.9214\n",
            "Epoch 4/30\n",
            "391/391 [==============================] - 2s 4ms/step - loss: 0.7801 - accuracy: 0.9086 - val_loss: 0.7385 - val_accuracy: 0.9275\n",
            "Epoch 5/30\n",
            "391/391 [==============================] - 1s 4ms/step - loss: 0.7261 - accuracy: 0.9208 - val_loss: 0.7124 - val_accuracy: 0.9270\n",
            "Epoch 6/30\n",
            "391/391 [==============================] - 2s 4ms/step - loss: 0.6873 - accuracy: 0.9271 - val_loss: 0.6467 - val_accuracy: 0.9396\n",
            "Epoch 7/30\n",
            "391/391 [==============================] - 2s 4ms/step - loss: 0.6580 - accuracy: 0.9314 - val_loss: 0.6283 - val_accuracy: 0.9401\n",
            "Epoch 8/30\n",
            "391/391 [==============================] - 2s 4ms/step - loss: 0.6352 - accuracy: 0.9358 - val_loss: 0.6165 - val_accuracy: 0.9406\n",
            "Epoch 9/30\n",
            "391/391 [==============================] - 2s 4ms/step - loss: 0.6163 - accuracy: 0.9390 - val_loss: 0.5889 - val_accuracy: 0.9439\n",
            "Epoch 10/30\n",
            "391/391 [==============================] - 1s 4ms/step - loss: 0.5996 - accuracy: 0.9423 - val_loss: 0.5632 - val_accuracy: 0.9504\n",
            "Epoch 11/30\n",
            "391/391 [==============================] - 2s 4ms/step - loss: 0.5857 - accuracy: 0.9447 - val_loss: 0.5674 - val_accuracy: 0.9518\n",
            "Epoch 12/30\n",
            "391/391 [==============================] - 2s 4ms/step - loss: 0.5714 - accuracy: 0.9471 - val_loss: 0.5636 - val_accuracy: 0.9513\n",
            "Epoch 13/30\n",
            "391/391 [==============================] - 2s 4ms/step - loss: 0.5613 - accuracy: 0.9478 - val_loss: 0.5548 - val_accuracy: 0.9540\n",
            "Epoch 14/30\n",
            "391/391 [==============================] - 2s 4ms/step - loss: 0.5520 - accuracy: 0.9495 - val_loss: 0.5533 - val_accuracy: 0.9518\n",
            "Epoch 15/30\n",
            "391/391 [==============================] - 2s 4ms/step - loss: 0.5438 - accuracy: 0.9500 - val_loss: 0.5219 - val_accuracy: 0.9589\n",
            "Epoch 16/30\n",
            "391/391 [==============================] - 1s 4ms/step - loss: 0.5377 - accuracy: 0.9513 - val_loss: 0.5124 - val_accuracy: 0.9601\n",
            "Epoch 17/30\n",
            "391/391 [==============================] - 2s 4ms/step - loss: 0.5315 - accuracy: 0.9519 - val_loss: 0.5151 - val_accuracy: 0.9590\n",
            "Epoch 18/30\n",
            "391/391 [==============================] - 2s 4ms/step - loss: 0.5251 - accuracy: 0.9534 - val_loss: 0.5183 - val_accuracy: 0.9559\n",
            "Epoch 19/30\n",
            "391/391 [==============================] - 1s 4ms/step - loss: 0.5197 - accuracy: 0.9546 - val_loss: 0.5086 - val_accuracy: 0.9575\n",
            "Epoch 20/30\n",
            "391/391 [==============================] - 2s 5ms/step - loss: 0.5186 - accuracy: 0.9536 - val_loss: 0.5346 - val_accuracy: 0.9510\n",
            "Epoch 21/30\n",
            "391/391 [==============================] - 1s 4ms/step - loss: 0.5133 - accuracy: 0.9549 - val_loss: 0.5151 - val_accuracy: 0.9551\n",
            "Epoch 22/30\n",
            "391/391 [==============================] - 1s 4ms/step - loss: 0.5093 - accuracy: 0.9558 - val_loss: 0.5228 - val_accuracy: 0.9512\n",
            "Epoch 23/30\n",
            "391/391 [==============================] - 1s 4ms/step - loss: 0.5052 - accuracy: 0.9560 - val_loss: 0.4883 - val_accuracy: 0.9614\n",
            "Epoch 24/30\n",
            "391/391 [==============================] - 1s 3ms/step - loss: 0.5011 - accuracy: 0.9565 - val_loss: 0.4849 - val_accuracy: 0.9633\n",
            "Epoch 25/30\n",
            "391/391 [==============================] - 1s 3ms/step - loss: 0.4989 - accuracy: 0.9577 - val_loss: 0.4889 - val_accuracy: 0.9620\n",
            "Epoch 26/30\n",
            "391/391 [==============================] - 2s 4ms/step - loss: 0.4965 - accuracy: 0.9572 - val_loss: 0.5004 - val_accuracy: 0.9586\n",
            "Epoch 27/30\n",
            "391/391 [==============================] - 2s 4ms/step - loss: 0.4923 - accuracy: 0.9582 - val_loss: 0.4812 - val_accuracy: 0.9622\n",
            "Epoch 28/30\n",
            "391/391 [==============================] - 1s 4ms/step - loss: 0.4901 - accuracy: 0.9585 - val_loss: 0.4877 - val_accuracy: 0.9621\n",
            "Epoch 29/30\n",
            "391/391 [==============================] - 1s 4ms/step - loss: 0.4873 - accuracy: 0.9587 - val_loss: 0.4837 - val_accuracy: 0.9583\n",
            "Epoch 30/30\n",
            "391/391 [==============================] - 1s 4ms/step - loss: 0.4852 - accuracy: 0.9596 - val_loss: 0.4891 - val_accuracy: 0.9594\n"
          ]
        }
      ]
    },
    {
      "cell_type": "code",
      "source": [
        "pinta_perdida_entrenamiento_validacion(historia1)"
      ],
      "metadata": {
        "id": "Vyv3yFtiFitw",
        "colab": {
          "base_uri": "https://localhost:8080/",
          "height": 295
        },
        "outputId": "da536742-8ff8-4b22-ec84-fd851759e4fa"
      },
      "execution_count": 30,
      "outputs": [
        {
          "output_type": "display_data",
          "data": {
            "text/plain": [
              "<Figure size 432x288 with 1 Axes>"
            ],
            "image/png": "[encoded data removed]"
          },
          "metadata": {
            "needs_background": "light"
          }
        }
      ]
    },
    {
      "cell_type": "code",
      "source": [
        "pinta_precision_entrenamiento_validacion(historia1)"
      ],
      "metadata": {
        "id": "pVUerJsqFo7K",
        "colab": {
          "base_uri": "https://localhost:8080/",
          "height": 295
        },
        "outputId": "c744fc4b-407c-4f68-8c6a-6bc26a70aa0e"
      },
      "execution_count": 31,
      "outputs": [
        {
          "output_type": "display_data",
          "data": {
            "text/plain": [
              "<Figure size 432x288 with 1 Axes>"
            ],
            "image/png": "[encoded data removed]"
          },
          "metadata": {
            "needs_background": "light"
          }
        }
      ]
    },
    {
      "cell_type": "markdown",
      "source": [
        "### Caso 2: Con regularizador l2"
      ],
      "metadata": {
        "id": "hklwKNlMBzya"
      }
    },
    {
      "cell_type": "code",
      "source": [
        "network2 = crea_modelo(2)"
      ],
      "metadata": {
        "id": "tjIs0FziG5Ja",
        "colab": {
          "base_uri": "https://localhost:8080/"
        },
        "outputId": "3ae66a98-b37e-4ab8-bbb1-73599cda4355"
      },
      "execution_count": 32,
      "outputs": [
        {
          "output_type": "stream",
          "name": "stdout",
          "text": [
            "Model: \"sequential_3\"\n",
            "_________________________________________________________________\n",
            " Layer (type)                Output Shape              Param #   \n",
            "=================================================================\n",
            " dense_6 (Dense)             (None, 512)               401920    \n",
            "                                                                 \n",
            " dense_7 (Dense)             (None, 10)                5130      \n",
            "                                                                 \n",
            "=================================================================\n",
            "Total params: 407,050\n",
            "Trainable params: 407,050\n",
            "Non-trainable params: 0\n",
            "_________________________________________________________________\n"
          ]
        }
      ]
    },
    {
      "cell_type": "code",
      "source": [
        "network2 = compila_modelo(network2)"
      ],
      "metadata": {
        "id": "UCdA0K_qyTUq"
      },
      "execution_count": 33,
      "outputs": []
    },
    {
      "cell_type": "code",
      "source": [
        "historia2 = entrena_modelo(network2)"
      ],
      "metadata": {
        "id": "WSuomx5oybpu",
        "colab": {
          "base_uri": "https://localhost:8080/"
        },
        "outputId": "03b21d2c-299a-4c97-bb9b-ec746d84b28e"
      },
      "execution_count": 34,
      "outputs": [
        {
          "output_type": "stream",
          "name": "stdout",
          "text": [
            "Epoch 1/30\n",
            "391/391 [==============================] - 2s 4ms/step - loss: 0.5257 - accuracy: 0.9126 - val_loss: 0.2917 - val_accuracy: 0.9570\n",
            "Epoch 2/30\n",
            "391/391 [==============================] - 2s 4ms/step - loss: 0.2641 - accuracy: 0.9540 - val_loss: 0.2191 - val_accuracy: 0.9638\n",
            "Epoch 3/30\n",
            "391/391 [==============================] - 1s 3ms/step - loss: 0.2111 - accuracy: 0.9625 - val_loss: 0.1823 - val_accuracy: 0.9712\n",
            "Epoch 4/30\n",
            "391/391 [==============================] - 1s 4ms/step - loss: 0.1877 - accuracy: 0.9668 - val_loss: 0.1819 - val_accuracy: 0.9690\n",
            "Epoch 5/30\n",
            "391/391 [==============================] - 1s 4ms/step - loss: 0.1738 - accuracy: 0.9693 - val_loss: 0.1688 - val_accuracy: 0.9711\n",
            "Epoch 6/30\n",
            "391/391 [==============================] - 1s 4ms/step - loss: 0.1642 - accuracy: 0.9719 - val_loss: 0.1625 - val_accuracy: 0.9704\n",
            "Epoch 7/30\n",
            "391/391 [==============================] - 2s 4ms/step - loss: 0.1581 - accuracy: 0.9725 - val_loss: 0.1509 - val_accuracy: 0.9759\n",
            "Epoch 8/30\n",
            "391/391 [==============================] - 1s 3ms/step - loss: 0.1538 - accuracy: 0.9738 - val_loss: 0.1461 - val_accuracy: 0.9753\n",
            "Epoch 9/30\n",
            "391/391 [==============================] - 2s 4ms/step - loss: 0.1474 - accuracy: 0.9748 - val_loss: 0.1555 - val_accuracy: 0.9741\n",
            "Epoch 10/30\n",
            "391/391 [==============================] - 2s 4ms/step - loss: 0.1442 - accuracy: 0.9750 - val_loss: 0.1723 - val_accuracy: 0.9667\n",
            "Epoch 11/30\n",
            "391/391 [==============================] - 1s 4ms/step - loss: 0.1404 - accuracy: 0.9763 - val_loss: 0.1854 - val_accuracy: 0.9620\n",
            "Epoch 12/30\n",
            "391/391 [==============================] - 1s 4ms/step - loss: 0.1364 - accuracy: 0.9765 - val_loss: 0.1512 - val_accuracy: 0.9708\n",
            "Epoch 13/30\n",
            "391/391 [==============================] - 1s 4ms/step - loss: 0.1350 - accuracy: 0.9772 - val_loss: 0.1664 - val_accuracy: 0.9648\n",
            "Epoch 14/30\n",
            "391/391 [==============================] - 1s 4ms/step - loss: 0.1312 - accuracy: 0.9786 - val_loss: 0.1505 - val_accuracy: 0.9732\n",
            "Epoch 15/30\n",
            "391/391 [==============================] - 1s 4ms/step - loss: 0.1295 - accuracy: 0.9776 - val_loss: 0.1671 - val_accuracy: 0.9657\n",
            "Epoch 16/30\n",
            "391/391 [==============================] - 1s 4ms/step - loss: 0.1278 - accuracy: 0.9781 - val_loss: 0.1543 - val_accuracy: 0.9722\n",
            "Epoch 17/30\n",
            "391/391 [==============================] - 2s 4ms/step - loss: 0.1259 - accuracy: 0.9793 - val_loss: 0.1537 - val_accuracy: 0.9713\n",
            "Epoch 18/30\n",
            "391/391 [==============================] - 1s 4ms/step - loss: 0.1242 - accuracy: 0.9800 - val_loss: 0.1381 - val_accuracy: 0.9759\n",
            "Epoch 19/30\n",
            "391/391 [==============================] - 1s 4ms/step - loss: 0.1228 - accuracy: 0.9793 - val_loss: 0.1329 - val_accuracy: 0.9787\n",
            "Epoch 20/30\n",
            "391/391 [==============================] - 1s 4ms/step - loss: 0.1208 - accuracy: 0.9797 - val_loss: 0.1367 - val_accuracy: 0.9755\n",
            "Epoch 21/30\n",
            "391/391 [==============================] - 2s 4ms/step - loss: 0.1192 - accuracy: 0.9806 - val_loss: 0.1437 - val_accuracy: 0.9735\n",
            "Epoch 22/30\n",
            "391/391 [==============================] - 2s 4ms/step - loss: 0.1190 - accuracy: 0.9803 - val_loss: 0.1379 - val_accuracy: 0.9754\n",
            "Epoch 23/30\n",
            "391/391 [==============================] - 2s 4ms/step - loss: 0.1151 - accuracy: 0.9808 - val_loss: 0.2357 - val_accuracy: 0.9448\n",
            "Epoch 24/30\n",
            "391/391 [==============================] - 2s 4ms/step - loss: 0.1131 - accuracy: 0.9815 - val_loss: 0.1293 - val_accuracy: 0.9763\n",
            "Epoch 25/30\n",
            "391/391 [==============================] - 1s 4ms/step - loss: 0.1127 - accuracy: 0.9818 - val_loss: 0.1338 - val_accuracy: 0.9747\n",
            "Epoch 26/30\n",
            "391/391 [==============================] - 2s 4ms/step - loss: 0.1126 - accuracy: 0.9813 - val_loss: 0.1472 - val_accuracy: 0.9715\n",
            "Epoch 27/30\n",
            "391/391 [==============================] - 2s 4ms/step - loss: 0.1112 - accuracy: 0.9817 - val_loss: 0.1371 - val_accuracy: 0.9741\n",
            "Epoch 28/30\n",
            "391/391 [==============================] - 2s 4ms/step - loss: 0.1081 - accuracy: 0.9821 - val_loss: 0.1423 - val_accuracy: 0.9742\n",
            "Epoch 29/30\n",
            "391/391 [==============================] - 2s 4ms/step - loss: 0.1063 - accuracy: 0.9828 - val_loss: 0.1261 - val_accuracy: 0.9749\n",
            "Epoch 30/30\n",
            "391/391 [==============================] - 2s 4ms/step - loss: 0.1066 - accuracy: 0.9827 - val_loss: 0.1240 - val_accuracy: 0.9786\n"
          ]
        }
      ]
    },
    {
      "cell_type": "code",
      "source": [
        "pinta_perdida_entrenamiento_validacion(historia2)"
      ],
      "metadata": {
        "id": "aXXzm8tpyj6X",
        "colab": {
          "base_uri": "https://localhost:8080/",
          "height": 295
        },
        "outputId": "dfd5896a-b188-47cf-c50d-9e3274c6e46f"
      },
      "execution_count": 35,
      "outputs": [
        {
          "output_type": "display_data",
          "data": {
            "text/plain": [
              "<Figure size 432x288 with 1 Axes>"
            ],
            "image/png": "[encoded data removed]"
          },
          "metadata": {
            "needs_background": "light"
          }
        }
      ]
    },
    {
      "cell_type": "code",
      "source": [
        "pinta_precision_entrenamiento_validacion(historia2)"
      ],
      "metadata": {
        "id": "CLTsg5LTypH9",
        "colab": {
          "base_uri": "https://localhost:8080/",
          "height": 295
        },
        "outputId": "49e1764d-1000-4932-fe77-a0a4edf085cd"
      },
      "execution_count": 36,
      "outputs": [
        {
          "output_type": "display_data",
          "data": {
            "text/plain": [
              "<Figure size 432x288 with 1 Axes>"
            ],
            "image/png": "[encoded data removed]"
          },
          "metadata": {
            "needs_background": "light"
          }
        }
      ]
    },
    {
      "cell_type": "markdown",
      "source": [
        "### Caso 3: Con regularizador l1_l2"
      ],
      "metadata": {
        "id": "692oWz8oB82n"
      }
    },
    {
      "cell_type": "code",
      "source": [
        "network3 = crea_modelo(3)"
      ],
      "metadata": {
        "id": "5fdxkjoKzFcu",
        "colab": {
          "base_uri": "https://localhost:8080/"
        },
        "outputId": "bf2d8a9a-953d-4f17-a0a5-76e04d99bf2d"
      },
      "execution_count": 37,
      "outputs": [
        {
          "output_type": "stream",
          "name": "stdout",
          "text": [
            "Model: \"sequential_4\"\n",
            "_________________________________________________________________\n",
            " Layer (type)                Output Shape              Param #   \n",
            "=================================================================\n",
            " dense_8 (Dense)             (None, 512)               401920    \n",
            "                                                                 \n",
            " dense_9 (Dense)             (None, 10)                5130      \n",
            "                                                                 \n",
            "=================================================================\n",
            "Total params: 407,050\n",
            "Trainable params: 407,050\n",
            "Non-trainable params: 0\n",
            "_________________________________________________________________\n"
          ]
        }
      ]
    },
    {
      "cell_type": "code",
      "source": [
        "network3 = compila_modelo(network3)"
      ],
      "metadata": {
        "id": "VJzs9A2yzPhx"
      },
      "execution_count": 38,
      "outputs": []
    },
    {
      "cell_type": "code",
      "source": [
        "historia3 = entrena_modelo(network3)"
      ],
      "metadata": {
        "id": "1JCUbcCQzY6E",
        "colab": {
          "base_uri": "https://localhost:8080/"
        },
        "outputId": "e6941159-33a1-4416-9aa8-75b151cef917"
      },
      "execution_count": 39,
      "outputs": [
        {
          "output_type": "stream",
          "name": "stdout",
          "text": [
            "Epoch 1/30\n",
            "391/391 [==============================] - 2s 4ms/step - loss: 2.1511 - accuracy: 0.8406 - val_loss: 1.0502 - val_accuracy: 0.8755\n",
            "Epoch 2/30\n",
            "391/391 [==============================] - 2s 4ms/step - loss: 0.9821 - accuracy: 0.8774 - val_loss: 0.9394 - val_accuracy: 0.8782\n",
            "Epoch 3/30\n",
            "391/391 [==============================] - 3s 7ms/step - loss: 0.8600 - accuracy: 0.8982 - val_loss: 0.7900 - val_accuracy: 0.9192\n",
            "Epoch 4/30\n",
            "391/391 [==============================] - 2s 6ms/step - loss: 0.7818 - accuracy: 0.9117 - val_loss: 0.7680 - val_accuracy: 0.9143\n",
            "Epoch 5/30\n",
            "391/391 [==============================] - 3s 6ms/step - loss: 0.7282 - accuracy: 0.9219 - val_loss: 0.6737 - val_accuracy: 0.9356\n",
            "Epoch 6/30\n",
            "391/391 [==============================] - 3s 7ms/step - loss: 0.6905 - accuracy: 0.9286 - val_loss: 0.6900 - val_accuracy: 0.9286\n",
            "Epoch 7/30\n",
            "391/391 [==============================] - 2s 6ms/step - loss: 0.6621 - accuracy: 0.9339 - val_loss: 0.6730 - val_accuracy: 0.9306\n",
            "Epoch 8/30\n",
            "391/391 [==============================] - 1s 4ms/step - loss: 0.6391 - accuracy: 0.9369 - val_loss: 0.6346 - val_accuracy: 0.9409\n",
            "Epoch 9/30\n",
            "391/391 [==============================] - 1s 4ms/step - loss: 0.6197 - accuracy: 0.9411 - val_loss: 0.5786 - val_accuracy: 0.9514\n",
            "Epoch 10/30\n",
            "391/391 [==============================] - 1s 4ms/step - loss: 0.6065 - accuracy: 0.9428 - val_loss: 0.5837 - val_accuracy: 0.9507\n",
            "Epoch 11/30\n",
            "391/391 [==============================] - 2s 4ms/step - loss: 0.5939 - accuracy: 0.9452 - val_loss: 0.5862 - val_accuracy: 0.9461\n",
            "Epoch 12/30\n",
            "391/391 [==============================] - 2s 4ms/step - loss: 0.5830 - accuracy: 0.9466 - val_loss: 0.5770 - val_accuracy: 0.9457\n",
            "Epoch 13/30\n",
            "391/391 [==============================] - 2s 4ms/step - loss: 0.5726 - accuracy: 0.9476 - val_loss: 0.5602 - val_accuracy: 0.9525\n",
            "Epoch 14/30\n",
            "391/391 [==============================] - 1s 4ms/step - loss: 0.5644 - accuracy: 0.9487 - val_loss: 0.5306 - val_accuracy: 0.9590\n",
            "Epoch 15/30\n",
            "391/391 [==============================] - 1s 4ms/step - loss: 0.5570 - accuracy: 0.9502 - val_loss: 0.5823 - val_accuracy: 0.9425\n",
            "Epoch 16/30\n",
            "391/391 [==============================] - 2s 4ms/step - loss: 0.5508 - accuracy: 0.9511 - val_loss: 0.5554 - val_accuracy: 0.9527\n",
            "Epoch 17/30\n",
            "391/391 [==============================] - 2s 4ms/step - loss: 0.5446 - accuracy: 0.9527 - val_loss: 0.5243 - val_accuracy: 0.9620\n",
            "Epoch 18/30\n",
            "391/391 [==============================] - 1s 4ms/step - loss: 0.5391 - accuracy: 0.9537 - val_loss: 0.5130 - val_accuracy: 0.9620\n",
            "Epoch 19/30\n",
            "391/391 [==============================] - 1s 4ms/step - loss: 0.5343 - accuracy: 0.9543 - val_loss: 0.5241 - val_accuracy: 0.9579\n",
            "Epoch 20/30\n",
            "391/391 [==============================] - 1s 4ms/step - loss: 0.5320 - accuracy: 0.9542 - val_loss: 0.5187 - val_accuracy: 0.9561\n",
            "Epoch 21/30\n",
            "391/391 [==============================] - 1s 4ms/step - loss: 0.5268 - accuracy: 0.9546 - val_loss: 0.5180 - val_accuracy: 0.9562\n",
            "Epoch 22/30\n",
            "391/391 [==============================] - 2s 4ms/step - loss: 0.5225 - accuracy: 0.9553 - val_loss: 0.5458 - val_accuracy: 0.9484\n",
            "Epoch 23/30\n",
            "391/391 [==============================] - 1s 4ms/step - loss: 0.5192 - accuracy: 0.9568 - val_loss: 0.5064 - val_accuracy: 0.9611\n",
            "Epoch 24/30\n",
            "391/391 [==============================] - 1s 4ms/step - loss: 0.5158 - accuracy: 0.9572 - val_loss: 0.5195 - val_accuracy: 0.9532\n",
            "Epoch 25/30\n",
            "391/391 [==============================] - 2s 4ms/step - loss: 0.5122 - accuracy: 0.9570 - val_loss: 0.5064 - val_accuracy: 0.9577\n",
            "Epoch 26/30\n",
            "391/391 [==============================] - 2s 4ms/step - loss: 0.5103 - accuracy: 0.9568 - val_loss: 0.5335 - val_accuracy: 0.9542\n",
            "Epoch 27/30\n",
            "391/391 [==============================] - 2s 4ms/step - loss: 0.5065 - accuracy: 0.9574 - val_loss: 0.5607 - val_accuracy: 0.9439\n",
            "Epoch 28/30\n",
            "391/391 [==============================] - 2s 4ms/step - loss: 0.5038 - accuracy: 0.9578 - val_loss: 0.4933 - val_accuracy: 0.9614\n",
            "Epoch 29/30\n",
            "391/391 [==============================] - 3s 7ms/step - loss: 0.5020 - accuracy: 0.9574 - val_loss: 0.5623 - val_accuracy: 0.9378\n",
            "Epoch 30/30\n",
            "391/391 [==============================] - 2s 5ms/step - loss: 0.5012 - accuracy: 0.9574 - val_loss: 0.4934 - val_accuracy: 0.9621\n"
          ]
        }
      ]
    },
    {
      "cell_type": "code",
      "source": [
        "pinta_perdida_entrenamiento_validacion(historia3)"
      ],
      "metadata": {
        "id": "I8XzPVtyze8y",
        "colab": {
          "base_uri": "https://localhost:8080/",
          "height": 295
        },
        "outputId": "0f7a40e9-5eab-4295-b155-a4ceeb944b0b"
      },
      "execution_count": 40,
      "outputs": [
        {
          "output_type": "display_data",
          "data": {
            "text/plain": [
              "<Figure size 432x288 with 1 Axes>"
            ],
            "image/png": "[encoded data removed]"
          },
          "metadata": {
            "needs_background": "light"
          }
        }
      ]
    },
    {
      "cell_type": "code",
      "source": [
        "pinta_precision_entrenamiento_validacion(historia3)"
      ],
      "metadata": {
        "id": "nKk7AmM8zi3A",
        "colab": {
          "base_uri": "https://localhost:8080/",
          "height": 295
        },
        "outputId": "de059442-06e9-49a1-9636-dbc1d7af3504"
      },
      "execution_count": 41,
      "outputs": [
        {
          "output_type": "display_data",
          "data": {
            "text/plain": [
              "<Figure size 432x288 with 1 Axes>"
            ],
            "image/png": "[encoded data removed]"
          },
          "metadata": {
            "needs_background": "light"
          }
        }
      ]
    },
    {
      "cell_type": "markdown",
      "source": [
        "### Caso 4: Con Dropout"
      ],
      "metadata": {
        "id": "OPVcbgcXCFRL"
      }
    },
    {
      "cell_type": "code",
      "source": [
        "network4 = crea_modelo(4)"
      ],
      "metadata": {
        "id": "5MVbUNX11Pgr",
        "colab": {
          "base_uri": "https://localhost:8080/"
        },
        "outputId": "8f7cc8a9-6a66-4d2d-f0db-6d3a0986390e"
      },
      "execution_count": 42,
      "outputs": [
        {
          "output_type": "stream",
          "name": "stdout",
          "text": [
            "Model: \"sequential_5\"\n",
            "_________________________________________________________________\n",
            " Layer (type)                Output Shape              Param #   \n",
            "=================================================================\n",
            " dense_10 (Dense)            (None, 512)               401920    \n",
            "                                                                 \n",
            " dropout (Dropout)           (None, 512)               0         \n",
            "                                                                 \n",
            " dense_11 (Dense)            (None, 10)                5130      \n",
            "                                                                 \n",
            "=================================================================\n",
            "Total params: 407,050\n",
            "Trainable params: 407,050\n",
            "Non-trainable params: 0\n",
            "_________________________________________________________________\n"
          ]
        }
      ]
    },
    {
      "cell_type": "code",
      "source": [
        "network4 = compila_modelo(network4)"
      ],
      "metadata": {
        "id": "pT-13IKI1UpW"
      },
      "execution_count": 43,
      "outputs": []
    },
    {
      "cell_type": "code",
      "source": [
        "historia4 = entrena_modelo(network4)"
      ],
      "metadata": {
        "id": "kNWidx1S1aCH",
        "colab": {
          "base_uri": "https://localhost:8080/"
        },
        "outputId": "14db9482-7525-48f2-b35e-03398a224184"
      },
      "execution_count": 44,
      "outputs": [
        {
          "output_type": "stream",
          "name": "stdout",
          "text": [
            "Epoch 1/30\n",
            "391/391 [==============================] - 2s 4ms/step - loss: 0.3461 - accuracy: 0.8996 - val_loss: 0.1643 - val_accuracy: 0.9519\n",
            "Epoch 2/30\n",
            "391/391 [==============================] - 1s 4ms/step - loss: 0.1719 - accuracy: 0.9487 - val_loss: 0.1199 - val_accuracy: 0.9655\n",
            "Epoch 3/30\n",
            "391/391 [==============================] - 2s 4ms/step - loss: 0.1284 - accuracy: 0.9615 - val_loss: 0.0973 - val_accuracy: 0.9728\n",
            "Epoch 4/30\n",
            "391/391 [==============================] - 1s 4ms/step - loss: 0.1057 - accuracy: 0.9683 - val_loss: 0.0912 - val_accuracy: 0.9732\n",
            "Epoch 5/30\n",
            "391/391 [==============================] - 2s 4ms/step - loss: 0.0916 - accuracy: 0.9722 - val_loss: 0.0833 - val_accuracy: 0.9766\n",
            "Epoch 6/30\n",
            "391/391 [==============================] - 1s 4ms/step - loss: 0.0832 - accuracy: 0.9761 - val_loss: 0.0795 - val_accuracy: 0.9786\n",
            "Epoch 7/30\n",
            "391/391 [==============================] - 2s 4ms/step - loss: 0.0737 - accuracy: 0.9775 - val_loss: 0.0789 - val_accuracy: 0.9769\n",
            "Epoch 8/30\n",
            "391/391 [==============================] - 1s 4ms/step - loss: 0.0685 - accuracy: 0.9795 - val_loss: 0.0790 - val_accuracy: 0.9788\n",
            "Epoch 9/30\n",
            "391/391 [==============================] - 1s 4ms/step - loss: 0.0635 - accuracy: 0.9814 - val_loss: 0.0860 - val_accuracy: 0.9789\n",
            "Epoch 10/30\n",
            "391/391 [==============================] - 2s 4ms/step - loss: 0.0590 - accuracy: 0.9821 - val_loss: 0.0787 - val_accuracy: 0.9787\n",
            "Epoch 11/30\n",
            "391/391 [==============================] - 1s 4ms/step - loss: 0.0550 - accuracy: 0.9839 - val_loss: 0.0805 - val_accuracy: 0.9804\n",
            "Epoch 12/30\n",
            "391/391 [==============================] - 1s 4ms/step - loss: 0.0516 - accuracy: 0.9849 - val_loss: 0.0815 - val_accuracy: 0.9803\n",
            "Epoch 13/30\n",
            "391/391 [==============================] - 1s 4ms/step - loss: 0.0492 - accuracy: 0.9846 - val_loss: 0.0766 - val_accuracy: 0.9800\n",
            "Epoch 14/30\n",
            "391/391 [==============================] - 2s 4ms/step - loss: 0.0464 - accuracy: 0.9858 - val_loss: 0.0873 - val_accuracy: 0.9785\n",
            "Epoch 15/30\n",
            "391/391 [==============================] - 2s 4ms/step - loss: 0.0441 - accuracy: 0.9859 - val_loss: 0.0803 - val_accuracy: 0.9799\n",
            "Epoch 16/30\n",
            "391/391 [==============================] - 2s 4ms/step - loss: 0.0427 - accuracy: 0.9870 - val_loss: 0.0883 - val_accuracy: 0.9803\n",
            "Epoch 17/30\n",
            "391/391 [==============================] - 1s 4ms/step - loss: 0.0408 - accuracy: 0.9876 - val_loss: 0.0799 - val_accuracy: 0.9807\n",
            "Epoch 18/30\n",
            "391/391 [==============================] - 2s 4ms/step - loss: 0.0382 - accuracy: 0.9886 - val_loss: 0.0928 - val_accuracy: 0.9804\n",
            "Epoch 19/30\n",
            "391/391 [==============================] - 2s 4ms/step - loss: 0.0364 - accuracy: 0.9886 - val_loss: 0.0878 - val_accuracy: 0.9807\n",
            "Epoch 20/30\n",
            "391/391 [==============================] - 2s 4ms/step - loss: 0.0338 - accuracy: 0.9894 - val_loss: 0.0885 - val_accuracy: 0.9825\n",
            "Epoch 21/30\n",
            "391/391 [==============================] - 1s 4ms/step - loss: 0.0342 - accuracy: 0.9896 - val_loss: 0.0867 - val_accuracy: 0.9824\n",
            "Epoch 22/30\n",
            "391/391 [==============================] - 1s 4ms/step - loss: 0.0347 - accuracy: 0.9899 - val_loss: 0.0845 - val_accuracy: 0.9825\n",
            "Epoch 23/30\n",
            "391/391 [==============================] - 2s 4ms/step - loss: 0.0314 - accuracy: 0.9908 - val_loss: 0.0904 - val_accuracy: 0.9818\n",
            "Epoch 24/30\n",
            "391/391 [==============================] - 1s 4ms/step - loss: 0.0314 - accuracy: 0.9906 - val_loss: 0.0910 - val_accuracy: 0.9819\n",
            "Epoch 25/30\n",
            "391/391 [==============================] - 2s 4ms/step - loss: 0.0304 - accuracy: 0.9904 - val_loss: 0.0933 - val_accuracy: 0.9815\n",
            "Epoch 26/30\n",
            "391/391 [==============================] - 1s 4ms/step - loss: 0.0262 - accuracy: 0.9918 - val_loss: 0.0918 - val_accuracy: 0.9829\n",
            "Epoch 27/30\n",
            "391/391 [==============================] - 2s 4ms/step - loss: 0.0279 - accuracy: 0.9920 - val_loss: 0.0981 - val_accuracy: 0.9808\n",
            "Epoch 28/30\n",
            "391/391 [==============================] - 1s 4ms/step - loss: 0.0255 - accuracy: 0.9921 - val_loss: 0.0920 - val_accuracy: 0.9823\n",
            "Epoch 29/30\n",
            "391/391 [==============================] - 1s 4ms/step - loss: 0.0269 - accuracy: 0.9922 - val_loss: 0.0948 - val_accuracy: 0.9822\n",
            "Epoch 30/30\n",
            "391/391 [==============================] - 2s 5ms/step - loss: 0.0252 - accuracy: 0.9922 - val_loss: 0.0980 - val_accuracy: 0.9818\n"
          ]
        }
      ]
    },
    {
      "cell_type": "code",
      "source": [
        "pinta_perdida_entrenamiento_validacion(historia4)"
      ],
      "metadata": {
        "id": "R9pI34Yr1gBO",
        "colab": {
          "base_uri": "https://localhost:8080/",
          "height": 295
        },
        "outputId": "850251fc-f714-4a9a-f9ef-51887316e41f"
      },
      "execution_count": 45,
      "outputs": [
        {
          "output_type": "display_data",
          "data": {
            "text/plain": [
              "<Figure size 432x288 with 1 Axes>"
            ],
            "image/png": "[encoded data removed]"
          },
          "metadata": {
            "needs_background": "light"
          }
        }
      ]
    },
    {
      "cell_type": "code",
      "source": [
        "pinta_precision_entrenamiento_validacion(historia4)"
      ],
      "metadata": {
        "id": "EwEIEOKx1lQr",
        "colab": {
          "base_uri": "https://localhost:8080/",
          "height": 295
        },
        "outputId": "0192f463-a84c-4382-b898-081104ee77b7"
      },
      "execution_count": 46,
      "outputs": [
        {
          "output_type": "display_data",
          "data": {
            "text/plain": [
              "<Figure size 432x288 with 1 Axes>"
            ],
            "image/png": "[encoded data removed]"
          },
          "metadata": {
            "needs_background": "light"
          }
        }
      ]
    },
    {
      "cell_type": "markdown",
      "source": [
        "### Caso 5: Error de código de regularizador"
      ],
      "metadata": {
        "id": "e6rlKx2nCOgU"
      }
    },
    {
      "cell_type": "code",
      "source": [
        "network5 = crea_modelo(5)"
      ],
      "metadata": {
        "id": "SqGDm8VM1rwR",
        "outputId": "5bf7c283-a85c-40f5-b376-f6f853faac6b",
        "colab": {
          "base_uri": "https://localhost:8080/",
          "height": 341
        }
      },
      "execution_count": 47,
      "outputs": [
        {
          "output_type": "stream",
          "name": "stdout",
          "text": [
            "Error\n"
          ]
        },
        {
          "output_type": "error",
          "ename": "ValueError",
          "evalue": "ignored",
          "traceback": [
            "\u001b[0;31m---------------------------------------------------------------------------\u001b[0m",
            "\u001b[0;31mValueError\u001b[0m                                Traceback (most recent call last)",
            "\u001b[0;32m<ipython-input-47-23863d6b79b8>\u001b[0m in \u001b[0;36m<module>\u001b[0;34m\u001b[0m\n\u001b[0;32m----> 1\u001b[0;31m \u001b[0mnetwork5\u001b[0m \u001b[0;34m=\u001b[0m \u001b[0mcrea_modelo\u001b[0m\u001b[0;34m(\u001b[0m\u001b[0;36m5\u001b[0m\u001b[0;34m)\u001b[0m\u001b[0;34m\u001b[0m\u001b[0;34m\u001b[0m\u001b[0m\n\u001b[0m",
            "\u001b[0;32m<ipython-input-17-dddca9264a8a>\u001b[0m in \u001b[0;36mcrea_modelo\u001b[0;34m(regularizador)\u001b[0m\n\u001b[1;32m     24\u001b[0m   \u001b[0;32melse\u001b[0m\u001b[0;34m:\u001b[0m\u001b[0;34m\u001b[0m\u001b[0;34m\u001b[0m\u001b[0m\n\u001b[1;32m     25\u001b[0m     \u001b[0mprint\u001b[0m\u001b[0;34m(\u001b[0m\u001b[0;34m\"Error\"\u001b[0m\u001b[0;34m)\u001b[0m\u001b[0;34m\u001b[0m\u001b[0;34m\u001b[0m\u001b[0m\n\u001b[0;32m---> 26\u001b[0;31m   \u001b[0mmodelo\u001b[0m\u001b[0;34m.\u001b[0m\u001b[0msummary\u001b[0m\u001b[0;34m(\u001b[0m\u001b[0;34m)\u001b[0m\u001b[0;34m\u001b[0m\u001b[0;34m\u001b[0m\u001b[0m\n\u001b[0m\u001b[1;32m     27\u001b[0m   \u001b[0;32mreturn\u001b[0m \u001b[0mmodelo\u001b[0m\u001b[0;34m\u001b[0m\u001b[0;34m\u001b[0m\u001b[0m\n\u001b[1;32m     28\u001b[0m \u001b[0;34m\u001b[0m\u001b[0m\n",
            "\u001b[0;32m/usr/local/lib/python3.7/dist-packages/keras/engine/training.py\u001b[0m in \u001b[0;36msummary\u001b[0;34m(self, line_length, positions, print_fn, expand_nested, show_trainable)\u001b[0m\n\u001b[1;32m   2868\u001b[0m     \u001b[0;32mif\u001b[0m \u001b[0;32mnot\u001b[0m \u001b[0mself\u001b[0m\u001b[0;34m.\u001b[0m\u001b[0mbuilt\u001b[0m\u001b[0;34m:\u001b[0m\u001b[0;34m\u001b[0m\u001b[0;34m\u001b[0m\u001b[0m\n\u001b[1;32m   2869\u001b[0m       raise ValueError(\n\u001b[0;32m-> 2870\u001b[0;31m           \u001b[0;34m'This model has not yet been built. '\u001b[0m\u001b[0;34m\u001b[0m\u001b[0;34m\u001b[0m\u001b[0m\n\u001b[0m\u001b[1;32m   2871\u001b[0m           \u001b[0;34m'Build the model first by calling `build()` or by calling '\u001b[0m\u001b[0;34m\u001b[0m\u001b[0;34m\u001b[0m\u001b[0m\n\u001b[1;32m   2872\u001b[0m           'the model on a batch of data.')\n",
            "\u001b[0;31mValueError\u001b[0m: This model has not yet been built. Build the model first by calling `build()` or by calling the model on a batch of data."
          ]
        }
      ]
    },
    {
      "cell_type": "markdown",
      "source": [
        "### CONCLUSIONES"
      ],
      "metadata": {
        "id": "IklUu29cCcVe"
      }
    },
    {
      "cell_type": "markdown",
      "source": [
        "Regularizador: Evita que se genere sobrentrenamiento, es por eso que nos vamos a fijar principalmente en la segunda gráfica es decir en la gráfica de precisión de entrenamiento y validación.\n",
        "\n",
        "No nos vamos a fijar en la pérdida de entrenamiento y validación porque al tener regularizadores pérdida vamos a tener siempre debido a que el sistema generaliza más.\n",
        "\n",
        "Dividimos los casos según su regularizador ya sea l1, l2, l1_l2 o ninguno.\n",
        "\n",
        "CASO 0: El primer caso que probamos no tiene ningún regularizador, esto nos ha dado como consecuencia que se haya generado sobreentrenamiento a partir de la 5 época (aprox).\n",
        "\n",
        "CASO 1: Hemos aplicado el regularizadorl1 a nuestra capa dense. Este es el peor caso de todos debido a que se genera sobreentrenamiento desde una época muy temprana, es decir, la distancia entre la precisión de entrenamiento y la precisión de validación es notable en su generalidad, por eso podemos concluir que no es muy eficaz el regularizadorl1. \n",
        "\n",
        "CASO 2: Hemos aplicado el regularizadorl2 a nuestra capa dense. En este caso la precisión de entrenamiento y la precisión de validación van bastante ligadas hasta la épocas 9 donde nuestro modelo comienza a fallar (como se puede ver en la gráfica donde en la precisión de validación comienzan a ver picos a partir de esta época)\n",
        "\n",
        "CASO 3: Ahora hemos aplicado el regularizadorl1_l2 a nuestro modelo.  \n",
        "Es el regularizador que mejor funciona ya que como podemos ver en la gráfica los datos de validación son bastante parejos a los datos de entrenamiento por lo que se puede concluir que el regularizadorl1_l2 actúa correctamente.\n",
        "\n",
        "Por tanto llegamos a la conclusión que el regularizadorl1_l2 es más óptimo que el regularizadorl1  regularizadorl2 ya que en los casos es los que aplicamos el regularizadorl1_l2 los datos que obtenemos nos dan un resultado más fiable que al aplicar al mismo modelo el regularizadorl1 o el regularizadorl2\n",
        "\n",
        "Otras opciones para mejorar el funcionamiento de nuestro modelo seria probar a cambiar el dropout en el caso 4 o reducir el número de epocas para evitar el sobreentrenamiento. También se puede cambiar el optimizador aunque esto es menos eficaz que lo mencionado con anterioridad.\n"
      ],
      "metadata": {
        "id": "cB_OYjjaChzN"
      }
    }
  ]
}