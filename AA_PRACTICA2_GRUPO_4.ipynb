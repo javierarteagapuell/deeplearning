{
  "nbformat": 4,
  "nbformat_minor": 0,
  "metadata": {
    "colab": {
      "provenance": [],
      "collapsed_sections": [
        "pzs-25Bvw50W",
        "IiqUjYKEl4G0",
        "l5GNinIhnd2a"
      ],
      "toc_visible": true,
      "include_colab_link": true
    },
    "kernelspec": {
      "name": "python3",
      "display_name": "Python 3"
    },
    "language_info": {
      "name": "python"
    },
    "accelerator": "GPU",
    "gpuClass": "standard"
  },
  "cells": [
    {
      "cell_type": "markdown",
      "metadata": {
        "id": "view-in-github",
        "colab_type": "text"
      },
      "source": [
        "<a href=\"https://colab.research.google.com/github/javierarteagapuell/deeplearning/blob/main/AA_PRACTICA2_GRUPO_4.ipynb\" target=\"_parent\"><img src=\"https://colab.research.google.com/assets/colab-badge.svg\" alt=\"Open In Colab\"/></a>"
      ]
    },
    {
      "cell_type": "markdown",
      "source": [
        "# AA_PRACTICA2_GRUPO_4\n",
        "\n",
        "Daniel Alonso\n",
        "\n",
        "Javier Arteaga\n",
        "\n",
        "Marina Garrido\n",
        "\n",
        "Elena González"
      ],
      "metadata": {
        "id": "E5GHvTYcZxIJ"
      }
    },
    {
      "cell_type": "markdown",
      "source": [
        "### Importar librerías"
      ],
      "metadata": {
        "id": "qHJD9Fh5qcuW"
      }
    },
    {
      "cell_type": "code",
      "execution_count": 32,
      "metadata": {
        "id": "Kj0gniXK4uEd",
        "colab": {
          "base_uri": "https://localhost:8080/"
        },
        "outputId": "061e341d-5710-4159-eaf3-7efa51330c40"
      },
      "outputs": [
        {
          "output_type": "stream",
          "name": "stdout",
          "text": [
            "Colab only includes TensorFlow 2.x; %tensorflow_version has no effect.\n",
            "2.9.0\n",
            "GPU Available: [PhysicalDevice(name='/physical_device:GPU:0', device_type='GPU')]\n",
            "2.9.2\n"
          ]
        }
      ],
      "source": [
        "%tensorflow_version 2.x\n",
        "import tensorflow\n",
        "from tensorflow import keras\n",
        "from tensorflow.keras import layers\n",
        "import numpy as np\n",
        "print(tensorflow.keras.__version__)\n",
        "print('GPU Available:', tensorflow.config.list_physical_devices('GPU'))\n",
        "print(tensorflow.__version__)"
      ]
    },
    {
      "cell_type": "code",
      "source": [
        "from keras.datasets import fashion_mnist \n",
        "from keras import models\n",
        "from keras import layers\n",
        "from keras import optimizers\n",
        "from keras import losses\n",
        "from keras.layers.core import Flatten\n",
        "from keras import metrics\n",
        "import matplotlib.pyplot as plt\n",
        "from collections import Counter\n",
        "from sklearn.metrics import confusion_matrix\n",
        "import itertools\n",
        "import numpy as np\n",
        "validation_split = 0.2"
      ],
      "metadata": {
        "id": "yCls260ob3Xo"
      },
      "execution_count": 33,
      "outputs": []
    },
    {
      "cell_type": "markdown",
      "source": [
        "## Cargar los datos"
      ],
      "metadata": {
        "id": "AB--zOzNbD_i"
      }
    },
    {
      "cell_type": "markdown",
      "source": [
        "Cargar los datos de Fashion MNIST en Keras. \n",
        "\n",
        "Hay 60K imágenes para entrenar la red y 10K para evaluar la precisión de clasificación.\n"
      ],
      "metadata": {
        "id": "PtM5VECf5oDf"
      }
    },
    {
      "cell_type": "code",
      "source": [
        "(train_images, train_labels), (test_images, test_labels) = fashion_mnist.load_data()\n",
        "print('Imágenes de entrenamiento:', train_images.shape)\n",
        "print('Imágenes de test:', test_images.shape)"
      ],
      "metadata": {
        "id": "ceq8WM5X5pe2",
        "colab": {
          "base_uri": "https://localhost:8080/"
        },
        "outputId": "76151bd9-ab02-4c01-d57c-e054d9e70bc7"
      },
      "execution_count": 34,
      "outputs": [
        {
          "output_type": "stream",
          "name": "stdout",
          "text": [
            "Imágenes de entrenamiento: (60000, 28, 28)\n",
            "Imágenes de test: (10000, 28, 28)\n"
          ]
        }
      ]
    },
    {
      "cell_type": "markdown",
      "source": [
        "Los datos tienen forma de 60K y 10K matrices (imágenes), respectivamente, de 28 filas x 28 columnas = 784 (píxeles).\n",
        "\n",
        "Se modifica la forma de los datos a 60K y 10K matrices, respectivamente, de matrices 28x28. Además, se normalizan los datos para facilitar que converja el entrenamiento, ya que el resultado se obtiene en porcentaje de probabilidad (valores entre 0 y 1)."
      ],
      "metadata": {
        "id": "oqUS89i0Rxqp"
      }
    },
    {
      "cell_type": "code",
      "source": [
        "#assert train_images.shape == (60000, 28, 28, 1)  # Forma tensor juego imagenes de entrenamiento\n",
        "#assert test_images.shape == (10000, 28, 28, 1)  # Forma tensor juego imagenes de test\n",
        "#assert train_labels.shape == (60000,1)  # Forma tensor etiquetas de entrenamiento\n",
        "#assert test_labels.shape == (10000,1)  # Forma tensor etiquetas de test"
      ],
      "metadata": {
        "id": "qrta63Y0u0C-"
      },
      "execution_count": 35,
      "outputs": []
    },
    {
      "cell_type": "markdown",
      "source": [
        "ddd"
      ],
      "metadata": {
        "id": "oc5PMgmru0kx"
      }
    },
    {
      "cell_type": "code",
      "source": [
        "train_data = train_images.reshape((60000, 28 , 28, 1))\n",
        "train_data = train_images.astype('float32') / 255\n",
        "test_data = test_images.reshape((10000, 28 , 28, 1))\n",
        "test_data = test_images.astype('float32') / 255\n",
        "print('Imágenes de entrenamiento:', train_data.shape)\n",
        "print('Imágenes de test:', test_data.shape)"
      ],
      "metadata": {
        "id": "9FhG-daMMP5f",
        "colab": {
          "base_uri": "https://localhost:8080/"
        },
        "outputId": "f1536c30-731e-41ce-d756-912210d704dd"
      },
      "execution_count": 36,
      "outputs": [
        {
          "output_type": "stream",
          "name": "stdout",
          "text": [
            "Imágenes de entrenamiento: (60000, 28, 28)\n",
            "Imágenes de test: (10000, 28, 28)\n"
          ]
        }
      ]
    },
    {
      "cell_type": "markdown",
      "source": [
        "## Caso 1"
      ],
      "metadata": {
        "id": "2xL3znkukYG3"
      }
    },
    {
      "cell_type": "markdown",
      "source": [
        "### Crear la red de neuronas"
      ],
      "metadata": {
        "id": "pfXNIXfvkYG3"
      }
    },
    {
      "cell_type": "markdown",
      "source": [
        "Se crea la red neuronal con una capa de entrada con 10 neuronas y función de activación ```relu```, y una capa de salida con función de activación ```softmax```."
      ],
      "metadata": {
        "id": "hd2FYxcMkYG3"
      }
    },
    {
      "cell_type": "code",
      "source": [
        "from tensorflow.keras.models import Sequential\n",
        "from tensorflow.keras.layers import Dense, Flatten, Conv2D, MaxPooling2D\n",
        "from tensorflow.keras.losses import sparse_categorical_crossentropy\n",
        "from tensorflow.keras.optimizers import Adam\n",
        "import matplotlib.pyplot as plt"
      ],
      "metadata": {
        "id": "SjkPUrXLue23"
      },
      "execution_count": 37,
      "outputs": []
    },
    {
      "cell_type": "markdown",
      "source": [
        "dd"
      ],
      "metadata": {
        "id": "JsqfdpusxnD9"
      }
    },
    {
      "cell_type": "code",
      "source": [
        "model = models.Sequential()\n",
        "model.add(Conv2D(32, (5, 5), strides=(1,1), activation='relu', input_shape=(28, 28, 1)))\n",
        "model.add(MaxPooling2D((2, 2)))\n",
        "\n",
        "model.add(Conv2D(64, (5, 5), strides=(1,1), activation='relu', input_shape=(28, 28, 1)))\n",
        "model.add(MaxPooling2D((2, 2)))\n",
        "\n",
        "model.add(Flatten())\n",
        "model.add(Dense(10,activation='softmax'))"
      ],
      "metadata": {
        "id": "E2kugFRNkYG3"
      },
      "execution_count": 38,
      "outputs": []
    },
    {
      "cell_type": "markdown",
      "source": [
        "### Explicar model.summary()\n"
      ],
      "metadata": {
        "id": "V12EvOyAkYG3"
      }
    },
    {
      "cell_type": "markdown",
      "source": [
        "El resumen del modelo indica el número de parámetros de salida de cada capa. Este número es igual al tamaño de los datos de entrada multiplicado por el número de neuronas, y sumando el número de umbrales de activación de la capa.\n",
        "\n",
        "\n",
        "En el caso de la primera capa: 7850 = 784 (tamaño de los datos) x 10 (número de neuronas) + 10 (número de umbrales de activación).\n",
        "\n",
        "En el caso de la segunda capa: 110 = 10 (tamaño de los datos) x 10 (número de neuronas) + 10 (número de umbrales de activación)."
      ],
      "metadata": {
        "id": "fTquOce_kYG3"
      }
    },
    {
      "cell_type": "code",
      "source": [
        "model.summary()\n"
      ],
      "metadata": {
        "colab": {
          "base_uri": "https://localhost:8080/"
        },
        "outputId": "086ed653-673e-427d-c227-27acbbcaf132",
        "id": "oKDb1F1ukYG4"
      },
      "execution_count": 39,
      "outputs": [
        {
          "output_type": "stream",
          "name": "stdout",
          "text": [
            "Model: \"sequential_2\"\n",
            "_________________________________________________________________\n",
            " Layer (type)                Output Shape              Param #   \n",
            "=================================================================\n",
            " conv2d_4 (Conv2D)           (None, 24, 24, 32)        832       \n",
            "                                                                 \n",
            " max_pooling2d_4 (MaxPooling  (None, 12, 12, 32)       0         \n",
            " 2D)                                                             \n",
            "                                                                 \n",
            " conv2d_5 (Conv2D)           (None, 8, 8, 64)          51264     \n",
            "                                                                 \n",
            " max_pooling2d_5 (MaxPooling  (None, 4, 4, 64)         0         \n",
            " 2D)                                                             \n",
            "                                                                 \n",
            " flatten_2 (Flatten)         (None, 1024)              0         \n",
            "                                                                 \n",
            " dense_3 (Dense)             (None, 10)                10250     \n",
            "                                                                 \n",
            "=================================================================\n",
            "Total params: 62,346\n",
            "Trainable params: 62,346\n",
            "Non-trainable params: 0\n",
            "_________________________________________________________________\n"
          ]
        }
      ]
    },
    {
      "cell_type": "markdown",
      "source": [
        "Se definen las funciones del optimizador, la pérdida y la métrica."
      ],
      "metadata": {
        "id": "l_mwrJn4kYG4"
      }
    },
    {
      "cell_type": "code",
      "source": [
        "model.compile(optimizer = 'sgd',\n",
        "              loss = 'sparse_categorical_crossentropy',\n",
        "              metrics = ['accuracy'])"
      ],
      "metadata": {
        "id": "tLaGWZxgkYG4"
      },
      "execution_count": 40,
      "outputs": []
    },
    {
      "cell_type": "markdown",
      "source": [
        "### Entrenar la red"
      ],
      "metadata": {
        "id": "WnhOIJIskYG4"
      }
    },
    {
      "cell_type": "markdown",
      "source": [
        "Para entrenar la red se realizan ```5``` ciclos con lotes de ```128``` imágenes. Se compara con los datos de validación para controlar el sobreentrenamiento. "
      ],
      "metadata": {
        "id": "e2T7D3_JkYG4"
      }
    },
    {
      "cell_type": "code",
      "source": [
        "history = model.fit(train_images, train_labels,\n",
        "                    batch_size = 100,\n",
        "                    epochs = 5,\n",
        "                    verbose=1,\n",
        "                    validation_split=validation_split)\n"
      ],
      "metadata": {
        "colab": {
          "base_uri": "https://localhost:8080/"
        },
        "outputId": "96157833-5ebd-45ca-da6a-3f17473b3de3",
        "id": "NRSZiSZIkYG4"
      },
      "execution_count": 41,
      "outputs": [
        {
          "output_type": "stream",
          "name": "stdout",
          "text": [
            "Epoch 1/5\n",
            "480/480 [==============================] - 2s 4ms/step - loss: 7.9594 - accuracy: 0.4502 - val_loss: 0.8164 - val_accuracy: 0.7269\n",
            "Epoch 2/5\n",
            "480/480 [==============================] - 2s 4ms/step - loss: 0.7300 - accuracy: 0.7515 - val_loss: 0.6370 - val_accuracy: 0.7778\n",
            "Epoch 3/5\n",
            "480/480 [==============================] - 2s 4ms/step - loss: 0.6234 - accuracy: 0.7868 - val_loss: 0.6035 - val_accuracy: 0.7943\n",
            "Epoch 4/5\n",
            "480/480 [==============================] - 2s 4ms/step - loss: 0.5894 - accuracy: 0.7962 - val_loss: 0.6007 - val_accuracy: 0.7850\n",
            "Epoch 5/5\n",
            "480/480 [==============================] - 2s 4ms/step - loss: 0.5710 - accuracy: 0.7993 - val_loss: 0.5672 - val_accuracy: 0.8049\n"
          ]
        }
      ]
    },
    {
      "cell_type": "markdown",
      "source": [
        "La pérdida indica el porcentaje de errores entre las etiquetas y las predicciones del modelo.\n",
        "\n",
        "La precisión indica el porcentaje de aciertos entre las predicciones y las etiquetas."
      ],
      "metadata": {
        "id": "zJ9bW9YKkYG4"
      }
    },
    {
      "cell_type": "code",
      "source": [
        "test_loss, test_acc = model.evaluate(test_images, test_labels)\n",
        "print('Test accuracy:', test_loss)\n",
        "print('Test accuracy:', test_acc)"
      ],
      "metadata": {
        "colab": {
          "base_uri": "https://localhost:8080/"
        },
        "outputId": "35eebecd-8c54-4587-9595-61259a191949",
        "id": "KFffdFRxkYG4"
      },
      "execution_count": 42,
      "outputs": [
        {
          "output_type": "stream",
          "name": "stdout",
          "text": [
            "313/313 [==============================] - 1s 3ms/step - loss: 0.5951 - accuracy: 0.7967\n",
            "Test accuracy: 0.5951447486877441\n",
            "Test accuracy: 0.7967000007629395\n"
          ]
        }
      ]
    },
    {
      "cell_type": "markdown",
      "source": [
        "dd"
      ],
      "metadata": {
        "id": "tyMxEg0tdjhx"
      }
    },
    {
      "cell_type": "code",
      "source": [
        "# Generamos las métricas de generalización\n",
        "score = model.evaluate(train_images, train_labels, verbose=0)\n",
        "print(f'Test loss: {score[0]} / Test accuracy: {score[1]}')\n",
        "\n",
        "# Visualizamos history\n",
        "# Pintamos history: Pérdida\n",
        "plt.plot(history.history['val_loss'])\n",
        "plt.title('Validation loss history')\n",
        "plt.ylabel('Loss value')\n",
        "plt.xlabel('No. epoch')\n",
        "plt.show()\n",
        "\n",
        "# Pintamos history: Precisión\n",
        "plt.plot(history.history['val_accuracy'])\n",
        "plt.title('Validation accuracy history')\n",
        "plt.ylabel('Accuracy value (%)')\n",
        "plt.xlabel('No. epoch')\n",
        "plt.show()\n",
        "\n"
      ],
      "metadata": {
        "colab": {
          "base_uri": "https://localhost:8080/",
          "height": 591
        },
        "id": "2IbkFNFcddgN",
        "outputId": "a9d7a432-8ecc-4a6a-a73c-9ab6dfb56786"
      },
      "execution_count": 43,
      "outputs": [
        {
          "output_type": "stream",
          "name": "stdout",
          "text": [
            "Test loss: 0.5538808703422546 / Test accuracy: 0.8050333261489868\n"
          ]
        },
        {
          "output_type": "display_data",
          "data": {
            "text/plain": [
              "<Figure size 432x288 with 1 Axes>"
            ],
            "image/png": "[encoded data removed]"
          },
          "metadata": {
            "needs_background": "light"
          }
        },
        {
          "output_type": "display_data",
          "data": {
            "text/plain": [
              "<Figure size 432x288 with 1 Axes>"
            ],
            "image/png": "[encoded data removed]"
          },
          "metadata": {
            "needs_background": "light"
          }
        }
      ]
    },
    {
      "cell_type": "markdown",
      "source": [
        "dd"
      ],
      "metadata": {
        "id": "LBn_f4V0dkZV"
      }
    },
    {
      "cell_type": "code",
      "source": [
        "import matplotlib.pyplot as plt\n",
        "\n",
        "acc = history.history['accuracy']\n",
        "val_acc = history.history['val_accuracy']\n",
        "loss = history.history['loss']\n",
        "val_loss = history.history['val_loss']\n",
        "\n",
        "epochs = range(1, len(acc) + 1)\n",
        "\n",
        "# \"bo\" es para \"punto azun\"\n",
        "plt.plot(epochs, loss, 'bo', label='Pérdida de Entrenamiento')\n",
        "# \"b\" es para \"linea continua azul\"\n",
        "plt.plot(epochs, val_loss, 'b', label='Pérdida de Validación')\n",
        "plt.title('Pérdida de Entrenamiento y Validación')\n",
        "plt.xlabel('Epochs')\n",
        "plt.ylabel('Loss')\n",
        "plt.legend()\n",
        "\n",
        "plt.show()"
      ],
      "metadata": {
        "id": "MdWqzr6vxoFh",
        "outputId": "dc8bef4c-a015-4c22-9eda-8e35126fce9d",
        "colab": {
          "base_uri": "https://localhost:8080/",
          "height": 295
        }
      },
      "execution_count": 44,
      "outputs": [
        {
          "output_type": "display_data",
          "data": {
            "text/plain": [
              "<Figure size 432x288 with 1 Axes>"
            ],
            "image/png": "[encoded data removed]"
          },
          "metadata": {
            "needs_background": "light"
          }
        }
      ]
    },
    {
      "cell_type": "markdown",
      "source": [
        "### Predecir valores"
      ],
      "metadata": {
        "id": "r0wt2CTDkYG4"
      }
    },
    {
      "cell_type": "code",
      "source": [],
      "metadata": {
        "id": "kFZQ70aFGA30"
      },
      "execution_count": 44,
      "outputs": []
    },
    {
      "cell_type": "markdown",
      "source": [
        "Imprimir la matriz de confusión, que muestra los valores predichos frente a los reales."
      ],
      "metadata": {
        "id": "4MzquXO2kYG5"
      }
    },
    {
      "cell_type": "code",
      "source": [
        "# Note, this code is taken straight from the SKLEARN website, an nice way of \n",
        "# viewing confusion matrix.\n",
        "def plot_confusion_matrix(cm, classes,\n",
        "                          normalize = False,\n",
        "                          title = 'Confusion matrix',\n",
        "                          cmap = plt.cm.Blues):\n",
        "    '''\n",
        "    This function prints and plots the confusion matrix.\n",
        "    Normalization can be applied by setting `normalize = True`.\n",
        "    '''\n",
        "    plt.imshow(cm, interpolation = 'nearest', cmap = cmap)\n",
        "    plt.title(title)\n",
        "    plt.colorbar()\n",
        "    tick_marks = np.arange(len(classes))\n",
        "    plt.xticks(tick_marks, classes, rotation = 45)\n",
        "    plt.yticks(tick_marks, classes)\n",
        "\n",
        "    if normalize:\n",
        "        cm = cm.astype('float') / cm.sum(axis = 1)[:, np.newaxis]\n",
        "\n",
        "    thresh = cm.max() / 2.\n",
        "    for i, j in itertools.product(range(cm.shape[0]), range(cm.shape[1])):\n",
        "        plt.text(j, i, cm[i, j],\n",
        "                 horizontalalignment = 'center',\n",
        "                 color = 'white' if cm[i, j] > thresh else 'black')\n",
        "\n",
        "    plt.tight_layout()\n",
        "    plt.ylabel('Observación')\n",
        "    plt.xlabel('Predicción')"
      ],
      "metadata": {
        "id": "76b0Ovx5kYG5"
      },
      "execution_count": 45,
      "outputs": []
    },
    {
      "cell_type": "code",
      "source": [
        "Y_pred = model.predict(test_images)\n",
        "print('Valores de predicción del modelo')\n",
        "# Convertir en predicciones de clases desde los vectores one-hot encoding \n",
        "Y_pred_classes = np.argmax(Y_pred, axis = 1) \n",
        "# Convertir en clases de observación desde los vectores one-hot encoding\n",
        "Y_true = np.argmax(test_labels, axis = 1) \n",
        "# Computar la matriz de confusión\n",
        "confusion_mtx = confusion_matrix(Y_true, Y_pred_classes) \n",
        "# Dibujar la matriz de confusión\n",
        "print('Matriz de confusión')\n",
        "plot_confusion_matrix(confusion_mtx, classes = range(10))"
      ],
      "metadata": {
        "colab": {
          "base_uri": "https://localhost:8080/",
          "height": 469
        },
        "outputId": "23c8cc1c-df0f-45b0-a52d-eef3f4d1cf75",
        "id": "feFxDVJVkYG5"
      },
      "execution_count": 48,
      "outputs": [
        {
          "output_type": "stream",
          "name": "stdout",
          "text": [
            "313/313 [==============================] - 1s 2ms/step\n",
            "Valores de predicción del modelo\n"
          ]
        },
        {
          "output_type": "error",
          "ename": "AxisError",
          "evalue": "ignored",
          "traceback": [
            "\u001b[0;31m---------------------------------------------------------------------------\u001b[0m",
            "\u001b[0;31mAxisError\u001b[0m                                 Traceback (most recent call last)",
            "\u001b[0;32m<ipython-input-48-eba5b4264879>\u001b[0m in \u001b[0;36m<module>\u001b[0;34m\u001b[0m\n\u001b[1;32m      4\u001b[0m \u001b[0mY_pred_classes\u001b[0m \u001b[0;34m=\u001b[0m \u001b[0mnp\u001b[0m\u001b[0;34m.\u001b[0m\u001b[0margmax\u001b[0m\u001b[0;34m(\u001b[0m\u001b[0mY_pred\u001b[0m\u001b[0;34m,\u001b[0m \u001b[0maxis\u001b[0m \u001b[0;34m=\u001b[0m \u001b[0;36m1\u001b[0m\u001b[0;34m)\u001b[0m\u001b[0;34m\u001b[0m\u001b[0;34m\u001b[0m\u001b[0m\n\u001b[1;32m      5\u001b[0m \u001b[0;31m# Convertir en clases de observación desde los vectores one-hot encoding\u001b[0m\u001b[0;34m\u001b[0m\u001b[0;34m\u001b[0m\u001b[0;34m\u001b[0m\u001b[0m\n\u001b[0;32m----> 6\u001b[0;31m \u001b[0mY_true\u001b[0m \u001b[0;34m=\u001b[0m \u001b[0mnp\u001b[0m\u001b[0;34m.\u001b[0m\u001b[0margmax\u001b[0m\u001b[0;34m(\u001b[0m\u001b[0mtest_labels\u001b[0m\u001b[0;34m,\u001b[0m \u001b[0maxis\u001b[0m \u001b[0;34m=\u001b[0m \u001b[0;36m1\u001b[0m\u001b[0;34m)\u001b[0m\u001b[0;34m\u001b[0m\u001b[0;34m\u001b[0m\u001b[0m\n\u001b[0m\u001b[1;32m      7\u001b[0m \u001b[0;31m# Computar la matriz de confusión\u001b[0m\u001b[0;34m\u001b[0m\u001b[0;34m\u001b[0m\u001b[0;34m\u001b[0m\u001b[0m\n\u001b[1;32m      8\u001b[0m \u001b[0mconfusion_mtx\u001b[0m \u001b[0;34m=\u001b[0m \u001b[0mconfusion_matrix\u001b[0m\u001b[0;34m(\u001b[0m\u001b[0mY_true\u001b[0m\u001b[0;34m,\u001b[0m \u001b[0mY_pred_classes\u001b[0m\u001b[0;34m)\u001b[0m\u001b[0;34m\u001b[0m\u001b[0;34m\u001b[0m\u001b[0m\n",
            "\u001b[0;32m<__array_function__ internals>\u001b[0m in \u001b[0;36margmax\u001b[0;34m(*args, **kwargs)\u001b[0m\n",
            "\u001b[0;32m/usr/local/lib/python3.7/dist-packages/numpy/core/fromnumeric.py\u001b[0m in \u001b[0;36margmax\u001b[0;34m(a, axis, out)\u001b[0m\n\u001b[1;32m   1193\u001b[0m \u001b[0;34m\u001b[0m\u001b[0m\n\u001b[1;32m   1194\u001b[0m     \"\"\"\n\u001b[0;32m-> 1195\u001b[0;31m     \u001b[0;32mreturn\u001b[0m \u001b[0m_wrapfunc\u001b[0m\u001b[0;34m(\u001b[0m\u001b[0ma\u001b[0m\u001b[0;34m,\u001b[0m \u001b[0;34m'argmax'\u001b[0m\u001b[0;34m,\u001b[0m \u001b[0maxis\u001b[0m\u001b[0;34m=\u001b[0m\u001b[0maxis\u001b[0m\u001b[0;34m,\u001b[0m \u001b[0mout\u001b[0m\u001b[0;34m=\u001b[0m\u001b[0mout\u001b[0m\u001b[0;34m)\u001b[0m\u001b[0;34m\u001b[0m\u001b[0;34m\u001b[0m\u001b[0m\n\u001b[0m\u001b[1;32m   1196\u001b[0m \u001b[0;34m\u001b[0m\u001b[0m\n\u001b[1;32m   1197\u001b[0m \u001b[0;34m\u001b[0m\u001b[0m\n",
            "\u001b[0;32m/usr/local/lib/python3.7/dist-packages/numpy/core/fromnumeric.py\u001b[0m in \u001b[0;36m_wrapfunc\u001b[0;34m(obj, method, *args, **kwds)\u001b[0m\n\u001b[1;32m     55\u001b[0m \u001b[0;34m\u001b[0m\u001b[0m\n\u001b[1;32m     56\u001b[0m     \u001b[0;32mtry\u001b[0m\u001b[0;34m:\u001b[0m\u001b[0;34m\u001b[0m\u001b[0;34m\u001b[0m\u001b[0m\n\u001b[0;32m---> 57\u001b[0;31m         \u001b[0;32mreturn\u001b[0m \u001b[0mbound\u001b[0m\u001b[0;34m(\u001b[0m\u001b[0;34m*\u001b[0m\u001b[0margs\u001b[0m\u001b[0;34m,\u001b[0m \u001b[0;34m**\u001b[0m\u001b[0mkwds\u001b[0m\u001b[0;34m)\u001b[0m\u001b[0;34m\u001b[0m\u001b[0;34m\u001b[0m\u001b[0m\n\u001b[0m\u001b[1;32m     58\u001b[0m     \u001b[0;32mexcept\u001b[0m \u001b[0mTypeError\u001b[0m\u001b[0;34m:\u001b[0m\u001b[0;34m\u001b[0m\u001b[0;34m\u001b[0m\u001b[0m\n\u001b[1;32m     59\u001b[0m         \u001b[0;31m# A TypeError occurs if the object does have such a method in its\u001b[0m\u001b[0;34m\u001b[0m\u001b[0;34m\u001b[0m\u001b[0;34m\u001b[0m\u001b[0m\n",
            "\u001b[0;31mAxisError\u001b[0m: axis 1 is out of bounds for array of dimension 1"
          ]
        }
      ]
    },
    {
      "cell_type": "markdown",
      "source": [
        "Se grafica el elemento 6 (```test_data[5]```) para comprobar las soluciones. "
      ],
      "metadata": {
        "id": "h5LFpB6vkYG5"
      }
    },
    {
      "cell_type": "code",
      "source": [
        "digit = test_images.reshape(10000,28, 28)[5]\n",
        "plt.imshow(digit, cmap = plt.cm.binary)\n",
        "plt.show()\n",
        "print(test_labels[5])"
      ],
      "metadata": {
        "id": "uwx9R-zAkYG5"
      },
      "execution_count": null,
      "outputs": []
    },
    {
      "cell_type": "markdown",
      "source": [
        "La clase del elemento 6 es la clase 1 (pantalones)."
      ],
      "metadata": {
        "id": "rJWwgRTokYG5"
      }
    },
    {
      "cell_type": "code",
      "source": [
        "predictions = model.predict(test_data)\n",
        "print('Predicción del elemento 6: clase', np.argmax(predictions[5]))\n",
        "print(predictions[5])\n",
        "print('Suma de las predicciones del elemento 6:', np.sum(predictions[5]))"
      ],
      "metadata": {
        "id": "uQqd3SDkkYG5"
      },
      "execution_count": null,
      "outputs": []
    },
    {
      "cell_type": "code",
      "source": [
        "def plot_image(i, predictions_array, true_label, img):\n",
        "  predictions_array, true_label, img = predictions_array, true_label[i], img[i]\n",
        "  plt.grid(False)\n",
        "  plt.xticks([])\n",
        "  plt.yticks([])\n",
        "\n",
        "  plt.imshow(img, cmap = plt.cm.binary)    \n",
        "\n",
        "  predicted_label = np.argmax(predictions_array)\n",
        "  if predicted_label.all() == true_label.all():\n",
        "    color = 'blue'\n",
        "  else:\n",
        "    color = 'red'\n",
        "\n",
        "  plt.xlabel('{} {:2.0f}% ({})'.format(class_names[predicted_label],\n",
        "                                100*np.max(predictions_array),\n",
        "                                class_names[true_label]),\n",
        "                                color = color)\n",
        "\n",
        "def plot_value_array(i, predictions_array, true_label):\n",
        "  predictions_array, true_label = predictions_array, true_label[i]\n",
        "  plt.grid(False)\n",
        "  plt.xticks(range(10))\n",
        "  plt.yticks([])\n",
        "  thisplot = plt.bar(range(10), predictions_array, color = '#00FF00')\n",
        "  plt.ylim([0, 1])\n",
        "  predicted_label = np.argmax(predictions_array)\n",
        "\n",
        "  thisplot[predicted_label].set_color('red')\n",
        "  thisplot[np.argmax(true_label)].set_color('black')\n",
        "\n"
      ],
      "metadata": {
        "id": "w5Rev9XZkYG6"
      },
      "execution_count": null,
      "outputs": []
    },
    {
      "cell_type": "markdown",
      "source": [
        "s"
      ],
      "metadata": {
        "id": "7Hfln0pd9OKx"
      }
    },
    {
      "cell_type": "code",
      "source": [
        "plt.figure(figsize = (6,3))\n",
        "for i in range(14):\n",
        "  plt.subplot(1,2,1)\n",
        "  plot_image(i, predictions[i], test_labels, test_images)\n",
        "  plt.subplot(1,2,2)\n",
        "  plot_value_array(i, predictions[i], test_labels)\n",
        "  plt.show()"
      ],
      "metadata": {
        "id": "K_uZaPe59OoZ"
      },
      "execution_count": null,
      "outputs": []
    },
    {
      "cell_type": "code",
      "source": [
        "class_names = ['T-shirt/top', 'Trouser', 'Pullover', 'Dress', 'Coat', \n",
        "               'Sandal', 'Shirt', 'Sneaker', 'Bag', 'Ankle boot']\n",
        "\n",
        "plt.figure(figsize = (6,3))\n",
        "plt.subplot(1,2,1)\n",
        "plot_image(5, predictions[5], test_labels, test_images.reshape(10000,28,28))\n",
        "plt.subplot(1,2,2)\n",
        "plot_value_array(5, predictions[5],  test_labels)\n",
        "plt.show()"
      ],
      "metadata": {
        "id": "ywXOTTUUkYG6"
      },
      "execution_count": null,
      "outputs": []
    },
    {
      "cell_type": "markdown",
      "source": [
        "## Caso 1.5\n"
      ],
      "metadata": {
        "id": "pzs-25Bvw50W"
      }
    },
    {
      "cell_type": "markdown",
      "source": [
        "### Crear la red de neuronas"
      ],
      "metadata": {
        "id": "LUwP7hgxLwg7"
      }
    },
    {
      "cell_type": "markdown",
      "source": [
        "Se crea la red neuronal con una capa de entrada con 10 neuronas y función de activación ```relu```, y una capa de salida con función de activación ```softmax```."
      ],
      "metadata": {
        "id": "yTEzceXEQs__"
      }
    },
    {
      "cell_type": "code",
      "source": [
        "model1b = models.Sequential()\n",
        "model1b.add(Conv2D(64, (7, 7), strides=(1,1), activation='tanh', input_shape=(28, 28, 1)))\n",
        "model1b.add(MaxPooling2D((2, 2)))\n",
        "\n",
        "model1b.add(Conv2D(128, (3, 3), strides=(1,1), activation='tanh', input_shape=(28, 28, 1)))\n",
        "model1b.add(MaxPooling2D((2, 2)))\n",
        "\n",
        "model1b.add(Flatten())\n",
        "model1b.add(Dense(65,activation='relu'))\n",
        "model1b.add(Dense(10,activation='softmax'))"
      ],
      "metadata": {
        "id": "6s4rp0iWSGE_"
      },
      "execution_count": null,
      "outputs": []
    },
    {
      "cell_type": "markdown",
      "source": [
        "### Explicar model.summary()\n"
      ],
      "metadata": {
        "id": "O7ykuaNzMnqg"
      }
    },
    {
      "cell_type": "markdown",
      "source": [
        "El resumen del modelo indica el número de parámetros de salida de cada capa. Este número es igual al tamaño de los datos de entrada multiplicado por el número de neuronas, y sumando el número de umbrales de activación de la capa.\n",
        "\n",
        "\n",
        "En el caso de la primera capa: 7850 = 784 (tamaño de los datos) x 10 (número de neuronas) + 10 (número de umbrales de activación).\n",
        "\n",
        "En el caso de la segunda capa: 110 = 10 (tamaño de los datos) x 10 (número de neuronas) + 10 (número de umbrales de activación)."
      ],
      "metadata": {
        "id": "UAxZHzXQTk9Y"
      }
    },
    {
      "cell_type": "code",
      "source": [
        "model1b.summary()"
      ],
      "metadata": {
        "id": "jQlpbPf-Qdiv"
      },
      "execution_count": null,
      "outputs": []
    },
    {
      "cell_type": "markdown",
      "source": [
        "Se definen las funciones del optimizador, la pérdida y la métrica."
      ],
      "metadata": {
        "id": "3y2UTZhbwCor"
      }
    },
    {
      "cell_type": "code",
      "source": [
        "model1b.compile(optimizer = 'sgd',\n",
        "              loss = 'sparse_categorical_crossentropy',\n",
        "              metrics = ['accuracy'])"
      ],
      "metadata": {
        "id": "uwIBFxNZVD5j"
      },
      "execution_count": null,
      "outputs": []
    },
    {
      "cell_type": "markdown",
      "source": [
        "### Entrenar la red"
      ],
      "metadata": {
        "id": "2oFAQom1VEdi"
      }
    },
    {
      "cell_type": "markdown",
      "source": [
        "Para entrenar la red se realizan ```5``` ciclos con lotes de ```128``` imágenes. Se compara con los datos de validación para controlar el sobreentrenamiento. "
      ],
      "metadata": {
        "id": "D2YuIwa0yGsR"
      }
    },
    {
      "cell_type": "code",
      "source": [
        "history = model1b.fit(train_images, train_labels,\n",
        "                    batch_size = 532,\n",
        "                    epochs = 25,\n",
        "                    verbose=1,\n",
        "                    validation_split=0.2)"
      ],
      "metadata": {
        "id": "MepKtlWWQrt1"
      },
      "execution_count": null,
      "outputs": []
    },
    {
      "cell_type": "markdown",
      "source": [
        "La pérdida indica el porcentaje de errores entre las etiquetas y las predicciones del modelo.\n",
        "\n",
        "La precisión indica el porcentaje de aciertos entre las predicciones y las etiquetas."
      ],
      "metadata": {
        "id": "xByMAIeTPqjV"
      }
    },
    {
      "cell_type": "code",
      "source": [
        "test_loss, test_acc = model1b.evaluate(test_images, test_labels)\n",
        "print('Test accuracy:', test_acc)"
      ],
      "metadata": {
        "id": "zwHoOjklPmsa"
      },
      "execution_count": null,
      "outputs": []
    },
    {
      "cell_type": "code",
      "source": [
        "import matplotlib.pyplot as plt\n",
        "\n",
        "acc = history.history['accuracy']\n",
        "val_acc = history.history['val_accuracy']\n",
        "loss = history.history['loss']\n",
        "val_loss = history.history['val_loss']\n",
        "\n",
        "epochs = range(1, len(acc) + 1)\n",
        "\n",
        "# \"bo\" es para \"punto azun\"\n",
        "plt.plot(epochs, loss, 'bo', label='Pérdida de Entrenamiento')\n",
        "# \"b\" es para \"linea continua azul\"\n",
        "plt.plot(epochs, val_loss, 'b', label='Pérdida de Validación')\n",
        "plt.title('Pérdida de Entrenamiento y Validación')\n",
        "plt.xlabel('Epochs')\n",
        "plt.ylabel('Loss')\n",
        "plt.legend()\n",
        "\n",
        "plt.show()"
      ],
      "metadata": {
        "id": "mSXFknhfyQlJ"
      },
      "execution_count": null,
      "outputs": []
    },
    {
      "cell_type": "markdown",
      "source": [
        "### Predecir valores"
      ],
      "metadata": {
        "id": "wRx8hZhLQo8m"
      }
    },
    {
      "cell_type": "markdown",
      "source": [
        "Imprimir la matriz de confusión, que muestra los valores predichos frente a los reales."
      ],
      "metadata": {
        "id": "jeSpdtd88cuS"
      }
    },
    {
      "cell_type": "code",
      "source": [
        "# Note, this code is taken straight from the SKLEARN website, an nice way of \n",
        "# viewing confusion matrix.\n",
        "def plot_confusion_matrix(cm, classes,\n",
        "                          normalize = False,\n",
        "                          title = 'Confusion matrix',\n",
        "                          cmap = plt.cm.Blues):\n",
        "    '''\n",
        "    This function prints and plots the confusion matrix.\n",
        "    Normalization can be applied by setting `normalize = True`.\n",
        "    '''\n",
        "    plt.imshow(cm, interpolation = 'nearest', cmap = cmap)\n",
        "    plt.title(title)\n",
        "    plt.colorbar()\n",
        "    tick_marks = np.arange(len(classes))\n",
        "    plt.xticks(tick_marks, classes, rotation = 45)\n",
        "    plt.yticks(tick_marks, classes)\n",
        "\n",
        "    if normalize:\n",
        "        cm = cm.astype('float') / cm.sum(axis = 1)[:, np.newaxis]\n",
        "\n",
        "    thresh = cm.max() / 2.\n",
        "    for i, j in itertools.product(range(cm.shape[0]), range(cm.shape[1])):\n",
        "        plt.text(j, i, cm[i, j],\n",
        "                 horizontalalignment = 'center',\n",
        "                 color = 'white' if cm[i, j] > thresh else 'black')\n",
        "\n",
        "    plt.tight_layout()\n",
        "    plt.ylabel('Observación')\n",
        "    plt.xlabel('Predicción')"
      ],
      "metadata": {
        "id": "ap-ozaX0llrR"
      },
      "execution_count": null,
      "outputs": []
    },
    {
      "cell_type": "code",
      "source": [
        "Y_pred = model1b.predict(test_images)\n",
        "print('Valores de predicción del modelo')\n",
        "# Convertir en predicciones de clases desde los vectores one-hot encoding \n",
        "Y_pred_classes = np.argmax(Y_pred, axis = 1) \n",
        "# Convertir en clases de observación desde los vectores one-hot encoding\n",
        "Y_true = np.argmax(test_labels, axis = 1) \n",
        "# Computar la matriz de confusión\n",
        "confusion_mtx = confusion_matrix(Y_true, Y_pred_classes) \n",
        "# Dibujar la matriz de confusión\n",
        "print('Matriz de confusión')\n",
        "plot_confusion_matrix(confusion_mtx, classes = range(10))"
      ],
      "metadata": {
        "id": "XshGwiutVsi9"
      },
      "execution_count": null,
      "outputs": []
    },
    {
      "cell_type": "markdown",
      "source": [
        "Se grafica el elemento 6 (```test_data[5]```) para comprobar las soluciones. "
      ],
      "metadata": {
        "id": "04i0fC4H8buV"
      }
    },
    {
      "cell_type": "code",
      "source": [
        "digit = test_images.reshape(10000,28, 28)[5]\n",
        "plt.imshow(digit, cmap = plt.cm.binary)\n",
        "plt.show()\n",
        "print(test_labels[5])"
      ],
      "metadata": {
        "id": "9BbG8Tn8c07E"
      },
      "execution_count": null,
      "outputs": []
    },
    {
      "cell_type": "markdown",
      "source": [
        "La clase del elemento 6 es la clase 1 (pantalones)."
      ],
      "metadata": {
        "id": "QAMvqbA3ZOlT"
      }
    },
    {
      "cell_type": "code",
      "source": [
        "predictions = model1b.predict(test_images)\n",
        "print('Predicción del elemento 6: clase', np.argmax(predictions[5]))\n",
        "print(predictions[5])\n",
        "print('Suma de las predicciones del elemento 6:', np.sum(predictions[5]))"
      ],
      "metadata": {
        "id": "FhoAWXL1c64n"
      },
      "execution_count": null,
      "outputs": []
    },
    {
      "cell_type": "code",
      "source": [
        "def plot_image(i, predictions_array, true_label, img):\n",
        "  predictions_array, true_label, img = predictions_array, true_label[i], img[i]\n",
        "  plt.grid(False)\n",
        "  plt.xticks([])\n",
        "  plt.yticks([])\n",
        "\n",
        "  plt.imshow(img, cmap = plt.cm.binary)    \n",
        "\n",
        "  predicted_label = np.argmax(predictions_array)\n",
        "  if predicted_label.all() == true_label.all():\n",
        "    color = 'blue'\n",
        "  else:\n",
        "    color = 'red'\n",
        "\n",
        "  plt.xlabel('{} {:2.0f}% ({})'.format(class_names[predicted_label],\n",
        "                                100*np.max(predictions_array),\n",
        "                                class_names[true_label]),\n",
        "                                color = color)\n",
        "\n",
        "def plot_value_array(i, predictions_array, true_label):\n",
        "  predictions_array, true_label = predictions_array, true_label[i]\n",
        "  plt.grid(False)\n",
        "  plt.xticks(range(10))\n",
        "  plt.yticks([])\n",
        "  thisplot = plt.bar(range(10), predictions_array, color = '#00FF00')\n",
        "  plt.ylim([0, 1])\n",
        "  predicted_label = np.argmax(predictions_array)\n",
        "\n",
        "  thisplot[predicted_label].set_color('red')\n",
        "  thisplot[np.argmax(true_label)].set_color('black')"
      ],
      "metadata": {
        "id": "QLoUnoqIdHbd"
      },
      "execution_count": null,
      "outputs": []
    },
    {
      "cell_type": "code",
      "source": [
        "plt.figure(figsize = (6,3))\n",
        "for i in range(14):\n",
        "  plt.subplot(1,2,1)\n",
        "  plot_image(i, predictions[i], test_labels, test_images)\n",
        "  plt.subplot(1,2,2)\n",
        "  plot_value_array(i, predictions[i], test_labels)\n",
        "  plt.show()"
      ],
      "metadata": {
        "id": "82gJvLq1_et8"
      },
      "execution_count": null,
      "outputs": []
    },
    {
      "cell_type": "markdown",
      "source": [
        "## Caso 2"
      ],
      "metadata": {
        "id": "mYLCqAC3rKbZ"
      }
    },
    {
      "cell_type": "markdown",
      "source": [
        "### Crear la red de neuronas"
      ],
      "metadata": {
        "id": "MZlfbltzrKba"
      }
    },
    {
      "cell_type": "markdown",
      "source": [
        "Se crea la red neuronal con una capa de entrada con 10 neuronas y función de activación ```relu```, y una capa de salida con función de activación ```softmax```."
      ],
      "metadata": {
        "id": "m3rEuHQSrKbb"
      }
    },
    {
      "cell_type": "code",
      "source": [
        "model2 = models.Sequential()\n",
        "model2.add(Conv2D(64, (7, 7), strides=(1,1), activation='relu', input_shape=(28, 28, 1)))\n",
        "model2.add(MaxPooling2D((2, 2)))\n",
        "\n",
        "model2.add(Conv2D(128, (3, 3), strides=(1,1), activation='relu', input_shape=(28, 28, 1)))\n",
        "model2.add(MaxPooling2D((2, 2)))\n",
        "\n",
        "model2.add(Flatten())\n",
        "model2.add(Dense(65,activation='relu'))\n",
        "model2.add(Dense(10,activation='softmax'))"
      ],
      "metadata": {
        "id": "pgakvJbnrKbb"
      },
      "execution_count": null,
      "outputs": []
    },
    {
      "cell_type": "markdown",
      "source": [
        "### Explicar model.summary()\n"
      ],
      "metadata": {
        "id": "myOSwUnWrKbc"
      }
    },
    {
      "cell_type": "markdown",
      "source": [
        "El resumen del modelo indica el número de parámetros de salida de cada capa. Este número es igual al tamaño de los datos de entrada multiplicado por el número de neuronas, y sumando el número de umbrales de activación de la capa.\n",
        "\n",
        "\n",
        "En el caso de la primera capa: 7850 = 784 (tamaño de los datos) x 10 (número de neuronas) + 10 (número de umbrales de activación).\n",
        "\n",
        "En el caso de la segunda capa: 110 = 10 (tamaño de los datos) x 10 (número de neuronas) + 10 (número de umbrales de activación)."
      ],
      "metadata": {
        "id": "UVmfqP4orKbc"
      }
    },
    {
      "cell_type": "code",
      "source": [
        "model2.summary()"
      ],
      "metadata": {
        "id": "yZpkC9OvrKbc"
      },
      "execution_count": null,
      "outputs": []
    },
    {
      "cell_type": "markdown",
      "source": [
        "Se definen las funciones del optimizador, la pérdida y la métrica."
      ],
      "metadata": {
        "id": "h37sm_XVrKbd"
      }
    },
    {
      "cell_type": "code",
      "source": [
        "model2.compile(optimizer = 'sgd',\n",
        "              loss = 'sparse_categorical_crossentropy',\n",
        "              metrics = ['accuracy'])"
      ],
      "metadata": {
        "id": "KENFu-InrKbd"
      },
      "execution_count": null,
      "outputs": []
    },
    {
      "cell_type": "markdown",
      "source": [
        "### Entrenar la red"
      ],
      "metadata": {
        "id": "WExv33SlrKbd"
      }
    },
    {
      "cell_type": "markdown",
      "source": [
        "Para entrenar la red se realizan ```5``` ciclos con lotes de ```128``` imágenes. Se compara con los datos de validación para controlar el sobreentrenamiento. "
      ],
      "metadata": {
        "id": "izEo9-gQrKbe"
      }
    },
    {
      "cell_type": "code",
      "source": [
        "history = model2.fit(train_images, train_labels,\n",
        "                    batch_size = 532,\n",
        "                    epochs = 5,\n",
        "                    verbose=1,\n",
        "                    validation_split=0.2)"
      ],
      "metadata": {
        "id": "8pH8i2xJrKbe"
      },
      "execution_count": null,
      "outputs": []
    },
    {
      "cell_type": "markdown",
      "source": [
        "La pérdida indica el porcentaje de errores entre las etiquetas y las predicciones del modelo.\n",
        "\n",
        "La precisión indica el porcentaje de aciertos entre las predicciones y las etiquetas."
      ],
      "metadata": {
        "id": "CNaK1etArKbf"
      }
    },
    {
      "cell_type": "code",
      "source": [
        "test_loss, test_acc = model2.evaluate(test_images, test_labels)\n",
        "print('Test loss:', test_loss)\n",
        "print('Test accuracy:', test_acc)"
      ],
      "metadata": {
        "id": "AEKJDE1ArKbf"
      },
      "execution_count": null,
      "outputs": []
    },
    {
      "cell_type": "code",
      "source": [
        "acc = history.history['accuracy']\n",
        "val_acc = history.history['val_accuracy']\n",
        "loss = history.history['loss']\n",
        "val_loss = history.history['val_loss']\n",
        "\n",
        "epochs = range(1, len(acc) + 1)\n",
        "\n",
        "# \"bo\" es para \"punto azun\"\n",
        "plt.plot(epochs, loss, 'bo', label='Pérdida de Entrenamiento')\n",
        "# \"b\" es para \"linea continua azul\"\n",
        "plt.plot(epochs, val_loss, 'b', label='Pérdida de Validación')\n",
        "plt.title('Pérdida de Entrenamiento y Validación')\n",
        "plt.xlabel('Epochs')\n",
        "plt.ylabel('Loss')\n",
        "plt.legend()\n",
        "\n",
        "plt.show()"
      ],
      "metadata": {
        "id": "tcCW6qXuyXcQ"
      },
      "execution_count": null,
      "outputs": []
    },
    {
      "cell_type": "markdown",
      "source": [
        "### Predecir valores"
      ],
      "metadata": {
        "id": "qSQtDu3HrKbf"
      }
    },
    {
      "cell_type": "markdown",
      "source": [
        "Imprimir la matriz de confusión, que muestra los valores predichos frente a los reales."
      ],
      "metadata": {
        "id": "syJQS7rnrKbg"
      }
    },
    {
      "cell_type": "code",
      "source": [
        "# Note, this code is taken straight from the SKLEARN website, an nice way of \n",
        "# viewing confusion matrix.\n",
        "def plot_confusion_matrix(cm, classes,\n",
        "                          normalize = False,\n",
        "                          title = 'Confusion matrix',\n",
        "                          cmap = plt.cm.Blues):\n",
        "    '''\n",
        "    This function prints and plots the confusion matrix.\n",
        "    Normalization can be applied by setting `normalize = True`.\n",
        "    '''\n",
        "    plt.imshow(cm, interpolation = 'nearest', cmap = cmap)\n",
        "    plt.title(title)\n",
        "    plt.colorbar()\n",
        "    tick_marks = np.arange(len(classes))\n",
        "    plt.xticks(tick_marks, classes, rotation = 45)\n",
        "    plt.yticks(tick_marks, classes)\n",
        "\n",
        "    if normalize:\n",
        "        cm = cm.astype('float') / cm.sum(axis = 1)[:, np.newaxis]\n",
        "\n",
        "    thresh = cm.max() / 2.\n",
        "    for i, j in itertools.product(range(cm.shape[0]), range(cm.shape[1])):\n",
        "        plt.text(j, i, cm[i, j],\n",
        "                 horizontalalignment = 'center',\n",
        "                 color = 'white' if cm[i, j] > thresh else 'black')\n",
        "\n",
        "    plt.tight_layout()\n",
        "    plt.ylabel('Observación')\n",
        "    plt.xlabel('Predicción')"
      ],
      "metadata": {
        "id": "1JtGWUtNrKbg"
      },
      "execution_count": null,
      "outputs": []
    },
    {
      "cell_type": "code",
      "source": [
        "Y_pred = model2.predict(test_images)\n",
        "print('Valores de predicción del modelo')\n",
        "# Convertir en predicciones de clases desde los vectores one-hot encoding \n",
        "Y_pred_classes = np.argmax(Y_pred, axis = 1) \n",
        "# Convertir en clases de observación desde los vectores one-hot encoding\n",
        "Y_true = np.argmax(test_labels, axis = 1) \n",
        "# Computar la matriz de confusión\n",
        "confusion_mtx = confusion_matrix(Y_true, Y_pred_classes) \n",
        "# Dibujar la matriz de confusión\n",
        "print('Matriz de confusión')\n",
        "plot_confusion_matrix(confusion_mtx, classes = range(10))"
      ],
      "metadata": {
        "id": "gkSvMpqZrKbg"
      },
      "execution_count": null,
      "outputs": []
    },
    {
      "cell_type": "markdown",
      "source": [
        "Se grafica el elemento 6 (```test_data[5]```) para comprobar las soluciones. "
      ],
      "metadata": {
        "id": "wyVJoZlwrKbh"
      }
    },
    {
      "cell_type": "code",
      "source": [
        "digit = test_images.reshape(10000,28, 28)[5]\n",
        "plt.imshow(digit, cmap = plt.cm.binary)\n",
        "plt.show()\n",
        "print(test_labels[5])"
      ],
      "metadata": {
        "id": "kib4BvBXrKbh"
      },
      "execution_count": null,
      "outputs": []
    },
    {
      "cell_type": "markdown",
      "source": [
        "La clase del elemento 6 es la clase 1 (pantalones)."
      ],
      "metadata": {
        "id": "XAQ1AWWHrKbi"
      }
    },
    {
      "cell_type": "code",
      "source": [
        "predictions = model2.predict(test_images)\n",
        "print('Predicción del elemento 6: clase', np.argmax(predictions[5]))\n",
        "print(predictions[5])\n",
        "print('Suma de las predicciones del elemento 6:', np.sum(predictions[5]))"
      ],
      "metadata": {
        "id": "FBIVo56OrKbi"
      },
      "execution_count": null,
      "outputs": []
    },
    {
      "cell_type": "code",
      "source": [
        "def plot_image(i, predictions_array, true_label, img):\n",
        "  predictions_array, true_label, img = predictions_array, true_label[i], img[i]\n",
        "  plt.grid(False)\n",
        "  plt.xticks([])\n",
        "  plt.yticks([])\n",
        "\n",
        "  plt.imshow(img, cmap = plt.cm.binary)    \n",
        "\n",
        "  predicted_label = np.argmax(predictions_array)\n",
        "  if predicted_label.all() == true_label.all():\n",
        "    color = 'blue'\n",
        "  else:\n",
        "    color = 'red'\n",
        "\n",
        "  plt.xlabel('{} {:2.0f}% ({})'.format(class_names[predicted_label],\n",
        "                                100*np.max(predictions_array),\n",
        "                                class_names[true_label]),\n",
        "                                color = color)\n",
        "\n",
        "def plot_value_array(i, predictions_array, true_label):\n",
        "  predictions_array, true_label = predictions_array, true_label[i]\n",
        "  plt.grid(False)\n",
        "  plt.xticks(range(10))\n",
        "  plt.yticks([])\n",
        "  thisplot = plt.bar(range(10), predictions_array, color = '#00FF00')\n",
        "  plt.ylim([0, 1])\n",
        "  predicted_label = np.argmax(predictions_array)\n",
        "\n",
        "  thisplot[predicted_label].set_color('red')\n",
        "  thisplot[np.argmax(true_label)].set_color('black')"
      ],
      "metadata": {
        "id": "3B0qQ9WxrKbi"
      },
      "execution_count": null,
      "outputs": []
    },
    {
      "cell_type": "code",
      "source": [
        "plt.figure(figsize = (6,3))\n",
        "for i in range(14):\n",
        "  plt.subplot(1,2,1)\n",
        "  plot_image(i, predictions[i], test_labels, test_images)\n",
        "  plt.subplot(1,2,2)\n",
        "  plot_value_array(i, predictions[i], test_labels)\n",
        "  plt.show()"
      ],
      "metadata": {
        "id": "3d4DxyPQrKbj"
      },
      "execution_count": null,
      "outputs": []
    },
    {
      "cell_type": "markdown",
      "source": [
        "## Caso 2.5 (para pruebas)"
      ],
      "metadata": {
        "id": "IiqUjYKEl4G0"
      }
    },
    {
      "cell_type": "markdown",
      "source": [
        "### Crear la red de neuronas"
      ],
      "metadata": {
        "id": "g2tAAPrHl4G1"
      }
    },
    {
      "cell_type": "markdown",
      "source": [
        "Se crea la red neuronal con una capa de entrada con 10 neuronas y función de activación ```sigmoid```, y una capa de salida con función de activación ```softmax```."
      ],
      "metadata": {
        "id": "EdX8meU-l4G1"
      }
    },
    {
      "cell_type": "code",
      "source": [
        "model2b = models.Sequential()\n",
        "model2b.add(Conv2D(64, (7, 7), strides=(1,1), activation='relu', input_shape=(28, 28, 1)))\n",
        "model2b.add(MaxPooling2D((2, 2)))\n",
        "\n",
        "model2b.add(Conv2D(128, (3, 3), strides=(1,1), activation='relu', input_shape=(28, 28, 1)))\n",
        "model2b.add(MaxPooling2D((2, 2)))\n",
        "\n",
        "model2b.add(Flatten())\n",
        "model2b.add(Dense(65,activation='relu'))\n",
        "model2b.add(Dense(10,activation='softmax'))"
      ],
      "metadata": {
        "id": "-bPneutFl4G1"
      },
      "execution_count": null,
      "outputs": []
    },
    {
      "cell_type": "markdown",
      "source": [
        "### Explicar model.summary()\n"
      ],
      "metadata": {
        "id": "0NmJbS4fl4G1"
      }
    },
    {
      "cell_type": "markdown",
      "source": [
        "El resumen del modelo indica el número de parámetros de salida de cada capa. Este número es igual al tamaño de los datos de entrada multiplicado por el número de neuronas, y sumando el número de umbrales de activación de la capa.\n",
        "\n",
        "\n",
        "En el caso de la primera capa: 7850 = 784 (tamaño de los datos) x 10 (número de neuronas) + 10 (número de umbrales de activación).\n",
        "\n",
        "En el caso de la segunda capa: 110 = 10 (tamaño de los datos) x 10 (número de neuronas) + 10 (número de umbrales de activación)."
      ],
      "metadata": {
        "id": "-FTX4egil4G1"
      }
    },
    {
      "cell_type": "code",
      "source": [
        "model2b.summary()"
      ],
      "metadata": {
        "id": "6_qB0a08l4G1"
      },
      "execution_count": null,
      "outputs": []
    },
    {
      "cell_type": "markdown",
      "source": [
        "Se definen las funciones del optimizador, la pérdida y la métrica."
      ],
      "metadata": {
        "id": "CEThyLqdl4G1"
      }
    },
    {
      "cell_type": "code",
      "source": [
        "model2b.compile(optimizer = 'sgd',\n",
        "              loss = 'sparse_categorical_crossentropy',\n",
        "              metrics = ['accuracy'])"
      ],
      "metadata": {
        "id": "NlWa9sPel4G1"
      },
      "execution_count": null,
      "outputs": []
    },
    {
      "cell_type": "markdown",
      "source": [
        "### Entrenar la red"
      ],
      "metadata": {
        "id": "thul5Sspl4G1"
      }
    },
    {
      "cell_type": "markdown",
      "source": [
        "Para entrenar la red se realizan ```5``` ciclos con lotes de ```128``` imágenes. Se compara con los datos de validación para controlar el sobreentrenamiento. "
      ],
      "metadata": {
        "id": "idPqmt4Wl4G1"
      }
    },
    {
      "cell_type": "code",
      "source": [
        "history = model2b.fit(train_images, train_labels,\n",
        "                    batch_size = 532,\n",
        "                    epochs = 5,\n",
        "                    verbose=1,\n",
        "                    validation_split=0.2)"
      ],
      "metadata": {
        "id": "9Pd1VScol4G2"
      },
      "execution_count": null,
      "outputs": []
    },
    {
      "cell_type": "markdown",
      "source": [
        "La pérdida indica el porcentaje de errores entre las etiquetas y las predicciones del modelo.\n",
        "\n",
        "La precisión indica el porcentaje de aciertos entre las predicciones y las etiquetas."
      ],
      "metadata": {
        "id": "AmvMmmwal4G2"
      }
    },
    {
      "cell_type": "code",
      "source": [
        "test_loss, test_acc = model2b.evaluate(test_images, test_labels)\n",
        "print('Test loss:', test_loss)\n",
        "print('Test accuracy:', test_acc)"
      ],
      "metadata": {
        "id": "57kpkxnKl4G2"
      },
      "execution_count": null,
      "outputs": []
    },
    {
      "cell_type": "code",
      "source": [
        "acc = history.history['accuracy']\n",
        "val_acc = history.history['val_accuracy']\n",
        "loss = history.history['loss']\n",
        "val_loss = history.history['val_loss']\n",
        "\n",
        "epochs = range(1, len(acc) + 1)\n",
        "\n",
        "# \"bo\" es para \"punto azun\"\n",
        "plt.plot(epochs, loss, 'bo', label='Pérdida de Entrenamiento')\n",
        "# \"b\" es para \"linea continua azul\"\n",
        "plt.plot(epochs, val_loss, 'b', label='Pérdida de Validación')\n",
        "plt.title('Pérdida de Entrenamiento y Validación')\n",
        "plt.xlabel('Epochs')\n",
        "plt.ylabel('Loss')\n",
        "plt.legend()\n",
        "\n",
        "plt.show()"
      ],
      "metadata": {
        "id": "IRszGBtPy_iJ"
      },
      "execution_count": null,
      "outputs": []
    },
    {
      "cell_type": "markdown",
      "source": [
        "### Predecir valores"
      ],
      "metadata": {
        "id": "URWllf3ll4G2"
      }
    },
    {
      "cell_type": "markdown",
      "source": [
        "Imprimir la matriz de confusión, que muestra los valores predichos frente a los reales."
      ],
      "metadata": {
        "id": "_OBRybhrl4G2"
      }
    },
    {
      "cell_type": "code",
      "source": [
        "# Note, this code is taken straight from the SKLEARN website, an nice way of \n",
        "# viewing confusion matrix.\n",
        "def plot_confusion_matrix(cm, classes,\n",
        "                          normalize = False,\n",
        "                          title = 'Confusion matrix',\n",
        "                          cmap = plt.cm.Blues):\n",
        "    '''\n",
        "    This function prints and plots the confusion matrix.\n",
        "    Normalization can be applied by setting `normalize = True`.\n",
        "    '''\n",
        "    plt.imshow(cm, interpolation = 'nearest', cmap = cmap)\n",
        "    plt.title(title)\n",
        "    plt.colorbar()\n",
        "    tick_marks = np.arange(len(classes))\n",
        "    plt.xticks(tick_marks, classes, rotation = 45)\n",
        "    plt.yticks(tick_marks, classes)\n",
        "\n",
        "    if normalize:\n",
        "        cm = cm.astype('float') / cm.sum(axis = 1)[:, np.newaxis]\n",
        "\n",
        "    thresh = cm.max() / 2.\n",
        "    for i, j in itertools.product(range(cm.shape[0]), range(cm.shape[1])):\n",
        "        plt.text(j, i, cm[i, j],\n",
        "                 horizontalalignment = 'center',\n",
        "                 color = 'white' if cm[i, j] > thresh else 'black')\n",
        "\n",
        "    plt.tight_layout()\n",
        "    plt.ylabel('Observación')\n",
        "    plt.xlabel('Predicción')"
      ],
      "metadata": {
        "id": "Iowk6cHEl4G2"
      },
      "execution_count": null,
      "outputs": []
    },
    {
      "cell_type": "code",
      "source": [
        "Y_pred = model.predict(test_images)\n",
        "print('Valores de predicción del modelo')\n",
        "# Convertir en predicciones de clases desde los vectores one-hot encoding \n",
        "Y_pred_classes = np.argmax(Y_pred, axis = 1) \n",
        "# Convertir en clases de observación desde los vectores one-hot encoding\n",
        "Y_true = np.argmax(test_labels, axis = 1) \n",
        "# Computar la matriz de confusión\n",
        "confusion_mtx = confusion_matrix(Y_true, Y_pred_classes) \n",
        "# Dibujar la matriz de confusión\n",
        "print('Matriz de confusión')\n",
        "plot_confusion_matrix(confusion_mtx, classes = range(10))"
      ],
      "metadata": {
        "id": "smiumUGxl4G2"
      },
      "execution_count": null,
      "outputs": []
    },
    {
      "cell_type": "markdown",
      "source": [
        "Se grafica el elemento 6 (```test_data[5]```) para comprobar las soluciones. "
      ],
      "metadata": {
        "id": "ytD9o7lnl4G2"
      }
    },
    {
      "cell_type": "code",
      "source": [
        "digit = test_data.reshape(10000,28, 28)[5]\n",
        "plt.imshow(digit, cmap = plt.cm.binary)\n",
        "plt.show()\n",
        "print(test_labels[5])"
      ],
      "metadata": {
        "id": "68xLwYf2l4G2"
      },
      "execution_count": null,
      "outputs": []
    },
    {
      "cell_type": "markdown",
      "source": [
        "La clase del elemento 6 es la clase 1 (pantalones)."
      ],
      "metadata": {
        "id": "VHJVmjX5l4G2"
      }
    },
    {
      "cell_type": "code",
      "source": [
        "predictions = model.predict(test_data)\n",
        "print('Predicción del elemento 6: clase', np.argmax(predictions[5]))\n",
        "print(predictions[5])\n",
        "print('Suma de las predicciones del elemento 6:', np.sum(predictions[5]))"
      ],
      "metadata": {
        "id": "q8E7EoEsl4G2"
      },
      "execution_count": null,
      "outputs": []
    },
    {
      "cell_type": "code",
      "source": [
        "def plot_image(i, predictions_array, true_label, img):\n",
        "  predictions_array, true_label, img = predictions_array, true_label[i], img[i]\n",
        "  plt.grid(False)\n",
        "  plt.xticks([])\n",
        "  plt.yticks([])\n",
        "\n",
        "  plt.imshow(img, cmap = plt.cm.binary)    \n",
        "\n",
        "  predicted_label = np.argmax(predictions_array)\n",
        "  if predicted_label.all() == true_label.all():\n",
        "    color = 'blue'\n",
        "  else:\n",
        "    color = 'red'\n",
        "\n",
        "  plt.xlabel('{} {:2.0f}% ({})'.format(predicted_label,\n",
        "                                100*np.max(predictions_array),\n",
        "                                true_label),\n",
        "                                color = color)\n",
        "\n",
        "def plot_value_array(i, predictions_array, true_label):\n",
        "  predictions_array, true_label = predictions_array, true_label[i]\n",
        "  plt.grid(False)\n",
        "  plt.xticks(range(10))\n",
        "  plt.yticks([])\n",
        "  thisplot = plt.bar(range(10), predictions_array, color = '#00FF00')\n",
        "  plt.ylim([0, 1])\n",
        "  predicted_label = np.argmax(predictions_array)\n",
        "\n",
        "  thisplot[predicted_label].set_color('red')\n",
        "  thisplot[np.argmax(true_label)].set_color('black')"
      ],
      "metadata": {
        "id": "donQW3jdl4G3"
      },
      "execution_count": null,
      "outputs": []
    },
    {
      "cell_type": "code",
      "source": [
        "plt.figure(figsize = (6,3))\n",
        "for i in range(14):\n",
        "  plt.subplot(1,2,1)\n",
        "  plot_image(i, predictions[i], test_labels, test_images)\n",
        "  plt.subplot(1,2,2)\n",
        "  plot_value_array(i, predictions[i], test_labels)\n",
        "  plt.show()"
      ],
      "metadata": {
        "id": "PriRLEtYl4G3"
      },
      "execution_count": null,
      "outputs": []
    },
    {
      "cell_type": "markdown",
      "source": [
        "## Caso 3"
      ],
      "metadata": {
        "id": "N7JYgzp1rd3G"
      }
    },
    {
      "cell_type": "markdown",
      "source": [
        "### Crear la red de neuronas"
      ],
      "metadata": {
        "id": "QK-V2H0Rrd3G"
      }
    },
    {
      "cell_type": "markdown",
      "source": [
        "Se crea la red neuronal con una capa de entrada con 10 neuronas y función de activación ```sigmoid```, y una capa de salida con función de activación ```softmax```."
      ],
      "metadata": {
        "id": "8dqCjBo5rd3H"
      }
    },
    {
      "cell_type": "code",
      "source": [
        "model3 = models.Sequential()\n",
        "model3.add(Conv2D(64, (7, 7), strides=(1,1), activation='relu', input_shape=(28, 28, 1)))\n",
        "model3.add(MaxPooling2D((2, 2)))\n",
        "\n",
        "model3.add(Conv2D(128, (3, 3), strides=(1,1), activation='relu', input_shape=(28, 28, 1)))\n",
        "model3.add(MaxPooling2D((2, 2)))\n",
        "\n",
        "model3.add(Flatten())\n",
        "model3.add(Dense(65,activation='relu'))\n",
        "model3.add(Dense(10,activation='softmax'))"
      ],
      "metadata": {
        "id": "C6cDwHcurd3H"
      },
      "execution_count": null,
      "outputs": []
    },
    {
      "cell_type": "markdown",
      "source": [
        "### Explicar model.summary()\n"
      ],
      "metadata": {
        "id": "NFLzryB3rd3I"
      }
    },
    {
      "cell_type": "markdown",
      "source": [
        "El resumen del modelo indica el número de parámetros de salida de cada capa. Este número es igual al tamaño de los datos de entrada multiplicado por el número de neuronas, y sumando el número de umbrales de activación de la capa.\n",
        "\n",
        "\n",
        "En el caso de la primera capa: 7850 = 784 (tamaño de los datos) x 10 (número de neuronas) + 10 (número de umbrales de activación).\n",
        "\n",
        "En el caso de la segunda capa: 110 = 10 (tamaño de los datos) x 10 (número de neuronas) + 10 (número de umbrales de activación)."
      ],
      "metadata": {
        "id": "WFxnmnlgrd3I"
      }
    },
    {
      "cell_type": "code",
      "source": [
        "model3.summary()\n"
      ],
      "metadata": {
        "id": "eEkK-CgVrd3I"
      },
      "execution_count": null,
      "outputs": []
    },
    {
      "cell_type": "markdown",
      "source": [
        "Se definen las funciones del optimizador, la pérdida y la métrica."
      ],
      "metadata": {
        "id": "TE6uPAGdrd3J"
      }
    },
    {
      "cell_type": "markdown",
      "source": [
        "Probamos que pasaría si cambiamos el optimizador por 'adam' y la funcion de perdida por 'sparse_categorical_crossentropy'. El optimizador adam es una combinacion de AdaGrad y RMSProp ya que además de RMSProp, cada factor de entrenamiento también se ve afectado por el momentum del gradiente. (https://respuestasrapidas.com.mx/que-es-optimizador-adam/) La función de pérdida sparse_categorical_crossentropy, es una medida de distancia entre probabilidades al igual que categorical_crossentropy pero este caso es usado unicamente para numeros enteros.(https://ignaciogavilan.com/catalogo-de-componentes-de-redes-neuronales-iii-funciones-de-perdida/)"
      ],
      "metadata": {
        "id": "ahlaSxFDxfF4"
      }
    },
    {
      "cell_type": "code",
      "source": [
        "model3.compile(optimizer='adam',\n",
        "              loss='sparse_categorical_crossentropy',\n",
        "              metrics=['accuracy'])"
      ],
      "metadata": {
        "id": "0x7r1BtUrd3J"
      },
      "execution_count": null,
      "outputs": []
    },
    {
      "cell_type": "markdown",
      "source": [
        "### Entrenar la red"
      ],
      "metadata": {
        "id": "r29ixCBzrd3J"
      }
    },
    {
      "cell_type": "markdown",
      "source": [
        "Para entrenar la red se realizan ```5``` ciclos con lotes de ```128``` imágenes. Se compara con los datos de validación para controlar el sobreentrenamiento. "
      ],
      "metadata": {
        "id": "LWuLgQZWrd3K"
      }
    },
    {
      "cell_type": "code",
      "source": [
        "history = model3.fit(train_images, train_labels,\n",
        "                    batch_size = 532,\n",
        "                    epochs = 25,\n",
        "                    verbose=1,\n",
        "                    validation_split=0.2)"
      ],
      "metadata": {
        "id": "2otyXG0Prd3K"
      },
      "execution_count": null,
      "outputs": []
    },
    {
      "cell_type": "markdown",
      "source": [
        "La pérdida indica el porcentaje de errores entre las etiquetas y las predicciones del modelo.\n",
        "\n",
        "La precisión indica el porcentaje de aciertos entre las predicciones y las etiquetas."
      ],
      "metadata": {
        "id": "DW-cUg6trd3K"
      }
    },
    {
      "cell_type": "code",
      "source": [
        "test_loss, test_acc = model3.evaluate(test_images, test_labels)\n",
        "print('test_loss:', test_loss)\n",
        "print('Test accuracy:', test_acc)"
      ],
      "metadata": {
        "id": "rsUBHHr5rd3L"
      },
      "execution_count": null,
      "outputs": []
    },
    {
      "cell_type": "code",
      "source": [
        "acc = history.history['accuracy']\n",
        "val_acc = history.history['val_accuracy']\n",
        "loss = history.history['loss']\n",
        "val_loss = history.history['val_loss']\n",
        "\n",
        "epochs = range(1, len(acc) + 1)\n",
        "\n",
        "# \"bo\" es para \"punto azun\"\n",
        "plt.plot(epochs, loss, 'bo', label='Pérdida de Entrenamiento')\n",
        "# \"b\" es para \"linea continua azul\"\n",
        "plt.plot(epochs, val_loss, 'b', label='Pérdida de Validación')\n",
        "plt.title('Pérdida de Entrenamiento y Validación')\n",
        "plt.xlabel('Epochs')\n",
        "plt.ylabel('Loss')\n",
        "plt.legend()\n",
        "\n",
        "plt.show()"
      ],
      "metadata": {
        "id": "lvQrKDE7zDco"
      },
      "execution_count": null,
      "outputs": []
    },
    {
      "cell_type": "markdown",
      "source": [
        "### Predecir valores"
      ],
      "metadata": {
        "id": "bFdZ-N49rd3L"
      }
    },
    {
      "cell_type": "markdown",
      "source": [
        "Imprimir la matriz de confusión, que muestra los valores predichos frente a los reales."
      ],
      "metadata": {
        "id": "DSbIO9vLrd3L"
      }
    },
    {
      "cell_type": "code",
      "source": [
        "# Note, this code is taken straight from the SKLEARN website, an nice way of \n",
        "# viewing confusion matrix.\n",
        "def plot_confusion_matrix(cm, classes,\n",
        "                          normalize = False,\n",
        "                          title = 'Confusion matrix',\n",
        "                          cmap = plt.cm.Blues):\n",
        "    '''\n",
        "    This function prints and plots the confusion matrix.\n",
        "    Normalization can be applied by setting `normalize = True`.\n",
        "    '''\n",
        "    plt.imshow(cm, interpolation = 'nearest', cmap = cmap)\n",
        "    plt.title(title)\n",
        "    plt.colorbar()\n",
        "    tick_marks = np.arange(len(classes))\n",
        "    plt.xticks(tick_marks, classes, rotation = 45)\n",
        "    plt.yticks(tick_marks, classes)\n",
        "\n",
        "    if normalize:\n",
        "        cm = cm.astype('float') / cm.sum(axis = 1)[:, np.newaxis]\n",
        "\n",
        "    thresh = cm.max() / 2.\n",
        "    for i, j in itertools.product(range(cm.shape[0]), range(cm.shape[1])):\n",
        "        plt.text(j, i, cm[i, j],\n",
        "                 horizontalalignment = 'center',\n",
        "                 color = 'white' if cm[i, j] > thresh else 'black')\n",
        "\n",
        "    plt.tight_layout()\n",
        "    plt.ylabel('Observación')\n",
        "    plt.xlabel('Predicción')"
      ],
      "metadata": {
        "id": "Uha1SB_Frd3L"
      },
      "execution_count": null,
      "outputs": []
    },
    {
      "cell_type": "code",
      "source": [
        "Y_pred = model3b.predict(test_data)\n",
        "print('Valores de predicción del modelo')\n",
        "# Convertir en predicciones de clases desde los vectores one-hot encoding \n",
        "Y_pred_classes = np.argmax(Y_pred, axis = 1) \n",
        "# Convertir en clases de observación desde los vectores one-hot encoding\n",
        "Y_true = np.argmax(test_labels, axis = 1) \n",
        "# Computar la matriz de confusión\n",
        "confusion_mtx = confusion_matrix(Y_true, Y_pred_classes) \n",
        "# Dibujar la matriz de confusión\n",
        "print('Matriz de confusión')\n",
        "plot_confusion_matrix(confusion_mtx, classes = range(10))"
      ],
      "metadata": {
        "id": "Dvz0RQ4mrd3M"
      },
      "execution_count": null,
      "outputs": []
    },
    {
      "cell_type": "markdown",
      "source": [
        "Se grafica el elemento 6 (```test_data[5]```) para comprobar las soluciones. "
      ],
      "metadata": {
        "id": "bwAm3z1trd3M"
      }
    },
    {
      "cell_type": "code",
      "source": [
        "digit = test_data.reshape(10000,28, 28)[5]\n",
        "plt.imshow(digit, cmap = plt.cm.binary)\n",
        "plt.show()\n",
        "print(test_labels[5])"
      ],
      "metadata": {
        "id": "uA4P_aigrd3N"
      },
      "execution_count": null,
      "outputs": []
    },
    {
      "cell_type": "markdown",
      "source": [
        "La clase del elemento 6 es la clase 1 (pantalones)."
      ],
      "metadata": {
        "id": "lEv3tdyMrd3N"
      }
    },
    {
      "cell_type": "code",
      "source": [
        "predictions = model3b.predict(test_data)\n",
        "print('Predicción del elemento 6: clase', np.argmax(predictions[5]))\n",
        "print(predictions[5])\n",
        "print('Suma de las predicciones del elemento 6:', np.sum(predictions[5]))"
      ],
      "metadata": {
        "id": "MHflWlgOrd3N"
      },
      "execution_count": null,
      "outputs": []
    },
    {
      "cell_type": "code",
      "source": [
        "def plot_image(i, predictions_array, true_label, img):\n",
        "  predictions_array, true_label, img = predictions_array, true_label[i], img[i]\n",
        "  plt.grid(False)\n",
        "  plt.xticks([])\n",
        "  plt.yticks([])\n",
        "\n",
        "  plt.imshow(img, cmap = plt.cm.binary)    \n",
        "\n",
        "  predicted_label = np.argmax(predictions_array)\n",
        "  if predicted_label.all() == true_label.all():\n",
        "    color = 'blue'\n",
        "  else:\n",
        "    color = 'red'\n",
        "\n",
        "  plt.xlabel('{} {:2.0f}% ({})'.format(predicted_label,\n",
        "                                100*np.max(predictions_array),\n",
        "                                true_label),\n",
        "                                color = color)\n",
        "\n",
        "def plot_value_array(i, predictions_array, true_label):\n",
        "  predictions_array, true_label = predictions_array, true_label[i]\n",
        "  plt.grid(False)\n",
        "  plt.xticks(range(10))\n",
        "  plt.yticks([])\n",
        "  thisplot = plt.bar(range(10), predictions_array, color = '#00FF00')\n",
        "  plt.ylim([0, 1])\n",
        "  predicted_label = np.argmax(predictions_array)\n",
        "\n",
        "  thisplot[predicted_label].set_color('red')\n",
        "  thisplot[np.argmax(true_label)].set_color('black')"
      ],
      "metadata": {
        "id": "RbqtOApSrd3O"
      },
      "execution_count": null,
      "outputs": []
    },
    {
      "cell_type": "code",
      "source": [
        "plt.figure(figsize = (6,3))\n",
        "for i in range(14):\n",
        "  plt.subplot(1,2,1)\n",
        "  plot_image(i, predictions[i], test_labels, test_images)\n",
        "  plt.subplot(1,2,2)\n",
        "  plot_value_array(i, predictions[i], test_labels)\n",
        "  plt.show()"
      ],
      "metadata": {
        "id": "vAaiHM5ard3O"
      },
      "execution_count": null,
      "outputs": []
    },
    {
      "cell_type": "markdown",
      "source": [
        "## Caso 3.5 (para pruebas)"
      ],
      "metadata": {
        "id": "pG0RpOcQnL_Y"
      }
    },
    {
      "cell_type": "markdown",
      "source": [
        "### Crear la red de neuronas"
      ],
      "metadata": {
        "id": "qzKPBAMxnL_Y"
      }
    },
    {
      "cell_type": "markdown",
      "source": [
        "Se crea la red neuronal con una capa de entrada con 10 neuronas y función de activación ```sigmoid```, y una capa de salida con función de activación ```softmax```."
      ],
      "metadata": {
        "id": "pAroJtSYnL_Y"
      }
    },
    {
      "cell_type": "code",
      "source": [
        "model3b = models.Sequential()\n",
        "model3b.add(Conv2D(64, (7, 7), strides=(1,1), activation='relu', input_shape=(28, 28, 1)))\n",
        "model3b.add(MaxPooling2D((2, 2)))\n",
        "\n",
        "model3b.add(Conv2D(128, (3, 3), strides=(1,1), activation='relu', input_shape=(28, 28, 1)))\n",
        "model3b.add(MaxPooling2D((2, 2)))\n",
        "\n",
        "model3b.add(Flatten())\n",
        "model3b.add(Dense(65,activation='relu'))\n",
        "model3b.add(Dense(10,activation='softmax'))"
      ],
      "metadata": {
        "id": "4LBCts9cnL_Y"
      },
      "execution_count": null,
      "outputs": []
    },
    {
      "cell_type": "markdown",
      "source": [
        "### Explicar model.summary()\n"
      ],
      "metadata": {
        "id": "bJGnvIcWnL_Y"
      }
    },
    {
      "cell_type": "markdown",
      "source": [
        "El resumen del modelo indica el número de parámetros de salida de cada capa. Este número es igual al tamaño de los datos de entrada multiplicado por el número de neuronas, y sumando el número de umbrales de activación de la capa.\n",
        "\n",
        "\n",
        "En el caso de la primera capa: 7850 = 784 (tamaño de los datos) x 10 (número de neuronas) + 10 (número de umbrales de activación).\n",
        "\n",
        "En el caso de la segunda capa: 110 = 10 (tamaño de los datos) x 10 (número de neuronas) + 10 (número de umbrales de activación)."
      ],
      "metadata": {
        "id": "_YaXFlUcnL_Z"
      }
    },
    {
      "cell_type": "code",
      "source": [
        "model3b.summary()"
      ],
      "metadata": {
        "id": "V3uzK2MmnL_Z"
      },
      "execution_count": null,
      "outputs": []
    },
    {
      "cell_type": "markdown",
      "source": [
        "Se definen las funciones del optimizador, la pérdida y la métrica."
      ],
      "metadata": {
        "id": "OnCHy0j4nL_Z"
      }
    },
    {
      "cell_type": "code",
      "source": [
        "model3b.compile(optimizer='adam',\n",
        "              loss='sparse_categorical_crossentropy',\n",
        "              metrics=['accuracy'])"
      ],
      "metadata": {
        "id": "8eC24vkgnL_a"
      },
      "execution_count": null,
      "outputs": []
    },
    {
      "cell_type": "markdown",
      "source": [
        "### Entrenar la red"
      ],
      "metadata": {
        "id": "V2ncKrWKnL_a"
      }
    },
    {
      "cell_type": "markdown",
      "source": [
        "Para entrenar la red se realizan ```5``` ciclos con lotes de ```128``` imágenes. Se compara con los datos de validación para controlar el sobreentrenamiento. "
      ],
      "metadata": {
        "id": "JhSrEon5nL_a"
      }
    },
    {
      "cell_type": "code",
      "source": [
        "history = model3b.fit(train_images, train_labels,\n",
        "                    batch_size = 532,\n",
        "                    epochs = 5,\n",
        "                    verbose=1,\n",
        "                    validation_split=0.2)"
      ],
      "metadata": {
        "id": "h9d66JO7nL_a"
      },
      "execution_count": null,
      "outputs": []
    },
    {
      "cell_type": "markdown",
      "source": [
        "La pérdida indica el porcentaje de errores entre las etiquetas y las predicciones del modelo.\n",
        "\n",
        "La precisión indica el porcentaje de aciertos entre las predicciones y las etiquetas."
      ],
      "metadata": {
        "id": "QdKSZ3jonL_a"
      }
    },
    {
      "cell_type": "code",
      "source": [
        "test_loss, test_acc = model3b.evaluate(test_images, test_labels)\n",
        "print('test_loss:', test_loss)\n",
        "print('Test accuracy:', test_acc)"
      ],
      "metadata": {
        "id": "FaoTK6dbnL_b"
      },
      "execution_count": null,
      "outputs": []
    },
    {
      "cell_type": "code",
      "source": [
        "acc = history.history['accuracy']\n",
        "val_acc = history.history['val_accuracy']\n",
        "loss = history.history['loss']\n",
        "val_loss = history.history['val_loss']\n",
        "\n",
        "epochs = range(1, len(acc) + 1)\n",
        "\n",
        "# \"bo\" es para \"punto azun\"\n",
        "plt.plot(epochs, loss, 'bo', label='Pérdida de Entrenamiento')\n",
        "# \"b\" es para \"linea continua azul\"\n",
        "plt.plot(epochs, val_loss, 'b', label='Pérdida de Validación')\n",
        "plt.title('Pérdida de Entrenamiento y Validación')\n",
        "plt.xlabel('Epochs')\n",
        "plt.ylabel('Loss')\n",
        "plt.legend()\n",
        "\n",
        "plt.show()"
      ],
      "metadata": {
        "id": "3upJJNL3zGfw"
      },
      "execution_count": null,
      "outputs": []
    },
    {
      "cell_type": "markdown",
      "source": [
        "### Predecir valores"
      ],
      "metadata": {
        "id": "sp6gTseInL_b"
      }
    },
    {
      "cell_type": "markdown",
      "source": [
        "Imprimir la matriz de confusión, que muestra los valores predichos frente a los reales."
      ],
      "metadata": {
        "id": "0Ngih3f_nL_b"
      }
    },
    {
      "cell_type": "code",
      "source": [
        "# Note, this code is taken straight from the SKLEARN website, an nice way of \n",
        "# viewing confusion matrix.\n",
        "def plot_confusion_matrix(cm, classes,\n",
        "                          normalize = False,\n",
        "                          title = 'Confusion matrix',\n",
        "                          cmap = plt.cm.Blues):\n",
        "    '''\n",
        "    This function prints and plots the confusion matrix.\n",
        "    Normalization can be applied by setting `normalize = True`.\n",
        "    '''\n",
        "    plt.imshow(cm, interpolation = 'nearest', cmap = cmap)\n",
        "    plt.title(title)\n",
        "    plt.colorbar()\n",
        "    tick_marks = np.arange(len(classes))\n",
        "    plt.xticks(tick_marks, classes, rotation = 45)\n",
        "    plt.yticks(tick_marks, classes)\n",
        "\n",
        "    if normalize:\n",
        "        cm = cm.astype('float') / cm.sum(axis = 1)[:, np.newaxis]\n",
        "\n",
        "    thresh = cm.max() / 2.\n",
        "    for i, j in itertools.product(range(cm.shape[0]), range(cm.shape[1])):\n",
        "        plt.text(j, i, cm[i, j],\n",
        "                 horizontalalignment = 'center',\n",
        "                 color = 'white' if cm[i, j] > thresh else 'black')\n",
        "\n",
        "    plt.tight_layout()\n",
        "    plt.ylabel('Observación')\n",
        "    plt.xlabel('Predicción')"
      ],
      "metadata": {
        "id": "F8HLRrwtnL_b"
      },
      "execution_count": null,
      "outputs": []
    },
    {
      "cell_type": "code",
      "source": [
        "Y_pred = model3b.predict(test_data)\n",
        "print('Valores de predicción del modelo')\n",
        "# Convertir en predicciones de clases desde los vectores one-hot encoding \n",
        "Y_pred_classes = np.argmax(Y_pred, axis = 1) \n",
        "# Convertir en clases de observación desde los vectores one-hot encoding\n",
        "Y_true = np.argmax(test_labels, axis = 1) \n",
        "# Computar la matriz de confusión\n",
        "confusion_mtx = confusion_matrix(Y_true, Y_pred_classes) \n",
        "# Dibujar la matriz de confusión\n",
        "print('Matriz de confusión')\n",
        "plot_confusion_matrix(confusion_mtx, classes = range(10))"
      ],
      "metadata": {
        "id": "EGygLIdsnL_b"
      },
      "execution_count": null,
      "outputs": []
    },
    {
      "cell_type": "markdown",
      "source": [
        "Se grafica el elemento 6 (```test_data[5]```) para comprobar las soluciones. "
      ],
      "metadata": {
        "id": "HU9RhG_xnL_b"
      }
    },
    {
      "cell_type": "code",
      "source": [
        "digit = test_data.reshape(10000,28, 28)[5]\n",
        "plt.imshow(digit, cmap = plt.cm.binary)\n",
        "plt.show()\n",
        "print(test_labels[5])"
      ],
      "metadata": {
        "id": "vOyRw8bXnL_b"
      },
      "execution_count": null,
      "outputs": []
    },
    {
      "cell_type": "markdown",
      "source": [
        "La clase del elemento 6 es la clase 1 (pantalones)."
      ],
      "metadata": {
        "id": "CvCPSI9bnL_b"
      }
    },
    {
      "cell_type": "code",
      "source": [
        "predictions = model3b.predict(test_data)\n",
        "print('Predicción del elemento 6: clase', np.argmax(predictions[5]))\n",
        "print(predictions[5])\n",
        "print('Suma de las predicciones del elemento 6:', np.sum(predictions[5]))"
      ],
      "metadata": {
        "id": "-9-stjJwnL_c"
      },
      "execution_count": null,
      "outputs": []
    },
    {
      "cell_type": "code",
      "source": [
        "def plot_image(i, predictions_array, true_label, img):\n",
        "  predictions_array, true_label, img = predictions_array, true_label[i], img[i]\n",
        "  plt.grid(False)\n",
        "  plt.xticks([])\n",
        "  plt.yticks([])\n",
        "\n",
        "  plt.imshow(img, cmap = plt.cm.binary)    \n",
        "\n",
        "  predicted_label = np.argmax(predictions_array)\n",
        "  if predicted_label.all() == true_label.all():\n",
        "    color = 'blue'\n",
        "  else:\n",
        "    color = 'red'\n",
        "\n",
        "  plt.xlabel('{} {:2.0f}% ({})'.format(predicted_label,\n",
        "                                100*np.max(predictions_array),\n",
        "                                true_label),\n",
        "                                color = color)\n",
        "\n",
        "def plot_value_array(i, predictions_array, true_label):\n",
        "  predictions_array, true_label = predictions_array, true_label[i]\n",
        "  plt.grid(False)\n",
        "  plt.xticks(range(10))\n",
        "  plt.yticks([])\n",
        "  thisplot = plt.bar(range(10), predictions_array, color = '#00FF00')\n",
        "  plt.ylim([0, 1])\n",
        "  predicted_label = np.argmax(predictions_array)\n",
        "\n",
        "  thisplot[predicted_label].set_color('red')\n",
        "  thisplot[np.argmax(true_label)].set_color('black')"
      ],
      "metadata": {
        "id": "46vLUQeEnL_c"
      },
      "execution_count": null,
      "outputs": []
    },
    {
      "cell_type": "code",
      "source": [
        "plt.figure(figsize = (6,3))\n",
        "for i in range(14):\n",
        "  plt.subplot(1,2,1)\n",
        "  plot_image(i, predictions[i], test_labels, test_images)\n",
        "  plt.subplot(1,2,2)\n",
        "  plot_value_array(i, predictions[i], test_labels)\n",
        "  plt.show()"
      ],
      "metadata": {
        "id": "hf_E71v6nL_c"
      },
      "execution_count": null,
      "outputs": []
    },
    {
      "cell_type": "markdown",
      "source": [
        "## Caso 8"
      ],
      "metadata": {
        "id": "Bhw1lF8And2e"
      }
    },
    {
      "cell_type": "markdown",
      "source": [
        "### Crear la red de neuronas"
      ],
      "metadata": {
        "id": "5e-tHDPHnd2e"
      }
    },
    {
      "cell_type": "markdown",
      "source": [
        "Se crea la red neuronal con una capa de entrada con 512 neuronas y función de activación ```sigmoid```, y una capa de salida con función de activación ```softmax```."
      ],
      "metadata": {
        "id": "Tz5qH7g-nd2e"
      }
    },
    {
      "cell_type": "code",
      "source": [
        "model8 = models.Sequential()\n",
        "model8.add(layers.Dense(512, activation ='sigmoid', name = 'Capa8', input_shape = (28*28,)))\n",
        "model8.add(layers.Dense(10, name = 'CapaSalida8', activation = 'softmax'))"
      ],
      "metadata": {
        "id": "sHE5QeQEnd2f"
      },
      "execution_count": null,
      "outputs": []
    },
    {
      "cell_type": "markdown",
      "source": [
        "### Explicar model.summary()\n"
      ],
      "metadata": {
        "id": "zPOSVYtNnd2f"
      }
    },
    {
      "cell_type": "markdown",
      "source": [
        "El resumen del modelo indica el número de parámetros de salida de cada capa. Este número es igual al tamaño de los datos de entrada multiplicado por el número de neuronas, y sumando el número de umbrales de activación de la capa.\n",
        "\n",
        "\n",
        "En el caso de la primera capa: 401920 = 784 (tamaño de los datos) x 512 (número de neuronas) + 512 (número de umbrales de activación).\n",
        "\n",
        "En el caso de la segunda capa: 262656 = 512 (tamaño de los datos) x 512 (número de neuronas) + 512 (número de umbrales de activación)."
      ],
      "metadata": {
        "id": "wYb5bK-Lnd2f"
      }
    },
    {
      "cell_type": "code",
      "source": [
        "model8.summary()"
      ],
      "metadata": {
        "id": "SOyBZTzvnd2f"
      },
      "execution_count": null,
      "outputs": []
    },
    {
      "cell_type": "markdown",
      "source": [
        "Se definen las funciones del optimizador, la pérdida y la métrica."
      ],
      "metadata": {
        "id": "8aOOKQMsnd2f"
      }
    },
    {
      "cell_type": "code",
      "source": [
        "model8.compile(optimizer = 'rmsprop',\n",
        "              loss = 'categorical_crossentropy',\n",
        "              metrics = ['accuracy'])"
      ],
      "metadata": {
        "id": "RmNUdhy4nd2f"
      },
      "execution_count": null,
      "outputs": []
    },
    {
      "cell_type": "markdown",
      "source": [
        "### Entrenar la red"
      ],
      "metadata": {
        "id": "OhPvgbLCnd2f"
      }
    },
    {
      "cell_type": "markdown",
      "source": [
        "Para entrenar la red se realizan ```5``` ciclos con lotes de ```128``` imágenes. Se compara con los datos de validación para controlar el sobreentrenamiento. "
      ],
      "metadata": {
        "id": "AgIMPiOdnd2f"
      }
    },
    {
      "cell_type": "code",
      "source": [
        "history = model8.fit(train_val_data, train_val_labels,\n",
        "                    epochs = 5,\n",
        "                    batch_size = 524,\n",
        "                    validation_data = (val_data, val_labels))"
      ],
      "metadata": {
        "id": "JWlfDykcnd2f"
      },
      "execution_count": null,
      "outputs": []
    },
    {
      "cell_type": "markdown",
      "source": [
        "Al aumentar el batch_size a 524 la precisión del modelo aumenta.\n",
        "\n",
        "La pérdida indica el porcentaje de errores entre las etiquetas y las predicciones del modelo.\n",
        "\n",
        "La precisión indica el porcentaje de aciertos entre las predicciones y las etiquetas."
      ],
      "metadata": {
        "id": "-AkE1HWxnd2f"
      }
    },
    {
      "cell_type": "code",
      "source": [
        "test_loss, test_acc = model8.evaluate(test_data, test_labels)"
      ],
      "metadata": {
        "id": "-92kjkjwnd2f"
      },
      "execution_count": null,
      "outputs": []
    },
    {
      "cell_type": "code",
      "source": [
        "acc = history.history['accuracy']\n",
        "val_acc = history.history['val_accuracy']\n",
        "loss = history.history['loss']\n",
        "val_loss = history.history['val_loss']\n",
        "\n",
        "epochs = range(1, len(acc) + 1)\n",
        "\n",
        "# \"bo\" es para \"punto azun\"\n",
        "plt.plot(epochs, loss, 'bo', label='Pérdida de Entrenamiento')\n",
        "# \"b\" es para \"linea continua azul\"\n",
        "plt.plot(epochs, val_loss, 'b', label='Pérdida de Validación')\n",
        "plt.title('Pérdida de Entrenamiento y Validación')\n",
        "plt.xlabel('Epochs')\n",
        "plt.ylabel('Loss')\n",
        "plt.legend()\n",
        "\n",
        "plt.show()"
      ],
      "metadata": {
        "id": "9gK6wy94zStn"
      },
      "execution_count": null,
      "outputs": []
    },
    {
      "cell_type": "markdown",
      "source": [
        "### Predecir valores"
      ],
      "metadata": {
        "id": "iwUEfXINnd2g"
      }
    },
    {
      "cell_type": "markdown",
      "source": [
        "Imprimir la matriz de confusión, que muestra los valores predichos frente a los reales."
      ],
      "metadata": {
        "id": "DZSsk0eOnd2g"
      }
    },
    {
      "cell_type": "code",
      "source": [
        "# Note, this code is taken straight from the SKLEARN website, an nice way of \n",
        "# viewing confusion matrix.\n",
        "def plot_confusion_matrix(cm, classes,\n",
        "                          normalize = False,\n",
        "                          title = 'Confusion matrix',\n",
        "                          cmap = plt.cm.Blues):\n",
        "    '''\n",
        "    This function prints and plots the confusion matrix.\n",
        "    Normalization can be applied by setting `normalize = True`.\n",
        "    '''\n",
        "    plt.imshow(cm, interpolation = 'nearest', cmap = cmap)\n",
        "    plt.title(title)\n",
        "    plt.colorbar()\n",
        "    tick_marks = np.arange(len(classes))\n",
        "    plt.xticks(tick_marks, classes, rotation = 45)\n",
        "    plt.yticks(tick_marks, classes)\n",
        "\n",
        "    if normalize:\n",
        "        cm = cm.astype('float') / cm.sum(axis = 1)[:, np.newaxis]\n",
        "\n",
        "    thresh = cm.max() / 2.\n",
        "    for i, j in itertools.product(range(cm.shape[0]), range(cm.shape[1])):\n",
        "        plt.text(j, i, cm[i, j],\n",
        "                 horizontalalignment = 'center',\n",
        "                 color = 'white' if cm[i, j] > thresh else 'black')\n",
        "\n",
        "    plt.tight_layout()\n",
        "    plt.ylabel('Observación')\n",
        "    plt.xlabel('Predicción')"
      ],
      "metadata": {
        "id": "gSHAF0dsnd2g"
      },
      "execution_count": null,
      "outputs": []
    },
    {
      "cell_type": "code",
      "source": [
        "Y_pred = model8.predict(test_data)\n",
        "print('Valores de predicción del modelo')\n",
        "# Convertir en predicciones de clases desde los vectores one-hot encoding \n",
        "Y_pred_classes = np.argmax(Y_pred, axis = 1) \n",
        "# Convertir en clases de observación desde los vectores one-hot encoding\n",
        "Y_true = np.argmax(test_labels, axis = 1) \n",
        "# Computar la matriz de confusión\n",
        "confusion_mtx = confusion_matrix(Y_true, Y_pred_classes) \n",
        "# Dibujar la matriz de confusión\n",
        "print('Matriz de confusión')\n",
        "plot_confusion_matrix(confusion_mtx, classes = range(10))"
      ],
      "metadata": {
        "id": "bO6Ll8gNnd2g"
      },
      "execution_count": null,
      "outputs": []
    },
    {
      "cell_type": "markdown",
      "source": [
        "Se grafica el elemento 6 (```test_data[5]```) para comprobar las soluciones. "
      ],
      "metadata": {
        "id": "2BxXnxM3nd2g"
      }
    },
    {
      "cell_type": "code",
      "source": [
        "digit = test_data.reshape(10000,28, 28)[5]\n",
        "plt.imshow(digit, cmap = plt.cm.binary)\n",
        "plt.show()\n",
        "print(test_labels[5])"
      ],
      "metadata": {
        "id": "VqJasvFind2g"
      },
      "execution_count": null,
      "outputs": []
    },
    {
      "cell_type": "markdown",
      "source": [
        "La clase del elemento 6 es la clase 1 (pantalones)."
      ],
      "metadata": {
        "id": "xf5zMsPsnd2g"
      }
    },
    {
      "cell_type": "code",
      "source": [
        "predictions = model8.predict(test_data)\n",
        "print('Predicción del elemento 6: clase', np.argmax(predictions[5]))\n",
        "print(predictions[5])\n",
        "print('Suma de las predicciones del elemento 6:', np.sum(predictions[5]))"
      ],
      "metadata": {
        "id": "SR6O7nUZnd2g"
      },
      "execution_count": null,
      "outputs": []
    },
    {
      "cell_type": "code",
      "source": [
        "def plot_image(i, predictions_array, true_label, img):\n",
        "  predictions_array, true_label, img = predictions_array, true_label[i], img[i]\n",
        "  plt.grid(False)\n",
        "  plt.xticks([])\n",
        "  plt.yticks([])\n",
        "\n",
        "  plt.imshow(img, cmap = plt.cm.binary)    \n",
        "\n",
        "  predicted_label = np.argmax(predictions_array)\n",
        "  if predicted_label.all() == true_label.all():\n",
        "    color = 'blue'\n",
        "  else:\n",
        "    color = 'red'\n",
        "\n",
        "  plt.xlabel('{} {:2.0f}% ({})'.format(predicted_label,\n",
        "                                100*np.max(predictions_array),\n",
        "                                true_label),\n",
        "                                color = color)\n",
        "\n",
        "def plot_value_array(i, predictions_array, true_label):\n",
        "  predictions_array, true_label = predictions_array, true_label[i]\n",
        "  plt.grid(False)\n",
        "  plt.xticks(range(10))\n",
        "  plt.yticks([])\n",
        "  thisplot = plt.bar(range(10), predictions_array, color = '#00FF00')\n",
        "  plt.ylim([0, 1])\n",
        "  predicted_label = np.argmax(predictions_array)\n",
        "\n",
        "  thisplot[predicted_label].set_color('red')\n",
        "  thisplot[np.argmax(true_label)].set_color('black')"
      ],
      "metadata": {
        "id": "V-WgItlYnd2g"
      },
      "execution_count": null,
      "outputs": []
    },
    {
      "cell_type": "code",
      "source": [
        "plt.figure(figsize = (6,3))\n",
        "plt.subplot(1,2,1)\n",
        "plot_image(5, predictions[5], test_labels, test_data.reshape(10000,28,28))\n",
        "plt.subplot(1,2,2)\n",
        "plot_value_array(5, predictions[5],  test_labels)\n",
        "plt.show()"
      ],
      "metadata": {
        "id": "_hU9WOQfnd2g"
      },
      "execution_count": null,
      "outputs": []
    },
    {
      "cell_type": "markdown",
      "source": [
        "# Conclusiones\n"
      ],
      "metadata": {
        "id": "x15DhcxgTvb8"
      }
    },
    {
      "cell_type": "markdown",
      "source": [
        "En la siguiente tabla observamos los distintos casos con su valor de pérdida y su precisión. \n",
        "\n",
        "> ![MicrosoftTeams-image (1).png](data:image/png;base64,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)\n",
        "\n",
        "\n",
        "\n",
        "*   En los casos 1 y 2 ambos tienen capas de 10 neuronas y función de activación \n",
        "'relu' , lo que cambia es el optimizador. En el caso 1, el optimizador es el 'sgd' y observamos que tiene una precisión de 0.77 y el del caso 2, el 'rmsprop' con una precisión de 0.83. Por tanto podemos concluir que es más preciso el 'sgd'.\n",
        "*   En los casos 3 y 4 ambos tienen capas de 10 neuronas y función de activación 'sigmoid' , lo que cambia es el optimizador. En el caso 3, el optimizador es el 'sgd' y observamos que tiene una precisión de 0.64 y el del caso 4, el 'rmsprop' con una precisión de 0.83. Por tanto podemos concluir que es más preciso el optimizador 'sgd'.\n",
        "*  Comparando la función de activación'relu' y 'sigmoid' de los casos 1, 2, 3 y 4. La función de activación 'relu'(acc 0.77) tiene mayor precisión que 'sigmoid' (acc 0.64)\n",
        "\n",
        "\n",
        "*   En los casos 5 y 6 ambos tienen capas de 512 neuronas y función de activación 'relu' , lo que cambia es el optimizador. En el caso 5, el optimizador es el 'sgd' y observamos que tiene una precisión de 0.82 y el del caso 6, el 'rmsprop' con una precisión 0.89. Por tanto podemos concluir que es más preciso el optimizador 'rmsprop'.\n",
        "*   En los casos 7 y 8 ambos tienen capas de 512 neuronas y función de activación 'sigmoid' , lo que cambia es el optimizador. En el caso 7, el optimizador es el 'sgd' y observamos que tiene una precisión de 0.74 y el del caso 8, el 'rmsprop' con una precisión 0.81. Por tanto podemos concluir que es más preciso el optimizador 'rmsprop'.\n",
        "\n",
        "*   Comparando la función de activación'relu' y 'sigmoid' de los casos 5, 6, 7 y 8. La función de activación 'relu' tiene mayor precisión que 'sigmoid'.\n",
        "\n",
        "*  En los casos 2.5, 7.5 añadimos 25 épocas lo que nos lleva al sobreentrenamiento de nuestro modelo.\n",
        "\n",
        "*   Por último, observamos que los modelos con 10 neuronas son menos precisas que los modelos con 512 neuronas.\n",
        "\n",
        "\n",
        "\n",
        "\n",
        "\n",
        "\n",
        "\n"
      ],
      "metadata": {
        "id": "GH0mlY6AT_lW"
      }
    }
  ]
}