{
  "nbformat": 4,
  "nbformat_minor": 0,
  "metadata": {
    "colab": {
      "provenance": [],
      "include_colab_link": true
    },
    "kernelspec": {
      "name": "python3",
      "display_name": "Python 3"
    },
    "language_info": {
      "name": "python"
    }
  },
  "cells": [
    {
      "cell_type": "markdown",
      "metadata": {
        "id": "view-in-github",
        "colab_type": "text"
      },
      "source": [
        "<a href=\"https://colab.research.google.com/github/javierarteagapuell/deeplearning/blob/main/AA_PRACTICA3_GRUPO_4.ipynb\" target=\"_parent\"><img src=\"https://colab.research.google.com/assets/colab-badge.svg\" alt=\"Open In Colab\"/></a>"
      ]
    },
    {
      "cell_type": "markdown",
      "source": [
        "# AA_PRACTICA3_GRUPO_4\n",
        "\n",
        "Daniel Alonso\n",
        "\n",
        "Javier Arteaga\n",
        "\n",
        "Marina Garrido\n",
        "\n",
        "Elena González"
      ],
      "metadata": {
        "id": "NAt_CleDyO_d"
      }
    },
    {
      "cell_type": "markdown",
      "source": [
        "### Importar librerías"
      ],
      "metadata": {
        "id": "ghXqavarzEn_"
      }
    },
    {
      "cell_type": "code",
      "source": [
        "import pandas as pd\n",
        "import numpy as np\n",
        "import matplotlib.pyplot as plt\n",
        "import tensorflow as tf\n",
        "from keras import models\n",
        "from keras import layers\n",
        "%matplotlib inline\n"
      ],
      "metadata": {
        "id": "lcAKpTlrZKu2"
      },
      "execution_count": null,
      "outputs": []
    },
    {
      "cell_type": "markdown",
      "source": [
        "Vamos a **predecir** el **porcentaje de grasa corporal** de un **individuo** con ayuda de la siguiente base de datos.\n",
        "https://www.kaggle.com/datasets/fedesoriano/body-fat-prediction-dataset\n",
        "\n",
        "Las variables de la base de datos son:\n",
        "- Density determined from underwater weighing\n",
        "- Percent body fat from Siri's (1956) equation\n",
        "- Age (years)\n",
        "- Weight (lbs)\n",
        "- Height (inches)\n",
        "- Neck circumference (cm)\n",
        "- Chest circumference (cm)\n",
        "- Abdomen 2 circumference (cm)\n",
        "- Hip circumference (cm)\n",
        "- Thigh circumference (cm)\n",
        "- Knee circumference (cm)\n",
        "- Ankle circumference (cm)\n",
        "- Biceps (extended) circumference (cm)\n",
        "- Forearm circumference (cm)\n",
        "- Wrist circumference (cm)"
      ],
      "metadata": {
        "id": "8BDFkWIYqOfy"
      }
    },
    {
      "cell_type": "markdown",
      "source": [
        "## Cargar los datos"
      ],
      "metadata": {
        "id": "6jVVtg9N0ZgL"
      }
    },
    {
      "cell_type": "code",
      "source": [
        "data = pd.read_csv('bodyfat.csv', encoding='latin-1')\n",
        "data.head()\n"
      ],
      "metadata": {
        "colab": {
          "base_uri": "https://localhost:8080/",
          "height": 206
        },
        "id": "x05nKWYMZNNX",
        "outputId": "773e1c64-03fa-4691-e6dd-6b6990ed73a4"
      },
      "execution_count": null,
      "outputs": [
        {
          "output_type": "execute_result",
          "data": {
            "text/plain": [
              "   Density  BodyFat  Age  Weight  Height  Neck  Chest  Abdomen    Hip  Thigh  \\\n",
              "0   1.0708     12.3   23  154.25   67.75  36.2   93.1     85.2   94.5   59.0   \n",
              "1   1.0853      6.1   22  173.25   72.25  38.5   93.6     83.0   98.7   58.7   \n",
              "2   1.0414     25.3   22  154.00   66.25  34.0   95.8     87.9   99.2   59.6   \n",
              "3   1.0751     10.4   26  184.75   72.25  37.4  101.8     86.4  101.2   60.1   \n",
              "4   1.0340     28.7   24  184.25   71.25  34.4   97.3    100.0  101.9   63.2   \n",
              "\n",
              "   Knee  Ankle  Biceps  Forearm  Wrist  \n",
              "0  37.3   21.9    32.0     27.4   17.1  \n",
              "1  37.3   23.4    30.5     28.9   18.2  \n",
              "2  38.9   24.0    28.8     25.2   16.6  \n",
              "3  37.3   22.8    32.4     29.4   18.2  \n",
              "4  42.2   24.0    32.2     27.7   17.7  "
            ],
            "text/html": [
              "\n",
              "  <div id=\"df-46ff7392-926f-46cb-ae9b-04641da9a228\">\n",
              "    <div class=\"colab-df-container\">\n",
              "      <div>\n",
              "<style scoped>\n",
              "    .dataframe tbody tr th:only-of-type {\n",
              "        vertical-align: middle;\n",
              "    }\n",
              "\n",
              "    .dataframe tbody tr th {\n",
              "        vertical-align: top;\n",
              "    }\n",
              "\n",
              "    .dataframe thead th {\n",
              "        text-align: right;\n",
              "    }\n",
              "</style>\n",
              "<table border=\"1\" class=\"dataframe\">\n",
              "  <thead>\n",
              "    <tr style=\"text-align: right;\">\n",
              "      <th></th>\n",
              "      <th>Density</th>\n",
              "      <th>BodyFat</th>\n",
              "      <th>Age</th>\n",
              "      <th>Weight</th>\n",
              "      <th>Height</th>\n",
              "      <th>Neck</th>\n",
              "      <th>Chest</th>\n",
              "      <th>Abdomen</th>\n",
              "      <th>Hip</th>\n",
              "      <th>Thigh</th>\n",
              "      <th>Knee</th>\n",
              "      <th>Ankle</th>\n",
              "      <th>Biceps</th>\n",
              "      <th>Forearm</th>\n",
              "      <th>Wrist</th>\n",
              "    </tr>\n",
              "  </thead>\n",
              "  <tbody>\n",
              "    <tr>\n",
              "      <th>0</th>\n",
              "      <td>1.0708</td>\n",
              "      <td>12.3</td>\n",
              "      <td>23</td>\n",
              "      <td>154.25</td>\n",
              "      <td>67.75</td>\n",
              "      <td>36.2</td>\n",
              "      <td>93.1</td>\n",
              "      <td>85.2</td>\n",
              "      <td>94.5</td>\n",
              "      <td>59.0</td>\n",
              "      <td>37.3</td>\n",
              "      <td>21.9</td>\n",
              "      <td>32.0</td>\n",
              "      <td>27.4</td>\n",
              "      <td>17.1</td>\n",
              "    </tr>\n",
              "    <tr>\n",
              "      <th>1</th>\n",
              "      <td>1.0853</td>\n",
              "      <td>6.1</td>\n",
              "      <td>22</td>\n",
              "      <td>173.25</td>\n",
              "      <td>72.25</td>\n",
              "      <td>38.5</td>\n",
              "      <td>93.6</td>\n",
              "      <td>83.0</td>\n",
              "      <td>98.7</td>\n",
              "      <td>58.7</td>\n",
              "      <td>37.3</td>\n",
              "      <td>23.4</td>\n",
              "      <td>30.5</td>\n",
              "      <td>28.9</td>\n",
              "      <td>18.2</td>\n",
              "    </tr>\n",
              "    <tr>\n",
              "      <th>2</th>\n",
              "      <td>1.0414</td>\n",
              "      <td>25.3</td>\n",
              "      <td>22</td>\n",
              "      <td>154.00</td>\n",
              "      <td>66.25</td>\n",
              "      <td>34.0</td>\n",
              "      <td>95.8</td>\n",
              "      <td>87.9</td>\n",
              "      <td>99.2</td>\n",
              "      <td>59.6</td>\n",
              "      <td>38.9</td>\n",
              "      <td>24.0</td>\n",
              "      <td>28.8</td>\n",
              "      <td>25.2</td>\n",
              "      <td>16.6</td>\n",
              "    </tr>\n",
              "    <tr>\n",
              "      <th>3</th>\n",
              "      <td>1.0751</td>\n",
              "      <td>10.4</td>\n",
              "      <td>26</td>\n",
              "      <td>184.75</td>\n",
              "      <td>72.25</td>\n",
              "      <td>37.4</td>\n",
              "      <td>101.8</td>\n",
              "      <td>86.4</td>\n",
              "      <td>101.2</td>\n",
              "      <td>60.1</td>\n",
              "      <td>37.3</td>\n",
              "      <td>22.8</td>\n",
              "      <td>32.4</td>\n",
              "      <td>29.4</td>\n",
              "      <td>18.2</td>\n",
              "    </tr>\n",
              "    <tr>\n",
              "      <th>4</th>\n",
              "      <td>1.0340</td>\n",
              "      <td>28.7</td>\n",
              "      <td>24</td>\n",
              "      <td>184.25</td>\n",
              "      <td>71.25</td>\n",
              "      <td>34.4</td>\n",
              "      <td>97.3</td>\n",
              "      <td>100.0</td>\n",
              "      <td>101.9</td>\n",
              "      <td>63.2</td>\n",
              "      <td>42.2</td>\n",
              "      <td>24.0</td>\n",
              "      <td>32.2</td>\n",
              "      <td>27.7</td>\n",
              "      <td>17.7</td>\n",
              "    </tr>\n",
              "  </tbody>\n",
              "</table>\n",
              "</div>\n",
              "      <button class=\"colab-df-convert\" onclick=\"convertToInteractive('df-46ff7392-926f-46cb-ae9b-04641da9a228')\"\n",
              "              title=\"Convert this dataframe to an interactive table.\"\n",
              "              style=\"display:none;\">\n",
              "        \n",
              "  <svg xmlns=\"http://www.w3.org/2000/svg\" height=\"24px\"viewBox=\"0 0 24 24\"\n",
              "       width=\"24px\">\n",
              "    <path d=\"M0 0h24v24H0V0z\" fill=\"none\"/>\n",
              "    <path d=\"M18.56 5.44l.94 2.06.94-2.06 2.06-.94-2.06-.94-.94-2.06-.94 2.06-2.06.94zm-11 1L8.5 8.5l.94-2.06 2.06-.94-2.06-.94L8.5 2.5l-.94 2.06-2.06.94zm10 10l.94 2.06.94-2.06 2.06-.94-2.06-.94-.94-2.06-.94 2.06-2.06.94z\"/><path d=\"M17.41 7.96l-1.37-1.37c-.4-.4-.92-.59-1.43-.59-.52 0-1.04.2-1.43.59L10.3 9.45l-7.72 7.72c-.78.78-.78 2.05 0 2.83L4 21.41c.39.39.9.59 1.41.59.51 0 1.02-.2 1.41-.59l7.78-7.78 2.81-2.81c.8-.78.8-2.07 0-2.86zM5.41 20L4 18.59l7.72-7.72 1.47 1.35L5.41 20z\"/>\n",
              "  </svg>\n",
              "      </button>\n",
              "      \n",
              "  <style>\n",
              "    .colab-df-container {\n",
              "      display:flex;\n",
              "      flex-wrap:wrap;\n",
              "      gap: 12px;\n",
              "    }\n",
              "\n",
              "    .colab-df-convert {\n",
              "      background-color: #E8F0FE;\n",
              "      border: none;\n",
              "      border-radius: 50%;\n",
              "      cursor: pointer;\n",
              "      display: none;\n",
              "      fill: #1967D2;\n",
              "      height: 32px;\n",
              "      padding: 0 0 0 0;\n",
              "      width: 32px;\n",
              "    }\n",
              "\n",
              "    .colab-df-convert:hover {\n",
              "      background-color: #E2EBFA;\n",
              "      box-shadow: 0px 1px 2px rgba(60, 64, 67, 0.3), 0px 1px 3px 1px rgba(60, 64, 67, 0.15);\n",
              "      fill: #174EA6;\n",
              "    }\n",
              "\n",
              "    [theme=dark] .colab-df-convert {\n",
              "      background-color: #3B4455;\n",
              "      fill: #D2E3FC;\n",
              "    }\n",
              "\n",
              "    [theme=dark] .colab-df-convert:hover {\n",
              "      background-color: #434B5C;\n",
              "      box-shadow: 0px 1px 3px 1px rgba(0, 0, 0, 0.15);\n",
              "      filter: drop-shadow(0px 1px 2px rgba(0, 0, 0, 0.3));\n",
              "      fill: #FFFFFF;\n",
              "    }\n",
              "  </style>\n",
              "\n",
              "      <script>\n",
              "        const buttonEl =\n",
              "          document.querySelector('#df-46ff7392-926f-46cb-ae9b-04641da9a228 button.colab-df-convert');\n",
              "        buttonEl.style.display =\n",
              "          google.colab.kernel.accessAllowed ? 'block' : 'none';\n",
              "\n",
              "        async function convertToInteractive(key) {\n",
              "          const element = document.querySelector('#df-46ff7392-926f-46cb-ae9b-04641da9a228');\n",
              "          const dataTable =\n",
              "            await google.colab.kernel.invokeFunction('convertToInteractive',\n",
              "                                                     [key], {});\n",
              "          if (!dataTable) return;\n",
              "\n",
              "          const docLinkHtml = 'Like what you see? Visit the ' +\n",
              "            '<a target=\"_blank\" href=https://colab.research.google.com/notebooks/data_table.ipynb>data table notebook</a>'\n",
              "            + ' to learn more about interactive tables.';\n",
              "          element.innerHTML = '';\n",
              "          dataTable['output_type'] = 'display_data';\n",
              "          await google.colab.output.renderOutput(dataTable, element);\n",
              "          const docLink = document.createElement('div');\n",
              "          docLink.innerHTML = docLinkHtml;\n",
              "          element.appendChild(docLink);\n",
              "        }\n",
              "      </script>\n",
              "    </div>\n",
              "  </div>\n",
              "  "
            ]
          },
          "metadata": {},
          "execution_count": 67
        }
      ]
    },
    {
      "cell_type": "code",
      "source": [
        "# Imprimimos la forma de nuestra base de datos para realizar la separación de estos.\n",
        "data.shape"
      ],
      "metadata": {
        "colab": {
          "base_uri": "https://localhost:8080/"
        },
        "id": "g1KVTqwtrITa",
        "outputId": "3676c6d6-08c5-460a-b0ff-495a1df4d8c8"
      },
      "execution_count": null,
      "outputs": [
        {
          "output_type": "execute_result",
          "data": {
            "text/plain": [
              "(252, 15)"
            ]
          },
          "metadata": {},
          "execution_count": 68
        }
      ]
    },
    {
      "cell_type": "markdown",
      "source": [
        "## Realizamos la partición de nuestros datos\n",
        "En total tenemos 252 observaciones, por tanto 3/4 partes irán para entrenar nuestro modelo y 1/4 parte para el test."
      ],
      "metadata": {
        "id": "bd-fbocr09Zq"
      }
    },
    {
      "cell_type": "code",
      "source": [
        "# Nuestro objetivo será calcular el porcentaje masa muscular por tanto añadiremos esa columna a nuestras targets\n",
        "\n",
        "# 3/4 de 252\n",
        "train_targets=data.BodyFat[:189]\n",
        "# 1/4 de 252\n",
        "test_targets=data.BodyFat[190:]\n",
        "data=data.drop(['BodyFat'], axis=1)\n",
        "\n",
        "# El resto de variables serán los datos del modelo\n",
        "# 3/4 de 252\n",
        "train_data=data[:189]\n",
        "# 1/4 de 252\n",
        "test_data=data[190:]"
      ],
      "metadata": {
        "id": "uQSf9SCDdlkO"
      },
      "execution_count": null,
      "outputs": []
    },
    {
      "cell_type": "markdown",
      "source": [
        "## Imprimimos la forma de los datos"
      ],
      "metadata": {
        "id": "O17TH2eg4Erz"
      }
    },
    {
      "cell_type": "code",
      "source": [
        "train_data.shape"
      ],
      "metadata": {
        "colab": {
          "base_uri": "https://localhost:8080/"
        },
        "id": "Ihq6r5uOOW6n",
        "outputId": "ff17adf6-a7d7-4481-adf6-bf93091d9ab9"
      },
      "execution_count": null,
      "outputs": [
        {
          "output_type": "execute_result",
          "data": {
            "text/plain": [
              "(189, 14)"
            ]
          },
          "metadata": {},
          "execution_count": 70
        }
      ]
    },
    {
      "cell_type": "code",
      "source": [
        "test_data.shape"
      ],
      "metadata": {
        "colab": {
          "base_uri": "https://localhost:8080/"
        },
        "id": "I-bVV-rSOaD0",
        "outputId": "f161141a-a0ea-4bb5-db3b-72b63ceeeed4"
      },
      "execution_count": null,
      "outputs": [
        {
          "output_type": "execute_result",
          "data": {
            "text/plain": [
              "(62, 14)"
            ]
          },
          "metadata": {},
          "execution_count": 71
        }
      ]
    },
    {
      "cell_type": "code",
      "source": [
        "train_targets.shape"
      ],
      "metadata": {
        "colab": {
          "base_uri": "https://localhost:8080/"
        },
        "id": "PgibHgHhOagB",
        "outputId": "752da9ef-1d50-4350-87d6-50261be8e080"
      },
      "execution_count": null,
      "outputs": [
        {
          "output_type": "execute_result",
          "data": {
            "text/plain": [
              "(189,)"
            ]
          },
          "metadata": {},
          "execution_count": 72
        }
      ]
    },
    {
      "cell_type": "code",
      "source": [
        "test_targets.shape"
      ],
      "metadata": {
        "colab": {
          "base_uri": "https://localhost:8080/"
        },
        "id": "TwcoEhr0OaxP",
        "outputId": "6ff4044a-768c-4f79-f85a-9c8258f81555"
      },
      "execution_count": null,
      "outputs": [
        {
          "output_type": "execute_result",
          "data": {
            "text/plain": [
              "(62,)"
            ]
          },
          "metadata": {},
          "execution_count": 73
        }
      ]
    },
    {
      "cell_type": "markdown",
      "source": [
        "## Preparamos los datos normalizándolos"
      ],
      "metadata": {
        "id": "rjq3Myrt4ouH"
      }
    },
    {
      "cell_type": "code",
      "source": [
        "# Normalizamos basándonos en las características\n",
        "##############################################\n",
        "# Calculamos la media del primer eje de los datos de entrenamiento\n",
        "mean = train_data.mean(axis=0)\n",
        "print(\"##### Media de las 13 características de los datos de entrenamiento ##### \")\n",
        "print(mean)\n",
        "# A los datos de entrenamiento le restamos la media\n",
        "train_data -= mean\n",
        "\n",
        "# Calculamos la desviación estandar del primer eje de los datos de entrenamiento\n",
        "std = train_data.std(axis=0)\n",
        "print(\"##### Desviación estandar de las 13 características de los datos de entrenamiento ##### \")\n",
        "print(std)\n",
        "# A los datos de entrenamiento los dividimos por la desviación estándar\n",
        "train_data /= std\n",
        "\n",
        "\n",
        "# USAMOS LA MEDIA Y LA DESVIACIÓN ESTANDAR DE LOS DATOS DE \n",
        "# ENTRENAMIENTO PARA NORMALIZAR EL SET DE DATOS DE LOS DATOS DE TEST \n",
        "test_data -= mean\n",
        "test_data /= std\n"
      ],
      "metadata": {
        "colab": {
          "base_uri": "https://localhost:8080/"
        },
        "id": "Vm0wC3sVOnKA",
        "outputId": "46a4a1db-195d-4c46-c44b-c3dcee344309"
      },
      "execution_count": null,
      "outputs": [
        {
          "output_type": "stream",
          "name": "stdout",
          "text": [
            "##### Media de las 13 características de los datos de entrenamiento ##### \n",
            "Density      1.056924\n",
            "Age         41.888889\n",
            "Weight     178.469841\n",
            "Height      70.240741\n",
            "Neck        37.895767\n",
            "Chest      100.125926\n",
            "Abdomen     91.725397\n",
            "Hip         99.893122\n",
            "Thigh       59.613757\n",
            "Knee        38.515344\n",
            "Ankle       23.143915\n",
            "Biceps      32.289947\n",
            "Forearm     28.694709\n",
            "Wrist       18.173016\n",
            "dtype: float64\n",
            "##### Desviación estandar de las 13 características de los datos de entrenamiento ##### \n",
            "Density     0.018409\n",
            "Age        12.009453\n",
            "Weight     29.818886\n",
            "Height      3.966228\n",
            "Neck        2.492880\n",
            "Chest       8.167412\n",
            "Abdomen    10.598002\n",
            "Hip         7.353296\n",
            "Thigh       5.527727\n",
            "Knee        2.333641\n",
            "Ankle       1.793139\n",
            "Biceps      3.056377\n",
            "Forearm     2.015254\n",
            "Wrist       0.932773\n",
            "dtype: float64\n"
          ]
        }
      ]
    },
    {
      "cell_type": "markdown",
      "source": [
        "## Construimos el modelo "
      ],
      "metadata": {
        "id": "juRKc9CK5B8n"
      }
    },
    {
      "cell_type": "code",
      "source": [
        "def build_model():\n",
        "    model = models.Sequential()\n",
        "    model.add(layers.Dense(90, activation='relu',\n",
        "                           input_shape=(train_data.shape[1],)))\n",
        "    model.add(layers.Dense(90, activation='relu'))\n",
        "    model.add(layers.Dense(1))\n",
        "    # MSE: Mean Squared Error\n",
        "    # MAE: Mean Absolute Error\n",
        "    model.compile(optimizer='rmsprop', loss='mse', \n",
        "                  metrics=[tf.keras.metrics.MeanAbsoluteError()]) # metrics = ['mae']\n",
        "    return model"
      ],
      "metadata": {
        "id": "1Ko1B4Q3ZC_d"
      },
      "execution_count": null,
      "outputs": []
    },
    {
      "cell_type": "markdown",
      "source": [
        "## Realizamos las particiones de los datos de entrenamiento"
      ],
      "metadata": {
        "id": "jy25uZZn5PSn"
      }
    },
    {
      "cell_type": "code",
      "source": [
        "# 3/4 de 189 = 141\n",
        "# 1/4 de 189 = 48\n",
        "partial_train_data = train_data[:141]\n",
        "partial_eval_train_data = train_data[142:]\n",
        "partial_train_targets = train_targets[:141]\n",
        "partial_eval_train_targets = train_targets[142:]"
      ],
      "metadata": {
        "id": "019PQQ2MZmNd"
      },
      "execution_count": null,
      "outputs": []
    },
    {
      "cell_type": "code",
      "source": [
        "# Llamamos a nuestra función de construir modelo\n",
        "mymodel = build_model()"
      ],
      "metadata": {
        "id": "znQpv5fCZOOf"
      },
      "execution_count": null,
      "outputs": []
    },
    {
      "cell_type": "markdown",
      "source": [
        "## Entrenamos nuestro modelo\n",
        "\n",
        "Lo haremos con 100 épocas y un batch_size = 1"
      ],
      "metadata": {
        "id": "N4zr-wS96D8H"
      }
    },
    {
      "cell_type": "code",
      "source": [
        "history = mymodel.fit(partial_train_data, partial_train_targets,\n",
        "            validation_data=(partial_eval_train_data, partial_eval_train_targets),\n",
        "                        epochs=100, batch_size=1)"
      ],
      "metadata": {
        "colab": {
          "base_uri": "https://localhost:8080/"
        },
        "id": "-UAUOTQJZQte",
        "outputId": "8dba324f-7d80-4528-c618-7c7835ec12cb"
      },
      "execution_count": null,
      "outputs": [
        {
          "output_type": "stream",
          "name": "stdout",
          "text": [
            "Epoch 1/100\n",
            "141/141 [==============================] - 1s 3ms/step - loss: 243.0866 - mean_absolute_error: 13.1632 - val_loss: 84.4576 - val_mean_absolute_error: 7.4264\n",
            "Epoch 2/100\n",
            "141/141 [==============================] - 0s 2ms/step - loss: 70.2180 - mean_absolute_error: 6.3927 - val_loss: 37.7253 - val_mean_absolute_error: 5.0606\n",
            "Epoch 3/100\n",
            "141/141 [==============================] - 0s 2ms/step - loss: 33.8475 - mean_absolute_error: 4.1254 - val_loss: 20.7644 - val_mean_absolute_error: 3.6673\n",
            "Epoch 4/100\n",
            "141/141 [==============================] - 0s 2ms/step - loss: 15.8590 - mean_absolute_error: 2.6642 - val_loss: 14.3638 - val_mean_absolute_error: 3.1115\n",
            "Epoch 5/100\n",
            "141/141 [==============================] - 0s 2ms/step - loss: 8.3915 - mean_absolute_error: 2.0653 - val_loss: 12.0062 - val_mean_absolute_error: 2.7874\n",
            "Epoch 6/100\n",
            "141/141 [==============================] - 0s 2ms/step - loss: 6.6549 - mean_absolute_error: 1.8771 - val_loss: 13.0084 - val_mean_absolute_error: 2.6689\n",
            "Epoch 7/100\n",
            "141/141 [==============================] - 0s 2ms/step - loss: 5.0918 - mean_absolute_error: 1.6694 - val_loss: 11.1154 - val_mean_absolute_error: 2.7658\n",
            "Epoch 8/100\n",
            "141/141 [==============================] - 0s 2ms/step - loss: 4.2406 - mean_absolute_error: 1.4818 - val_loss: 7.8412 - val_mean_absolute_error: 2.1345\n",
            "Epoch 9/100\n",
            "141/141 [==============================] - 0s 2ms/step - loss: 3.1241 - mean_absolute_error: 1.2955 - val_loss: 7.5603 - val_mean_absolute_error: 2.1194\n",
            "Epoch 10/100\n",
            "141/141 [==============================] - 0s 2ms/step - loss: 2.8631 - mean_absolute_error: 1.2343 - val_loss: 7.1453 - val_mean_absolute_error: 1.9321\n",
            "Epoch 11/100\n",
            "141/141 [==============================] - 0s 3ms/step - loss: 3.2132 - mean_absolute_error: 1.2310 - val_loss: 5.8186 - val_mean_absolute_error: 1.8204\n",
            "Epoch 12/100\n",
            "141/141 [==============================] - 0s 2ms/step - loss: 2.1612 - mean_absolute_error: 1.0569 - val_loss: 5.0278 - val_mean_absolute_error: 1.5786\n",
            "Epoch 13/100\n",
            "141/141 [==============================] - 0s 2ms/step - loss: 2.0108 - mean_absolute_error: 1.0111 - val_loss: 5.8400 - val_mean_absolute_error: 1.6324\n",
            "Epoch 14/100\n",
            "141/141 [==============================] - 0s 3ms/step - loss: 1.8944 - mean_absolute_error: 0.8962 - val_loss: 4.5048 - val_mean_absolute_error: 1.5208\n",
            "Epoch 15/100\n",
            "141/141 [==============================] - 0s 2ms/step - loss: 1.5614 - mean_absolute_error: 0.8566 - val_loss: 5.0878 - val_mean_absolute_error: 1.5440\n",
            "Epoch 16/100\n",
            "141/141 [==============================] - 0s 3ms/step - loss: 1.3542 - mean_absolute_error: 0.8907 - val_loss: 4.1981 - val_mean_absolute_error: 1.4683\n",
            "Epoch 17/100\n",
            "141/141 [==============================] - 0s 2ms/step - loss: 1.4668 - mean_absolute_error: 0.8768 - val_loss: 3.5193 - val_mean_absolute_error: 1.2849\n",
            "Epoch 18/100\n",
            "141/141 [==============================] - 0s 2ms/step - loss: 1.1886 - mean_absolute_error: 0.7893 - val_loss: 3.6326 - val_mean_absolute_error: 1.5222\n",
            "Epoch 19/100\n",
            "141/141 [==============================] - 0s 2ms/step - loss: 1.2358 - mean_absolute_error: 0.8047 - val_loss: 3.5533 - val_mean_absolute_error: 1.3244\n",
            "Epoch 20/100\n",
            "141/141 [==============================] - 0s 2ms/step - loss: 1.1567 - mean_absolute_error: 0.7349 - val_loss: 3.4215 - val_mean_absolute_error: 1.3172\n",
            "Epoch 21/100\n",
            "141/141 [==============================] - 0s 2ms/step - loss: 1.2675 - mean_absolute_error: 0.7379 - val_loss: 3.2807 - val_mean_absolute_error: 1.4164\n",
            "Epoch 22/100\n",
            "141/141 [==============================] - 0s 2ms/step - loss: 1.1294 - mean_absolute_error: 0.6808 - val_loss: 2.6476 - val_mean_absolute_error: 1.2551\n",
            "Epoch 23/100\n",
            "141/141 [==============================] - 0s 2ms/step - loss: 1.0316 - mean_absolute_error: 0.6592 - val_loss: 2.6333 - val_mean_absolute_error: 1.1644\n",
            "Epoch 24/100\n",
            "141/141 [==============================] - 0s 2ms/step - loss: 1.1263 - mean_absolute_error: 0.6857 - val_loss: 3.1023 - val_mean_absolute_error: 1.2931\n",
            "Epoch 25/100\n",
            "141/141 [==============================] - 0s 2ms/step - loss: 0.9417 - mean_absolute_error: 0.6623 - val_loss: 3.3456 - val_mean_absolute_error: 1.1869\n",
            "Epoch 26/100\n",
            "141/141 [==============================] - 0s 2ms/step - loss: 1.0060 - mean_absolute_error: 0.6817 - val_loss: 2.5011 - val_mean_absolute_error: 1.2510\n",
            "Epoch 27/100\n",
            "141/141 [==============================] - 0s 2ms/step - loss: 0.9209 - mean_absolute_error: 0.6437 - val_loss: 2.6712 - val_mean_absolute_error: 1.1837\n",
            "Epoch 28/100\n",
            "141/141 [==============================] - 0s 2ms/step - loss: 1.0250 - mean_absolute_error: 0.6250 - val_loss: 3.3968 - val_mean_absolute_error: 1.3086\n",
            "Epoch 29/100\n",
            "141/141 [==============================] - 0s 2ms/step - loss: 0.7875 - mean_absolute_error: 0.6271 - val_loss: 3.1913 - val_mean_absolute_error: 1.3859\n",
            "Epoch 30/100\n",
            "141/141 [==============================] - 0s 2ms/step - loss: 0.8772 - mean_absolute_error: 0.5899 - val_loss: 2.3211 - val_mean_absolute_error: 1.0788\n",
            "Epoch 31/100\n",
            "141/141 [==============================] - 0s 2ms/step - loss: 0.8765 - mean_absolute_error: 0.6159 - val_loss: 2.5538 - val_mean_absolute_error: 1.0662\n",
            "Epoch 32/100\n",
            "141/141 [==============================] - 0s 2ms/step - loss: 0.8719 - mean_absolute_error: 0.6339 - val_loss: 2.0036 - val_mean_absolute_error: 0.9865\n",
            "Epoch 33/100\n",
            "141/141 [==============================] - 0s 2ms/step - loss: 0.7528 - mean_absolute_error: 0.5705 - val_loss: 3.8298 - val_mean_absolute_error: 1.4868\n",
            "Epoch 34/100\n",
            "141/141 [==============================] - 0s 2ms/step - loss: 0.8843 - mean_absolute_error: 0.6052 - val_loss: 1.9006 - val_mean_absolute_error: 0.9190\n",
            "Epoch 35/100\n",
            "141/141 [==============================] - 0s 2ms/step - loss: 0.7350 - mean_absolute_error: 0.6188 - val_loss: 2.0441 - val_mean_absolute_error: 1.0465\n",
            "Epoch 36/100\n",
            "141/141 [==============================] - 0s 2ms/step - loss: 0.9271 - mean_absolute_error: 0.6160 - val_loss: 2.1908 - val_mean_absolute_error: 1.0193\n",
            "Epoch 37/100\n",
            "141/141 [==============================] - 0s 2ms/step - loss: 0.8183 - mean_absolute_error: 0.6042 - val_loss: 1.8626 - val_mean_absolute_error: 0.9912\n",
            "Epoch 38/100\n",
            "141/141 [==============================] - 0s 2ms/step - loss: 0.6461 - mean_absolute_error: 0.5251 - val_loss: 2.0505 - val_mean_absolute_error: 1.0735\n",
            "Epoch 39/100\n",
            "141/141 [==============================] - 0s 2ms/step - loss: 0.7516 - mean_absolute_error: 0.6090 - val_loss: 2.0707 - val_mean_absolute_error: 0.9681\n",
            "Epoch 40/100\n",
            "141/141 [==============================] - 0s 2ms/step - loss: 0.7656 - mean_absolute_error: 0.5631 - val_loss: 2.1843 - val_mean_absolute_error: 1.0964\n",
            "Epoch 41/100\n",
            "141/141 [==============================] - 0s 2ms/step - loss: 0.8728 - mean_absolute_error: 0.5622 - val_loss: 2.2958 - val_mean_absolute_error: 1.1336\n",
            "Epoch 42/100\n",
            "141/141 [==============================] - 0s 2ms/step - loss: 0.6435 - mean_absolute_error: 0.5435 - val_loss: 1.9861 - val_mean_absolute_error: 1.0464\n",
            "Epoch 43/100\n",
            "141/141 [==============================] - 0s 2ms/step - loss: 0.5978 - mean_absolute_error: 0.5566 - val_loss: 2.0446 - val_mean_absolute_error: 1.1455\n",
            "Epoch 44/100\n",
            "141/141 [==============================] - 0s 2ms/step - loss: 0.7358 - mean_absolute_error: 0.5226 - val_loss: 2.7808 - val_mean_absolute_error: 1.2231\n",
            "Epoch 45/100\n",
            "141/141 [==============================] - 0s 2ms/step - loss: 0.7650 - mean_absolute_error: 0.5541 - val_loss: 1.8093 - val_mean_absolute_error: 0.9813\n",
            "Epoch 46/100\n",
            "141/141 [==============================] - 0s 2ms/step - loss: 0.7475 - mean_absolute_error: 0.5774 - val_loss: 2.4027 - val_mean_absolute_error: 1.0539\n",
            "Epoch 47/100\n",
            "141/141 [==============================] - 0s 3ms/step - loss: 0.7427 - mean_absolute_error: 0.5723 - val_loss: 2.2627 - val_mean_absolute_error: 1.2393\n",
            "Epoch 48/100\n",
            "141/141 [==============================] - 0s 2ms/step - loss: 0.7254 - mean_absolute_error: 0.5756 - val_loss: 2.5151 - val_mean_absolute_error: 1.2087\n",
            "Epoch 49/100\n",
            "141/141 [==============================] - 0s 2ms/step - loss: 0.8515 - mean_absolute_error: 0.5691 - val_loss: 2.3764 - val_mean_absolute_error: 1.2233\n",
            "Epoch 50/100\n",
            "141/141 [==============================] - 0s 2ms/step - loss: 0.6509 - mean_absolute_error: 0.4862 - val_loss: 3.4243 - val_mean_absolute_error: 1.4669\n",
            "Epoch 51/100\n",
            "141/141 [==============================] - 0s 2ms/step - loss: 0.6682 - mean_absolute_error: 0.5286 - val_loss: 2.7015 - val_mean_absolute_error: 1.2806\n",
            "Epoch 52/100\n",
            "141/141 [==============================] - 0s 2ms/step - loss: 0.8167 - mean_absolute_error: 0.5364 - val_loss: 1.9186 - val_mean_absolute_error: 0.9323\n",
            "Epoch 53/100\n",
            "141/141 [==============================] - 0s 2ms/step - loss: 0.5976 - mean_absolute_error: 0.5603 - val_loss: 2.2544 - val_mean_absolute_error: 1.2080\n",
            "Epoch 54/100\n",
            "141/141 [==============================] - 0s 2ms/step - loss: 0.6438 - mean_absolute_error: 0.5366 - val_loss: 1.6531 - val_mean_absolute_error: 0.8990\n",
            "Epoch 55/100\n",
            "141/141 [==============================] - 0s 2ms/step - loss: 0.5487 - mean_absolute_error: 0.4814 - val_loss: 2.2856 - val_mean_absolute_error: 0.9854\n",
            "Epoch 56/100\n",
            "141/141 [==============================] - 0s 2ms/step - loss: 0.5611 - mean_absolute_error: 0.5207 - val_loss: 2.7914 - val_mean_absolute_error: 1.3079\n",
            "Epoch 57/100\n",
            "141/141 [==============================] - 0s 2ms/step - loss: 0.5974 - mean_absolute_error: 0.5384 - val_loss: 2.1715 - val_mean_absolute_error: 1.0410\n",
            "Epoch 58/100\n",
            "141/141 [==============================] - 0s 2ms/step - loss: 0.5277 - mean_absolute_error: 0.5419 - val_loss: 2.4423 - val_mean_absolute_error: 1.2180\n",
            "Epoch 59/100\n",
            "141/141 [==============================] - 0s 2ms/step - loss: 0.7452 - mean_absolute_error: 0.5598 - val_loss: 2.7979 - val_mean_absolute_error: 1.2151\n",
            "Epoch 60/100\n",
            "141/141 [==============================] - 0s 2ms/step - loss: 0.6236 - mean_absolute_error: 0.5039 - val_loss: 1.9638 - val_mean_absolute_error: 0.9970\n",
            "Epoch 61/100\n",
            "141/141 [==============================] - 0s 2ms/step - loss: 0.6125 - mean_absolute_error: 0.5659 - val_loss: 2.0458 - val_mean_absolute_error: 0.9950\n",
            "Epoch 62/100\n",
            "141/141 [==============================] - 0s 2ms/step - loss: 0.5185 - mean_absolute_error: 0.4709 - val_loss: 2.9746 - val_mean_absolute_error: 1.2820\n",
            "Epoch 63/100\n",
            "141/141 [==============================] - 0s 2ms/step - loss: 0.6261 - mean_absolute_error: 0.5118 - val_loss: 2.6949 - val_mean_absolute_error: 1.2871\n",
            "Epoch 64/100\n",
            "141/141 [==============================] - 0s 2ms/step - loss: 0.6831 - mean_absolute_error: 0.5285 - val_loss: 2.0782 - val_mean_absolute_error: 1.0097\n",
            "Epoch 65/100\n",
            "141/141 [==============================] - 0s 2ms/step - loss: 0.5720 - mean_absolute_error: 0.5106 - val_loss: 2.5226 - val_mean_absolute_error: 1.0665\n",
            "Epoch 66/100\n",
            "141/141 [==============================] - 0s 2ms/step - loss: 0.6139 - mean_absolute_error: 0.5335 - val_loss: 1.8246 - val_mean_absolute_error: 1.0070\n",
            "Epoch 67/100\n",
            "141/141 [==============================] - 0s 2ms/step - loss: 0.5752 - mean_absolute_error: 0.4992 - val_loss: 2.1932 - val_mean_absolute_error: 1.0708\n",
            "Epoch 68/100\n",
            "141/141 [==============================] - 0s 2ms/step - loss: 0.5403 - mean_absolute_error: 0.5244 - val_loss: 2.1085 - val_mean_absolute_error: 1.0782\n",
            "Epoch 69/100\n",
            "141/141 [==============================] - 0s 2ms/step - loss: 0.5855 - mean_absolute_error: 0.5619 - val_loss: 2.1749 - val_mean_absolute_error: 1.1502\n",
            "Epoch 70/100\n",
            "141/141 [==============================] - 0s 2ms/step - loss: 0.5087 - mean_absolute_error: 0.5058 - val_loss: 2.1703 - val_mean_absolute_error: 1.1700\n",
            "Epoch 71/100\n",
            "141/141 [==============================] - 0s 2ms/step - loss: 0.5828 - mean_absolute_error: 0.5459 - val_loss: 2.6447 - val_mean_absolute_error: 1.2542\n",
            "Epoch 72/100\n",
            "141/141 [==============================] - 0s 2ms/step - loss: 0.5746 - mean_absolute_error: 0.5058 - val_loss: 2.2835 - val_mean_absolute_error: 1.1042\n",
            "Epoch 73/100\n",
            "141/141 [==============================] - 0s 2ms/step - loss: 0.4767 - mean_absolute_error: 0.4682 - val_loss: 2.6364 - val_mean_absolute_error: 1.1884\n",
            "Epoch 74/100\n",
            "141/141 [==============================] - 0s 2ms/step - loss: 0.5806 - mean_absolute_error: 0.5168 - val_loss: 1.9212 - val_mean_absolute_error: 0.9779\n",
            "Epoch 75/100\n",
            "141/141 [==============================] - 0s 2ms/step - loss: 0.7492 - mean_absolute_error: 0.5280 - val_loss: 1.9694 - val_mean_absolute_error: 1.0473\n",
            "Epoch 76/100\n",
            "141/141 [==============================] - 0s 2ms/step - loss: 0.9003 - mean_absolute_error: 0.4916 - val_loss: 1.6754 - val_mean_absolute_error: 0.9196\n",
            "Epoch 77/100\n",
            "141/141 [==============================] - 0s 2ms/step - loss: 0.4307 - mean_absolute_error: 0.4473 - val_loss: 2.1270 - val_mean_absolute_error: 1.0869\n",
            "Epoch 78/100\n",
            "141/141 [==============================] - 0s 2ms/step - loss: 0.6620 - mean_absolute_error: 0.5095 - val_loss: 2.1272 - val_mean_absolute_error: 1.0176\n",
            "Epoch 79/100\n",
            "141/141 [==============================] - 0s 2ms/step - loss: 0.5131 - mean_absolute_error: 0.4852 - val_loss: 2.1376 - val_mean_absolute_error: 1.1806\n",
            "Epoch 80/100\n",
            "141/141 [==============================] - 0s 2ms/step - loss: 0.6098 - mean_absolute_error: 0.4838 - val_loss: 1.7432 - val_mean_absolute_error: 0.9786\n",
            "Epoch 81/100\n",
            "141/141 [==============================] - 0s 2ms/step - loss: 0.4174 - mean_absolute_error: 0.4687 - val_loss: 3.4390 - val_mean_absolute_error: 1.4368\n",
            "Epoch 82/100\n",
            "141/141 [==============================] - 0s 2ms/step - loss: 0.5037 - mean_absolute_error: 0.5168 - val_loss: 1.6842 - val_mean_absolute_error: 0.9502\n",
            "Epoch 83/100\n",
            "141/141 [==============================] - 0s 2ms/step - loss: 0.5359 - mean_absolute_error: 0.4900 - val_loss: 2.2280 - val_mean_absolute_error: 1.0163\n",
            "Epoch 84/100\n",
            "141/141 [==============================] - 0s 2ms/step - loss: 0.4988 - mean_absolute_error: 0.4673 - val_loss: 2.0936 - val_mean_absolute_error: 1.1230\n",
            "Epoch 85/100\n",
            "141/141 [==============================] - 0s 2ms/step - loss: 0.5012 - mean_absolute_error: 0.4815 - val_loss: 2.3851 - val_mean_absolute_error: 1.1985\n",
            "Epoch 86/100\n",
            "141/141 [==============================] - 0s 2ms/step - loss: 0.6380 - mean_absolute_error: 0.4992 - val_loss: 1.9853 - val_mean_absolute_error: 1.1657\n",
            "Epoch 87/100\n",
            "141/141 [==============================] - 0s 2ms/step - loss: 0.5100 - mean_absolute_error: 0.4730 - val_loss: 1.9061 - val_mean_absolute_error: 1.0023\n",
            "Epoch 88/100\n",
            "141/141 [==============================] - 0s 2ms/step - loss: 0.4474 - mean_absolute_error: 0.5038 - val_loss: 1.9924 - val_mean_absolute_error: 1.0037\n",
            "Epoch 89/100\n",
            "141/141 [==============================] - 0s 2ms/step - loss: 0.4837 - mean_absolute_error: 0.4925 - val_loss: 2.0992 - val_mean_absolute_error: 1.0749\n",
            "Epoch 90/100\n",
            "141/141 [==============================] - 0s 2ms/step - loss: 0.4428 - mean_absolute_error: 0.4693 - val_loss: 1.9697 - val_mean_absolute_error: 1.0412\n",
            "Epoch 91/100\n",
            "141/141 [==============================] - 0s 2ms/step - loss: 0.6657 - mean_absolute_error: 0.5194 - val_loss: 1.9246 - val_mean_absolute_error: 0.9896\n",
            "Epoch 92/100\n",
            "141/141 [==============================] - 0s 2ms/step - loss: 0.4340 - mean_absolute_error: 0.4827 - val_loss: 2.0226 - val_mean_absolute_error: 1.0278\n",
            "Epoch 93/100\n",
            "141/141 [==============================] - 0s 3ms/step - loss: 0.4134 - mean_absolute_error: 0.4468 - val_loss: 1.7504 - val_mean_absolute_error: 1.0389\n",
            "Epoch 94/100\n",
            "141/141 [==============================] - 0s 2ms/step - loss: 0.4418 - mean_absolute_error: 0.4871 - val_loss: 2.0449 - val_mean_absolute_error: 1.0000\n",
            "Epoch 95/100\n",
            "141/141 [==============================] - 0s 2ms/step - loss: 0.3909 - mean_absolute_error: 0.4578 - val_loss: 2.7483 - val_mean_absolute_error: 1.3099\n",
            "Epoch 96/100\n",
            "141/141 [==============================] - 0s 2ms/step - loss: 0.5914 - mean_absolute_error: 0.4818 - val_loss: 1.6698 - val_mean_absolute_error: 0.9271\n",
            "Epoch 97/100\n",
            "141/141 [==============================] - 0s 2ms/step - loss: 0.6208 - mean_absolute_error: 0.5278 - val_loss: 1.7448 - val_mean_absolute_error: 0.9103\n",
            "Epoch 98/100\n",
            "141/141 [==============================] - 0s 3ms/step - loss: 0.4216 - mean_absolute_error: 0.4341 - val_loss: 1.6617 - val_mean_absolute_error: 0.9982\n",
            "Epoch 99/100\n",
            "141/141 [==============================] - 1s 7ms/step - loss: 0.4008 - mean_absolute_error: 0.4376 - val_loss: 1.6649 - val_mean_absolute_error: 0.9664\n",
            "Epoch 100/100\n",
            "141/141 [==============================] - 0s 3ms/step - loss: 0.4038 - mean_absolute_error: 0.4389 - val_loss: 1.7629 - val_mean_absolute_error: 0.9608\n"
          ]
        }
      ]
    },
    {
      "cell_type": "code",
      "source": [
        "mae_history = history.history['val_mean_absolute_error']\n",
        "accuracy= np.mean(mae_history)\n",
        "accuracy"
      ],
      "metadata": {
        "id": "i_mRL-sMd8_C",
        "colab": {
          "base_uri": "https://localhost:8080/"
        },
        "outputId": "e3dddcbb-da6d-4d4b-e0e1-bfd1f589bea1"
      },
      "execution_count": null,
      "outputs": [
        {
          "output_type": "execute_result",
          "data": {
            "text/plain": [
              "1.3768435555696488"
            ]
          },
          "metadata": {},
          "execution_count": 79
        }
      ]
    },
    {
      "cell_type": "markdown",
      "source": [
        "Aún estamos desviados 1.37% de la masa corporal. "
      ],
      "metadata": {
        "id": "23UbDwJY66N5"
      }
    },
    {
      "cell_type": "code",
      "source": [
        "mse_history = history.history['val_loss']"
      ],
      "metadata": {
        "id": "TghrxcY-ek0B"
      },
      "execution_count": null,
      "outputs": []
    },
    {
      "cell_type": "markdown",
      "source": [
        "Confrontamos en una gráfica de épocas en el eje de abcisas contra pérdida (MSE) en el eje de ordenadas\n",
        "\n",
        "Podemos ver que a partir de la época 20 se genera sobreentrenamiento debido a que nuestro modelo deja de mejorar ya que como podemos ver la gráfica se estabiliza y dejamos de mejorar a partir de ese momento."
      ],
      "metadata": {
        "id": "DllLRVSn7Ere"
      }
    },
    {
      "cell_type": "code",
      "source": [
        "plt.plot(range(1, len(mse_history) + 1), mse_history)\n",
        "plt.xlabel('Epochs')\n",
        "plt.ylabel('Validación MSE')\n",
        "plt.show()"
      ],
      "metadata": {
        "id": "gcfWuM20hopF",
        "colab": {
          "base_uri": "https://localhost:8080/",
          "height": 279
        },
        "outputId": "4baf3aaa-b67d-4472-db45-76801202e0d7"
      },
      "execution_count": null,
      "outputs": [
        {
          "output_type": "display_data",
          "data": {
            "text/plain": [
              "<Figure size 432x288 with 1 Axes>"
            ],
            "image/png": "[encoded data removed]"
          },
          "metadata": {
            "needs_background": "light"
          }
        }
      ]
    },
    {
      "cell_type": "markdown",
      "source": [
        "Esta gráfica nos sirve para visualizar como se ajustan los datos de validación con los de entreno, \n",
        "como están bastante juntos podemos asegurar que está funcionando correctamente"
      ],
      "metadata": {
        "id": "fg865tXpElRh"
      }
    },
    {
      "cell_type": "code",
      "source": [
        "loss = history.history['loss']\n",
        "val_loss = history.history['val_loss']\n",
        "\n",
        "epochs = range(1, len(loss) + 1)\n",
        "\n",
        "plt.plot(epochs, loss, 'bo', label='Pérdida del entreno')\n",
        "plt.plot(epochs, val_loss, 'b', label='Pérdida de la validación')\n",
        "plt.title('Perdidas del entreno y la validación')\n",
        "plt.xlabel('Épocas')\n",
        "plt.ylabel('Pérdida')\n",
        "plt.legend()\n",
        "\n",
        "plt.show()"
      ],
      "metadata": {
        "id": "DNuqDK1Zhq1X",
        "colab": {
          "base_uri": "https://localhost:8080/",
          "height": 297
        },
        "outputId": "18da0404-b330-430d-d9af-250681c386f7"
      },
      "execution_count": null,
      "outputs": [
        {
          "output_type": "display_data",
          "data": {
            "text/plain": [
              "<Figure size 432x288 with 1 Axes>"
            ],
            "image/png": "[encoded data removed]"
          },
          "metadata": {
            "needs_background": "light"
          }
        }
      ]
    },
    {
      "cell_type": "markdown",
      "source": [
        "Confrontamos en una gráfica de épocas en el eje de abcisas contra la métrica de \n",
        "error absoluto medio (MAE)\n",
        "\n",
        "Esta gráfica nos ayuda a verificar que se genera sobreentramiento a partir de la época 20."
      ],
      "metadata": {
        "id": "PBwTC5gm71Pb"
      }
    },
    {
      "cell_type": "code",
      "source": [
        "plt.plot(range(1, len(mae_history) + 1), mae_history)\n",
        "plt.xlabel('Epochs')\n",
        "plt.ylabel('Validación MAE')\n",
        "plt.show()"
      ],
      "metadata": {
        "id": "mClz2sAGhsra",
        "colab": {
          "base_uri": "https://localhost:8080/",
          "height": 279
        },
        "outputId": "9c98012c-1e0b-4ed9-e413-ffea7524c013"
      },
      "execution_count": null,
      "outputs": [
        {
          "output_type": "display_data",
          "data": {
            "text/plain": [
              "<Figure size 432x288 with 1 Axes>"
            ],
            "image/png": "[encoded data removed]"
          },
          "metadata": {
            "needs_background": "light"
          }
        }
      ]
    },
    {
      "cell_type": "markdown",
      "source": [
        "Esta gráfica funciona algo peor que la anterior pero sigue funcionando bastante bien"
      ],
      "metadata": {
        "id": "uoJysI14D3qL"
      }
    },
    {
      "cell_type": "code",
      "source": [
        "loss = history.history['mean_absolute_error']\n",
        "val_loss = history.history['val_mean_absolute_error']\n",
        "\n",
        "epochs = range(1, len(loss) + 1)\n",
        "\n",
        "plt.plot(epochs, loss, 'bo', label='Pérdida del entreno')\n",
        "plt.plot(epochs, val_loss, 'b', label='Pérdida de la validación')\n",
        "plt.title('Perdidas del entreno y la validación')\n",
        "plt.xlabel('Épocas')\n",
        "plt.ylabel('Pérdida')\n",
        "plt.legend()\n",
        "\n",
        "plt.show()"
      ],
      "metadata": {
        "id": "njh5NgIDhutt",
        "colab": {
          "base_uri": "https://localhost:8080/",
          "height": 297
        },
        "outputId": "b9259ac1-40d6-41ad-911c-b1a5faf92464"
      },
      "execution_count": null,
      "outputs": [
        {
          "output_type": "display_data",
          "data": {
            "text/plain": [
              "<Figure size 432x288 with 1 Axes>"
            ],
            "image/png": "[encoded data removed]"
          },
          "metadata": {
            "needs_background": "light"
          }
        }
      ]
    },
    {
      "cell_type": "markdown",
      "source": [
        "Entrenamos de nuevo el modelo el número de épocas adecuado para evitar overfitting"
      ],
      "metadata": {
        "id": "vR0_hj9N8LWf"
      }
    },
    {
      "cell_type": "code",
      "source": [
        "mymodel2 = build_model()\n",
        "history2 = mymodel2.fit(partial_train_data, partial_train_targets,\n",
        "            validation_data=(partial_eval_train_data, partial_eval_train_targets),\n",
        "                        epochs=20, batch_size=1)"
      ],
      "metadata": {
        "id": "jfLmuPaUhwhV",
        "colab": {
          "base_uri": "https://localhost:8080/"
        },
        "outputId": "0d7bccb4-7831-454f-9a3c-1930f6c83208"
      },
      "execution_count": null,
      "outputs": [
        {
          "output_type": "stream",
          "name": "stdout",
          "text": [
            "Epoch 1/20\n",
            "141/141 [==============================] - 1s 3ms/step - loss: 253.0373 - mean_absolute_error: 13.8530 - val_loss: 72.1150 - val_mean_absolute_error: 6.5754\n",
            "Epoch 2/20\n",
            "141/141 [==============================] - 0s 2ms/step - loss: 69.6591 - mean_absolute_error: 6.1296 - val_loss: 37.2228 - val_mean_absolute_error: 4.8390\n",
            "Epoch 3/20\n",
            "141/141 [==============================] - 0s 2ms/step - loss: 32.3354 - mean_absolute_error: 3.9806 - val_loss: 21.0864 - val_mean_absolute_error: 3.6850\n",
            "Epoch 4/20\n",
            "141/141 [==============================] - 0s 2ms/step - loss: 16.1589 - mean_absolute_error: 2.7267 - val_loss: 12.0527 - val_mean_absolute_error: 2.9223\n",
            "Epoch 5/20\n",
            "141/141 [==============================] - 0s 2ms/step - loss: 11.0177 - mean_absolute_error: 2.2366 - val_loss: 8.5719 - val_mean_absolute_error: 2.4017\n",
            "Epoch 6/20\n",
            "141/141 [==============================] - 0s 2ms/step - loss: 7.6707 - mean_absolute_error: 1.7600 - val_loss: 8.0124 - val_mean_absolute_error: 2.3996\n",
            "Epoch 7/20\n",
            "141/141 [==============================] - 0s 2ms/step - loss: 5.7405 - mean_absolute_error: 1.6218 - val_loss: 6.3558 - val_mean_absolute_error: 2.0519\n",
            "Epoch 8/20\n",
            "141/141 [==============================] - 0s 2ms/step - loss: 4.1488 - mean_absolute_error: 1.4652 - val_loss: 5.4668 - val_mean_absolute_error: 1.7794\n",
            "Epoch 9/20\n",
            "141/141 [==============================] - 0s 2ms/step - loss: 3.5662 - mean_absolute_error: 1.2992 - val_loss: 5.2138 - val_mean_absolute_error: 1.9304\n",
            "Epoch 10/20\n",
            "141/141 [==============================] - 0s 2ms/step - loss: 3.3364 - mean_absolute_error: 1.2870 - val_loss: 5.3105 - val_mean_absolute_error: 1.6969\n",
            "Epoch 11/20\n",
            "141/141 [==============================] - 0s 2ms/step - loss: 2.4250 - mean_absolute_error: 1.1554 - val_loss: 4.0337 - val_mean_absolute_error: 1.6749\n",
            "Epoch 12/20\n",
            "141/141 [==============================] - 0s 2ms/step - loss: 1.9761 - mean_absolute_error: 1.0414 - val_loss: 4.2180 - val_mean_absolute_error: 1.5747\n",
            "Epoch 13/20\n",
            "141/141 [==============================] - 0s 2ms/step - loss: 1.7929 - mean_absolute_error: 0.9535 - val_loss: 2.8718 - val_mean_absolute_error: 1.3501\n",
            "Epoch 14/20\n",
            "141/141 [==============================] - 0s 3ms/step - loss: 1.7106 - mean_absolute_error: 0.9113 - val_loss: 2.8574 - val_mean_absolute_error: 1.3598\n",
            "Epoch 15/20\n",
            "141/141 [==============================] - 0s 2ms/step - loss: 1.5806 - mean_absolute_error: 0.8480 - val_loss: 2.7579 - val_mean_absolute_error: 1.3942\n",
            "Epoch 16/20\n",
            "141/141 [==============================] - 0s 2ms/step - loss: 1.4208 - mean_absolute_error: 0.7964 - val_loss: 2.4930 - val_mean_absolute_error: 1.2737\n",
            "Epoch 17/20\n",
            "141/141 [==============================] - 0s 2ms/step - loss: 1.2820 - mean_absolute_error: 0.7914 - val_loss: 2.5440 - val_mean_absolute_error: 1.1920\n",
            "Epoch 18/20\n",
            "141/141 [==============================] - 0s 2ms/step - loss: 1.2144 - mean_absolute_error: 0.7207 - val_loss: 2.9535 - val_mean_absolute_error: 1.4509\n",
            "Epoch 19/20\n",
            "141/141 [==============================] - 0s 2ms/step - loss: 1.0045 - mean_absolute_error: 0.7070 - val_loss: 1.7914 - val_mean_absolute_error: 1.0122\n",
            "Epoch 20/20\n",
            "141/141 [==============================] - 0s 2ms/step - loss: 1.1333 - mean_absolute_error: 0.6630 - val_loss: 2.5113 - val_mean_absolute_error: 1.2797\n"
          ]
        }
      ]
    },
    {
      "cell_type": "code",
      "source": [
        "mae_history2 = history2.history['val_mean_absolute_error']\n",
        "mse_history2 = history2.history['val_loss']\n",
        "\n",
        "\n",
        "plt.plot(range(1, len(mse_history2) + 1), mse_history2)\n",
        "plt.xlabel('Epochs')\n",
        "plt.ylabel('Validación MSE')\n",
        "plt.show()"
      ],
      "metadata": {
        "id": "gU22Ja5mh0T9",
        "colab": {
          "base_uri": "https://localhost:8080/",
          "height": 279
        },
        "outputId": "a8efde87-74fa-4bd2-f063-9aef47b736a0"
      },
      "execution_count": null,
      "outputs": [
        {
          "output_type": "display_data",
          "data": {
            "text/plain": [
              "<Figure size 432x288 with 1 Axes>"
            ],
            "image/png": "[encoded data removed]"
          },
          "metadata": {
            "needs_background": "light"
          }
        }
      ]
    },
    {
      "cell_type": "code",
      "source": [
        "loss = history2.history['loss']\n",
        "val_loss = history2.history['val_loss']\n",
        "\n",
        "epochs = range(1, len(loss) + 1)\n",
        "\n",
        "plt.plot(epochs, loss, 'bo', label='Pérdida del entreno')\n",
        "plt.plot(epochs, val_loss, 'b', label='Pérdida de la validación')\n",
        "plt.title('Perdidas del entreno y la validación')\n",
        "plt.xlabel('Épocas')\n",
        "plt.ylabel('Pérdida')\n",
        "plt.legend()\n",
        "\n",
        "plt.show()"
      ],
      "metadata": {
        "colab": {
          "base_uri": "https://localhost:8080/",
          "height": 297
        },
        "id": "fndDkin2zg-2",
        "outputId": "9cead144-1913-4350-b48e-8e3c2854605d"
      },
      "execution_count": null,
      "outputs": [
        {
          "output_type": "display_data",
          "data": {
            "text/plain": [
              "<Figure size 432x288 with 1 Axes>"
            ],
            "image/png": "[encoded data removed]"
          },
          "metadata": {
            "needs_background": "light"
          }
        }
      ]
    },
    {
      "cell_type": "code",
      "source": [
        "plt.plot(range(1, len(mae_history2) + 1), mae_history2)\n",
        "plt.xlabel('Epochs')\n",
        "plt.ylabel('Validación MAE')\n",
        "plt.show()"
      ],
      "metadata": {
        "colab": {
          "base_uri": "https://localhost:8080/",
          "height": 279
        },
        "id": "T7EKvl0ozS_z",
        "outputId": "f96e223b-d000-4b1a-88a1-53e9b7f23980"
      },
      "execution_count": null,
      "outputs": [
        {
          "output_type": "display_data",
          "data": {
            "text/plain": [
              "<Figure size 432x288 with 1 Axes>"
            ],
            "image/png": "[encoded data removed]"
          },
          "metadata": {
            "needs_background": "light"
          }
        }
      ]
    },
    {
      "cell_type": "markdown",
      "source": [
        "Podemos ver como funciona bastante bien durante todas las épocas. Esto significa que hemos ajustado bien las épocas a nuestro modelo."
      ],
      "metadata": {
        "id": "hK50c2NJEuvD"
      }
    },
    {
      "cell_type": "code",
      "source": [
        "loss = history2.history['mean_absolute_error']\n",
        "val_loss = history2.history['val_mean_absolute_error']\n",
        "\n",
        "epochs = range(1, len(loss) + 1)\n",
        "\n",
        "plt.plot(epochs, loss, 'bo', label='Pérdida del entreno')\n",
        "plt.plot(epochs, val_loss, 'b', label='Pérdida de la validación')\n",
        "plt.title('Perdidas del entreno y la validación')\n",
        "plt.xlabel('Épocas')\n",
        "plt.ylabel('Pérdida')\n",
        "plt.legend()\n",
        "\n",
        "plt.show()"
      ],
      "metadata": {
        "colab": {
          "base_uri": "https://localhost:8080/",
          "height": 297
        },
        "id": "r3YsiMvFzrEM",
        "outputId": "c0f38ad7-df64-448f-ef36-35a7835d2818"
      },
      "execution_count": null,
      "outputs": [
        {
          "output_type": "display_data",
          "data": {
            "text/plain": [
              "<Figure size 432x288 with 1 Axes>"
            ],
            "image/png": "[encoded data removed]"
          },
          "metadata": {
            "needs_background": "light"
          }
        }
      ]
    },
    {
      "cell_type": "markdown",
      "source": [
        "## Validamos nuestro enfoque usando la **validación K-fold o K-iteraciones**"
      ],
      "metadata": {
        "id": "T2QcEVdm83Uh"
      }
    },
    {
      "cell_type": "code",
      "source": [
        "import numpy as np\n",
        "\n",
        "# k= 4 particiones\n",
        "k = 4\n",
        "num_val_samples = len(train_data) // k # 404//4=101\n",
        "print(\"num_val_samples\", num_val_samples)\n",
        "num_epochs = 100\n",
        "all_scores = []\n",
        "for i in range(k):\n",
        "    print('processing fold #', i)\n",
        "    # Preparamos la validación de los datos: datos de la partición #k\n",
        "    print(\"Uso para validar el siguiente rango de datos de entrenamiento -> [\",(i * num_val_samples),\":\",((i + 1) * num_val_samples),\"]\")\n",
        "    val_data = train_data[i * num_val_samples: (i + 1) * num_val_samples]\n",
        "    val_targets = train_targets[i * num_val_samples: (i + 1) * num_val_samples]\n",
        "\n",
        "    # Preparamos los datos de entrenamiento: Datos de las demás particiones\n",
        "    print(\"Uso para entrenar el siguiente rango de datos de entrenamiento -> [0:\",(i * num_val_samples),\"]U[\",(i + 1) * num_val_samples,\":\",len(train_data),\"]\")\n",
        "    partial_train_data = np.concatenate(\n",
        "        [train_data[:i * num_val_samples],\n",
        "         train_data[(i + 1) * num_val_samples:]],\n",
        "        axis=0)\n",
        "    partial_train_targets = np.concatenate(\n",
        "        [train_targets[:i * num_val_samples],\n",
        "         train_targets[(i + 1) * num_val_samples:]],\n",
        "        axis=0)\n",
        "\n",
        "    # Construcción del modelo Keras (ya compilado)\n",
        "    model = build_model()\n",
        "    # Entrenando el modelo (en modo silencioso, verbose=0)\n",
        "    model.fit(partial_train_data, partial_train_targets,\n",
        "              epochs=num_epochs, batch_size=1, verbose=0)\n",
        "    # Evalua el modelo sobre los datos de validación\n",
        "    val_mse, val_mae = model.evaluate(val_data, val_targets, verbose=0)\n",
        "    all_scores.append(val_mae)"
      ],
      "metadata": {
        "colab": {
          "base_uri": "https://localhost:8080/"
        },
        "id": "DOW7NSVl1enn",
        "outputId": "4852de9e-5da7-4de5-f564-5e9399e56594"
      },
      "execution_count": null,
      "outputs": [
        {
          "output_type": "stream",
          "name": "stdout",
          "text": [
            "num_val_samples 47\n",
            "processing fold # 0\n",
            "Uso para validar el siguiente rango de datos de entrenamiento -> [ 0 : 47 ]\n",
            "Uso para entrenar el siguiente rango de datos de entrenamiento -> [0: 0 ]U[ 47 : 189 ]\n",
            "processing fold # 1\n",
            "Uso para validar el siguiente rango de datos de entrenamiento -> [ 47 : 94 ]\n",
            "Uso para entrenar el siguiente rango de datos de entrenamiento -> [0: 47 ]U[ 94 : 189 ]\n",
            "processing fold # 2\n",
            "Uso para validar el siguiente rango de datos de entrenamiento -> [ 94 : 141 ]\n",
            "Uso para entrenar el siguiente rango de datos de entrenamiento -> [0: 94 ]U[ 141 : 189 ]\n",
            "processing fold # 3\n",
            "Uso para validar el siguiente rango de datos de entrenamiento -> [ 141 : 188 ]\n",
            "Uso para entrenar el siguiente rango de datos de entrenamiento -> [0: 141 ]U[ 188 : 189 ]\n"
          ]
        }
      ]
    },
    {
      "cell_type": "code",
      "source": [
        "all_scores"
      ],
      "metadata": {
        "colab": {
          "base_uri": "https://localhost:8080/"
        },
        "id": "QrWdQ8qE1jn7",
        "outputId": "f8234bc2-57e4-4253-a26b-d8f0f10b34de"
      },
      "execution_count": null,
      "outputs": [
        {
          "output_type": "execute_result",
          "data": {
            "text/plain": [
              "[1.5663825273513794,\n",
              " 1.0886306762695312,\n",
              " 0.7022271752357483,\n",
              " 0.9458131790161133]"
            ]
          },
          "metadata": {},
          "execution_count": 96
        }
      ]
    },
    {
      "cell_type": "code",
      "source": [
        "np.mean(all_scores)"
      ],
      "metadata": {
        "colab": {
          "base_uri": "https://localhost:8080/"
        },
        "id": "QAnoweCw1mx0",
        "outputId": "ec694fe1-cb84-4155-ca87-7e6f62ec3770"
      },
      "execution_count": null,
      "outputs": [
        {
          "output_type": "execute_result",
          "data": {
            "text/plain": [
              "1.0230272114276886"
            ]
          },
          "metadata": {},
          "execution_count": 92
        }
      ]
    },
    {
      "cell_type": "code",
      "source": [
        "from keras import backend as K\n",
        "\n",
        "# Some memory clean-up\n",
        "K.clear_session()"
      ],
      "metadata": {
        "id": "QtbTBYQv_M6O"
      },
      "execution_count": null,
      "outputs": []
    },
    {
      "cell_type": "code",
      "source": [
        "num_epochs = 100\n",
        "all_mae_histories = []\n",
        "for i in range(k):\n",
        "    print('processing fold #', i)\n",
        "    # Preparamos la validación de los datos: datos de la partición # k\n",
        "    print(\"Uso para validar el siguiente rango de datos de entrenamiento -> [\",(i * num_val_samples),\":\",((i + 1) * num_val_samples),\"]\")\n",
        "    val_data = train_data[i * num_val_samples: (i + 1) * num_val_samples]\n",
        "    val_targets = train_targets[i * num_val_samples: (i + 1) * num_val_samples]\n",
        "\n",
        "    # Preparamos los datos de entrenamiento: Datos de todas la demás particiones\n",
        "    print(\"Uso para entrenar el siguiente rango de datos de entrenamiento -> [0:\",(i * num_val_samples),\"]U[\",(i + 1) * num_val_samples,\":\",len(train_data),\"]\")\n",
        "    partial_train_data = np.concatenate(\n",
        "        [train_data[:i * num_val_samples],\n",
        "         train_data[(i + 1) * num_val_samples:]],\n",
        "        axis=0)\n",
        "    partial_train_targets = np.concatenate(\n",
        "        [train_targets[:i * num_val_samples],\n",
        "         train_targets[(i + 1) * num_val_samples:]],\n",
        "        axis=0)\n",
        "\n",
        "    # Construcción del modelo Keras (ya compilado)\n",
        "    model = build_model()\n",
        "    # Entrenando el modelo (en modo silencioso, verbose=0)\n",
        "    history = model.fit(partial_train_data, partial_train_targets,\n",
        "                        validation_data=(val_data, val_targets),\n",
        "                        epochs=num_epochs, batch_size=1, verbose=0)\n",
        "    mae_history = history.history['val_mean_absolute_error']\n",
        "    all_mae_histories.append(mae_history)"
      ],
      "metadata": {
        "id": "jnC02RQq_PM9",
        "outputId": "17f1aaf0-c445-4178-e67e-d1c42289bb18",
        "colab": {
          "base_uri": "https://localhost:8080/"
        }
      },
      "execution_count": null,
      "outputs": [
        {
          "output_type": "stream",
          "name": "stdout",
          "text": [
            "processing fold # 0\n",
            "Uso para validar el siguiente rango de datos de entrenamiento -> [ 0 : 47 ]\n",
            "Uso para entrenar el siguiente rango de datos de entrenamiento -> [0: 0 ]U[ 47 : 189 ]\n",
            "processing fold # 1\n",
            "Uso para validar el siguiente rango de datos de entrenamiento -> [ 47 : 94 ]\n",
            "Uso para entrenar el siguiente rango de datos de entrenamiento -> [0: 47 ]U[ 94 : 189 ]\n",
            "processing fold # 2\n",
            "Uso para validar el siguiente rango de datos de entrenamiento -> [ 94 : 141 ]\n",
            "Uso para entrenar el siguiente rango de datos de entrenamiento -> [0: 94 ]U[ 141 : 189 ]\n",
            "processing fold # 3\n",
            "Uso para validar el siguiente rango de datos de entrenamiento -> [ 141 : 188 ]\n",
            "Uso para entrenar el siguiente rango de datos de entrenamiento -> [0: 141 ]U[ 188 : 189 ]\n"
          ]
        }
      ]
    },
    {
      "cell_type": "code",
      "source": [
        "average_mae_history = [\n",
        "    np.mean([x[i] for x in all_mae_histories]) for i in range(num_epochs)]"
      ],
      "metadata": {
        "id": "enAXuhkG1yQW"
      },
      "execution_count": null,
      "outputs": []
    },
    {
      "cell_type": "code",
      "source": [
        "import matplotlib.pyplot as plt\n",
        "\n",
        "plt.plot(range(1, len(average_mae_history) + 1), average_mae_history)\n",
        "plt.xlabel('Epochs')\n",
        "plt.ylabel('Validación MAE')\n",
        "plt.show()"
      ],
      "metadata": {
        "colab": {
          "base_uri": "https://localhost:8080/",
          "height": 283
        },
        "id": "e-dHg8A913Cx",
        "outputId": "e90373cd-c761-4a48-9946-7cabef53b560"
      },
      "execution_count": null,
      "outputs": [
        {
          "output_type": "display_data",
          "data": {
            "text/plain": [
              "<Figure size 432x288 with 1 Axes>"
            ],
            "image/png": "[encoded data removed]"
          },
          "metadata": {
            "needs_background": "light"
          }
        }
      ]
    },
    {
      "cell_type": "markdown",
      "source": [
        "Al igual que con el método que hemos hecho antes de hacer los K-Folds vemos que se empieza a sobreentrenar alrededor de la época 20."
      ],
      "metadata": {
        "id": "x63s7aZOFwN7"
      }
    },
    {
      "cell_type": "code",
      "source": [
        "def smooth_curve(points, factor=0.9):\n",
        "  smoothed_points = []\n",
        "  for point in points:\n",
        "    if smoothed_points:\n",
        "      previous = smoothed_points[-1]\n",
        "      smoothed_points.append(previous * factor + point * (1 - factor))\n",
        "    else:\n",
        "      smoothed_points.append(point)\n",
        "  return smoothed_points\n",
        "\n",
        "smooth_mae_history = smooth_curve(average_mae_history[10:])\n",
        "\n",
        "plt.plot(range(1, len(smooth_mae_history) + 1), smooth_mae_history)\n",
        "plt.xlabel('Repeticiones')\n",
        "plt.ylabel('MAE de validación')\n",
        "plt.show()"
      ],
      "metadata": {
        "colab": {
          "base_uri": "https://localhost:8080/",
          "height": 279
        },
        "id": "B5whK5Pl15tk",
        "outputId": "a804fb3d-cd6c-46a5-dbf8-e8b17fdd87c1"
      },
      "execution_count": null,
      "outputs": [
        {
          "output_type": "display_data",
          "data": {
            "text/plain": [
              "<Figure size 432x288 with 1 Axes>"
            ],
            "image/png": "[encoded data removed]"
          },
          "metadata": {
            "needs_background": "light"
          }
        }
      ]
    },
    {
      "cell_type": "code",
      "source": [
        "# Obtenemos un modelo compilado nuevo\n",
        "model = build_model()\n",
        "# Lo entrenamos en todos los datos.\n",
        "model.fit(train_data, train_targets,\n",
        "          epochs=80, batch_size=16, verbose=0)\n",
        "test_mse_score, test_mae_score = model.evaluate(test_data, test_targets)"
      ],
      "metadata": {
        "colab": {
          "base_uri": "https://localhost:8080/"
        },
        "id": "QFV8KTez19H0",
        "outputId": "bdc9494c-578c-4b83-c309-2d2a1cb5c761"
      },
      "execution_count": null,
      "outputs": [
        {
          "output_type": "stream",
          "name": "stdout",
          "text": [
            "2/2 [==============================] - 0s 7ms/step - loss: 2.0041 - mean_absolute_error: 1.0902\n"
          ]
        }
      ]
    },
    {
      "cell_type": "code",
      "source": [
        "test_mae_score"
      ],
      "metadata": {
        "colab": {
          "base_uri": "https://localhost:8080/"
        },
        "id": "KjOJs-zd194k",
        "outputId": "b323e734-990b-416d-9a48-91040fc4f882"
      },
      "execution_count": null,
      "outputs": [
        {
          "output_type": "execute_result",
          "data": {
            "text/plain": [
              "1.0902025699615479"
            ]
          },
          "metadata": {},
          "execution_count": 106
        }
      ]
    },
    {
      "cell_type": "markdown",
      "source": [
        "Aún estamos desviados 1.09% de la masa corporal.\n",
        "\n",
        "Esto nos indica que si lo hacemos con K-Folds hemos conseguido disminuir nuestro índice de masa temporal de 1,37% a un 1,09% lo cúal es un cambio bastante significativo."
      ],
      "metadata": {
        "id": "GaanaGqzAaHi"
      }
    }
  ]
}