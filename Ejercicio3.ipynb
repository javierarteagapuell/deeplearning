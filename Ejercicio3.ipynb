{
  "nbformat": 4,
  "nbformat_minor": 0,
  "metadata": {
    "colab": {
      "provenance": [],
      "authorship_tag": "ABX9TyMRKPGnF14WS92rWgYmfgkA",
      "include_colab_link": true
    },
    "kernelspec": {
      "name": "python3",
      "display_name": "Python 3"
    },
    "language_info": {
      "name": "python"
    }
  },
  "cells": [
    {
      "cell_type": "markdown",
      "metadata": {
        "id": "view-in-github",
        "colab_type": "text"
      },
      "source": [
        "<a href=\"https://colab.research.google.com/github/javierarteagapuell/deeplearning/blob/main/Ejercicio3.ipynb\" target=\"_parent\"><img src=\"https://colab.research.google.com/assets/colab-badge.svg\" alt=\"Open In Colab\"/></a>"
      ]
    },
    {
      "cell_type": "code",
      "execution_count": 35,
      "metadata": {
        "id": "dJoRs-i011wK"
      },
      "outputs": [],
      "source": [
        "import numpy as np\n",
        "import pandas as pd\n",
        "import matplotlib.pyplot as plt"
      ]
    },
    {
      "cell_type": "code",
      "source": [
        "data = pd.read_csv('pokemon.csv', encoding='UTF-8')\n",
        "data.head()"
      ],
      "metadata": {
        "colab": {
          "base_uri": "https://localhost:8080/",
          "height": 206
        },
        "id": "vOpsg3ab16n3",
        "outputId": "57c0490e-6844-4ccb-cfe0-86d9fe8f5184"
      },
      "execution_count": 36,
      "outputs": [
        {
          "output_type": "execute_result",
          "data": {
            "text/plain": [
              "      Pokémon   Tipo  PS  Ataque  Defensa  Ataque especial  Defensa especial  \\\n",
              "0  TYPHLOSION  Fuego   2       3        2                4                 2   \n",
              "1      PONYTA  Fuego   2       3        2                2                 2   \n",
              "2     TORKOAL  Fuego   2       3        4                3                 2   \n",
              "3    ARCANINE  Fuego   3       5        3                4                 3   \n",
              "4     STARMIE   Agua   2       3        3                4                 2   \n",
              "\n",
              "   Velocidad  \n",
              "0          4  \n",
              "1          3  \n",
              "2          1  \n",
              "3          4  \n",
              "4          4  "
            ],
            "text/html": [
              "\n",
              "  <div id=\"df-e7e85d15-0106-46bf-9023-4dec5293fece\">\n",
              "    <div class=\"colab-df-container\">\n",
              "      <div>\n",
              "<style scoped>\n",
              "    .dataframe tbody tr th:only-of-type {\n",
              "        vertical-align: middle;\n",
              "    }\n",
              "\n",
              "    .dataframe tbody tr th {\n",
              "        vertical-align: top;\n",
              "    }\n",
              "\n",
              "    .dataframe thead th {\n",
              "        text-align: right;\n",
              "    }\n",
              "</style>\n",
              "<table border=\"1\" class=\"dataframe\">\n",
              "  <thead>\n",
              "    <tr style=\"text-align: right;\">\n",
              "      <th></th>\n",
              "      <th>Pokémon</th>\n",
              "      <th>Tipo</th>\n",
              "      <th>PS</th>\n",
              "      <th>Ataque</th>\n",
              "      <th>Defensa</th>\n",
              "      <th>Ataque especial</th>\n",
              "      <th>Defensa especial</th>\n",
              "      <th>Velocidad</th>\n",
              "    </tr>\n",
              "  </thead>\n",
              "  <tbody>\n",
              "    <tr>\n",
              "      <th>0</th>\n",
              "      <td>TYPHLOSION</td>\n",
              "      <td>Fuego</td>\n",
              "      <td>2</td>\n",
              "      <td>3</td>\n",
              "      <td>2</td>\n",
              "      <td>4</td>\n",
              "      <td>2</td>\n",
              "      <td>4</td>\n",
              "    </tr>\n",
              "    <tr>\n",
              "      <th>1</th>\n",
              "      <td>PONYTA</td>\n",
              "      <td>Fuego</td>\n",
              "      <td>2</td>\n",
              "      <td>3</td>\n",
              "      <td>2</td>\n",
              "      <td>2</td>\n",
              "      <td>2</td>\n",
              "      <td>3</td>\n",
              "    </tr>\n",
              "    <tr>\n",
              "      <th>2</th>\n",
              "      <td>TORKOAL</td>\n",
              "      <td>Fuego</td>\n",
              "      <td>2</td>\n",
              "      <td>3</td>\n",
              "      <td>4</td>\n",
              "      <td>3</td>\n",
              "      <td>2</td>\n",
              "      <td>1</td>\n",
              "    </tr>\n",
              "    <tr>\n",
              "      <th>3</th>\n",
              "      <td>ARCANINE</td>\n",
              "      <td>Fuego</td>\n",
              "      <td>3</td>\n",
              "      <td>5</td>\n",
              "      <td>3</td>\n",
              "      <td>4</td>\n",
              "      <td>3</td>\n",
              "      <td>4</td>\n",
              "    </tr>\n",
              "    <tr>\n",
              "      <th>4</th>\n",
              "      <td>STARMIE</td>\n",
              "      <td>Agua</td>\n",
              "      <td>2</td>\n",
              "      <td>3</td>\n",
              "      <td>3</td>\n",
              "      <td>4</td>\n",
              "      <td>2</td>\n",
              "      <td>4</td>\n",
              "    </tr>\n",
              "  </tbody>\n",
              "</table>\n",
              "</div>\n",
              "      <button class=\"colab-df-convert\" onclick=\"convertToInteractive('df-e7e85d15-0106-46bf-9023-4dec5293fece')\"\n",
              "              title=\"Convert this dataframe to an interactive table.\"\n",
              "              style=\"display:none;\">\n",
              "        \n",
              "  <svg xmlns=\"http://www.w3.org/2000/svg\" height=\"24px\"viewBox=\"0 0 24 24\"\n",
              "       width=\"24px\">\n",
              "    <path d=\"M0 0h24v24H0V0z\" fill=\"none\"/>\n",
              "    <path d=\"M18.56 5.44l.94 2.06.94-2.06 2.06-.94-2.06-.94-.94-2.06-.94 2.06-2.06.94zm-11 1L8.5 8.5l.94-2.06 2.06-.94-2.06-.94L8.5 2.5l-.94 2.06-2.06.94zm10 10l.94 2.06.94-2.06 2.06-.94-2.06-.94-.94-2.06-.94 2.06-2.06.94z\"/><path d=\"M17.41 7.96l-1.37-1.37c-.4-.4-.92-.59-1.43-.59-.52 0-1.04.2-1.43.59L10.3 9.45l-7.72 7.72c-.78.78-.78 2.05 0 2.83L4 21.41c.39.39.9.59 1.41.59.51 0 1.02-.2 1.41-.59l7.78-7.78 2.81-2.81c.8-.78.8-2.07 0-2.86zM5.41 20L4 18.59l7.72-7.72 1.47 1.35L5.41 20z\"/>\n",
              "  </svg>\n",
              "      </button>\n",
              "      \n",
              "  <style>\n",
              "    .colab-df-container {\n",
              "      display:flex;\n",
              "      flex-wrap:wrap;\n",
              "      gap: 12px;\n",
              "    }\n",
              "\n",
              "    .colab-df-convert {\n",
              "      background-color: #E8F0FE;\n",
              "      border: none;\n",
              "      border-radius: 50%;\n",
              "      cursor: pointer;\n",
              "      display: none;\n",
              "      fill: #1967D2;\n",
              "      height: 32px;\n",
              "      padding: 0 0 0 0;\n",
              "      width: 32px;\n",
              "    }\n",
              "\n",
              "    .colab-df-convert:hover {\n",
              "      background-color: #E2EBFA;\n",
              "      box-shadow: 0px 1px 2px rgba(60, 64, 67, 0.3), 0px 1px 3px 1px rgba(60, 64, 67, 0.15);\n",
              "      fill: #174EA6;\n",
              "    }\n",
              "\n",
              "    [theme=dark] .colab-df-convert {\n",
              "      background-color: #3B4455;\n",
              "      fill: #D2E3FC;\n",
              "    }\n",
              "\n",
              "    [theme=dark] .colab-df-convert:hover {\n",
              "      background-color: #434B5C;\n",
              "      box-shadow: 0px 1px 3px 1px rgba(0, 0, 0, 0.15);\n",
              "      filter: drop-shadow(0px 1px 2px rgba(0, 0, 0, 0.3));\n",
              "      fill: #FFFFFF;\n",
              "    }\n",
              "  </style>\n",
              "\n",
              "      <script>\n",
              "        const buttonEl =\n",
              "          document.querySelector('#df-e7e85d15-0106-46bf-9023-4dec5293fece button.colab-df-convert');\n",
              "        buttonEl.style.display =\n",
              "          google.colab.kernel.accessAllowed ? 'block' : 'none';\n",
              "\n",
              "        async function convertToInteractive(key) {\n",
              "          const element = document.querySelector('#df-e7e85d15-0106-46bf-9023-4dec5293fece');\n",
              "          const dataTable =\n",
              "            await google.colab.kernel.invokeFunction('convertToInteractive',\n",
              "                                                     [key], {});\n",
              "          if (!dataTable) return;\n",
              "\n",
              "          const docLinkHtml = 'Like what you see? Visit the ' +\n",
              "            '<a target=\"_blank\" href=https://colab.research.google.com/notebooks/data_table.ipynb>data table notebook</a>'\n",
              "            + ' to learn more about interactive tables.';\n",
              "          element.innerHTML = '';\n",
              "          dataTable['output_type'] = 'display_data';\n",
              "          await google.colab.output.renderOutput(dataTable, element);\n",
              "          const docLink = document.createElement('div');\n",
              "          docLink.innerHTML = docLinkHtml;\n",
              "          element.appendChild(docLink);\n",
              "        }\n",
              "      </script>\n",
              "    </div>\n",
              "  </div>\n",
              "  "
            ]
          },
          "metadata": {},
          "execution_count": 36
        }
      ]
    },
    {
      "cell_type": "code",
      "source": [
        "data.columns"
      ],
      "metadata": {
        "colab": {
          "base_uri": "https://localhost:8080/"
        },
        "id": "RoYPNvIG18WJ",
        "outputId": "4e4c5a6f-01dd-4771-e9d5-053ba03aef9d"
      },
      "execution_count": 37,
      "outputs": [
        {
          "output_type": "execute_result",
          "data": {
            "text/plain": [
              "Index(['Pokémon', 'Tipo', 'PS', 'Ataque', 'Defensa', 'Ataque especial',\n",
              "       'Defensa especial', 'Velocidad'],\n",
              "      dtype='object')"
            ]
          },
          "metadata": {},
          "execution_count": 37
        }
      ]
    },
    {
      "cell_type": "code",
      "source": [
        "data.isnull().values.any() # Este código nos devolverá True si hay algún valor NaN en nuestro DataFrame."
      ],
      "metadata": {
        "colab": {
          "base_uri": "https://localhost:8080/"
        },
        "id": "_lNpuSb21-EM",
        "outputId": "ffb820cc-5b92-407a-bedd-0a64bc932da1"
      },
      "execution_count": 38,
      "outputs": [
        {
          "output_type": "execute_result",
          "data": {
            "text/plain": [
              "False"
            ]
          },
          "metadata": {},
          "execution_count": 38
        }
      ]
    },
    {
      "cell_type": "code",
      "source": [
        "data = data.drop(['Pokémon','Tipo'], axis=1)\n",
        "data"
      ],
      "metadata": {
        "colab": {
          "base_uri": "https://localhost:8080/",
          "height": 676
        },
        "id": "gigSbcNmCFQ9",
        "outputId": "2b0ae554-77f2-400b-fc68-0971eecdc0c4"
      },
      "execution_count": 39,
      "outputs": [
        {
          "output_type": "execute_result",
          "data": {
            "text/plain": [
              "    PS  Ataque  Defensa  Ataque especial  Defensa especial  Velocidad\n",
              "0    2       3        2                4                 2          4\n",
              "1    2       3        2                2                 2          3\n",
              "2    2       3        4                3                 2          1\n",
              "3    3       5        3                4                 3          4\n",
              "4    2       3        3                4                 2          4\n",
              "5    3       4        3                5                 3          4\n",
              "6    3       2        2                4                 3          3\n",
              "7    3       2        2                2                 2          2\n",
              "8    2       4        4                2                 2          3\n",
              "9    3       3        2                3                 2          2\n",
              "10   1       1        2                2                 1          1\n",
              "11   2       4        2                2                 2          3\n",
              "12   2       2        2                4                 3          5\n",
              "13   2       3        3                5                 2          2\n",
              "14   1       2        1                2                 1          3\n",
              "15   3       3        3                5                 4          3\n",
              "16   1       3        4                2                 4          2\n",
              "17   4       4        3                4                 3          3\n",
              "18   2       3        3                3                 3          1\n",
              "19   2       2        2                5                 2          4"
            ],
            "text/html": [
              "\n",
              "  <div id=\"df-1b3f5305-6cf5-460e-b5d7-d2698053219d\">\n",
              "    <div class=\"colab-df-container\">\n",
              "      <div>\n",
              "<style scoped>\n",
              "    .dataframe tbody tr th:only-of-type {\n",
              "        vertical-align: middle;\n",
              "    }\n",
              "\n",
              "    .dataframe tbody tr th {\n",
              "        vertical-align: top;\n",
              "    }\n",
              "\n",
              "    .dataframe thead th {\n",
              "        text-align: right;\n",
              "    }\n",
              "</style>\n",
              "<table border=\"1\" class=\"dataframe\">\n",
              "  <thead>\n",
              "    <tr style=\"text-align: right;\">\n",
              "      <th></th>\n",
              "      <th>PS</th>\n",
              "      <th>Ataque</th>\n",
              "      <th>Defensa</th>\n",
              "      <th>Ataque especial</th>\n",
              "      <th>Defensa especial</th>\n",
              "      <th>Velocidad</th>\n",
              "    </tr>\n",
              "  </thead>\n",
              "  <tbody>\n",
              "    <tr>\n",
              "      <th>0</th>\n",
              "      <td>2</td>\n",
              "      <td>3</td>\n",
              "      <td>2</td>\n",
              "      <td>4</td>\n",
              "      <td>2</td>\n",
              "      <td>4</td>\n",
              "    </tr>\n",
              "    <tr>\n",
              "      <th>1</th>\n",
              "      <td>2</td>\n",
              "      <td>3</td>\n",
              "      <td>2</td>\n",
              "      <td>2</td>\n",
              "      <td>2</td>\n",
              "      <td>3</td>\n",
              "    </tr>\n",
              "    <tr>\n",
              "      <th>2</th>\n",
              "      <td>2</td>\n",
              "      <td>3</td>\n",
              "      <td>4</td>\n",
              "      <td>3</td>\n",
              "      <td>2</td>\n",
              "      <td>1</td>\n",
              "    </tr>\n",
              "    <tr>\n",
              "      <th>3</th>\n",
              "      <td>3</td>\n",
              "      <td>5</td>\n",
              "      <td>3</td>\n",
              "      <td>4</td>\n",
              "      <td>3</td>\n",
              "      <td>4</td>\n",
              "    </tr>\n",
              "    <tr>\n",
              "      <th>4</th>\n",
              "      <td>2</td>\n",
              "      <td>3</td>\n",
              "      <td>3</td>\n",
              "      <td>4</td>\n",
              "      <td>2</td>\n",
              "      <td>4</td>\n",
              "    </tr>\n",
              "    <tr>\n",
              "      <th>5</th>\n",
              "      <td>3</td>\n",
              "      <td>4</td>\n",
              "      <td>3</td>\n",
              "      <td>5</td>\n",
              "      <td>3</td>\n",
              "      <td>4</td>\n",
              "    </tr>\n",
              "    <tr>\n",
              "      <th>6</th>\n",
              "      <td>3</td>\n",
              "      <td>2</td>\n",
              "      <td>2</td>\n",
              "      <td>4</td>\n",
              "      <td>3</td>\n",
              "      <td>3</td>\n",
              "    </tr>\n",
              "    <tr>\n",
              "      <th>7</th>\n",
              "      <td>3</td>\n",
              "      <td>2</td>\n",
              "      <td>2</td>\n",
              "      <td>2</td>\n",
              "      <td>2</td>\n",
              "      <td>2</td>\n",
              "    </tr>\n",
              "    <tr>\n",
              "      <th>8</th>\n",
              "      <td>2</td>\n",
              "      <td>4</td>\n",
              "      <td>4</td>\n",
              "      <td>2</td>\n",
              "      <td>2</td>\n",
              "      <td>3</td>\n",
              "    </tr>\n",
              "    <tr>\n",
              "      <th>9</th>\n",
              "      <td>3</td>\n",
              "      <td>3</td>\n",
              "      <td>2</td>\n",
              "      <td>3</td>\n",
              "      <td>2</td>\n",
              "      <td>2</td>\n",
              "    </tr>\n",
              "    <tr>\n",
              "      <th>10</th>\n",
              "      <td>1</td>\n",
              "      <td>1</td>\n",
              "      <td>2</td>\n",
              "      <td>2</td>\n",
              "      <td>1</td>\n",
              "      <td>1</td>\n",
              "    </tr>\n",
              "    <tr>\n",
              "      <th>11</th>\n",
              "      <td>2</td>\n",
              "      <td>4</td>\n",
              "      <td>2</td>\n",
              "      <td>2</td>\n",
              "      <td>2</td>\n",
              "      <td>3</td>\n",
              "    </tr>\n",
              "    <tr>\n",
              "      <th>12</th>\n",
              "      <td>2</td>\n",
              "      <td>2</td>\n",
              "      <td>2</td>\n",
              "      <td>4</td>\n",
              "      <td>3</td>\n",
              "      <td>5</td>\n",
              "    </tr>\n",
              "    <tr>\n",
              "      <th>13</th>\n",
              "      <td>2</td>\n",
              "      <td>3</td>\n",
              "      <td>3</td>\n",
              "      <td>5</td>\n",
              "      <td>2</td>\n",
              "      <td>2</td>\n",
              "    </tr>\n",
              "    <tr>\n",
              "      <th>14</th>\n",
              "      <td>1</td>\n",
              "      <td>2</td>\n",
              "      <td>1</td>\n",
              "      <td>2</td>\n",
              "      <td>1</td>\n",
              "      <td>3</td>\n",
              "    </tr>\n",
              "    <tr>\n",
              "      <th>15</th>\n",
              "      <td>3</td>\n",
              "      <td>3</td>\n",
              "      <td>3</td>\n",
              "      <td>5</td>\n",
              "      <td>4</td>\n",
              "      <td>3</td>\n",
              "    </tr>\n",
              "    <tr>\n",
              "      <th>16</th>\n",
              "      <td>1</td>\n",
              "      <td>3</td>\n",
              "      <td>4</td>\n",
              "      <td>2</td>\n",
              "      <td>4</td>\n",
              "      <td>2</td>\n",
              "    </tr>\n",
              "    <tr>\n",
              "      <th>17</th>\n",
              "      <td>4</td>\n",
              "      <td>4</td>\n",
              "      <td>3</td>\n",
              "      <td>4</td>\n",
              "      <td>3</td>\n",
              "      <td>3</td>\n",
              "    </tr>\n",
              "    <tr>\n",
              "      <th>18</th>\n",
              "      <td>2</td>\n",
              "      <td>3</td>\n",
              "      <td>3</td>\n",
              "      <td>3</td>\n",
              "      <td>3</td>\n",
              "      <td>1</td>\n",
              "    </tr>\n",
              "    <tr>\n",
              "      <th>19</th>\n",
              "      <td>2</td>\n",
              "      <td>2</td>\n",
              "      <td>2</td>\n",
              "      <td>5</td>\n",
              "      <td>2</td>\n",
              "      <td>4</td>\n",
              "    </tr>\n",
              "  </tbody>\n",
              "</table>\n",
              "</div>\n",
              "      <button class=\"colab-df-convert\" onclick=\"convertToInteractive('df-1b3f5305-6cf5-460e-b5d7-d2698053219d')\"\n",
              "              title=\"Convert this dataframe to an interactive table.\"\n",
              "              style=\"display:none;\">\n",
              "        \n",
              "  <svg xmlns=\"http://www.w3.org/2000/svg\" height=\"24px\"viewBox=\"0 0 24 24\"\n",
              "       width=\"24px\">\n",
              "    <path d=\"M0 0h24v24H0V0z\" fill=\"none\"/>\n",
              "    <path d=\"M18.56 5.44l.94 2.06.94-2.06 2.06-.94-2.06-.94-.94-2.06-.94 2.06-2.06.94zm-11 1L8.5 8.5l.94-2.06 2.06-.94-2.06-.94L8.5 2.5l-.94 2.06-2.06.94zm10 10l.94 2.06.94-2.06 2.06-.94-2.06-.94-.94-2.06-.94 2.06-2.06.94z\"/><path d=\"M17.41 7.96l-1.37-1.37c-.4-.4-.92-.59-1.43-.59-.52 0-1.04.2-1.43.59L10.3 9.45l-7.72 7.72c-.78.78-.78 2.05 0 2.83L4 21.41c.39.39.9.59 1.41.59.51 0 1.02-.2 1.41-.59l7.78-7.78 2.81-2.81c.8-.78.8-2.07 0-2.86zM5.41 20L4 18.59l7.72-7.72 1.47 1.35L5.41 20z\"/>\n",
              "  </svg>\n",
              "      </button>\n",
              "      \n",
              "  <style>\n",
              "    .colab-df-container {\n",
              "      display:flex;\n",
              "      flex-wrap:wrap;\n",
              "      gap: 12px;\n",
              "    }\n",
              "\n",
              "    .colab-df-convert {\n",
              "      background-color: #E8F0FE;\n",
              "      border: none;\n",
              "      border-radius: 50%;\n",
              "      cursor: pointer;\n",
              "      display: none;\n",
              "      fill: #1967D2;\n",
              "      height: 32px;\n",
              "      padding: 0 0 0 0;\n",
              "      width: 32px;\n",
              "    }\n",
              "\n",
              "    .colab-df-convert:hover {\n",
              "      background-color: #E2EBFA;\n",
              "      box-shadow: 0px 1px 2px rgba(60, 64, 67, 0.3), 0px 1px 3px 1px rgba(60, 64, 67, 0.15);\n",
              "      fill: #174EA6;\n",
              "    }\n",
              "\n",
              "    [theme=dark] .colab-df-convert {\n",
              "      background-color: #3B4455;\n",
              "      fill: #D2E3FC;\n",
              "    }\n",
              "\n",
              "    [theme=dark] .colab-df-convert:hover {\n",
              "      background-color: #434B5C;\n",
              "      box-shadow: 0px 1px 3px 1px rgba(0, 0, 0, 0.15);\n",
              "      filter: drop-shadow(0px 1px 2px rgba(0, 0, 0, 0.3));\n",
              "      fill: #FFFFFF;\n",
              "    }\n",
              "  </style>\n",
              "\n",
              "      <script>\n",
              "        const buttonEl =\n",
              "          document.querySelector('#df-1b3f5305-6cf5-460e-b5d7-d2698053219d button.colab-df-convert');\n",
              "        buttonEl.style.display =\n",
              "          google.colab.kernel.accessAllowed ? 'block' : 'none';\n",
              "\n",
              "        async function convertToInteractive(key) {\n",
              "          const element = document.querySelector('#df-1b3f5305-6cf5-460e-b5d7-d2698053219d');\n",
              "          const dataTable =\n",
              "            await google.colab.kernel.invokeFunction('convertToInteractive',\n",
              "                                                     [key], {});\n",
              "          if (!dataTable) return;\n",
              "\n",
              "          const docLinkHtml = 'Like what you see? Visit the ' +\n",
              "            '<a target=\"_blank\" href=https://colab.research.google.com/notebooks/data_table.ipynb>data table notebook</a>'\n",
              "            + ' to learn more about interactive tables.';\n",
              "          element.innerHTML = '';\n",
              "          dataTable['output_type'] = 'display_data';\n",
              "          await google.colab.output.renderOutput(dataTable, element);\n",
              "          const docLink = document.createElement('div');\n",
              "          docLink.innerHTML = docLinkHtml;\n",
              "          element.appendChild(docLink);\n",
              "        }\n",
              "      </script>\n",
              "    </div>\n",
              "  </div>\n",
              "  "
            ]
          },
          "metadata": {},
          "execution_count": 39
        }
      ]
    },
    {
      "cell_type": "code",
      "source": [
        "print('----------------------')\n",
        "print('Media de cada variable')\n",
        "print('----------------------')\n",
        "data.mean(axis=0)"
      ],
      "metadata": {
        "colab": {
          "base_uri": "https://localhost:8080/"
        },
        "id": "UMaO0oKc0bKO",
        "outputId": "f39be20d-e815-47fb-d225-b469236e8358"
      },
      "execution_count": 40,
      "outputs": [
        {
          "output_type": "stream",
          "name": "stdout",
          "text": [
            "----------------------\n",
            "Media de cada variable\n",
            "----------------------\n"
          ]
        },
        {
          "output_type": "execute_result",
          "data": {
            "text/plain": [
              "PS                  2.25\n",
              "Ataque              2.95\n",
              "Defensa             2.60\n",
              "Ataque especial     3.35\n",
              "Defensa especial    2.40\n",
              "Velocidad           2.85\n",
              "dtype: float64"
            ]
          },
          "metadata": {},
          "execution_count": 40
        }
      ]
    },
    {
      "cell_type": "code",
      "source": [
        "print('-------------------------')\n",
        "print('Varianza de cada variable')\n",
        "print('-------------------------')\n",
        "data.var(axis=0)"
      ],
      "metadata": {
        "colab": {
          "base_uri": "https://localhost:8080/"
        },
        "id": "Kt6U9erG06o7",
        "outputId": "4a7a5310-48c4-455c-e383-e1c1ed416da6"
      },
      "execution_count": 41,
      "outputs": [
        {
          "output_type": "stream",
          "name": "stdout",
          "text": [
            "-------------------------\n",
            "Varianza de cada variable\n",
            "-------------------------\n"
          ]
        },
        {
          "output_type": "execute_result",
          "data": {
            "text/plain": [
              "PS                  0.618421\n",
              "Ataque              0.892105\n",
              "Defensa             0.673684\n",
              "Ataque especial     1.397368\n",
              "Defensa especial    0.673684\n",
              "Velocidad           1.292105\n",
              "dtype: float64"
            ]
          },
          "metadata": {},
          "execution_count": 41
        }
      ]
    },
    {
      "cell_type": "code",
      "source": [
        "from sklearn.preprocessing import StandardScaler\n",
        "\n",
        "ss = StandardScaler()\n",
        "data_transformed = ss.fit_transform(data)\n",
        "data_transformed\n"
      ],
      "metadata": {
        "colab": {
          "base_uri": "https://localhost:8080/"
        },
        "id": "1get8O3q_ugi",
        "outputId": "4b2cc301-a35f-49ab-ac4e-f2b0c6113955"
      },
      "execution_count": 42,
      "outputs": [
        {
          "output_type": "execute_result",
          "data": {
            "text/plain": [
              "array([[-0.32616404,  0.05431254, -0.75      ,  0.56415195, -0.5       ,\n",
              "         1.03797547],\n",
              "       [-0.32616404,  0.05431254, -0.75      , -1.1717002 , -0.5       ,\n",
              "         0.1353881 ],\n",
              "       [-0.32616404,  0.05431254,  1.75      , -0.30377413, -0.5       ,\n",
              "        -1.66978662],\n",
              "       [ 0.97849211,  2.22681433,  0.5       ,  0.56415195,  0.75      ,\n",
              "         1.03797547],\n",
              "       [-0.32616404,  0.05431254,  0.5       ,  0.56415195, -0.5       ,\n",
              "         1.03797547],\n",
              "       [ 0.97849211,  1.14056344,  0.5       ,  1.43207802,  0.75      ,\n",
              "         1.03797547],\n",
              "       [ 0.97849211, -1.03193835, -0.75      ,  0.56415195,  0.75      ,\n",
              "         0.1353881 ],\n",
              "       [ 0.97849211, -1.03193835, -0.75      , -1.1717002 , -0.5       ,\n",
              "        -0.76719926],\n",
              "       [-0.32616404,  1.14056344,  1.75      , -1.1717002 , -0.5       ,\n",
              "         0.1353881 ],\n",
              "       [ 0.97849211,  0.05431254, -0.75      , -0.30377413, -0.5       ,\n",
              "        -0.76719926],\n",
              "       [-1.63082018, -2.11818924, -0.75      , -1.1717002 , -1.75      ,\n",
              "        -1.66978662],\n",
              "       [-0.32616404,  1.14056344, -0.75      , -1.1717002 , -0.5       ,\n",
              "         0.1353881 ],\n",
              "       [-0.32616404, -1.03193835, -0.75      ,  0.56415195,  0.75      ,\n",
              "         1.94056283],\n",
              "       [-0.32616404,  0.05431254,  0.5       ,  1.43207802, -0.5       ,\n",
              "        -0.76719926],\n",
              "       [-1.63082018, -1.03193835, -2.        , -1.1717002 , -1.75      ,\n",
              "         0.1353881 ],\n",
              "       [ 0.97849211,  0.05431254,  0.5       ,  1.43207802,  2.        ,\n",
              "         0.1353881 ],\n",
              "       [-1.63082018,  0.05431254,  1.75      , -1.1717002 ,  2.        ,\n",
              "        -0.76719926],\n",
              "       [ 2.28314826,  1.14056344,  0.5       ,  0.56415195,  0.75      ,\n",
              "         0.1353881 ],\n",
              "       [-0.32616404,  0.05431254,  0.5       , -0.30377413,  0.75      ,\n",
              "        -1.66978662],\n",
              "       [-0.32616404, -1.03193835, -0.75      ,  1.43207802, -0.5       ,\n",
              "         1.03797547]])"
            ]
          },
          "metadata": {},
          "execution_count": 42
        }
      ]
    },
    {
      "cell_type": "markdown",
      "source": [
        "Primero  obtenemos  la  matriz  de  covarianza  mediante  el  método  cov  de \n",
        "numpy"
      ],
      "metadata": {
        "id": "hoUlOUd-2rNX"
      }
    },
    {
      "cell_type": "code",
      "source": [
        "np.cov(data, y=None, rowvar=True, bias=False, ddof=None, fweights=None, aweights=None)\n"
      ],
      "metadata": {
        "colab": {
          "base_uri": "https://localhost:8080/"
        },
        "id": "nI8G41P8J47c",
        "outputId": "14fa4aaa-b520-421d-cbb6-2242c5bbd78e"
      },
      "execution_count": 43,
      "outputs": [
        {
          "output_type": "execute_result",
          "data": {
            "text/plain": [
              "array([[ 0.96666667,  0.26666667, -0.3       ,  0.53333333,  0.8       ,\n",
              "         0.73333333,  0.36666667, -0.16666667, -0.03333333,  0.1       ,\n",
              "         0.06666667,  0.3       ,  1.        ,  0.56666667,  0.73333333,\n",
              "         0.3       , -0.46666667,  0.1       , -0.3       ,  1.16666667],\n",
              "       [ 0.26666667,  0.26666667, -0.2       ,  0.33333333,  0.2       ,\n",
              "         0.13333333, -0.13333333, -0.06666667,  0.26666667,  0.        ,\n",
              "        -0.13333333,  0.4       ,  0.2       , -0.13333333,  0.33333333,\n",
              "        -0.2       , -0.06666667,  0.        , -0.2       ,  0.06666667],\n",
              "       [-0.3       , -0.2       ,  1.1       ,  0.        ,  0.        ,\n",
              "         0.        , -0.3       , -0.1       ,  0.5       ,  0.1       ,\n",
              "         0.4       , -0.1       , -0.8       ,  0.7       , -0.4       ,\n",
              "         0.1       ,  0.6       ,  0.1       ,  0.7       , -0.3       ],\n",
              "       [ 0.53333333,  0.33333333,  0.        ,  0.66666667,  0.4       ,\n",
              "         0.46666667, -0.06666667, -0.13333333,  0.33333333,  0.2       ,\n",
              "        -0.06666667,  0.6       ,  0.2       ,  0.33333333,  0.46666667,\n",
              "         0.        , -0.13333333,  0.2       ,  0.        ,  0.33333333],\n",
              "       [ 0.8       ,  0.2       ,  0.        ,  0.4       ,  0.8       ,\n",
              "         0.6       ,  0.2       , -0.2       ,  0.2       ,  0.        ,\n",
              "         0.2       ,  0.2       ,  0.8       ,  0.6       ,  0.6       ,\n",
              "         0.2       , -0.2       ,  0.        , -0.2       ,  1.        ],\n",
              "       [ 0.73333333,  0.13333333,  0.        ,  0.46666667,  0.6       ,\n",
              "         0.66666667,  0.33333333, -0.13333333, -0.06666667,  0.2       ,\n",
              "         0.13333333,  0.2       ,  0.6       ,  0.73333333,  0.46666667,\n",
              "         0.4       , -0.33333333,  0.2       ,  0.        ,  0.93333333],\n",
              "       [ 0.36666667, -0.13333333, -0.3       , -0.06666667,  0.2       ,\n",
              "         0.33333333,  0.56666667,  0.03333333, -0.63333333,  0.1       ,\n",
              "         0.06666667, -0.3       ,  0.6       ,  0.36666667,  0.13333333,\n",
              "         0.5       , -0.46666667,  0.1       , -0.1       ,  0.76666667],\n",
              "       [-0.16666667, -0.06666667, -0.1       , -0.13333333, -0.2       ,\n",
              "        -0.13333333,  0.03333333,  0.16666667, -0.16666667,  0.1       ,\n",
              "        -0.06666667, -0.1       , -0.2       , -0.16666667, -0.13333333,\n",
              "        -0.1       , -0.33333333,  0.1       , -0.1       , -0.16666667],\n",
              "       [-0.03333333,  0.26666667,  0.5       ,  0.33333333,  0.2       ,\n",
              "        -0.06666667, -0.63333333, -0.16666667,  0.96666667, -0.1       ,\n",
              "         0.06666667,  0.5       , -0.4       , -0.03333333,  0.13333333,\n",
              "        -0.5       ,  0.53333333, -0.1       ,  0.1       , -0.43333333],\n",
              "       [ 0.1       ,  0.        ,  0.1       ,  0.2       ,  0.        ,\n",
              "         0.2       ,  0.1       ,  0.1       , -0.1       ,  0.3       ,\n",
              "         0.        ,  0.1       , -0.2       ,  0.3       ,  0.        ,\n",
              "         0.1       , -0.4       ,  0.3       ,  0.1       ,  0.1       ],\n",
              "       [ 0.06666667, -0.13333333,  0.4       , -0.06666667,  0.2       ,\n",
              "         0.13333333,  0.06666667, -0.06666667,  0.06666667,  0.        ,\n",
              "         0.26666667, -0.2       ,  0.        ,  0.46666667, -0.06666667,\n",
              "         0.2       ,  0.13333333,  0.        ,  0.2       ,  0.26666667],\n",
              "       [ 0.3       ,  0.4       , -0.1       ,  0.6       ,  0.2       ,\n",
              "         0.2       , -0.3       , -0.1       ,  0.5       ,  0.1       ,\n",
              "        -0.2       ,  0.7       ,  0.        , -0.1       ,  0.4       ,\n",
              "        -0.3       ,  0.        ,  0.1       , -0.1       , -0.1       ],\n",
              "       [ 1.        ,  0.2       , -0.8       ,  0.2       ,  0.8       ,\n",
              "         0.6       ,  0.6       , -0.2       , -0.4       , -0.2       ,\n",
              "         0.        ,  0.        ,  1.6       ,  0.2       ,  0.8       ,\n",
              "         0.4       , -0.4       , -0.2       , -0.6       ,  1.4       ],\n",
              "       [ 0.56666667, -0.13333333,  0.7       ,  0.33333333,  0.6       ,\n",
              "         0.73333333,  0.36666667, -0.16666667, -0.03333333,  0.3       ,\n",
              "         0.46666667, -0.1       ,  0.2       ,  1.36666667,  0.13333333,\n",
              "         0.7       , -0.06666667,  0.3       ,  0.5       ,  0.96666667],\n",
              "       [ 0.73333333,  0.33333333, -0.4       ,  0.46666667,  0.6       ,\n",
              "         0.46666667,  0.13333333, -0.13333333,  0.13333333,  0.        ,\n",
              "        -0.06666667,  0.4       ,  0.8       ,  0.13333333,  0.66666667,\n",
              "         0.        , -0.33333333,  0.        , -0.4       ,  0.73333333],\n",
              "       [ 0.3       , -0.2       ,  0.1       ,  0.        ,  0.2       ,\n",
              "         0.4       ,  0.5       , -0.1       , -0.5       ,  0.1       ,\n",
              "         0.2       , -0.3       ,  0.4       ,  0.7       ,  0.        ,\n",
              "         0.7       ,  0.        ,  0.1       ,  0.3       ,  0.7       ],\n",
              "       [-0.46666667, -0.06666667,  0.6       , -0.13333333, -0.2       ,\n",
              "        -0.33333333, -0.46666667, -0.33333333,  0.53333333, -0.4       ,\n",
              "         0.13333333,  0.        , -0.4       , -0.06666667, -0.33333333,\n",
              "         0.        ,  1.46666667, -0.4       ,  0.6       , -0.66666667],\n",
              "       [ 0.1       ,  0.        ,  0.1       ,  0.2       ,  0.        ,\n",
              "         0.2       ,  0.1       ,  0.1       , -0.1       ,  0.3       ,\n",
              "         0.        ,  0.1       , -0.2       ,  0.3       ,  0.        ,\n",
              "         0.1       , -0.4       ,  0.3       ,  0.1       ,  0.1       ],\n",
              "       [-0.3       , -0.2       ,  0.7       ,  0.        , -0.2       ,\n",
              "         0.        , -0.1       , -0.1       ,  0.1       ,  0.1       ,\n",
              "         0.2       , -0.1       , -0.6       ,  0.5       , -0.4       ,\n",
              "         0.3       ,  0.6       ,  0.1       ,  0.7       , -0.3       ],\n",
              "       [ 1.16666667,  0.06666667, -0.3       ,  0.33333333,  1.        ,\n",
              "         0.93333333,  0.76666667, -0.16666667, -0.43333333,  0.1       ,\n",
              "         0.26666667, -0.1       ,  1.4       ,  0.96666667,  0.73333333,\n",
              "         0.7       , -0.66666667,  0.1       , -0.3       ,  1.76666667]])"
            ]
          },
          "metadata": {},
          "execution_count": 43
        }
      ]
    },
    {
      "cell_type": "markdown",
      "source": [
        "A partir de los datos anteriores, obtener los autovalores (eigenvalues) y los \n",
        "autovectores (eigenvectors). Para eso aplicamos a dicha matriz (data) el método linalg.eig también de numpy"
      ],
      "metadata": {
        "id": "cfX12cgq21o2"
      }
    },
    {
      "cell_type": "code",
      "source": [
        "autovalores, autovectores = np.linalg.eig(data)\n",
        "print(\"Autovalores: \", autovalores)\n",
        "print(\"Autovectores: \", autovectores)"
      ],
      "metadata": {
        "colab": {
          "base_uri": "https://localhost:8080/",
          "height": 396
        },
        "id": "TT_tkjnu22CK",
        "outputId": "9f061ea7-00bc-4ae7-eb76-1c7ee5cde469"
      },
      "execution_count": 44,
      "outputs": [
        {
          "output_type": "error",
          "ename": "LinAlgError",
          "evalue": "ignored",
          "traceback": [
            "\u001b[0;31m---------------------------------------------------------------------------\u001b[0m",
            "\u001b[0;31mLinAlgError\u001b[0m                               Traceback (most recent call last)",
            "\u001b[0;32m<ipython-input-44-5c7715eb2b83>\u001b[0m in \u001b[0;36m<module>\u001b[0;34m\u001b[0m\n\u001b[0;32m----> 1\u001b[0;31m \u001b[0mautovalores\u001b[0m\u001b[0;34m,\u001b[0m \u001b[0mautovectores\u001b[0m \u001b[0;34m=\u001b[0m \u001b[0mnp\u001b[0m\u001b[0;34m.\u001b[0m\u001b[0mlinalg\u001b[0m\u001b[0;34m.\u001b[0m\u001b[0meig\u001b[0m\u001b[0;34m(\u001b[0m\u001b[0mdata\u001b[0m\u001b[0;34m)\u001b[0m\u001b[0;34m\u001b[0m\u001b[0;34m\u001b[0m\u001b[0m\n\u001b[0m\u001b[1;32m      2\u001b[0m \u001b[0mprint\u001b[0m\u001b[0;34m(\u001b[0m\u001b[0;34m\"Autovalores: \"\u001b[0m\u001b[0;34m,\u001b[0m \u001b[0mautovalores\u001b[0m\u001b[0;34m)\u001b[0m\u001b[0;34m\u001b[0m\u001b[0;34m\u001b[0m\u001b[0m\n\u001b[1;32m      3\u001b[0m \u001b[0mprint\u001b[0m\u001b[0;34m(\u001b[0m\u001b[0;34m\"Autovectores: \"\u001b[0m\u001b[0;34m,\u001b[0m \u001b[0mautovectores\u001b[0m\u001b[0;34m)\u001b[0m\u001b[0;34m\u001b[0m\u001b[0;34m\u001b[0m\u001b[0m\n",
            "\u001b[0;32m<__array_function__ internals>\u001b[0m in \u001b[0;36meig\u001b[0;34m(*args, **kwargs)\u001b[0m\n",
            "\u001b[0;32m/usr/local/lib/python3.8/dist-packages/numpy/linalg/linalg.py\u001b[0m in \u001b[0;36meig\u001b[0;34m(a)\u001b[0m\n\u001b[1;32m   1314\u001b[0m     \u001b[0ma\u001b[0m\u001b[0;34m,\u001b[0m \u001b[0mwrap\u001b[0m \u001b[0;34m=\u001b[0m \u001b[0m_makearray\u001b[0m\u001b[0;34m(\u001b[0m\u001b[0ma\u001b[0m\u001b[0;34m)\u001b[0m\u001b[0;34m\u001b[0m\u001b[0;34m\u001b[0m\u001b[0m\n\u001b[1;32m   1315\u001b[0m     \u001b[0m_assert_stacked_2d\u001b[0m\u001b[0;34m(\u001b[0m\u001b[0ma\u001b[0m\u001b[0;34m)\u001b[0m\u001b[0;34m\u001b[0m\u001b[0;34m\u001b[0m\u001b[0m\n\u001b[0;32m-> 1316\u001b[0;31m     \u001b[0m_assert_stacked_square\u001b[0m\u001b[0;34m(\u001b[0m\u001b[0ma\u001b[0m\u001b[0;34m)\u001b[0m\u001b[0;34m\u001b[0m\u001b[0;34m\u001b[0m\u001b[0m\n\u001b[0m\u001b[1;32m   1317\u001b[0m     \u001b[0m_assert_finite\u001b[0m\u001b[0;34m(\u001b[0m\u001b[0ma\u001b[0m\u001b[0;34m)\u001b[0m\u001b[0;34m\u001b[0m\u001b[0;34m\u001b[0m\u001b[0m\n\u001b[1;32m   1318\u001b[0m     \u001b[0mt\u001b[0m\u001b[0;34m,\u001b[0m \u001b[0mresult_t\u001b[0m \u001b[0;34m=\u001b[0m \u001b[0m_commonType\u001b[0m\u001b[0;34m(\u001b[0m\u001b[0ma\u001b[0m\u001b[0;34m)\u001b[0m\u001b[0;34m\u001b[0m\u001b[0;34m\u001b[0m\u001b[0m\n",
            "\u001b[0;32m/usr/local/lib/python3.8/dist-packages/numpy/linalg/linalg.py\u001b[0m in \u001b[0;36m_assert_stacked_square\u001b[0;34m(*arrays)\u001b[0m\n\u001b[1;32m    201\u001b[0m         \u001b[0mm\u001b[0m\u001b[0;34m,\u001b[0m \u001b[0mn\u001b[0m \u001b[0;34m=\u001b[0m \u001b[0ma\u001b[0m\u001b[0;34m.\u001b[0m\u001b[0mshape\u001b[0m\u001b[0;34m[\u001b[0m\u001b[0;34m-\u001b[0m\u001b[0;36m2\u001b[0m\u001b[0;34m:\u001b[0m\u001b[0;34m]\u001b[0m\u001b[0;34m\u001b[0m\u001b[0;34m\u001b[0m\u001b[0m\n\u001b[1;32m    202\u001b[0m         \u001b[0;32mif\u001b[0m \u001b[0mm\u001b[0m \u001b[0;34m!=\u001b[0m \u001b[0mn\u001b[0m\u001b[0;34m:\u001b[0m\u001b[0;34m\u001b[0m\u001b[0;34m\u001b[0m\u001b[0m\n\u001b[0;32m--> 203\u001b[0;31m             \u001b[0;32mraise\u001b[0m \u001b[0mLinAlgError\u001b[0m\u001b[0;34m(\u001b[0m\u001b[0;34m'Last 2 dimensions of the array must be square'\u001b[0m\u001b[0;34m)\u001b[0m\u001b[0;34m\u001b[0m\u001b[0;34m\u001b[0m\u001b[0m\n\u001b[0m\u001b[1;32m    204\u001b[0m \u001b[0;34m\u001b[0m\u001b[0m\n\u001b[1;32m    205\u001b[0m \u001b[0;32mdef\u001b[0m \u001b[0m_assert_finite\u001b[0m\u001b[0;34m(\u001b[0m\u001b[0;34m*\u001b[0m\u001b[0marrays\u001b[0m\u001b[0;34m)\u001b[0m\u001b[0;34m:\u001b[0m\u001b[0;34m\u001b[0m\u001b[0;34m\u001b[0m\u001b[0m\n",
            "\u001b[0;31mLinAlgError\u001b[0m: Last 2 dimensions of the array must be square"
          ]
        }
      ]
    },
    {
      "cell_type": "code",
      "source": [],
      "metadata": {
        "id": "kiPEWkxn2K-w"
      },
      "execution_count": null,
      "outputs": []
    },
    {
      "cell_type": "code",
      "source": [],
      "metadata": {
        "id": "CUJyXmpm-Cbn"
      },
      "execution_count": null,
      "outputs": []
    },
    {
      "cell_type": "code",
      "source": [],
      "metadata": {
        "id": "P3AZtALa2LtV"
      },
      "execution_count": null,
      "outputs": []
    },
    {
      "cell_type": "code",
      "source": [],
      "metadata": {
        "id": "v4N0mc-u2Lvz"
      },
      "execution_count": null,
      "outputs": []
    }
  ]
}