{
  "nbformat": 4,
  "nbformat_minor": 0,
  "metadata": {
    "colab": {
      "provenance": [],
      "authorship_tag": "ABX9TyORB9vYs3kWZb3aTBNBjsKt",
      "include_colab_link": true
    },
    "kernelspec": {
      "name": "python3",
      "display_name": "Python 3"
    },
    "language_info": {
      "name": "python"
    }
  },
  "cells": [
    {
      "cell_type": "markdown",
      "metadata": {
        "id": "view-in-github",
        "colab_type": "text"
      },
      "source": [
        "<a href=\"https://colab.research.google.com/github/javierarteagapuell/deeplearning/blob/main/Ejercicio3.ipynb\" target=\"_parent\"><img src=\"https://colab.research.google.com/assets/colab-badge.svg\" alt=\"Open In Colab\"/></a>"
      ]
    },
    {
      "cell_type": "code",
      "execution_count": 1743,
      "metadata": {
        "id": "dJoRs-i011wK"
      },
      "outputs": [],
      "source": [
        "import numpy as np\n",
        "import pandas as pd\n",
        "import matplotlib.pyplot as plt"
      ]
    },
    {
      "cell_type": "code",
      "source": [
        "data = pd.read_csv('pokemon.csv', encoding='UTF-8')\n",
        "data.head()"
      ],
      "metadata": {
        "colab": {
          "base_uri": "https://localhost:8080/",
          "height": 206
        },
        "id": "vOpsg3ab16n3",
        "outputId": "687832fd-48d4-428a-9eaf-79255799b40c"
      },
      "execution_count": 1744,
      "outputs": [
        {
          "output_type": "execute_result",
          "data": {
            "text/plain": [
              "      Pokémon   Tipo  PS  Ataque  Defensa  Ataque especial  Defensa especial  \\\n",
              "0  TYPHLOSION  Fuego   2       3        2                4                 2   \n",
              "1      PONYTA  Fuego   2       3        2                2                 2   \n",
              "2     TORKOAL  Fuego   2       3        4                3                 2   \n",
              "3    ARCANINE  Fuego   3       5        3                4                 3   \n",
              "4     STARMIE   Agua   2       3        3                4                 2   \n",
              "\n",
              "   Velocidad  \n",
              "0          4  \n",
              "1          3  \n",
              "2          1  \n",
              "3          4  \n",
              "4          4  "
            ],
            "text/html": [
              "\n",
              "  <div id=\"df-3556be57-789f-4c76-8973-f7ede9484d38\">\n",
              "    <div class=\"colab-df-container\">\n",
              "      <div>\n",
              "<style scoped>\n",
              "    .dataframe tbody tr th:only-of-type {\n",
              "        vertical-align: middle;\n",
              "    }\n",
              "\n",
              "    .dataframe tbody tr th {\n",
              "        vertical-align: top;\n",
              "    }\n",
              "\n",
              "    .dataframe thead th {\n",
              "        text-align: right;\n",
              "    }\n",
              "</style>\n",
              "<table border=\"1\" class=\"dataframe\">\n",
              "  <thead>\n",
              "    <tr style=\"text-align: right;\">\n",
              "      <th></th>\n",
              "      <th>Pokémon</th>\n",
              "      <th>Tipo</th>\n",
              "      <th>PS</th>\n",
              "      <th>Ataque</th>\n",
              "      <th>Defensa</th>\n",
              "      <th>Ataque especial</th>\n",
              "      <th>Defensa especial</th>\n",
              "      <th>Velocidad</th>\n",
              "    </tr>\n",
              "  </thead>\n",
              "  <tbody>\n",
              "    <tr>\n",
              "      <th>0</th>\n",
              "      <td>TYPHLOSION</td>\n",
              "      <td>Fuego</td>\n",
              "      <td>2</td>\n",
              "      <td>3</td>\n",
              "      <td>2</td>\n",
              "      <td>4</td>\n",
              "      <td>2</td>\n",
              "      <td>4</td>\n",
              "    </tr>\n",
              "    <tr>\n",
              "      <th>1</th>\n",
              "      <td>PONYTA</td>\n",
              "      <td>Fuego</td>\n",
              "      <td>2</td>\n",
              "      <td>3</td>\n",
              "      <td>2</td>\n",
              "      <td>2</td>\n",
              "      <td>2</td>\n",
              "      <td>3</td>\n",
              "    </tr>\n",
              "    <tr>\n",
              "      <th>2</th>\n",
              "      <td>TORKOAL</td>\n",
              "      <td>Fuego</td>\n",
              "      <td>2</td>\n",
              "      <td>3</td>\n",
              "      <td>4</td>\n",
              "      <td>3</td>\n",
              "      <td>2</td>\n",
              "      <td>1</td>\n",
              "    </tr>\n",
              "    <tr>\n",
              "      <th>3</th>\n",
              "      <td>ARCANINE</td>\n",
              "      <td>Fuego</td>\n",
              "      <td>3</td>\n",
              "      <td>5</td>\n",
              "      <td>3</td>\n",
              "      <td>4</td>\n",
              "      <td>3</td>\n",
              "      <td>4</td>\n",
              "    </tr>\n",
              "    <tr>\n",
              "      <th>4</th>\n",
              "      <td>STARMIE</td>\n",
              "      <td>Agua</td>\n",
              "      <td>2</td>\n",
              "      <td>3</td>\n",
              "      <td>3</td>\n",
              "      <td>4</td>\n",
              "      <td>2</td>\n",
              "      <td>4</td>\n",
              "    </tr>\n",
              "  </tbody>\n",
              "</table>\n",
              "</div>\n",
              "      <button class=\"colab-df-convert\" onclick=\"convertToInteractive('df-3556be57-789f-4c76-8973-f7ede9484d38')\"\n",
              "              title=\"Convert this dataframe to an interactive table.\"\n",
              "              style=\"display:none;\">\n",
              "        \n",
              "  <svg xmlns=\"http://www.w3.org/2000/svg\" height=\"24px\"viewBox=\"0 0 24 24\"\n",
              "       width=\"24px\">\n",
              "    <path d=\"M0 0h24v24H0V0z\" fill=\"none\"/>\n",
              "    <path d=\"M18.56 5.44l.94 2.06.94-2.06 2.06-.94-2.06-.94-.94-2.06-.94 2.06-2.06.94zm-11 1L8.5 8.5l.94-2.06 2.06-.94-2.06-.94L8.5 2.5l-.94 2.06-2.06.94zm10 10l.94 2.06.94-2.06 2.06-.94-2.06-.94-.94-2.06-.94 2.06-2.06.94z\"/><path d=\"M17.41 7.96l-1.37-1.37c-.4-.4-.92-.59-1.43-.59-.52 0-1.04.2-1.43.59L10.3 9.45l-7.72 7.72c-.78.78-.78 2.05 0 2.83L4 21.41c.39.39.9.59 1.41.59.51 0 1.02-.2 1.41-.59l7.78-7.78 2.81-2.81c.8-.78.8-2.07 0-2.86zM5.41 20L4 18.59l7.72-7.72 1.47 1.35L5.41 20z\"/>\n",
              "  </svg>\n",
              "      </button>\n",
              "      \n",
              "  <style>\n",
              "    .colab-df-container {\n",
              "      display:flex;\n",
              "      flex-wrap:wrap;\n",
              "      gap: 12px;\n",
              "    }\n",
              "\n",
              "    .colab-df-convert {\n",
              "      background-color: #E8F0FE;\n",
              "      border: none;\n",
              "      border-radius: 50%;\n",
              "      cursor: pointer;\n",
              "      display: none;\n",
              "      fill: #1967D2;\n",
              "      height: 32px;\n",
              "      padding: 0 0 0 0;\n",
              "      width: 32px;\n",
              "    }\n",
              "\n",
              "    .colab-df-convert:hover {\n",
              "      background-color: #E2EBFA;\n",
              "      box-shadow: 0px 1px 2px rgba(60, 64, 67, 0.3), 0px 1px 3px 1px rgba(60, 64, 67, 0.15);\n",
              "      fill: #174EA6;\n",
              "    }\n",
              "\n",
              "    [theme=dark] .colab-df-convert {\n",
              "      background-color: #3B4455;\n",
              "      fill: #D2E3FC;\n",
              "    }\n",
              "\n",
              "    [theme=dark] .colab-df-convert:hover {\n",
              "      background-color: #434B5C;\n",
              "      box-shadow: 0px 1px 3px 1px rgba(0, 0, 0, 0.15);\n",
              "      filter: drop-shadow(0px 1px 2px rgba(0, 0, 0, 0.3));\n",
              "      fill: #FFFFFF;\n",
              "    }\n",
              "  </style>\n",
              "\n",
              "      <script>\n",
              "        const buttonEl =\n",
              "          document.querySelector('#df-3556be57-789f-4c76-8973-f7ede9484d38 button.colab-df-convert');\n",
              "        buttonEl.style.display =\n",
              "          google.colab.kernel.accessAllowed ? 'block' : 'none';\n",
              "\n",
              "        async function convertToInteractive(key) {\n",
              "          const element = document.querySelector('#df-3556be57-789f-4c76-8973-f7ede9484d38');\n",
              "          const dataTable =\n",
              "            await google.colab.kernel.invokeFunction('convertToInteractive',\n",
              "                                                     [key], {});\n",
              "          if (!dataTable) return;\n",
              "\n",
              "          const docLinkHtml = 'Like what you see? Visit the ' +\n",
              "            '<a target=\"_blank\" href=https://colab.research.google.com/notebooks/data_table.ipynb>data table notebook</a>'\n",
              "            + ' to learn more about interactive tables.';\n",
              "          element.innerHTML = '';\n",
              "          dataTable['output_type'] = 'display_data';\n",
              "          await google.colab.output.renderOutput(dataTable, element);\n",
              "          const docLink = document.createElement('div');\n",
              "          docLink.innerHTML = docLinkHtml;\n",
              "          element.appendChild(docLink);\n",
              "        }\n",
              "      </script>\n",
              "    </div>\n",
              "  </div>\n",
              "  "
            ]
          },
          "metadata": {},
          "execution_count": 1744
        }
      ]
    },
    {
      "cell_type": "code",
      "source": [
        "data.columns"
      ],
      "metadata": {
        "colab": {
          "base_uri": "https://localhost:8080/"
        },
        "id": "RoYPNvIG18WJ",
        "outputId": "38eef3e2-807f-4bd8-dab2-37a1490f917d"
      },
      "execution_count": 1745,
      "outputs": [
        {
          "output_type": "execute_result",
          "data": {
            "text/plain": [
              "Index(['Pokémon', 'Tipo', 'PS', 'Ataque', 'Defensa', 'Ataque especial',\n",
              "       'Defensa especial', 'Velocidad'],\n",
              "      dtype='object')"
            ]
          },
          "metadata": {},
          "execution_count": 1745
        }
      ]
    },
    {
      "cell_type": "code",
      "source": [
        "data.isnull().values.any() # Este código nos devolverá True si hay algún valor NaN en nuestro DataFrame."
      ],
      "metadata": {
        "colab": {
          "base_uri": "https://localhost:8080/"
        },
        "id": "_lNpuSb21-EM",
        "outputId": "352dc018-03c0-4296-daf8-1980bb8e91df"
      },
      "execution_count": 1746,
      "outputs": [
        {
          "output_type": "execute_result",
          "data": {
            "text/plain": [
              "False"
            ]
          },
          "metadata": {},
          "execution_count": 1746
        }
      ]
    },
    {
      "cell_type": "code",
      "source": [
        "data = data.drop(['Pokémon','Tipo'], axis=1)\n",
        "data"
      ],
      "metadata": {
        "colab": {
          "base_uri": "https://localhost:8080/",
          "height": 676
        },
        "id": "gigSbcNmCFQ9",
        "outputId": "ee0e05b9-cce1-43ed-f2c8-29358db59af3"
      },
      "execution_count": 1747,
      "outputs": [
        {
          "output_type": "execute_result",
          "data": {
            "text/plain": [
              "    PS  Ataque  Defensa  Ataque especial  Defensa especial  Velocidad\n",
              "0    2       3        2                4                 2          4\n",
              "1    2       3        2                2                 2          3\n",
              "2    2       3        4                3                 2          1\n",
              "3    3       5        3                4                 3          4\n",
              "4    2       3        3                4                 2          4\n",
              "5    3       4        3                5                 3          4\n",
              "6    3       2        2                4                 3          3\n",
              "7    3       2        2                2                 2          2\n",
              "8    2       4        4                2                 2          3\n",
              "9    3       3        2                3                 2          2\n",
              "10   1       1        2                2                 1          1\n",
              "11   2       4        2                2                 2          3\n",
              "12   2       2        2                4                 3          5\n",
              "13   2       3        3                5                 2          2\n",
              "14   1       2        1                2                 1          3\n",
              "15   3       3        3                5                 4          3\n",
              "16   1       3        4                2                 4          2\n",
              "17   4       4        3                4                 3          3\n",
              "18   2       3        3                3                 3          1\n",
              "19   2       2        2                5                 2          4"
            ],
            "text/html": [
              "\n",
              "  <div id=\"df-c8baf70a-018a-4e2e-abf9-daae4dd9b992\">\n",
              "    <div class=\"colab-df-container\">\n",
              "      <div>\n",
              "<style scoped>\n",
              "    .dataframe tbody tr th:only-of-type {\n",
              "        vertical-align: middle;\n",
              "    }\n",
              "\n",
              "    .dataframe tbody tr th {\n",
              "        vertical-align: top;\n",
              "    }\n",
              "\n",
              "    .dataframe thead th {\n",
              "        text-align: right;\n",
              "    }\n",
              "</style>\n",
              "<table border=\"1\" class=\"dataframe\">\n",
              "  <thead>\n",
              "    <tr style=\"text-align: right;\">\n",
              "      <th></th>\n",
              "      <th>PS</th>\n",
              "      <th>Ataque</th>\n",
              "      <th>Defensa</th>\n",
              "      <th>Ataque especial</th>\n",
              "      <th>Defensa especial</th>\n",
              "      <th>Velocidad</th>\n",
              "    </tr>\n",
              "  </thead>\n",
              "  <tbody>\n",
              "    <tr>\n",
              "      <th>0</th>\n",
              "      <td>2</td>\n",
              "      <td>3</td>\n",
              "      <td>2</td>\n",
              "      <td>4</td>\n",
              "      <td>2</td>\n",
              "      <td>4</td>\n",
              "    </tr>\n",
              "    <tr>\n",
              "      <th>1</th>\n",
              "      <td>2</td>\n",
              "      <td>3</td>\n",
              "      <td>2</td>\n",
              "      <td>2</td>\n",
              "      <td>2</td>\n",
              "      <td>3</td>\n",
              "    </tr>\n",
              "    <tr>\n",
              "      <th>2</th>\n",
              "      <td>2</td>\n",
              "      <td>3</td>\n",
              "      <td>4</td>\n",
              "      <td>3</td>\n",
              "      <td>2</td>\n",
              "      <td>1</td>\n",
              "    </tr>\n",
              "    <tr>\n",
              "      <th>3</th>\n",
              "      <td>3</td>\n",
              "      <td>5</td>\n",
              "      <td>3</td>\n",
              "      <td>4</td>\n",
              "      <td>3</td>\n",
              "      <td>4</td>\n",
              "    </tr>\n",
              "    <tr>\n",
              "      <th>4</th>\n",
              "      <td>2</td>\n",
              "      <td>3</td>\n",
              "      <td>3</td>\n",
              "      <td>4</td>\n",
              "      <td>2</td>\n",
              "      <td>4</td>\n",
              "    </tr>\n",
              "    <tr>\n",
              "      <th>5</th>\n",
              "      <td>3</td>\n",
              "      <td>4</td>\n",
              "      <td>3</td>\n",
              "      <td>5</td>\n",
              "      <td>3</td>\n",
              "      <td>4</td>\n",
              "    </tr>\n",
              "    <tr>\n",
              "      <th>6</th>\n",
              "      <td>3</td>\n",
              "      <td>2</td>\n",
              "      <td>2</td>\n",
              "      <td>4</td>\n",
              "      <td>3</td>\n",
              "      <td>3</td>\n",
              "    </tr>\n",
              "    <tr>\n",
              "      <th>7</th>\n",
              "      <td>3</td>\n",
              "      <td>2</td>\n",
              "      <td>2</td>\n",
              "      <td>2</td>\n",
              "      <td>2</td>\n",
              "      <td>2</td>\n",
              "    </tr>\n",
              "    <tr>\n",
              "      <th>8</th>\n",
              "      <td>2</td>\n",
              "      <td>4</td>\n",
              "      <td>4</td>\n",
              "      <td>2</td>\n",
              "      <td>2</td>\n",
              "      <td>3</td>\n",
              "    </tr>\n",
              "    <tr>\n",
              "      <th>9</th>\n",
              "      <td>3</td>\n",
              "      <td>3</td>\n",
              "      <td>2</td>\n",
              "      <td>3</td>\n",
              "      <td>2</td>\n",
              "      <td>2</td>\n",
              "    </tr>\n",
              "    <tr>\n",
              "      <th>10</th>\n",
              "      <td>1</td>\n",
              "      <td>1</td>\n",
              "      <td>2</td>\n",
              "      <td>2</td>\n",
              "      <td>1</td>\n",
              "      <td>1</td>\n",
              "    </tr>\n",
              "    <tr>\n",
              "      <th>11</th>\n",
              "      <td>2</td>\n",
              "      <td>4</td>\n",
              "      <td>2</td>\n",
              "      <td>2</td>\n",
              "      <td>2</td>\n",
              "      <td>3</td>\n",
              "    </tr>\n",
              "    <tr>\n",
              "      <th>12</th>\n",
              "      <td>2</td>\n",
              "      <td>2</td>\n",
              "      <td>2</td>\n",
              "      <td>4</td>\n",
              "      <td>3</td>\n",
              "      <td>5</td>\n",
              "    </tr>\n",
              "    <tr>\n",
              "      <th>13</th>\n",
              "      <td>2</td>\n",
              "      <td>3</td>\n",
              "      <td>3</td>\n",
              "      <td>5</td>\n",
              "      <td>2</td>\n",
              "      <td>2</td>\n",
              "    </tr>\n",
              "    <tr>\n",
              "      <th>14</th>\n",
              "      <td>1</td>\n",
              "      <td>2</td>\n",
              "      <td>1</td>\n",
              "      <td>2</td>\n",
              "      <td>1</td>\n",
              "      <td>3</td>\n",
              "    </tr>\n",
              "    <tr>\n",
              "      <th>15</th>\n",
              "      <td>3</td>\n",
              "      <td>3</td>\n",
              "      <td>3</td>\n",
              "      <td>5</td>\n",
              "      <td>4</td>\n",
              "      <td>3</td>\n",
              "    </tr>\n",
              "    <tr>\n",
              "      <th>16</th>\n",
              "      <td>1</td>\n",
              "      <td>3</td>\n",
              "      <td>4</td>\n",
              "      <td>2</td>\n",
              "      <td>4</td>\n",
              "      <td>2</td>\n",
              "    </tr>\n",
              "    <tr>\n",
              "      <th>17</th>\n",
              "      <td>4</td>\n",
              "      <td>4</td>\n",
              "      <td>3</td>\n",
              "      <td>4</td>\n",
              "      <td>3</td>\n",
              "      <td>3</td>\n",
              "    </tr>\n",
              "    <tr>\n",
              "      <th>18</th>\n",
              "      <td>2</td>\n",
              "      <td>3</td>\n",
              "      <td>3</td>\n",
              "      <td>3</td>\n",
              "      <td>3</td>\n",
              "      <td>1</td>\n",
              "    </tr>\n",
              "    <tr>\n",
              "      <th>19</th>\n",
              "      <td>2</td>\n",
              "      <td>2</td>\n",
              "      <td>2</td>\n",
              "      <td>5</td>\n",
              "      <td>2</td>\n",
              "      <td>4</td>\n",
              "    </tr>\n",
              "  </tbody>\n",
              "</table>\n",
              "</div>\n",
              "      <button class=\"colab-df-convert\" onclick=\"convertToInteractive('df-c8baf70a-018a-4e2e-abf9-daae4dd9b992')\"\n",
              "              title=\"Convert this dataframe to an interactive table.\"\n",
              "              style=\"display:none;\">\n",
              "        \n",
              "  <svg xmlns=\"http://www.w3.org/2000/svg\" height=\"24px\"viewBox=\"0 0 24 24\"\n",
              "       width=\"24px\">\n",
              "    <path d=\"M0 0h24v24H0V0z\" fill=\"none\"/>\n",
              "    <path d=\"M18.56 5.44l.94 2.06.94-2.06 2.06-.94-2.06-.94-.94-2.06-.94 2.06-2.06.94zm-11 1L8.5 8.5l.94-2.06 2.06-.94-2.06-.94L8.5 2.5l-.94 2.06-2.06.94zm10 10l.94 2.06.94-2.06 2.06-.94-2.06-.94-.94-2.06-.94 2.06-2.06.94z\"/><path d=\"M17.41 7.96l-1.37-1.37c-.4-.4-.92-.59-1.43-.59-.52 0-1.04.2-1.43.59L10.3 9.45l-7.72 7.72c-.78.78-.78 2.05 0 2.83L4 21.41c.39.39.9.59 1.41.59.51 0 1.02-.2 1.41-.59l7.78-7.78 2.81-2.81c.8-.78.8-2.07 0-2.86zM5.41 20L4 18.59l7.72-7.72 1.47 1.35L5.41 20z\"/>\n",
              "  </svg>\n",
              "      </button>\n",
              "      \n",
              "  <style>\n",
              "    .colab-df-container {\n",
              "      display:flex;\n",
              "      flex-wrap:wrap;\n",
              "      gap: 12px;\n",
              "    }\n",
              "\n",
              "    .colab-df-convert {\n",
              "      background-color: #E8F0FE;\n",
              "      border: none;\n",
              "      border-radius: 50%;\n",
              "      cursor: pointer;\n",
              "      display: none;\n",
              "      fill: #1967D2;\n",
              "      height: 32px;\n",
              "      padding: 0 0 0 0;\n",
              "      width: 32px;\n",
              "    }\n",
              "\n",
              "    .colab-df-convert:hover {\n",
              "      background-color: #E2EBFA;\n",
              "      box-shadow: 0px 1px 2px rgba(60, 64, 67, 0.3), 0px 1px 3px 1px rgba(60, 64, 67, 0.15);\n",
              "      fill: #174EA6;\n",
              "    }\n",
              "\n",
              "    [theme=dark] .colab-df-convert {\n",
              "      background-color: #3B4455;\n",
              "      fill: #D2E3FC;\n",
              "    }\n",
              "\n",
              "    [theme=dark] .colab-df-convert:hover {\n",
              "      background-color: #434B5C;\n",
              "      box-shadow: 0px 1px 3px 1px rgba(0, 0, 0, 0.15);\n",
              "      filter: drop-shadow(0px 1px 2px rgba(0, 0, 0, 0.3));\n",
              "      fill: #FFFFFF;\n",
              "    }\n",
              "  </style>\n",
              "\n",
              "      <script>\n",
              "        const buttonEl =\n",
              "          document.querySelector('#df-c8baf70a-018a-4e2e-abf9-daae4dd9b992 button.colab-df-convert');\n",
              "        buttonEl.style.display =\n",
              "          google.colab.kernel.accessAllowed ? 'block' : 'none';\n",
              "\n",
              "        async function convertToInteractive(key) {\n",
              "          const element = document.querySelector('#df-c8baf70a-018a-4e2e-abf9-daae4dd9b992');\n",
              "          const dataTable =\n",
              "            await google.colab.kernel.invokeFunction('convertToInteractive',\n",
              "                                                     [key], {});\n",
              "          if (!dataTable) return;\n",
              "\n",
              "          const docLinkHtml = 'Like what you see? Visit the ' +\n",
              "            '<a target=\"_blank\" href=https://colab.research.google.com/notebooks/data_table.ipynb>data table notebook</a>'\n",
              "            + ' to learn more about interactive tables.';\n",
              "          element.innerHTML = '';\n",
              "          dataTable['output_type'] = 'display_data';\n",
              "          await google.colab.output.renderOutput(dataTable, element);\n",
              "          const docLink = document.createElement('div');\n",
              "          docLink.innerHTML = docLinkHtml;\n",
              "          element.appendChild(docLink);\n",
              "        }\n",
              "      </script>\n",
              "    </div>\n",
              "  </div>\n",
              "  "
            ]
          },
          "metadata": {},
          "execution_count": 1747
        }
      ]
    },
    {
      "cell_type": "code",
      "source": [
        "for i in data.columns:\n",
        "  arr = data[i]\n",
        "  plt.boxplot(arr)\n",
        "  plt.title(\"Outliers de [{0}]\".format(i))\n",
        "  plt.show()\n",
        "     "
      ],
      "metadata": {
        "colab": {
          "base_uri": "https://localhost:8080/",
          "height": 1000
        },
        "id": "XdUmOodawhgW",
        "outputId": "669bb654-6a32-42e5-c7c5-da1ae7ee9e2d"
      },
      "execution_count": 1748,
      "outputs": [
        {
          "output_type": "display_data",
          "data": {
            "text/plain": [
              "<Figure size 432x288 with 1 Axes>"
            ],
            "image/png": "[encoded data removed]"
          },
          "metadata": {
            "needs_background": "light"
          }
        },
        {
          "output_type": "display_data",
          "data": {
            "text/plain": [
              "<Figure size 432x288 with 1 Axes>"
            ],
            "image/png": "[encoded data removed]"
          },
          "metadata": {
            "needs_background": "light"
          }
        },
        {
          "output_type": "display_data",
          "data": {
            "text/plain": [
              "<Figure size 432x288 with 1 Axes>"
            ],
            "image/png": "[encoded data removed]"
          },
          "metadata": {
            "needs_background": "light"
          }
        },
        {
          "output_type": "display_data",
          "data": {
            "text/plain": [
              "<Figure size 432x288 with 1 Axes>"
            ],
            "image/png": "[encoded data removed]"
          },
          "metadata": {
            "needs_background": "light"
          }
        },
        {
          "output_type": "display_data",
          "data": {
            "text/plain": [
              "<Figure size 432x288 with 1 Axes>"
            ],
            "image/png": "[encoded data removed]"
          },
          "metadata": {
            "needs_background": "light"
          }
        },
        {
          "output_type": "display_data",
          "data": {
            "text/plain": [
              "<Figure size 432x288 with 1 Axes>"
            ],
            "image/png": "[encoded data removed]"
          },
          "metadata": {
            "needs_background": "light"
          }
        }
      ]
    },
    {
      "cell_type": "code",
      "source": [
        "print('----------------------')\n",
        "print('Media de cada variable')\n",
        "print('----------------------')\n",
        "data.mean(axis=0)"
      ],
      "metadata": {
        "colab": {
          "base_uri": "https://localhost:8080/"
        },
        "id": "UMaO0oKc0bKO",
        "outputId": "73d70084-4fc6-4399-8f89-ff56a22602f7"
      },
      "execution_count": 1749,
      "outputs": [
        {
          "output_type": "stream",
          "name": "stdout",
          "text": [
            "----------------------\n",
            "Media de cada variable\n",
            "----------------------\n"
          ]
        },
        {
          "output_type": "execute_result",
          "data": {
            "text/plain": [
              "PS                  2.25\n",
              "Ataque              2.95\n",
              "Defensa             2.60\n",
              "Ataque especial     3.35\n",
              "Defensa especial    2.40\n",
              "Velocidad           2.85\n",
              "dtype: float64"
            ]
          },
          "metadata": {},
          "execution_count": 1749
        }
      ]
    },
    {
      "cell_type": "code",
      "source": [
        "print('-------------------------')\n",
        "print('Varianza de cada variable')\n",
        "print('-------------------------')\n",
        "data.var(axis=0)"
      ],
      "metadata": {
        "colab": {
          "base_uri": "https://localhost:8080/"
        },
        "id": "Kt6U9erG06o7",
        "outputId": "7e8c314f-b91b-48d7-c764-41a2f044120f"
      },
      "execution_count": 1750,
      "outputs": [
        {
          "output_type": "stream",
          "name": "stdout",
          "text": [
            "-------------------------\n",
            "Varianza de cada variable\n",
            "-------------------------\n"
          ]
        },
        {
          "output_type": "execute_result",
          "data": {
            "text/plain": [
              "PS                  0.618421\n",
              "Ataque              0.892105\n",
              "Defensa             0.673684\n",
              "Ataque especial     1.397368\n",
              "Defensa especial    0.673684\n",
              "Velocidad           1.292105\n",
              "dtype: float64"
            ]
          },
          "metadata": {},
          "execution_count": 1750
        }
      ]
    },
    {
      "cell_type": "code",
      "source": [
        "from sklearn.preprocessing import StandardScaler\n",
        "\n",
        "ss = StandardScaler()\n",
        "data_transformed = ss.fit_transform(data)\n",
        "data_transformed = pd.DataFrame(data = data_transformed, \n",
        "                        columns = [\"PS\",\t\"Ataque\",\t\"Defensa\",\t\"Ataque especial\",\t\"Defensa especial\",\t\"Velocidad\"])\n",
        "data_transformed\n"
      ],
      "metadata": {
        "colab": {
          "base_uri": "https://localhost:8080/",
          "height": 676
        },
        "id": "1get8O3q_ugi",
        "outputId": "7743d867-3f88-43f3-99ea-ecff0dc75a1f"
      },
      "execution_count": 1751,
      "outputs": [
        {
          "output_type": "execute_result",
          "data": {
            "text/plain": [
              "          PS    Ataque  Defensa  Ataque especial  Defensa especial  Velocidad\n",
              "0  -0.326164  0.054313    -0.75         0.564152             -0.50   1.037975\n",
              "1  -0.326164  0.054313    -0.75        -1.171700             -0.50   0.135388\n",
              "2  -0.326164  0.054313     1.75        -0.303774             -0.50  -1.669787\n",
              "3   0.978492  2.226814     0.50         0.564152              0.75   1.037975\n",
              "4  -0.326164  0.054313     0.50         0.564152             -0.50   1.037975\n",
              "5   0.978492  1.140563     0.50         1.432078              0.75   1.037975\n",
              "6   0.978492 -1.031938    -0.75         0.564152              0.75   0.135388\n",
              "7   0.978492 -1.031938    -0.75        -1.171700             -0.50  -0.767199\n",
              "8  -0.326164  1.140563     1.75        -1.171700             -0.50   0.135388\n",
              "9   0.978492  0.054313    -0.75        -0.303774             -0.50  -0.767199\n",
              "10 -1.630820 -2.118189    -0.75        -1.171700             -1.75  -1.669787\n",
              "11 -0.326164  1.140563    -0.75        -1.171700             -0.50   0.135388\n",
              "12 -0.326164 -1.031938    -0.75         0.564152              0.75   1.940563\n",
              "13 -0.326164  0.054313     0.50         1.432078             -0.50  -0.767199\n",
              "14 -1.630820 -1.031938    -2.00        -1.171700             -1.75   0.135388\n",
              "15  0.978492  0.054313     0.50         1.432078              2.00   0.135388\n",
              "16 -1.630820  0.054313     1.75        -1.171700              2.00  -0.767199\n",
              "17  2.283148  1.140563     0.50         0.564152              0.75   0.135388\n",
              "18 -0.326164  0.054313     0.50        -0.303774              0.75  -1.669787\n",
              "19 -0.326164 -1.031938    -0.75         1.432078             -0.50   1.037975"
            ],
            "text/html": [
              "\n",
              "  <div id=\"df-4e0630cb-1cf5-4a6f-a340-82a2dd5bbead\">\n",
              "    <div class=\"colab-df-container\">\n",
              "      <div>\n",
              "<style scoped>\n",
              "    .dataframe tbody tr th:only-of-type {\n",
              "        vertical-align: middle;\n",
              "    }\n",
              "\n",
              "    .dataframe tbody tr th {\n",
              "        vertical-align: top;\n",
              "    }\n",
              "\n",
              "    .dataframe thead th {\n",
              "        text-align: right;\n",
              "    }\n",
              "</style>\n",
              "<table border=\"1\" class=\"dataframe\">\n",
              "  <thead>\n",
              "    <tr style=\"text-align: right;\">\n",
              "      <th></th>\n",
              "      <th>PS</th>\n",
              "      <th>Ataque</th>\n",
              "      <th>Defensa</th>\n",
              "      <th>Ataque especial</th>\n",
              "      <th>Defensa especial</th>\n",
              "      <th>Velocidad</th>\n",
              "    </tr>\n",
              "  </thead>\n",
              "  <tbody>\n",
              "    <tr>\n",
              "      <th>0</th>\n",
              "      <td>-0.326164</td>\n",
              "      <td>0.054313</td>\n",
              "      <td>-0.75</td>\n",
              "      <td>0.564152</td>\n",
              "      <td>-0.50</td>\n",
              "      <td>1.037975</td>\n",
              "    </tr>\n",
              "    <tr>\n",
              "      <th>1</th>\n",
              "      <td>-0.326164</td>\n",
              "      <td>0.054313</td>\n",
              "      <td>-0.75</td>\n",
              "      <td>-1.171700</td>\n",
              "      <td>-0.50</td>\n",
              "      <td>0.135388</td>\n",
              "    </tr>\n",
              "    <tr>\n",
              "      <th>2</th>\n",
              "      <td>-0.326164</td>\n",
              "      <td>0.054313</td>\n",
              "      <td>1.75</td>\n",
              "      <td>-0.303774</td>\n",
              "      <td>-0.50</td>\n",
              "      <td>-1.669787</td>\n",
              "    </tr>\n",
              "    <tr>\n",
              "      <th>3</th>\n",
              "      <td>0.978492</td>\n",
              "      <td>2.226814</td>\n",
              "      <td>0.50</td>\n",
              "      <td>0.564152</td>\n",
              "      <td>0.75</td>\n",
              "      <td>1.037975</td>\n",
              "    </tr>\n",
              "    <tr>\n",
              "      <th>4</th>\n",
              "      <td>-0.326164</td>\n",
              "      <td>0.054313</td>\n",
              "      <td>0.50</td>\n",
              "      <td>0.564152</td>\n",
              "      <td>-0.50</td>\n",
              "      <td>1.037975</td>\n",
              "    </tr>\n",
              "    <tr>\n",
              "      <th>5</th>\n",
              "      <td>0.978492</td>\n",
              "      <td>1.140563</td>\n",
              "      <td>0.50</td>\n",
              "      <td>1.432078</td>\n",
              "      <td>0.75</td>\n",
              "      <td>1.037975</td>\n",
              "    </tr>\n",
              "    <tr>\n",
              "      <th>6</th>\n",
              "      <td>0.978492</td>\n",
              "      <td>-1.031938</td>\n",
              "      <td>-0.75</td>\n",
              "      <td>0.564152</td>\n",
              "      <td>0.75</td>\n",
              "      <td>0.135388</td>\n",
              "    </tr>\n",
              "    <tr>\n",
              "      <th>7</th>\n",
              "      <td>0.978492</td>\n",
              "      <td>-1.031938</td>\n",
              "      <td>-0.75</td>\n",
              "      <td>-1.171700</td>\n",
              "      <td>-0.50</td>\n",
              "      <td>-0.767199</td>\n",
              "    </tr>\n",
              "    <tr>\n",
              "      <th>8</th>\n",
              "      <td>-0.326164</td>\n",
              "      <td>1.140563</td>\n",
              "      <td>1.75</td>\n",
              "      <td>-1.171700</td>\n",
              "      <td>-0.50</td>\n",
              "      <td>0.135388</td>\n",
              "    </tr>\n",
              "    <tr>\n",
              "      <th>9</th>\n",
              "      <td>0.978492</td>\n",
              "      <td>0.054313</td>\n",
              "      <td>-0.75</td>\n",
              "      <td>-0.303774</td>\n",
              "      <td>-0.50</td>\n",
              "      <td>-0.767199</td>\n",
              "    </tr>\n",
              "    <tr>\n",
              "      <th>10</th>\n",
              "      <td>-1.630820</td>\n",
              "      <td>-2.118189</td>\n",
              "      <td>-0.75</td>\n",
              "      <td>-1.171700</td>\n",
              "      <td>-1.75</td>\n",
              "      <td>-1.669787</td>\n",
              "    </tr>\n",
              "    <tr>\n",
              "      <th>11</th>\n",
              "      <td>-0.326164</td>\n",
              "      <td>1.140563</td>\n",
              "      <td>-0.75</td>\n",
              "      <td>-1.171700</td>\n",
              "      <td>-0.50</td>\n",
              "      <td>0.135388</td>\n",
              "    </tr>\n",
              "    <tr>\n",
              "      <th>12</th>\n",
              "      <td>-0.326164</td>\n",
              "      <td>-1.031938</td>\n",
              "      <td>-0.75</td>\n",
              "      <td>0.564152</td>\n",
              "      <td>0.75</td>\n",
              "      <td>1.940563</td>\n",
              "    </tr>\n",
              "    <tr>\n",
              "      <th>13</th>\n",
              "      <td>-0.326164</td>\n",
              "      <td>0.054313</td>\n",
              "      <td>0.50</td>\n",
              "      <td>1.432078</td>\n",
              "      <td>-0.50</td>\n",
              "      <td>-0.767199</td>\n",
              "    </tr>\n",
              "    <tr>\n",
              "      <th>14</th>\n",
              "      <td>-1.630820</td>\n",
              "      <td>-1.031938</td>\n",
              "      <td>-2.00</td>\n",
              "      <td>-1.171700</td>\n",
              "      <td>-1.75</td>\n",
              "      <td>0.135388</td>\n",
              "    </tr>\n",
              "    <tr>\n",
              "      <th>15</th>\n",
              "      <td>0.978492</td>\n",
              "      <td>0.054313</td>\n",
              "      <td>0.50</td>\n",
              "      <td>1.432078</td>\n",
              "      <td>2.00</td>\n",
              "      <td>0.135388</td>\n",
              "    </tr>\n",
              "    <tr>\n",
              "      <th>16</th>\n",
              "      <td>-1.630820</td>\n",
              "      <td>0.054313</td>\n",
              "      <td>1.75</td>\n",
              "      <td>-1.171700</td>\n",
              "      <td>2.00</td>\n",
              "      <td>-0.767199</td>\n",
              "    </tr>\n",
              "    <tr>\n",
              "      <th>17</th>\n",
              "      <td>2.283148</td>\n",
              "      <td>1.140563</td>\n",
              "      <td>0.50</td>\n",
              "      <td>0.564152</td>\n",
              "      <td>0.75</td>\n",
              "      <td>0.135388</td>\n",
              "    </tr>\n",
              "    <tr>\n",
              "      <th>18</th>\n",
              "      <td>-0.326164</td>\n",
              "      <td>0.054313</td>\n",
              "      <td>0.50</td>\n",
              "      <td>-0.303774</td>\n",
              "      <td>0.75</td>\n",
              "      <td>-1.669787</td>\n",
              "    </tr>\n",
              "    <tr>\n",
              "      <th>19</th>\n",
              "      <td>-0.326164</td>\n",
              "      <td>-1.031938</td>\n",
              "      <td>-0.75</td>\n",
              "      <td>1.432078</td>\n",
              "      <td>-0.50</td>\n",
              "      <td>1.037975</td>\n",
              "    </tr>\n",
              "  </tbody>\n",
              "</table>\n",
              "</div>\n",
              "      <button class=\"colab-df-convert\" onclick=\"convertToInteractive('df-4e0630cb-1cf5-4a6f-a340-82a2dd5bbead')\"\n",
              "              title=\"Convert this dataframe to an interactive table.\"\n",
              "              style=\"display:none;\">\n",
              "        \n",
              "  <svg xmlns=\"http://www.w3.org/2000/svg\" height=\"24px\"viewBox=\"0 0 24 24\"\n",
              "       width=\"24px\">\n",
              "    <path d=\"M0 0h24v24H0V0z\" fill=\"none\"/>\n",
              "    <path d=\"M18.56 5.44l.94 2.06.94-2.06 2.06-.94-2.06-.94-.94-2.06-.94 2.06-2.06.94zm-11 1L8.5 8.5l.94-2.06 2.06-.94-2.06-.94L8.5 2.5l-.94 2.06-2.06.94zm10 10l.94 2.06.94-2.06 2.06-.94-2.06-.94-.94-2.06-.94 2.06-2.06.94z\"/><path d=\"M17.41 7.96l-1.37-1.37c-.4-.4-.92-.59-1.43-.59-.52 0-1.04.2-1.43.59L10.3 9.45l-7.72 7.72c-.78.78-.78 2.05 0 2.83L4 21.41c.39.39.9.59 1.41.59.51 0 1.02-.2 1.41-.59l7.78-7.78 2.81-2.81c.8-.78.8-2.07 0-2.86zM5.41 20L4 18.59l7.72-7.72 1.47 1.35L5.41 20z\"/>\n",
              "  </svg>\n",
              "      </button>\n",
              "      \n",
              "  <style>\n",
              "    .colab-df-container {\n",
              "      display:flex;\n",
              "      flex-wrap:wrap;\n",
              "      gap: 12px;\n",
              "    }\n",
              "\n",
              "    .colab-df-convert {\n",
              "      background-color: #E8F0FE;\n",
              "      border: none;\n",
              "      border-radius: 50%;\n",
              "      cursor: pointer;\n",
              "      display: none;\n",
              "      fill: #1967D2;\n",
              "      height: 32px;\n",
              "      padding: 0 0 0 0;\n",
              "      width: 32px;\n",
              "    }\n",
              "\n",
              "    .colab-df-convert:hover {\n",
              "      background-color: #E2EBFA;\n",
              "      box-shadow: 0px 1px 2px rgba(60, 64, 67, 0.3), 0px 1px 3px 1px rgba(60, 64, 67, 0.15);\n",
              "      fill: #174EA6;\n",
              "    }\n",
              "\n",
              "    [theme=dark] .colab-df-convert {\n",
              "      background-color: #3B4455;\n",
              "      fill: #D2E3FC;\n",
              "    }\n",
              "\n",
              "    [theme=dark] .colab-df-convert:hover {\n",
              "      background-color: #434B5C;\n",
              "      box-shadow: 0px 1px 3px 1px rgba(0, 0, 0, 0.15);\n",
              "      filter: drop-shadow(0px 1px 2px rgba(0, 0, 0, 0.3));\n",
              "      fill: #FFFFFF;\n",
              "    }\n",
              "  </style>\n",
              "\n",
              "      <script>\n",
              "        const buttonEl =\n",
              "          document.querySelector('#df-4e0630cb-1cf5-4a6f-a340-82a2dd5bbead button.colab-df-convert');\n",
              "        buttonEl.style.display =\n",
              "          google.colab.kernel.accessAllowed ? 'block' : 'none';\n",
              "\n",
              "        async function convertToInteractive(key) {\n",
              "          const element = document.querySelector('#df-4e0630cb-1cf5-4a6f-a340-82a2dd5bbead');\n",
              "          const dataTable =\n",
              "            await google.colab.kernel.invokeFunction('convertToInteractive',\n",
              "                                                     [key], {});\n",
              "          if (!dataTable) return;\n",
              "\n",
              "          const docLinkHtml = 'Like what you see? Visit the ' +\n",
              "            '<a target=\"_blank\" href=https://colab.research.google.com/notebooks/data_table.ipynb>data table notebook</a>'\n",
              "            + ' to learn more about interactive tables.';\n",
              "          element.innerHTML = '';\n",
              "          dataTable['output_type'] = 'display_data';\n",
              "          await google.colab.output.renderOutput(dataTable, element);\n",
              "          const docLink = document.createElement('div');\n",
              "          docLink.innerHTML = docLinkHtml;\n",
              "          element.appendChild(docLink);\n",
              "        }\n",
              "      </script>\n",
              "    </div>\n",
              "  </div>\n",
              "  "
            ]
          },
          "metadata": {},
          "execution_count": 1751
        }
      ]
    },
    {
      "cell_type": "markdown",
      "source": [
        "Primero  obtenemos  la  matriz  de  covarianza  mediante  el  método  cov  de \n",
        "numpy"
      ],
      "metadata": {
        "id": "hoUlOUd-2rNX"
      }
    },
    {
      "cell_type": "code",
      "source": [
        "data_cov=data_transformed.cov()\n",
        "data_cov"
      ],
      "metadata": {
        "colab": {
          "base_uri": "https://localhost:8080/",
          "height": 237
        },
        "id": "nI8G41P8J47c",
        "outputId": "0ee46703-3f4b-47f1-8d2e-e3f98edfccea"
      },
      "execution_count": 1752,
      "outputs": [
        {
          "output_type": "execute_result",
          "data": {
            "text/plain": [
              "                        PS    Ataque   Defensa  Ataque especial  \\\n",
              "PS                1.052632  0.466179  0.085833         0.491676   \n",
              "Ataque            0.466179  1.052632  0.543125         0.166228   \n",
              "Defensa           0.085833  0.543125  1.052632         0.102781   \n",
              "Ataque especial   0.491676  0.166228  0.102781         1.052632   \n",
              "Defensa especial  0.429163  0.385905  0.509868         0.411123   \n",
              "Velocidad         0.232414  0.250269 -0.249399         0.496827   \n",
              "\n",
              "                  Defensa especial  Velocidad  \n",
              "PS                        0.429163   0.232414  \n",
              "Ataque                    0.385905   0.250269  \n",
              "Defensa                   0.509868  -0.249399  \n",
              "Ataque especial           0.411123   0.496827  \n",
              "Defensa especial          1.052632   0.190018  \n",
              "Velocidad                 0.190018   1.052632  "
            ],
            "text/html": [
              "\n",
              "  <div id=\"df-51f7c023-f29d-48e5-8e3d-fde96a6e4b44\">\n",
              "    <div class=\"colab-df-container\">\n",
              "      <div>\n",
              "<style scoped>\n",
              "    .dataframe tbody tr th:only-of-type {\n",
              "        vertical-align: middle;\n",
              "    }\n",
              "\n",
              "    .dataframe tbody tr th {\n",
              "        vertical-align: top;\n",
              "    }\n",
              "\n",
              "    .dataframe thead th {\n",
              "        text-align: right;\n",
              "    }\n",
              "</style>\n",
              "<table border=\"1\" class=\"dataframe\">\n",
              "  <thead>\n",
              "    <tr style=\"text-align: right;\">\n",
              "      <th></th>\n",
              "      <th>PS</th>\n",
              "      <th>Ataque</th>\n",
              "      <th>Defensa</th>\n",
              "      <th>Ataque especial</th>\n",
              "      <th>Defensa especial</th>\n",
              "      <th>Velocidad</th>\n",
              "    </tr>\n",
              "  </thead>\n",
              "  <tbody>\n",
              "    <tr>\n",
              "      <th>PS</th>\n",
              "      <td>1.052632</td>\n",
              "      <td>0.466179</td>\n",
              "      <td>0.085833</td>\n",
              "      <td>0.491676</td>\n",
              "      <td>0.429163</td>\n",
              "      <td>0.232414</td>\n",
              "    </tr>\n",
              "    <tr>\n",
              "      <th>Ataque</th>\n",
              "      <td>0.466179</td>\n",
              "      <td>1.052632</td>\n",
              "      <td>0.543125</td>\n",
              "      <td>0.166228</td>\n",
              "      <td>0.385905</td>\n",
              "      <td>0.250269</td>\n",
              "    </tr>\n",
              "    <tr>\n",
              "      <th>Defensa</th>\n",
              "      <td>0.085833</td>\n",
              "      <td>0.543125</td>\n",
              "      <td>1.052632</td>\n",
              "      <td>0.102781</td>\n",
              "      <td>0.509868</td>\n",
              "      <td>-0.249399</td>\n",
              "    </tr>\n",
              "    <tr>\n",
              "      <th>Ataque especial</th>\n",
              "      <td>0.491676</td>\n",
              "      <td>0.166228</td>\n",
              "      <td>0.102781</td>\n",
              "      <td>1.052632</td>\n",
              "      <td>0.411123</td>\n",
              "      <td>0.496827</td>\n",
              "    </tr>\n",
              "    <tr>\n",
              "      <th>Defensa especial</th>\n",
              "      <td>0.429163</td>\n",
              "      <td>0.385905</td>\n",
              "      <td>0.509868</td>\n",
              "      <td>0.411123</td>\n",
              "      <td>1.052632</td>\n",
              "      <td>0.190018</td>\n",
              "    </tr>\n",
              "    <tr>\n",
              "      <th>Velocidad</th>\n",
              "      <td>0.232414</td>\n",
              "      <td>0.250269</td>\n",
              "      <td>-0.249399</td>\n",
              "      <td>0.496827</td>\n",
              "      <td>0.190018</td>\n",
              "      <td>1.052632</td>\n",
              "    </tr>\n",
              "  </tbody>\n",
              "</table>\n",
              "</div>\n",
              "      <button class=\"colab-df-convert\" onclick=\"convertToInteractive('df-51f7c023-f29d-48e5-8e3d-fde96a6e4b44')\"\n",
              "              title=\"Convert this dataframe to an interactive table.\"\n",
              "              style=\"display:none;\">\n",
              "        \n",
              "  <svg xmlns=\"http://www.w3.org/2000/svg\" height=\"24px\"viewBox=\"0 0 24 24\"\n",
              "       width=\"24px\">\n",
              "    <path d=\"M0 0h24v24H0V0z\" fill=\"none\"/>\n",
              "    <path d=\"M18.56 5.44l.94 2.06.94-2.06 2.06-.94-2.06-.94-.94-2.06-.94 2.06-2.06.94zm-11 1L8.5 8.5l.94-2.06 2.06-.94-2.06-.94L8.5 2.5l-.94 2.06-2.06.94zm10 10l.94 2.06.94-2.06 2.06-.94-2.06-.94-.94-2.06-.94 2.06-2.06.94z\"/><path d=\"M17.41 7.96l-1.37-1.37c-.4-.4-.92-.59-1.43-.59-.52 0-1.04.2-1.43.59L10.3 9.45l-7.72 7.72c-.78.78-.78 2.05 0 2.83L4 21.41c.39.39.9.59 1.41.59.51 0 1.02-.2 1.41-.59l7.78-7.78 2.81-2.81c.8-.78.8-2.07 0-2.86zM5.41 20L4 18.59l7.72-7.72 1.47 1.35L5.41 20z\"/>\n",
              "  </svg>\n",
              "      </button>\n",
              "      \n",
              "  <style>\n",
              "    .colab-df-container {\n",
              "      display:flex;\n",
              "      flex-wrap:wrap;\n",
              "      gap: 12px;\n",
              "    }\n",
              "\n",
              "    .colab-df-convert {\n",
              "      background-color: #E8F0FE;\n",
              "      border: none;\n",
              "      border-radius: 50%;\n",
              "      cursor: pointer;\n",
              "      display: none;\n",
              "      fill: #1967D2;\n",
              "      height: 32px;\n",
              "      padding: 0 0 0 0;\n",
              "      width: 32px;\n",
              "    }\n",
              "\n",
              "    .colab-df-convert:hover {\n",
              "      background-color: #E2EBFA;\n",
              "      box-shadow: 0px 1px 2px rgba(60, 64, 67, 0.3), 0px 1px 3px 1px rgba(60, 64, 67, 0.15);\n",
              "      fill: #174EA6;\n",
              "    }\n",
              "\n",
              "    [theme=dark] .colab-df-convert {\n",
              "      background-color: #3B4455;\n",
              "      fill: #D2E3FC;\n",
              "    }\n",
              "\n",
              "    [theme=dark] .colab-df-convert:hover {\n",
              "      background-color: #434B5C;\n",
              "      box-shadow: 0px 1px 3px 1px rgba(0, 0, 0, 0.15);\n",
              "      filter: drop-shadow(0px 1px 2px rgba(0, 0, 0, 0.3));\n",
              "      fill: #FFFFFF;\n",
              "    }\n",
              "  </style>\n",
              "\n",
              "      <script>\n",
              "        const buttonEl =\n",
              "          document.querySelector('#df-51f7c023-f29d-48e5-8e3d-fde96a6e4b44 button.colab-df-convert');\n",
              "        buttonEl.style.display =\n",
              "          google.colab.kernel.accessAllowed ? 'block' : 'none';\n",
              "\n",
              "        async function convertToInteractive(key) {\n",
              "          const element = document.querySelector('#df-51f7c023-f29d-48e5-8e3d-fde96a6e4b44');\n",
              "          const dataTable =\n",
              "            await google.colab.kernel.invokeFunction('convertToInteractive',\n",
              "                                                     [key], {});\n",
              "          if (!dataTable) return;\n",
              "\n",
              "          const docLinkHtml = 'Like what you see? Visit the ' +\n",
              "            '<a target=\"_blank\" href=https://colab.research.google.com/notebooks/data_table.ipynb>data table notebook</a>'\n",
              "            + ' to learn more about interactive tables.';\n",
              "          element.innerHTML = '';\n",
              "          dataTable['output_type'] = 'display_data';\n",
              "          await google.colab.output.renderOutput(dataTable, element);\n",
              "          const docLink = document.createElement('div');\n",
              "          docLink.innerHTML = docLinkHtml;\n",
              "          element.appendChild(docLink);\n",
              "        }\n",
              "      </script>\n",
              "    </div>\n",
              "  </div>\n",
              "  "
            ]
          },
          "metadata": {},
          "execution_count": 1752
        }
      ]
    },
    {
      "cell_type": "code",
      "source": [
        "import seaborn as sns\n",
        "\n",
        "sns.heatmap(data_transformed.cov(),vmin=-1, vmax=1, annot=True);"
      ],
      "metadata": {
        "colab": {
          "base_uri": "https://localhost:8080/",
          "height": 345
        },
        "id": "_isAIevrv52O",
        "outputId": "ea61d7fb-4699-40e3-e755-f7111565fdef"
      },
      "execution_count": 1753,
      "outputs": [
        {
          "output_type": "display_data",
          "data": {
            "text/plain": [
              "<Figure size 432x288 with 2 Axes>"
            ],
            "image/png": "[encoded data removed]"
          },
          "metadata": {
            "needs_background": "light"
          }
        }
      ]
    },
    {
      "cell_type": "code",
      "source": [
        "\n",
        "data_corr=data_transformed.corr()\n",
        "data_corr"
      ],
      "metadata": {
        "colab": {
          "base_uri": "https://localhost:8080/",
          "height": 237
        },
        "id": "WFMCDiM5w853",
        "outputId": "54e18d41-145c-41e4-91a9-c6aaf8f1453e"
      },
      "execution_count": 1754,
      "outputs": [
        {
          "output_type": "execute_result",
          "data": {
            "text/plain": [
              "                        PS    Ataque   Defensa  Ataque especial  \\\n",
              "PS                1.000000  0.442870  0.081541         0.467092   \n",
              "Ataque            0.442870  1.000000  0.515969         0.157917   \n",
              "Defensa           0.081541  0.515969  1.000000         0.097642   \n",
              "Ataque especial   0.467092  0.157917  0.097642         1.000000   \n",
              "Defensa especial  0.407705  0.366610  0.484375         0.390567   \n",
              "Velocidad         0.220794  0.237756 -0.236929         0.471986   \n",
              "\n",
              "                  Defensa especial  Velocidad  \n",
              "PS                        0.407705   0.220794  \n",
              "Ataque                    0.366610   0.237756  \n",
              "Defensa                   0.484375  -0.236929  \n",
              "Ataque especial           0.390567   0.471986  \n",
              "Defensa especial          1.000000   0.180517  \n",
              "Velocidad                 0.180517   1.000000  "
            ],
            "text/html": [
              "\n",
              "  <div id=\"df-af39c8b5-4e84-443c-a747-bc600f4e6371\">\n",
              "    <div class=\"colab-df-container\">\n",
              "      <div>\n",
              "<style scoped>\n",
              "    .dataframe tbody tr th:only-of-type {\n",
              "        vertical-align: middle;\n",
              "    }\n",
              "\n",
              "    .dataframe tbody tr th {\n",
              "        vertical-align: top;\n",
              "    }\n",
              "\n",
              "    .dataframe thead th {\n",
              "        text-align: right;\n",
              "    }\n",
              "</style>\n",
              "<table border=\"1\" class=\"dataframe\">\n",
              "  <thead>\n",
              "    <tr style=\"text-align: right;\">\n",
              "      <th></th>\n",
              "      <th>PS</th>\n",
              "      <th>Ataque</th>\n",
              "      <th>Defensa</th>\n",
              "      <th>Ataque especial</th>\n",
              "      <th>Defensa especial</th>\n",
              "      <th>Velocidad</th>\n",
              "    </tr>\n",
              "  </thead>\n",
              "  <tbody>\n",
              "    <tr>\n",
              "      <th>PS</th>\n",
              "      <td>1.000000</td>\n",
              "      <td>0.442870</td>\n",
              "      <td>0.081541</td>\n",
              "      <td>0.467092</td>\n",
              "      <td>0.407705</td>\n",
              "      <td>0.220794</td>\n",
              "    </tr>\n",
              "    <tr>\n",
              "      <th>Ataque</th>\n",
              "      <td>0.442870</td>\n",
              "      <td>1.000000</td>\n",
              "      <td>0.515969</td>\n",
              "      <td>0.157917</td>\n",
              "      <td>0.366610</td>\n",
              "      <td>0.237756</td>\n",
              "    </tr>\n",
              "    <tr>\n",
              "      <th>Defensa</th>\n",
              "      <td>0.081541</td>\n",
              "      <td>0.515969</td>\n",
              "      <td>1.000000</td>\n",
              "      <td>0.097642</td>\n",
              "      <td>0.484375</td>\n",
              "      <td>-0.236929</td>\n",
              "    </tr>\n",
              "    <tr>\n",
              "      <th>Ataque especial</th>\n",
              "      <td>0.467092</td>\n",
              "      <td>0.157917</td>\n",
              "      <td>0.097642</td>\n",
              "      <td>1.000000</td>\n",
              "      <td>0.390567</td>\n",
              "      <td>0.471986</td>\n",
              "    </tr>\n",
              "    <tr>\n",
              "      <th>Defensa especial</th>\n",
              "      <td>0.407705</td>\n",
              "      <td>0.366610</td>\n",
              "      <td>0.484375</td>\n",
              "      <td>0.390567</td>\n",
              "      <td>1.000000</td>\n",
              "      <td>0.180517</td>\n",
              "    </tr>\n",
              "    <tr>\n",
              "      <th>Velocidad</th>\n",
              "      <td>0.220794</td>\n",
              "      <td>0.237756</td>\n",
              "      <td>-0.236929</td>\n",
              "      <td>0.471986</td>\n",
              "      <td>0.180517</td>\n",
              "      <td>1.000000</td>\n",
              "    </tr>\n",
              "  </tbody>\n",
              "</table>\n",
              "</div>\n",
              "      <button class=\"colab-df-convert\" onclick=\"convertToInteractive('df-af39c8b5-4e84-443c-a747-bc600f4e6371')\"\n",
              "              title=\"Convert this dataframe to an interactive table.\"\n",
              "              style=\"display:none;\">\n",
              "        \n",
              "  <svg xmlns=\"http://www.w3.org/2000/svg\" height=\"24px\"viewBox=\"0 0 24 24\"\n",
              "       width=\"24px\">\n",
              "    <path d=\"M0 0h24v24H0V0z\" fill=\"none\"/>\n",
              "    <path d=\"M18.56 5.44l.94 2.06.94-2.06 2.06-.94-2.06-.94-.94-2.06-.94 2.06-2.06.94zm-11 1L8.5 8.5l.94-2.06 2.06-.94-2.06-.94L8.5 2.5l-.94 2.06-2.06.94zm10 10l.94 2.06.94-2.06 2.06-.94-2.06-.94-.94-2.06-.94 2.06-2.06.94z\"/><path d=\"M17.41 7.96l-1.37-1.37c-.4-.4-.92-.59-1.43-.59-.52 0-1.04.2-1.43.59L10.3 9.45l-7.72 7.72c-.78.78-.78 2.05 0 2.83L4 21.41c.39.39.9.59 1.41.59.51 0 1.02-.2 1.41-.59l7.78-7.78 2.81-2.81c.8-.78.8-2.07 0-2.86zM5.41 20L4 18.59l7.72-7.72 1.47 1.35L5.41 20z\"/>\n",
              "  </svg>\n",
              "      </button>\n",
              "      \n",
              "  <style>\n",
              "    .colab-df-container {\n",
              "      display:flex;\n",
              "      flex-wrap:wrap;\n",
              "      gap: 12px;\n",
              "    }\n",
              "\n",
              "    .colab-df-convert {\n",
              "      background-color: #E8F0FE;\n",
              "      border: none;\n",
              "      border-radius: 50%;\n",
              "      cursor: pointer;\n",
              "      display: none;\n",
              "      fill: #1967D2;\n",
              "      height: 32px;\n",
              "      padding: 0 0 0 0;\n",
              "      width: 32px;\n",
              "    }\n",
              "\n",
              "    .colab-df-convert:hover {\n",
              "      background-color: #E2EBFA;\n",
              "      box-shadow: 0px 1px 2px rgba(60, 64, 67, 0.3), 0px 1px 3px 1px rgba(60, 64, 67, 0.15);\n",
              "      fill: #174EA6;\n",
              "    }\n",
              "\n",
              "    [theme=dark] .colab-df-convert {\n",
              "      background-color: #3B4455;\n",
              "      fill: #D2E3FC;\n",
              "    }\n",
              "\n",
              "    [theme=dark] .colab-df-convert:hover {\n",
              "      background-color: #434B5C;\n",
              "      box-shadow: 0px 1px 3px 1px rgba(0, 0, 0, 0.15);\n",
              "      filter: drop-shadow(0px 1px 2px rgba(0, 0, 0, 0.3));\n",
              "      fill: #FFFFFF;\n",
              "    }\n",
              "  </style>\n",
              "\n",
              "      <script>\n",
              "        const buttonEl =\n",
              "          document.querySelector('#df-af39c8b5-4e84-443c-a747-bc600f4e6371 button.colab-df-convert');\n",
              "        buttonEl.style.display =\n",
              "          google.colab.kernel.accessAllowed ? 'block' : 'none';\n",
              "\n",
              "        async function convertToInteractive(key) {\n",
              "          const element = document.querySelector('#df-af39c8b5-4e84-443c-a747-bc600f4e6371');\n",
              "          const dataTable =\n",
              "            await google.colab.kernel.invokeFunction('convertToInteractive',\n",
              "                                                     [key], {});\n",
              "          if (!dataTable) return;\n",
              "\n",
              "          const docLinkHtml = 'Like what you see? Visit the ' +\n",
              "            '<a target=\"_blank\" href=https://colab.research.google.com/notebooks/data_table.ipynb>data table notebook</a>'\n",
              "            + ' to learn more about interactive tables.';\n",
              "          element.innerHTML = '';\n",
              "          dataTable['output_type'] = 'display_data';\n",
              "          await google.colab.output.renderOutput(dataTable, element);\n",
              "          const docLink = document.createElement('div');\n",
              "          docLink.innerHTML = docLinkHtml;\n",
              "          element.appendChild(docLink);\n",
              "        }\n",
              "      </script>\n",
              "    </div>\n",
              "  </div>\n",
              "  "
            ]
          },
          "metadata": {},
          "execution_count": 1754
        }
      ]
    },
    {
      "cell_type": "code",
      "source": [
        "import seaborn as sns\n",
        "sns.heatmap(data_transformed.corr(),vmin=-1, vmax=1, annot=True); "
      ],
      "metadata": {
        "colab": {
          "base_uri": "https://localhost:8080/",
          "height": 345
        },
        "id": "mtROyQ19xEMs",
        "outputId": "fa9edab7-5345-4d87-dae7-8262e3c14449"
      },
      "execution_count": 1755,
      "outputs": [
        {
          "output_type": "display_data",
          "data": {
            "text/plain": [
              "<Figure size 432x288 with 2 Axes>"
            ],
            "image/png": "[encoded data removed]"
          },
          "metadata": {
            "needs_background": "light"
          }
        }
      ]
    },
    {
      "cell_type": "markdown",
      "source": [
        "A partir de los datos anteriores, obtener los autovalores (eigenvalues) y los \n",
        "autovectores (eigenvectors). Para eso aplicamos a dicha matriz (data) el método linalg.eig también de numpy"
      ],
      "metadata": {
        "id": "cfX12cgq21o2"
      }
    },
    {
      "cell_type": "code",
      "source": [
        "Autovalores, Autovectores = np.linalg.eig(data_corr)\n",
        "print(\"Autovalores: \", Autovalores)\n",
        "print(\"Autovectores: \", Autovectores)\n"
      ],
      "metadata": {
        "colab": {
          "base_uri": "https://localhost:8080/"
        },
        "id": "TT_tkjnu22CK",
        "outputId": "04a4523c-9de2-4a25-c14a-a3a944769f5a"
      },
      "execution_count": 1756,
      "outputs": [
        {
          "output_type": "stream",
          "name": "stdout",
          "text": [
            "Autovalores:  [2.49848047 1.4731284  0.15599543 0.45086785 0.67974537 0.74178248]\n",
            "Autovectores:  [[ 0.45454125  0.15847313  0.37672419 -0.07820604  0.78451794  0.06908557]\n",
            " [ 0.45072878 -0.25198079 -0.491921    0.1067326  -0.02435867  0.69237113]\n",
            " [ 0.31882326 -0.63200759  0.5475605   0.33202671 -0.277256   -0.10946693]\n",
            " [ 0.42331653  0.38227978 -0.30437481  0.61163075 -0.07575687 -0.4496554 ]\n",
            " [ 0.48098891 -0.16852151 -0.23006595 -0.68447289 -0.16380914 -0.43815894]\n",
            " [ 0.27935701  0.58087953  0.41315342 -0.17220602 -0.52392254  0.33119957]]\n"
          ]
        }
      ]
    },
    {
      "cell_type": "code",
      "source": [
        "Autovalores_Ordenados=np.sort(Autovalores)#, ascending=False)\n",
        "print(\"Autovalores ordenados: \", Autovalores_Ordenados)"
      ],
      "metadata": {
        "colab": {
          "base_uri": "https://localhost:8080/"
        },
        "id": "7QLdubsPxhTi",
        "outputId": "ccb239bf-0b11-4174-f588-06ef67ddbe87"
      },
      "execution_count": 1757,
      "outputs": [
        {
          "output_type": "stream",
          "name": "stdout",
          "text": [
            "Autovalores ordenados:  [0.15599543 0.45086785 0.67974537 0.74178248 1.4731284  2.49848047]\n"
          ]
        }
      ]
    },
    {
      "cell_type": "markdown",
      "source": [
        "Obten un DataFrame con el \n",
        "porcentaje de varianza y el acumulado por cada componente. "
      ],
      "metadata": {
        "id": "yY_Un7Z1z7KX"
      }
    },
    {
      "cell_type": "code",
      "source": [
        "Porcentaje_De_Varianza=(Autovalores_Ordenados*100)/len(Autovalores_Ordenados)\n",
        "print(Porcentaje_De_Varianza)\n",
        "i=1\n",
        "Porcentaje_Acumulado=0\n",
        "\n",
        "for i in range(len(Porcentaje_De_Varianza)):\n",
        "  Porcentaje_Acumulado=Porcentaje_Acumulado+Porcentaje_De_Varianza[i]\n",
        "  print(Porcentaje_Acumulado, end=\" \")\n",
        "  #Porc_Def=np.array(Porcentaje_Acumulado)\n",
        "\n"
      ],
      "metadata": {
        "colab": {
          "base_uri": "https://localhost:8080/"
        },
        "id": "CUJyXmpm-Cbn",
        "outputId": "4aa84487-5cb7-4dae-e6f6-aa2c0d7f1eb5"
      },
      "execution_count": 1758,
      "outputs": [
        {
          "output_type": "stream",
          "name": "stdout",
          "text": [
            "[ 2.59992386  7.51446419 11.32908958 12.36304127 24.55213995 41.64134115]\n",
            "2.599923855910314 10.11438804626266 21.443477624268315 33.8065188972089 58.358658848610816 100.00000000000003 "
          ]
        }
      ]
    },
    {
      "cell_type": "markdown",
      "source": [
        "¿Cuánto \n",
        "información perdemos con 2 componentes?\n",
        "\n",
        "33.81% (100-66.19)%"
      ],
      "metadata": {
        "id": "FajSAzTv6a0K"
      }
    },
    {
      "cell_type": "markdown",
      "source": [
        "¿Cuánta información representamos con 3 componentes? \n",
        "\n",
        "68.79%"
      ],
      "metadata": {
        "id": "UqO-rTNa7qLg"
      }
    },
    {
      "cell_type": "markdown",
      "source": [
        "Representar gráficamente los individuos de nuestro dataset, pero usando los \n",
        "valores  de  las  componentes  principales  obtenidas.   (PCA)\n"
      ],
      "metadata": {
        "id": "FADZYum34hEP"
      }
    },
    {
      "cell_type": "code",
      "source": [
        "import pandas as pd\n",
        "import numpy as np\n",
        "from sklearn.decomposition import PCA\n",
        "\n",
        "df = pd.DataFrame(data=np.random.normal(0, 1, (20, 10)))\n",
        "\n",
        "pca = PCA(n_components=5)\n",
        "pca.fit(df)"
      ],
      "metadata": {
        "colab": {
          "base_uri": "https://localhost:8080/"
        },
        "id": "tWbzkW3d49B1",
        "outputId": "f40889a8-7d4b-4641-9cc2-e1bc77989d0e"
      },
      "execution_count": 1759,
      "outputs": [
        {
          "output_type": "execute_result",
          "data": {
            "text/plain": [
              "PCA(n_components=5)"
            ]
          },
          "metadata": {},
          "execution_count": 1759
        }
      ]
    },
    {
      "cell_type": "code",
      "source": [
        "#pca.components_\n",
        "componentes = pd.DataFrame(pca.components_)\n",
        "componentes\n",
        "\n",
        "#columns=['PC%s' % _ for _ in range(len(componentes.columns))])\n",
        "#index=data.columns\n"
      ],
      "metadata": {
        "colab": {
          "base_uri": "https://localhost:8080/",
          "height": 250
        },
        "id": "I0QN-7Dx7H74",
        "outputId": "35f85645-1b4e-4534-b406-73fc8a9cda53"
      },
      "execution_count": 1760,
      "outputs": [
        {
          "output_type": "execute_result",
          "data": {
            "text/plain": [
              "          0         1         2         3         4         5         6  \\\n",
              "0 -0.020890 -0.050089 -0.574436 -0.140803  0.049476 -0.315679 -0.018699   \n",
              "1 -0.232605 -0.078779  0.127133 -0.010313  0.058700 -0.793812  0.168357   \n",
              "2  0.349696  0.150273  0.091686  0.231427 -0.542077 -0.334766  0.143253   \n",
              "3  0.287142 -0.318419 -0.327236  0.427808 -0.047077  0.005707 -0.596879   \n",
              "4  0.415618 -0.201744  0.294707  0.126832  0.702041 -0.240287 -0.044175   \n",
              "\n",
              "          7         8         9  \n",
              "0 -0.736071  0.017288  0.051991  \n",
              "1  0.282855  0.307949  0.294369  \n",
              "2 -0.041243 -0.599474  0.075225  \n",
              "3  0.222170  0.124465  0.320454  \n",
              "4 -0.123338 -0.246282 -0.234956  "
            ],
            "text/html": [
              "\n",
              "  <div id=\"df-65ad6159-abeb-4ba2-b3cf-1df22d6a9ee7\">\n",
              "    <div class=\"colab-df-container\">\n",
              "      <div>\n",
              "<style scoped>\n",
              "    .dataframe tbody tr th:only-of-type {\n",
              "        vertical-align: middle;\n",
              "    }\n",
              "\n",
              "    .dataframe tbody tr th {\n",
              "        vertical-align: top;\n",
              "    }\n",
              "\n",
              "    .dataframe thead th {\n",
              "        text-align: right;\n",
              "    }\n",
              "</style>\n",
              "<table border=\"1\" class=\"dataframe\">\n",
              "  <thead>\n",
              "    <tr style=\"text-align: right;\">\n",
              "      <th></th>\n",
              "      <th>0</th>\n",
              "      <th>1</th>\n",
              "      <th>2</th>\n",
              "      <th>3</th>\n",
              "      <th>4</th>\n",
              "      <th>5</th>\n",
              "      <th>6</th>\n",
              "      <th>7</th>\n",
              "      <th>8</th>\n",
              "      <th>9</th>\n",
              "    </tr>\n",
              "  </thead>\n",
              "  <tbody>\n",
              "    <tr>\n",
              "      <th>0</th>\n",
              "      <td>-0.020890</td>\n",
              "      <td>-0.050089</td>\n",
              "      <td>-0.574436</td>\n",
              "      <td>-0.140803</td>\n",
              "      <td>0.049476</td>\n",
              "      <td>-0.315679</td>\n",
              "      <td>-0.018699</td>\n",
              "      <td>-0.736071</td>\n",
              "      <td>0.017288</td>\n",
              "      <td>0.051991</td>\n",
              "    </tr>\n",
              "    <tr>\n",
              "      <th>1</th>\n",
              "      <td>-0.232605</td>\n",
              "      <td>-0.078779</td>\n",
              "      <td>0.127133</td>\n",
              "      <td>-0.010313</td>\n",
              "      <td>0.058700</td>\n",
              "      <td>-0.793812</td>\n",
              "      <td>0.168357</td>\n",
              "      <td>0.282855</td>\n",
              "      <td>0.307949</td>\n",
              "      <td>0.294369</td>\n",
              "    </tr>\n",
              "    <tr>\n",
              "      <th>2</th>\n",
              "      <td>0.349696</td>\n",
              "      <td>0.150273</td>\n",
              "      <td>0.091686</td>\n",
              "      <td>0.231427</td>\n",
              "      <td>-0.542077</td>\n",
              "      <td>-0.334766</td>\n",
              "      <td>0.143253</td>\n",
              "      <td>-0.041243</td>\n",
              "      <td>-0.599474</td>\n",
              "      <td>0.075225</td>\n",
              "    </tr>\n",
              "    <tr>\n",
              "      <th>3</th>\n",
              "      <td>0.287142</td>\n",
              "      <td>-0.318419</td>\n",
              "      <td>-0.327236</td>\n",
              "      <td>0.427808</td>\n",
              "      <td>-0.047077</td>\n",
              "      <td>0.005707</td>\n",
              "      <td>-0.596879</td>\n",
              "      <td>0.222170</td>\n",
              "      <td>0.124465</td>\n",
              "      <td>0.320454</td>\n",
              "    </tr>\n",
              "    <tr>\n",
              "      <th>4</th>\n",
              "      <td>0.415618</td>\n",
              "      <td>-0.201744</td>\n",
              "      <td>0.294707</td>\n",
              "      <td>0.126832</td>\n",
              "      <td>0.702041</td>\n",
              "      <td>-0.240287</td>\n",
              "      <td>-0.044175</td>\n",
              "      <td>-0.123338</td>\n",
              "      <td>-0.246282</td>\n",
              "      <td>-0.234956</td>\n",
              "    </tr>\n",
              "  </tbody>\n",
              "</table>\n",
              "</div>\n",
              "      <button class=\"colab-df-convert\" onclick=\"convertToInteractive('df-65ad6159-abeb-4ba2-b3cf-1df22d6a9ee7')\"\n",
              "              title=\"Convert this dataframe to an interactive table.\"\n",
              "              style=\"display:none;\">\n",
              "        \n",
              "  <svg xmlns=\"http://www.w3.org/2000/svg\" height=\"24px\"viewBox=\"0 0 24 24\"\n",
              "       width=\"24px\">\n",
              "    <path d=\"M0 0h24v24H0V0z\" fill=\"none\"/>\n",
              "    <path d=\"M18.56 5.44l.94 2.06.94-2.06 2.06-.94-2.06-.94-.94-2.06-.94 2.06-2.06.94zm-11 1L8.5 8.5l.94-2.06 2.06-.94-2.06-.94L8.5 2.5l-.94 2.06-2.06.94zm10 10l.94 2.06.94-2.06 2.06-.94-2.06-.94-.94-2.06-.94 2.06-2.06.94z\"/><path d=\"M17.41 7.96l-1.37-1.37c-.4-.4-.92-.59-1.43-.59-.52 0-1.04.2-1.43.59L10.3 9.45l-7.72 7.72c-.78.78-.78 2.05 0 2.83L4 21.41c.39.39.9.59 1.41.59.51 0 1.02-.2 1.41-.59l7.78-7.78 2.81-2.81c.8-.78.8-2.07 0-2.86zM5.41 20L4 18.59l7.72-7.72 1.47 1.35L5.41 20z\"/>\n",
              "  </svg>\n",
              "      </button>\n",
              "      \n",
              "  <style>\n",
              "    .colab-df-container {\n",
              "      display:flex;\n",
              "      flex-wrap:wrap;\n",
              "      gap: 12px;\n",
              "    }\n",
              "\n",
              "    .colab-df-convert {\n",
              "      background-color: #E8F0FE;\n",
              "      border: none;\n",
              "      border-radius: 50%;\n",
              "      cursor: pointer;\n",
              "      display: none;\n",
              "      fill: #1967D2;\n",
              "      height: 32px;\n",
              "      padding: 0 0 0 0;\n",
              "      width: 32px;\n",
              "    }\n",
              "\n",
              "    .colab-df-convert:hover {\n",
              "      background-color: #E2EBFA;\n",
              "      box-shadow: 0px 1px 2px rgba(60, 64, 67, 0.3), 0px 1px 3px 1px rgba(60, 64, 67, 0.15);\n",
              "      fill: #174EA6;\n",
              "    }\n",
              "\n",
              "    [theme=dark] .colab-df-convert {\n",
              "      background-color: #3B4455;\n",
              "      fill: #D2E3FC;\n",
              "    }\n",
              "\n",
              "    [theme=dark] .colab-df-convert:hover {\n",
              "      background-color: #434B5C;\n",
              "      box-shadow: 0px 1px 3px 1px rgba(0, 0, 0, 0.15);\n",
              "      filter: drop-shadow(0px 1px 2px rgba(0, 0, 0, 0.3));\n",
              "      fill: #FFFFFF;\n",
              "    }\n",
              "  </style>\n",
              "\n",
              "      <script>\n",
              "        const buttonEl =\n",
              "          document.querySelector('#df-65ad6159-abeb-4ba2-b3cf-1df22d6a9ee7 button.colab-df-convert');\n",
              "        buttonEl.style.display =\n",
              "          google.colab.kernel.accessAllowed ? 'block' : 'none';\n",
              "\n",
              "        async function convertToInteractive(key) {\n",
              "          const element = document.querySelector('#df-65ad6159-abeb-4ba2-b3cf-1df22d6a9ee7');\n",
              "          const dataTable =\n",
              "            await google.colab.kernel.invokeFunction('convertToInteractive',\n",
              "                                                     [key], {});\n",
              "          if (!dataTable) return;\n",
              "\n",
              "          const docLinkHtml = 'Like what you see? Visit the ' +\n",
              "            '<a target=\"_blank\" href=https://colab.research.google.com/notebooks/data_table.ipynb>data table notebook</a>'\n",
              "            + ' to learn more about interactive tables.';\n",
              "          element.innerHTML = '';\n",
              "          dataTable['output_type'] = 'display_data';\n",
              "          await google.colab.output.renderOutput(dataTable, element);\n",
              "          const docLink = document.createElement('div');\n",
              "          docLink.innerHTML = docLinkHtml;\n",
              "          element.appendChild(docLink);\n",
              "        }\n",
              "      </script>\n",
              "    </div>\n",
              "  </div>\n",
              "  "
            ]
          },
          "metadata": {},
          "execution_count": 1760
        }
      ]
    },
    {
      "cell_type": "markdown",
      "source": [
        "Obtén  un  diagrama  de  dispersión  en  2  dimensiones  y \n",
        "comenta que  has interpretado en él. \n",
        "\n",
        "Es  necesario que  el diagrama contenga toda la información necesaria. \n",
        "\n",
        "Habrá que interpretar que información proporciona el eje X y el eje Y. \n",
        "\n",
        "EJE X ---> COMPONENTES\n",
        "\n",
        "EJE Y ---> VARIANZA EXPLICADA"
      ],
      "metadata": {
        "id": "5jXR4J9dAn--"
      }
    },
    {
      "cell_type": "code",
      "source": [
        "import matplotlib.pyplot as plot\n",
        "\n",
        "plot.plot(pca.explained_variance_ratio_)\n",
        "plot.ylabel('Explained Variance')\n",
        "plot.xlabel('Components')\n",
        "plot.show()"
      ],
      "metadata": {
        "colab": {
          "base_uri": "https://localhost:8080/",
          "height": 279
        },
        "id": "qV9AQ1tzCUIM",
        "outputId": "264ae1ec-a3a2-4862-a660-f508bb3b115b"
      },
      "execution_count": 1761,
      "outputs": [
        {
          "output_type": "display_data",
          "data": {
            "text/plain": [
              "<Figure size 432x288 with 1 Axes>"
            ],
            "image/png": "[encoded data removed]"
          },
          "metadata": {
            "needs_background": "light"
          }
        }
      ]
    },
    {
      "cell_type": "markdown",
      "source": [
        "Por último, elegir al menos 4 individuos \n",
        "y explicar qué pasa con ellos. "
      ],
      "metadata": {
        "id": "FgdtvQfP4ndD"
      }
    },
    {
      "cell_type": "code",
      "source": [],
      "metadata": {
        "id": "P3AZtALa2LtV"
      },
      "execution_count": 1761,
      "outputs": []
    }
  ]
}